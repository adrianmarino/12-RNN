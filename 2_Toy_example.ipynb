{
 "cells": [
  {
   "cell_type": "code",
   "execution_count": 1,
   "metadata": {},
   "outputs": [
    {
     "name": "stderr",
     "output_type": "stream",
     "text": [
      "Using TensorFlow backend.\n"
     ]
    }
   ],
   "source": [
    "%load_ext autoreload\n",
    "%autoreload 2\n",
    "import numpy as np\n",
    "import sys \n",
    "# sys.path.append(\"/Users/julianganzabal/facultad/lab-ml/mllab-tools\")\n",
    "from RNN_utils import example_to_io_pairs, to_one_hot_vector, sample, example_to_io, show_results\n",
    "from fnn_helper import PlotLosses"
   ]
  },
  {
   "cell_type": "markdown",
   "metadata": {},
   "source": [
    "# Formas diferentes de entrenar una RNN con el mismo dataset"
   ]
  },
  {
   "cell_type": "markdown",
   "metadata": {},
   "source": [
    "## Objetivos:"
   ]
  },
  {
   "cell_type": "markdown",
   "metadata": {},
   "source": [
    "Comprender los siguientes conceptos:\n",
    "- Diferencias entre MLP (con features igual a timesteps) y RNN\n",
    "- Stateful vs stateles en Keras\n",
    "- Mini-Batch traininig vs SGD training\n",
    "- Los pesos se actualizan en el backward mientras que el estado de la RNN cambia con cada timestep en el forward\n",
    "- Padding\n",
    "- Masking"
   ]
  },
  {
   "cell_type": "markdown",
   "metadata": {},
   "source": [
    "## Selección de dataset (frase) y preformateo"
   ]
  },
  {
   "cell_type": "markdown",
   "metadata": {},
   "source": [
    "# IMPORTANTE: En estos ejemplos la idea no es generalizar si no ajustarse lo mejor posible al training"
   ]
  },
  {
   "cell_type": "markdown",
   "metadata": {},
   "source": [
    "### Elegimos una frase que tenga una letras repetidas"
   ]
  },
  {
   "cell_type": "code",
   "execution_count": 2,
   "metadata": {
    "collapsed": true
   },
   "outputs": [],
   "source": [
    "text=\"MACHINE LEARNING\""
   ]
  },
  {
   "cell_type": "code",
   "execution_count": 3,
   "metadata": {},
   "outputs": [
    {
     "name": "stdout",
     "output_type": "stream",
     "text": [
      "Caracteres distintos:  [' ', 'A', 'C', 'E', 'G', 'H', 'I', 'L', 'M', 'N', 'R']\n"
     ]
    }
   ],
   "source": [
    "chars = sorted(set(text))\n",
    "print('Caracteres distintos: ', chars)"
   ]
  },
  {
   "cell_type": "code",
   "execution_count": 4,
   "metadata": {},
   "outputs": [],
   "source": [
    "chars_to_indices = dict((c, i) for i, c in enumerate(chars))  # map each unique character to unique integer\n",
    "indices_to_chars = dict((i, c) for i, c in enumerate(chars))"
   ]
  },
  {
   "cell_type": "code",
   "execution_count": 5,
   "metadata": {},
   "outputs": [
    {
     "data": {
      "text/plain": [
       "{' ': 0,\n",
       " 'A': 1,\n",
       " 'C': 2,\n",
       " 'E': 3,\n",
       " 'G': 4,\n",
       " 'H': 5,\n",
       " 'I': 6,\n",
       " 'L': 7,\n",
       " 'M': 8,\n",
       " 'N': 9,\n",
       " 'R': 10}"
      ]
     },
     "execution_count": 5,
     "metadata": {},
     "output_type": "execute_result"
    }
   ],
   "source": [
    "chars_to_indices"
   ]
  },
  {
   "cell_type": "code",
   "execution_count": 6,
   "metadata": {},
   "outputs": [
    {
     "data": {
      "text/plain": [
       "{0: ' ',\n",
       " 1: 'A',\n",
       " 2: 'C',\n",
       " 3: 'E',\n",
       " 4: 'G',\n",
       " 5: 'H',\n",
       " 6: 'I',\n",
       " 7: 'L',\n",
       " 8: 'M',\n",
       " 9: 'N',\n",
       " 10: 'R'}"
      ]
     },
     "execution_count": 6,
     "metadata": {},
     "output_type": "execute_result"
    }
   ],
   "source": [
    "indices_to_chars"
   ]
  },
  {
   "cell_type": "markdown",
   "metadata": {},
   "source": [
    "### Texto a One-hot"
   ]
  },
  {
   "cell_type": "code",
   "execution_count": 7,
   "metadata": {},
   "outputs": [
    {
     "name": "stdout",
     "output_type": "stream",
     "text": [
      "Vector:  [[[0 0 0 0 0 0 0 0 1 0 0]\n",
      "  [0 1 0 0 0 0 0 0 0 0 0]\n",
      "  [0 0 1 0 0 0 0 0 0 0 0]\n",
      "  [0 0 0 0 0 1 0 0 0 0 0]\n",
      "  [0 0 0 0 0 0 1 0 0 0 0]\n",
      "  [0 0 0 0 0 0 0 0 0 1 0]\n",
      "  [0 0 0 1 0 0 0 0 0 0 0]\n",
      "  [1 0 0 0 0 0 0 0 0 0 0]\n",
      "  [0 0 0 0 0 0 0 1 0 0 0]\n",
      "  [0 0 0 1 0 0 0 0 0 0 0]\n",
      "  [0 1 0 0 0 0 0 0 0 0 0]\n",
      "  [0 0 0 0 0 0 0 0 0 0 1]\n",
      "  [0 0 0 0 0 0 0 0 0 1 0]\n",
      "  [0 0 0 0 0 0 1 0 0 0 0]\n",
      "  [0 0 0 0 0 0 0 0 0 1 0]\n",
      "  [0 0 0 0 1 0 0 0 0 0 0]]] \n",
      "Shape:  (1, 16, 11)\n"
     ]
    }
   ],
   "source": [
    "window_size=1\n",
    "one_hot_text = to_one_hot_vector(\n",
    "    example=text, \n",
    "    possible_elements=chars, \n",
    "    element_to_indices=chars_to_indices, \n",
    "    window_size=window_size\n",
    ")\n",
    "print('Vector: ' , one_hot_text, '\\nShape: ', one_hot_text.shape)"
   ]
  },
  {
   "cell_type": "markdown",
   "metadata": {},
   "source": [
    "### One-hot a caracter"
   ]
  },
  {
   "cell_type": "code",
   "execution_count": 8,
   "metadata": {},
   "outputs": [
    {
     "data": {
      "text/plain": [
       "['M',\n",
       " 'A',\n",
       " 'C',\n",
       " 'H',\n",
       " 'I',\n",
       " 'N',\n",
       " 'E',\n",
       " ' ',\n",
       " 'L',\n",
       " 'E',\n",
       " 'A',\n",
       " 'R',\n",
       " 'N',\n",
       " 'I',\n",
       " 'N',\n",
       " 'G']"
      ]
     },
     "execution_count": 8,
     "metadata": {},
     "output_type": "execute_result"
    }
   ],
   "source": [
    "[indices_to_chars[np.argmax(one_hot_text[0][i])] for i in range(len(text))]"
   ]
  },
  {
   "cell_type": "markdown",
   "metadata": {},
   "source": [
    "## Ejemplo 1: T = 1\n",
    "En este ejemplo usaremos una RNN pero como una simple vanilla network (MLP)"
   ]
  },
  {
   "cell_type": "markdown",
   "metadata": {},
   "source": [
    "### Preparo entrada/salida:  "
   ]
  },
  {
   "cell_type": "code",
   "execution_count": 9,
   "metadata": {},
   "outputs": [
    {
     "data": {
      "text/plain": [
       "(['M', 'A', 'C', 'H', 'I', 'N', 'E', ' ', 'L', 'E', 'A', 'R', 'N', 'I', 'N'],\n",
       " ['A', 'C', 'H', 'I', 'N', 'E', ' ', 'L', 'E', 'A', 'R', 'N', 'I', 'N', 'G'])"
      ]
     },
     "execution_count": 9,
     "metadata": {},
     "output_type": "execute_result"
    }
   ],
   "source": [
    "example_to_io(text, input_window_size=1, input_step_size=1)"
   ]
  },
  {
   "cell_type": "code",
   "execution_count": 10,
   "metadata": {
    "collapsed": true
   },
   "outputs": [],
   "source": [
    "window_size = 1\n",
    "step_size = 1\n",
    "\n",
    "# encode_io_pairs llama a window_transform_text y despues codifica en one-hot\n",
    "X, y = example_to_io_pairs(text, chars, window_size, step_size)"
   ]
  },
  {
   "cell_type": "code",
   "execution_count": 11,
   "metadata": {},
   "outputs": [
    {
     "name": "stdout",
     "output_type": "stream",
     "text": [
      "X: (15, 1, 11) y: (15, 11)\n"
     ]
    }
   ],
   "source": [
    "print('X:', X.shape, 'y:', y.shape)"
   ]
  },
  {
   "cell_type": "code",
   "execution_count": 12,
   "metadata": {},
   "outputs": [
    {
     "name": "stdout",
     "output_type": "stream",
     "text": [
      "N:  15\n",
      "T:  1\n",
      "D:  11\n"
     ]
    }
   ],
   "source": [
    "print('N: ', X.shape[0])\n",
    "print('T: ', X.shape[1])\n",
    "print('D: ', X.shape[2])"
   ]
  },
  {
   "cell_type": "code",
   "execution_count": 13,
   "metadata": {},
   "outputs": [
    {
     "name": "stdout",
     "output_type": "stream",
     "text": [
      "[[0 0 0 0 0 0 0 0 1 0 0]] M\n",
      "[[0 1 0 0 0 0 0 0 0 0 0]] A\n",
      "[[0 0 1 0 0 0 0 0 0 0 0]] C\n",
      "[[0 0 0 0 0 1 0 0 0 0 0]] H\n",
      "[[0 0 0 0 0 0 1 0 0 0 0]] I\n",
      "[[0 0 0 0 0 0 0 0 0 1 0]] N\n",
      "[[0 0 0 1 0 0 0 0 0 0 0]] E\n",
      "[[1 0 0 0 0 0 0 0 0 0 0]]  \n",
      "[[0 0 0 0 0 0 0 1 0 0 0]] L\n",
      "[[0 0 0 1 0 0 0 0 0 0 0]] E\n",
      "[[0 1 0 0 0 0 0 0 0 0 0]] A\n",
      "[[0 0 0 0 0 0 0 0 0 0 1]] R\n",
      "[[0 0 0 0 0 0 0 0 0 1 0]] N\n",
      "[[0 0 0 0 0 0 1 0 0 0 0]] I\n",
      "[[0 0 0 0 0 0 0 0 0 1 0]] N\n"
     ]
    }
   ],
   "source": [
    "for xi in X: print(xi, indices_to_chars[np.argmax(xi)])"
   ]
  },
  {
   "cell_type": "code",
   "execution_count": 14,
   "metadata": {},
   "outputs": [
    {
     "name": "stdout",
     "output_type": "stream",
     "text": [
      "[0 1 0 0 0 0 0 0 0 0 0] A\n",
      "[0 0 1 0 0 0 0 0 0 0 0] C\n",
      "[0 0 0 0 0 1 0 0 0 0 0] H\n",
      "[0 0 0 0 0 0 1 0 0 0 0] I\n",
      "[0 0 0 0 0 0 0 0 0 1 0] N\n",
      "[0 0 0 1 0 0 0 0 0 0 0] E\n",
      "[1 0 0 0 0 0 0 0 0 0 0]  \n",
      "[0 0 0 0 0 0 0 1 0 0 0] L\n",
      "[0 0 0 1 0 0 0 0 0 0 0] E\n",
      "[0 1 0 0 0 0 0 0 0 0 0] A\n",
      "[0 0 0 0 0 0 0 0 0 0 1] R\n",
      "[0 0 0 0 0 0 0 0 0 1 0] N\n",
      "[0 0 0 0 0 0 1 0 0 0 0] I\n",
      "[0 0 0 0 0 0 0 0 0 1 0] N\n",
      "[0 0 0 0 1 0 0 0 0 0 0] G\n"
     ]
    }
   ],
   "source": [
    "for yi in y: print(yi, indices_to_chars[np.argmax(yi)])"
   ]
  },
  {
   "cell_type": "markdown",
   "metadata": {},
   "source": [
    "Notar que la salida es el siguiente caracter al de la entrada\n",
    "\n",
    "Esto es equivalente a un MLP"
   ]
  },
  {
   "cell_type": "markdown",
   "metadata": {},
   "source": [
    "### Armo modelo RNN"
   ]
  },
  {
   "cell_type": "code",
   "execution_count": 15,
   "metadata": {
    "collapsed": true
   },
   "outputs": [],
   "source": [
    "from keras.layers import SimpleRNN, Dense\n",
    "from keras.models import Sequential"
   ]
  },
  {
   "cell_type": "code",
   "execution_count": 16,
   "metadata": {},
   "outputs": [
    {
     "name": "stdout",
     "output_type": "stream",
     "text": [
      "_________________________________________________________________\n",
      "Layer (type)                 Output Shape              Param #   \n",
      "=================================================================\n",
      "simple_rnn_1 (SimpleRNN)     (None, 10)                220       \n",
      "_________________________________________________________________\n",
      "dense_1 (Dense)              (None, 11)                121       \n",
      "=================================================================\n",
      "Total params: 341\n",
      "Trainable params: 341\n",
      "Non-trainable params: 0\n",
      "_________________________________________________________________\n"
     ]
    }
   ],
   "source": [
    "sequence_len=len(chars)\n",
    "rnn_neurons=10\n",
    "dense_neurons=sequence_len\n",
    "input_shape=(window_size, sequence_len)\n",
    "\n",
    "model = Sequential()\n",
    "model.add(SimpleRNN(rnn_neurons, input_shape=input_shape))\n",
    "model.add(Dense(dense_neurons, activation=\"softmax\"))\n",
    "model.summary()"
   ]
  },
  {
   "cell_type": "markdown",
   "metadata": {},
   "source": [
    "### Entreno el modelo"
   ]
  },
  {
   "cell_type": "code",
   "execution_count": 17,
   "metadata": {},
   "outputs": [
    {
     "data": {
      "image/png": "[encoded data removed]",
      "text/plain": [
       "<Figure size 1440x360 with 2 Axes>"
      ]
     },
     "metadata": {
      "needs_background": "light"
     },
     "output_type": "display_data"
    },
    {
     "name": "stdout",
     "output_type": "stream",
     "text": [
      "Epoch 492/500\n",
      "15/15 [==============================] - 0s 3ms/step - loss: 0.4256 - acc: 0.6667\n",
      "Epoch 493/500\n",
      "15/15 [==============================] - 0s 3ms/step - loss: 0.4242 - acc: 0.7333\n",
      "Epoch 494/500\n",
      "15/15 [==============================] - 0s 3ms/step - loss: 0.4238 - acc: 0.7333\n",
      "Epoch 495/500\n",
      "15/15 [==============================] - 0s 3ms/step - loss: 0.4258 - acc: 0.6000\n",
      "Epoch 496/500\n",
      "15/15 [==============================] - 0s 3ms/step - loss: 0.4253 - acc: 0.6667\n",
      "Epoch 497/500\n",
      "15/15 [==============================] - 0s 3ms/step - loss: 0.4237 - acc: 0.7333\n",
      "Epoch 498/500\n",
      "15/15 [==============================] - 0s 3ms/step - loss: 0.4248 - acc: 0.6000\n",
      "Epoch 499/500\n",
      "15/15 [==============================] - 0s 3ms/step - loss: 0.4235 - acc: 0.6000\n",
      "Epoch 500/500\n",
      "15/15 [==============================] - 0s 3ms/step - loss: 0.4238 - acc: 0.6000\n"
     ]
    },
    {
     "data": {
      "text/plain": [
       "<keras.callbacks.History at 0x7f0c17cb3080>"
      ]
     },
     "execution_count": 17,
     "metadata": {},
     "output_type": "execute_result"
    }
   ],
   "source": [
    "model.compile(optimizer='adam', loss='categorical_crossentropy', metrics=['accuracy'])\n",
    "\n",
    "model.fit(\n",
    "    X,\n",
    "    y,\n",
    "    epochs=500,\n",
    "    batch_size=1,\n",
    "    verbose=1,\n",
    "    callbacks=[PlotLosses(plot_interval=10, evaluate_interval=None)]\n",
    ")"
   ]
  },
  {
   "cell_type": "markdown",
   "metadata": {},
   "source": [
    "Por que no llega al 100%? Que es lo que no puede predecir?\n",
    "\n",
    "**Re**: Creo que tiene que ver con que hay letras que tiene mas de un resultado posible y eso hace que no se llegue al 100% del accuracy."
   ]
  },
  {
   "cell_type": "markdown",
   "metadata": {},
   "source": [
    "### Predicción usando argmax (Greedy Search)"
   ]
  },
  {
   "cell_type": "code",
   "execution_count": 18,
   "metadata": {},
   "outputs": [
    {
     "name": "stdout",
     "output_type": "stream",
     "text": [
      "Input: M\n",
      "Predicted Char: A  (Probability: 97.84456491470337 %)\n"
     ]
    }
   ],
   "source": [
    "first_char = text[0]\n",
    "print('Input:' , first_char)\n",
    "\n",
    "one_hot_vector = to_one_hot_vector(\n",
    "    first_char, \n",
    "    chars, \n",
    "    chars_to_indices,\n",
    "    window_size\n",
    ")\n",
    "prediction = model.predict(one_hot_vector)\n",
    "\n",
    "print(\n",
    "    'Predicted Char:',\n",
    "    indices_to_chars[np.argmax(prediction)], \n",
    "    ' (Probability:', np.max(prediction) * 100, '%)'\n",
    ")"
   ]
  },
  {
   "cell_type": "code",
   "execution_count": 29,
   "metadata": {
    "collapsed": true
   },
   "outputs": [
    {
     "name": "stdout",
     "output_type": "stream",
     "text": [
      "MACHINE LEARNING\n",
      "[[[0 0 0 0 0 0 0 0 1 0 0]\n",
      "  [0 1 0 0 0 0 0 0 0 0 0]\n",
      "  [0 0 1 0 0 0 0 0 0 0 0]\n",
      "  [0 0 0 0 0 1 0 0 0 0 0]\n",
      "  [0 0 0 0 0 0 1 0 0 0 0]\n",
      "  [0 0 0 0 0 0 0 0 0 1 0]\n",
      "  [0 0 0 1 0 0 0 0 0 0 0]\n",
      "  [1 0 0 0 0 0 0 0 0 0 0]\n",
      "  [0 0 0 0 0 0 0 1 0 0 0]\n",
      "  [0 0 0 1 0 0 0 0 0 0 0]\n",
      "  [0 1 0 0 0 0 0 0 0 0 0]\n",
      "  [0 0 0 0 0 0 0 0 0 0 1]\n",
      "  [0 0 0 0 0 0 0 0 0 1 0]\n",
      "  [0 0 0 0 0 0 1 0 0 0 0]\n",
      "  [0 0 0 0 0 0 0 0 0 1 0]\n",
      "  [0 0 0 0 1 0 0 0 0 0 0]]]\n",
      "(1, 16, 11)\n"
     ]
    }
   ],
   "source": [
    "chars_to_predict = text\n",
    "print(chars_to_predict)\n",
    "\n",
    "# Los paso a one hot\n",
    "to_predict_1 = to_one_hot_vector(\n",
    "    chars_to_predict, \n",
    "    possible_elements=chars, \n",
    "    element_to_indices=chars_to_indices, \n",
    "    window_size=window_size\n",
    ")\n",
    "\n",
    "print(to_predict_1)\n",
    "print(to_predict_1.shape)"
   ]
  },
  {
   "cell_type": "code",
   "execution_count": 31,
   "metadata": {},
   "outputs": [
    {
     "name": "stdout",
     "output_type": "stream",
     "text": [
      "[[[0 0 0 0 0 0 0 0 1 0 0]]\n",
      "\n",
      " [[0 1 0 0 0 0 0 0 0 0 0]]\n",
      "\n",
      " [[0 0 1 0 0 0 0 0 0 0 0]]\n",
      "\n",
      " [[0 0 0 0 0 1 0 0 0 0 0]]\n",
      "\n",
      " [[0 0 0 0 0 0 1 0 0 0 0]]\n",
      "\n",
      " [[0 0 0 0 0 0 0 0 0 1 0]]\n",
      "\n",
      " [[0 0 0 1 0 0 0 0 0 0 0]]\n",
      "\n",
      " [[1 0 0 0 0 0 0 0 0 0 0]]\n",
      "\n",
      " [[0 0 0 0 0 0 0 1 0 0 0]]\n",
      "\n",
      " [[0 0 0 1 0 0 0 0 0 0 0]]\n",
      "\n",
      " [[0 1 0 0 0 0 0 0 0 0 0]]\n",
      "\n",
      " [[0 0 0 0 0 0 0 0 0 0 1]]\n",
      "\n",
      " [[0 0 0 0 0 0 0 0 0 1 0]]\n",
      "\n",
      " [[0 0 0 0 0 0 1 0 0 0 0]]\n",
      "\n",
      " [[0 0 0 0 0 0 0 0 0 1 0]]\n",
      "\n",
      " [[0 0 0 0 1 0 0 0 0 0 0]]]\n",
      "(16, 1, 11)\n"
     ]
    }
   ],
   "source": [
    "# Tengo que hacer reshape para darselo a la red\n",
    "to_predict_reshaped = to_predict_1.reshape(\n",
    "    to_predict_1.shape[1],\n",
    "    to_predict_1.shape[0],\n",
    "    to_predict_1.shape[2]\n",
    ")\n",
    "\n",
    "print(to_predict_reshaped)\n",
    "print(to_predict_reshaped.shape)"
   ]
  },
  {
   "cell_type": "code",
   "execution_count": 32,
   "metadata": {},
   "outputs": [],
   "source": [
    "predicted_1 = model.predict(to_predict_reshaped)"
   ]
  },
  {
   "cell_type": "markdown",
   "metadata": {},
   "source": [
    "### Matriz de transición"
   ]
  },
  {
   "cell_type": "code",
   "execution_count": 34,
   "metadata": {
    "collapsed": true
   },
   "outputs": [
    {
     "name": "stdout",
     "output_type": "stream",
     "text": [
      "(16, 11)\n",
      "\n",
      "   _    A    C    E    G    H    I    L    M    N    R    \n",
      "M [0.01 0.97 0.   0.   0.   0.   0.   0.   0.   0.   0.  ] A\n",
      "A [0.   0.   0.49 0.   0.   0.   0.   0.   0.   0.   0.48] C\n",
      "C [0.   0.   0.   0.   0.   0.99 0.   0.   0.   0.   0.  ] H\n",
      "H [0.   0.   0.   0.   0.01 0.   0.97 0.   0.   0.   0.  ] I\n",
      "I [0.   0.   0.   0.   0.   0.   0.   0.   0.   0.99 0.  ] N\n",
      "N [0.   0.   0.   0.33 0.31 0.   0.33 0.   0.   0.   0.  ] E\n",
      "E [0.48 0.49 0.   0.   0.   0.   0.   0.   0.   0.   0.  ] A\n",
      "  [0.   0.   0.   0.   0.   0.   0.   0.99 0.   0.   0.  ] L\n",
      "L [0.   0.   0.   0.97 0.   0.   0.   0.   0.   0.   0.  ] E\n",
      "E [0.48 0.49 0.   0.   0.   0.   0.   0.   0.   0.   0.  ] A\n",
      "A [0.   0.   0.49 0.   0.   0.   0.   0.   0.   0.   0.48] C\n",
      "R [0.   0.   0.   0.   0.   0.   0.   0.   0.   0.99 0.  ] N\n",
      "N [0.   0.   0.   0.33 0.31 0.   0.33 0.   0.   0.   0.  ] E\n",
      "I [0.   0.   0.   0.   0.   0.   0.   0.   0.   0.99 0.  ] N\n",
      "N [0.   0.   0.   0.33 0.31 0.   0.33 0.   0.   0.   0.  ] E\n",
      "G [0.22 0.1  0.02 0.1  0.3  0.05 0.08 0.03 0.   0.   0.04] G\n"
     ]
    }
   ],
   "source": [
    "show_results( \n",
    "    predicted_1, \n",
    "    chars_to_indices, \n",
    "    indices_to_chars,\n",
    "    lambda index: indices_to_chars[np.argmax(to_predict_1[:,index])]\n",
    ")"
   ]
  },
  {
   "cell_type": "markdown",
   "metadata": {},
   "source": [
    "¿Que pasa con la A, la E y la N cuando el texto es MACHINE LEARNING?"
   ]
  },
  {
   "cell_type": "markdown",
   "metadata": {},
   "source": [
    "* La 'A' tiene la misma probabilidad de preceder a la 'C' que a la 'R'\n",
    "* Con la 'E' sucede lo mismo que con la 'A' pero con los caracteres ' ' y 'A'\n",
    "* Con la  'N' idem.\n",
    "\n",
    "=> **Se puede apreciar que en los casos en que un character tiene mas de un resultado \n",
    "posible, estos ultimso son equiprobables**.\n",
    "\n",
    "Por otro lado, las probabilidades de la 'G' no tiene mucho sentido ya que es el ultimo caracter del texto y por eso tiene cualquier valor.\n"
   ]
  },
  {
   "cell_type": "markdown",
   "metadata": {},
   "source": [
    "## Ejemplo 2: T = 2"
   ]
  },
  {
   "cell_type": "markdown",
   "metadata": {},
   "source": [
    "### Preparo entrada/salida"
   ]
  },
  {
   "cell_type": "code",
   "execution_count": 35,
   "metadata": {
    "collapsed": true
   },
   "outputs": [
    {
     "name": "stdout",
     "output_type": "stream",
     "text": [
      "MA -> C\n",
      "AC -> H\n",
      "CH -> I\n",
      "HI -> N\n",
      "IN -> E\n",
      "NE ->  \n",
      "E  -> L\n",
      " L -> E\n",
      "LE -> A\n",
      "EA -> R\n",
      "AR -> N\n",
      "RN -> I\n",
      "NI -> N\n",
      "IN -> G\n"
     ]
    }
   ],
   "source": [
    "window_size = 2\n",
    "x_2_t, y_2_t = example_to_io(\n",
    "    example=text, \n",
    "    input_window_size=window_size, \n",
    "    input_step_size=step_size\n",
    ")\n",
    "\n",
    "for i, te in enumerate(x_2_t): print(te, '->' ,y_2_t[i])\n",
    "\n",
    "X_2, y_2 = example_to_io_pairs(\n",
    "    example=text, \n",
    "    possible_elements=chars, \n",
    "    input_window_size=window_size, \n",
    "    input_step_size=step_size\n",
    ")"
   ]
  },
  {
   "cell_type": "code",
   "execution_count": 36,
   "metadata": {},
   "outputs": [
    {
     "name": "stdout",
     "output_type": "stream",
     "text": [
      "(14, 2, 11) [[[0 0 0 0 0 0 0 0 1 0 0]\n",
      "  [0 1 0 0 0 0 0 0 0 0 0]]\n",
      "\n",
      " [[0 1 0 0 0 0 0 0 0 0 0]\n",
      "  [0 0 1 0 0 0 0 0 0 0 0]]\n",
      "\n",
      " [[0 0 1 0 0 0 0 0 0 0 0]\n",
      "  [0 0 0 0 0 1 0 0 0 0 0]]\n",
      "\n",
      " [[0 0 0 0 0 1 0 0 0 0 0]\n",
      "  [0 0 0 0 0 0 1 0 0 0 0]]\n",
      "\n",
      " [[0 0 0 0 0 0 1 0 0 0 0]\n",
      "  [0 0 0 0 0 0 0 0 0 1 0]]\n",
      "\n",
      " [[0 0 0 0 0 0 0 0 0 1 0]\n",
      "  [0 0 0 1 0 0 0 0 0 0 0]]\n",
      "\n",
      " [[0 0 0 1 0 0 0 0 0 0 0]\n",
      "  [1 0 0 0 0 0 0 0 0 0 0]]\n",
      "\n",
      " [[1 0 0 0 0 0 0 0 0 0 0]\n",
      "  [0 0 0 0 0 0 0 1 0 0 0]]\n",
      "\n",
      " [[0 0 0 0 0 0 0 1 0 0 0]\n",
      "  [0 0 0 1 0 0 0 0 0 0 0]]\n",
      "\n",
      " [[0 0 0 1 0 0 0 0 0 0 0]\n",
      "  [0 1 0 0 0 0 0 0 0 0 0]]\n",
      "\n",
      " [[0 1 0 0 0 0 0 0 0 0 0]\n",
      "  [0 0 0 0 0 0 0 0 0 0 1]]\n",
      "\n",
      " [[0 0 0 0 0 0 0 0 0 0 1]\n",
      "  [0 0 0 0 0 0 0 0 0 1 0]]\n",
      "\n",
      " [[0 0 0 0 0 0 0 0 0 1 0]\n",
      "  [0 0 0 0 0 0 1 0 0 0 0]]\n",
      "\n",
      " [[0 0 0 0 0 0 1 0 0 0 0]\n",
      "  [0 0 0 0 0 0 0 0 0 1 0]]]\n"
     ]
    }
   ],
   "source": [
    "print(X_2.shape, X_2)"
   ]
  },
  {
   "cell_type": "code",
   "execution_count": 37,
   "metadata": {},
   "outputs": [
    {
     "name": "stdout",
     "output_type": "stream",
     "text": [
      "[[0 0 1 0 0 0 0 0 0 0 0]\n",
      " [0 0 0 0 0 1 0 0 0 0 0]\n",
      " [0 0 0 0 0 0 1 0 0 0 0]\n",
      " [0 0 0 0 0 0 0 0 0 1 0]\n",
      " [0 0 0 1 0 0 0 0 0 0 0]\n",
      " [1 0 0 0 0 0 0 0 0 0 0]\n",
      " [0 0 0 0 0 0 0 1 0 0 0]\n",
      " [0 0 0 1 0 0 0 0 0 0 0]\n",
      " [0 1 0 0 0 0 0 0 0 0 0]\n",
      " [0 0 0 0 0 0 0 0 0 0 1]\n",
      " [0 0 0 0 0 0 0 0 0 1 0]\n",
      " [0 0 0 0 0 0 1 0 0 0 0]\n",
      " [0 0 0 0 0 0 0 0 0 1 0]\n",
      " [0 0 0 0 1 0 0 0 0 0 0]]\n"
     ]
    }
   ],
   "source": [
    "print(y_2)"
   ]
  },
  {
   "cell_type": "markdown",
   "metadata": {},
   "source": [
    "### Armo modelo"
   ]
  },
  {
   "cell_type": "code",
   "execution_count": 38,
   "metadata": {},
   "outputs": [
    {
     "name": "stdout",
     "output_type": "stream",
     "text": [
      "_________________________________________________________________\n",
      "Layer (type)                 Output Shape              Param #   \n",
      "=================================================================\n",
      "simple_rnn_2 (SimpleRNN)     (None, 10)                220       \n",
      "_________________________________________________________________\n",
      "dense_2 (Dense)              (None, 11)                121       \n",
      "=================================================================\n",
      "Total params: 341\n",
      "Trainable params: 341\n",
      "Non-trainable params: 0\n",
      "_________________________________________________________________\n"
     ]
    }
   ],
   "source": [
    "sequence_len=len(chars)\n",
    "rnn_neurons=10\n",
    "dense_neurons=sequence_len\n",
    "input_shape=(window_size, sequence_len)\n",
    "\n",
    "model_2 = Sequential()\n",
    "model_2.add(SimpleRNN(rnn_neurons, input_shape=input_shape))\n",
    "model_2.add(Dense(dense_neurons, activation=\"softmax\"))\n",
    "model_2.summary()"
   ]
  },
  {
   "cell_type": "markdown",
   "metadata": {},
   "source": [
    "### Entreno modelo"
   ]
  },
  {
   "cell_type": "code",
   "execution_count": 39,
   "metadata": {},
   "outputs": [
    {
     "data": {
      "image/png": "[encoded data removed]",
      "text/plain": [
       "<Figure size 1440x360 with 2 Axes>"
      ]
     },
     "metadata": {
      "needs_background": "light"
     },
     "output_type": "display_data"
    },
    {
     "name": "stdout",
     "output_type": "stream",
     "text": [
      "Epoch 492/500\n",
      "14/14 [==============================] - 0s 4ms/step - loss: 0.1080 - acc: 0.9286\n",
      "Epoch 493/500\n",
      "14/14 [==============================] - 0s 4ms/step - loss: 0.1092 - acc: 0.9286\n",
      "Epoch 494/500\n",
      "14/14 [==============================] - 0s 3ms/step - loss: 0.1079 - acc: 0.9286\n",
      "Epoch 495/500\n",
      "14/14 [==============================] - 0s 4ms/step - loss: 0.1081 - acc: 0.9286\n",
      "Epoch 496/500\n",
      "14/14 [==============================] - 0s 4ms/step - loss: 0.1084 - acc: 0.8571\n",
      "Epoch 497/500\n",
      "14/14 [==============================] - 0s 4ms/step - loss: 0.1084 - acc: 0.8571\n",
      "Epoch 498/500\n",
      "14/14 [==============================] - 0s 4ms/step - loss: 0.1083 - acc: 0.8571\n",
      "Epoch 499/500\n",
      "14/14 [==============================] - 0s 3ms/step - loss: 0.1089 - acc: 0.8571\n",
      "Epoch 500/500\n",
      "14/14 [==============================] - 0s 4ms/step - loss: 0.1074 - acc: 0.9286\n"
     ]
    },
    {
     "data": {
      "text/plain": [
       "<keras.callbacks.History at 0x7f0c0c7dd390>"
      ]
     },
     "execution_count": 39,
     "metadata": {},
     "output_type": "execute_result"
    }
   ],
   "source": [
    "model_2.compile(optimizer='adam', loss='categorical_crossentropy', metrics=['accuracy'])\n",
    "\n",
    "model_2.fit(\n",
    "    X_2,\n",
    "    y_2, \n",
    "    epochs=500, \n",
    "    batch_size=1, \n",
    "    verbose=1, \n",
    "    callbacks=[PlotLosses(plot_interval=10, evaluate_interval=None)]\n",
    ")"
   ]
  },
  {
   "cell_type": "markdown",
   "metadata": {},
   "source": [
    "### Matriz de transición"
   ]
  },
  {
   "cell_type": "code",
   "execution_count": 63,
   "metadata": {},
   "outputs": [
    {
     "name": "stdout",
     "output_type": "stream",
     "text": [
      "\n",
      " --------------------------------------------------------------\n",
      "| Sequence len (T) =>  2\n",
      "| Output Shape:  (14, 11)\n",
      " --------------------------------------------------------------\n",
      "   _    A    C    E    G    H    I    L    M    N    R    \n",
      "MA [0.   0.   0.99 0.   0.   0.   0.   0.   0.   0.   0.  ] C\n",
      "AC [0.   0.   0.   0.   0.   0.99 0.   0.   0.   0.   0.  ] H\n",
      "CH [0.   0.   0.   0.   0.   0.   0.99 0.   0.   0.   0.  ] I\n",
      "HI [0.   0.   0.   0.   0.   0.   0.   0.   0.   0.99 0.  ] N\n",
      "IN [0.   0.   0.   0.49 0.49 0.   0.   0.   0.   0.   0.  ] E\n",
      "NE [0.99 0.   0.   0.   0.   0.   0.   0.   0.   0.   0.  ]  \n",
      "E  [0.   0.   0.   0.   0.   0.   0.   0.99 0.   0.   0.  ] L\n",
      " L [0.   0.   0.   0.97 0.01 0.   0.   0.   0.   0.   0.  ] E\n",
      "LE [0.   0.99 0.   0.   0.   0.   0.   0.   0.   0.   0.  ] A\n",
      "EA [0.   0.   0.   0.   0.   0.   0.   0.   0.   0.   0.99] R\n",
      "AR [0.   0.   0.   0.   0.   0.   0.   0.   0.   0.99 0.  ] N\n",
      "RN [0.   0.   0.   0.   0.   0.   0.99 0.   0.   0.   0.  ] I\n",
      "NI [0.   0.   0.   0.   0.   0.   0.   0.   0.   0.99 0.  ] N\n",
      "IN [0.   0.   0.   0.49 0.49 0.   0.   0.   0.   0.   0.  ] E\n"
     ]
    }
   ],
   "source": [
    "predicted_2 = model_2.predict(X_2)\n",
    "show_results(\n",
    "    predicted_2, \n",
    "    chars_to_indices, \n",
    "    indices_to_chars,\n",
    "    lambda i: indices_to_chars[np.argmax(X_2[i, :][0])]+indices_to_chars[np.argmax(X_2[i, :][1])]\n",
    ")"
   ]
  },
  {
   "cell_type": "markdown",
   "metadata": {},
   "source": [
    "Notar que luego de IN no se puede tener certeza debido a la ambiguedad"
   ]
  },
  {
   "cell_type": "markdown",
   "metadata": {},
   "source": [
    "- Como es de esperar la predicción mejora notablemente\n",
    "- La cantidad de parametros de la red no cambia respecto a la anterior\n",
    "- Que pasa si lo implemento con MLP con la cantidad de parámetros?"
   ]
  },
  {
   "cell_type": "markdown",
   "metadata": {},
   "source": [
    "## Ejemplo 3: T = 3"
   ]
  },
  {
   "cell_type": "markdown",
   "metadata": {},
   "source": [
    "### Preparo entrada/salida"
   ]
  },
  {
   "cell_type": "code",
   "execution_count": 64,
   "metadata": {},
   "outputs": [
    {
     "name": "stdout",
     "output_type": "stream",
     "text": [
      "MAC -> H\n",
      "ACH -> I\n",
      "CHI -> N\n",
      "HIN -> E\n",
      "INE ->  \n",
      "NE  -> L\n",
      "E L -> E\n",
      " LE -> A\n",
      "LEA -> R\n",
      "EAR -> N\n",
      "ARN -> I\n",
      "RNI -> N\n",
      "NIN -> G\n"
     ]
    }
   ],
   "source": [
    "window_size = 3\n",
    "x_3_t, y_3_t = example_to_io(\n",
    "    example=text, \n",
    "    input_window_size=window_size, \n",
    "    input_step_size=step_size\n",
    ")\n",
    "\n",
    "for i, te in enumerate(x_3_t): print(te, '->' ,y_3_t[i])\n",
    "    \n",
    "X_3, y_3 = example_to_io_pairs(\n",
    "    example=text, \n",
    "    possible_elements=chars, \n",
    "    input_window_size=window_size, \n",
    "    input_step_size=step_size\n",
    ")"
   ]
  },
  {
   "cell_type": "markdown",
   "metadata": {},
   "source": [
    "### Armo modelo"
   ]
  },
  {
   "cell_type": "code",
   "execution_count": 66,
   "metadata": {},
   "outputs": [
    {
     "name": "stdout",
     "output_type": "stream",
     "text": [
      "_________________________________________________________________\n",
      "Layer (type)                 Output Shape              Param #   \n",
      "=================================================================\n",
      "simple_rnn_4 (SimpleRNN)     (None, 10)                220       \n",
      "_________________________________________________________________\n",
      "dense_4 (Dense)              (None, 11)                121       \n",
      "=================================================================\n",
      "Total params: 341\n",
      "Trainable params: 341\n",
      "Non-trainable params: 0\n",
      "_________________________________________________________________\n"
     ]
    }
   ],
   "source": [
    "model_3 = Sequential()\n",
    "model_3.add(SimpleRNN(10, input_shape=(window_size,len(chars))))\n",
    "model_3.add(Dense(len(chars), activation=\"softmax\"))\n",
    "model_3.summary()"
   ]
  },
  {
   "cell_type": "markdown",
   "metadata": {},
   "source": [
    "### Entreno modelo"
   ]
  },
  {
   "cell_type": "markdown",
   "metadata": {},
   "source": [
    "Cambiar batch_size y verificar que converge de la misma manera"
   ]
  },
  {
   "cell_type": "code",
   "execution_count": 67,
   "metadata": {},
   "outputs": [
    {
     "data": {
      "image/png": "[encoded data removed]",
      "text/plain": [
       "<Figure size 1440x360 with 2 Axes>"
      ]
     },
     "metadata": {
      "needs_background": "light"
     },
     "output_type": "display_data"
    },
    {
     "name": "stdout",
     "output_type": "stream",
     "text": [
      "Epoch 492/500\n",
      "13/13 [==============================] - 0s 1ms/step - loss: 0.0674 - acc: 1.0000\n",
      "Epoch 493/500\n",
      "13/13 [==============================] - 0s 1ms/step - loss: 0.0671 - acc: 1.0000\n",
      "Epoch 494/500\n",
      "13/13 [==============================] - 0s 1ms/step - loss: 0.0668 - acc: 1.0000\n",
      "Epoch 495/500\n",
      "13/13 [==============================] - 0s 1ms/step - loss: 0.0665 - acc: 1.0000\n",
      "Epoch 496/500\n",
      "13/13 [==============================] - 0s 1ms/step - loss: 0.0662 - acc: 1.0000\n",
      "Epoch 497/500\n",
      "13/13 [==============================] - 0s 1ms/step - loss: 0.0659 - acc: 1.0000\n",
      "Epoch 498/500\n",
      "13/13 [==============================] - 0s 1ms/step - loss: 0.0656 - acc: 1.0000\n",
      "Epoch 499/500\n",
      "13/13 [==============================] - 0s 1ms/step - loss: 0.0654 - acc: 1.0000\n",
      "Epoch 500/500\n",
      "13/13 [==============================] - 0s 1ms/step - loss: 0.0650 - acc: 1.0000\n"
     ]
    },
    {
     "data": {
      "text/plain": [
       "<keras.callbacks.History at 0x7f0be0494eb8>"
      ]
     },
     "execution_count": 67,
     "metadata": {},
     "output_type": "execute_result"
    }
   ],
   "source": [
    "model_3.compile(optimizer='adam', loss='categorical_crossentropy', metrics=['accuracy'])\n",
    "\n",
    "model_3.fit(\n",
    "    X_3,\n",
    "    y_3, \n",
    "    epochs=500, \n",
    "    batch_size=4, \n",
    "    verbose=1, \n",
    "    callbacks=[PlotLosses(plot_interval=10, evaluate_interval=None)]\n",
    ")"
   ]
  },
  {
   "cell_type": "markdown",
   "metadata": {},
   "source": [
    "- Como funciona la RNN con un batch size mayor que 1?\n",
    "- En que momento se resetea el estado?\n",
    "- Que dimensión tendrá el vector de estados durante el entrenamiento?"
   ]
  },
  {
   "cell_type": "markdown",
   "metadata": {},
   "source": [
    "### Matriz de transición"
   ]
  },
  {
   "cell_type": "code",
   "execution_count": 68,
   "metadata": {},
   "outputs": [
    {
     "name": "stdout",
     "output_type": "stream",
     "text": [
      "\n",
      " --------------------------------------------------------------\n",
      "| Sequence len (T) =>  3\n",
      "| Output Shape:  (13, 11)\n",
      " --------------------------------------------------------------\n",
      "   _    A    C    E    G    H    I    L    M    N    R    \n",
      "MAC [0.   0.   0.   0.   0.   0.89 0.04 0.   0.   0.03 0.  ] H\n",
      "ACH [0.   0.   0.   0.   0.   0.01 0.95 0.01 0.   0.   0.  ] I\n",
      "CHI [0.   0.   0.   0.   0.   0.   0.   0.   0.   0.97 0.  ] N\n",
      "HIN [0.01 0.   0.   0.96 0.   0.   0.   0.   0.   0.   0.  ] E\n",
      "INE [0.9  0.05 0.   0.01 0.   0.01 0.   0.   0.   0.01 0.  ]  \n",
      "NE  [0.   0.   0.   0.   0.   0.   0.03 0.9  0.   0.   0.02] L\n",
      "E L [0.   0.   0.   0.95 0.01 0.   0.   0.   0.   0.01 0.  ] E\n",
      " LE [0.05 0.89 0.   0.   0.   0.01 0.   0.01 0.   0.   0.  ] A\n",
      "LEA [0.   0.   0.   0.01 0.   0.   0.01 0.01 0.   0.   0.94] R\n",
      "EAR [0.   0.   0.   0.01 0.   0.01 0.   0.   0.   0.95 0.  ] N\n",
      "ARN [0.   0.   0.   0.   0.   0.01 0.94 0.01 0.   0.   0.  ] I\n",
      "RNI [0.   0.   0.   0.   0.   0.   0.   0.   0.   0.97 0.  ] N\n",
      "NIN [0.   0.   0.   0.02 0.91 0.   0.01 0.   0.   0.   0.  ] G\n"
     ]
    }
   ],
   "source": [
    "predicted_3 = model_3.predict(X_3)\n",
    "    \n",
    "show_results( \n",
    "    predicted_3, \n",
    "    chars_to_indices, \n",
    "    indices_to_chars,\n",
    "    lambda i: indices_to_chars[np.argmax(X_3[i, :][0])]+\n",
    "          indices_to_chars[np.argmax(X_3[i, :][1])]+\n",
    "          indices_to_chars[np.argmax(X_3[i, :][2])]\n",
    ")"
   ]
  },
  {
   "cell_type": "markdown",
   "metadata": {},
   "source": [
    "- Las probabilidades son practicamente 1\n",
    "- La cantidad de parametros de la red no cambia respecto a la anterior\n",
    "- Que pasa si lo implemento con MLP con la cantidad de parámetros?"
   ]
  },
  {
   "cell_type": "markdown",
   "metadata": {},
   "source": [
    "### Redefino Modelo con pesos aprendidos pero statefull\n",
    "Cargo los pesos aprendidos y la evaluo en modo statefull"
   ]
  },
  {
   "cell_type": "code",
   "execution_count": 93,
   "metadata": {},
   "outputs": [
    {
     "name": "stdout",
     "output_type": "stream",
     "text": [
      "_________________________________________________________________\n",
      "Layer (type)                 Output Shape              Param #   \n",
      "=================================================================\n",
      "simple_rnn_8 (SimpleRNN)     (1, 10)                   220       \n",
      "_________________________________________________________________\n",
      "dense_8 (Dense)              (1, 11)                   121       \n",
      "=================================================================\n",
      "Total params: 341\n",
      "Trainable params: 341\n",
      "Non-trainable params: 0\n",
      "_________________________________________________________________\n"
     ]
    }
   ],
   "source": [
    "batch_size=1\n",
    "\n",
    "model_3s = Sequential()\n",
    "model_3s.add(SimpleRNN(10, batch_input_shape=(batch_size, 1, len(chars)), stateful=True))\n",
    "model_3s.add(Dense(len(chars), activation=\"softmax\"))\n",
    "model_3s.summary()\n",
    "model_3s.set_weights(model_3.get_weights())"
   ]
  },
  {
   "cell_type": "code",
   "execution_count": 94,
   "metadata": {},
   "outputs": [
    {
     "name": "stdout",
     "output_type": "stream",
     "text": [
      "char de entrada: M\n",
      "\n",
      "'   '    ' A '    ' C '    ' E '    ' G '    ' H '    ' I '    ' L '    ' M '    ' N '    ' R '    \n",
      "[[0.05 0.1  0.01 0.28 0.03 0.02 0.07 0.12 0.02 0.19 0.04]]\n",
      "char predicted: E\n"
     ]
    }
   ],
   "source": [
    "window_size=1\n",
    "model_3s.reset_states()\n",
    "input_char = text[0]\n",
    "print('char de entrada:',input_char)\n",
    "print()\n",
    "\n",
    "for c in chars_to_indices.keys(): print(\"'\", c, \"'\", end='    ')\n",
    "print()\n",
    "\n",
    "to_predict = to_one_hot_vector(input_char, chars, chars_to_indices, window_size)\n",
    "predicted = model_3s.predict(to_predict)\n",
    "\n",
    "print((predicted*100).astype(int)/100)\n",
    "print('char predicted:', indices_to_chars[np.argmax(predicted[0])])"
   ]
  },
  {
   "cell_type": "markdown",
   "metadata": {},
   "source": [
    "Notar que con un solo caracter ingresado, no tiene suficiente data para predecir (Ningun caracter tiene alta probabilidad)"
   ]
  },
  {
   "cell_type": "code",
   "execution_count": 95,
   "metadata": {},
   "outputs": [
    {
     "name": "stdout",
     "output_type": "stream",
     "text": [
      "char de entrada: A\n",
      "       A    C    E    G    H    I    L    M    N    R    \n",
      "[[0.   0.   0.   0.02 0.01 0.15 0.28 0.06 0.   0.08 0.34]]\n",
      "char predicted: R\n"
     ]
    }
   ],
   "source": [
    "input_char = text[1]\n",
    "print('char de entrada:',input_char)\n",
    "to_predict = to_one_hot_vector(input_char, chars, chars_to_indices, window_size)*1\n",
    "predicted = model_3s.predict(to_predict)\n",
    "print('  ', end='')\n",
    "for c in chars_to_indices.keys():\n",
    "    print(c, end='    ')\n",
    "print()\n",
    "print((predicted*100).astype(int)/100)\n",
    "print('char predicted:', indices_to_chars[np.argmax(predicted[0])])"
   ]
  },
  {
   "cell_type": "markdown",
   "metadata": {},
   "source": [
    "la predicción no tiene por que ser correcta a esta altura debido a que el modelo nunca fue entrenado con la secuencia ingresada"
   ]
  },
  {
   "cell_type": "code",
   "execution_count": 86,
   "metadata": {},
   "outputs": [
    {
     "name": "stdout",
     "output_type": "stream",
     "text": [
      "char de entrada: C\n",
      "        A    C    E    G    H    I    L    M    N    R    \n",
      "[[0.   0.   0.   0.   0.   0.89 0.04 0.   0.   0.03 0.  ]]\n",
      "char predicted: H\n"
     ]
    }
   ],
   "source": [
    "input_char = text[2]\n",
    "print('char de entrada:',input_char)\n",
    "to_predict = to_one_hot_vector(input_char, chars, chars_to_indices, window_size)*1\n",
    "predicted = model_3s.predict(to_predict)\n",
    "print('   ', end='')\n",
    "for c in chars_to_indices.keys():\n",
    "    print(c, end='    ')\n",
    "print()\n",
    "print((predicted*100).astype(int)/100)\n",
    "print('char predicted:', indices_to_chars[np.argmax(predicted[0])])"
   ]
  },
  {
   "cell_type": "markdown",
   "metadata": {},
   "source": [
    "Notar que luego de la tercer predicción el modelo predice casi perfectamente"
   ]
  },
  {
   "cell_type": "code",
   "execution_count": 87,
   "metadata": {},
   "outputs": [
    {
     "name": "stdout",
     "output_type": "stream",
     "text": [
      "char de entrada: H\n",
      "        A    C    E    G    H    I    L    M    N    R    \n",
      "[[0.05 0.   0.   0.   0.01 0.24 0.49 0.04 0.01 0.   0.09]]\n",
      "char predicted: I\n"
     ]
    }
   ],
   "source": [
    "input_char = text[3]\n",
    "print('char de entrada:',input_char)\n",
    "to_predict = to_one_hot_vector(input_char, chars, chars_to_indices, window_size)*1\n",
    "predicted = model_3s.predict(to_predict)\n",
    "print('   ', end='')\n",
    "for c in chars_to_indices.keys():\n",
    "    print(c, end='    ')\n",
    "print()\n",
    "print((predicted*100).astype(int)/100)\n",
    "print('char predicted:', indices_to_chars[np.argmax(predicted[0])])"
   ]
  },
  {
   "cell_type": "markdown",
   "metadata": {},
   "source": [
    "Notar como suele bajar la probabilidad de la predicción debido a que el modelo no tiene por que predecir secuencias mayores a la longitud entrenada (Aunque en ciertas circunstancias podría generalizar)"
   ]
  },
  {
   "cell_type": "code",
   "execution_count": 89,
   "metadata": {},
   "outputs": [
    {
     "name": "stdout",
     "output_type": "stream",
     "text": [
      "char de entrada: I\n",
      "         A     C     E     G     H     I     L     M     N     R     \n",
      "[[0.06 0.   0.02 0.34 0.   0.   0.   0.   0.01 0.48 0.04]]\n",
      "char predicted: N\n"
     ]
    }
   ],
   "source": [
    "input_char = text[4]\n",
    "print('char de entrada:',input_char)\n",
    "to_predict = to_one_hot_vector(input_char, chars, chars_to_indices, window_size)*1\n",
    "predicted = model_3s.predict(to_predict)\n",
    "print('   ', end='')\n",
    "for c in chars_to_indices.keys():\n",
    "    print(c, end='     ')\n",
    "print()\n",
    "print((predicted*100).astype(int)/100)\n",
    "print('char predicted:', indices_to_chars[np.argmax(predicted[0])])"
   ]
  },
  {
   "cell_type": "code",
   "execution_count": 90,
   "metadata": {},
   "outputs": [
    {
     "name": "stdout",
     "output_type": "stream",
     "text": [
      "char de entrada: N\n",
      "         A     C     E     G     H     I     L     M     N     R     \n",
      "[[0.1  0.58 0.01 0.01 0.05 0.02 0.11 0.07 0.   0.   0.  ]]\n",
      "char predicted: A\n"
     ]
    }
   ],
   "source": [
    "input_char = text[5]\n",
    "print('char de entrada:',input_char)\n",
    "to_predict = to_one_hot_vector(input_char, chars, chars_to_indices, window_size)*1\n",
    "predicted = model_3s.predict(to_predict)\n",
    "print('   ', end='')\n",
    "for c in chars_to_indices.keys():\n",
    "    print(c, end='     ')\n",
    "print()\n",
    "print((predicted*100).astype(int)/100)\n",
    "print('char predicted:', indices_to_chars[np.argmax(predicted[0])])"
   ]
  },
  {
   "cell_type": "markdown",
   "metadata": {},
   "source": [
    "Ya a esta altura estoy tratando de predecir algo probablemente demasiado lejano y no lo puede predecir correctamente"
   ]
  },
  {
   "cell_type": "markdown",
   "metadata": {},
   "source": [
    "Por eso, si quiero predecir una nueva secuencia de tres, tengo que resetear el estado y luego  mandar de a un caracter"
   ]
  },
  {
   "cell_type": "markdown",
   "metadata": {},
   "source": [
    "### Reseteo estado y aranco una nueva secuencia"
   ]
  },
  {
   "cell_type": "code",
   "execution_count": 96,
   "metadata": {},
   "outputs": [
    {
     "name": "stdout",
     "output_type": "stream",
     "text": [
      "char de entrada: H\n",
      "         A     C     E     G     H     I     L     M     N     R     \n",
      "[[0.07 0.08 0.04 0.07 0.04 0.13 0.12 0.12 0.04 0.11 0.12]]\n",
      "char predicted: H\n"
     ]
    }
   ],
   "source": [
    "model_3s.reset_states()\n",
    "\n",
    "input_char = text[3]\n",
    "print('char de entrada:',input_char)\n",
    "\n",
    "to_predict = to_one_hot_vector(input_char, chars, chars_to_indices, window_size)*1\n",
    "predicted = model_3s.predict(to_predict)\n",
    "print('   ', end='')\n",
    "for c in chars_to_indices.keys():\n",
    "    print(c, end='     ')\n",
    "print()\n",
    "print((predicted*100).astype(int)/100)\n",
    "print('char predicted:', indices_to_chars[np.argmax(predicted[0])])"
   ]
  },
  {
   "cell_type": "code",
   "execution_count": 97,
   "metadata": {},
   "outputs": [
    {
     "name": "stdout",
     "output_type": "stream",
     "text": [
      "char de entrada: I\n",
      "         A     C     E     G     H     I     L     M     N     R     \n",
      "[[0.   0.01 0.   0.   0.15 0.04 0.13 0.03 0.01 0.58 0.  ]]\n",
      "char predicted: N\n"
     ]
    }
   ],
   "source": [
    "input_char = text[4]\n",
    "print('char de entrada:',input_char)\n",
    "to_predict = to_one_hot_vector(input_char, chars, chars_to_indices, window_size)*1\n",
    "predicted = model_3s.predict(to_predict)\n",
    "print('   ', end='')\n",
    "for c in chars_to_indices.keys():\n",
    "    print(c, end='     ')\n",
    "print()\n",
    "print((predicted*100).astype(int)/100)\n",
    "print('char predicted:', indices_to_chars[np.argmax(predicted[0])])"
   ]
  },
  {
   "cell_type": "code",
   "execution_count": 98,
   "metadata": {},
   "outputs": [
    {
     "name": "stdout",
     "output_type": "stream",
     "text": [
      "char de entrada: N\n",
      "         A     C     E     G     H     I     L     M     N     R     \n",
      "[[0.01 0.   0.   0.96 0.   0.   0.   0.   0.   0.   0.  ]]\n",
      "char predicted: E\n"
     ]
    }
   ],
   "source": [
    "input_char = text[5]\n",
    "print('char de entrada:',input_char)\n",
    "to_predict = to_one_hot_vector(input_char, chars, chars_to_indices, window_size)*1\n",
    "predicted = model_3s.predict(to_predict)\n",
    "print('   ', end='')\n",
    "for c in chars_to_indices.keys():\n",
    "    print(c, end='     ')\n",
    "print()\n",
    "print((predicted*100).astype(int)/100)\n",
    "print('char predicted:', indices_to_chars[np.argmax(predicted[0])])"
   ]
  },
  {
   "cell_type": "markdown",
   "metadata": {},
   "source": [
    "Notar que aca tiene una predicción muy alta debido a que esta secuencia fue vista por el modelo"
   ]
  },
  {
   "cell_type": "markdown",
   "metadata": {},
   "source": [
    "Conclusión importante:  \n",
    "Si puede usar la statefull para predecir, pero hay que alimentar con el largo orignal de la secuencia para que la salida empiece a tener sentido"
   ]
  },
  {
   "cell_type": "markdown",
   "metadata": {},
   "source": [
    "## Ejemplo 4: Stateful RNN\n",
    "Entreno en modo stateful"
   ]
  },
  {
   "cell_type": "code",
   "execution_count": 99,
   "metadata": {},
   "outputs": [
    {
     "data": {
      "text/plain": [
       "(['M', 'A', 'C', 'H', 'I', 'N', 'E', ' ', 'L', 'E', 'A', 'R', 'N', 'I', 'N'],\n",
       " ['A', 'C', 'H', 'I', 'N', 'E', ' ', 'L', 'E', 'A', 'R', 'N', 'I', 'N', 'G'])"
      ]
     },
     "execution_count": 99,
     "metadata": {},
     "output_type": "execute_result"
    }
   ],
   "source": [
    "example_to_io(example=text, input_window_size=1, input_step_size=1)"
   ]
  },
  {
   "cell_type": "code",
   "execution_count": 100,
   "metadata": {},
   "outputs": [
    {
     "name": "stdout",
     "output_type": "stream",
     "text": [
      "_________________________________________________________________\n",
      "Layer (type)                 Output Shape              Param #   \n",
      "=================================================================\n",
      "simple_rnn_9 (SimpleRNN)     (1, 10)                   220       \n",
      "_________________________________________________________________\n",
      "dense_9 (Dense)              (1, 11)                   121       \n",
      "=================================================================\n",
      "Total params: 341\n",
      "Trainable params: 341\n",
      "Non-trainable params: 0\n",
      "_________________________________________________________________\n"
     ]
    }
   ],
   "source": [
    "batch_size=1\n",
    "model_4 = Sequential()\n",
    "model_4.add(SimpleRNN(10, batch_input_shape=(batch_size,1,len(chars)), stateful=True))\n",
    "model_4.add(Dense(len(chars), activation=\"softmax\"))\n",
    "model_4.summary()"
   ]
  },
  {
   "cell_type": "markdown",
   "metadata": {},
   "source": [
    "- Notar que X e y son los mismos que en el caso T = 1"
   ]
  },
  {
   "cell_type": "code",
   "execution_count": 101,
   "metadata": {},
   "outputs": [
    {
     "data": {
      "text/plain": [
       "((15, 1, 11), (15, 11))"
      ]
     },
     "execution_count": 101,
     "metadata": {},
     "output_type": "execute_result"
    }
   ],
   "source": [
    "X.shape, y.shape"
   ]
  },
  {
   "cell_type": "code",
   "execution_count": 103,
   "metadata": {},
   "outputs": [
    {
     "data": {
      "text/plain": [
       "1"
      ]
     },
     "execution_count": 103,
     "metadata": {},
     "output_type": "execute_result"
    }
   ],
   "source": [
    "batch_size"
   ]
  },
  {
   "cell_type": "markdown",
   "metadata": {},
   "source": [
    "### Observar: shuffle=False y stateful=True\n",
    "- Puedo usar otro batch size en este caso?\n",
    "- Por que suffle tiene que estar en false?"
   ]
  },
  {
   "cell_type": "code",
   "execution_count": 104,
   "metadata": {},
   "outputs": [
    {
     "name": "stdout",
     "output_type": "stream",
     "text": [
      "Epoch 1/1\n",
      "15/15 [==============================] - 0s 23ms/step - loss: 2.2258 - acc: 0.1333\n",
      "Epoch 1/1\n",
      "15/15 [==============================] - 0s 3ms/step - loss: 2.2018 - acc: 0.2000\n",
      "Epoch 1/1\n",
      "15/15 [==============================] - 0s 3ms/step - loss: 2.1812 - acc: 0.2000\n",
      "Epoch 1/1\n",
      "15/15 [==============================] - 0s 3ms/step - loss: 2.1611 - acc: 0.2667\n",
      "Epoch 1/1\n",
      "15/15 [==============================] - 0s 3ms/step - loss: 2.1412 - acc: 0.2667\n",
      "Epoch 1/1\n",
      "15/15 [==============================] - 0s 3ms/step - loss: 2.1216 - acc: 0.2667\n",
      "Epoch 1/1\n",
      "15/15 [==============================] - 0s 3ms/step - loss: 2.1022 - acc: 0.2667\n",
      "Epoch 1/1\n",
      "15/15 [==============================] - 0s 3ms/step - loss: 2.0830 - acc: 0.2667\n",
      "Epoch 1/1\n",
      "15/15 [==============================] - 0s 3ms/step - loss: 2.0640 - acc: 0.3333\n",
      "Epoch 1/1\n",
      "15/15 [==============================] - 0s 3ms/step - loss: 2.0453 - acc: 0.4000\n",
      "Epoch 1/1\n",
      "15/15 [==============================] - 0s 3ms/step - loss: 2.0267 - acc: 0.4000\n",
      "Epoch 1/1\n",
      "15/15 [==============================] - 0s 3ms/step - loss: 2.0084 - acc: 0.4000\n",
      "Epoch 1/1\n",
      "15/15 [==============================] - 0s 3ms/step - loss: 1.9904 - acc: 0.4000\n",
      "Epoch 1/1\n",
      "15/15 [==============================] - 0s 3ms/step - loss: 1.9726 - acc: 0.4000\n",
      "Epoch 1/1\n",
      "15/15 [==============================] - 0s 3ms/step - loss: 1.9551 - acc: 0.4667\n",
      "Epoch 1/1\n",
      "15/15 [==============================] - 0s 3ms/step - loss: 1.9379 - acc: 0.4667\n",
      "Epoch 1/1\n",
      "15/15 [==============================] - 0s 3ms/step - loss: 1.9209 - acc: 0.6000\n",
      "Epoch 1/1\n",
      "15/15 [==============================] - 0s 3ms/step - loss: 1.9043 - acc: 0.6000\n",
      "Epoch 1/1\n",
      "15/15 [==============================] - 0s 3ms/step - loss: 1.8880 - acc: 0.6000\n",
      "Epoch 1/1\n",
      "15/15 [==============================] - 0s 3ms/step - loss: 1.8720 - acc: 0.6667\n",
      "Epoch 1/1\n",
      "15/15 [==============================] - 0s 3ms/step - loss: 1.8562 - acc: 0.6667\n",
      "Epoch 1/1\n",
      "15/15 [==============================] - 0s 3ms/step - loss: 1.8408 - acc: 0.6667\n",
      "Epoch 1/1\n",
      "15/15 [==============================] - 0s 3ms/step - loss: 1.8257 - acc: 0.6667\n",
      "Epoch 1/1\n",
      "15/15 [==============================] - 0s 3ms/step - loss: 1.8108 - acc: 0.6667\n",
      "Epoch 1/1\n",
      "15/15 [==============================] - 0s 3ms/step - loss: 1.7962 - acc: 0.6000\n",
      "Epoch 1/1\n",
      "15/15 [==============================] - 0s 3ms/step - loss: 1.7818 - acc: 0.6000\n",
      "Epoch 1/1\n",
      "15/15 [==============================] - 0s 3ms/step - loss: 1.7676 - acc: 0.6000\n",
      "Epoch 1/1\n",
      "15/15 [==============================] - 0s 3ms/step - loss: 1.7535 - acc: 0.6000\n",
      "Epoch 1/1\n",
      "15/15 [==============================] - 0s 3ms/step - loss: 1.7396 - acc: 0.6000\n",
      "Epoch 1/1\n",
      "15/15 [==============================] - 0s 3ms/step - loss: 1.7258 - acc: 0.6000\n",
      "Epoch 1/1\n",
      "15/15 [==============================] - 0s 3ms/step - loss: 1.7121 - acc: 0.6000\n",
      "Epoch 1/1\n",
      "15/15 [==============================] - 0s 3ms/step - loss: 1.6983 - acc: 0.6667\n",
      "Epoch 1/1\n",
      "15/15 [==============================] - 0s 3ms/step - loss: 1.6846 - acc: 0.6667\n",
      "Epoch 1/1\n",
      "15/15 [==============================] - 0s 3ms/step - loss: 1.6708 - acc: 0.6000\n",
      "Epoch 1/1\n",
      "15/15 [==============================] - 0s 3ms/step - loss: 1.6569 - acc: 0.6000\n",
      "Epoch 1/1\n",
      "15/15 [==============================] - 0s 3ms/step - loss: 1.6430 - acc: 0.6000\n",
      "Epoch 1/1\n",
      "15/15 [==============================] - 0s 3ms/step - loss: 1.6289 - acc: 0.6000\n",
      "Epoch 1/1\n",
      "15/15 [==============================] - 0s 3ms/step - loss: 1.6147 - acc: 0.6000\n",
      "Epoch 1/1\n",
      "15/15 [==============================] - 0s 3ms/step - loss: 1.6004 - acc: 0.6000\n",
      "Epoch 1/1\n",
      "15/15 [==============================] - 0s 3ms/step - loss: 1.5859 - acc: 0.6667\n",
      "Epoch 1/1\n",
      "15/15 [==============================] - 0s 3ms/step - loss: 1.5712 - acc: 0.6667\n",
      "Epoch 1/1\n",
      "15/15 [==============================] - 0s 3ms/step - loss: 1.5564 - acc: 0.6667\n",
      "Epoch 1/1\n",
      "15/15 [==============================] - 0s 3ms/step - loss: 1.5414 - acc: 0.6667\n",
      "Epoch 1/1\n",
      "15/15 [==============================] - 0s 3ms/step - loss: 1.5263 - acc: 0.6667\n",
      "Epoch 1/1\n",
      "15/15 [==============================] - 0s 3ms/step - loss: 1.5110 - acc: 0.6667\n",
      "Epoch 1/1\n",
      "15/15 [==============================] - 0s 3ms/step - loss: 1.4956 - acc: 0.6667\n",
      "Epoch 1/1\n",
      "15/15 [==============================] - 0s 3ms/step - loss: 1.4800 - acc: 0.6667\n",
      "Epoch 1/1\n",
      "15/15 [==============================] - 0s 4ms/step - loss: 1.4643 - acc: 0.6667\n",
      "Epoch 1/1\n",
      "15/15 [==============================] - 0s 3ms/step - loss: 1.4484 - acc: 0.6667\n",
      "Epoch 1/1\n",
      "15/15 [==============================] - 0s 3ms/step - loss: 1.4323 - acc: 0.6667\n",
      "Epoch 1/1\n",
      "15/15 [==============================] - 0s 3ms/step - loss: 1.4162 - acc: 0.7333\n",
      "Epoch 1/1\n",
      "15/15 [==============================] - 0s 3ms/step - loss: 1.3999 - acc: 0.6667\n",
      "Epoch 1/1\n",
      "15/15 [==============================] - 0s 3ms/step - loss: 1.3834 - acc: 0.6667\n",
      "Epoch 1/1\n",
      "15/15 [==============================] - 0s 3ms/step - loss: 1.3669 - acc: 0.6667\n",
      "Epoch 1/1\n",
      "15/15 [==============================] - 0s 3ms/step - loss: 1.3503 - acc: 0.6667\n",
      "Epoch 1/1\n",
      "15/15 [==============================] - 0s 3ms/step - loss: 1.3335 - acc: 0.7333\n",
      "Epoch 1/1\n",
      "15/15 [==============================] - 0s 3ms/step - loss: 1.3168 - acc: 0.7333\n",
      "Epoch 1/1\n",
      "15/15 [==============================] - 0s 3ms/step - loss: 1.3000 - acc: 0.7333\n",
      "Epoch 1/1\n",
      "15/15 [==============================] - 0s 3ms/step - loss: 1.2832 - acc: 0.7333\n",
      "Epoch 1/1\n",
      "15/15 [==============================] - 0s 3ms/step - loss: 1.2665 - acc: 0.7333\n",
      "Epoch 1/1\n",
      "15/15 [==============================] - 0s 3ms/step - loss: 1.2498 - acc: 0.8000\n",
      "Epoch 1/1\n",
      "15/15 [==============================] - 0s 3ms/step - loss: 1.2332 - acc: 0.8000\n",
      "Epoch 1/1\n",
      "15/15 [==============================] - 0s 3ms/step - loss: 1.2167 - acc: 0.8000\n",
      "Epoch 1/1\n",
      "15/15 [==============================] - 0s 3ms/step - loss: 1.2004 - acc: 0.8000\n",
      "Epoch 1/1\n",
      "15/15 [==============================] - 0s 3ms/step - loss: 1.1843 - acc: 0.8000\n",
      "Epoch 1/1\n",
      "15/15 [==============================] - 0s 3ms/step - loss: 1.1685 - acc: 0.8000\n",
      "Epoch 1/1\n",
      "15/15 [==============================] - 0s 3ms/step - loss: 1.1528 - acc: 0.8000\n",
      "Epoch 1/1\n",
      "15/15 [==============================] - 0s 3ms/step - loss: 1.1374 - acc: 0.8000\n",
      "Epoch 1/1\n",
      "15/15 [==============================] - 0s 3ms/step - loss: 1.1223 - acc: 0.8000\n",
      "Epoch 1/1\n",
      "15/15 [==============================] - 0s 3ms/step - loss: 1.1075 - acc: 0.8000\n",
      "Epoch 1/1\n",
      "15/15 [==============================] - 0s 3ms/step - loss: 1.0930 - acc: 0.8000\n",
      "Epoch 1/1\n",
      "15/15 [==============================] - 0s 3ms/step - loss: 1.0787 - acc: 0.8000\n",
      "Epoch 1/1\n",
      "15/15 [==============================] - 0s 3ms/step - loss: 1.0648 - acc: 0.8000\n",
      "Epoch 1/1\n",
      "15/15 [==============================] - 0s 3ms/step - loss: 1.0512 - acc: 0.8667\n",
      "Epoch 1/1\n",
      "15/15 [==============================] - 0s 3ms/step - loss: 1.0379 - acc: 0.8667\n",
      "Epoch 1/1\n",
      "15/15 [==============================] - 0s 3ms/step - loss: 1.0250 - acc: 0.9333\n",
      "Epoch 1/1\n",
      "15/15 [==============================] - 0s 3ms/step - loss: 1.0123 - acc: 0.9333\n",
      "Epoch 1/1\n",
      "15/15 [==============================] - 0s 3ms/step - loss: 1.0001 - acc: 0.9333\n",
      "Epoch 1/1\n",
      "15/15 [==============================] - 0s 3ms/step - loss: 0.9881 - acc: 0.9333\n",
      "Epoch 1/1\n",
      "15/15 [==============================] - 0s 3ms/step - loss: 0.9765 - acc: 0.9333\n",
      "Epoch 1/1\n",
      "15/15 [==============================] - 0s 3ms/step - loss: 0.9653 - acc: 0.9333\n",
      "Epoch 1/1\n",
      "15/15 [==============================] - 0s 3ms/step - loss: 0.9544 - acc: 0.9333\n",
      "Epoch 1/1\n",
      "15/15 [==============================] - 0s 3ms/step - loss: 0.9439 - acc: 0.9333\n",
      "Epoch 1/1\n",
      "15/15 [==============================] - 0s 3ms/step - loss: 0.9337 - acc: 0.9333\n",
      "Epoch 1/1\n",
      "15/15 [==============================] - 0s 3ms/step - loss: 0.9238 - acc: 0.9333\n",
      "Epoch 1/1\n",
      "15/15 [==============================] - 0s 3ms/step - loss: 0.9143 - acc: 0.9333\n",
      "Epoch 1/1\n",
      "15/15 [==============================] - 0s 3ms/step - loss: 0.9051 - acc: 0.9333\n",
      "Epoch 1/1\n",
      "15/15 [==============================] - 0s 3ms/step - loss: 0.8962 - acc: 0.9333\n",
      "Epoch 1/1\n",
      "15/15 [==============================] - 0s 3ms/step - loss: 0.8877 - acc: 0.9333\n",
      "Epoch 1/1\n",
      "15/15 [==============================] - 0s 3ms/step - loss: 0.8794 - acc: 0.9333\n",
      "Epoch 1/1\n",
      "15/15 [==============================] - 0s 3ms/step - loss: 0.8715 - acc: 1.0000\n",
      "Epoch 1/1\n",
      "15/15 [==============================] - 0s 3ms/step - loss: 0.8638 - acc: 1.0000\n",
      "Epoch 1/1\n",
      "15/15 [==============================] - 0s 3ms/step - loss: 0.8564 - acc: 1.0000\n",
      "Epoch 1/1\n",
      "15/15 [==============================] - 0s 3ms/step - loss: 0.8492 - acc: 1.0000\n",
      "Epoch 1/1\n",
      "15/15 [==============================] - 0s 3ms/step - loss: 0.8423 - acc: 1.0000\n",
      "Epoch 1/1\n",
      "15/15 [==============================] - 0s 3ms/step - loss: 0.8356 - acc: 1.0000\n",
      "Epoch 1/1\n",
      "15/15 [==============================] - 0s 3ms/step - loss: 0.8291 - acc: 0.9333\n",
      "Epoch 1/1\n",
      "15/15 [==============================] - 0s 3ms/step - loss: 0.8228 - acc: 0.9333\n",
      "Epoch 1/1\n",
      "15/15 [==============================] - 0s 3ms/step - loss: 0.8168 - acc: 0.9333\n",
      "Epoch 1/1\n",
      "15/15 [==============================] - 0s 3ms/step - loss: 0.8109 - acc: 0.9333\n",
      "Epoch 1/1\n",
      "15/15 [==============================] - 0s 3ms/step - loss: 0.8052 - acc: 0.9333\n",
      "Epoch 1/1\n",
      "15/15 [==============================] - 0s 3ms/step - loss: 0.7997 - acc: 0.9333\n",
      "Epoch 1/1\n",
      "15/15 [==============================] - 0s 3ms/step - loss: 0.7943 - acc: 0.9333\n",
      "Epoch 1/1\n",
      "15/15 [==============================] - 0s 3ms/step - loss: 0.7890 - acc: 0.9333\n",
      "Epoch 1/1\n",
      "15/15 [==============================] - 0s 3ms/step - loss: 0.7839 - acc: 0.9333\n",
      "Epoch 1/1\n",
      "15/15 [==============================] - 0s 3ms/step - loss: 0.7790 - acc: 0.9333\n",
      "Epoch 1/1\n",
      "15/15 [==============================] - 0s 3ms/step - loss: 0.7741 - acc: 0.9333\n",
      "Epoch 1/1\n",
      "15/15 [==============================] - 0s 3ms/step - loss: 0.7694 - acc: 0.9333\n",
      "Epoch 1/1\n",
      "15/15 [==============================] - 0s 4ms/step - loss: 0.7648 - acc: 0.9333\n",
      "Epoch 1/1\n",
      "15/15 [==============================] - 0s 3ms/step - loss: 0.7603 - acc: 0.9333\n",
      "Epoch 1/1\n",
      "15/15 [==============================] - 0s 3ms/step - loss: 0.7559 - acc: 0.9333\n",
      "Epoch 1/1\n",
      "15/15 [==============================] - 0s 3ms/step - loss: 0.7516 - acc: 0.9333\n",
      "Epoch 1/1\n",
      "15/15 [==============================] - 0s 3ms/step - loss: 0.7473 - acc: 0.9333\n",
      "Epoch 1/1\n",
      "15/15 [==============================] - 0s 3ms/step - loss: 0.7432 - acc: 0.9333\n",
      "Epoch 1/1\n",
      "15/15 [==============================] - 0s 3ms/step - loss: 0.7392 - acc: 0.9333\n",
      "Epoch 1/1\n",
      "15/15 [==============================] - 0s 3ms/step - loss: 0.7352 - acc: 0.9333\n",
      "Epoch 1/1\n",
      "15/15 [==============================] - 0s 3ms/step - loss: 0.7313 - acc: 0.9333\n",
      "Epoch 1/1\n",
      "15/15 [==============================] - 0s 3ms/step - loss: 0.7275 - acc: 0.9333\n",
      "Epoch 1/1\n",
      "15/15 [==============================] - 0s 3ms/step - loss: 0.7239 - acc: 0.9333\n",
      "Epoch 1/1\n",
      "15/15 [==============================] - 0s 3ms/step - loss: 0.7203 - acc: 0.9333\n",
      "Epoch 1/1\n",
      "15/15 [==============================] - 0s 3ms/step - loss: 0.7168 - acc: 0.9333\n",
      "Epoch 1/1\n",
      "15/15 [==============================] - 0s 3ms/step - loss: 0.7134 - acc: 0.9333\n",
      "Epoch 1/1\n",
      "15/15 [==============================] - 0s 3ms/step - loss: 0.7102 - acc: 0.9333\n",
      "Epoch 1/1\n",
      "15/15 [==============================] - 0s 3ms/step - loss: 0.7070 - acc: 0.9333\n",
      "Epoch 1/1\n",
      "15/15 [==============================] - 0s 3ms/step - loss: 0.7040 - acc: 0.9333\n",
      "Epoch 1/1\n",
      "15/15 [==============================] - 0s 3ms/step - loss: 0.7012 - acc: 0.9333\n",
      "Epoch 1/1\n",
      "15/15 [==============================] - 0s 3ms/step - loss: 0.6985 - acc: 0.9333\n",
      "Epoch 1/1\n",
      "15/15 [==============================] - 0s 3ms/step - loss: 0.6960 - acc: 0.9333\n",
      "Epoch 1/1\n",
      "15/15 [==============================] - 0s 3ms/step - loss: 0.6937 - acc: 0.9333\n",
      "Epoch 1/1\n",
      "15/15 [==============================] - 0s 3ms/step - loss: 0.6915 - acc: 0.9333\n",
      "Epoch 1/1\n",
      "15/15 [==============================] - 0s 3ms/step - loss: 0.6896 - acc: 0.9333\n",
      "Epoch 1/1\n",
      "15/15 [==============================] - 0s 3ms/step - loss: 0.6879 - acc: 0.9333\n",
      "Epoch 1/1\n",
      "15/15 [==============================] - 0s 3ms/step - loss: 0.6864 - acc: 0.9333\n",
      "Epoch 1/1\n",
      "15/15 [==============================] - 0s 3ms/step - loss: 0.6852 - acc: 0.9333\n",
      "Epoch 1/1\n",
      "15/15 [==============================] - 0s 3ms/step - loss: 0.6843 - acc: 0.9333\n",
      "Epoch 1/1\n",
      "15/15 [==============================] - 0s 3ms/step - loss: 0.6836 - acc: 0.9333\n",
      "Epoch 1/1\n",
      "15/15 [==============================] - 0s 3ms/step - loss: 0.6833 - acc: 0.9333\n",
      "Epoch 1/1\n",
      "15/15 [==============================] - 0s 3ms/step - loss: 0.6834 - acc: 0.9333\n",
      "Epoch 1/1\n",
      "15/15 [==============================] - 0s 3ms/step - loss: 0.6838 - acc: 0.9333\n",
      "Epoch 1/1\n",
      "15/15 [==============================] - 0s 3ms/step - loss: 0.6847 - acc: 0.9333\n",
      "Epoch 1/1\n",
      "15/15 [==============================] - 0s 3ms/step - loss: 0.6860 - acc: 0.9333\n",
      "Epoch 1/1\n",
      "15/15 [==============================] - 0s 3ms/step - loss: 0.6878 - acc: 0.9333\n",
      "Epoch 1/1\n",
      "15/15 [==============================] - 0s 3ms/step - loss: 0.6901 - acc: 0.9333\n",
      "Epoch 1/1\n",
      "15/15 [==============================] - 0s 3ms/step - loss: 0.6929 - acc: 0.9333\n",
      "Epoch 1/1\n",
      "15/15 [==============================] - 0s 3ms/step - loss: 0.6961 - acc: 0.9333\n",
      "Epoch 1/1\n",
      "15/15 [==============================] - 0s 3ms/step - loss: 0.6998 - acc: 0.9333\n",
      "Epoch 1/1\n",
      "15/15 [==============================] - 0s 3ms/step - loss: 0.7038 - acc: 0.9333\n",
      "Epoch 1/1\n",
      "15/15 [==============================] - 0s 3ms/step - loss: 0.7079 - acc: 0.8667\n",
      "Epoch 1/1\n",
      "15/15 [==============================] - 0s 3ms/step - loss: 0.7120 - acc: 0.8667\n",
      "Epoch 1/1\n",
      "15/15 [==============================] - 0s 3ms/step - loss: 0.7158 - acc: 0.8667\n",
      "Epoch 1/1\n",
      "15/15 [==============================] - 0s 3ms/step - loss: 0.7192 - acc: 0.8667\n",
      "Epoch 1/1\n",
      "15/15 [==============================] - 0s 3ms/step - loss: 0.7220 - acc: 0.8667\n",
      "Epoch 1/1\n",
      "15/15 [==============================] - 0s 3ms/step - loss: 0.7243 - acc: 0.8667\n",
      "Epoch 1/1\n",
      "15/15 [==============================] - 0s 3ms/step - loss: 0.7261 - acc: 0.8667\n",
      "Epoch 1/1\n",
      "15/15 [==============================] - 0s 3ms/step - loss: 0.7277 - acc: 0.8667\n",
      "Epoch 1/1\n",
      "15/15 [==============================] - 0s 3ms/step - loss: 0.7292 - acc: 0.8667\n",
      "Epoch 1/1\n",
      "15/15 [==============================] - 0s 3ms/step - loss: 0.7308 - acc: 0.8667\n",
      "Epoch 1/1\n",
      "15/15 [==============================] - 0s 3ms/step - loss: 0.7325 - acc: 0.8667\n",
      "Epoch 1/1\n",
      "15/15 [==============================] - 0s 3ms/step - loss: 0.7345 - acc: 0.8000\n",
      "Epoch 1/1\n",
      "15/15 [==============================] - 0s 3ms/step - loss: 0.7367 - acc: 0.8000\n",
      "Epoch 1/1\n",
      "15/15 [==============================] - 0s 3ms/step - loss: 0.7388 - acc: 0.8000\n",
      "Epoch 1/1\n",
      "15/15 [==============================] - 0s 3ms/step - loss: 0.7408 - acc: 0.8000\n",
      "Epoch 1/1\n",
      "15/15 [==============================] - 0s 3ms/step - loss: 0.7425 - acc: 0.8000\n",
      "Epoch 1/1\n",
      "15/15 [==============================] - 0s 3ms/step - loss: 0.7436 - acc: 0.8000\n",
      "Epoch 1/1\n",
      "15/15 [==============================] - 0s 3ms/step - loss: 0.7441 - acc: 0.8000\n",
      "Epoch 1/1\n",
      "15/15 [==============================] - 0s 3ms/step - loss: 0.7437 - acc: 0.8000\n",
      "Epoch 1/1\n",
      "15/15 [==============================] - 0s 3ms/step - loss: 0.7424 - acc: 0.8000\n",
      "Epoch 1/1\n",
      "15/15 [==============================] - 0s 3ms/step - loss: 0.7402 - acc: 0.8000\n",
      "Epoch 1/1\n",
      "15/15 [==============================] - 0s 3ms/step - loss: 0.7369 - acc: 0.8000\n",
      "Epoch 1/1\n",
      "15/15 [==============================] - 0s 3ms/step - loss: 0.7327 - acc: 0.8000\n",
      "Epoch 1/1\n",
      "15/15 [==============================] - 0s 3ms/step - loss: 0.7275 - acc: 0.8000\n",
      "Epoch 1/1\n",
      "15/15 [==============================] - 0s 3ms/step - loss: 0.7215 - acc: 0.8000\n",
      "Epoch 1/1\n",
      "15/15 [==============================] - 0s 3ms/step - loss: 0.7148 - acc: 0.8000\n",
      "Epoch 1/1\n",
      "15/15 [==============================] - 0s 3ms/step - loss: 0.7077 - acc: 0.8000\n",
      "Epoch 1/1\n",
      "15/15 [==============================] - 0s 4ms/step - loss: 0.7002 - acc: 0.8000\n",
      "Epoch 1/1\n",
      "15/15 [==============================] - 0s 3ms/step - loss: 0.6927 - acc: 0.8000\n",
      "Epoch 1/1\n",
      "15/15 [==============================] - 0s 3ms/step - loss: 0.6839 - acc: 0.8000\n",
      "Epoch 1/1\n",
      "15/15 [==============================] - 0s 3ms/step - loss: 0.6763 - acc: 0.8000\n",
      "Epoch 1/1\n",
      "15/15 [==============================] - 0s 3ms/step - loss: 0.6690 - acc: 0.8000\n",
      "Epoch 1/1\n",
      "15/15 [==============================] - 0s 3ms/step - loss: 0.6621 - acc: 0.8000\n",
      "Epoch 1/1\n",
      "15/15 [==============================] - 0s 3ms/step - loss: 0.6553 - acc: 0.8000\n",
      "Epoch 1/1\n",
      "15/15 [==============================] - 0s 3ms/step - loss: 0.6487 - acc: 0.9333\n",
      "Epoch 1/1\n",
      "15/15 [==============================] - 0s 3ms/step - loss: 0.6424 - acc: 1.0000\n",
      "Epoch 1/1\n",
      "15/15 [==============================] - 0s 3ms/step - loss: 0.6362 - acc: 1.0000\n",
      "Epoch 1/1\n",
      "15/15 [==============================] - 0s 3ms/step - loss: 0.6301 - acc: 1.0000\n",
      "Epoch 1/1\n",
      "15/15 [==============================] - 0s 3ms/step - loss: 0.6241 - acc: 1.0000\n",
      "Epoch 1/1\n",
      "15/15 [==============================] - 0s 3ms/step - loss: 0.6181 - acc: 1.0000\n",
      "Epoch 1/1\n",
      "15/15 [==============================] - 0s 3ms/step - loss: 0.6123 - acc: 1.0000\n",
      "Epoch 1/1\n",
      "15/15 [==============================] - 0s 3ms/step - loss: 0.6064 - acc: 1.0000\n",
      "Epoch 1/1\n",
      "15/15 [==============================] - 0s 3ms/step - loss: 0.6005 - acc: 1.0000\n",
      "Epoch 1/1\n",
      "15/15 [==============================] - 0s 3ms/step - loss: 0.5947 - acc: 1.0000\n",
      "Epoch 1/1\n",
      "15/15 [==============================] - 0s 3ms/step - loss: 0.5889 - acc: 1.0000\n",
      "Epoch 1/1\n",
      "15/15 [==============================] - 0s 3ms/step - loss: 0.5832 - acc: 1.0000\n",
      "Epoch 1/1\n",
      "15/15 [==============================] - 0s 3ms/step - loss: 0.5775 - acc: 1.0000\n",
      "Epoch 1/1\n",
      "15/15 [==============================] - 0s 3ms/step - loss: 0.5718 - acc: 1.0000\n",
      "Epoch 1/1\n",
      "15/15 [==============================] - 0s 3ms/step - loss: 0.5663 - acc: 0.9333\n",
      "Epoch 1/1\n",
      "15/15 [==============================] - 0s 3ms/step - loss: 0.5609 - acc: 0.9333\n",
      "Epoch 1/1\n",
      "15/15 [==============================] - 0s 3ms/step - loss: 0.5556 - acc: 0.9333\n",
      "Epoch 1/1\n",
      "15/15 [==============================] - 0s 3ms/step - loss: 0.5505 - acc: 0.9333\n",
      "Epoch 1/1\n",
      "15/15 [==============================] - 0s 3ms/step - loss: 0.5454 - acc: 0.9333\n",
      "Epoch 1/1\n",
      "15/15 [==============================] - 0s 3ms/step - loss: 0.5405 - acc: 0.9333\n",
      "Epoch 1/1\n",
      "15/15 [==============================] - 0s 3ms/step - loss: 0.5357 - acc: 0.9333\n",
      "Epoch 1/1\n",
      "15/15 [==============================] - 0s 3ms/step - loss: 0.5310 - acc: 0.9333\n",
      "Epoch 1/1\n",
      "15/15 [==============================] - 0s 3ms/step - loss: 0.5263 - acc: 0.9333\n",
      "Epoch 1/1\n",
      "15/15 [==============================] - 0s 3ms/step - loss: 0.5216 - acc: 0.9333\n",
      "Epoch 1/1\n",
      "15/15 [==============================] - 0s 3ms/step - loss: 0.5169 - acc: 0.9333\n",
      "Epoch 1/1\n",
      "15/15 [==============================] - 0s 3ms/step - loss: 0.5121 - acc: 0.9333\n",
      "Epoch 1/1\n",
      "15/15 [==============================] - 0s 3ms/step - loss: 0.5072 - acc: 0.9333\n",
      "Epoch 1/1\n",
      "15/15 [==============================] - 0s 3ms/step - loss: 0.5021 - acc: 0.9333\n",
      "Epoch 1/1\n",
      "15/15 [==============================] - 0s 3ms/step - loss: 0.4967 - acc: 0.9333\n",
      "Epoch 1/1\n",
      "15/15 [==============================] - 0s 3ms/step - loss: 0.4911 - acc: 0.9333\n",
      "Epoch 1/1\n",
      "15/15 [==============================] - 0s 3ms/step - loss: 0.4852 - acc: 0.9333\n",
      "Epoch 1/1\n",
      "15/15 [==============================] - 0s 3ms/step - loss: 0.4790 - acc: 0.9333\n",
      "Epoch 1/1\n",
      "15/15 [==============================] - 0s 3ms/step - loss: 0.4726 - acc: 0.9333\n",
      "Epoch 1/1\n",
      "15/15 [==============================] - 0s 3ms/step - loss: 0.4661 - acc: 0.9333\n",
      "Epoch 1/1\n",
      "15/15 [==============================] - 0s 3ms/step - loss: 0.4596 - acc: 0.9333\n",
      "Epoch 1/1\n",
      "15/15 [==============================] - 0s 3ms/step - loss: 0.4535 - acc: 1.0000\n",
      "Epoch 1/1\n",
      "15/15 [==============================] - 0s 3ms/step - loss: 0.4482 - acc: 1.0000\n",
      "Epoch 1/1\n",
      "15/15 [==============================] - 0s 3ms/step - loss: 0.4444 - acc: 1.0000\n",
      "Epoch 1/1\n",
      "15/15 [==============================] - 0s 3ms/step - loss: 0.4430 - acc: 1.0000\n",
      "Epoch 1/1\n",
      "15/15 [==============================] - 0s 3ms/step - loss: 0.4454 - acc: 1.0000\n",
      "Epoch 1/1\n",
      "15/15 [==============================] - 0s 3ms/step - loss: 0.4533 - acc: 1.0000\n",
      "Epoch 1/1\n",
      "15/15 [==============================] - 0s 3ms/step - loss: 0.4702 - acc: 1.0000\n",
      "Epoch 1/1\n",
      "15/15 [==============================] - 0s 4ms/step - loss: 0.5041 - acc: 1.0000\n",
      "Epoch 1/1\n",
      "15/15 [==============================] - 0s 3ms/step - loss: 0.5797 - acc: 0.8000\n",
      "Epoch 1/1\n",
      "15/15 [==============================] - 0s 3ms/step - loss: 0.7029 - acc: 0.6667\n",
      "Epoch 1/1\n",
      "15/15 [==============================] - 0s 3ms/step - loss: 0.7587 - acc: 0.6667\n",
      "Epoch 1/1\n",
      "15/15 [==============================] - 0s 3ms/step - loss: 0.7537 - acc: 0.7333\n",
      "Epoch 1/1\n",
      "15/15 [==============================] - 0s 3ms/step - loss: 0.7657 - acc: 0.7333\n",
      "Epoch 1/1\n",
      "15/15 [==============================] - 0s 3ms/step - loss: 0.7801 - acc: 0.8000\n",
      "Epoch 1/1\n",
      "15/15 [==============================] - 0s 3ms/step - loss: 0.7853 - acc: 0.7333\n",
      "Epoch 1/1\n",
      "15/15 [==============================] - 0s 3ms/step - loss: 0.7806 - acc: 0.7333\n",
      "Epoch 1/1\n",
      "15/15 [==============================] - 0s 3ms/step - loss: 0.7697 - acc: 0.7333\n",
      "Epoch 1/1\n",
      "15/15 [==============================] - 0s 3ms/step - loss: 0.7562 - acc: 0.7333\n",
      "Epoch 1/1\n",
      "15/15 [==============================] - 0s 3ms/step - loss: 0.7430 - acc: 0.7333\n",
      "Epoch 1/1\n",
      "15/15 [==============================] - 0s 3ms/step - loss: 0.7317 - acc: 0.7333\n",
      "Epoch 1/1\n",
      "15/15 [==============================] - 0s 3ms/step - loss: 0.7228 - acc: 0.7333\n",
      "Epoch 1/1\n",
      "15/15 [==============================] - 0s 3ms/step - loss: 0.7159 - acc: 0.6667\n",
      "Epoch 1/1\n",
      "15/15 [==============================] - 0s 3ms/step - loss: 0.7098 - acc: 0.6667\n",
      "Epoch 1/1\n",
      "15/15 [==============================] - 0s 5ms/step - loss: 0.7033 - acc: 0.6667\n",
      "Epoch 1/1\n",
      "15/15 [==============================] - 0s 4ms/step - loss: 0.6955 - acc: 0.6667\n",
      "Epoch 1/1\n",
      "15/15 [==============================] - 0s 3ms/step - loss: 0.6868 - acc: 0.6667\n",
      "Epoch 1/1\n",
      "15/15 [==============================] - 0s 3ms/step - loss: 0.6780 - acc: 0.6667\n",
      "Epoch 1/1\n",
      "15/15 [==============================] - 0s 4ms/step - loss: 0.6699 - acc: 0.6667\n",
      "Epoch 1/1\n",
      "15/15 [==============================] - 0s 3ms/step - loss: 0.6629 - acc: 0.6667\n",
      "Epoch 1/1\n",
      "15/15 [==============================] - 0s 4ms/step - loss: 0.6564 - acc: 0.6667\n",
      "Epoch 1/1\n",
      "15/15 [==============================] - 0s 3ms/step - loss: 0.6501 - acc: 0.6667\n",
      "Epoch 1/1\n",
      "15/15 [==============================] - 0s 3ms/step - loss: 0.6434 - acc: 0.6667\n",
      "Epoch 1/1\n",
      "15/15 [==============================] - 0s 3ms/step - loss: 0.6361 - acc: 0.7333\n",
      "Epoch 1/1\n",
      "15/15 [==============================] - 0s 3ms/step - loss: 0.6282 - acc: 0.7333\n",
      "Epoch 1/1\n",
      "15/15 [==============================] - 0s 3ms/step - loss: 0.6198 - acc: 0.7333\n",
      "Epoch 1/1\n",
      "15/15 [==============================] - 0s 3ms/step - loss: 0.6113 - acc: 0.7333\n",
      "Epoch 1/1\n",
      "15/15 [==============================] - 0s 3ms/step - loss: 0.6031 - acc: 0.7333\n",
      "Epoch 1/1\n",
      "15/15 [==============================] - 0s 3ms/step - loss: 0.5959 - acc: 0.7333\n",
      "Epoch 1/1\n",
      "15/15 [==============================] - 0s 3ms/step - loss: 0.5902 - acc: 0.8000\n",
      "Epoch 1/1\n",
      "15/15 [==============================] - 0s 3ms/step - loss: 0.5863 - acc: 0.7333\n",
      "Epoch 1/1\n",
      "15/15 [==============================] - 0s 3ms/step - loss: 0.5842 - acc: 0.7333\n",
      "Epoch 1/1\n",
      "15/15 [==============================] - 0s 3ms/step - loss: 0.5833 - acc: 0.7333\n",
      "Epoch 1/1\n",
      "15/15 [==============================] - 0s 3ms/step - loss: 0.5827 - acc: 0.7333\n",
      "Epoch 1/1\n",
      "15/15 [==============================] - 0s 3ms/step - loss: 0.5813 - acc: 0.7333\n",
      "Epoch 1/1\n",
      "15/15 [==============================] - 0s 3ms/step - loss: 0.5781 - acc: 0.8000\n",
      "Epoch 1/1\n",
      "15/15 [==============================] - 0s 3ms/step - loss: 0.5729 - acc: 0.8000\n",
      "Epoch 1/1\n",
      "15/15 [==============================] - 0s 3ms/step - loss: 0.5661 - acc: 0.8000\n",
      "Epoch 1/1\n",
      "15/15 [==============================] - 0s 3ms/step - loss: 0.5585 - acc: 0.8667\n",
      "Epoch 1/1\n",
      "15/15 [==============================] - 0s 3ms/step - loss: 0.5505 - acc: 0.8667\n",
      "Epoch 1/1\n",
      "15/15 [==============================] - 0s 3ms/step - loss: 0.5427 - acc: 0.8667\n",
      "Epoch 1/1\n",
      "15/15 [==============================] - 0s 3ms/step - loss: 0.5354 - acc: 0.8667\n",
      "Epoch 1/1\n",
      "15/15 [==============================] - 0s 3ms/step - loss: 0.5286 - acc: 0.8667\n",
      "Epoch 1/1\n",
      "15/15 [==============================] - 0s 3ms/step - loss: 0.5222 - acc: 0.8667\n",
      "Epoch 1/1\n",
      "15/15 [==============================] - 0s 3ms/step - loss: 0.5162 - acc: 0.8667\n",
      "Epoch 1/1\n",
      "15/15 [==============================] - 0s 3ms/step - loss: 0.5105 - acc: 0.9333\n",
      "Epoch 1/1\n",
      "15/15 [==============================] - 0s 3ms/step - loss: 0.5050 - acc: 0.9333\n",
      "Epoch 1/1\n",
      "15/15 [==============================] - 0s 3ms/step - loss: 0.4995 - acc: 0.9333\n",
      "Epoch 1/1\n",
      "15/15 [==============================] - 0s 3ms/step - loss: 0.4939 - acc: 0.9333\n",
      "Epoch 1/1\n",
      "15/15 [==============================] - 0s 3ms/step - loss: 0.4882 - acc: 0.9333\n",
      "Epoch 1/1\n",
      "15/15 [==============================] - 0s 3ms/step - loss: 0.4824 - acc: 0.9333\n",
      "Epoch 1/1\n",
      "15/15 [==============================] - 0s 3ms/step - loss: 0.4763 - acc: 0.9333\n",
      "Epoch 1/1\n",
      "15/15 [==============================] - 0s 3ms/step - loss: 0.4701 - acc: 0.9333\n",
      "Epoch 1/1\n",
      "15/15 [==============================] - 0s 3ms/step - loss: 0.4636 - acc: 0.9333\n",
      "Epoch 1/1\n",
      "15/15 [==============================] - 0s 3ms/step - loss: 0.4570 - acc: 0.9333\n",
      "Epoch 1/1\n",
      "15/15 [==============================] - 0s 3ms/step - loss: 0.4503 - acc: 0.9333\n",
      "Epoch 1/1\n",
      "15/15 [==============================] - 0s 3ms/step - loss: 0.4435 - acc: 0.9333\n",
      "Epoch 1/1\n",
      "15/15 [==============================] - 0s 3ms/step - loss: 0.4366 - acc: 0.9333\n",
      "Epoch 1/1\n",
      "15/15 [==============================] - 0s 3ms/step - loss: 0.4297 - acc: 0.9333\n",
      "Epoch 1/1\n",
      "15/15 [==============================] - 0s 3ms/step - loss: 0.4228 - acc: 0.9333\n",
      "Epoch 1/1\n",
      "15/15 [==============================] - 0s 3ms/step - loss: 0.4160 - acc: 0.9333\n",
      "Epoch 1/1\n",
      "15/15 [==============================] - 0s 3ms/step - loss: 0.4093 - acc: 0.9333\n",
      "Epoch 1/1\n",
      "15/15 [==============================] - 0s 3ms/step - loss: 0.4027 - acc: 0.9333\n",
      "Epoch 1/1\n",
      "15/15 [==============================] - 0s 3ms/step - loss: 0.3963 - acc: 0.9333\n",
      "Epoch 1/1\n",
      "15/15 [==============================] - 0s 3ms/step - loss: 0.3902 - acc: 0.9333\n",
      "Epoch 1/1\n",
      "15/15 [==============================] - 0s 3ms/step - loss: 0.3842 - acc: 0.9333\n",
      "Epoch 1/1\n",
      "15/15 [==============================] - 0s 3ms/step - loss: 0.3785 - acc: 0.9333\n",
      "Epoch 1/1\n",
      "15/15 [==============================] - 0s 3ms/step - loss: 0.3731 - acc: 0.9333\n",
      "Epoch 1/1\n",
      "15/15 [==============================] - 0s 3ms/step - loss: 0.3679 - acc: 0.9333\n",
      "Epoch 1/1\n",
      "15/15 [==============================] - 0s 3ms/step - loss: 0.3630 - acc: 0.8667\n",
      "Epoch 1/1\n",
      "15/15 [==============================] - 0s 3ms/step - loss: 0.3583 - acc: 0.8667\n",
      "Epoch 1/1\n",
      "15/15 [==============================] - 0s 3ms/step - loss: 0.3538 - acc: 0.8667\n",
      "Epoch 1/1\n",
      "15/15 [==============================] - 0s 3ms/step - loss: 0.3496 - acc: 0.8667\n",
      "Epoch 1/1\n",
      "15/15 [==============================] - 0s 3ms/step - loss: 0.3456 - acc: 0.8667\n",
      "Epoch 1/1\n",
      "15/15 [==============================] - 0s 3ms/step - loss: 0.3420 - acc: 0.8667\n"
     ]
    }
   ],
   "source": [
    "model_4.compile(optimizer='adam', loss='categorical_crossentropy', metrics=['accuracy'])\n",
    "\n",
    "\n",
    "for i in range(300):\n",
    "    model_4.fit(X, y, epochs=1, batch_size=batch_size, verbose=1, shuffle=False)\n",
    "    model_4.reset_states()"
   ]
  },
  {
   "cell_type": "markdown",
   "metadata": {},
   "source": [
    "### Voy ingresando de a uno la frase original"
   ]
  },
  {
   "cell_type": "code",
   "execution_count": 106,
   "metadata": {},
   "outputs": [
    {
     "name": "stdout",
     "output_type": "stream",
     "text": [
      "M -> A 0.81\n",
      "A -> C 0.86\n",
      "C -> H 0.86\n",
      "H -> I 0.9\n",
      "I -> N 0.97\n",
      "N -> G 0.47\n",
      "E ->   0.65\n",
      "  -> L 0.92\n",
      "L -> E 0.73\n",
      "E -> A 0.47\n",
      "A -> R 0.81\n",
      "R -> N 0.82\n",
      "N -> I 0.52\n",
      "I -> N 0.91\n",
      "N -> E 0.43\n",
      "G -> E 0.37\n"
     ]
    }
   ],
   "source": [
    "# Probar con 0, 3, 4, 7 y 1\n",
    "starting = 0\n",
    "model_4.reset_states()\n",
    "for c in text[starting:]:\n",
    "    to_predict = to_one_hot_vector(c, chars, chars_to_indices, window_size)*1\n",
    "    predicted = model_4.predict(to_predict)\n",
    "    print(c, '->', indices_to_chars[np.argmax(predicted[0])], int(max(predicted[0])*100)/100)"
   ]
  },
  {
   "cell_type": "markdown",
   "metadata": {},
   "source": [
    "Con starting en (text es MACHINE LEARNING):\n",
    "- 0 Predice todo correctamente\n",
    "- 6 Al arrancar en E puede ser tanto la de L**E**AR.. o la de CHIN**E** .. por lo que no tiene demasiada certeza\n",
    "- 4 La I da alta probabilidad para la N"
   ]
  },
  {
   "cell_type": "markdown",
   "metadata": {},
   "source": [
    "### Realimentando salida"
   ]
  },
  {
   "cell_type": "code",
   "execution_count": 111,
   "metadata": {},
   "outputs": [
    {
     "name": "stdout",
     "output_type": "stream",
     "text": [
      "M -> A 0.81\n",
      "A -> C 0.86\n",
      "C -> H 0.86\n",
      "H -> I 0.9\n",
      "I -> N 0.97\n",
      "N -> G 0.47\n",
      "G -> A 0.27\n",
      "A -> R 0.71\n",
      "R -> N 0.54\n",
      "N -> I 0.7\n",
      "I -> N 0.68\n",
      "N -> E 0.41\n",
      "E ->   0.55\n",
      "  -> L 0.83\n",
      "L -> E 0.88\n",
      "E -> A 0.34\n",
      "A -> R 0.77\n",
      "R -> N 0.69\n",
      "N -> I 0.74\n",
      "I -> N 0.86\n",
      "N -> G 0.42\n",
      "G -> E 0.41\n",
      "E -> R 0.48\n",
      "R -> L 0.85\n",
      "L -> N 0.43\n"
     ]
    }
   ],
   "source": [
    "starting = 0\n",
    "model_4.reset_states()\n",
    "c = text[starting]\n",
    "\n",
    "for i in range(25):\n",
    "    to_predict = to_one_hot_vector(c, chars, chars_to_indices, window_size)\n",
    "    \n",
    "    predicted = model_4.predict(to_predict)\n",
    "    \n",
    "    pred_char = indices_to_chars[np.argmax(predicted[0])]\n",
    "    print(c, '->', pred_char, int(max(predicted[0])*100)/100)\n",
    "    \n",
    "    c = pred_char"
   ]
  },
  {
   "cell_type": "markdown",
   "metadata": {},
   "source": [
    "## Ejemplo 5: Padding\n",
    "\"The model will learn the zero values carry no information so indeed the sequences are not the same length in terms of content, but same length vectors is required to perform the computation in Keras.\" https://machinelearningmastery.com/sequence-classification-lstm-recurrent-neural-networks-python-keras/\n",
    "https://machinelearningmastery.com/understanding-stateful-lstm-recurrent-neural-networks-python-keras/\n",
    "\n",
    "¿Como entreno no-statefull pero que de resultados similares a la statefull?"
   ]
  },
  {
   "cell_type": "code",
   "execution_count": 112,
   "metadata": {},
   "outputs": [],
   "source": [
    "def window_transform_text_padding_mode(text):\n",
    "    len_out = len(text)\n",
    "    \n",
    "    #output_start[-1] = text[:1]\n",
    "    #output_start[len_out-1:len_out-2] = text[0:1]\n",
    "    text = text\n",
    "    X = []\n",
    "    y = []\n",
    "    for i in range(len_out):\n",
    "        #X.append()\n",
    "        output_start = ['']*(len_out-1)\n",
    "        output_start[len_out-i-1:len_out] = text[0:i]\n",
    "        X.append(output_start)\n",
    "        y.append(text[i])\n",
    "    return X, y"
   ]
  },
  {
   "cell_type": "markdown",
   "metadata": {},
   "source": [
    "### Armo entradas con padding"
   ]
  },
  {
   "cell_type": "code",
   "execution_count": 137,
   "metadata": {},
   "outputs": [
    {
     "name": "stdout",
     "output_type": "stream",
     "text": [
      "16\n",
      "16\n"
     ]
    }
   ],
   "source": [
    "X_5, y_5 = window_transform_text_padding_mode(text)\n",
    "print(len(X_5))\n",
    "print(len(y_5))"
   ]
  },
  {
   "cell_type": "code",
   "execution_count": 135,
   "metadata": {},
   "outputs": [
    {
     "data": {
      "text/plain": [
       "[['', '', '', '', '', '', '', '', '', '', '', '', '', '', ''],\n",
       " ['', '', '', '', '', '', '', '', '', '', '', '', '', '', 'M'],\n",
       " ['', '', '', '', '', '', '', '', '', '', '', '', '', 'M', 'A'],\n",
       " ['', '', '', '', '', '', '', '', '', '', '', '', 'M', 'A', 'C'],\n",
       " ['', '', '', '', '', '', '', '', '', '', '', 'M', 'A', 'C', 'H'],\n",
       " ['', '', '', '', '', '', '', '', '', '', 'M', 'A', 'C', 'H', 'I'],\n",
       " ['', '', '', '', '', '', '', '', '', 'M', 'A', 'C', 'H', 'I', 'N'],\n",
       " ['', '', '', '', '', '', '', '', 'M', 'A', 'C', 'H', 'I', 'N', 'E'],\n",
       " ['', '', '', '', '', '', '', 'M', 'A', 'C', 'H', 'I', 'N', 'E', ' '],\n",
       " ['', '', '', '', '', '', 'M', 'A', 'C', 'H', 'I', 'N', 'E', ' ', 'L'],\n",
       " ['', '', '', '', '', 'M', 'A', 'C', 'H', 'I', 'N', 'E', ' ', 'L', 'E'],\n",
       " ['', '', '', '', 'M', 'A', 'C', 'H', 'I', 'N', 'E', ' ', 'L', 'E', 'A'],\n",
       " ['', '', '', 'M', 'A', 'C', 'H', 'I', 'N', 'E', ' ', 'L', 'E', 'A', 'R'],\n",
       " ['', '', 'M', 'A', 'C', 'H', 'I', 'N', 'E', ' ', 'L', 'E', 'A', 'R', 'N'],\n",
       " ['', 'M', 'A', 'C', 'H', 'I', 'N', 'E', ' ', 'L', 'E', 'A', 'R', 'N', 'I'],\n",
       " ['M', 'A', 'C', 'H', 'I', 'N', 'E', ' ', 'L', 'E', 'A', 'R', 'N', 'I', 'N']]"
      ]
     },
     "execution_count": 135,
     "metadata": {},
     "output_type": "execute_result"
    }
   ],
   "source": [
    "X_5"
   ]
  },
  {
   "cell_type": "code",
   "execution_count": 139,
   "metadata": {},
   "outputs": [
    {
     "data": {
      "text/plain": [
       "['M',\n",
       " 'A',\n",
       " 'C',\n",
       " 'H',\n",
       " 'I',\n",
       " 'N',\n",
       " 'E',\n",
       " ' ',\n",
       " 'L',\n",
       " 'E',\n",
       " 'A',\n",
       " 'R',\n",
       " 'N',\n",
       " 'I',\n",
       " 'N',\n",
       " 'G']"
      ]
     },
     "execution_count": 139,
     "metadata": {},
     "output_type": "execute_result"
    }
   ],
   "source": [
    "y_5"
   ]
  },
  {
   "cell_type": "code",
   "execution_count": 140,
   "metadata": {},
   "outputs": [
    {
     "name": "stdout",
     "output_type": "stream",
     "text": [
      "Chars:  [' ', 'A', 'C', 'E', 'G', 'H', 'I', 'L', 'M', 'N', 'R']\n"
     ]
    },
    {
     "data": {
      "text/plain": [
       "{' ': 0,\n",
       " 'A': 1,\n",
       " 'C': 2,\n",
       " 'E': 3,\n",
       " 'G': 4,\n",
       " 'H': 5,\n",
       " 'I': 6,\n",
       " 'L': 7,\n",
       " 'M': 8,\n",
       " 'N': 9,\n",
       " 'R': 10,\n",
       " '': -1}"
      ]
     },
     "execution_count": 140,
     "metadata": {},
     "output_type": "execute_result"
    }
   ],
   "source": [
    "chars = sorted(set(\"MACHINE LEARNING\"))\n",
    "print('Chars: ', chars)\n",
    "\n",
    "chars_to_indices = dict((c, i) for i, c in enumerate(chars))\n",
    "chars_to_indices[''] = -1\n",
    "chars_to_indices"
   ]
  },
  {
   "cell_type": "code",
   "execution_count": 141,
   "metadata": {},
   "outputs": [],
   "source": [
    "def code_chars(X, y, chars_to_indices):\n",
    "    X_coded = []\n",
    "    y_coded = []\n",
    "    for i, xi in enumerate(X):\n",
    "        one_h_y = [0]*(len(chars_to_indices) - 1) # Menos 1 por el '' agregado\n",
    "        vect = []\n",
    "        for c in xi:\n",
    "            one_h = [0]*(len(chars_to_indices) - 1)\n",
    "            if c == '':\n",
    "                vect.append(one_h)\n",
    "            else:\n",
    "                one_h[chars_to_indices[c]] = 1\n",
    "                vect.append(one_h)\n",
    "        X_coded.append(vect)\n",
    "        one_h_y[chars_to_indices[y[i]]] = 1\n",
    "        y_coded.append(one_h_y)\n",
    "    return np.array(X_coded), np.array(y_coded)"
   ]
  },
  {
   "cell_type": "code",
   "execution_count": 142,
   "metadata": {},
   "outputs": [],
   "source": [
    "X_coded, y_coded = code_chars(X_5, y_5, chars_to_indices)"
   ]
  },
  {
   "cell_type": "code",
   "execution_count": 143,
   "metadata": {},
   "outputs": [
    {
     "data": {
      "text/plain": [
       "((16, 15, 11), (16, 11))"
      ]
     },
     "execution_count": 143,
     "metadata": {},
     "output_type": "execute_result"
    }
   ],
   "source": [
    "X_coded.shape, y_coded.shape"
   ]
  },
  {
   "cell_type": "code",
   "execution_count": 145,
   "metadata": {},
   "outputs": [
    {
     "data": {
      "text/plain": [
       "array([[0, 0, 0, 0, 0, 0, 0, 0, 0, 0, 0],\n",
       "       [0, 0, 0, 0, 0, 0, 0, 0, 0, 0, 0],\n",
       "       [0, 0, 0, 0, 0, 0, 0, 0, 0, 0, 0],\n",
       "       [0, 0, 0, 0, 0, 0, 0, 0, 0, 0, 0],\n",
       "       [0, 0, 0, 0, 0, 0, 0, 0, 0, 0, 0],\n",
       "       [0, 0, 0, 0, 0, 0, 0, 0, 0, 0, 0],\n",
       "       [0, 0, 0, 0, 0, 0, 0, 0, 0, 0, 0],\n",
       "       [0, 0, 0, 0, 0, 0, 0, 0, 0, 0, 0],\n",
       "       [0, 0, 0, 0, 0, 0, 0, 0, 0, 0, 0],\n",
       "       [0, 0, 0, 0, 0, 0, 0, 0, 0, 0, 0],\n",
       "       [0, 0, 0, 0, 0, 0, 0, 0, 0, 0, 0],\n",
       "       [0, 0, 0, 0, 0, 0, 0, 0, 0, 0, 0],\n",
       "       [0, 0, 0, 0, 0, 0, 0, 0, 0, 0, 0],\n",
       "       [0, 0, 0, 0, 0, 0, 0, 0, 0, 0, 0],\n",
       "       [0, 0, 0, 0, 0, 0, 0, 0, 0, 0, 0]])"
      ]
     },
     "execution_count": 145,
     "metadata": {},
     "output_type": "execute_result"
    }
   ],
   "source": [
    "# Primer entrada todos ceros\n",
    "#[['', '', '', '', '', '', '', '', '', '', '', '', '', '', '']\n",
    "X_coded[0]"
   ]
  },
  {
   "cell_type": "code",
   "execution_count": 146,
   "metadata": {},
   "outputs": [
    {
     "data": {
      "text/plain": [
       "array([[0, 0, 0, 0, 0, 0, 0, 0, 0, 0, 0],\n",
       "       [0, 0, 0, 0, 0, 0, 0, 0, 0, 0, 0],\n",
       "       [0, 0, 0, 0, 0, 0, 0, 0, 0, 0, 0],\n",
       "       [0, 0, 0, 0, 0, 0, 0, 0, 0, 0, 0],\n",
       "       [0, 0, 0, 0, 0, 0, 0, 0, 0, 0, 0],\n",
       "       [0, 0, 0, 0, 0, 0, 0, 0, 0, 0, 0],\n",
       "       [0, 0, 0, 0, 0, 0, 0, 0, 0, 0, 0],\n",
       "       [0, 0, 0, 0, 0, 0, 0, 0, 0, 0, 0],\n",
       "       [0, 0, 0, 0, 0, 0, 0, 0, 0, 0, 0],\n",
       "       [0, 0, 0, 0, 0, 0, 0, 0, 0, 0, 0],\n",
       "       [0, 0, 0, 0, 0, 0, 0, 0, 0, 0, 0],\n",
       "       [0, 0, 0, 0, 0, 0, 0, 0, 0, 0, 0],\n",
       "       [0, 0, 0, 0, 0, 0, 0, 0, 0, 0, 0],\n",
       "       [0, 0, 0, 0, 0, 0, 0, 0, 0, 0, 0],\n",
       "       [0, 0, 0, 0, 0, 0, 0, 0, 1, 0, 0]])"
      ]
     },
     "execution_count": 146,
     "metadata": {},
     "output_type": "execute_result"
    }
   ],
   "source": [
    "# ['', '', '', '', '', '', '', '', '', '', '', '', '', '', 'M'],\n",
    "X_coded[1]"
   ]
  },
  {
   "cell_type": "code",
   "execution_count": 147,
   "metadata": {},
   "outputs": [
    {
     "data": {
      "text/plain": [
       "array([0, 0, 0, 0, 0, 0, 0, 0, 1, 0, 0])"
      ]
     },
     "execution_count": 147,
     "metadata": {},
     "output_type": "execute_result"
    }
   ],
   "source": [
    "y_coded[0]"
   ]
  },
  {
   "cell_type": "markdown",
   "metadata": {},
   "source": [
    "### Entreno modelo"
   ]
  },
  {
   "cell_type": "code",
   "execution_count": 172,
   "metadata": {},
   "outputs": [
    {
     "data": {
      "text/plain": [
       "(15, 11)"
      ]
     },
     "execution_count": 172,
     "metadata": {},
     "output_type": "execute_result"
    }
   ],
   "source": [
    "input_shape=(X_coded.shape[1],X_coded.shape[2])\n",
    "input_shape"
   ]
  },
  {
   "cell_type": "code",
   "execution_count": 173,
   "metadata": {},
   "outputs": [
    {
     "name": "stdout",
     "output_type": "stream",
     "text": [
      "_________________________________________________________________\n",
      "Layer (type)                 Output Shape              Param #   \n",
      "=================================================================\n",
      "simple_rnn_16 (SimpleRNN)    (None, 10)                220       \n",
      "_________________________________________________________________\n",
      "dense_16 (Dense)             (None, 11)                121       \n",
      "=================================================================\n",
      "Total params: 341\n",
      "Trainable params: 341\n",
      "Non-trainable params: 0\n",
      "_________________________________________________________________\n"
     ]
    }
   ],
   "source": [
    "model_5 = Sequential()\n",
    "model_5.add(SimpleRNN(10, input_shape=input_shape))\n",
    "model_5.add(Dense(len(chars), activation=\"softmax\"))\n",
    "model_5.summary()"
   ]
  },
  {
   "cell_type": "code",
   "execution_count": 174,
   "metadata": {},
   "outputs": [
    {
     "data": {
      "image/png": "[encoded data removed]",
      "text/plain": [
       "<Figure size 1440x360 with 2 Axes>"
      ]
     },
     "metadata": {
      "needs_background": "light"
     },
     "output_type": "display_data"
    },
    {
     "name": "stdout",
     "output_type": "stream",
     "text": [
      "Epoch 492/500\n",
      "16/16 [==============================] - 0s 8ms/step - loss: 0.0134 - acc: 1.0000\n",
      "Epoch 493/500\n",
      "16/16 [==============================] - 0s 8ms/step - loss: 0.0133 - acc: 1.0000\n",
      "Epoch 494/500\n",
      "16/16 [==============================] - 0s 8ms/step - loss: 0.0132 - acc: 1.0000\n",
      "Epoch 495/500\n",
      "16/16 [==============================] - 0s 8ms/step - loss: 0.0130 - acc: 1.0000\n",
      "Epoch 496/500\n",
      "16/16 [==============================] - 0s 8ms/step - loss: 0.0130 - acc: 1.0000\n",
      "Epoch 497/500\n",
      "16/16 [==============================] - 0s 8ms/step - loss: 0.0128 - acc: 1.0000\n",
      "Epoch 498/500\n",
      "16/16 [==============================] - 0s 8ms/step - loss: 0.0127 - acc: 1.0000\n",
      "Epoch 499/500\n",
      "16/16 [==============================] - 0s 7ms/step - loss: 0.0127 - acc: 1.0000\n",
      "Epoch 500/500\n",
      "16/16 [==============================] - 0s 8ms/step - loss: 0.0125 - acc: 1.0000\n"
     ]
    },
    {
     "data": {
      "text/plain": [
       "<keras.callbacks.History at 0x7f0a98ff59e8>"
      ]
     },
     "execution_count": 174,
     "metadata": {},
     "output_type": "execute_result"
    }
   ],
   "source": [
    "model_5.compile(optimizer='adam', loss='categorical_crossentropy', metrics=['accuracy'])\n",
    "\n",
    "model_5.fit(\n",
    "    X_coded,\n",
    "    y_coded, \n",
    "    epochs=500, \n",
    "    batch_size=1, \n",
    "    verbose=1, \n",
    "    callbacks=[PlotLosses(plot_interval=10, evaluate_interval=None)]\n",
    ")"
   ]
  },
  {
   "cell_type": "code",
   "execution_count": 176,
   "metadata": {},
   "outputs": [
    {
     "name": "stdout",
     "output_type": "stream",
     "text": [
      "(16, 15, 11)\n",
      "['', '', '', '', '', '', '', '', '', '', '', '', '', '', ''] -> M 0.96\n",
      "['', '', '', '', '', '', '', '', '', '', '', '', '', '', 'M'] -> A 0.97\n",
      "['', '', '', '', '', '', '', '', '', '', '', '', '', 'M', 'A'] -> C 0.97\n",
      "['', '', '', '', '', '', '', '', '', '', '', '', 'M', 'A', 'C'] -> H 0.99\n",
      "['', '', '', '', '', '', '', '', '', '', '', 'M', 'A', 'C', 'H'] -> I 0.99\n",
      "['', '', '', '', '', '', '', '', '', '', 'M', 'A', 'C', 'H', 'I'] -> N 0.99\n",
      "['', '', '', '', '', '', '', '', '', 'M', 'A', 'C', 'H', 'I', 'N'] -> E 0.98\n",
      "['', '', '', '', '', '', '', '', 'M', 'A', 'C', 'H', 'I', 'N', 'E'] ->   0.98\n",
      "['', '', '', '', '', '', '', 'M', 'A', 'C', 'H', 'I', 'N', 'E', ' '] -> L 0.99\n",
      "['', '', '', '', '', '', 'M', 'A', 'C', 'H', 'I', 'N', 'E', ' ', 'L'] -> E 0.99\n",
      "['', '', '', '', '', 'M', 'A', 'C', 'H', 'I', 'N', 'E', ' ', 'L', 'E'] -> A 0.98\n",
      "['', '', '', '', 'M', 'A', 'C', 'H', 'I', 'N', 'E', ' ', 'L', 'E', 'A'] -> R 0.98\n",
      "['', '', '', 'M', 'A', 'C', 'H', 'I', 'N', 'E', ' ', 'L', 'E', 'A', 'R'] -> N 0.99\n",
      "['', '', 'M', 'A', 'C', 'H', 'I', 'N', 'E', ' ', 'L', 'E', 'A', 'R', 'N'] -> I 0.99\n",
      "['', 'M', 'A', 'C', 'H', 'I', 'N', 'E', ' ', 'L', 'E', 'A', 'R', 'N', 'I'] -> N 0.99\n",
      "['M', 'A', 'C', 'H', 'I', 'N', 'E', ' ', 'L', 'E', 'A', 'R', 'N', 'I', 'N'] -> G 0.98\n"
     ]
    }
   ],
   "source": [
    "to_predict = X_coded\n",
    "print(to_predict.shape)\n",
    "predicted = model_5.predict(to_predict)\n",
    "for i, row in enumerate(predicted):\n",
    "    idx = np.argmax(row)\n",
    "    print(X_5[i], '->', indices_to_chars[idx], int(row[idx]*100)/100)"
   ]
  },
  {
   "cell_type": "markdown",
   "metadata": {},
   "source": [
    "### Ahora redefino modelo como stateful y cargo los pesos del anterior"
   ]
  },
  {
   "cell_type": "code",
   "execution_count": 186,
   "metadata": {},
   "outputs": [
    {
     "data": {
      "text/plain": [
       "(1, 1, 11)"
      ]
     },
     "execution_count": 186,
     "metadata": {},
     "output_type": "execute_result"
    }
   ],
   "source": [
    "batch_input_shape=(batch_size, 1, len(chars))\n",
    "batch_input_shape"
   ]
  },
  {
   "cell_type": "code",
   "execution_count": 187,
   "metadata": {},
   "outputs": [
    {
     "name": "stdout",
     "output_type": "stream",
     "text": [
      "_________________________________________________________________\n",
      "Layer (type)                 Output Shape              Param #   \n",
      "=================================================================\n",
      "simple_rnn_20 (SimpleRNN)    (1, 10)                   220       \n",
      "_________________________________________________________________\n",
      "dense_20 (Dense)             (1, 11)                   121       \n",
      "=================================================================\n",
      "Total params: 341\n",
      "Trainable params: 341\n",
      "Non-trainable params: 0\n",
      "_________________________________________________________________\n"
     ]
    }
   ],
   "source": [
    "batch_size=1\n",
    "model_5s = Sequential()\n",
    "model_5s.add(SimpleRNN(10, batch_input_shape=batch_input_shape, stateful=True))\n",
    "model_5s.add(Dense(len(chars), activation=\"softmax\"))\n",
    "model_5s.summary()"
   ]
  },
  {
   "cell_type": "code",
   "execution_count": 188,
   "metadata": {},
   "outputs": [],
   "source": [
    "model_5s.set_weights(model_5.get_weights())"
   ]
  },
  {
   "cell_type": "markdown",
   "metadata": {},
   "source": [
    "### Donde esta el maximo si ingreso ceros?"
   ]
  },
  {
   "cell_type": "code",
   "execution_count": 189,
   "metadata": {},
   "outputs": [
    {
     "name": "stdout",
     "output_type": "stream",
     "text": [
      "1 [[[0. 0. 0. 0. 0. 0. 0. 0. 0. 0. 0.]]] -> N 0.19\n",
      "2 [[[0. 0. 0. 0. 0. 0. 0. 0. 0. 0. 0.]]] -> N 0.15\n",
      "3 [[[0. 0. 0. 0. 0. 0. 0. 0. 0. 0. 0.]]] -> M 0.2\n",
      "4 [[[0. 0. 0. 0. 0. 0. 0. 0. 0. 0. 0.]]] -> A 0.25\n",
      "5 [[[0. 0. 0. 0. 0. 0. 0. 0. 0. 0. 0.]]] -> M 0.56\n",
      "6 [[[0. 0. 0. 0. 0. 0. 0. 0. 0. 0. 0.]]] -> M 0.48\n",
      "7 [[[0. 0. 0. 0. 0. 0. 0. 0. 0. 0. 0.]]] -> A 0.87\n",
      "8 [[[0. 0. 0. 0. 0. 0. 0. 0. 0. 0. 0.]]] -> C 0.76\n",
      "9 [[[0. 0. 0. 0. 0. 0. 0. 0. 0. 0. 0.]]] -> H 0.68\n",
      "10 [[[0. 0. 0. 0. 0. 0. 0. 0. 0. 0. 0.]]] -> I 0.51\n",
      "11 [[[0. 0. 0. 0. 0. 0. 0. 0. 0. 0. 0.]]] -> H 0.76\n",
      "12 [[[0. 0. 0. 0. 0. 0. 0. 0. 0. 0. 0.]]] -> C 0.28\n",
      "13 [[[0. 0. 0. 0. 0. 0. 0. 0. 0. 0. 0.]]] -> M 0.48\n",
      "14 [[[0. 0. 0. 0. 0. 0. 0. 0. 0. 0. 0.]]] -> M 0.81\n",
      "15 [[[0. 0. 0. 0. 0. 0. 0. 0. 0. 0. 0.]]] -> M 0.96\n",
      "16 [[[0. 0. 0. 0. 0. 0. 0. 0. 0. 0. 0.]]] -> A 0.77\n",
      "17 [[[0. 0. 0. 0. 0. 0. 0. 0. 0. 0. 0.]]] -> A 0.35\n",
      "18 [[[0. 0. 0. 0. 0. 0. 0. 0. 0. 0. 0.]]] -> I 0.4\n",
      "19 [[[0. 0. 0. 0. 0. 0. 0. 0. 0. 0. 0.]]] -> I 0.51\n",
      "20 [[[0. 0. 0. 0. 0. 0. 0. 0. 0. 0. 0.]]] -> N 0.62\n"
     ]
    }
   ],
   "source": [
    "model_5s.reset_states()\n",
    "to_predict = np.zeros((1,1,y_coded.shape[1]))\n",
    "\n",
    "for i in range(20):\n",
    "    predicted = model_5s.predict(to_predict)\n",
    "\n",
    "    idx = np.argmax(predicted[0])\n",
    "    print(\n",
    "        i + 1, \n",
    "        to_predict,\n",
    "        '->', indices_to_chars[idx],\n",
    "        int(predicted[0][idx]*100) / 100\n",
    "    )"
   ]
  },
  {
   "cell_type": "markdown",
   "metadata": {},
   "source": [
    "Notar que el máximo esta en la posición 16 y es M (Luego de ingresar con 16 ceros)"
   ]
  },
  {
   "cell_type": "code",
   "execution_count": 193,
   "metadata": {},
   "outputs": [
    {
     "name": "stdout",
     "output_type": "stream",
     "text": [
      "Input:  [[[0. 0. 0. 0. 0. 0. 0. 0. 0. 0. 0.]]]\n",
      "1 [[[0. 0. 0. 0. 0. 0. 0. 0. 0. 0. 0.]]] -> N 0.19\n",
      "2 [[[0. 0. 0. 0. 0. 0. 0. 0. 0. 0. 0.]]] -> N 0.15\n",
      "3 [[[0. 0. 0. 0. 0. 0. 0. 0. 0. 0. 0.]]] -> M 0.2\n",
      "4 [[[0. 0. 0. 0. 0. 0. 0. 0. 0. 0. 0.]]] -> A 0.25\n",
      "5 [[[0. 0. 0. 0. 0. 0. 0. 0. 0. 0. 0.]]] -> M 0.56\n",
      "6 [[[0. 0. 0. 0. 0. 0. 0. 0. 0. 0. 0.]]] -> M 0.48\n",
      "7 [[[0. 0. 0. 0. 0. 0. 0. 0. 0. 0. 0.]]] -> A 0.87\n",
      "8 [[[0. 0. 0. 0. 0. 0. 0. 0. 0. 0. 0.]]] -> C 0.76\n",
      "9 [[[0. 0. 0. 0. 0. 0. 0. 0. 0. 0. 0.]]] -> H 0.68\n",
      "10 [[[0. 0. 0. 0. 0. 0. 0. 0. 0. 0. 0.]]] -> I 0.51\n",
      "11 [[[0. 0. 0. 0. 0. 0. 0. 0. 0. 0. 0.]]] -> H 0.76\n",
      "12 [[[0. 0. 0. 0. 0. 0. 0. 0. 0. 0. 0.]]] -> C 0.28\n",
      "13 [[[0. 0. 0. 0. 0. 0. 0. 0. 0. 0. 0.]]] -> M 0.48\n",
      "14 [[[0. 0. 0. 0. 0. 0. 0. 0. 0. 0. 0.]]] -> M 0.81\n",
      "15 [[[0. 0. 0. 0. 0. 0. 0. 0. 0. 0. 0.]]] -> M 0.96\n"
     ]
    }
   ],
   "source": [
    "model_5s.reset_states()\n",
    "to_predict = np.zeros((1,1,y_coded.shape[1]))\n",
    "\n",
    "print(\"Input: \", to_predict)\n",
    "\n",
    "for i in range(15):\n",
    "    predicted = model_5s.predict(to_predict)\n",
    "    \n",
    "    idx = np.argmax(predicted[0])\n",
    "    print(\n",
    "        i + 1, \n",
    "        to_predict, \n",
    "        '->', \n",
    "        indices_to_chars[idx], \n",
    "        int(predicted[0][idx] * 100) / 100\n",
    "    )"
   ]
  },
  {
   "cell_type": "code",
   "execution_count": 194,
   "metadata": {},
   "outputs": [
    {
     "name": "stdout",
     "output_type": "stream",
     "text": [
      "[[[0 0 0 0 0 0 0 0 1 0 0]]] -> A 0.99\n",
      "[[[0 1 0 0 0 0 0 0 0 0 0]]] -> C 0.9\n",
      "[[[0 0 1 0 0 0 0 0 0 0 0]]] -> H 0.84\n",
      "[[[0 0 0 0 0 1 0 0 0 0 0]]] -> I 0.98\n",
      "[[[0 0 0 0 0 0 1 0 0 0 0]]] -> N 0.98\n",
      "[[[0 0 0 0 0 0 0 0 0 1 0]]] -> G 0.61\n",
      "[[[0 0 0 1 0 0 0 0 0 0 0]]] ->   0.97\n",
      "[[[1 0 0 0 0 0 0 0 0 0 0]]] -> L 0.99\n",
      "[[[0 0 0 0 0 0 0 1 0 0 0]]] -> E 0.99\n",
      "[[[0 0 0 1 0 0 0 0 0 0 0]]] -> A 0.98\n",
      "[[[0 1 0 0 0 0 0 0 0 0 0]]] -> R 0.98\n",
      "[[[0 0 0 0 0 0 0 0 0 0 1]]] -> N 0.99\n",
      "[[[0 0 0 0 0 0 0 0 0 1 0]]] -> I 0.99\n",
      "[[[0 0 0 0 0 0 1 0 0 0 0]]] -> N 0.99\n",
      "[[[0 0 0 0 0 0 0 0 0 1 0]]] -> G 0.98\n",
      "[[[0 0 0 0 1 0 0 0 0 0 0]]] ->   0.93\n"
     ]
    }
   ],
   "source": [
    "for i in range(16):\n",
    "    to_predict = y_coded[i:i+1].reshape(1, 1, len(chars))\n",
    "    predicted = model_5s.predict(to_predict)\n",
    "    idx = np.argmax(predicted[0])\n",
    "    print(to_predict, '->', indices_to_chars[idx], int(predicted[0][idx]*100)/100)"
   ]
  },
  {
   "cell_type": "markdown",
   "metadata": {},
   "source": [
    "Notar que esto no funciona del todo bien ya que aprende que despues de 16 ceros viene la M y que despues de 15 ceros mas una M viene una A"
   ]
  },
  {
   "cell_type": "markdown",
   "metadata": {},
   "source": [
    "### Realimento salida\n",
    "Pero no ingreso con one-hot sino con las predicciones"
   ]
  },
  {
   "cell_type": "code",
   "execution_count": 216,
   "metadata": {},
   "outputs": [
    {
     "name": "stdout",
     "output_type": "stream",
     "text": [
      "Input:  [[[0. 0. 0. 0. 0. 0. 0. 0. 0. 0. 0.]]]\n",
      "\n",
      "\" \" 1 [[[0. 0. 0. 0. 0. 0. 0. 0. 0. 0. 0.]]] -> \"N\" 0.19\n",
      "\" \" 2 [[[0. 0. 0. 0. 0. 0. 0. 0. 0. 0. 0.]]] -> \"N\" 0.15\n",
      "\" \" 3 [[[0. 0. 0. 0. 0. 0. 0. 0. 0. 0. 0.]]] -> \"M\" 0.2\n",
      "\" \" 4 [[[0. 0. 0. 0. 0. 0. 0. 0. 0. 0. 0.]]] -> \"A\" 0.25\n",
      "\" \" 5 [[[0. 0. 0. 0. 0. 0. 0. 0. 0. 0. 0.]]] -> \"M\" 0.56\n",
      "\" \" 6 [[[0. 0. 0. 0. 0. 0. 0. 0. 0. 0. 0.]]] -> \"M\" 0.48\n",
      "\" \" 7 [[[0. 0. 0. 0. 0. 0. 0. 0. 0. 0. 0.]]] -> \"A\" 0.87\n",
      "\" \" 8 [[[0. 0. 0. 0. 0. 0. 0. 0. 0. 0. 0.]]] -> \"C\" 0.76\n",
      "\" \" 9 [[[0. 0. 0. 0. 0. 0. 0. 0. 0. 0. 0.]]] -> \"H\" 0.68\n",
      "\" \" 10 [[[0. 0. 0. 0. 0. 0. 0. 0. 0. 0. 0.]]] -> \"I\" 0.51\n",
      "\" \" 11 [[[0. 0. 0. 0. 0. 0. 0. 0. 0. 0. 0.]]] -> \"H\" 0.76\n",
      "\" \" 12 [[[0. 0. 0. 0. 0. 0. 0. 0. 0. 0. 0.]]] -> \"C\" 0.28\n",
      "\" \" 13 [[[0. 0. 0. 0. 0. 0. 0. 0. 0. 0. 0.]]] -> \"M\" 0.48\n",
      "\" \" 14 [[[0. 0. 0. 0. 0. 0. 0. 0. 0. 0. 0.]]] -> \"M\" 0.81\n",
      "\" \" 15 [[[0. 0. 0. 0. 0. 0. 0. 0. 0. 0. 0.]]] -> \"M\" 0.96\n",
      "\n",
      "(1, 11)\n",
      "\"M\" [[[0.   0.01 0.   0.01 0.   0.   0.   0.   0.96 0.   0.  ]]] -> \"A\" 0.99\n",
      "\"A\" [[[0.   0.99 0.   0.   0.   0.   0.   0.   0.   0.   0.  ]]] -> \"C\" 0.89\n",
      "\"C\" [[[0.   0.   0.89 0.   0.   0.02 0.   0.   0.01 0.   0.03]]] -> \"H\" 0.81\n",
      "\"H\" [[[0.   0.   0.   0.   0.   0.81 0.04 0.   0.   0.12 0.  ]]] -> \"I\" 0.97\n",
      "\"I\" [[[0.   0.   0.   0.   0.   0.   0.97 0.   0.   0.   0.  ]]] -> \"N\" 0.98\n",
      "\"N\" [[[0.   0.   0.   0.   0.   0.   0.   0.   0.   0.98 0.  ]]] -> \"G\" 0.59\n",
      "\"G\" [[[0.01 0.   0.   0.36 0.59 0.   0.   0.   0.   0.   0.  ]]] -> \" \" 0.97\n",
      "\" \" [[[0.97 0.   0.   0.   0.   0.   0.   0.   0.   0.   0.  ]]] -> \"L\" 0.99\n",
      "\"L\" [[[0.   0.   0.   0.   0.   0.   0.   0.99 0.   0.   0.  ]]] -> \"E\" 0.99\n",
      "\"E\" [[[0.   0.   0.   0.99 0.   0.   0.   0.   0.   0.   0.  ]]] -> \"A\" 0.98\n",
      "\"A\" [[[0.   0.98 0.   0.   0.   0.   0.   0.   0.   0.   0.  ]]] -> \"R\" 0.98\n",
      "\"R\" [[[0.   0.   0.   0.   0.   0.   0.   0.   0.   0.   0.98]]] -> \"N\" 0.99\n",
      "\"N\" [[[0.   0.   0.   0.   0.   0.   0.   0.   0.   0.99 0.  ]]] -> \"I\" 0.99\n",
      "\"I\" [[[0.   0.   0.   0.   0.   0.   0.99 0.   0.   0.   0.  ]]] -> \"N\" 0.99\n",
      "\"N\" [[[0.   0.   0.   0.   0.   0.   0.   0.   0.   0.99 0.  ]]] -> \"G\" 0.98\n",
      "\"G\" [[[0.   0.   0.   0.   0.98 0.   0.   0.   0.   0.   0.  ]]] -> \" \" 0.93\n"
     ]
    }
   ],
   "source": [
    "window_size=1\n",
    "\n",
    "model_5s.reset_states()\n",
    "\n",
    "to_predict = np.zeros((1,1,y_coded.shape[1]))\n",
    "print(\"Input: \", to_predict)\n",
    "\n",
    "print()\n",
    "\n",
    "for i in range(15):\n",
    "    predicted = model_5s.predict(to_predict)\n",
    "    idx = np.argmax(predicted[0])\n",
    "    print(\n",
    "        f'\"{indices_to_chars[np.argmax(to_predict)]}\"',\n",
    "        i + 1, \n",
    "        to_predict, \n",
    "        '->', \n",
    "        f'\"{indices_to_chars[idx]}\"', \n",
    "        int(predicted[0][idx]*100)/100\n",
    "    )\n",
    "    \n",
    "print()\n",
    "print(predicted.shape)\n",
    "\n",
    "for i in range(16):\n",
    "    to_predict = predicted.reshape(1, 1, len(chars))\n",
    "    predicted = model_5s.predict(to_predict)\n",
    "    \n",
    "    idx = np.argmax(predicted[0])\n",
    "    print(\n",
    "        f'\"{indices_to_chars[np.argmax(to_predict)]}\"',\n",
    "        (to_predict*100).astype(int)/100, \n",
    "        '->', \n",
    "        f'\"{indices_to_chars[idx]}\"', \n",
    "        int(predicted[0][idx]*100)/100\n",
    "    )"
   ]
  },
  {
   "cell_type": "markdown",
   "metadata": {},
   "source": [
    "## Ejemplo 6: Masking"
   ]
  },
  {
   "cell_type": "code",
   "execution_count": 68,
   "metadata": {},
   "outputs": [],
   "source": [
    "from keras.layers import Masking"
   ]
  },
  {
   "cell_type": "markdown",
   "metadata": {},
   "source": [
    "### Armo modelo"
   ]
  },
  {
   "cell_type": "code",
   "execution_count": 69,
   "metadata": {},
   "outputs": [
    {
     "name": "stdout",
     "output_type": "stream",
     "text": [
      "_________________________________________________________________\n",
      "Layer (type)                 Output Shape              Param #   \n",
      "=================================================================\n",
      "masking_1 (Masking)          (None, 15, 11)            0         \n",
      "_________________________________________________________________\n",
      "simple_rnn_8 (SimpleRNN)     (None, 10)                220       \n",
      "_________________________________________________________________\n",
      "dense_8 (Dense)              (None, 11)                121       \n",
      "=================================================================\n",
      "Total params: 341\n",
      "Trainable params: 341\n",
      "Non-trainable params: 0\n",
      "_________________________________________________________________\n"
     ]
    }
   ],
   "source": [
    "model_6 = Sequential()\n",
    "model_6.add(Masking(mask_value=0., input_shape=(X_coded.shape[1],X_coded.shape[2])))\n",
    "model_6.add(SimpleRNN(10))\n",
    "model_6.add(Dense(len(chars), activation=\"softmax\"))\n",
    "model_6.summary()"
   ]
  },
  {
   "cell_type": "markdown",
   "metadata": {},
   "source": [
    "### Lo entreno"
   ]
  },
  {
   "cell_type": "code",
   "execution_count": 70,
   "metadata": {},
   "outputs": [
    {
     "data": {
      "image/png": "[encoded data removed]",
      "text/plain": [
       "<Figure size 1440x360 with 2 Axes>"
      ]
     },
     "metadata": {
      "needs_background": "light"
     },
     "output_type": "display_data"
    },
    {
     "name": "stdout",
     "output_type": "stream",
     "text": [
      "Epoch 192/200\n",
      "16/16 [==============================] - 0s 9ms/step - loss: 0.2659 - acc: 1.0000\n",
      "Epoch 193/200\n",
      "16/16 [==============================] - 0s 9ms/step - loss: 0.2641 - acc: 1.0000\n",
      "Epoch 194/200\n",
      "16/16 [==============================] - 0s 8ms/step - loss: 0.2624 - acc: 1.0000\n",
      "Epoch 195/200\n",
      "16/16 [==============================] - 0s 8ms/step - loss: 0.2605 - acc: 1.0000\n",
      "Epoch 196/200\n",
      "16/16 [==============================] - 0s 8ms/step - loss: 0.2587 - acc: 1.0000\n",
      "Epoch 197/200\n",
      "16/16 [==============================] - 0s 9ms/step - loss: 0.2576 - acc: 1.0000\n",
      "Epoch 198/200\n",
      "16/16 [==============================] - 0s 9ms/step - loss: 0.2556 - acc: 1.0000\n",
      "Epoch 199/200\n",
      "16/16 [==============================] - 0s 8ms/step - loss: 0.2537 - acc: 1.0000\n",
      "Epoch 200/200\n",
      "16/16 [==============================] - 0s 8ms/step - loss: 0.2521 - acc: 1.0000\n"
     ]
    },
    {
     "data": {
      "text/plain": [
       "<keras.callbacks.History at 0x7f20cbc76da0>"
      ]
     },
     "execution_count": 70,
     "metadata": {},
     "output_type": "execute_result"
    }
   ],
   "source": [
    "model_6.compile(optimizer='adam', loss='categorical_crossentropy', metrics=['accuracy'])\n",
    "plot_losses = PlotLosses(plot_interval=10, evaluate_interval=None)\n",
    "model_6.fit(X_coded,y_coded, epochs=200, batch_size=1, verbose=1, callbacks=[plot_losses])"
   ]
  },
  {
   "cell_type": "markdown",
   "metadata": {},
   "source": [
    "### Resultados"
   ]
  },
  {
   "cell_type": "code",
   "execution_count": 71,
   "metadata": {},
   "outputs": [
    {
     "name": "stdout",
     "output_type": "stream",
     "text": [
      "['', '', '', '', '', '', '', '', '', '', '', '', '', '', ''] -> M 0.12\n",
      "['', '', '', '', '', '', '', '', '', '', '', '', '', '', 'M'] -> A 0.8\n",
      "['', '', '', '', '', '', '', '', '', '', '', '', '', 'M', 'A'] -> C 0.8\n",
      "['', '', '', '', '', '', '', '', '', '', '', '', 'M', 'A', 'C'] -> H 0.86\n",
      "['', '', '', '', '', '', '', '', '', '', '', 'M', 'A', 'C', 'H'] -> I 0.92\n",
      "['', '', '', '', '', '', '', '', '', '', 'M', 'A', 'C', 'H', 'I'] -> N 0.93\n",
      "['', '', '', '', '', '', '', '', '', 'M', 'A', 'C', 'H', 'I', 'N'] -> E 0.82\n",
      "['', '', '', '', '', '', '', '', 'M', 'A', 'C', 'H', 'I', 'N', 'E'] ->   0.87\n",
      "['', '', '', '', '', '', '', 'M', 'A', 'C', 'H', 'I', 'N', 'E', ' '] -> L 0.87\n",
      "['', '', '', '', '', '', 'M', 'A', 'C', 'H', 'I', 'N', 'E', ' ', 'L'] -> E 0.88\n",
      "['', '', '', '', '', 'M', 'A', 'C', 'H', 'I', 'N', 'E', ' ', 'L', 'E'] -> A 0.95\n",
      "['', '', '', '', 'M', 'A', 'C', 'H', 'I', 'N', 'E', ' ', 'L', 'E', 'A'] -> R 0.88\n",
      "['', '', '', 'M', 'A', 'C', 'H', 'I', 'N', 'E', ' ', 'L', 'E', 'A', 'R'] -> N 0.91\n",
      "['', '', 'M', 'A', 'C', 'H', 'I', 'N', 'E', ' ', 'L', 'E', 'A', 'R', 'N'] -> I 0.91\n",
      "['', 'M', 'A', 'C', 'H', 'I', 'N', 'E', ' ', 'L', 'E', 'A', 'R', 'N', 'I'] -> N 0.98\n",
      "['M', 'A', 'C', 'H', 'I', 'N', 'E', ' ', 'L', 'E', 'A', 'R', 'N', 'I', 'N'] -> G 0.75\n"
     ]
    }
   ],
   "source": [
    "to_predict = X_coded\n",
    "predicted = model_6.predict(to_predict)\n",
    "for i, row in enumerate(predicted):\n",
    "    idx = np.argmax(row)\n",
    "    print(X_5[i], '->', indices_to_chars[idx], int(row[idx]*100)/100)"
   ]
  },
  {
   "cell_type": "markdown",
   "metadata": {},
   "source": [
    "### Armo modelo stateful y cargo pesos de modelo anterior entrenado"
   ]
  },
  {
   "cell_type": "code",
   "execution_count": 72,
   "metadata": {},
   "outputs": [
    {
     "name": "stdout",
     "output_type": "stream",
     "text": [
      "_________________________________________________________________\n",
      "Layer (type)                 Output Shape              Param #   \n",
      "=================================================================\n",
      "masking_2 (Masking)          (1, 1, 11)                0         \n",
      "_________________________________________________________________\n",
      "simple_rnn_9 (SimpleRNN)     (1, 10)                   220       \n",
      "_________________________________________________________________\n",
      "dense_9 (Dense)              (1, 11)                   121       \n",
      "=================================================================\n",
      "Total params: 341\n",
      "Trainable params: 341\n",
      "Non-trainable params: 0\n",
      "_________________________________________________________________\n"
     ]
    }
   ],
   "source": [
    "model_6s = Sequential()\n",
    "model_6s.add(Masking(mask_value=0., batch_input_shape=(batch_size,1,len(chars))))\n",
    "model_6s.add(SimpleRNN(10, batch_input_shape=(batch_size,1,len(chars)), stateful=True))\n",
    "model_6s.add(Dense(len(chars), activation=\"softmax\"))\n",
    "model_6s.summary()"
   ]
  },
  {
   "cell_type": "code",
   "execution_count": 73,
   "metadata": {},
   "outputs": [],
   "source": [
    "model_6s.set_weights(model_6.get_weights())"
   ]
  },
  {
   "cell_type": "code",
   "execution_count": 74,
   "metadata": {},
   "outputs": [
    {
     "name": "stdout",
     "output_type": "stream",
     "text": [
      "[[[0 0 0 0 0 0 0 0 1 0 0]]] M -> A 0.8\n",
      "[[[0 1 0 0 0 0 0 0 0 0 0]]] A -> C 0.8\n",
      "[[[0 0 1 0 0 0 0 0 0 0 0]]] C -> H 0.86\n",
      "[[[0 0 0 0 0 1 0 0 0 0 0]]] H -> I 0.92\n",
      "[[[0 0 0 0 0 0 1 0 0 0 0]]] I -> N 0.93\n",
      "[[[0 0 0 0 0 0 0 0 0 1 0]]] N -> E 0.82\n",
      "[[[0 0 0 1 0 0 0 0 0 0 0]]] E ->   0.87\n",
      "[[[1 0 0 0 0 0 0 0 0 0 0]]]   -> L 0.87\n",
      "[[[0 0 0 0 0 0 0 1 0 0 0]]] L -> E 0.88\n",
      "[[[0 0 0 1 0 0 0 0 0 0 0]]] E -> A 0.95\n",
      "[[[0 1 0 0 0 0 0 0 0 0 0]]] A -> R 0.88\n",
      "[[[0 0 0 0 0 0 0 0 0 0 1]]] R -> N 0.91\n",
      "[[[0 0 0 0 0 0 0 0 0 1 0]]] N -> I 0.91\n",
      "[[[0 0 0 0 0 0 1 0 0 0 0]]] I -> N 0.98\n",
      "[[[0 0 0 0 0 0 0 0 0 1 0]]] N -> G 0.75\n",
      "[[[0 0 0 0 1 0 0 0 0 0 0]]] G -> N 0.63\n"
     ]
    }
   ],
   "source": [
    "# Comentar el reset_states y ver que pasa\n",
    "# Entrenar 2 de 500 epochs\n",
    "\n",
    "model_6s.reset_states()\n",
    "\n",
    "for i in range(16):\n",
    "    to_predict = y_coded[i:i+1].reshape(1, 1, len(chars))\n",
    "    predicted = model_6s.predict(to_predict)\n",
    "    idx = np.argmax(predicted[0])\n",
    "    print(str(to_predict)+' '+text[i], '->', indices_to_chars[idx], int(predicted[0][idx]*100)/100)"
   ]
  },
  {
   "cell_type": "markdown",
   "metadata": {},
   "source": [
    "### Arrancando del medio"
   ]
  },
  {
   "cell_type": "code",
   "execution_count": 75,
   "metadata": {},
   "outputs": [
    {
     "name": "stdout",
     "output_type": "stream",
     "text": [
      "[[[0 0 0 0 0 0 0 1 0 0 0]]] L -> E 0.4\n",
      "[[[0 0 0 1 0 0 0 0 0 0 0]]] E ->   0.56\n",
      "[[[0 1 0 0 0 0 0 0 0 0 0]]] A -> C 0.41\n",
      "[[[0 0 0 0 0 0 0 0 0 0 1]]] R -> H 0.44\n",
      "[[[0 0 0 0 0 0 0 0 0 1 0]]] N -> I 0.86\n"
     ]
    }
   ],
   "source": [
    "model_6s.reset_states()\n",
    "st = 8\n",
    "for i in range(5):\n",
    "    to_predict = y_coded[i+st:i+st+1].reshape(1, 1, len(chars))\n",
    "    predicted = model_6s.predict(to_predict)\n",
    "    idx = np.argmax(predicted[0])\n",
    "    print(str(to_predict)+' '+text[i+st], '->', indices_to_chars[idx], int(predicted[0][idx]*100)/100)"
   ]
  },
  {
   "cell_type": "markdown",
   "metadata": {},
   "source": [
    "\n",
    "### Ventajas/Desventajas entre este método y stateful\n",
    "- Ventajas: Este metodo permite el entrenamiento de a batches de manera mas simple\n",
    "- Desventajas: Si la secuencia es muy larga el unfolding termina siendo demasiado largo y requiere mas memoria y procesamiento\n",
    "\n",
    "Nota: En stateful, dependiendo del problema, se puede entrenar con batch size mayor a uno pero hay que pensar bien el armado de las secuencias de entrenamiento.\n",
    "\n",
    "Un ejemplo podría ser: Tengo que generar frases cortas de longitud variable y quiero que aprenda un modelo de lenguage para generar una frase corta"
   ]
  },
  {
   "cell_type": "markdown",
   "metadata": {},
   "source": [
    "# 7 - Many to Many"
   ]
  },
  {
   "cell_type": "code",
   "execution_count": 76,
   "metadata": {},
   "outputs": [],
   "source": [
    "inp = chars_to_one_hot(' MACHINE LEARNING', chars, chars_to_indices, window_size)*1\n",
    "out = chars_to_one_hot('MACHINE LEARNING ', chars, chars_to_indices, window_size)*1"
   ]
  },
  {
   "cell_type": "code",
   "execution_count": 77,
   "metadata": {},
   "outputs": [
    {
     "name": "stdout",
     "output_type": "stream",
     "text": [
      "_________________________________________________________________\n",
      "Layer (type)                 Output Shape              Param #   \n",
      "=================================================================\n",
      "simple_rnn_10 (SimpleRNN)    (None, 17, 10)            220       \n",
      "_________________________________________________________________\n",
      "dense_10 (Dense)             (None, 17, 11)            121       \n",
      "=================================================================\n",
      "Total params: 341\n",
      "Trainable params: 341\n",
      "Non-trainable params: 0\n",
      "_________________________________________________________________\n"
     ]
    }
   ],
   "source": [
    "model_7 = Sequential()\n",
    "model_7.add(SimpleRNN(10, input_shape=(inp.shape[1],inp.shape[2]), return_sequences=True))\n",
    "model_7.add(Dense(len(chars), activation=\"softmax\"))\n",
    "model_7.summary()"
   ]
  },
  {
   "cell_type": "code",
   "execution_count": 78,
   "metadata": {},
   "outputs": [
    {
     "data": {
      "image/png": "[encoded data removed]",
      "text/plain": [
       "<Figure size 1440x360 with 2 Axes>"
      ]
     },
     "metadata": {
      "needs_background": "light"
     },
     "output_type": "display_data"
    },
    {
     "name": "stdout",
     "output_type": "stream",
     "text": [
      "Epoch 992/1000\n",
      "1/1 [==============================] - 0s 8ms/step - loss: 0.0760 - acc: 1.0000\n",
      "Epoch 993/1000\n",
      "1/1 [==============================] - 0s 8ms/step - loss: 0.0759 - acc: 1.0000\n",
      "Epoch 994/1000\n",
      "1/1 [==============================] - 0s 9ms/step - loss: 0.0757 - acc: 1.0000\n",
      "Epoch 995/1000\n",
      "1/1 [==============================] - 0s 12ms/step - loss: 0.0755 - acc: 1.0000\n",
      "Epoch 996/1000\n",
      "1/1 [==============================] - 0s 8ms/step - loss: 0.0753 - acc: 1.0000\n",
      "Epoch 997/1000\n",
      "1/1 [==============================] - 0s 8ms/step - loss: 0.0752 - acc: 1.0000\n",
      "Epoch 998/1000\n",
      "1/1 [==============================] - 0s 8ms/step - loss: 0.0750 - acc: 1.0000\n",
      "Epoch 999/1000\n",
      "1/1 [==============================] - 0s 11ms/step - loss: 0.0748 - acc: 1.0000\n",
      "Epoch 1000/1000\n",
      "1/1 [==============================] - 0s 10ms/step - loss: 0.0747 - acc: 1.0000\n"
     ]
    },
    {
     "data": {
      "text/plain": [
       "<keras.callbacks.History at 0x7f20cb765438>"
      ]
     },
     "execution_count": 78,
     "metadata": {},
     "output_type": "execute_result"
    }
   ],
   "source": [
    "model_7.compile(optimizer='adam', loss='categorical_crossentropy', metrics=['accuracy'])\n",
    "plot_losses = PlotLosses(plot_interval=10, evaluate_interval=None)\n",
    "model_7.fit(inp,out, epochs=1000, batch_size=1, verbose=1, callbacks=[plot_losses])"
   ]
  },
  {
   "cell_type": "code",
   "execution_count": 79,
   "metadata": {},
   "outputs": [
    {
     "name": "stdout",
     "output_type": "stream",
     "text": [
      "_________________________________________________________________\n",
      "Layer (type)                 Output Shape              Param #   \n",
      "=================================================================\n",
      "simple_rnn_11 (SimpleRNN)    (1, 1, 10)                220       \n",
      "_________________________________________________________________\n",
      "dense_11 (Dense)             (1, 1, 11)                121       \n",
      "=================================================================\n",
      "Total params: 341\n",
      "Trainable params: 341\n",
      "Non-trainable params: 0\n",
      "_________________________________________________________________\n"
     ]
    }
   ],
   "source": [
    "# batch_size=1\n",
    "model_7s = Sequential()\n",
    "model_7s.add(SimpleRNN(10, batch_input_shape=(1,1,inp.shape[2]), stateful=True, return_sequences=True))\n",
    "model_7s.add(Dense(len(chars), activation=\"softmax\"))\n",
    "model_7s.summary()"
   ]
  },
  {
   "cell_type": "code",
   "execution_count": 80,
   "metadata": {},
   "outputs": [],
   "source": [
    "model_7s.set_weights(model_7.get_weights())"
   ]
  },
  {
   "cell_type": "code",
   "execution_count": 81,
   "metadata": {},
   "outputs": [
    {
     "name": "stdout",
     "output_type": "stream",
     "text": [
      "I -> N 0.61\n",
      "N -> E 0.83\n",
      "E ->   0.74\n",
      "  -> L 0.79\n",
      "L -> E 0.92\n",
      "E -> A 0.94\n",
      "A -> R 0.89\n",
      "R -> N 0.92\n",
      "N -> I 0.97\n",
      "I -> N 0.93\n",
      "N -> G 0.81\n",
      "G ->   0.96\n"
     ]
    }
   ],
   "source": [
    "# Probar con 0, 3, 4, 7 y 1\n",
    "starting = 4\n",
    "model_7s.reset_states()\n",
    "for c in text[starting:]:\n",
    "    to_predict = chars_to_one_hot(c, chars, chars_to_indices, window_size)*1\n",
    "    predicted = model_7s.predict(to_predict)\n",
    "    print(c, '->', indices_to_chars[np.argmax(predicted[0])], int(np.max(predicted[0])*100)/100)"
   ]
  },
  {
   "cell_type": "markdown",
   "metadata": {},
   "source": [
    "## Ejemplo 7: Return sequence"
   ]
  },
  {
   "cell_type": "code",
   "execution_count": 82,
   "metadata": {},
   "outputs": [
    {
     "name": "stdout",
     "output_type": "stream",
     "text": [
      "Caracteres distintos:\n",
      "[' ', '#', '$', 'A', 'C', 'E', 'G', 'H', 'I', 'L', 'M', 'N', 'R']\n",
      "[[[0 1 0 0 0 0 0 0 0 0 0 0 0]\n",
      "  [0 0 0 0 0 0 0 0 0 0 1 0 0]\n",
      "  [0 0 0 1 0 0 0 0 0 0 0 0 0]\n",
      "  [0 0 0 0 1 0 0 0 0 0 0 0 0]\n",
      "  [0 0 0 0 0 0 0 1 0 0 0 0 0]\n",
      "  [0 0 0 0 0 0 0 0 1 0 0 0 0]\n",
      "  [0 0 0 0 0 0 0 0 0 0 0 1 0]\n",
      "  [0 0 0 0 0 1 0 0 0 0 0 0 0]\n",
      "  [1 0 0 0 0 0 0 0 0 0 0 0 0]\n",
      "  [0 0 0 0 0 0 0 0 0 1 0 0 0]\n",
      "  [0 0 0 0 0 1 0 0 0 0 0 0 0]\n",
      "  [0 0 0 1 0 0 0 0 0 0 0 0 0]\n",
      "  [0 0 0 0 0 0 0 0 0 0 0 0 1]\n",
      "  [0 0 0 0 0 0 0 0 0 0 0 1 0]\n",
      "  [0 0 0 0 0 0 0 0 1 0 0 0 0]\n",
      "  [0 0 0 0 0 0 0 0 0 0 0 1 0]\n",
      "  [0 0 0 0 0 0 1 0 0 0 0 0 0]\n",
      "  [0 0 1 0 0 0 0 0 0 0 0 0 0]]]\n",
      "(1, 18, 13)\n"
     ]
    }
   ],
   "source": [
    "text=\"#MACHINE LEARNING$\"\n",
    "chars = sorted(set(text))\n",
    "print('Caracteres distintos:')\n",
    "print(chars)\n",
    "window_size=1\n",
    "chars_to_indices = dict((c, i) for i, c in enumerate(chars))  # map each unique character to unique integer\n",
    "indices_to_chars = dict((i, c) for i, c in enumerate(chars))\n",
    "one_hot_text = chars_to_one_hot(text, chars, chars_to_indices, window_size)*1\n",
    "print(one_hot_text)\n",
    "print(one_hot_text.shape)"
   ]
  },
  {
   "cell_type": "code",
   "execution_count": 83,
   "metadata": {},
   "outputs": [],
   "source": [
    "X_train = one_hot_text[:, :-1, :]\n",
    "y_train = one_hot_text[:, 1:, :]"
   ]
  },
  {
   "cell_type": "code",
   "execution_count": 84,
   "metadata": {},
   "outputs": [
    {
     "data": {
      "text/plain": [
       "((1, 17, 13), (1, 17, 13))"
      ]
     },
     "execution_count": 84,
     "metadata": {},
     "output_type": "execute_result"
    }
   ],
   "source": [
    "X_train.shape, y_train.shape"
   ]
  },
  {
   "cell_type": "code",
   "execution_count": 85,
   "metadata": {},
   "outputs": [
    {
     "ename": "NameError",
     "evalue": "name 'LSTM' is not defined",
     "output_type": "error",
     "traceback": [
      "\u001b[0;31m---------------------------------------------------------------------------\u001b[0m",
      "\u001b[0;31mNameError\u001b[0m                                 Traceback (most recent call last)",
      "\u001b[0;32m<ipython-input-85-c1f9b74f53f6>\u001b[0m in \u001b[0;36m<module>\u001b[0;34m\u001b[0m\n\u001b[1;32m      2\u001b[0m \u001b[0;32mfrom\u001b[0m \u001b[0mkeras\u001b[0m\u001b[0;34m.\u001b[0m\u001b[0mmodels\u001b[0m \u001b[0;32mimport\u001b[0m \u001b[0mSequential\u001b[0m\u001b[0;34m\u001b[0m\u001b[0m\n\u001b[1;32m      3\u001b[0m \u001b[0mmodel_7\u001b[0m \u001b[0;34m=\u001b[0m \u001b[0mSequential\u001b[0m\u001b[0;34m(\u001b[0m\u001b[0;34m)\u001b[0m\u001b[0;34m\u001b[0m\u001b[0m\n\u001b[0;32m----> 4\u001b[0;31m \u001b[0mmodel_7\u001b[0m\u001b[0;34m.\u001b[0m\u001b[0madd\u001b[0m\u001b[0;34m(\u001b[0m\u001b[0mLSTM\u001b[0m\u001b[0;34m(\u001b[0m\u001b[0;36m10\u001b[0m\u001b[0;34m,\u001b[0m \u001b[0mreturn_sequences\u001b[0m\u001b[0;34m=\u001b[0m\u001b[0;32mTrue\u001b[0m\u001b[0;34m,\u001b[0m \u001b[0minput_shape\u001b[0m\u001b[0;34m=\u001b[0m\u001b[0;34m(\u001b[0m\u001b[0mX_train\u001b[0m\u001b[0;34m.\u001b[0m\u001b[0mshape\u001b[0m\u001b[0;34m[\u001b[0m\u001b[0;36m1\u001b[0m\u001b[0;34m]\u001b[0m\u001b[0;34m,\u001b[0m\u001b[0mlen\u001b[0m\u001b[0;34m(\u001b[0m\u001b[0mchars\u001b[0m\u001b[0;34m)\u001b[0m\u001b[0;34m)\u001b[0m\u001b[0;34m)\u001b[0m\u001b[0;34m)\u001b[0m\u001b[0;34m\u001b[0m\u001b[0m\n\u001b[0m\u001b[1;32m      5\u001b[0m \u001b[0mmodel_7\u001b[0m\u001b[0;34m.\u001b[0m\u001b[0madd\u001b[0m\u001b[0;34m(\u001b[0m\u001b[0mDense\u001b[0m\u001b[0;34m(\u001b[0m\u001b[0mlen\u001b[0m\u001b[0;34m(\u001b[0m\u001b[0mchars\u001b[0m\u001b[0;34m)\u001b[0m\u001b[0;34m,\u001b[0m \u001b[0mactivation\u001b[0m\u001b[0;34m=\u001b[0m\u001b[0;34m\"softmax\"\u001b[0m\u001b[0;34m)\u001b[0m\u001b[0;34m)\u001b[0m\u001b[0;34m\u001b[0m\u001b[0m\n\u001b[1;32m      6\u001b[0m \u001b[0mmodel_7\u001b[0m\u001b[0;34m.\u001b[0m\u001b[0msummary\u001b[0m\u001b[0;34m(\u001b[0m\u001b[0;34m)\u001b[0m\u001b[0;34m\u001b[0m\u001b[0m\n",
      "\u001b[0;31mNameError\u001b[0m: name 'LSTM' is not defined"
     ]
    }
   ],
   "source": [
    "from keras.layers import SimpleRNN, Dense\n",
    "from keras.models import Sequential\n",
    "model_7 = Sequential()\n",
    "model_7.add(LSTM(10, return_sequences=True, input_shape=(X_train.shape[1],len(chars))))\n",
    "model_7.add(Dense(len(chars), activation=\"softmax\"))\n",
    "model_7.summary()"
   ]
  },
  {
   "cell_type": "code",
   "execution_count": null,
   "metadata": {},
   "outputs": [],
   "source": [
    "model_7.compile(optimizer='adam', loss='categorical_crossentropy', metrics=['accuracy'])\n",
    "plot_losses = PlotLosses(plot_interval=10, evaluate_interval=None)\n",
    "model_7.fit(X_train,y_train, epochs=500, batch_size=1, verbose=1, callbacks=[plot_losses])"
   ]
  },
  {
   "cell_type": "code",
   "execution_count": null,
   "metadata": {},
   "outputs": [],
   "source": [
    "X_train.shape"
   ]
  },
  {
   "cell_type": "code",
   "execution_count": null,
   "metadata": {},
   "outputs": [],
   "source": [
    "model_7.predict(X_train).shape"
   ]
  },
  {
   "cell_type": "code",
   "execution_count": null,
   "metadata": {},
   "outputs": [],
   "source": [
    "model_7.predict_classes(X_train)"
   ]
  },
  {
   "cell_type": "code",
   "execution_count": null,
   "metadata": {},
   "outputs": [],
   "source": [
    "indices_to_chars"
   ]
  },
  {
   "cell_type": "markdown",
   "metadata": {},
   "source": [
    "# Encoder decoder\n",
    "https://machinelearningmastery.com/encoder-decoder-long-short-term-memory-networks/"
   ]
  },
  {
   "cell_type": "markdown",
   "metadata": {},
   "source": [
    "# Sentiment analysis con CNN y LSTM\n",
    "https://machinelearningmastery.com/sequence-classification-lstm-recurrent-neural-networks-python-keras/"
   ]
  },
  {
   "cell_type": "markdown",
   "metadata": {},
   "source": [
    "# Word-level language model"
   ]
  },
  {
   "cell_type": "markdown",
   "metadata": {},
   "source": [
    "https://machinelearningmastery.com/how-to-develop-a-word-level-neural-language-model-in-keras/"
   ]
  },
  {
   "cell_type": "markdown",
   "metadata": {},
   "source": [
    "# return_sequence vs return_state\n",
    "https://www.quora.com/What-is-the-difference-between-states-and-outputs-in-LSTM\n",
    "\n",
    "https://machinelearningmastery.com/return-sequences-and-return-states-for-lstms-in-keras/"
   ]
  },
  {
   "cell_type": "markdown",
   "metadata": {},
   "source": [
    "# Truncated BPTT \n",
    "https://machinelearningmastery.com/truncated-backpropagation-through-time-in-keras/"
   ]
  }
 ],
 "metadata": {
  "kernelspec": {
   "display_name": "Python 3",
   "language": "python",
   "name": "python3"
  },
  "language_info": {
   "codemirror_mode": {
    "name": "ipython",
    "version": 3
   },
   "file_extension": ".py",
   "mimetype": "text/x-python",
   "name": "python",
   "nbconvert_exporter": "python",
   "pygments_lexer": "ipython3",
   "version": "3.6.6"
  },
  "toc": {
   "nav_menu": {},
   "number_sections": true,
   "sideBar": true,
   "skip_h1_title": true,
   "toc_cell": false,
   "toc_position": {},
   "toc_section_display": "block",
   "toc_window_display": false
  }
 },
 "nbformat": 4,
 "nbformat_minor": 2
}
