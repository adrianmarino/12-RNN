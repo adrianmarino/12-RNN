{
 "cells": [
  {
   "cell_type": "code",
   "execution_count": 1,
   "metadata": {},
   "outputs": [
    {
     "name": "stderr",
     "output_type": "stream",
     "text": [
      "Using TensorFlow backend.\n"
     ]
    }
   ],
   "source": [
    "%load_ext autoreload\n",
    "%autoreload 2\n",
    "import numpy as np\n",
    "import sys \n",
    "# sys.path.append(\"/Users/julianganzabal/facultad/lab-ml/mllab-tools\")\n",
    "from RNN_utils import example_to_io_pairs, to_one_hot_vector, sample, example_to_io, show_results\n",
    "from fnn_helper import PlotLosses"
   ]
  },
  {
   "cell_type": "markdown",
   "metadata": {},
   "source": [
    "# Formas diferentes de entrenar una RNN con el mismo dataset"
   ]
  },
  {
   "cell_type": "markdown",
   "metadata": {},
   "source": [
    "## Objetivos:"
   ]
  },
  {
   "cell_type": "markdown",
   "metadata": {},
   "source": [
    "Comprender los siguientes conceptos:\n",
    "- Diferencias entre MLP (con features igual a timesteps) y RNN\n",
    "- Stateful vs stateles en Keras\n",
    "- Mini-Batch traininig vs SGD training\n",
    "- Los pesos se actualizan en el backward mientras que el estado de la RNN cambia con cada timestep en el forward\n",
    "- Padding\n",
    "- Masking"
   ]
  },
  {
   "cell_type": "markdown",
   "metadata": {},
   "source": [
    "## Selección de dataset (frase) y preformateo"
   ]
  },
  {
   "cell_type": "markdown",
   "metadata": {},
   "source": [
    "# IMPORTANTE: En estos ejemplos la idea no es generalizar si no ajustarse lo mejor posible al training"
   ]
  },
  {
   "cell_type": "markdown",
   "metadata": {},
   "source": [
    "### Elegimos una frase que tenga una letras repetidas"
   ]
  },
  {
   "cell_type": "code",
   "execution_count": 2,
   "metadata": {
    "collapsed": true
   },
   "outputs": [],
   "source": [
    "text=\"MACHINE LEARNING\""
   ]
  },
  {
   "cell_type": "code",
   "execution_count": 3,
   "metadata": {},
   "outputs": [
    {
     "name": "stdout",
     "output_type": "stream",
     "text": [
      "Caracteres distintos:  [' ', 'A', 'C', 'E', 'G', 'H', 'I', 'L', 'M', 'N', 'R']\n"
     ]
    }
   ],
   "source": [
    "chars = sorted(set(text))\n",
    "print('Caracteres distintos: ', chars)"
   ]
  },
  {
   "cell_type": "code",
   "execution_count": 4,
   "metadata": {},
   "outputs": [],
   "source": [
    "chars_to_indices = dict((c, i) for i, c in enumerate(chars))  # map each unique character to unique integer\n",
    "indices_to_chars = dict((i, c) for i, c in enumerate(chars))"
   ]
  },
  {
   "cell_type": "code",
   "execution_count": 5,
   "metadata": {},
   "outputs": [
    {
     "data": {
      "text/plain": [
       "{' ': 0,\n",
       " 'A': 1,\n",
       " 'C': 2,\n",
       " 'E': 3,\n",
       " 'G': 4,\n",
       " 'H': 5,\n",
       " 'I': 6,\n",
       " 'L': 7,\n",
       " 'M': 8,\n",
       " 'N': 9,\n",
       " 'R': 10}"
      ]
     },
     "execution_count": 5,
     "metadata": {},
     "output_type": "execute_result"
    }
   ],
   "source": [
    "chars_to_indices"
   ]
  },
  {
   "cell_type": "code",
   "execution_count": 6,
   "metadata": {},
   "outputs": [
    {
     "data": {
      "text/plain": [
       "{0: ' ',\n",
       " 1: 'A',\n",
       " 2: 'C',\n",
       " 3: 'E',\n",
       " 4: 'G',\n",
       " 5: 'H',\n",
       " 6: 'I',\n",
       " 7: 'L',\n",
       " 8: 'M',\n",
       " 9: 'N',\n",
       " 10: 'R'}"
      ]
     },
     "execution_count": 6,
     "metadata": {},
     "output_type": "execute_result"
    }
   ],
   "source": [
    "indices_to_chars"
   ]
  },
  {
   "cell_type": "markdown",
   "metadata": {},
   "source": [
    "### Texto a One-hot"
   ]
  },
  {
   "cell_type": "code",
   "execution_count": 7,
   "metadata": {},
   "outputs": [
    {
     "name": "stdout",
     "output_type": "stream",
     "text": [
      "Vector:  [[[0 0 0 0 0 0 0 0 1 0 0]\n",
      "  [0 1 0 0 0 0 0 0 0 0 0]\n",
      "  [0 0 1 0 0 0 0 0 0 0 0]\n",
      "  [0 0 0 0 0 1 0 0 0 0 0]\n",
      "  [0 0 0 0 0 0 1 0 0 0 0]\n",
      "  [0 0 0 0 0 0 0 0 0 1 0]\n",
      "  [0 0 0 1 0 0 0 0 0 0 0]\n",
      "  [1 0 0 0 0 0 0 0 0 0 0]\n",
      "  [0 0 0 0 0 0 0 1 0 0 0]\n",
      "  [0 0 0 1 0 0 0 0 0 0 0]\n",
      "  [0 1 0 0 0 0 0 0 0 0 0]\n",
      "  [0 0 0 0 0 0 0 0 0 0 1]\n",
      "  [0 0 0 0 0 0 0 0 0 1 0]\n",
      "  [0 0 0 0 0 0 1 0 0 0 0]\n",
      "  [0 0 0 0 0 0 0 0 0 1 0]\n",
      "  [0 0 0 0 1 0 0 0 0 0 0]]] \n",
      "Shape:  (1, 16, 11)\n"
     ]
    }
   ],
   "source": [
    "window_size=1\n",
    "one_hot_text = to_one_hot_vector(\n",
    "    example=text, \n",
    "    possible_elements=chars, \n",
    "    element_to_indices=chars_to_indices, \n",
    "    window_size=window_size\n",
    ")\n",
    "print('Vector: ' , one_hot_text, '\\nShape: ', one_hot_text.shape)"
   ]
  },
  {
   "cell_type": "markdown",
   "metadata": {},
   "source": [
    "### One-hot a caracter"
   ]
  },
  {
   "cell_type": "code",
   "execution_count": 8,
   "metadata": {},
   "outputs": [
    {
     "data": {
      "text/plain": [
       "['M',\n",
       " 'A',\n",
       " 'C',\n",
       " 'H',\n",
       " 'I',\n",
       " 'N',\n",
       " 'E',\n",
       " ' ',\n",
       " 'L',\n",
       " 'E',\n",
       " 'A',\n",
       " 'R',\n",
       " 'N',\n",
       " 'I',\n",
       " 'N',\n",
       " 'G']"
      ]
     },
     "execution_count": 8,
     "metadata": {},
     "output_type": "execute_result"
    }
   ],
   "source": [
    "[indices_to_chars[np.argmax(one_hot_text[0][i])] for i in range(len(text))]"
   ]
  },
  {
   "cell_type": "markdown",
   "metadata": {},
   "source": [
    "## Ejemplo 1: T = 1 (Secuencia de 1 caracter)\n",
    "En este ejemplo usaremos una RNN pero como una simple vanilla network (MLP)"
   ]
  },
  {
   "cell_type": "markdown",
   "metadata": {},
   "source": [
    "### Preparo entrada/salida:  "
   ]
  },
  {
   "cell_type": "code",
   "execution_count": 9,
   "metadata": {},
   "outputs": [
    {
     "data": {
      "text/plain": [
       "(['M', 'A', 'C', 'H', 'I', 'N', 'E', ' ', 'L', 'E', 'A', 'R', 'N', 'I', 'N'],\n",
       " ['A', 'C', 'H', 'I', 'N', 'E', ' ', 'L', 'E', 'A', 'R', 'N', 'I', 'N', 'G'])"
      ]
     },
     "execution_count": 9,
     "metadata": {},
     "output_type": "execute_result"
    }
   ],
   "source": [
    "example_to_io(text, input_window_size=1, input_step_size=1)"
   ]
  },
  {
   "cell_type": "code",
   "execution_count": 10,
   "metadata": {
    "collapsed": true
   },
   "outputs": [],
   "source": [
    "window_size = 1\n",
    "step_size = 1\n",
    "\n",
    "# encode_io_pairs llama a window_transform_text y despues codifica en one-hot\n",
    "X, y = example_to_io_pairs(text, chars, window_size, step_size)"
   ]
  },
  {
   "cell_type": "code",
   "execution_count": 11,
   "metadata": {},
   "outputs": [
    {
     "name": "stdout",
     "output_type": "stream",
     "text": [
      "X: (15, 1, 11) y: (15, 11)\n"
     ]
    }
   ],
   "source": [
    "print('X:', X.shape, 'y:', y.shape)"
   ]
  },
  {
   "cell_type": "code",
   "execution_count": 12,
   "metadata": {},
   "outputs": [
    {
     "name": "stdout",
     "output_type": "stream",
     "text": [
      "N:  15\n",
      "T:  1\n",
      "D:  11\n"
     ]
    }
   ],
   "source": [
    "print('N: ', X.shape[0])\n",
    "print('T: ', X.shape[1])\n",
    "print('D: ', X.shape[2])"
   ]
  },
  {
   "cell_type": "code",
   "execution_count": 13,
   "metadata": {},
   "outputs": [
    {
     "name": "stdout",
     "output_type": "stream",
     "text": [
      "[[0 0 0 0 0 0 0 0 1 0 0]] M\n",
      "[[0 1 0 0 0 0 0 0 0 0 0]] A\n",
      "[[0 0 1 0 0 0 0 0 0 0 0]] C\n",
      "[[0 0 0 0 0 1 0 0 0 0 0]] H\n",
      "[[0 0 0 0 0 0 1 0 0 0 0]] I\n",
      "[[0 0 0 0 0 0 0 0 0 1 0]] N\n",
      "[[0 0 0 1 0 0 0 0 0 0 0]] E\n",
      "[[1 0 0 0 0 0 0 0 0 0 0]]  \n",
      "[[0 0 0 0 0 0 0 1 0 0 0]] L\n",
      "[[0 0 0 1 0 0 0 0 0 0 0]] E\n",
      "[[0 1 0 0 0 0 0 0 0 0 0]] A\n",
      "[[0 0 0 0 0 0 0 0 0 0 1]] R\n",
      "[[0 0 0 0 0 0 0 0 0 1 0]] N\n",
      "[[0 0 0 0 0 0 1 0 0 0 0]] I\n",
      "[[0 0 0 0 0 0 0 0 0 1 0]] N\n"
     ]
    }
   ],
   "source": [
    "for xi in X: print(xi, indices_to_chars[np.argmax(xi)])"
   ]
  },
  {
   "cell_type": "code",
   "execution_count": 14,
   "metadata": {},
   "outputs": [
    {
     "name": "stdout",
     "output_type": "stream",
     "text": [
      "[0 1 0 0 0 0 0 0 0 0 0] A\n",
      "[0 0 1 0 0 0 0 0 0 0 0] C\n",
      "[0 0 0 0 0 1 0 0 0 0 0] H\n",
      "[0 0 0 0 0 0 1 0 0 0 0] I\n",
      "[0 0 0 0 0 0 0 0 0 1 0] N\n",
      "[0 0 0 1 0 0 0 0 0 0 0] E\n",
      "[1 0 0 0 0 0 0 0 0 0 0]  \n",
      "[0 0 0 0 0 0 0 1 0 0 0] L\n",
      "[0 0 0 1 0 0 0 0 0 0 0] E\n",
      "[0 1 0 0 0 0 0 0 0 0 0] A\n",
      "[0 0 0 0 0 0 0 0 0 0 1] R\n",
      "[0 0 0 0 0 0 0 0 0 1 0] N\n",
      "[0 0 0 0 0 0 1 0 0 0 0] I\n",
      "[0 0 0 0 0 0 0 0 0 1 0] N\n",
      "[0 0 0 0 1 0 0 0 0 0 0] G\n"
     ]
    }
   ],
   "source": [
    "for yi in y: print(yi, indices_to_chars[np.argmax(yi)])"
   ]
  },
  {
   "cell_type": "markdown",
   "metadata": {},
   "source": [
    "Notar que la salida es el siguiente caracter al de la entrada\n",
    "\n",
    "Esto es equivalente a un MLP"
   ]
  },
  {
   "cell_type": "markdown",
   "metadata": {},
   "source": [
    "### Armo modelo RNN"
   ]
  },
  {
   "cell_type": "code",
   "execution_count": 15,
   "metadata": {
    "collapsed": true
   },
   "outputs": [],
   "source": [
    "from keras.layers import SimpleRNN, Dense\n",
    "from keras.models import Sequential"
   ]
  },
  {
   "cell_type": "code",
   "execution_count": 16,
   "metadata": {},
   "outputs": [
    {
     "name": "stdout",
     "output_type": "stream",
     "text": [
      "_________________________________________________________________\n",
      "Layer (type)                 Output Shape              Param #   \n",
      "=================================================================\n",
      "simple_rnn_1 (SimpleRNN)     (None, 10)                220       \n",
      "_________________________________________________________________\n",
      "dense_1 (Dense)              (None, 11)                121       \n",
      "=================================================================\n",
      "Total params: 341\n",
      "Trainable params: 341\n",
      "Non-trainable params: 0\n",
      "_________________________________________________________________\n"
     ]
    }
   ],
   "source": [
    "sequence_len=len(chars)\n",
    "rnn_neurons=10\n",
    "dense_neurons=sequence_len\n",
    "input_shape=(window_size, sequence_len)\n",
    "\n",
    "model = Sequential()\n",
    "model.add(SimpleRNN(rnn_neurons, input_shape=input_shape))\n",
    "model.add(Dense(dense_neurons, activation=\"softmax\"))\n",
    "model.summary()"
   ]
  },
  {
   "cell_type": "markdown",
   "metadata": {},
   "source": [
    "### Entreno el modelo"
   ]
  },
  {
   "cell_type": "code",
   "execution_count": 17,
   "metadata": {},
   "outputs": [
    {
     "data": {
      "image/png": "[encoded data removed]",
      "text/plain": [
       "<matplotlib.figure.Figure at 0x7f9f401e11d0>"
      ]
     },
     "metadata": {
      "needs_background": "light"
     },
     "output_type": "display_data"
    },
    {
     "name": "stdout",
     "output_type": "stream",
     "text": [
      "Epoch 492/500\n",
      "15/15 [==============================] - 0s 4ms/step - loss: 0.4268 - acc: 0.7333\n",
      "Epoch 493/500\n",
      "15/15 [==============================] - 0s 3ms/step - loss: 0.4267 - acc: 0.7333\n",
      "Epoch 494/500\n",
      "15/15 [==============================] - 0s 4ms/step - loss: 0.4255 - acc: 0.6667\n",
      "Epoch 495/500\n",
      "15/15 [==============================] - 0s 4ms/step - loss: 0.4261 - acc: 0.6667\n",
      "Epoch 496/500\n",
      "15/15 [==============================] - 0s 4ms/step - loss: 0.4253 - acc: 0.7333\n",
      "Epoch 497/500\n",
      "15/15 [==============================] - 0s 4ms/step - loss: 0.4264 - acc: 0.6000\n",
      "Epoch 498/500\n",
      "15/15 [==============================] - 0s 4ms/step - loss: 0.4255 - acc: 0.7333\n",
      "Epoch 499/500\n",
      "15/15 [==============================] - 0s 3ms/step - loss: 0.4270 - acc: 0.6000\n",
      "Epoch 500/500\n",
      "15/15 [==============================] - 0s 4ms/step - loss: 0.4254 - acc: 0.6667\n"
     ]
    },
    {
     "data": {
      "text/plain": [
       "<keras.callbacks.History at 0x7f9f4119de80>"
      ]
     },
     "execution_count": 17,
     "metadata": {},
     "output_type": "execute_result"
    }
   ],
   "source": [
    "model.compile(optimizer='adam', loss='categorical_crossentropy', metrics=['accuracy'])\n",
    "\n",
    "model.fit(\n",
    "    X,\n",
    "    y,\n",
    "    epochs=500,\n",
    "    batch_size=1,\n",
    "    verbose=1,\n",
    "    callbacks=[PlotLosses(plot_interval=10, evaluate_interval=None)]\n",
    ")"
   ]
  },
  {
   "cell_type": "markdown",
   "metadata": {},
   "source": [
    "Por que no llega al 100%? Que es lo que no puede predecir?\n",
    "\n",
    "**Re**: Creo que tiene que ver con que hay letras que tiene mas de un resultado posible y eso hace que no se llegue al 100% del accuracy."
   ]
  },
  {
   "cell_type": "markdown",
   "metadata": {},
   "source": [
    "### Predicción usando argmax (Greedy Search)"
   ]
  },
  {
   "cell_type": "code",
   "execution_count": 18,
   "metadata": {},
   "outputs": [
    {
     "name": "stdout",
     "output_type": "stream",
     "text": [
      "Input: M\n",
      "Predicted Char: A  (Probability: 98.76759052276611 %)\n"
     ]
    }
   ],
   "source": [
    "first_char = text[0]\n",
    "print('Input:' , first_char)\n",
    "\n",
    "one_hot_vector = to_one_hot_vector(\n",
    "    first_char, \n",
    "    chars, \n",
    "    chars_to_indices,\n",
    "    window_size\n",
    ")\n",
    "prediction = model.predict(one_hot_vector)\n",
    "\n",
    "print(\n",
    "    'Predicted Char:',\n",
    "    indices_to_chars[np.argmax(prediction)], \n",
    "    ' (Probability:', np.max(prediction) * 100, '%)'\n",
    ")"
   ]
  },
  {
   "cell_type": "code",
   "execution_count": 19,
   "metadata": {
    "collapsed": true
   },
   "outputs": [
    {
     "name": "stdout",
     "output_type": "stream",
     "text": [
      "MACHINE LEARNING\n",
      "[[[0 0 0 0 0 0 0 0 1 0 0]\n",
      "  [0 1 0 0 0 0 0 0 0 0 0]\n",
      "  [0 0 1 0 0 0 0 0 0 0 0]\n",
      "  [0 0 0 0 0 1 0 0 0 0 0]\n",
      "  [0 0 0 0 0 0 1 0 0 0 0]\n",
      "  [0 0 0 0 0 0 0 0 0 1 0]\n",
      "  [0 0 0 1 0 0 0 0 0 0 0]\n",
      "  [1 0 0 0 0 0 0 0 0 0 0]\n",
      "  [0 0 0 0 0 0 0 1 0 0 0]\n",
      "  [0 0 0 1 0 0 0 0 0 0 0]\n",
      "  [0 1 0 0 0 0 0 0 0 0 0]\n",
      "  [0 0 0 0 0 0 0 0 0 0 1]\n",
      "  [0 0 0 0 0 0 0 0 0 1 0]\n",
      "  [0 0 0 0 0 0 1 0 0 0 0]\n",
      "  [0 0 0 0 0 0 0 0 0 1 0]\n",
      "  [0 0 0 0 1 0 0 0 0 0 0]]]\n",
      "(1, 16, 11)\n"
     ]
    }
   ],
   "source": [
    "chars_to_predict = text\n",
    "print(chars_to_predict)\n",
    "\n",
    "# Los paso a one hot\n",
    "to_predict_1 = to_one_hot_vector(\n",
    "    chars_to_predict, \n",
    "    possible_elements=chars, \n",
    "    element_to_indices=chars_to_indices, \n",
    "    window_size=window_size\n",
    ")\n",
    "\n",
    "print(to_predict_1)\n",
    "print(to_predict_1.shape)"
   ]
  },
  {
   "cell_type": "code",
   "execution_count": 20,
   "metadata": {},
   "outputs": [
    {
     "name": "stdout",
     "output_type": "stream",
     "text": [
      "[[[0 0 0 0 0 0 0 0 1 0 0]]\n",
      "\n",
      " [[0 1 0 0 0 0 0 0 0 0 0]]\n",
      "\n",
      " [[0 0 1 0 0 0 0 0 0 0 0]]\n",
      "\n",
      " [[0 0 0 0 0 1 0 0 0 0 0]]\n",
      "\n",
      " [[0 0 0 0 0 0 1 0 0 0 0]]\n",
      "\n",
      " [[0 0 0 0 0 0 0 0 0 1 0]]\n",
      "\n",
      " [[0 0 0 1 0 0 0 0 0 0 0]]\n",
      "\n",
      " [[1 0 0 0 0 0 0 0 0 0 0]]\n",
      "\n",
      " [[0 0 0 0 0 0 0 1 0 0 0]]\n",
      "\n",
      " [[0 0 0 1 0 0 0 0 0 0 0]]\n",
      "\n",
      " [[0 1 0 0 0 0 0 0 0 0 0]]\n",
      "\n",
      " [[0 0 0 0 0 0 0 0 0 0 1]]\n",
      "\n",
      " [[0 0 0 0 0 0 0 0 0 1 0]]\n",
      "\n",
      " [[0 0 0 0 0 0 1 0 0 0 0]]\n",
      "\n",
      " [[0 0 0 0 0 0 0 0 0 1 0]]\n",
      "\n",
      " [[0 0 0 0 1 0 0 0 0 0 0]]]\n",
      "(16, 1, 11)\n"
     ]
    }
   ],
   "source": [
    "# Tengo que hacer reshape para darselo a la red\n",
    "to_predict_reshaped = to_predict_1.reshape(\n",
    "    to_predict_1.shape[1],\n",
    "    to_predict_1.shape[0],\n",
    "    to_predict_1.shape[2]\n",
    ")\n",
    "\n",
    "print(to_predict_reshaped)\n",
    "print(to_predict_reshaped.shape)"
   ]
  },
  {
   "cell_type": "code",
   "execution_count": 21,
   "metadata": {},
   "outputs": [],
   "source": [
    "predicted_1 = model.predict(to_predict_reshaped)"
   ]
  },
  {
   "cell_type": "markdown",
   "metadata": {},
   "source": [
    "### Matriz de transición"
   ]
  },
  {
   "cell_type": "code",
   "execution_count": 22,
   "metadata": {
    "collapsed": true
   },
   "outputs": [
    {
     "name": "stdout",
     "output_type": "stream",
     "text": [
      "\n",
      " --------------------------------------------------------------\n",
      "| Sequence len (T) =>  1\n",
      "| Output Shape:  (16, 11)\n",
      " --------------------------------------------------------------\n",
      "   _    A    C    E    G    H    I    L    M    N    R    \n",
      "M [0.   0.98 0.   0.   0.   0.   0.   0.   0.   0.   0.  ] A\n",
      "A [0.   0.   0.49 0.   0.   0.   0.   0.   0.   0.   0.48] C\n",
      "C [0.   0.   0.   0.   0.   0.98 0.   0.   0.   0.   0.  ] H\n",
      "H [0.   0.   0.   0.01 0.   0.   0.97 0.   0.   0.   0.  ] I\n",
      "I [0.   0.   0.   0.   0.   0.   0.   0.   0.   0.99 0.  ] N\n",
      "N [0.   0.   0.   0.32 0.31 0.   0.32 0.   0.   0.   0.  ] I\n",
      "E [0.48 0.48 0.   0.   0.   0.   0.   0.   0.   0.   0.  ]  \n",
      "  [0.   0.   0.   0.   0.   0.   0.   0.99 0.   0.   0.  ] L\n",
      "L [0.   0.   0.   0.97 0.   0.01 0.   0.   0.   0.   0.  ] E\n",
      "E [0.48 0.48 0.   0.   0.   0.   0.   0.   0.   0.   0.  ]  \n",
      "A [0.   0.   0.49 0.   0.   0.   0.   0.   0.   0.   0.48] C\n",
      "R [0.   0.   0.   0.   0.   0.   0.   0.   0.   0.99 0.  ] N\n",
      "N [0.   0.   0.   0.32 0.31 0.   0.32 0.   0.   0.   0.  ] I\n",
      "I [0.   0.   0.   0.   0.   0.   0.   0.   0.   0.99 0.  ] N\n",
      "N [0.   0.   0.   0.32 0.31 0.   0.32 0.   0.   0.   0.  ] I\n",
      "G [0.18 0.29 0.01 0.03 0.05 0.04 0.02 0.04 0.01 0.26 0.01] A\n"
     ]
    }
   ],
   "source": [
    "show_results( \n",
    "    predicted_1, \n",
    "    chars_to_indices, \n",
    "    indices_to_chars,\n",
    "    lambda index: indices_to_chars[np.argmax(to_predict_1[:,index])]\n",
    ")"
   ]
  },
  {
   "cell_type": "markdown",
   "metadata": {},
   "source": [
    "¿Que pasa con la A, la E y la N cuando el texto es MACHINE LEARNING?"
   ]
  },
  {
   "cell_type": "markdown",
   "metadata": {},
   "source": [
    "* La 'A' tiene la misma probabilidad de preceder a la 'C' que a la 'R'\n",
    "* Con la 'E' sucede lo mismo que con la 'A' pero con los caracteres ' ' y 'A'\n",
    "* Con la  'N' idem.\n",
    "\n",
    "=> **Se puede apreciar que en los casos en que un character tiene mas de un resultado \n",
    "posible, estos ultimos son equiprobables**.\n",
    "\n",
    "Por otro lado, las probabilidades de la 'G' no tiene mucho sentido ya que es el ultimo caracter del texto y por eso tiene cualquier valor.\n"
   ]
  },
  {
   "cell_type": "markdown",
   "metadata": {},
   "source": [
    "## Ejemplo 2: T = 2 (Secuencia de 2 caracteres)"
   ]
  },
  {
   "cell_type": "markdown",
   "metadata": {},
   "source": [
    "### Preparo entrada/salida"
   ]
  },
  {
   "cell_type": "code",
   "execution_count": 23,
   "metadata": {
    "collapsed": true
   },
   "outputs": [
    {
     "name": "stdout",
     "output_type": "stream",
     "text": [
      "MA -> C\n",
      "AC -> H\n",
      "CH -> I\n",
      "HI -> N\n",
      "IN -> E\n",
      "NE ->  \n",
      "E  -> L\n",
      " L -> E\n",
      "LE -> A\n",
      "EA -> R\n",
      "AR -> N\n",
      "RN -> I\n",
      "NI -> N\n",
      "IN -> G\n"
     ]
    }
   ],
   "source": [
    "window_size = 2\n",
    "x_2_t, y_2_t = example_to_io(\n",
    "    example=text, \n",
    "    input_window_size=window_size, \n",
    "    input_step_size=step_size\n",
    ")\n",
    "\n",
    "for i, te in enumerate(x_2_t): print(te, '->' ,y_2_t[i])\n",
    "\n",
    "X_2, y_2 = example_to_io_pairs(\n",
    "    example=text, \n",
    "    possible_elements=chars, \n",
    "    input_window_size=window_size, \n",
    "    input_step_size=step_size\n",
    ")"
   ]
  },
  {
   "cell_type": "code",
   "execution_count": 24,
   "metadata": {},
   "outputs": [
    {
     "name": "stdout",
     "output_type": "stream",
     "text": [
      "(14, 2, 11) [[[0 0 0 0 0 0 0 0 1 0 0]\n",
      "  [0 1 0 0 0 0 0 0 0 0 0]]\n",
      "\n",
      " [[0 1 0 0 0 0 0 0 0 0 0]\n",
      "  [0 0 1 0 0 0 0 0 0 0 0]]\n",
      "\n",
      " [[0 0 1 0 0 0 0 0 0 0 0]\n",
      "  [0 0 0 0 0 1 0 0 0 0 0]]\n",
      "\n",
      " [[0 0 0 0 0 1 0 0 0 0 0]\n",
      "  [0 0 0 0 0 0 1 0 0 0 0]]\n",
      "\n",
      " [[0 0 0 0 0 0 1 0 0 0 0]\n",
      "  [0 0 0 0 0 0 0 0 0 1 0]]\n",
      "\n",
      " [[0 0 0 0 0 0 0 0 0 1 0]\n",
      "  [0 0 0 1 0 0 0 0 0 0 0]]\n",
      "\n",
      " [[0 0 0 1 0 0 0 0 0 0 0]\n",
      "  [1 0 0 0 0 0 0 0 0 0 0]]\n",
      "\n",
      " [[1 0 0 0 0 0 0 0 0 0 0]\n",
      "  [0 0 0 0 0 0 0 1 0 0 0]]\n",
      "\n",
      " [[0 0 0 0 0 0 0 1 0 0 0]\n",
      "  [0 0 0 1 0 0 0 0 0 0 0]]\n",
      "\n",
      " [[0 0 0 1 0 0 0 0 0 0 0]\n",
      "  [0 1 0 0 0 0 0 0 0 0 0]]\n",
      "\n",
      " [[0 1 0 0 0 0 0 0 0 0 0]\n",
      "  [0 0 0 0 0 0 0 0 0 0 1]]\n",
      "\n",
      " [[0 0 0 0 0 0 0 0 0 0 1]\n",
      "  [0 0 0 0 0 0 0 0 0 1 0]]\n",
      "\n",
      " [[0 0 0 0 0 0 0 0 0 1 0]\n",
      "  [0 0 0 0 0 0 1 0 0 0 0]]\n",
      "\n",
      " [[0 0 0 0 0 0 1 0 0 0 0]\n",
      "  [0 0 0 0 0 0 0 0 0 1 0]]]\n"
     ]
    }
   ],
   "source": [
    "print(X_2.shape, X_2)"
   ]
  },
  {
   "cell_type": "code",
   "execution_count": 25,
   "metadata": {},
   "outputs": [
    {
     "name": "stdout",
     "output_type": "stream",
     "text": [
      "[[0 0 1 0 0 0 0 0 0 0 0]\n",
      " [0 0 0 0 0 1 0 0 0 0 0]\n",
      " [0 0 0 0 0 0 1 0 0 0 0]\n",
      " [0 0 0 0 0 0 0 0 0 1 0]\n",
      " [0 0 0 1 0 0 0 0 0 0 0]\n",
      " [1 0 0 0 0 0 0 0 0 0 0]\n",
      " [0 0 0 0 0 0 0 1 0 0 0]\n",
      " [0 0 0 1 0 0 0 0 0 0 0]\n",
      " [0 1 0 0 0 0 0 0 0 0 0]\n",
      " [0 0 0 0 0 0 0 0 0 0 1]\n",
      " [0 0 0 0 0 0 0 0 0 1 0]\n",
      " [0 0 0 0 0 0 1 0 0 0 0]\n",
      " [0 0 0 0 0 0 0 0 0 1 0]\n",
      " [0 0 0 0 1 0 0 0 0 0 0]]\n"
     ]
    }
   ],
   "source": [
    "print(y_2)"
   ]
  },
  {
   "cell_type": "markdown",
   "metadata": {},
   "source": [
    "### Armo modelo"
   ]
  },
  {
   "cell_type": "code",
   "execution_count": 26,
   "metadata": {},
   "outputs": [
    {
     "name": "stdout",
     "output_type": "stream",
     "text": [
      "_________________________________________________________________\n",
      "Layer (type)                 Output Shape              Param #   \n",
      "=================================================================\n",
      "simple_rnn_2 (SimpleRNN)     (None, 10)                220       \n",
      "_________________________________________________________________\n",
      "dense_2 (Dense)              (None, 11)                121       \n",
      "=================================================================\n",
      "Total params: 341\n",
      "Trainable params: 341\n",
      "Non-trainable params: 0\n",
      "_________________________________________________________________\n"
     ]
    }
   ],
   "source": [
    "sequence_len=len(chars)\n",
    "rnn_neurons=10\n",
    "dense_neurons=sequence_len\n",
    "input_shape=(window_size, sequence_len)\n",
    "\n",
    "model_2 = Sequential()\n",
    "model_2.add(SimpleRNN(rnn_neurons, input_shape=input_shape))\n",
    "model_2.add(Dense(dense_neurons, activation=\"softmax\"))\n",
    "model_2.summary()"
   ]
  },
  {
   "cell_type": "markdown",
   "metadata": {},
   "source": [
    "**Nota:** El número de parametros se mantuvo a pesar de que cambiamos el tamaño de la secuencia(T) por cada ejemplo(N)."
   ]
  },
  {
   "cell_type": "markdown",
   "metadata": {},
   "source": [
    "### Entreno modelo"
   ]
  },
  {
   "cell_type": "code",
   "execution_count": 27,
   "metadata": {},
   "outputs": [
    {
     "data": {
      "image/png": "[encoded data removed]",
      "text/plain": [
       "<matplotlib.figure.Figure at 0x7f9f3855f860>"
      ]
     },
     "metadata": {
      "needs_background": "light"
     },
     "output_type": "display_data"
    },
    {
     "name": "stdout",
     "output_type": "stream",
     "text": [
      "Epoch 492/500\n",
      "14/14 [==============================] - 0s 3ms/step - loss: 0.1093 - acc: 0.9286\n",
      "Epoch 493/500\n",
      "14/14 [==============================] - 0s 3ms/step - loss: 0.1102 - acc: 0.8571\n",
      "Epoch 494/500\n",
      "14/14 [==============================] - 0s 3ms/step - loss: 0.1090 - acc: 0.9286\n",
      "Epoch 495/500\n",
      "14/14 [==============================] - 0s 4ms/step - loss: 0.1092 - acc: 0.9286\n",
      "Epoch 496/500\n",
      "14/14 [==============================] - 0s 3ms/step - loss: 0.1100 - acc: 0.9286\n",
      "Epoch 497/500\n",
      "14/14 [==============================] - 0s 4ms/step - loss: 0.1095 - acc: 0.9286\n",
      "Epoch 498/500\n",
      "14/14 [==============================] - 0s 4ms/step - loss: 0.1106 - acc: 0.8571\n",
      "Epoch 499/500\n",
      "14/14 [==============================] - 0s 3ms/step - loss: 0.1098 - acc: 0.8571\n",
      "Epoch 500/500\n",
      "14/14 [==============================] - 0s 4ms/step - loss: 0.1092 - acc: 0.9286\n"
     ]
    },
    {
     "data": {
      "text/plain": [
       "<keras.callbacks.History at 0x7f9f382d8cf8>"
      ]
     },
     "execution_count": 27,
     "metadata": {},
     "output_type": "execute_result"
    }
   ],
   "source": [
    "model_2.compile(optimizer='adam', loss='categorical_crossentropy', metrics=['accuracy'])\n",
    "\n",
    "model_2.fit(\n",
    "    X_2,\n",
    "    y_2, \n",
    "    epochs=500, \n",
    "    batch_size=1, \n",
    "    verbose=1, \n",
    "    callbacks=[PlotLosses(plot_interval=10, evaluate_interval=None)]\n",
    ")"
   ]
  },
  {
   "cell_type": "markdown",
   "metadata": {},
   "source": [
    "### Matriz de transición"
   ]
  },
  {
   "cell_type": "code",
   "execution_count": 28,
   "metadata": {},
   "outputs": [
    {
     "name": "stdout",
     "output_type": "stream",
     "text": [
      "\n",
      " --------------------------------------------------------------\n",
      "| Sequence len (T) =>  2\n",
      "| Output Shape:  (14, 11)\n",
      " --------------------------------------------------------------\n",
      "   _    A    C    E    G    H    I    L    M    N    R    \n",
      "MA [0.   0.   0.99 0.   0.   0.   0.   0.   0.   0.   0.  ] C\n",
      "AC [0.   0.   0.   0.   0.   0.99 0.   0.   0.   0.   0.  ] H\n",
      "CH [0.   0.   0.   0.   0.   0.   0.99 0.   0.   0.   0.  ] I\n",
      "HI [0.   0.   0.   0.   0.   0.   0.   0.   0.   0.99 0.  ] N\n",
      "IN [0.   0.   0.   0.5  0.47 0.   0.   0.   0.   0.   0.  ] E\n",
      "NE [0.98 0.   0.   0.   0.   0.   0.   0.   0.   0.   0.  ]  \n",
      "E  [0.   0.   0.   0.   0.   0.   0.   0.99 0.   0.   0.  ] L\n",
      " L [0.   0.   0.   0.97 0.01 0.   0.   0.   0.   0.   0.  ] E\n",
      "LE [0.   0.99 0.   0.   0.   0.   0.   0.   0.   0.   0.  ] A\n",
      "EA [0.   0.   0.   0.   0.   0.   0.   0.   0.   0.   0.98] R\n",
      "AR [0.   0.   0.   0.   0.   0.   0.   0.   0.   0.99 0.  ] N\n",
      "RN [0.   0.   0.   0.   0.   0.   0.99 0.   0.   0.   0.  ] I\n",
      "NI [0.   0.   0.   0.   0.   0.   0.   0.   0.   0.99 0.  ] N\n",
      "IN [0.   0.   0.   0.5  0.47 0.   0.   0.   0.   0.   0.  ] E\n"
     ]
    }
   ],
   "source": [
    "predicted_2 = model_2.predict(X_2)\n",
    "show_results(\n",
    "    predicted_2, \n",
    "    chars_to_indices, \n",
    "    indices_to_chars,\n",
    "    lambda i: indices_to_chars[np.argmax(X_2[i, :][0])]+indices_to_chars[np.argmax(X_2[i, :][1])]\n",
    ")"
   ]
  },
  {
   "cell_type": "markdown",
   "metadata": {},
   "source": [
    "Notar que luego de IN no se puede tener certeza debido a la ambiguedad"
   ]
  },
  {
   "cell_type": "markdown",
   "metadata": {},
   "source": [
    "- Como es de esperar la predicción mejora notablemente\n",
    "- La cantidad de parametros de la red no cambia respecto a la anterior\n",
    "- Que pasa si lo implemento con MLP con la cantidad de parámetros?\n",
    "  **Re**: Es mucho mayor! ya que aumenta el número de entradas lo que hace que aumente el numero de conexiones entre las entradas y las neuronas de la capa. Cada coneccion es un peso."
   ]
  },
  {
   "cell_type": "markdown",
   "metadata": {},
   "source": [
    "## Ejemplo 3: T = 3 (Secuencia de 3 caracteres)"
   ]
  },
  {
   "cell_type": "markdown",
   "metadata": {},
   "source": [
    "### Preparo entrada/salida"
   ]
  },
  {
   "cell_type": "code",
   "execution_count": 29,
   "metadata": {},
   "outputs": [
    {
     "name": "stdout",
     "output_type": "stream",
     "text": [
      "MAC -> H\n",
      "ACH -> I\n",
      "CHI -> N\n",
      "HIN -> E\n",
      "INE ->  \n",
      "NE  -> L\n",
      "E L -> E\n",
      " LE -> A\n",
      "LEA -> R\n",
      "EAR -> N\n",
      "ARN -> I\n",
      "RNI -> N\n",
      "NIN -> G\n"
     ]
    }
   ],
   "source": [
    "window_size = 3\n",
    "x_3_t, y_3_t = example_to_io(\n",
    "    example=text, \n",
    "    input_window_size=window_size, \n",
    "    input_step_size=step_size\n",
    ")\n",
    "\n",
    "for i, te in enumerate(x_3_t): print(te, '->' ,y_3_t[i])\n",
    "    \n",
    "X_3, y_3 = example_to_io_pairs(\n",
    "    example=text, \n",
    "    possible_elements=chars, \n",
    "    input_window_size=window_size, \n",
    "    input_step_size=step_size\n",
    ")"
   ]
  },
  {
   "cell_type": "markdown",
   "metadata": {},
   "source": [
    "### Armo modelo"
   ]
  },
  {
   "cell_type": "code",
   "execution_count": 30,
   "metadata": {},
   "outputs": [
    {
     "name": "stdout",
     "output_type": "stream",
     "text": [
      "_________________________________________________________________\n",
      "Layer (type)                 Output Shape              Param #   \n",
      "=================================================================\n",
      "simple_rnn_3 (SimpleRNN)     (None, 10)                220       \n",
      "_________________________________________________________________\n",
      "dense_3 (Dense)              (None, 11)                121       \n",
      "=================================================================\n",
      "Total params: 341\n",
      "Trainable params: 341\n",
      "Non-trainable params: 0\n",
      "_________________________________________________________________\n"
     ]
    }
   ],
   "source": [
    "model_3 = Sequential()\n",
    "model_3.add(SimpleRNN(10, input_shape=(window_size,len(chars))))\n",
    "model_3.add(Dense(len(chars), activation=\"softmax\"))\n",
    "model_3.summary()"
   ]
  },
  {
   "cell_type": "markdown",
   "metadata": {},
   "source": [
    "**Nota:** Otra vez no cambia el número de parametros."
   ]
  },
  {
   "cell_type": "markdown",
   "metadata": {},
   "source": [
    "### Entreno modelo"
   ]
  },
  {
   "cell_type": "markdown",
   "metadata": {},
   "source": [
    "Cambiar batch_size y verificar que converge de la misma manera"
   ]
  },
  {
   "cell_type": "code",
   "execution_count": 31,
   "metadata": {},
   "outputs": [
    {
     "data": {
      "image/png": "[encoded data removed]",
      "text/plain": [
       "<matplotlib.figure.Figure at 0x7f9f00577c88>"
      ]
     },
     "metadata": {
      "needs_background": "light"
     },
     "output_type": "display_data"
    },
    {
     "name": "stdout",
     "output_type": "stream",
     "text": [
      "Epoch 492/500\n",
      "13/13 [==============================] - 0s 1ms/step - loss: 0.0674 - acc: 1.0000\n",
      "Epoch 493/500\n",
      "13/13 [==============================] - 0s 1ms/step - loss: 0.0670 - acc: 1.0000\n",
      "Epoch 494/500\n",
      "13/13 [==============================] - 0s 1ms/step - loss: 0.0667 - acc: 1.0000\n",
      "Epoch 495/500\n",
      "13/13 [==============================] - 0s 1ms/step - loss: 0.0664 - acc: 1.0000\n",
      "Epoch 496/500\n",
      "13/13 [==============================] - 0s 2ms/step - loss: 0.0661 - acc: 1.0000\n",
      "Epoch 497/500\n",
      "13/13 [==============================] - 0s 1ms/step - loss: 0.0658 - acc: 1.0000\n",
      "Epoch 498/500\n",
      "13/13 [==============================] - 0s 1ms/step - loss: 0.0655 - acc: 1.0000\n",
      "Epoch 499/500\n",
      "13/13 [==============================] - 0s 1ms/step - loss: 0.0652 - acc: 1.0000\n",
      "Epoch 500/500\n",
      "13/13 [==============================] - 0s 1ms/step - loss: 0.0649 - acc: 1.0000\n"
     ]
    },
    {
     "data": {
      "text/plain": [
       "<keras.callbacks.History at 0x7f9f18693dd8>"
      ]
     },
     "execution_count": 31,
     "metadata": {},
     "output_type": "execute_result"
    }
   ],
   "source": [
    "model_3.compile(optimizer='adam', loss='categorical_crossentropy', metrics=['accuracy'])\n",
    "\n",
    "model_3.fit(\n",
    "    X_3,\n",
    "    y_3, \n",
    "    epochs=500, \n",
    "    batch_size=4, \n",
    "    verbose=1, \n",
    "    callbacks=[PlotLosses(plot_interval=10, evaluate_interval=None)]\n",
    ")"
   ]
  },
  {
   "cell_type": "markdown",
   "metadata": {},
   "source": [
    "1. Como funciona la RNN con un batch size mayor que 1? **Re:** Como la red es stafull=False no hay diferencia en cuanto al reset de los estados. En este caso se resetean al final de cada ejemplo.\n",
    "2. En que momento se resetea el estado? **Re:** You can set RNN layers to be 'stateful', which means that the states computed for the samples in one batch will be reused as initial states for the samples in the next batch. This assumes a one-to-one mapping between samples in different successive batches.\n",
    "3. Que dimensión tendrá el vector de estados durante el entrenamiento? **Re**: La dimnesion es 10?"
   ]
  },
  {
   "cell_type": "markdown",
   "metadata": {},
   "source": [
    "### Matriz de transición"
   ]
  },
  {
   "cell_type": "code",
   "execution_count": 32,
   "metadata": {},
   "outputs": [
    {
     "name": "stdout",
     "output_type": "stream",
     "text": [
      "\n",
      " --------------------------------------------------------------\n",
      "| Sequence len (T) =>  3\n",
      "| Output Shape:  (13, 11)\n",
      " --------------------------------------------------------------\n",
      "   _    A    C    E    G    H    I    L    M    N    R    \n",
      "MAC [0.   0.   0.   0.   0.   0.94 0.   0.   0.   0.01 0.01] H\n",
      "ACH [0.   0.   0.   0.01 0.   0.   0.96 0.   0.   0.   0.  ] I\n",
      "CHI [0.   0.01 0.   0.   0.   0.   0.   0.   0.   0.96 0.  ] N\n",
      "HIN [0.   0.   0.   0.92 0.   0.   0.   0.   0.   0.01 0.03] E\n",
      "INE [0.93 0.   0.   0.   0.02 0.   0.01 0.   0.   0.02 0.  ]  \n",
      "NE  [0.   0.01 0.   0.   0.04 0.   0.   0.9  0.   0.   0.  ] L\n",
      "E L [0.   0.   0.   0.95 0.   0.   0.   0.   0.   0.   0.02] E\n",
      " LE [0.   0.91 0.   0.   0.   0.01 0.   0.01 0.   0.05 0.  ] A\n",
      "LEA [0.   0.   0.   0.05 0.   0.01 0.01 0.01 0.   0.   0.88] R\n",
      "EAR [0.   0.   0.   0.01 0.   0.   0.   0.   0.   0.95 0.  ] N\n",
      "ARN [0.   0.   0.   0.01 0.   0.   0.96 0.   0.   0.   0.  ] I\n",
      "RNI [0.   0.01 0.   0.   0.   0.   0.   0.   0.   0.96 0.  ] N\n",
      "NIN [0.02 0.   0.   0.   0.89 0.   0.01 0.04 0.   0.   0.  ] G\n"
     ]
    }
   ],
   "source": [
    "predicted_3 = model_3.predict(X_3)\n",
    "    \n",
    "show_results( \n",
    "    predicted_3, \n",
    "    chars_to_indices, \n",
    "    indices_to_chars,\n",
    "    lambda i: indices_to_chars[np.argmax(X_3[i, :][0])]+\n",
    "          indices_to_chars[np.argmax(X_3[i, :][1])]+\n",
    "          indices_to_chars[np.argmax(X_3[i, :][2])]\n",
    ")"
   ]
  },
  {
   "cell_type": "markdown",
   "metadata": {},
   "source": [
    "- Las probabilidades son practicamente 1\n",
    "- La cantidad de parametros de la red no cambia respecto a la anterior\n",
    "- Que pasa si lo implemento con MLP con la cantidad de parámetros?"
   ]
  },
  {
   "cell_type": "markdown",
   "metadata": {},
   "source": [
    "### Redefino Modelo con pesos aprendidos pero statefull\n",
    "Cargo los pesos aprendidos y la evaluo en modo statefull.\n",
    "\n",
    "**Nota:** El modo statefull mantiene los estados de la capa RNN entre batches. Es decir toma el estado del ultim ejmeplo del batch i-1 y lo usa como estado inicial del batch i(actual)."
   ]
  },
  {
   "cell_type": "code",
   "execution_count": 33,
   "metadata": {},
   "outputs": [
    {
     "name": "stdout",
     "output_type": "stream",
     "text": [
      "_________________________________________________________________\n",
      "Layer (type)                 Output Shape              Param #   \n",
      "=================================================================\n",
      "simple_rnn_4 (SimpleRNN)     (1, 10)                   220       \n",
      "_________________________________________________________________\n",
      "dense_4 (Dense)              (1, 11)                   121       \n",
      "=================================================================\n",
      "Total params: 341\n",
      "Trainable params: 341\n",
      "Non-trainable params: 0\n",
      "_________________________________________________________________\n"
     ]
    }
   ],
   "source": [
    "batch_size=1\n",
    "\n",
    "model_3s = Sequential()\n",
    "model_3s.add(SimpleRNN(10, batch_input_shape=(batch_size, 1, len(chars)), stateful=True))\n",
    "model_3s.add(Dense(len(chars), activation=\"softmax\"))\n",
    "model_3s.summary()\n",
    "model_3s.set_weights(model_3.get_weights())"
   ]
  },
  {
   "cell_type": "code",
   "execution_count": 34,
   "metadata": {},
   "outputs": [
    {
     "name": "stdout",
     "output_type": "stream",
     "text": [
      "char de entrada: M\n",
      "\n",
      "'   '    ' A '    ' C '    ' E '    ' G '    ' H '    ' I '    ' L '    ' M '    ' N '    ' R '    \n",
      "[[0.04 0.06 0.04 0.09 0.06 0.11 0.24 0.17 0.08 0.03 0.04]]\n",
      "char predicted: I\n"
     ]
    }
   ],
   "source": [
    "window_size=1\n",
    "model_3s.reset_states()\n",
    "input_char = text[0]\n",
    "print('char de entrada:',input_char)\n",
    "print()\n",
    "\n",
    "for c in chars_to_indices.keys(): print(\"'\", c, \"'\", end='    ')\n",
    "print()\n",
    "\n",
    "to_predict = to_one_hot_vector(input_char, chars, chars_to_indices, window_size)\n",
    "predicted = model_3s.predict(to_predict)\n",
    "\n",
    "print((predicted*100).astype(int)/100)\n",
    "print('char predicted:', indices_to_chars[np.argmax(predicted[0])])"
   ]
  },
  {
   "cell_type": "markdown",
   "metadata": {},
   "source": [
    "Notar que con un solo caracter ingresado, no tiene suficiente data para predecir (Ningun caracter tiene alta probabilidad)"
   ]
  },
  {
   "cell_type": "code",
   "execution_count": 35,
   "metadata": {},
   "outputs": [
    {
     "name": "stdout",
     "output_type": "stream",
     "text": [
      "char de entrada: A\n",
      "       A    C    E    G    H    I    L    M    N    R    \n",
      "[[0.   0.04 0.1  0.34 0.04 0.1  0.02 0.05 0.11 0.04 0.11]]\n",
      "char predicted: E\n"
     ]
    }
   ],
   "source": [
    "input_char = text[1]\n",
    "print('char de entrada:',input_char)\n",
    "to_predict = to_one_hot_vector(input_char, chars, chars_to_indices, window_size)*1\n",
    "predicted = model_3s.predict(to_predict)\n",
    "print('  ', end='')\n",
    "for c in chars_to_indices.keys():\n",
    "    print(c, end='    ')\n",
    "print()\n",
    "print((predicted*100).astype(int)/100)\n",
    "print('char predicted:', indices_to_chars[np.argmax(predicted[0])])"
   ]
  },
  {
   "cell_type": "markdown",
   "metadata": {},
   "source": [
    "la predicción no tiene por que ser correcta a esta altura debido a que el modelo nunca fue entrenado con la secuencia ingresada"
   ]
  },
  {
   "cell_type": "code",
   "execution_count": 36,
   "metadata": {},
   "outputs": [
    {
     "name": "stdout",
     "output_type": "stream",
     "text": [
      "char de entrada: C\n",
      "        A    C    E    G    H    I    L    M    N    R    \n",
      "[[0.   0.   0.   0.   0.   0.94 0.   0.   0.   0.01 0.01]]\n",
      "char predicted: H\n"
     ]
    }
   ],
   "source": [
    "input_char = text[2]\n",
    "print('char de entrada:',input_char)\n",
    "to_predict = to_one_hot_vector(input_char, chars, chars_to_indices, window_size)*1\n",
    "predicted = model_3s.predict(to_predict)\n",
    "print('   ', end='')\n",
    "for c in chars_to_indices.keys():\n",
    "    print(c, end='    ')\n",
    "print()\n",
    "print((predicted*100).astype(int)/100)\n",
    "print('char predicted:', indices_to_chars[np.argmax(predicted[0])])"
   ]
  },
  {
   "cell_type": "markdown",
   "metadata": {},
   "source": [
    "Notar que luego de la tercer predicción el modelo predice casi perfectamente"
   ]
  },
  {
   "cell_type": "code",
   "execution_count": 37,
   "metadata": {},
   "outputs": [
    {
     "name": "stdout",
     "output_type": "stream",
     "text": [
      "char de entrada: H\n",
      "        A    C    E    G    H    I    L    M    N    R    \n",
      "[[0.01 0.   0.   0.   0.05 0.01 0.76 0.05 0.01 0.   0.07]]\n",
      "char predicted: I\n"
     ]
    }
   ],
   "source": [
    "input_char = text[3]\n",
    "print('char de entrada:',input_char)\n",
    "to_predict = to_one_hot_vector(input_char, chars, chars_to_indices, window_size)*1\n",
    "predicted = model_3s.predict(to_predict)\n",
    "print('   ', end='')\n",
    "for c in chars_to_indices.keys():\n",
    "    print(c, end='    ')\n",
    "print()\n",
    "print((predicted*100).astype(int)/100)\n",
    "print('char predicted:', indices_to_chars[np.argmax(predicted[0])])"
   ]
  },
  {
   "cell_type": "markdown",
   "metadata": {},
   "source": [
    "Notar como suele bajar la probabilidad de la predicción debido a que el modelo no tiene por que predecir secuencias mayores a la longitud entrenada (Aunque en ciertas circunstancias podría generalizar)"
   ]
  },
  {
   "cell_type": "code",
   "execution_count": 38,
   "metadata": {},
   "outputs": [
    {
     "name": "stdout",
     "output_type": "stream",
     "text": [
      "char de entrada: I\n",
      "         A     C     E     G     H     I     L     M     N     R     \n",
      "[[0.14 0.04 0.03 0.01 0.27 0.03 0.   0.04 0.01 0.37 0.  ]]\n",
      "char predicted: N\n"
     ]
    }
   ],
   "source": [
    "input_char = text[4]\n",
    "print('char de entrada:',input_char)\n",
    "to_predict = to_one_hot_vector(input_char, chars, chars_to_indices, window_size)*1\n",
    "predicted = model_3s.predict(to_predict)\n",
    "print('   ', end='')\n",
    "for c in chars_to_indices.keys():\n",
    "    print(c, end='     ')\n",
    "print()\n",
    "print((predicted*100).astype(int)/100)\n",
    "print('char predicted:', indices_to_chars[np.argmax(predicted[0])])"
   ]
  },
  {
   "cell_type": "code",
   "execution_count": 39,
   "metadata": {},
   "outputs": [
    {
     "name": "stdout",
     "output_type": "stream",
     "text": [
      "char de entrada: N\n",
      "         A     C     E     G     H     I     L     M     N     R     \n",
      "[[0.48 0.   0.   0.05 0.07 0.05 0.16 0.02 0.02 0.05 0.04]]\n",
      "char predicted:  \n"
     ]
    }
   ],
   "source": [
    "input_char = text[5]\n",
    "print('char de entrada:',input_char)\n",
    "to_predict = to_one_hot_vector(input_char, chars, chars_to_indices, window_size)*1\n",
    "predicted = model_3s.predict(to_predict)\n",
    "print('   ', end='')\n",
    "for c in chars_to_indices.keys():\n",
    "    print(c, end='     ')\n",
    "print()\n",
    "print((predicted*100).astype(int)/100)\n",
    "print('char predicted:', indices_to_chars[np.argmax(predicted[0])])"
   ]
  },
  {
   "cell_type": "markdown",
   "metadata": {},
   "source": [
    "Ya a esta altura estoy tratando de predecir algo probablemente demasiado lejano y no lo puede predecir correctamente"
   ]
  },
  {
   "cell_type": "markdown",
   "metadata": {},
   "source": [
    "Por eso, si quiero predecir una nueva secuencia de tres, tengo que resetear el estado y luego  mandar de a un caracter"
   ]
  },
  {
   "cell_type": "markdown",
   "metadata": {},
   "source": [
    "### Reseteo estado y aranco una nueva secuencia"
   ]
  },
  {
   "cell_type": "code",
   "execution_count": 40,
   "metadata": {},
   "outputs": [
    {
     "name": "stdout",
     "output_type": "stream",
     "text": [
      "char de entrada: H\n",
      "         A     C     E     G     H     I     L     M     N     R     \n",
      "[[0.33 0.05 0.01 0.04 0.04 0.01 0.2  0.01 0.01 0.23 0.01]]\n",
      "char predicted:  \n"
     ]
    }
   ],
   "source": [
    "model_3s.reset_states()\n",
    "\n",
    "input_char = text[3]\n",
    "print('char de entrada:',input_char)\n",
    "\n",
    "to_predict = to_one_hot_vector(input_char, chars, chars_to_indices, window_size)*1\n",
    "predicted = model_3s.predict(to_predict)\n",
    "print('   ', end='')\n",
    "for c in chars_to_indices.keys():\n",
    "    print(c, end='     ')\n",
    "print()\n",
    "print((predicted*100).astype(int)/100)\n",
    "print('char predicted:', indices_to_chars[np.argmax(predicted[0])])"
   ]
  },
  {
   "cell_type": "code",
   "execution_count": 41,
   "metadata": {},
   "outputs": [
    {
     "name": "stdout",
     "output_type": "stream",
     "text": [
      "char de entrada: I\n",
      "         A     C     E     G     H     I     L     M     N     R     \n",
      "[[0.03 0.23 0.   0.08 0.07 0.   0.08 0.41 0.   0.03 0.02]]\n",
      "char predicted: L\n"
     ]
    }
   ],
   "source": [
    "input_char = text[4]\n",
    "print('char de entrada:',input_char)\n",
    "to_predict = to_one_hot_vector(input_char, chars, chars_to_indices, window_size)*1\n",
    "predicted = model_3s.predict(to_predict)\n",
    "print('   ', end='')\n",
    "for c in chars_to_indices.keys():\n",
    "    print(c, end='     ')\n",
    "print()\n",
    "print((predicted*100).astype(int)/100)\n",
    "print('char predicted:', indices_to_chars[np.argmax(predicted[0])])"
   ]
  },
  {
   "cell_type": "code",
   "execution_count": 42,
   "metadata": {},
   "outputs": [
    {
     "name": "stdout",
     "output_type": "stream",
     "text": [
      "char de entrada: N\n",
      "         A     C     E     G     H     I     L     M     N     R     \n",
      "[[0.   0.   0.   0.92 0.   0.   0.   0.   0.   0.01 0.03]]\n",
      "char predicted: E\n"
     ]
    }
   ],
   "source": [
    "input_char = text[5]\n",
    "print('char de entrada:',input_char)\n",
    "to_predict = to_one_hot_vector(input_char, chars, chars_to_indices, window_size)*1\n",
    "predicted = model_3s.predict(to_predict)\n",
    "print('   ', end='')\n",
    "for c in chars_to_indices.keys():\n",
    "    print(c, end='     ')\n",
    "print()\n",
    "print((predicted*100).astype(int)/100)\n",
    "print('char predicted:', indices_to_chars[np.argmax(predicted[0])])"
   ]
  },
  {
   "cell_type": "markdown",
   "metadata": {},
   "source": [
    "Notar que aca tiene una predicción muy alta debido a que esta secuencia fue vista por el modelo"
   ]
  },
  {
   "cell_type": "markdown",
   "metadata": {},
   "source": [
    "#### Conclusión importante:  \n",
    "**Si puede usar la statefull para predecir, pero hay que alimentar con el largo orignal de la secuencia para que la salida empiece a tener sentido.**"
   ]
  },
  {
   "cell_type": "markdown",
   "metadata": {},
   "source": [
    "## Ejemplo 4: Stateful RNN\n",
    "\n",
    "A diferencia del ejemplo anterior, donde entrene stateless y la predicción fue statefull, ahora entreno en modo stateful."
   ]
  },
  {
   "cell_type": "code",
   "execution_count": 43,
   "metadata": {},
   "outputs": [
    {
     "data": {
      "text/plain": [
       "(['M', 'A', 'C', 'H', 'I', 'N', 'E', ' ', 'L', 'E', 'A', 'R', 'N', 'I', 'N'],\n",
       " ['A', 'C', 'H', 'I', 'N', 'E', ' ', 'L', 'E', 'A', 'R', 'N', 'I', 'N', 'G'])"
      ]
     },
     "execution_count": 43,
     "metadata": {},
     "output_type": "execute_result"
    }
   ],
   "source": [
    "example_to_io(example=text, input_window_size=1, input_step_size=1)"
   ]
  },
  {
   "cell_type": "code",
   "execution_count": 96,
   "metadata": {},
   "outputs": [
    {
     "name": "stdout",
     "output_type": "stream",
     "text": [
      "_________________________________________________________________\n",
      "Layer (type)                 Output Shape              Param #   \n",
      "=================================================================\n",
      "simple_rnn_12 (SimpleRNN)    (1, 10)                   220       \n",
      "_________________________________________________________________\n",
      "dense_12 (Dense)             (1, 11)                   121       \n",
      "=================================================================\n",
      "Total params: 341\n",
      "Trainable params: 341\n",
      "Non-trainable params: 0\n",
      "_________________________________________________________________\n"
     ]
    }
   ],
   "source": [
    "batch_size=1\n",
    "model_4 = Sequential()\n",
    "model_4.add(SimpleRNN(10, batch_input_shape=(batch_size,1,len(chars)), stateful=True))\n",
    "model_4.add(Dense(len(chars), activation=\"softmax\"))\n",
    "model_4.summary()"
   ]
  },
  {
   "cell_type": "markdown",
   "metadata": {},
   "source": [
    "- Notar que X e y son los mismos que en el caso T = 1"
   ]
  },
  {
   "cell_type": "code",
   "execution_count": 97,
   "metadata": {},
   "outputs": [
    {
     "data": {
      "text/plain": [
       "((15, 1, 11), (15, 11))"
      ]
     },
     "execution_count": 97,
     "metadata": {},
     "output_type": "execute_result"
    }
   ],
   "source": [
    "X.shape, y.shape"
   ]
  },
  {
   "cell_type": "code",
   "execution_count": 98,
   "metadata": {},
   "outputs": [
    {
     "data": {
      "text/plain": [
       "1"
      ]
     },
     "execution_count": 98,
     "metadata": {},
     "output_type": "execute_result"
    }
   ],
   "source": [
    "batch_size"
   ]
  },
  {
   "cell_type": "markdown",
   "metadata": {},
   "source": [
    "### Observar: shuffle=False y stateful=True\n",
    "- Puedo usar otro batch size en este caso? **Re:** Si una mayor a 1, si es asi como es statefull se va a mantener el estado entre batches.\n",
    "- Por que suffle tiene que estar en false? **Re:** Justamente queremos conservar la secunecia de los ejemplos. Osea, aca si importa el orden."
   ]
  },
  {
   "cell_type": "markdown",
   "metadata": {},
   "source": [
    "Notemos que aca estamos conseevando esl estado entre batchs de 1 ejemplo pero reseteamos cunado terminamos cada epoch. Calculo que por que no nos interesa entender la secuencion entre G final y la M inicial."
   ]
  },
  {
   "cell_type": "code",
   "execution_count": 99,
   "metadata": {},
   "outputs": [
    {
     "name": "stdout",
     "output_type": "stream",
     "text": [
      "Epoch 1/1\n",
      "15/15 [==============================] - 0s 33ms/step - loss: 2.6218 - acc: 0.0667\n",
      "Epoch 1/1\n",
      "15/15 [==============================] - 0s 2ms/step - loss: 2.5900 - acc: 0.0667\n",
      "Epoch 1/1\n",
      "15/15 [==============================] - 0s 3ms/step - loss: 2.5617 - acc: 0.1333\n",
      "Epoch 1/1\n",
      "15/15 [==============================] - 0s 3ms/step - loss: 2.5345 - acc: 0.1333\n",
      "Epoch 1/1\n",
      "15/15 [==============================] - 0s 3ms/step - loss: 2.5084 - acc: 0.1333\n",
      "Epoch 1/1\n",
      "15/15 [==============================] - 0s 3ms/step - loss: 2.4834 - acc: 0.1333\n",
      "Epoch 1/1\n",
      "15/15 [==============================] - 0s 3ms/step - loss: 2.4592 - acc: 0.1333\n",
      "Epoch 1/1\n",
      "15/15 [==============================] - 0s 3ms/step - loss: 2.4360 - acc: 0.1333\n",
      "Epoch 1/1\n",
      "15/15 [==============================] - 0s 3ms/step - loss: 2.4136 - acc: 0.1333\n",
      "Epoch 1/1\n",
      "15/15 [==============================] - 0s 3ms/step - loss: 2.3919 - acc: 0.1333\n",
      "Epoch 1/1\n",
      "15/15 [==============================] - 0s 3ms/step - loss: 2.3709 - acc: 0.1333\n",
      "Epoch 1/1\n",
      "15/15 [==============================] - 0s 3ms/step - loss: 2.3505 - acc: 0.1333\n",
      "Epoch 1/1\n",
      "15/15 [==============================] - 0s 3ms/step - loss: 2.3307 - acc: 0.2000\n",
      "Epoch 1/1\n",
      "15/15 [==============================] - 0s 3ms/step - loss: 2.3114 - acc: 0.2667\n",
      "Epoch 1/1\n",
      "15/15 [==============================] - 0s 3ms/step - loss: 2.2926 - acc: 0.2667\n",
      "Epoch 1/1\n",
      "15/15 [==============================] - 0s 3ms/step - loss: 2.2742 - acc: 0.2667\n",
      "Epoch 1/1\n",
      "15/15 [==============================] - 0s 3ms/step - loss: 2.2562 - acc: 0.2667\n",
      "Epoch 1/1\n",
      "15/15 [==============================] - 0s 3ms/step - loss: 2.2385 - acc: 0.2667\n",
      "Epoch 1/1\n",
      "15/15 [==============================] - 0s 3ms/step - loss: 2.2212 - acc: 0.2667\n",
      "Epoch 1/1\n",
      "15/15 [==============================] - 0s 4ms/step - loss: 2.2042 - acc: 0.3333\n",
      "Epoch 1/1\n",
      "15/15 [==============================] - 0s 3ms/step - loss: 2.1876 - acc: 0.4000\n",
      "Epoch 1/1\n",
      "15/15 [==============================] - 0s 4ms/step - loss: 2.1712 - acc: 0.4000\n",
      "Epoch 1/1\n",
      "15/15 [==============================] - 0s 4ms/step - loss: 2.1552 - acc: 0.4000\n",
      "Epoch 1/1\n",
      "15/15 [==============================] - 0s 4ms/step - loss: 2.1395 - acc: 0.4000\n",
      "Epoch 1/1\n",
      "15/15 [==============================] - 0s 3ms/step - loss: 2.1240 - acc: 0.4000\n",
      "Epoch 1/1\n",
      "15/15 [==============================] - 0s 4ms/step - loss: 2.1088 - acc: 0.4000\n",
      "Epoch 1/1\n",
      "15/15 [==============================] - 0s 3ms/step - loss: 2.0940 - acc: 0.4000\n",
      "Epoch 1/1\n",
      "15/15 [==============================] - 0s 4ms/step - loss: 2.0794 - acc: 0.4667\n",
      "Epoch 1/1\n",
      "15/15 [==============================] - 0s 3ms/step - loss: 2.0651 - acc: 0.4667\n",
      "Epoch 1/1\n",
      "15/15 [==============================] - 0s 4ms/step - loss: 2.0511 - acc: 0.4667\n",
      "Epoch 1/1\n",
      "15/15 [==============================] - 0s 4ms/step - loss: 2.0373 - acc: 0.4667\n",
      "Epoch 1/1\n",
      "15/15 [==============================] - 0s 4ms/step - loss: 2.0238 - acc: 0.4667\n",
      "Epoch 1/1\n",
      "15/15 [==============================] - 0s 4ms/step - loss: 2.0106 - acc: 0.4667\n",
      "Epoch 1/1\n",
      "15/15 [==============================] - 0s 4ms/step - loss: 1.9976 - acc: 0.4667\n",
      "Epoch 1/1\n",
      "15/15 [==============================] - 0s 3ms/step - loss: 1.9849 - acc: 0.5333\n",
      "Epoch 1/1\n",
      "15/15 [==============================] - 0s 5ms/step - loss: 1.9724 - acc: 0.5333\n",
      "Epoch 1/1\n",
      "15/15 [==============================] - 0s 4ms/step - loss: 1.9601 - acc: 0.5333\n",
      "Epoch 1/1\n",
      "15/15 [==============================] - 0s 3ms/step - loss: 1.9482 - acc: 0.5333\n",
      "Epoch 1/1\n",
      "15/15 [==============================] - 0s 3ms/step - loss: 1.9364 - acc: 0.5333\n",
      "Epoch 1/1\n",
      "15/15 [==============================] - 0s 3ms/step - loss: 1.9249 - acc: 0.5333\n",
      "Epoch 1/1\n",
      "15/15 [==============================] - 0s 3ms/step - loss: 1.9137 - acc: 0.5333\n",
      "Epoch 1/1\n",
      "15/15 [==============================] - 0s 3ms/step - loss: 1.9027 - acc: 0.5333\n",
      "Epoch 1/1\n",
      "15/15 [==============================] - 0s 3ms/step - loss: 1.8919 - acc: 0.5333\n",
      "Epoch 1/1\n",
      "15/15 [==============================] - 0s 4ms/step - loss: 1.8814 - acc: 0.5333\n",
      "Epoch 1/1\n",
      "15/15 [==============================] - 0s 3ms/step - loss: 1.8712 - acc: 0.5333\n",
      "Epoch 1/1\n",
      "15/15 [==============================] - 0s 3ms/step - loss: 1.8612 - acc: 0.5333\n",
      "Epoch 1/1\n",
      "15/15 [==============================] - 0s 4ms/step - loss: 1.8515 - acc: 0.5333\n",
      "Epoch 1/1\n",
      "15/15 [==============================] - 0s 3ms/step - loss: 1.8421 - acc: 0.5333\n",
      "Epoch 1/1\n",
      "15/15 [==============================] - 0s 3ms/step - loss: 1.8329 - acc: 0.5333\n",
      "Epoch 1/1\n",
      "15/15 [==============================] - 0s 3ms/step - loss: 1.8240 - acc: 0.5333\n",
      "Epoch 1/1\n",
      "15/15 [==============================] - 0s 3ms/step - loss: 1.8154 - acc: 0.5333\n",
      "Epoch 1/1\n",
      "15/15 [==============================] - 0s 4ms/step - loss: 1.8071 - acc: 0.5333\n",
      "Epoch 1/1\n",
      "15/15 [==============================] - 0s 3ms/step - loss: 1.7990 - acc: 0.5333\n",
      "Epoch 1/1\n",
      "15/15 [==============================] - 0s 3ms/step - loss: 1.7912 - acc: 0.5333\n",
      "Epoch 1/1\n",
      "15/15 [==============================] - 0s 3ms/step - loss: 1.7837 - acc: 0.5333\n",
      "Epoch 1/1\n",
      "15/15 [==============================] - 0s 3ms/step - loss: 1.7764 - acc: 0.5333\n",
      "Epoch 1/1\n",
      "15/15 [==============================] - 0s 3ms/step - loss: 1.7693 - acc: 0.5333\n",
      "Epoch 1/1\n",
      "15/15 [==============================] - 0s 3ms/step - loss: 1.7625 - acc: 0.5333\n",
      "Epoch 1/1\n",
      "15/15 [==============================] - 0s 4ms/step - loss: 1.7559 - acc: 0.5333\n",
      "Epoch 1/1\n",
      "15/15 [==============================] - 0s 3ms/step - loss: 1.7494 - acc: 0.5333\n",
      "Epoch 1/1\n",
      "15/15 [==============================] - 0s 3ms/step - loss: 1.7431 - acc: 0.5333\n",
      "Epoch 1/1\n",
      "15/15 [==============================] - 0s 3ms/step - loss: 1.7368 - acc: 0.5333\n",
      "Epoch 1/1\n",
      "15/15 [==============================] - 0s 3ms/step - loss: 1.7307 - acc: 0.5333\n",
      "Epoch 1/1\n",
      "15/15 [==============================] - 0s 4ms/step - loss: 1.7246 - acc: 0.4667\n",
      "Epoch 1/1\n",
      "15/15 [==============================] - 0s 3ms/step - loss: 1.7185 - acc: 0.4667\n",
      "Epoch 1/1\n",
      "15/15 [==============================] - 0s 3ms/step - loss: 1.7124 - acc: 0.4667\n",
      "Epoch 1/1\n",
      "15/15 [==============================] - 0s 4ms/step - loss: 1.7062 - acc: 0.4667\n",
      "Epoch 1/1\n",
      "15/15 [==============================] - 0s 4ms/step - loss: 1.7000 - acc: 0.4667\n",
      "Epoch 1/1\n",
      "15/15 [==============================] - 0s 3ms/step - loss: 1.6936 - acc: 0.4667\n",
      "Epoch 1/1\n",
      "15/15 [==============================] - 0s 4ms/step - loss: 1.6871 - acc: 0.4667\n",
      "Epoch 1/1\n",
      "15/15 [==============================] - 0s 3ms/step - loss: 1.6805 - acc: 0.4667\n",
      "Epoch 1/1\n",
      "15/15 [==============================] - 0s 3ms/step - loss: 1.6738 - acc: 0.4667\n",
      "Epoch 1/1\n",
      "15/15 [==============================] - 0s 3ms/step - loss: 1.6668 - acc: 0.4667\n",
      "Epoch 1/1\n",
      "15/15 [==============================] - 0s 4ms/step - loss: 1.6598 - acc: 0.4667\n",
      "Epoch 1/1\n",
      "15/15 [==============================] - 0s 3ms/step - loss: 1.6526 - acc: 0.4667\n",
      "Epoch 1/1\n",
      "15/15 [==============================] - 0s 3ms/step - loss: 1.6453 - acc: 0.4667\n",
      "Epoch 1/1\n",
      "15/15 [==============================] - 0s 3ms/step - loss: 1.6378 - acc: 0.4667\n",
      "Epoch 1/1\n",
      "15/15 [==============================] - 0s 3ms/step - loss: 1.6303 - acc: 0.4667\n",
      "Epoch 1/1\n",
      "15/15 [==============================] - 0s 3ms/step - loss: 1.6226 - acc: 0.4667\n",
      "Epoch 1/1\n",
      "15/15 [==============================] - 0s 3ms/step - loss: 1.6149 - acc: 0.4667\n",
      "Epoch 1/1\n",
      "15/15 [==============================] - 0s 3ms/step - loss: 1.6072 - acc: 0.4667\n",
      "Epoch 1/1\n",
      "15/15 [==============================] - 0s 3ms/step - loss: 1.5994 - acc: 0.4667\n",
      "Epoch 1/1\n",
      "15/15 [==============================] - 0s 3ms/step - loss: 1.5916 - acc: 0.5333\n",
      "Epoch 1/1\n",
      "15/15 [==============================] - 0s 3ms/step - loss: 1.5838 - acc: 0.6000\n",
      "Epoch 1/1\n",
      "15/15 [==============================] - 0s 3ms/step - loss: 1.5761 - acc: 0.6000\n",
      "Epoch 1/1\n",
      "15/15 [==============================] - 0s 3ms/step - loss: 1.5684 - acc: 0.6000\n",
      "Epoch 1/1\n",
      "15/15 [==============================] - 0s 3ms/step - loss: 1.5608 - acc: 0.6000\n",
      "Epoch 1/1\n",
      "15/15 [==============================] - 0s 4ms/step - loss: 1.5533 - acc: 0.6000\n",
      "Epoch 1/1\n",
      "15/15 [==============================] - 0s 3ms/step - loss: 1.5459 - acc: 0.6000\n",
      "Epoch 1/1\n",
      "15/15 [==============================] - 0s 3ms/step - loss: 1.5388 - acc: 0.6000\n",
      "Epoch 1/1\n",
      "15/15 [==============================] - 0s 3ms/step - loss: 1.5318 - acc: 0.6000\n",
      "Epoch 1/1\n",
      "15/15 [==============================] - 0s 3ms/step - loss: 1.5250 - acc: 0.6000\n",
      "Epoch 1/1\n",
      "15/15 [==============================] - 0s 3ms/step - loss: 1.5185 - acc: 0.6000\n",
      "Epoch 1/1\n",
      "15/15 [==============================] - 0s 5ms/step - loss: 1.5124 - acc: 0.6000\n",
      "Epoch 1/1\n",
      "15/15 [==============================] - 0s 3ms/step - loss: 1.5066 - acc: 0.6000\n",
      "Epoch 1/1\n",
      "15/15 [==============================] - 0s 3ms/step - loss: 1.5013 - acc: 0.6000\n",
      "Epoch 1/1\n",
      "15/15 [==============================] - 0s 3ms/step - loss: 1.4963 - acc: 0.6000\n",
      "Epoch 1/1\n",
      "15/15 [==============================] - 0s 3ms/step - loss: 1.4918 - acc: 0.6000\n",
      "Epoch 1/1\n",
      "15/15 [==============================] - 0s 3ms/step - loss: 1.4877 - acc: 0.6667\n",
      "Epoch 1/1\n",
      "15/15 [==============================] - 0s 3ms/step - loss: 1.4839 - acc: 0.6667\n",
      "Epoch 1/1\n",
      "15/15 [==============================] - 0s 3ms/step - loss: 1.4804 - acc: 0.6667\n",
      "Epoch 1/1\n",
      "15/15 [==============================] - 0s 3ms/step - loss: 1.4769 - acc: 0.6667\n",
      "Epoch 1/1\n",
      "15/15 [==============================] - 0s 3ms/step - loss: 1.4733 - acc: 0.6667\n",
      "Epoch 1/1\n",
      "15/15 [==============================] - 0s 3ms/step - loss: 1.4695 - acc: 0.6667\n",
      "Epoch 1/1\n",
      "15/15 [==============================] - 0s 3ms/step - loss: 1.4653 - acc: 0.6667\n",
      "Epoch 1/1\n",
      "15/15 [==============================] - 0s 3ms/step - loss: 1.4607 - acc: 0.6667\n",
      "Epoch 1/1\n",
      "15/15 [==============================] - 0s 3ms/step - loss: 1.4556 - acc: 0.6667\n",
      "Epoch 1/1\n",
      "15/15 [==============================] - 0s 3ms/step - loss: 1.4499 - acc: 0.6667\n",
      "Epoch 1/1\n",
      "15/15 [==============================] - 0s 3ms/step - loss: 1.4436 - acc: 0.6667\n",
      "Epoch 1/1\n",
      "15/15 [==============================] - 0s 3ms/step - loss: 1.4367 - acc: 0.6667\n",
      "Epoch 1/1\n",
      "15/15 [==============================] - 0s 3ms/step - loss: 1.4292 - acc: 0.6667\n",
      "Epoch 1/1\n",
      "15/15 [==============================] - 0s 3ms/step - loss: 1.4212 - acc: 0.6667\n",
      "Epoch 1/1\n",
      "15/15 [==============================] - 0s 3ms/step - loss: 1.4127 - acc: 0.6667\n",
      "Epoch 1/1\n",
      "15/15 [==============================] - 0s 3ms/step - loss: 1.4038 - acc: 0.6667\n",
      "Epoch 1/1\n",
      "15/15 [==============================] - 0s 3ms/step - loss: 1.3946 - acc: 0.6667\n",
      "Epoch 1/1\n",
      "15/15 [==============================] - 0s 3ms/step - loss: 1.3853 - acc: 0.6667\n",
      "Epoch 1/1\n",
      "15/15 [==============================] - 0s 3ms/step - loss: 1.3758 - acc: 0.6667\n",
      "Epoch 1/1\n",
      "15/15 [==============================] - 0s 3ms/step - loss: 1.3663 - acc: 0.6000\n",
      "Epoch 1/1\n",
      "15/15 [==============================] - 0s 3ms/step - loss: 1.3569 - acc: 0.6000\n",
      "Epoch 1/1\n",
      "15/15 [==============================] - 0s 3ms/step - loss: 1.3476 - acc: 0.6000\n",
      "Epoch 1/1\n",
      "15/15 [==============================] - 0s 3ms/step - loss: 1.3385 - acc: 0.6000\n",
      "Epoch 1/1\n",
      "15/15 [==============================] - 0s 3ms/step - loss: 1.3296 - acc: 0.6000\n",
      "Epoch 1/1\n",
      "15/15 [==============================] - 0s 3ms/step - loss: 1.3211 - acc: 0.6667\n",
      "Epoch 1/1\n",
      "15/15 [==============================] - 0s 3ms/step - loss: 1.3128 - acc: 0.6000\n",
      "Epoch 1/1\n",
      "15/15 [==============================] - 0s 3ms/step - loss: 1.3049 - acc: 0.6667\n",
      "Epoch 1/1\n",
      "15/15 [==============================] - 0s 3ms/step - loss: 1.2974 - acc: 0.6667\n",
      "Epoch 1/1\n",
      "15/15 [==============================] - 0s 3ms/step - loss: 1.2902 - acc: 0.6667\n",
      "Epoch 1/1\n",
      "15/15 [==============================] - 0s 3ms/step - loss: 1.2832 - acc: 0.6667\n",
      "Epoch 1/1\n",
      "15/15 [==============================] - 0s 3ms/step - loss: 1.2764 - acc: 0.6000\n",
      "Epoch 1/1\n",
      "15/15 [==============================] - 0s 3ms/step - loss: 1.2699 - acc: 0.5333\n",
      "Epoch 1/1\n",
      "15/15 [==============================] - 0s 3ms/step - loss: 1.2634 - acc: 0.5333\n",
      "Epoch 1/1\n",
      "15/15 [==============================] - 0s 3ms/step - loss: 1.2571 - acc: 0.5333\n",
      "Epoch 1/1\n",
      "15/15 [==============================] - 0s 3ms/step - loss: 1.2510 - acc: 0.5333\n",
      "Epoch 1/1\n",
      "15/15 [==============================] - 0s 3ms/step - loss: 1.2452 - acc: 0.5333\n",
      "Epoch 1/1\n",
      "15/15 [==============================] - 0s 3ms/step - loss: 1.2397 - acc: 0.5333\n",
      "Epoch 1/1\n",
      "15/15 [==============================] - 0s 3ms/step - loss: 1.2348 - acc: 0.5333\n",
      "Epoch 1/1\n",
      "15/15 [==============================] - 0s 3ms/step - loss: 1.2308 - acc: 0.5333\n",
      "Epoch 1/1\n",
      "15/15 [==============================] - 0s 3ms/step - loss: 1.2280 - acc: 0.5333\n",
      "Epoch 1/1\n",
      "15/15 [==============================] - 0s 3ms/step - loss: 1.2268 - acc: 0.5333\n",
      "Epoch 1/1\n",
      "15/15 [==============================] - 0s 3ms/step - loss: 1.2279 - acc: 0.5333\n",
      "Epoch 1/1\n",
      "15/15 [==============================] - 0s 3ms/step - loss: 1.2308 - acc: 0.5333\n",
      "Epoch 1/1\n",
      "15/15 [==============================] - 0s 3ms/step - loss: 1.2316 - acc: 0.5333\n",
      "Epoch 1/1\n",
      "15/15 [==============================] - 0s 3ms/step - loss: 1.2260 - acc: 0.5333\n",
      "Epoch 1/1\n",
      "15/15 [==============================] - 0s 3ms/step - loss: 1.2241 - acc: 0.6000\n",
      "Epoch 1/1\n",
      "15/15 [==============================] - 0s 4ms/step - loss: 1.2291 - acc: 0.6667\n",
      "Epoch 1/1\n",
      "15/15 [==============================] - 0s 3ms/step - loss: 1.2364 - acc: 0.6000\n",
      "Epoch 1/1\n",
      "15/15 [==============================] - 0s 3ms/step - loss: 1.2424 - acc: 0.5333\n",
      "Epoch 1/1\n",
      "15/15 [==============================] - 0s 3ms/step - loss: 1.2459 - acc: 0.5333\n",
      "Epoch 1/1\n",
      "15/15 [==============================] - 0s 3ms/step - loss: 1.2468 - acc: 0.6000\n",
      "Epoch 1/1\n",
      "15/15 [==============================] - 0s 3ms/step - loss: 1.2457 - acc: 0.6000\n",
      "Epoch 1/1\n",
      "15/15 [==============================] - 0s 3ms/step - loss: 1.2428 - acc: 0.6000\n",
      "Epoch 1/1\n",
      "15/15 [==============================] - 0s 3ms/step - loss: 1.2385 - acc: 0.6000\n",
      "Epoch 1/1\n",
      "15/15 [==============================] - 0s 3ms/step - loss: 1.2330 - acc: 0.6000\n",
      "Epoch 1/1\n",
      "15/15 [==============================] - 0s 4ms/step - loss: 1.2265 - acc: 0.6000\n",
      "Epoch 1/1\n",
      "15/15 [==============================] - 0s 4ms/step - loss: 1.2190 - acc: 0.6000\n",
      "Epoch 1/1\n",
      "15/15 [==============================] - 0s 3ms/step - loss: 1.2107 - acc: 0.6000\n",
      "Epoch 1/1\n",
      "15/15 [==============================] - 0s 3ms/step - loss: 1.2016 - acc: 0.5333\n",
      "Epoch 1/1\n",
      "15/15 [==============================] - 0s 3ms/step - loss: 1.1920 - acc: 0.5333\n",
      "Epoch 1/1\n",
      "15/15 [==============================] - 0s 3ms/step - loss: 1.1819 - acc: 0.5333\n",
      "Epoch 1/1\n",
      "15/15 [==============================] - 0s 3ms/step - loss: 1.1713 - acc: 0.5333\n",
      "Epoch 1/1\n",
      "15/15 [==============================] - 0s 3ms/step - loss: 1.1604 - acc: 0.5333\n",
      "Epoch 1/1\n",
      "15/15 [==============================] - 0s 3ms/step - loss: 1.1492 - acc: 0.6000\n",
      "Epoch 1/1\n",
      "15/15 [==============================] - 0s 3ms/step - loss: 1.1377 - acc: 0.6000\n",
      "Epoch 1/1\n",
      "15/15 [==============================] - 0s 3ms/step - loss: 1.1261 - acc: 0.6000\n",
      "Epoch 1/1\n",
      "15/15 [==============================] - 0s 3ms/step - loss: 1.1143 - acc: 0.6000\n",
      "Epoch 1/1\n",
      "15/15 [==============================] - 0s 3ms/step - loss: 1.1024 - acc: 0.6000\n",
      "Epoch 1/1\n",
      "15/15 [==============================] - 0s 3ms/step - loss: 1.0904 - acc: 0.6000\n",
      "Epoch 1/1\n",
      "15/15 [==============================] - 0s 3ms/step - loss: 1.0785 - acc: 0.6667\n",
      "Epoch 1/1\n",
      "15/15 [==============================] - 0s 3ms/step - loss: 1.0666 - acc: 0.6667\n",
      "Epoch 1/1\n",
      "15/15 [==============================] - 0s 3ms/step - loss: 1.0548 - acc: 0.6667\n",
      "Epoch 1/1\n",
      "15/15 [==============================] - 0s 3ms/step - loss: 1.0432 - acc: 0.6667\n",
      "Epoch 1/1\n",
      "15/15 [==============================] - 0s 3ms/step - loss: 1.0318 - acc: 0.6667\n",
      "Epoch 1/1\n",
      "15/15 [==============================] - 0s 3ms/step - loss: 1.0206 - acc: 0.6667\n",
      "Epoch 1/1\n",
      "15/15 [==============================] - 0s 3ms/step - loss: 1.0097 - acc: 0.6667\n",
      "Epoch 1/1\n",
      "15/15 [==============================] - 0s 3ms/step - loss: 0.9992 - acc: 0.6667\n",
      "Epoch 1/1\n",
      "15/15 [==============================] - 0s 3ms/step - loss: 0.9890 - acc: 0.8000\n",
      "Epoch 1/1\n",
      "15/15 [==============================] - 0s 3ms/step - loss: 0.9792 - acc: 0.8000\n",
      "Epoch 1/1\n",
      "15/15 [==============================] - 0s 3ms/step - loss: 0.9699 - acc: 0.8000\n",
      "Epoch 1/1\n",
      "15/15 [==============================] - 0s 3ms/step - loss: 0.9611 - acc: 0.8667\n",
      "Epoch 1/1\n",
      "15/15 [==============================] - 0s 3ms/step - loss: 0.9529 - acc: 0.8667\n",
      "Epoch 1/1\n",
      "15/15 [==============================] - 0s 3ms/step - loss: 0.9452 - acc: 0.8667\n",
      "Epoch 1/1\n",
      "15/15 [==============================] - 0s 3ms/step - loss: 0.9381 - acc: 0.8667\n",
      "Epoch 1/1\n",
      "15/15 [==============================] - 0s 3ms/step - loss: 0.9317 - acc: 0.8667\n",
      "Epoch 1/1\n",
      "15/15 [==============================] - 0s 3ms/step - loss: 0.9261 - acc: 0.8667\n",
      "Epoch 1/1\n",
      "15/15 [==============================] - 0s 3ms/step - loss: 0.9214 - acc: 0.8667\n",
      "Epoch 1/1\n",
      "15/15 [==============================] - 0s 3ms/step - loss: 0.9176 - acc: 0.8667\n",
      "Epoch 1/1\n",
      "15/15 [==============================] - 0s 3ms/step - loss: 0.9149 - acc: 0.8667\n",
      "Epoch 1/1\n",
      "15/15 [==============================] - 0s 3ms/step - loss: 0.9134 - acc: 0.8667\n",
      "Epoch 1/1\n",
      "15/15 [==============================] - 0s 3ms/step - loss: 0.9133 - acc: 0.8667\n",
      "Epoch 1/1\n",
      "15/15 [==============================] - 0s 3ms/step - loss: 0.9147 - acc: 0.8667\n",
      "Epoch 1/1\n",
      "15/15 [==============================] - 0s 3ms/step - loss: 0.9178 - acc: 0.8667\n",
      "Epoch 1/1\n",
      "15/15 [==============================] - 0s 3ms/step - loss: 0.9226 - acc: 0.8667\n",
      "Epoch 1/1\n",
      "15/15 [==============================] - 0s 3ms/step - loss: 0.9292 - acc: 0.8000\n",
      "Epoch 1/1\n",
      "15/15 [==============================] - 0s 3ms/step - loss: 0.9389 - acc: 0.7333\n",
      "Epoch 1/1\n",
      "15/15 [==============================] - 0s 3ms/step - loss: 0.9565 - acc: 0.7333\n",
      "Epoch 1/1\n",
      "15/15 [==============================] - 0s 3ms/step - loss: 0.9899 - acc: 0.7333\n",
      "Epoch 1/1\n",
      "15/15 [==============================] - 0s 3ms/step - loss: 1.0438 - acc: 0.6667\n",
      "Epoch 1/1\n",
      "15/15 [==============================] - 0s 3ms/step - loss: 1.1061 - acc: 0.5333\n",
      "Epoch 1/1\n",
      "15/15 [==============================] - 0s 3ms/step - loss: 1.1623 - acc: 0.5333\n",
      "Epoch 1/1\n",
      "15/15 [==============================] - 0s 3ms/step - loss: 1.2027 - acc: 0.5333\n",
      "Epoch 1/1\n",
      "15/15 [==============================] - 0s 3ms/step - loss: 1.2271 - acc: 0.5333\n",
      "Epoch 1/1\n",
      "15/15 [==============================] - 0s 3ms/step - loss: 1.2404 - acc: 0.5333\n",
      "Epoch 1/1\n",
      "15/15 [==============================] - 0s 3ms/step - loss: 1.2470 - acc: 0.5333\n",
      "Epoch 1/1\n",
      "15/15 [==============================] - 0s 3ms/step - loss: 1.2494 - acc: 0.5333\n",
      "Epoch 1/1\n",
      "15/15 [==============================] - 0s 3ms/step - loss: 1.2490 - acc: 0.5333\n",
      "Epoch 1/1\n",
      "15/15 [==============================] - 0s 3ms/step - loss: 1.2466 - acc: 0.5333\n",
      "Epoch 1/1\n",
      "15/15 [==============================] - 0s 3ms/step - loss: 1.2426 - acc: 0.5333\n",
      "Epoch 1/1\n",
      "15/15 [==============================] - 0s 3ms/step - loss: 1.2374 - acc: 0.5333\n",
      "Epoch 1/1\n",
      "15/15 [==============================] - 0s 3ms/step - loss: 1.2310 - acc: 0.5333\n",
      "Epoch 1/1\n",
      "15/15 [==============================] - 0s 3ms/step - loss: 1.2237 - acc: 0.5333\n",
      "Epoch 1/1\n",
      "15/15 [==============================] - 0s 4ms/step - loss: 1.2156 - acc: 0.5333\n",
      "Epoch 1/1\n",
      "15/15 [==============================] - 0s 3ms/step - loss: 1.2068 - acc: 0.5333\n",
      "Epoch 1/1\n",
      "15/15 [==============================] - 0s 3ms/step - loss: 1.1973 - acc: 0.5333\n",
      "Epoch 1/1\n",
      "15/15 [==============================] - 0s 3ms/step - loss: 1.1873 - acc: 0.6000\n",
      "Epoch 1/1\n",
      "15/15 [==============================] - 0s 5ms/step - loss: 1.1768 - acc: 0.6000\n",
      "Epoch 1/1\n",
      "15/15 [==============================] - 0s 3ms/step - loss: 1.1659 - acc: 0.5333\n",
      "Epoch 1/1\n",
      "15/15 [==============================] - 0s 3ms/step - loss: 1.1547 - acc: 0.6000\n",
      "Epoch 1/1\n",
      "15/15 [==============================] - 0s 3ms/step - loss: 1.1431 - acc: 0.6000\n",
      "Epoch 1/1\n",
      "15/15 [==============================] - 0s 3ms/step - loss: 1.1313 - acc: 0.6000\n",
      "Epoch 1/1\n",
      "15/15 [==============================] - 0s 3ms/step - loss: 1.1193 - acc: 0.6000\n",
      "Epoch 1/1\n",
      "15/15 [==============================] - 0s 3ms/step - loss: 1.1071 - acc: 0.7333\n",
      "Epoch 1/1\n",
      "15/15 [==============================] - 0s 3ms/step - loss: 1.0948 - acc: 0.7333\n",
      "Epoch 1/1\n",
      "15/15 [==============================] - 0s 3ms/step - loss: 1.0825 - acc: 0.7333\n",
      "Epoch 1/1\n",
      "15/15 [==============================] - 0s 3ms/step - loss: 1.0700 - acc: 0.7333\n",
      "Epoch 1/1\n",
      "15/15 [==============================] - 0s 3ms/step - loss: 1.0576 - acc: 0.7333\n",
      "Epoch 1/1\n",
      "15/15 [==============================] - 0s 3ms/step - loss: 1.0451 - acc: 0.7333\n",
      "Epoch 1/1\n",
      "15/15 [==============================] - 0s 3ms/step - loss: 1.0326 - acc: 0.7333\n",
      "Epoch 1/1\n",
      "15/15 [==============================] - 0s 3ms/step - loss: 1.0202 - acc: 0.8000\n",
      "Epoch 1/1\n",
      "15/15 [==============================] - 0s 3ms/step - loss: 1.0078 - acc: 0.8000\n",
      "Epoch 1/1\n",
      "15/15 [==============================] - 0s 3ms/step - loss: 0.9956 - acc: 0.8000\n",
      "Epoch 1/1\n",
      "15/15 [==============================] - 0s 3ms/step - loss: 0.9833 - acc: 0.8000\n",
      "Epoch 1/1\n",
      "15/15 [==============================] - 0s 3ms/step - loss: 0.9712 - acc: 0.8000\n",
      "Epoch 1/1\n",
      "15/15 [==============================] - 0s 3ms/step - loss: 0.9591 - acc: 0.8000\n",
      "Epoch 1/1\n",
      "15/15 [==============================] - 0s 3ms/step - loss: 0.9472 - acc: 0.8000\n",
      "Epoch 1/1\n",
      "15/15 [==============================] - 0s 3ms/step - loss: 0.9353 - acc: 0.8000\n",
      "Epoch 1/1\n",
      "15/15 [==============================] - 0s 3ms/step - loss: 0.9236 - acc: 0.8000\n",
      "Epoch 1/1\n",
      "15/15 [==============================] - 0s 3ms/step - loss: 0.9119 - acc: 0.8000\n",
      "Epoch 1/1\n",
      "15/15 [==============================] - 0s 3ms/step - loss: 0.9004 - acc: 0.8000\n",
      "Epoch 1/1\n",
      "15/15 [==============================] - 0s 3ms/step - loss: 0.8890 - acc: 0.8000\n",
      "Epoch 1/1\n",
      "15/15 [==============================] - 0s 4ms/step - loss: 0.8776 - acc: 0.8000\n",
      "Epoch 1/1\n",
      "15/15 [==============================] - 0s 3ms/step - loss: 0.8664 - acc: 0.8000\n",
      "Epoch 1/1\n",
      "15/15 [==============================] - 0s 3ms/step - loss: 0.8553 - acc: 0.8000\n",
      "Epoch 1/1\n",
      "15/15 [==============================] - 0s 3ms/step - loss: 0.8444 - acc: 0.8000\n",
      "Epoch 1/1\n",
      "15/15 [==============================] - 0s 3ms/step - loss: 0.8335 - acc: 0.8000\n",
      "Epoch 1/1\n",
      "15/15 [==============================] - 0s 3ms/step - loss: 0.8228 - acc: 0.8000\n",
      "Epoch 1/1\n",
      "15/15 [==============================] - 0s 3ms/step - loss: 0.8122 - acc: 0.8000\n",
      "Epoch 1/1\n",
      "15/15 [==============================] - 0s 3ms/step - loss: 0.8018 - acc: 0.8000\n",
      "Epoch 1/1\n",
      "15/15 [==============================] - 0s 3ms/step - loss: 0.7915 - acc: 0.8000\n",
      "Epoch 1/1\n",
      "15/15 [==============================] - 0s 3ms/step - loss: 0.7814 - acc: 0.8000\n",
      "Epoch 1/1\n",
      "15/15 [==============================] - 0s 3ms/step - loss: 0.7715 - acc: 0.8000\n",
      "Epoch 1/1\n",
      "15/15 [==============================] - 0s 3ms/step - loss: 0.7617 - acc: 0.8000\n",
      "Epoch 1/1\n",
      "15/15 [==============================] - 0s 3ms/step - loss: 0.7521 - acc: 0.8000\n",
      "Epoch 1/1\n",
      "15/15 [==============================] - 0s 3ms/step - loss: 0.7428 - acc: 0.8667\n",
      "Epoch 1/1\n",
      "15/15 [==============================] - 0s 3ms/step - loss: 0.7336 - acc: 0.8667\n",
      "Epoch 1/1\n",
      "15/15 [==============================] - 0s 3ms/step - loss: 0.7247 - acc: 0.8667\n",
      "Epoch 1/1\n",
      "15/15 [==============================] - 0s 3ms/step - loss: 0.7161 - acc: 0.8667\n",
      "Epoch 1/1\n",
      "15/15 [==============================] - 0s 3ms/step - loss: 0.7078 - acc: 0.8667\n",
      "Epoch 1/1\n",
      "15/15 [==============================] - 0s 4ms/step - loss: 0.6999 - acc: 0.8667\n",
      "Epoch 1/1\n",
      "15/15 [==============================] - 0s 3ms/step - loss: 0.6923 - acc: 0.8667\n",
      "Epoch 1/1\n",
      "15/15 [==============================] - 0s 3ms/step - loss: 0.6852 - acc: 0.8667\n",
      "Epoch 1/1\n",
      "15/15 [==============================] - 0s 3ms/step - loss: 0.6786 - acc: 0.8667\n",
      "Epoch 1/1\n",
      "15/15 [==============================] - 0s 3ms/step - loss: 0.6724 - acc: 0.8667\n",
      "Epoch 1/1\n",
      "15/15 [==============================] - 0s 3ms/step - loss: 0.6666 - acc: 0.8667\n",
      "Epoch 1/1\n",
      "15/15 [==============================] - 0s 3ms/step - loss: 0.6613 - acc: 0.9333\n",
      "Epoch 1/1\n",
      "15/15 [==============================] - 0s 3ms/step - loss: 0.6563 - acc: 0.9333\n",
      "Epoch 1/1\n",
      "15/15 [==============================] - 0s 3ms/step - loss: 0.6517 - acc: 0.9333\n",
      "Epoch 1/1\n",
      "15/15 [==============================] - 0s 3ms/step - loss: 0.6473 - acc: 0.9333\n",
      "Epoch 1/1\n",
      "15/15 [==============================] - 0s 3ms/step - loss: 0.6430 - acc: 0.9333\n",
      "Epoch 1/1\n",
      "15/15 [==============================] - 0s 3ms/step - loss: 0.6389 - acc: 0.9333\n",
      "Epoch 1/1\n",
      "15/15 [==============================] - 0s 3ms/step - loss: 0.6347 - acc: 0.9333\n",
      "Epoch 1/1\n",
      "15/15 [==============================] - 0s 3ms/step - loss: 0.6306 - acc: 0.9333\n",
      "Epoch 1/1\n",
      "15/15 [==============================] - 0s 4ms/step - loss: 0.6264 - acc: 0.9333\n",
      "Epoch 1/1\n",
      "15/15 [==============================] - 0s 3ms/step - loss: 0.6221 - acc: 0.9333\n",
      "Epoch 1/1\n",
      "15/15 [==============================] - 0s 3ms/step - loss: 0.6177 - acc: 1.0000\n",
      "Epoch 1/1\n",
      "15/15 [==============================] - 0s 3ms/step - loss: 0.6131 - acc: 1.0000\n",
      "Epoch 1/1\n",
      "15/15 [==============================] - 0s 3ms/step - loss: 0.6085 - acc: 1.0000\n",
      "Epoch 1/1\n",
      "15/15 [==============================] - 0s 4ms/step - loss: 0.6038 - acc: 1.0000\n",
      "Epoch 1/1\n",
      "15/15 [==============================] - 0s 3ms/step - loss: 0.5990 - acc: 1.0000\n",
      "Epoch 1/1\n",
      "15/15 [==============================] - 0s 3ms/step - loss: 0.5942 - acc: 1.0000\n",
      "Epoch 1/1\n",
      "15/15 [==============================] - 0s 3ms/step - loss: 0.5893 - acc: 1.0000\n",
      "Epoch 1/1\n",
      "15/15 [==============================] - 0s 3ms/step - loss: 0.5845 - acc: 1.0000\n",
      "Epoch 1/1\n",
      "15/15 [==============================] - 0s 3ms/step - loss: 0.5797 - acc: 1.0000\n",
      "Epoch 1/1\n",
      "15/15 [==============================] - 0s 3ms/step - loss: 0.5750 - acc: 1.0000\n",
      "Epoch 1/1\n",
      "15/15 [==============================] - 0s 3ms/step - loss: 0.5703 - acc: 1.0000\n",
      "Epoch 1/1\n",
      "15/15 [==============================] - 0s 3ms/step - loss: 0.5657 - acc: 1.0000\n",
      "Epoch 1/1\n",
      "15/15 [==============================] - 0s 3ms/step - loss: 0.5613 - acc: 1.0000\n",
      "Epoch 1/1\n",
      "15/15 [==============================] - 0s 3ms/step - loss: 0.5569 - acc: 1.0000\n",
      "Epoch 1/1\n",
      "15/15 [==============================] - 0s 3ms/step - loss: 0.5527 - acc: 1.0000\n",
      "Epoch 1/1\n",
      "15/15 [==============================] - 0s 3ms/step - loss: 0.5485 - acc: 1.0000\n",
      "Epoch 1/1\n",
      "15/15 [==============================] - 0s 3ms/step - loss: 0.5445 - acc: 1.0000\n",
      "Epoch 1/1\n",
      "15/15 [==============================] - 0s 3ms/step - loss: 0.5406 - acc: 1.0000\n",
      "Epoch 1/1\n",
      "15/15 [==============================] - 0s 3ms/step - loss: 0.5367 - acc: 1.0000\n",
      "Epoch 1/1\n",
      "15/15 [==============================] - 0s 3ms/step - loss: 0.5328 - acc: 1.0000\n",
      "Epoch 1/1\n",
      "15/15 [==============================] - 0s 3ms/step - loss: 0.5290 - acc: 1.0000\n",
      "Epoch 1/1\n",
      "15/15 [==============================] - 0s 3ms/step - loss: 0.5251 - acc: 1.0000\n",
      "Epoch 1/1\n",
      "15/15 [==============================] - 0s 3ms/step - loss: 0.5211 - acc: 1.0000\n",
      "Epoch 1/1\n",
      "15/15 [==============================] - 0s 3ms/step - loss: 0.5170 - acc: 1.0000\n",
      "Epoch 1/1\n",
      "15/15 [==============================] - 0s 3ms/step - loss: 0.5127 - acc: 1.0000\n",
      "Epoch 1/1\n",
      "15/15 [==============================] - 0s 3ms/step - loss: 0.5082 - acc: 1.0000\n",
      "Epoch 1/1\n",
      "15/15 [==============================] - 0s 3ms/step - loss: 0.5034 - acc: 1.0000\n"
     ]
    }
   ],
   "source": [
    "model_4.compile(optimizer='adam', loss='categorical_crossentropy', metrics=['accuracy'])\n",
    "                \n",
    "for i in range(300):\n",
    "    model_4.fit(X, y, epochs=1, batch_size=batch_size, verbose=1, shuffle=False)\n",
    "    model_4.reset_states()"
   ]
  },
  {
   "cell_type": "markdown",
   "metadata": {},
   "source": [
    "### Voy ingresando de a un caracter la frase original"
   ]
  },
  {
   "cell_type": "code",
   "execution_count": 100,
   "metadata": {},
   "outputs": [
    {
     "name": "stdout",
     "output_type": "stream",
     "text": [
      "M -> A 0.73\n",
      "A -> C 0.7\n",
      "C -> H 0.82\n",
      "H -> I 0.79\n",
      "I -> N 0.83\n",
      "N -> E 0.43\n",
      "E ->   0.49\n",
      "  -> L 0.74\n",
      "L -> E 0.55\n",
      "E -> A 0.51\n",
      "A -> R 0.77\n",
      "R -> N 0.51\n",
      "N -> I 0.51\n",
      "I -> N 0.36\n",
      "N -> G 0.64\n",
      "G -> L 0.27\n"
     ]
    }
   ],
   "source": [
    "# Probar con 0, 3, 4, 7 y 1\n",
    "starting = 0\n",
    "model_4.reset_states()\n",
    "for c in text[starting:]:\n",
    "    to_predict = to_one_hot_vector(c, chars, chars_to_indices, window_size)*1\n",
    "    predicted = model_4.predict(to_predict)\n",
    "    print(c, '->', indices_to_chars[np.argmax(predicted[0])], int(max(predicted[0])*100)/100)"
   ]
  },
  {
   "cell_type": "markdown",
   "metadata": {},
   "source": [
    "Con starting en (text es MACHINE LEARNING):\n",
    "- 0 Predice todo correctamente\n",
    "- 6 Al arrancar en E puede ser tanto la de L**E**AR.. o la de CHIN**E** .. por lo que no tiene demasiada certeza\n",
    "- 4 La I da alta probabilidad para la N"
   ]
  },
  {
   "cell_type": "markdown",
   "metadata": {},
   "source": [
    "### Realimentando salida"
   ]
  },
  {
   "cell_type": "code",
   "execution_count": 101,
   "metadata": {},
   "outputs": [
    {
     "name": "stdout",
     "output_type": "stream",
     "text": [
      "M -> A 0.73\n",
      "A -> C 0.7\n",
      "C -> H 0.82\n",
      "H -> I 0.79\n",
      "I -> N 0.83\n",
      "N -> E 0.43\n",
      "E ->   0.49\n",
      "  -> L 0.74\n",
      "L -> E 0.55\n",
      "E -> A 0.51\n",
      "A -> R 0.77\n",
      "R -> N 0.51\n",
      "N -> I 0.51\n",
      "I -> N 0.36\n",
      "N -> G 0.64\n",
      "G -> L 0.27\n",
      "L -> E 0.81\n",
      "E ->   0.27\n",
      "  -> L 0.53\n",
      "L -> E 0.85\n",
      "E -> A 0.42\n",
      "A -> R 0.69\n",
      "R -> N 0.57\n",
      "N -> I 0.58\n",
      "I -> N 0.48\n"
     ]
    }
   ],
   "source": [
    "starting = 0\n",
    "model_4.reset_states()\n",
    "c = text[starting]\n",
    "\n",
    "for i in range(25):\n",
    "    to_predict = to_one_hot_vector(c, chars, chars_to_indices, window_size)\n",
    "    \n",
    "    predicted = model_4.predict(to_predict)\n",
    "    \n",
    "    pred_char = indices_to_chars[np.argmax(predicted[0])]\n",
    "    print(c, '->', pred_char, int(max(predicted[0])*100)/100)\n",
    "    \n",
    "    c = pred_char"
   ]
  },
  {
   "cell_type": "markdown",
   "metadata": {},
   "source": [
    "## Ejemplo 5: Padding\n",
    "\"The model will learn the zero values carry no information so indeed the sequences are not the same length in terms of content, but same length vectors is required to perform the computation in Keras.\" https://machinelearningmastery.com/sequence-classification-lstm-recurrent-neural-networks-python-keras/\n",
    "https://machinelearningmastery.com/understanding-stateful-lstm-recurrent-neural-networks-python-keras/\n",
    "\n",
    "¿Como entreno no-statefull pero que de resultados similares a la statefull?"
   ]
  },
  {
   "cell_type": "code",
   "execution_count": 50,
   "metadata": {},
   "outputs": [],
   "source": [
    "def window_transform_text_padding_mode(text):\n",
    "    len_out = len(text)\n",
    "    \n",
    "    #output_start[-1] = text[:1]\n",
    "    #output_start[len_out-1:len_out-2] = text[0:1]\n",
    "    text = text\n",
    "    X = []\n",
    "    y = []\n",
    "    for i in range(len_out):\n",
    "        #X.append()\n",
    "        output_start = ['']*(len_out-1)\n",
    "        output_start[len_out-i-1:len_out] = text[0:i]\n",
    "        X.append(output_start)\n",
    "        y.append(text[i])\n",
    "    return X, y"
   ]
  },
  {
   "cell_type": "markdown",
   "metadata": {},
   "source": [
    "### Armo entradas con padding"
   ]
  },
  {
   "cell_type": "code",
   "execution_count": 51,
   "metadata": {},
   "outputs": [
    {
     "name": "stdout",
     "output_type": "stream",
     "text": [
      "16\n",
      "16\n"
     ]
    }
   ],
   "source": [
    "X_5, y_5 = window_transform_text_padding_mode(text)\n",
    "print(len(X_5))\n",
    "print(len(y_5))"
   ]
  },
  {
   "cell_type": "code",
   "execution_count": 52,
   "metadata": {},
   "outputs": [
    {
     "data": {
      "text/plain": [
       "[['', '', '', '', '', '', '', '', '', '', '', '', '', '', ''],\n",
       " ['', '', '', '', '', '', '', '', '', '', '', '', '', '', 'M'],\n",
       " ['', '', '', '', '', '', '', '', '', '', '', '', '', 'M', 'A'],\n",
       " ['', '', '', '', '', '', '', '', '', '', '', '', 'M', 'A', 'C'],\n",
       " ['', '', '', '', '', '', '', '', '', '', '', 'M', 'A', 'C', 'H'],\n",
       " ['', '', '', '', '', '', '', '', '', '', 'M', 'A', 'C', 'H', 'I'],\n",
       " ['', '', '', '', '', '', '', '', '', 'M', 'A', 'C', 'H', 'I', 'N'],\n",
       " ['', '', '', '', '', '', '', '', 'M', 'A', 'C', 'H', 'I', 'N', 'E'],\n",
       " ['', '', '', '', '', '', '', 'M', 'A', 'C', 'H', 'I', 'N', 'E', ' '],\n",
       " ['', '', '', '', '', '', 'M', 'A', 'C', 'H', 'I', 'N', 'E', ' ', 'L'],\n",
       " ['', '', '', '', '', 'M', 'A', 'C', 'H', 'I', 'N', 'E', ' ', 'L', 'E'],\n",
       " ['', '', '', '', 'M', 'A', 'C', 'H', 'I', 'N', 'E', ' ', 'L', 'E', 'A'],\n",
       " ['', '', '', 'M', 'A', 'C', 'H', 'I', 'N', 'E', ' ', 'L', 'E', 'A', 'R'],\n",
       " ['', '', 'M', 'A', 'C', 'H', 'I', 'N', 'E', ' ', 'L', 'E', 'A', 'R', 'N'],\n",
       " ['', 'M', 'A', 'C', 'H', 'I', 'N', 'E', ' ', 'L', 'E', 'A', 'R', 'N', 'I'],\n",
       " ['M', 'A', 'C', 'H', 'I', 'N', 'E', ' ', 'L', 'E', 'A', 'R', 'N', 'I', 'N']]"
      ]
     },
     "execution_count": 52,
     "metadata": {},
     "output_type": "execute_result"
    }
   ],
   "source": [
    "X_5"
   ]
  },
  {
   "cell_type": "code",
   "execution_count": 53,
   "metadata": {},
   "outputs": [
    {
     "data": {
      "text/plain": [
       "['M',\n",
       " 'A',\n",
       " 'C',\n",
       " 'H',\n",
       " 'I',\n",
       " 'N',\n",
       " 'E',\n",
       " ' ',\n",
       " 'L',\n",
       " 'E',\n",
       " 'A',\n",
       " 'R',\n",
       " 'N',\n",
       " 'I',\n",
       " 'N',\n",
       " 'G']"
      ]
     },
     "execution_count": 53,
     "metadata": {},
     "output_type": "execute_result"
    }
   ],
   "source": [
    "y_5"
   ]
  },
  {
   "cell_type": "code",
   "execution_count": 54,
   "metadata": {},
   "outputs": [
    {
     "name": "stdout",
     "output_type": "stream",
     "text": [
      "Chars:  [' ', 'A', 'C', 'E', 'G', 'H', 'I', 'L', 'M', 'N', 'R']\n"
     ]
    },
    {
     "data": {
      "text/plain": [
       "{' ': 0,\n",
       " 'A': 1,\n",
       " 'C': 2,\n",
       " 'E': 3,\n",
       " 'G': 4,\n",
       " 'H': 5,\n",
       " 'I': 6,\n",
       " 'L': 7,\n",
       " 'M': 8,\n",
       " 'N': 9,\n",
       " 'R': 10,\n",
       " '': -1}"
      ]
     },
     "execution_count": 54,
     "metadata": {},
     "output_type": "execute_result"
    }
   ],
   "source": [
    "chars = sorted(set(\"MACHINE LEARNING\"))\n",
    "print('Chars: ', chars)\n",
    "\n",
    "chars_to_indices = dict((c, i) for i, c in enumerate(chars))\n",
    "chars_to_indices[''] = -1\n",
    "chars_to_indices"
   ]
  },
  {
   "cell_type": "code",
   "execution_count": 55,
   "metadata": {},
   "outputs": [],
   "source": [
    "def code_chars(X, y, chars_to_indices):\n",
    "    X_coded = []\n",
    "    y_coded = []\n",
    "    for i, xi in enumerate(X):\n",
    "        one_h_y = [0]*(len(chars_to_indices) - 1) # Menos 1 por el '' agregado\n",
    "        vect = []\n",
    "        for c in xi:\n",
    "            one_h = [0]*(len(chars_to_indices) - 1)\n",
    "            if c == '':\n",
    "                vect.append(one_h)\n",
    "            else:\n",
    "                one_h[chars_to_indices[c]] = 1\n",
    "                vect.append(one_h)\n",
    "        X_coded.append(vect)\n",
    "        one_h_y[chars_to_indices[y[i]]] = 1\n",
    "        y_coded.append(one_h_y)\n",
    "    return np.array(X_coded), np.array(y_coded)"
   ]
  },
  {
   "cell_type": "code",
   "execution_count": 56,
   "metadata": {},
   "outputs": [],
   "source": [
    "X_coded, y_coded = code_chars(X_5, y_5, chars_to_indices)"
   ]
  },
  {
   "cell_type": "code",
   "execution_count": 57,
   "metadata": {},
   "outputs": [
    {
     "data": {
      "text/plain": [
       "((16, 15, 11), (16, 11))"
      ]
     },
     "execution_count": 57,
     "metadata": {},
     "output_type": "execute_result"
    }
   ],
   "source": [
    "X_coded.shape, y_coded.shape"
   ]
  },
  {
   "cell_type": "code",
   "execution_count": 58,
   "metadata": {},
   "outputs": [
    {
     "data": {
      "text/plain": [
       "array([[0, 0, 0, 0, 0, 0, 0, 0, 0, 0, 0],\n",
       "       [0, 0, 0, 0, 0, 0, 0, 0, 0, 0, 0],\n",
       "       [0, 0, 0, 0, 0, 0, 0, 0, 0, 0, 0],\n",
       "       [0, 0, 0, 0, 0, 0, 0, 0, 0, 0, 0],\n",
       "       [0, 0, 0, 0, 0, 0, 0, 0, 0, 0, 0],\n",
       "       [0, 0, 0, 0, 0, 0, 0, 0, 0, 0, 0],\n",
       "       [0, 0, 0, 0, 0, 0, 0, 0, 0, 0, 0],\n",
       "       [0, 0, 0, 0, 0, 0, 0, 0, 0, 0, 0],\n",
       "       [0, 0, 0, 0, 0, 0, 0, 0, 0, 0, 0],\n",
       "       [0, 0, 0, 0, 0, 0, 0, 0, 0, 0, 0],\n",
       "       [0, 0, 0, 0, 0, 0, 0, 0, 0, 0, 0],\n",
       "       [0, 0, 0, 0, 0, 0, 0, 0, 0, 0, 0],\n",
       "       [0, 0, 0, 0, 0, 0, 0, 0, 0, 0, 0],\n",
       "       [0, 0, 0, 0, 0, 0, 0, 0, 0, 0, 0],\n",
       "       [0, 0, 0, 0, 0, 0, 0, 0, 0, 0, 0]])"
      ]
     },
     "execution_count": 58,
     "metadata": {},
     "output_type": "execute_result"
    }
   ],
   "source": [
    "# Primer entrada todos ceros\n",
    "#[['', '', '', '', '', '', '', '', '', '', '', '', '', '', '']\n",
    "X_coded[0]"
   ]
  },
  {
   "cell_type": "code",
   "execution_count": 59,
   "metadata": {},
   "outputs": [
    {
     "data": {
      "text/plain": [
       "array([[0, 0, 0, 0, 0, 0, 0, 0, 0, 0, 0],\n",
       "       [0, 0, 0, 0, 0, 0, 0, 0, 0, 0, 0],\n",
       "       [0, 0, 0, 0, 0, 0, 0, 0, 0, 0, 0],\n",
       "       [0, 0, 0, 0, 0, 0, 0, 0, 0, 0, 0],\n",
       "       [0, 0, 0, 0, 0, 0, 0, 0, 0, 0, 0],\n",
       "       [0, 0, 0, 0, 0, 0, 0, 0, 0, 0, 0],\n",
       "       [0, 0, 0, 0, 0, 0, 0, 0, 0, 0, 0],\n",
       "       [0, 0, 0, 0, 0, 0, 0, 0, 0, 0, 0],\n",
       "       [0, 0, 0, 0, 0, 0, 0, 0, 0, 0, 0],\n",
       "       [0, 0, 0, 0, 0, 0, 0, 0, 0, 0, 0],\n",
       "       [0, 0, 0, 0, 0, 0, 0, 0, 0, 0, 0],\n",
       "       [0, 0, 0, 0, 0, 0, 0, 0, 0, 0, 0],\n",
       "       [0, 0, 0, 0, 0, 0, 0, 0, 0, 0, 0],\n",
       "       [0, 0, 0, 0, 0, 0, 0, 0, 0, 0, 0],\n",
       "       [0, 0, 0, 0, 0, 0, 0, 0, 1, 0, 0]])"
      ]
     },
     "execution_count": 59,
     "metadata": {},
     "output_type": "execute_result"
    }
   ],
   "source": [
    "# ['', '', '', '', '', '', '', '', '', '', '', '', '', '', 'M'],\n",
    "X_coded[1]"
   ]
  },
  {
   "cell_type": "code",
   "execution_count": 60,
   "metadata": {},
   "outputs": [
    {
     "data": {
      "text/plain": [
       "array([0, 0, 0, 0, 0, 0, 0, 0, 1, 0, 0])"
      ]
     },
     "execution_count": 60,
     "metadata": {},
     "output_type": "execute_result"
    }
   ],
   "source": [
    "y_coded[0]"
   ]
  },
  {
   "cell_type": "markdown",
   "metadata": {},
   "source": [
    "### Entreno modelo"
   ]
  },
  {
   "cell_type": "code",
   "execution_count": 61,
   "metadata": {},
   "outputs": [
    {
     "data": {
      "text/plain": [
       "(15, 11)"
      ]
     },
     "execution_count": 61,
     "metadata": {},
     "output_type": "execute_result"
    }
   ],
   "source": [
    "input_shape=(X_coded.shape[1],X_coded.shape[2])\n",
    "input_shape"
   ]
  },
  {
   "cell_type": "code",
   "execution_count": 62,
   "metadata": {},
   "outputs": [
    {
     "name": "stdout",
     "output_type": "stream",
     "text": [
      "_________________________________________________________________\n",
      "Layer (type)                 Output Shape              Param #   \n",
      "=================================================================\n",
      "simple_rnn_6 (SimpleRNN)     (None, 10)                220       \n",
      "_________________________________________________________________\n",
      "dense_6 (Dense)              (None, 11)                121       \n",
      "=================================================================\n",
      "Total params: 341\n",
      "Trainable params: 341\n",
      "Non-trainable params: 0\n",
      "_________________________________________________________________\n"
     ]
    }
   ],
   "source": [
    "model_5 = Sequential()\n",
    "model_5.add(SimpleRNN(10, input_shape=input_shape))\n",
    "model_5.add(Dense(len(chars), activation=\"softmax\"))\n",
    "model_5.summary()"
   ]
  },
  {
   "cell_type": "code",
   "execution_count": 63,
   "metadata": {},
   "outputs": [
    {
     "data": {
      "image/png": "[encoded data removed]",
      "text/plain": [
       "<matplotlib.figure.Figure at 0x7f9eca264c88>"
      ]
     },
     "metadata": {
      "needs_background": "light"
     },
     "output_type": "display_data"
    },
    {
     "name": "stdout",
     "output_type": "stream",
     "text": [
      "Epoch 492/500\n",
      "16/16 [==============================] - 0s 7ms/step - loss: 0.0080 - acc: 1.0000\n",
      "Epoch 493/500\n",
      "16/16 [==============================] - 0s 7ms/step - loss: 0.0078 - acc: 1.0000\n",
      "Epoch 494/500\n",
      "16/16 [==============================] - 0s 7ms/step - loss: 0.0077 - acc: 1.0000\n",
      "Epoch 495/500\n",
      "16/16 [==============================] - 0s 6ms/step - loss: 0.0077 - acc: 1.0000\n",
      "Epoch 496/500\n",
      "16/16 [==============================] - 0s 7ms/step - loss: 0.0076 - acc: 1.0000\n",
      "Epoch 497/500\n",
      "16/16 [==============================] - 0s 7ms/step - loss: 0.0076 - acc: 1.0000\n",
      "Epoch 498/500\n",
      "16/16 [==============================] - 0s 7ms/step - loss: 0.0075 - acc: 1.0000\n",
      "Epoch 499/500\n",
      "16/16 [==============================] - 0s 7ms/step - loss: 0.0075 - acc: 1.0000\n",
      "Epoch 500/500\n",
      "16/16 [==============================] - 0s 7ms/step - loss: 0.0075 - acc: 1.0000\n"
     ]
    },
    {
     "data": {
      "text/plain": [
       "<keras.callbacks.History at 0x7f9f001e2dd8>"
      ]
     },
     "execution_count": 63,
     "metadata": {},
     "output_type": "execute_result"
    }
   ],
   "source": [
    "model_5.compile(optimizer='adam', loss='categorical_crossentropy', metrics=['accuracy'])\n",
    "\n",
    "model_5.fit(\n",
    "    X_coded,\n",
    "    y_coded, \n",
    "    epochs=500, \n",
    "    batch_size=1, \n",
    "    verbose=1, \n",
    "    callbacks=[PlotLosses(plot_interval=10, evaluate_interval=None)]\n",
    ")"
   ]
  },
  {
   "cell_type": "code",
   "execution_count": 64,
   "metadata": {},
   "outputs": [
    {
     "name": "stdout",
     "output_type": "stream",
     "text": [
      "(16, 15, 11)\n",
      "['', '', '', '', '', '', '', '', '', '', '', '', '', '', ''] -> M 0.98\n",
      "['', '', '', '', '', '', '', '', '', '', '', '', '', '', 'M'] -> A 0.99\n",
      "['', '', '', '', '', '', '', '', '', '', '', '', '', 'M', 'A'] -> C 0.98\n",
      "['', '', '', '', '', '', '', '', '', '', '', '', 'M', 'A', 'C'] -> H 0.99\n",
      "['', '', '', '', '', '', '', '', '', '', '', 'M', 'A', 'C', 'H'] -> I 0.99\n",
      "['', '', '', '', '', '', '', '', '', '', 'M', 'A', 'C', 'H', 'I'] -> N 0.99\n",
      "['', '', '', '', '', '', '', '', '', 'M', 'A', 'C', 'H', 'I', 'N'] -> E 0.99\n",
      "['', '', '', '', '', '', '', '', 'M', 'A', 'C', 'H', 'I', 'N', 'E'] ->   0.98\n",
      "['', '', '', '', '', '', '', 'M', 'A', 'C', 'H', 'I', 'N', 'E', ' '] -> L 0.99\n",
      "['', '', '', '', '', '', 'M', 'A', 'C', 'H', 'I', 'N', 'E', ' ', 'L'] -> E 0.99\n",
      "['', '', '', '', '', 'M', 'A', 'C', 'H', 'I', 'N', 'E', ' ', 'L', 'E'] -> A 0.99\n",
      "['', '', '', '', 'M', 'A', 'C', 'H', 'I', 'N', 'E', ' ', 'L', 'E', 'A'] -> R 0.99\n",
      "['', '', '', 'M', 'A', 'C', 'H', 'I', 'N', 'E', ' ', 'L', 'E', 'A', 'R'] -> N 0.99\n",
      "['', '', 'M', 'A', 'C', 'H', 'I', 'N', 'E', ' ', 'L', 'E', 'A', 'R', 'N'] -> I 0.99\n",
      "['', 'M', 'A', 'C', 'H', 'I', 'N', 'E', ' ', 'L', 'E', 'A', 'R', 'N', 'I'] -> N 0.99\n",
      "['M', 'A', 'C', 'H', 'I', 'N', 'E', ' ', 'L', 'E', 'A', 'R', 'N', 'I', 'N'] -> G 0.99\n"
     ]
    }
   ],
   "source": [
    "to_predict = X_coded\n",
    "print(to_predict.shape)\n",
    "predicted = model_5.predict(to_predict)\n",
    "for i, row in enumerate(predicted):\n",
    "    idx = np.argmax(row)\n",
    "    print(X_5[i], '->', indices_to_chars[idx], int(row[idx]*100)/100)"
   ]
  },
  {
   "cell_type": "markdown",
   "metadata": {},
   "source": [
    "### Ahora redefino modelo como stateful y cargo los pesos del anterior"
   ]
  },
  {
   "cell_type": "code",
   "execution_count": 65,
   "metadata": {},
   "outputs": [
    {
     "data": {
      "text/plain": [
       "(1, 1, 11)"
      ]
     },
     "execution_count": 65,
     "metadata": {},
     "output_type": "execute_result"
    }
   ],
   "source": [
    "batch_input_shape=(batch_size, 1, len(chars))\n",
    "batch_input_shape"
   ]
  },
  {
   "cell_type": "code",
   "execution_count": 66,
   "metadata": {},
   "outputs": [
    {
     "name": "stdout",
     "output_type": "stream",
     "text": [
      "_________________________________________________________________\n",
      "Layer (type)                 Output Shape              Param #   \n",
      "=================================================================\n",
      "simple_rnn_7 (SimpleRNN)     (1, 10)                   220       \n",
      "_________________________________________________________________\n",
      "dense_7 (Dense)              (1, 11)                   121       \n",
      "=================================================================\n",
      "Total params: 341\n",
      "Trainable params: 341\n",
      "Non-trainable params: 0\n",
      "_________________________________________________________________\n"
     ]
    }
   ],
   "source": [
    "batch_size=1\n",
    "model_5s = Sequential()\n",
    "model_5s.add(SimpleRNN(10, batch_input_shape=batch_input_shape, stateful=True))\n",
    "model_5s.add(Dense(len(chars), activation=\"softmax\"))\n",
    "model_5s.summary()"
   ]
  },
  {
   "cell_type": "code",
   "execution_count": 102,
   "metadata": {},
   "outputs": [],
   "source": [
    "model_5s.set_weights(model_5.get_weights())"
   ]
  },
  {
   "cell_type": "markdown",
   "metadata": {},
   "source": [
    "### Donde esta el maximo si ingreso ceros?"
   ]
  },
  {
   "cell_type": "code",
   "execution_count": 68,
   "metadata": {},
   "outputs": [
    {
     "name": "stdout",
     "output_type": "stream",
     "text": [
      "1 [[[0. 0. 0. 0. 0. 0. 0. 0. 0. 0. 0.]]] -> N 0.26\n",
      "2 [[[0. 0. 0. 0. 0. 0. 0. 0. 0. 0. 0.]]] -> N 0.38\n",
      "3 [[[0. 0. 0. 0. 0. 0. 0. 0. 0. 0. 0.]]] -> N 0.49\n",
      "4 [[[0. 0. 0. 0. 0. 0. 0. 0. 0. 0. 0.]]] -> E 0.81\n",
      "5 [[[0. 0. 0. 0. 0. 0. 0. 0. 0. 0. 0.]]] ->   0.61\n",
      "6 [[[0. 0. 0. 0. 0. 0. 0. 0. 0. 0. 0.]]] -> M 0.89\n",
      "7 [[[0. 0. 0. 0. 0. 0. 0. 0. 0. 0. 0.]]] -> M 0.65\n",
      "8 [[[0. 0. 0. 0. 0. 0. 0. 0. 0. 0. 0.]]] -> A 0.55\n",
      "9 [[[0. 0. 0. 0. 0. 0. 0. 0. 0. 0. 0.]]] -> R 0.45\n",
      "10 [[[0. 0. 0. 0. 0. 0. 0. 0. 0. 0. 0.]]] -> N 0.99\n",
      "11 [[[0. 0. 0. 0. 0. 0. 0. 0. 0. 0. 0.]]] -> I 0.76\n",
      "12 [[[0. 0. 0. 0. 0. 0. 0. 0. 0. 0. 0.]]] -> N 0.66\n",
      "13 [[[0. 0. 0. 0. 0. 0. 0. 0. 0. 0. 0.]]] -> L 0.3\n",
      "14 [[[0. 0. 0. 0. 0. 0. 0. 0. 0. 0. 0.]]] ->   0.5\n",
      "15 [[[0. 0. 0. 0. 0. 0. 0. 0. 0. 0. 0.]]] -> M 0.98\n",
      "16 [[[0. 0. 0. 0. 0. 0. 0. 0. 0. 0. 0.]]] -> C 0.3\n",
      "17 [[[0. 0. 0. 0. 0. 0. 0. 0. 0. 0. 0.]]] -> A 0.42\n",
      "18 [[[0. 0. 0. 0. 0. 0. 0. 0. 0. 0. 0.]]] -> N 0.71\n",
      "19 [[[0. 0. 0. 0. 0. 0. 0. 0. 0. 0. 0.]]] -> N 0.91\n",
      "20 [[[0. 0. 0. 0. 0. 0. 0. 0. 0. 0. 0.]]] -> G 0.43\n"
     ]
    }
   ],
   "source": [
    "model_5s.reset_states()\n",
    "to_predict = np.zeros((1,1,y_coded.shape[1]))\n",
    "\n",
    "for i in range(20):\n",
    "    predicted = model_5s.predict(to_predict)\n",
    "\n",
    "    idx = np.argmax(predicted[0])\n",
    "    print(\n",
    "        i + 1, \n",
    "        to_predict,\n",
    "        '->', indices_to_chars[idx],\n",
    "        int(predicted[0][idx]*100) / 100\n",
    "    )"
   ]
  },
  {
   "cell_type": "markdown",
   "metadata": {},
   "source": [
    "Notar que el máximo esta en la posición 16 y es M (Luego de ingresar con 16 ceros)"
   ]
  },
  {
   "cell_type": "code",
   "execution_count": 69,
   "metadata": {},
   "outputs": [
    {
     "name": "stdout",
     "output_type": "stream",
     "text": [
      "Input:  [[[0. 0. 0. 0. 0. 0. 0. 0. 0. 0. 0.]]]\n",
      "1 [[[0. 0. 0. 0. 0. 0. 0. 0. 0. 0. 0.]]] -> N 0.26\n",
      "2 [[[0. 0. 0. 0. 0. 0. 0. 0. 0. 0. 0.]]] -> N 0.38\n",
      "3 [[[0. 0. 0. 0. 0. 0. 0. 0. 0. 0. 0.]]] -> N 0.49\n",
      "4 [[[0. 0. 0. 0. 0. 0. 0. 0. 0. 0. 0.]]] -> E 0.81\n",
      "5 [[[0. 0. 0. 0. 0. 0. 0. 0. 0. 0. 0.]]] ->   0.61\n",
      "6 [[[0. 0. 0. 0. 0. 0. 0. 0. 0. 0. 0.]]] -> M 0.89\n",
      "7 [[[0. 0. 0. 0. 0. 0. 0. 0. 0. 0. 0.]]] -> M 0.65\n",
      "8 [[[0. 0. 0. 0. 0. 0. 0. 0. 0. 0. 0.]]] -> A 0.55\n",
      "9 [[[0. 0. 0. 0. 0. 0. 0. 0. 0. 0. 0.]]] -> R 0.45\n",
      "10 [[[0. 0. 0. 0. 0. 0. 0. 0. 0. 0. 0.]]] -> N 0.99\n",
      "11 [[[0. 0. 0. 0. 0. 0. 0. 0. 0. 0. 0.]]] -> I 0.76\n",
      "12 [[[0. 0. 0. 0. 0. 0. 0. 0. 0. 0. 0.]]] -> N 0.66\n",
      "13 [[[0. 0. 0. 0. 0. 0. 0. 0. 0. 0. 0.]]] -> L 0.3\n",
      "14 [[[0. 0. 0. 0. 0. 0. 0. 0. 0. 0. 0.]]] ->   0.5\n",
      "15 [[[0. 0. 0. 0. 0. 0. 0. 0. 0. 0. 0.]]] -> M 0.98\n"
     ]
    }
   ],
   "source": [
    "model_5s.reset_states()\n",
    "to_predict = np.zeros((1,1,y_coded.shape[1]))\n",
    "\n",
    "print(\"Input: \", to_predict)\n",
    "\n",
    "for i in range(15):\n",
    "    predicted = model_5s.predict(to_predict)\n",
    "    \n",
    "    idx = np.argmax(predicted[0])\n",
    "    print(\n",
    "        i + 1, \n",
    "        to_predict, \n",
    "        '->', \n",
    "        indices_to_chars[idx], \n",
    "        int(predicted[0][idx] * 100) / 100\n",
    "    )"
   ]
  },
  {
   "cell_type": "code",
   "execution_count": 70,
   "metadata": {},
   "outputs": [
    {
     "name": "stdout",
     "output_type": "stream",
     "text": [
      "[[[0 0 0 0 0 0 0 0 1 0 0]]] -> A 0.98\n",
      "[[[0 1 0 0 0 0 0 0 0 0 0]]] -> R 0.5\n",
      "[[[0 0 1 0 0 0 0 0 0 0 0]]] -> N 0.95\n",
      "[[[0 0 0 0 0 1 0 0 0 0 0]]] -> I 0.97\n",
      "[[[0 0 0 0 0 0 1 0 0 0 0]]] -> N 0.92\n",
      "[[[0 0 0 0 0 0 0 0 0 1 0]]] -> E 0.96\n",
      "[[[0 0 0 1 0 0 0 0 0 0 0]]] ->   0.98\n",
      "[[[1 0 0 0 0 0 0 0 0 0 0]]] -> L 0.98\n",
      "[[[0 0 0 0 0 0 0 1 0 0 0]]] -> E 0.99\n",
      "[[[0 0 0 1 0 0 0 0 0 0 0]]] -> A 0.94\n",
      "[[[0 1 0 0 0 0 0 0 0 0 0]]] -> R 0.98\n",
      "[[[0 0 0 0 0 0 0 0 0 0 1]]] -> N 0.99\n",
      "[[[0 0 0 0 0 0 0 0 0 1 0]]] -> I 0.99\n",
      "[[[0 0 0 0 0 0 1 0 0 0 0]]] -> N 0.99\n",
      "[[[0 0 0 0 0 0 0 0 0 1 0]]] -> G 0.99\n",
      "[[[0 0 0 0 1 0 0 0 0 0 0]]] -> E 0.91\n"
     ]
    }
   ],
   "source": [
    "for i in range(16):\n",
    "    to_predict = y_coded[i:i+1].reshape(1, 1, len(chars))\n",
    "    predicted = model_5s.predict(to_predict)\n",
    "    idx = np.argmax(predicted[0])\n",
    "    print(to_predict, '->', indices_to_chars[idx], int(predicted[0][idx]*100)/100)"
   ]
  },
  {
   "cell_type": "markdown",
   "metadata": {},
   "source": [
    "Notar que esto no funciona del todo bien ya que aprende que despues de 16 ceros viene la M y que despues de 15 ceros mas una M viene una A"
   ]
  },
  {
   "cell_type": "markdown",
   "metadata": {},
   "source": [
    "### Realimento salida\n",
    "Pero no ingreso con one-hot sino con las predicciones"
   ]
  },
  {
   "cell_type": "code",
   "execution_count": 71,
   "metadata": {},
   "outputs": [
    {
     "name": "stdout",
     "output_type": "stream",
     "text": [
      "Input:  [[[0. 0. 0. 0. 0. 0. 0. 0. 0. 0. 0.]]]\n",
      "\n",
      "\" \" 1 [[[0. 0. 0. 0. 0. 0. 0. 0. 0. 0. 0.]]] -> \"N\" 0.26\n",
      "\" \" 2 [[[0. 0. 0. 0. 0. 0. 0. 0. 0. 0. 0.]]] -> \"N\" 0.38\n",
      "\" \" 3 [[[0. 0. 0. 0. 0. 0. 0. 0. 0. 0. 0.]]] -> \"N\" 0.49\n",
      "\" \" 4 [[[0. 0. 0. 0. 0. 0. 0. 0. 0. 0. 0.]]] -> \"E\" 0.81\n",
      "\" \" 5 [[[0. 0. 0. 0. 0. 0. 0. 0. 0. 0. 0.]]] -> \" \" 0.61\n",
      "\" \" 6 [[[0. 0. 0. 0. 0. 0. 0. 0. 0. 0. 0.]]] -> \"M\" 0.89\n",
      "\" \" 7 [[[0. 0. 0. 0. 0. 0. 0. 0. 0. 0. 0.]]] -> \"M\" 0.65\n",
      "\" \" 8 [[[0. 0. 0. 0. 0. 0. 0. 0. 0. 0. 0.]]] -> \"A\" 0.55\n",
      "\" \" 9 [[[0. 0. 0. 0. 0. 0. 0. 0. 0. 0. 0.]]] -> \"R\" 0.45\n",
      "\" \" 10 [[[0. 0. 0. 0. 0. 0. 0. 0. 0. 0. 0.]]] -> \"N\" 0.99\n",
      "\" \" 11 [[[0. 0. 0. 0. 0. 0. 0. 0. 0. 0. 0.]]] -> \"I\" 0.76\n",
      "\" \" 12 [[[0. 0. 0. 0. 0. 0. 0. 0. 0. 0. 0.]]] -> \"N\" 0.66\n",
      "\" \" 13 [[[0. 0. 0. 0. 0. 0. 0. 0. 0. 0. 0.]]] -> \"L\" 0.3\n",
      "\" \" 14 [[[0. 0. 0. 0. 0. 0. 0. 0. 0. 0. 0.]]] -> \" \" 0.5\n",
      "\" \" 15 [[[0. 0. 0. 0. 0. 0. 0. 0. 0. 0. 0.]]] -> \"M\" 0.98\n",
      "\n",
      "(1, 11)\n",
      "\"M\" [[[0.   0.   0.   0.   0.   0.   0.   0.   0.98 0.   0.  ]]] -> \"A\" 0.98\n",
      "\"A\" [[[0.   0.98 0.   0.   0.   0.   0.   0.   0.   0.   0.  ]]] -> \"R\" 0.51\n",
      "\"R\" [[[0.   0.   0.4  0.   0.   0.   0.03 0.   0.01 0.   0.51]]] -> \"N\" 0.99\n",
      "\"N\" [[[0.   0.   0.   0.   0.   0.   0.   0.   0.   0.99 0.  ]]] -> \"I\" 0.92\n",
      "\"I\" [[[0.   0.   0.   0.03 0.   0.   0.92 0.   0.   0.02 0.  ]]] -> \"N\" 0.95\n",
      "\"N\" [[[0.03 0.   0.   0.   0.   0.   0.   0.   0.   0.95 0.  ]]] -> \"G\" 0.78\n",
      "\"G\" [[[0.16 0.   0.   0.   0.78 0.   0.   0.03 0.   0.   0.  ]]] -> \"E\" 0.79\n",
      "\"E\" [[[0.08 0.   0.   0.79 0.01 0.   0.   0.03 0.04 0.   0.  ]]] -> \" \" 0.77\n",
      "\" \" [[[0.77 0.11 0.07 0.   0.   0.   0.   0.   0.01 0.   0.  ]]] -> \"M\" 0.5\n",
      "\"M\" [[[0.   0.02 0.01 0.02 0.   0.11 0.   0.29 0.5  0.   0.  ]]] -> \"I\" 0.54\n",
      "\"I\" [[[0.   0.12 0.17 0.   0.   0.04 0.54 0.   0.   0.06 0.02]]] -> \"N\" 0.77\n",
      "\"N\" [[[0.   0.1  0.   0.   0.   0.01 0.04 0.01 0.   0.77 0.05]]] -> \"N\" 0.76\n",
      "\"N\" [[[0.02 0.   0.   0.   0.14 0.   0.02 0.   0.   0.76 0.01]]] -> \"E\" 0.73\n",
      "\"E\" [[[0.02 0.   0.   0.73 0.02 0.   0.   0.05 0.   0.15 0.  ]]] -> \" \" 0.8\n",
      "\" \" [[[0.8  0.   0.   0.   0.14 0.   0.   0.02 0.01 0.   0.  ]]] -> \"L\" 0.79\n",
      "\"L\" [[[0.05 0.   0.02 0.02 0.02 0.   0.   0.79 0.06 0.   0.  ]]] -> \"E\" 0.94\n"
     ]
    }
   ],
   "source": [
    "window_size=1\n",
    "\n",
    "model_5s.reset_states()\n",
    "\n",
    "to_predict = np.zeros((1,1,y_coded.shape[1]))\n",
    "print(\"Input: \", to_predict)\n",
    "\n",
    "print()\n",
    "\n",
    "for i in range(15):\n",
    "    predicted = model_5s.predict(to_predict)\n",
    "    idx = np.argmax(predicted[0])\n",
    "    print(\n",
    "        f'\"{indices_to_chars[np.argmax(to_predict)]}\"',\n",
    "        i + 1, \n",
    "        to_predict, \n",
    "        '->', \n",
    "        f'\"{indices_to_chars[idx]}\"', \n",
    "        int(predicted[0][idx]*100)/100\n",
    "    )\n",
    "    \n",
    "print()\n",
    "print(predicted.shape)\n",
    "\n",
    "for i in range(16):\n",
    "    to_predict = predicted.reshape(1, 1, len(chars))\n",
    "    predicted = model_5s.predict(to_predict)\n",
    "    \n",
    "    idx = np.argmax(predicted[0])\n",
    "    print(\n",
    "        f'\"{indices_to_chars[np.argmax(to_predict)]}\"',\n",
    "        (to_predict*100).astype(int)/100, \n",
    "        '->', \n",
    "        f'\"{indices_to_chars[idx]}\"', \n",
    "        int(predicted[0][idx]*100)/100\n",
    "    )"
   ]
  },
  {
   "cell_type": "markdown",
   "metadata": {},
   "source": [
    "## Ejemplo 6: Masking"
   ]
  },
  {
   "cell_type": "code",
   "execution_count": 72,
   "metadata": {},
   "outputs": [],
   "source": [
    "from keras.layers import Masking"
   ]
  },
  {
   "cell_type": "markdown",
   "metadata": {},
   "source": [
    "### Armo modelo"
   ]
  },
  {
   "cell_type": "code",
   "execution_count": 73,
   "metadata": {},
   "outputs": [
    {
     "name": "stdout",
     "output_type": "stream",
     "text": [
      "_________________________________________________________________\n",
      "Layer (type)                 Output Shape              Param #   \n",
      "=================================================================\n",
      "masking_1 (Masking)          (None, 15, 11)            0         \n",
      "_________________________________________________________________\n",
      "simple_rnn_8 (SimpleRNN)     (None, 10)                220       \n",
      "_________________________________________________________________\n",
      "dense_8 (Dense)              (None, 11)                121       \n",
      "=================================================================\n",
      "Total params: 341\n",
      "Trainable params: 341\n",
      "Non-trainable params: 0\n",
      "_________________________________________________________________\n"
     ]
    }
   ],
   "source": [
    "model_6 = Sequential()\n",
    "model_6.add(Masking(mask_value=0., input_shape=(X_coded.shape[1],X_coded.shape[2])))\n",
    "model_6.add(SimpleRNN(10))\n",
    "model_6.add(Dense(len(chars), activation=\"softmax\"))\n",
    "model_6.summary()"
   ]
  },
  {
   "cell_type": "markdown",
   "metadata": {},
   "source": [
    "### Lo entreno"
   ]
  },
  {
   "cell_type": "code",
   "execution_count": 74,
   "metadata": {},
   "outputs": [
    {
     "data": {
      "image/png": "[encoded data removed]",
      "text/plain": [
       "<matplotlib.figure.Figure at 0x7f9eca3515f8>"
      ]
     },
     "metadata": {
      "needs_background": "light"
     },
     "output_type": "display_data"
    },
    {
     "name": "stdout",
     "output_type": "stream",
     "text": [
      "Epoch 192/200\n",
      "16/16 [==============================] - 0s 8ms/step - loss: 0.2577 - acc: 0.9375\n",
      "Epoch 193/200\n",
      "16/16 [==============================] - 0s 8ms/step - loss: 0.2562 - acc: 0.9375\n",
      "Epoch 194/200\n",
      "16/16 [==============================] - 0s 8ms/step - loss: 0.2542 - acc: 0.9375\n",
      "Epoch 195/200\n",
      "16/16 [==============================] - 0s 8ms/step - loss: 0.2525 - acc: 0.9375\n",
      "Epoch 196/200\n",
      "16/16 [==============================] - 0s 7ms/step - loss: 0.2511 - acc: 0.9375\n",
      "Epoch 197/200\n",
      "16/16 [==============================] - 0s 8ms/step - loss: 0.2491 - acc: 0.9375\n",
      "Epoch 198/200\n",
      "16/16 [==============================] - 0s 8ms/step - loss: 0.2479 - acc: 0.9375\n",
      "Epoch 199/200\n",
      "16/16 [==============================] - 0s 8ms/step - loss: 0.2464 - acc: 0.9375\n",
      "Epoch 200/200\n",
      "16/16 [==============================] - 0s 7ms/step - loss: 0.2447 - acc: 0.9375\n"
     ]
    },
    {
     "data": {
      "text/plain": [
       "<keras.callbacks.History at 0x7f9eca043f98>"
      ]
     },
     "execution_count": 74,
     "metadata": {},
     "output_type": "execute_result"
    }
   ],
   "source": [
    "model_6.compile(optimizer='adam', loss='categorical_crossentropy', metrics=['accuracy'])\n",
    "plot_losses = PlotLosses(plot_interval=10, evaluate_interval=None)\n",
    "model_6.fit(X_coded,y_coded, epochs=200, batch_size=1, verbose=1, callbacks=[plot_losses])"
   ]
  },
  {
   "cell_type": "markdown",
   "metadata": {},
   "source": [
    "### Resultados"
   ]
  },
  {
   "cell_type": "code",
   "execution_count": 75,
   "metadata": {},
   "outputs": [
    {
     "name": "stdout",
     "output_type": "stream",
     "text": [
      "['', '', '', '', '', '', '', '', '', '', '', '', '', '', ''] -> N 0.12\n",
      "['', '', '', '', '', '', '', '', '', '', '', '', '', '', 'M'] -> A 0.81\n",
      "['', '', '', '', '', '', '', '', '', '', '', '', '', 'M', 'A'] -> C 0.86\n",
      "['', '', '', '', '', '', '', '', '', '', '', '', 'M', 'A', 'C'] -> H 0.89\n",
      "['', '', '', '', '', '', '', '', '', '', '', 'M', 'A', 'C', 'H'] -> I 0.92\n",
      "['', '', '', '', '', '', '', '', '', '', 'M', 'A', 'C', 'H', 'I'] -> N 0.9\n",
      "['', '', '', '', '', '', '', '', '', 'M', 'A', 'C', 'H', 'I', 'N'] -> E 0.84\n",
      "['', '', '', '', '', '', '', '', 'M', 'A', 'C', 'H', 'I', 'N', 'E'] ->   0.88\n",
      "['', '', '', '', '', '', '', 'M', 'A', 'C', 'H', 'I', 'N', 'E', ' '] -> L 0.93\n",
      "['', '', '', '', '', '', 'M', 'A', 'C', 'H', 'I', 'N', 'E', ' ', 'L'] -> E 0.86\n",
      "['', '', '', '', '', 'M', 'A', 'C', 'H', 'I', 'N', 'E', ' ', 'L', 'E'] -> A 0.91\n",
      "['', '', '', '', 'M', 'A', 'C', 'H', 'I', 'N', 'E', ' ', 'L', 'E', 'A'] -> R 0.84\n",
      "['', '', '', 'M', 'A', 'C', 'H', 'I', 'N', 'E', ' ', 'L', 'E', 'A', 'R'] -> N 0.88\n",
      "['', '', 'M', 'A', 'C', 'H', 'I', 'N', 'E', ' ', 'L', 'E', 'A', 'R', 'N'] -> I 0.93\n",
      "['', 'M', 'A', 'C', 'H', 'I', 'N', 'E', ' ', 'L', 'E', 'A', 'R', 'N', 'I'] -> N 0.93\n",
      "['M', 'A', 'C', 'H', 'I', 'N', 'E', ' ', 'L', 'E', 'A', 'R', 'N', 'I', 'N'] -> G 0.89\n"
     ]
    }
   ],
   "source": [
    "to_predict = X_coded\n",
    "predicted = model_6.predict(to_predict)\n",
    "for i, row in enumerate(predicted):\n",
    "    idx = np.argmax(row)\n",
    "    print(X_5[i], '->', indices_to_chars[idx], int(row[idx]*100)/100)"
   ]
  },
  {
   "cell_type": "markdown",
   "metadata": {},
   "source": [
    "### Armo modelo stateful y cargo pesos de modelo anterior entrenado"
   ]
  },
  {
   "cell_type": "code",
   "execution_count": 76,
   "metadata": {},
   "outputs": [
    {
     "name": "stdout",
     "output_type": "stream",
     "text": [
      "_________________________________________________________________\n",
      "Layer (type)                 Output Shape              Param #   \n",
      "=================================================================\n",
      "masking_2 (Masking)          (1, 1, 11)                0         \n",
      "_________________________________________________________________\n",
      "simple_rnn_9 (SimpleRNN)     (1, 10)                   220       \n",
      "_________________________________________________________________\n",
      "dense_9 (Dense)              (1, 11)                   121       \n",
      "=================================================================\n",
      "Total params: 341\n",
      "Trainable params: 341\n",
      "Non-trainable params: 0\n",
      "_________________________________________________________________\n"
     ]
    }
   ],
   "source": [
    "model_6s = Sequential()\n",
    "model_6s.add(Masking(mask_value=0., batch_input_shape=(batch_size,1,len(chars))))\n",
    "model_6s.add(SimpleRNN(10, batch_input_shape=(batch_size,1,len(chars)), stateful=True))\n",
    "model_6s.add(Dense(len(chars), activation=\"softmax\"))\n",
    "model_6s.summary()"
   ]
  },
  {
   "cell_type": "code",
   "execution_count": 77,
   "metadata": {},
   "outputs": [],
   "source": [
    "model_6s.set_weights(model_6.get_weights())"
   ]
  },
  {
   "cell_type": "code",
   "execution_count": 78,
   "metadata": {},
   "outputs": [
    {
     "name": "stdout",
     "output_type": "stream",
     "text": [
      "[[[0 0 0 0 0 0 0 0 1 0 0]]] M -> A 0.81\n",
      "[[[0 1 0 0 0 0 0 0 0 0 0]]] A -> C 0.86\n",
      "[[[0 0 1 0 0 0 0 0 0 0 0]]] C -> H 0.89\n",
      "[[[0 0 0 0 0 1 0 0 0 0 0]]] H -> I 0.92\n",
      "[[[0 0 0 0 0 0 1 0 0 0 0]]] I -> N 0.9\n",
      "[[[0 0 0 0 0 0 0 0 0 1 0]]] N -> E 0.84\n",
      "[[[0 0 0 1 0 0 0 0 0 0 0]]] E ->   0.88\n",
      "[[[1 0 0 0 0 0 0 0 0 0 0]]]   -> L 0.93\n",
      "[[[0 0 0 0 0 0 0 1 0 0 0]]] L -> E 0.86\n",
      "[[[0 0 0 1 0 0 0 0 0 0 0]]] E -> A 0.91\n",
      "[[[0 1 0 0 0 0 0 0 0 0 0]]] A -> R 0.84\n",
      "[[[0 0 0 0 0 0 0 0 0 0 1]]] R -> N 0.88\n",
      "[[[0 0 0 0 0 0 0 0 0 1 0]]] N -> I 0.93\n",
      "[[[0 0 0 0 0 0 1 0 0 0 0]]] I -> N 0.93\n",
      "[[[0 0 0 0 0 0 0 0 0 1 0]]] N -> G 0.89\n",
      "[[[0 0 0 0 1 0 0 0 0 0 0]]] G ->   0.58\n"
     ]
    }
   ],
   "source": [
    "# Comentar el reset_states y ver que pasa\n",
    "# Entrenar 2 de 500 epochs\n",
    "\n",
    "model_6s.reset_states()\n",
    "\n",
    "for i in range(16):\n",
    "    to_predict = y_coded[i:i+1].reshape(1, 1, len(chars))\n",
    "    predicted = model_6s.predict(to_predict)\n",
    "    idx = np.argmax(predicted[0])\n",
    "    print(str(to_predict)+' '+text[i], '->', indices_to_chars[idx], int(predicted[0][idx]*100)/100)"
   ]
  },
  {
   "cell_type": "markdown",
   "metadata": {},
   "source": [
    "### Arrancando del medio"
   ]
  },
  {
   "cell_type": "code",
   "execution_count": 79,
   "metadata": {},
   "outputs": [
    {
     "name": "stdout",
     "output_type": "stream",
     "text": [
      "[[[0 0 0 0 0 0 0 1 0 0 0]]] L -> E 0.46\n",
      "[[[0 0 0 1 0 0 0 0 0 0 0]]] E -> A 0.36\n",
      "[[[0 1 0 0 0 0 0 0 0 0 0]]] A -> R 0.55\n",
      "[[[0 0 0 0 0 0 0 0 0 0 1]]] R -> N 0.79\n",
      "[[[0 0 0 0 0 0 0 0 0 1 0]]] N -> I 0.93\n"
     ]
    }
   ],
   "source": [
    "model_6s.reset_states()\n",
    "st = 8\n",
    "for i in range(5):\n",
    "    to_predict = y_coded[i+st:i+st+1].reshape(1, 1, len(chars))\n",
    "    predicted = model_6s.predict(to_predict)\n",
    "    idx = np.argmax(predicted[0])\n",
    "    print(str(to_predict)+' '+text[i+st], '->', indices_to_chars[idx], int(predicted[0][idx]*100)/100)"
   ]
  },
  {
   "cell_type": "markdown",
   "metadata": {},
   "source": [
    "\n",
    "### Ventajas/Desventajas entre este método y stateful\n",
    "- Ventajas: Este metodo permite el entrenamiento de a batches de manera mas simple\n",
    "- Desventajas: Si la secuencia es muy larga el unfolding termina siendo demasiado largo y requiere mas memoria y procesamiento\n",
    "\n",
    "Nota: En stateful, dependiendo del problema, se puede entrenar con batch size mayor a uno pero hay que pensar bien el armado de las secuencias de entrenamiento.\n",
    "\n",
    "Un ejemplo podría ser: Tengo que generar frases cortas de longitud variable y quiero que aprenda un modelo de lenguage para generar una frase corta"
   ]
  },
  {
   "cell_type": "markdown",
   "metadata": {},
   "source": [
    "# 7 - Many to Many"
   ]
  },
  {
   "cell_type": "code",
   "execution_count": 104,
   "metadata": {},
   "outputs": [],
   "source": [
    "def chars_to_one_hot(sentence, chars, chars_to_indices, window_size):\n",
    "    num_chars = len(chars)\n",
    "    size = max(len(sentence),window_size)\n",
    "    X = np.zeros((1, size, num_chars), dtype=np.bool)\n",
    "    for t, char in enumerate(sentence):\n",
    "        if char not in chars_to_indices:\n",
    "            char = ' '\n",
    "        X[0, t + size - len(sentence), chars_to_indices[char]] = 1\n",
    "    return X"
   ]
  },
  {
   "cell_type": "code",
   "execution_count": 105,
   "metadata": {},
   "outputs": [],
   "source": [
    "inp = chars_to_one_hot(' MACHINE LEARNING', chars, chars_to_indices, window_size)*1\n",
    "out = chars_to_one_hot('MACHINE LEARNING ', chars, chars_to_indices, window_size)*1"
   ]
  },
  {
   "cell_type": "code",
   "execution_count": 106,
   "metadata": {},
   "outputs": [
    {
     "name": "stdout",
     "output_type": "stream",
     "text": [
      "_________________________________________________________________\n",
      "Layer (type)                 Output Shape              Param #   \n",
      "=================================================================\n",
      "simple_rnn_13 (SimpleRNN)    (None, 17, 10)            220       \n",
      "_________________________________________________________________\n",
      "dense_13 (Dense)             (None, 17, 11)            121       \n",
      "=================================================================\n",
      "Total params: 341\n",
      "Trainable params: 341\n",
      "Non-trainable params: 0\n",
      "_________________________________________________________________\n"
     ]
    }
   ],
   "source": [
    "model_7 = Sequential()\n",
    "model_7.add(SimpleRNN(10, input_shape=(inp.shape[1],inp.shape[2]), return_sequences=True))\n",
    "model_7.add(Dense(len(chars), activation=\"softmax\"))\n",
    "model_7.summary()"
   ]
  },
  {
   "cell_type": "code",
   "execution_count": 107,
   "metadata": {},
   "outputs": [
    {
     "data": {
      "image/png": "[encoded data removed]",
      "text/plain": [
       "<matplotlib.figure.Figure at 0x7f9ec3641c18>"
      ]
     },
     "metadata": {
      "needs_background": "light"
     },
     "output_type": "display_data"
    },
    {
     "name": "stdout",
     "output_type": "stream",
     "text": [
      "Epoch 992/1000\n",
      "1/1 [==============================] - 0s 8ms/step - loss: 0.0659 - acc: 1.0000\n",
      "Epoch 993/1000\n",
      "1/1 [==============================] - 0s 7ms/step - loss: 0.0658 - acc: 1.0000\n",
      "Epoch 994/1000\n",
      "1/1 [==============================] - 0s 9ms/step - loss: 0.0656 - acc: 1.0000\n",
      "Epoch 995/1000\n",
      "1/1 [==============================] - 0s 8ms/step - loss: 0.0655 - acc: 1.0000\n",
      "Epoch 996/1000\n",
      "1/1 [==============================] - 0s 12ms/step - loss: 0.0654 - acc: 1.0000\n",
      "Epoch 997/1000\n",
      "1/1 [==============================] - 0s 10ms/step - loss: 0.0652 - acc: 1.0000\n",
      "Epoch 998/1000\n",
      "1/1 [==============================] - 0s 9ms/step - loss: 0.0651 - acc: 1.0000\n",
      "Epoch 999/1000\n",
      "1/1 [==============================] - 0s 8ms/step - loss: 0.0649 - acc: 1.0000\n",
      "Epoch 1000/1000\n",
      "1/1 [==============================] - 0s 10ms/step - loss: 0.0648 - acc: 1.0000\n"
     ]
    },
    {
     "data": {
      "text/plain": [
       "<keras.callbacks.History at 0x7f9ec9ee8f98>"
      ]
     },
     "execution_count": 107,
     "metadata": {},
     "output_type": "execute_result"
    }
   ],
   "source": [
    "model_7.compile(optimizer='adam', loss='categorical_crossentropy', metrics=['accuracy'])\n",
    "plot_losses = PlotLosses(plot_interval=10, evaluate_interval=None)\n",
    "model_7.fit(inp,out, epochs=1000, batch_size=1, verbose=1, callbacks=[plot_losses])"
   ]
  },
  {
   "cell_type": "code",
   "execution_count": 108,
   "metadata": {},
   "outputs": [
    {
     "name": "stdout",
     "output_type": "stream",
     "text": [
      "_________________________________________________________________\n",
      "Layer (type)                 Output Shape              Param #   \n",
      "=================================================================\n",
      "simple_rnn_14 (SimpleRNN)    (1, 1, 10)                220       \n",
      "_________________________________________________________________\n",
      "dense_14 (Dense)             (1, 1, 11)                121       \n",
      "=================================================================\n",
      "Total params: 341\n",
      "Trainable params: 341\n",
      "Non-trainable params: 0\n",
      "_________________________________________________________________\n"
     ]
    }
   ],
   "source": [
    "# batch_size=1\n",
    "model_7s = Sequential()\n",
    "model_7s.add(SimpleRNN(10, batch_input_shape=(1,1,inp.shape[2]), stateful=True, return_sequences=True))\n",
    "model_7s.add(Dense(len(chars), activation=\"softmax\"))\n",
    "model_7s.summary()"
   ]
  },
  {
   "cell_type": "code",
   "execution_count": 109,
   "metadata": {},
   "outputs": [],
   "source": [
    "model_7s.set_weights(model_7.get_weights())"
   ]
  },
  {
   "cell_type": "code",
   "execution_count": 110,
   "metadata": {},
   "outputs": [
    {
     "name": "stdout",
     "output_type": "stream",
     "text": [
      "I -> N 0.44\n",
      "N -> I 0.36\n",
      "E -> N 0.56\n",
      "  -> E 0.65\n",
      "L -> A 0.86\n",
      "E -> C 0.58\n",
      "A -> R 0.32\n",
      "R -> E 0.47\n",
      "N -> I 0.86\n",
      "I -> N 0.85\n",
      "N -> G 0.78\n",
      "G ->   0.97\n"
     ]
    }
   ],
   "source": [
    "# Probar con 0, 3, 4, 7 y 1\n",
    "starting = 4\n",
    "model_7s.reset_states()\n",
    "for c in text[starting:]:\n",
    "    to_predict = chars_to_one_hot(c, chars, chars_to_indices, window_size)*1\n",
    "    predicted = model_7s.predict(to_predict)\n",
    "    print(c, '->', indices_to_chars[np.argmax(predicted[0])], int(np.max(predicted[0])*100)/100)"
   ]
  },
  {
   "cell_type": "markdown",
   "metadata": {},
   "source": [
    "## Ejemplo 7: Return sequence"
   ]
  },
  {
   "cell_type": "code",
   "execution_count": 111,
   "metadata": {},
   "outputs": [
    {
     "name": "stdout",
     "output_type": "stream",
     "text": [
      "Caracteres distintos:\n",
      "[' ', '#', '$', 'A', 'C', 'E', 'G', 'H', 'I', 'L', 'M', 'N', 'R']\n",
      "[[[0 1 0 0 0 0 0 0 0 0 0 0 0]\n",
      "  [0 0 0 0 0 0 0 0 0 0 1 0 0]\n",
      "  [0 0 0 1 0 0 0 0 0 0 0 0 0]\n",
      "  [0 0 0 0 1 0 0 0 0 0 0 0 0]\n",
      "  [0 0 0 0 0 0 0 1 0 0 0 0 0]\n",
      "  [0 0 0 0 0 0 0 0 1 0 0 0 0]\n",
      "  [0 0 0 0 0 0 0 0 0 0 0 1 0]\n",
      "  [0 0 0 0 0 1 0 0 0 0 0 0 0]\n",
      "  [1 0 0 0 0 0 0 0 0 0 0 0 0]\n",
      "  [0 0 0 0 0 0 0 0 0 1 0 0 0]\n",
      "  [0 0 0 0 0 1 0 0 0 0 0 0 0]\n",
      "  [0 0 0 1 0 0 0 0 0 0 0 0 0]\n",
      "  [0 0 0 0 0 0 0 0 0 0 0 0 1]\n",
      "  [0 0 0 0 0 0 0 0 0 0 0 1 0]\n",
      "  [0 0 0 0 0 0 0 0 1 0 0 0 0]\n",
      "  [0 0 0 0 0 0 0 0 0 0 0 1 0]\n",
      "  [0 0 0 0 0 0 1 0 0 0 0 0 0]\n",
      "  [0 0 1 0 0 0 0 0 0 0 0 0 0]]]\n",
      "(1, 18, 13)\n"
     ]
    }
   ],
   "source": [
    "text=\"#MACHINE LEARNING$\"\n",
    "chars = sorted(set(text))\n",
    "print('Caracteres distintos:')\n",
    "print(chars)\n",
    "window_size=1\n",
    "chars_to_indices = dict((c, i) for i, c in enumerate(chars))  # map each unique character to unique integer\n",
    "indices_to_chars = dict((i, c) for i, c in enumerate(chars))\n",
    "one_hot_text = chars_to_one_hot(text, chars, chars_to_indices, window_size)*1\n",
    "print(one_hot_text)\n",
    "print(one_hot_text.shape)"
   ]
  },
  {
   "cell_type": "code",
   "execution_count": 112,
   "metadata": {},
   "outputs": [],
   "source": [
    "X_train = one_hot_text[:, :-1, :]\n",
    "y_train = one_hot_text[:, 1:, :]"
   ]
  },
  {
   "cell_type": "code",
   "execution_count": 113,
   "metadata": {},
   "outputs": [
    {
     "data": {
      "text/plain": [
       "((1, 17, 13), (1, 17, 13))"
      ]
     },
     "execution_count": 113,
     "metadata": {},
     "output_type": "execute_result"
    }
   ],
   "source": [
    "X_train.shape, y_train.shape"
   ]
  },
  {
   "cell_type": "code",
   "execution_count": 116,
   "metadata": {},
   "outputs": [
    {
     "name": "stdout",
     "output_type": "stream",
     "text": [
      "_________________________________________________________________\n",
      "Layer (type)                 Output Shape              Param #   \n",
      "=================================================================\n",
      "lstm_2 (LSTM)                (None, 17, 10)            960       \n",
      "_________________________________________________________________\n",
      "dense_16 (Dense)             (None, 17, 13)            143       \n",
      "=================================================================\n",
      "Total params: 1,103\n",
      "Trainable params: 1,103\n",
      "Non-trainable params: 0\n",
      "_________________________________________________________________\n"
     ]
    }
   ],
   "source": [
    "from keras.layers import LSTM, Dense\n",
    "from keras.models import Sequential\n",
    "model_7 = Sequential()\n",
    "model_7.add(LSTM(10, return_sequences=True, input_shape=(X_train.shape[1],len(chars))))\n",
    "model_7.add(Dense(len(chars), activation=\"softmax\"))\n",
    "model_7.summary()"
   ]
  },
  {
   "cell_type": "code",
   "execution_count": 117,
   "metadata": {},
   "outputs": [
    {
     "data": {
      "image/png": "[encoded data removed]",
      "text/plain": [
       "<matplotlib.figure.Figure at 0x7f9ec2acbf98>"
      ]
     },
     "metadata": {
      "needs_background": "light"
     },
     "output_type": "display_data"
    },
    {
     "name": "stdout",
     "output_type": "stream",
     "text": [
      "Epoch 492/500\n",
      "1/1 [==============================] - 0s 17ms/step - loss: 0.6244 - acc: 0.9412\n",
      "Epoch 493/500\n",
      "1/1 [==============================] - 0s 19ms/step - loss: 0.6224 - acc: 0.9412\n",
      "Epoch 494/500\n",
      "1/1 [==============================] - 0s 19ms/step - loss: 0.6203 - acc: 0.9412\n",
      "Epoch 495/500\n",
      "1/1 [==============================] - 0s 19ms/step - loss: 0.6183 - acc: 0.9412\n",
      "Epoch 496/500\n",
      "1/1 [==============================] - 0s 24ms/step - loss: 0.6162 - acc: 0.9412\n",
      "Epoch 497/500\n",
      "1/1 [==============================] - 0s 22ms/step - loss: 0.6142 - acc: 0.9412\n",
      "Epoch 498/500\n",
      "1/1 [==============================] - 0s 20ms/step - loss: 0.6121 - acc: 0.9412\n",
      "Epoch 499/500\n",
      "1/1 [==============================] - 0s 18ms/step - loss: 0.6101 - acc: 0.9412\n",
      "Epoch 500/500\n",
      "1/1 [==============================] - 0s 17ms/step - loss: 0.6081 - acc: 0.9412\n"
     ]
    },
    {
     "data": {
      "text/plain": [
       "<keras.callbacks.History at 0x7f9ec3708f60>"
      ]
     },
     "execution_count": 117,
     "metadata": {},
     "output_type": "execute_result"
    }
   ],
   "source": [
    "model_7.compile(optimizer='adam', loss='categorical_crossentropy', metrics=['accuracy'])\n",
    "plot_losses = PlotLosses(plot_interval=10, evaluate_interval=None)\n",
    "model_7.fit(X_train,y_train, epochs=500, batch_size=1, verbose=1, callbacks=[plot_losses])"
   ]
  },
  {
   "cell_type": "code",
   "execution_count": 121,
   "metadata": {},
   "outputs": [
    {
     "data": {
      "text/plain": [
       "{0: ' ',\n",
       " 1: '#',\n",
       " 2: '$',\n",
       " 3: 'A',\n",
       " 4: 'C',\n",
       " 5: 'E',\n",
       " 6: 'G',\n",
       " 7: 'H',\n",
       " 8: 'I',\n",
       " 9: 'L',\n",
       " 10: 'M',\n",
       " 11: 'N',\n",
       " 12: 'R'}"
      ]
     },
     "execution_count": 121,
     "metadata": {},
     "output_type": "execute_result"
    }
   ],
   "source": [
    "indices_to_chars"
   ]
  },
  {
   "cell_type": "markdown",
   "metadata": {},
   "source": [
    "Ahora entro a la red con la siguiente secuencia:"
   ]
  },
  {
   "cell_type": "code",
   "execution_count": 161,
   "metadata": {},
   "outputs": [
    {
     "data": {
      "text/plain": [
       "array([[[0, 1, 0, 0, 0, 0, 0, 0, 0, 0, 0, 0, 0],\n",
       "        [0, 0, 0, 0, 0, 0, 0, 0, 0, 0, 1, 0, 0],\n",
       "        [0, 0, 0, 1, 0, 0, 0, 0, 0, 0, 0, 0, 0],\n",
       "        [0, 0, 0, 0, 1, 0, 0, 0, 0, 0, 0, 0, 0],\n",
       "        [0, 0, 0, 0, 0, 0, 0, 1, 0, 0, 0, 0, 0],\n",
       "        [0, 0, 0, 0, 0, 0, 0, 0, 1, 0, 0, 0, 0],\n",
       "        [0, 0, 0, 0, 0, 0, 0, 0, 0, 0, 0, 1, 0],\n",
       "        [0, 0, 0, 0, 0, 1, 0, 0, 0, 0, 0, 0, 0],\n",
       "        [1, 0, 0, 0, 0, 0, 0, 0, 0, 0, 0, 0, 0],\n",
       "        [0, 0, 0, 0, 0, 0, 0, 0, 0, 1, 0, 0, 0],\n",
       "        [0, 0, 0, 0, 0, 1, 0, 0, 0, 0, 0, 0, 0],\n",
       "        [0, 0, 0, 1, 0, 0, 0, 0, 0, 0, 0, 0, 0],\n",
       "        [0, 0, 0, 0, 0, 0, 0, 0, 0, 0, 0, 0, 1],\n",
       "        [0, 0, 0, 0, 0, 0, 0, 0, 0, 0, 0, 1, 0],\n",
       "        [0, 0, 0, 0, 0, 0, 0, 0, 1, 0, 0, 0, 0],\n",
       "        [0, 0, 0, 0, 0, 0, 0, 0, 0, 0, 0, 1, 0],\n",
       "        [0, 0, 0, 0, 0, 0, 1, 0, 0, 0, 0, 0, 0]]])"
      ]
     },
     "execution_count": 161,
     "metadata": {},
     "output_type": "execute_result"
    }
   ],
   "source": [
    "X_train"
   ]
  },
  {
   "cell_type": "code",
   "execution_count": 140,
   "metadata": {},
   "outputs": [
    {
     "data": {
      "text/plain": [
       "['#',\n",
       " 'M',\n",
       " 'A',\n",
       " 'C',\n",
       " 'H',\n",
       " 'I',\n",
       " 'N',\n",
       " 'E',\n",
       " ' ',\n",
       " 'L',\n",
       " 'E',\n",
       " 'A',\n",
       " 'R',\n",
       " 'N',\n",
       " 'I',\n",
       " 'N',\n",
       " 'G']"
      ]
     },
     "execution_count": 140,
     "metadata": {},
     "output_type": "execute_result"
    }
   ],
   "source": [
    "[indices_to_chars[np.argmax(X_train[0][i])] for i in range(X_train.shape[1])]"
   ]
  },
  {
   "cell_type": "code",
   "execution_count": 141,
   "metadata": {},
   "outputs": [
    {
     "data": {
      "text/plain": [
       "(1, 17, 13)"
      ]
     },
     "execution_count": 141,
     "metadata": {},
     "output_type": "execute_result"
    }
   ],
   "source": [
    "X_train.shape"
   ]
  },
  {
   "cell_type": "code",
   "execution_count": 144,
   "metadata": {},
   "outputs": [
    {
     "data": {
      "text/plain": [
       "(1, 17, 13)"
      ]
     },
     "execution_count": 144,
     "metadata": {},
     "output_type": "execute_result"
    }
   ],
   "source": [
    "model_7.predict(X_train).shape"
   ]
  },
  {
   "cell_type": "code",
   "execution_count": 147,
   "metadata": {},
   "outputs": [
    {
     "data": {
      "text/plain": [
       "array([[10,  3,  4,  7,  8, 11,  5,  0,  9,  5,  3, 12, 11, 11, 11,  6,\n",
       "         2]])"
      ]
     },
     "execution_count": 147,
     "metadata": {},
     "output_type": "execute_result"
    }
   ],
   "source": [
    "predicted = model_7.predict_classes(X_train)\n",
    "predicted"
   ]
  },
  {
   "cell_type": "markdown",
   "metadata": {},
   "source": [
    "La salida:"
   ]
  },
  {
   "cell_type": "code",
   "execution_count": 160,
   "metadata": {},
   "outputs": [
    {
     "data": {
      "text/plain": [
       "['M',\n",
       " 'A',\n",
       " 'C',\n",
       " 'H',\n",
       " 'I',\n",
       " 'N',\n",
       " 'E',\n",
       " ' ',\n",
       " 'L',\n",
       " 'E',\n",
       " 'A',\n",
       " 'R',\n",
       " 'N',\n",
       " 'N',\n",
       " 'N',\n",
       " 'G',\n",
       " '$']"
      ]
     },
     "execution_count": 160,
     "metadata": {},
     "output_type": "execute_result"
    }
   ],
   "source": [
    "[indices_to_chars[char_index] for _, char_index in enumerate(predicted[0])]"
   ]
  },
  {
   "cell_type": "markdown",
   "metadata": {},
   "source": [
    "# Encoder decoder\n",
    "https://machinelearningmastery.com/encoder-decoder-long-short-term-memory-networks/"
   ]
  },
  {
   "cell_type": "markdown",
   "metadata": {},
   "source": [
    "# Sentiment analysis con CNN y LSTM\n",
    "https://machinelearningmastery.com/sequence-classification-lstm-recurrent-neural-networks-python-keras/"
   ]
  },
  {
   "cell_type": "markdown",
   "metadata": {},
   "source": [
    "# Word-level language model"
   ]
  },
  {
   "cell_type": "markdown",
   "metadata": {},
   "source": [
    "https://machinelearningmastery.com/how-to-develop-a-word-level-neural-language-model-in-keras/"
   ]
  },
  {
   "cell_type": "markdown",
   "metadata": {},
   "source": [
    "# return_sequence vs return_state\n",
    "https://www.quora.com/What-is-the-difference-between-states-and-outputs-in-LSTM\n",
    "\n",
    "https://machinelearningmastery.com/return-sequences-and-return-states-for-lstms-in-keras/"
   ]
  },
  {
   "cell_type": "markdown",
   "metadata": {},
   "source": [
    "# Truncated BPTT \n",
    "https://machinelearningmastery.com/truncated-backpropagation-through-time-in-keras/"
   ]
  }
 ],
 "metadata": {
  "kernelspec": {
   "display_name": "Python 3",
   "language": "python",
   "name": "python3"
  },
  "language_info": {
   "codemirror_mode": {
    "name": "ipython",
    "version": 3
   },
   "file_extension": ".py",
   "mimetype": "text/x-python",
   "name": "python",
   "nbconvert_exporter": "python",
   "pygments_lexer": "ipython3",
   "version": "3.6.0"
  },
  "toc": {
   "nav_menu": {},
   "number_sections": true,
   "sideBar": true,
   "skip_h1_title": true,
   "toc_cell": false,
   "toc_position": {},
   "toc_section_display": "block",
   "toc_window_display": false
  }
 },
 "nbformat": 4,
 "nbformat_minor": 2
}
