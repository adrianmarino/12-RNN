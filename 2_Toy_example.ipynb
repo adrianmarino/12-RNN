{
 "cells": [
  {
   "cell_type": "code",
   "execution_count": 1,
   "metadata": {},
   "outputs": [
    {
     "name": "stderr",
     "output_type": "stream",
     "text": [
      "Using TensorFlow backend.\n"
     ]
    }
   ],
   "source": [
    "%load_ext autoreload\n",
    "%autoreload 2\n",
    "import numpy as np\n",
    "import sys \n",
    "# sys.path.append(\"/Users/julianganzabal/facultad/lab-ml/mllab-tools\")\n",
    "from RNN_utils import example_to_io_pairs, to_one_hot_vector, sample, example_to_io\n",
    "from fnn_helper import PlotLosses"
   ]
  },
  {
   "cell_type": "markdown",
   "metadata": {},
   "source": [
    "# Formas diferentes de entrenar una RNN con el mismo dataset"
   ]
  },
  {
   "cell_type": "markdown",
   "metadata": {},
   "source": [
    "## Objetivos:"
   ]
  },
  {
   "cell_type": "markdown",
   "metadata": {},
   "source": [
    "Comprender los siguientes conceptos:\n",
    "- Diferencias entre MLP (con features igual a timesteps) y RNN\n",
    "- Stateful vs stateles en Keras\n",
    "- Mini-Batch traininig vs SGD training\n",
    "- Los pesos se actualizan en el backward mientras que el estado de la RNN cambia con cada timestep en el forward\n",
    "- Padding\n",
    "- Masking"
   ]
  },
  {
   "cell_type": "markdown",
   "metadata": {},
   "source": [
    "## Selección de dataset (frase) y preformateo"
   ]
  },
  {
   "cell_type": "markdown",
   "metadata": {},
   "source": [
    "# IMPORTANTE: En estos ejemplos la idea no es generalizar si no ajustarse lo mejor posible al training"
   ]
  },
  {
   "cell_type": "markdown",
   "metadata": {},
   "source": [
    "### Elegimos una frase que tenga una letras repetidas"
   ]
  },
  {
   "cell_type": "code",
   "execution_count": 2,
   "metadata": {
    "collapsed": true
   },
   "outputs": [],
   "source": [
    "text=\"MACHINE LEARNING\""
   ]
  },
  {
   "cell_type": "code",
   "execution_count": 3,
   "metadata": {},
   "outputs": [
    {
     "name": "stdout",
     "output_type": "stream",
     "text": [
      "Caracteres distintos:  [' ', 'A', 'C', 'E', 'G', 'H', 'I', 'L', 'M', 'N', 'R']\n"
     ]
    }
   ],
   "source": [
    "chars = sorted(set(text))\n",
    "print('Caracteres distintos: ', chars)"
   ]
  },
  {
   "cell_type": "code",
   "execution_count": 4,
   "metadata": {},
   "outputs": [],
   "source": [
    "chars_to_indices = dict((c, i) for i, c in enumerate(chars))  # map each unique character to unique integer\n",
    "indices_to_chars = dict((i, c) for i, c in enumerate(chars))"
   ]
  },
  {
   "cell_type": "code",
   "execution_count": 5,
   "metadata": {},
   "outputs": [
    {
     "data": {
      "text/plain": [
       "{' ': 0,\n",
       " 'A': 1,\n",
       " 'C': 2,\n",
       " 'E': 3,\n",
       " 'G': 4,\n",
       " 'H': 5,\n",
       " 'I': 6,\n",
       " 'L': 7,\n",
       " 'M': 8,\n",
       " 'N': 9,\n",
       " 'R': 10}"
      ]
     },
     "execution_count": 5,
     "metadata": {},
     "output_type": "execute_result"
    }
   ],
   "source": [
    "chars_to_indices"
   ]
  },
  {
   "cell_type": "code",
   "execution_count": 6,
   "metadata": {},
   "outputs": [
    {
     "data": {
      "text/plain": [
       "{0: ' ',\n",
       " 1: 'A',\n",
       " 2: 'C',\n",
       " 3: 'E',\n",
       " 4: 'G',\n",
       " 5: 'H',\n",
       " 6: 'I',\n",
       " 7: 'L',\n",
       " 8: 'M',\n",
       " 9: 'N',\n",
       " 10: 'R'}"
      ]
     },
     "execution_count": 6,
     "metadata": {},
     "output_type": "execute_result"
    }
   ],
   "source": [
    "indices_to_chars"
   ]
  },
  {
   "cell_type": "markdown",
   "metadata": {},
   "source": [
    "### Texto a One-hot"
   ]
  },
  {
   "cell_type": "code",
   "execution_count": 7,
   "metadata": {},
   "outputs": [
    {
     "name": "stdout",
     "output_type": "stream",
     "text": [
      "Vector:  [[[0 0 0 0 0 0 0 0 1 0 0]\n",
      "  [0 1 0 0 0 0 0 0 0 0 0]\n",
      "  [0 0 1 0 0 0 0 0 0 0 0]\n",
      "  [0 0 0 0 0 1 0 0 0 0 0]\n",
      "  [0 0 0 0 0 0 1 0 0 0 0]\n",
      "  [0 0 0 0 0 0 0 0 0 1 0]\n",
      "  [0 0 0 1 0 0 0 0 0 0 0]\n",
      "  [1 0 0 0 0 0 0 0 0 0 0]\n",
      "  [0 0 0 0 0 0 0 1 0 0 0]\n",
      "  [0 0 0 1 0 0 0 0 0 0 0]\n",
      "  [0 1 0 0 0 0 0 0 0 0 0]\n",
      "  [0 0 0 0 0 0 0 0 0 0 1]\n",
      "  [0 0 0 0 0 0 0 0 0 1 0]\n",
      "  [0 0 0 0 0 0 1 0 0 0 0]\n",
      "  [0 0 0 0 0 0 0 0 0 1 0]\n",
      "  [0 0 0 0 1 0 0 0 0 0 0]]] \n",
      "Shape:  (1, 16, 11)\n"
     ]
    }
   ],
   "source": [
    "window_size=1\n",
    "one_hot_text = to_one_hot_vector(\n",
    "    example=text, \n",
    "    possible_elements=chars, \n",
    "    element_to_indices=chars_to_indices, \n",
    "    window_size=window_size\n",
    ")\n",
    "print('Vector: ' , one_hot_text, '\\nShape: ', one_hot_text.shape)"
   ]
  },
  {
   "cell_type": "markdown",
   "metadata": {},
   "source": [
    "### One-hot a caracter"
   ]
  },
  {
   "cell_type": "code",
   "execution_count": 8,
   "metadata": {},
   "outputs": [
    {
     "data": {
      "text/plain": [
       "['M',\n",
       " 'A',\n",
       " 'C',\n",
       " 'H',\n",
       " 'I',\n",
       " 'N',\n",
       " 'E',\n",
       " ' ',\n",
       " 'L',\n",
       " 'E',\n",
       " 'A',\n",
       " 'R',\n",
       " 'N',\n",
       " 'I',\n",
       " 'N',\n",
       " 'G']"
      ]
     },
     "execution_count": 8,
     "metadata": {},
     "output_type": "execute_result"
    }
   ],
   "source": [
    "[indices_to_chars[np.argmax(one_hot_text[0][i])] for i in range(len(text))]"
   ]
  },
  {
   "cell_type": "markdown",
   "metadata": {},
   "source": [
    "## Ejemplo 1: T = 1\n",
    "En este ejemplo usaremos una RNN pero como una simple vanilla network (MLP)"
   ]
  },
  {
   "cell_type": "markdown",
   "metadata": {},
   "source": [
    "### Preparo entrada/salida:  "
   ]
  },
  {
   "cell_type": "code",
   "execution_count": 9,
   "metadata": {},
   "outputs": [
    {
     "data": {
      "text/plain": [
       "(['M', 'A', 'C', 'H', 'I', 'N', 'E', ' ', 'L', 'E', 'A', 'R', 'N', 'I', 'N'],\n",
       " ['A', 'C', 'H', 'I', 'N', 'E', ' ', 'L', 'E', 'A', 'R', 'N', 'I', 'N', 'G'])"
      ]
     },
     "execution_count": 9,
     "metadata": {},
     "output_type": "execute_result"
    }
   ],
   "source": [
    "example_to_io(text, input_window_size=1, input_step_size=1)"
   ]
  },
  {
   "cell_type": "code",
   "execution_count": 10,
   "metadata": {
    "collapsed": true
   },
   "outputs": [],
   "source": [
    "window_size = 1\n",
    "step_size = 1\n",
    "\n",
    "# encode_io_pairs llama a window_transform_text y despues codifica en one-hot\n",
    "X, y = example_to_io_pairs(text, chars, window_size, step_size)"
   ]
  },
  {
   "cell_type": "code",
   "execution_count": 11,
   "metadata": {},
   "outputs": [
    {
     "name": "stdout",
     "output_type": "stream",
     "text": [
      "X: (15, 1, 11) y: (15, 11)\n"
     ]
    }
   ],
   "source": [
    "print('X:', X.shape, 'y:', y.shape)"
   ]
  },
  {
   "cell_type": "code",
   "execution_count": 12,
   "metadata": {},
   "outputs": [
    {
     "name": "stdout",
     "output_type": "stream",
     "text": [
      "N:  15\n",
      "T:  1\n",
      "D:  11\n"
     ]
    }
   ],
   "source": [
    "print('N: ', X.shape[0])\n",
    "print('T: ', X.shape[1])\n",
    "print('D: ', X.shape[2])"
   ]
  },
  {
   "cell_type": "code",
   "execution_count": 13,
   "metadata": {},
   "outputs": [
    {
     "name": "stdout",
     "output_type": "stream",
     "text": [
      "[[0 0 0 0 0 0 0 0 1 0 0]] M\n",
      "[[0 1 0 0 0 0 0 0 0 0 0]] A\n",
      "[[0 0 1 0 0 0 0 0 0 0 0]] C\n",
      "[[0 0 0 0 0 1 0 0 0 0 0]] H\n",
      "[[0 0 0 0 0 0 1 0 0 0 0]] I\n",
      "[[0 0 0 0 0 0 0 0 0 1 0]] N\n",
      "[[0 0 0 1 0 0 0 0 0 0 0]] E\n",
      "[[1 0 0 0 0 0 0 0 0 0 0]]  \n",
      "[[0 0 0 0 0 0 0 1 0 0 0]] L\n",
      "[[0 0 0 1 0 0 0 0 0 0 0]] E\n",
      "[[0 1 0 0 0 0 0 0 0 0 0]] A\n",
      "[[0 0 0 0 0 0 0 0 0 0 1]] R\n",
      "[[0 0 0 0 0 0 0 0 0 1 0]] N\n",
      "[[0 0 0 0 0 0 1 0 0 0 0]] I\n",
      "[[0 0 0 0 0 0 0 0 0 1 0]] N\n"
     ]
    }
   ],
   "source": [
    "for xi in X: print(xi, indices_to_chars[np.argmax(xi)])"
   ]
  },
  {
   "cell_type": "code",
   "execution_count": 14,
   "metadata": {},
   "outputs": [
    {
     "name": "stdout",
     "output_type": "stream",
     "text": [
      "[0 1 0 0 0 0 0 0 0 0 0] A\n",
      "[0 0 1 0 0 0 0 0 0 0 0] C\n",
      "[0 0 0 0 0 1 0 0 0 0 0] H\n",
      "[0 0 0 0 0 0 1 0 0 0 0] I\n",
      "[0 0 0 0 0 0 0 0 0 1 0] N\n",
      "[0 0 0 1 0 0 0 0 0 0 0] E\n",
      "[1 0 0 0 0 0 0 0 0 0 0]  \n",
      "[0 0 0 0 0 0 0 1 0 0 0] L\n",
      "[0 0 0 1 0 0 0 0 0 0 0] E\n",
      "[0 1 0 0 0 0 0 0 0 0 0] A\n",
      "[0 0 0 0 0 0 0 0 0 0 1] R\n",
      "[0 0 0 0 0 0 0 0 0 1 0] N\n",
      "[0 0 0 0 0 0 1 0 0 0 0] I\n",
      "[0 0 0 0 0 0 0 0 0 1 0] N\n",
      "[0 0 0 0 1 0 0 0 0 0 0] G\n"
     ]
    }
   ],
   "source": [
    "for yi in y: print(yi, indices_to_chars[np.argmax(yi)])"
   ]
  },
  {
   "cell_type": "markdown",
   "metadata": {},
   "source": [
    "Notar que la salida es el siguiente caracter al de la entrada\n",
    "\n",
    "Esto es equivalente a un MLP"
   ]
  },
  {
   "cell_type": "markdown",
   "metadata": {},
   "source": [
    "### Armo modelo RNN"
   ]
  },
  {
   "cell_type": "code",
   "execution_count": 15,
   "metadata": {
    "collapsed": true
   },
   "outputs": [],
   "source": [
    "from keras.layers import SimpleRNN, Dense\n",
    "from keras.models import Sequential"
   ]
  },
  {
   "cell_type": "code",
   "execution_count": 16,
   "metadata": {},
   "outputs": [
    {
     "name": "stdout",
     "output_type": "stream",
     "text": [
      "_________________________________________________________________\n",
      "Layer (type)                 Output Shape              Param #   \n",
      "=================================================================\n",
      "simple_rnn_1 (SimpleRNN)     (None, 10)                220       \n",
      "_________________________________________________________________\n",
      "dense_1 (Dense)              (None, 11)                121       \n",
      "=================================================================\n",
      "Total params: 341\n",
      "Trainable params: 341\n",
      "Non-trainable params: 0\n",
      "_________________________________________________________________\n"
     ]
    }
   ],
   "source": [
    "model = Sequential()\n",
    "sequence_len=len(chars)\n",
    "rnn_neurons=10\n",
    "dense_neurons=sequence_len\n",
    "model.add(SimpleRNN(rnn_neurons, input_shape=(window_size, sequence_len)))\n",
    "model.add(Dense(dense_neurons, activation=\"softmax\"))\n",
    "model.summary()"
   ]
  },
  {
   "cell_type": "markdown",
   "metadata": {},
   "source": [
    "### Entreno el modelo"
   ]
  },
  {
   "cell_type": "code",
   "execution_count": 18,
   "metadata": {},
   "outputs": [
    {
     "data": {
      "image/png": "[encoded data removed]",
      "text/plain": [
       "<Figure size 1440x360 with 2 Axes>"
      ]
     },
     "metadata": {
      "needs_background": "light"
     },
     "output_type": "display_data"
    },
    {
     "name": "stdout",
     "output_type": "stream",
     "text": [
      "Epoch 492/500\n",
      "15/15 [==============================] - 0s 3ms/step - loss: 0.4100 - acc: 0.6667\n",
      "Epoch 493/500\n",
      "15/15 [==============================] - 0s 4ms/step - loss: 0.4117 - acc: 0.6667\n",
      "Epoch 494/500\n",
      "15/15 [==============================] - 0s 3ms/step - loss: 0.4118 - acc: 0.6000\n",
      "Epoch 495/500\n",
      "15/15 [==============================] - 0s 3ms/step - loss: 0.4117 - acc: 0.6000\n",
      "Epoch 496/500\n",
      "15/15 [==============================] - 0s 3ms/step - loss: 0.4113 - acc: 0.6000\n",
      "Epoch 497/500\n",
      "15/15 [==============================] - 0s 3ms/step - loss: 0.4105 - acc: 0.6000\n",
      "Epoch 498/500\n",
      "15/15 [==============================] - 0s 3ms/step - loss: 0.4112 - acc: 0.7333\n",
      "Epoch 499/500\n",
      "15/15 [==============================] - 0s 3ms/step - loss: 0.4099 - acc: 0.6667\n",
      "Epoch 500/500\n",
      "15/15 [==============================] - 0s 3ms/step - loss: 0.4098 - acc: 0.6667\n"
     ]
    },
    {
     "data": {
      "text/plain": [
       "<keras.callbacks.History at 0x7f0adb879e80>"
      ]
     },
     "execution_count": 18,
     "metadata": {},
     "output_type": "execute_result"
    }
   ],
   "source": [
    "model.compile(optimizer='adam', loss='categorical_crossentropy', metrics=['accuracy'])\n",
    "\n",
    "model.fit(\n",
    "    X,\n",
    "    y,\n",
    "    epochs=500,\n",
    "    batch_size=1,\n",
    "    verbose=1,\n",
    "    callbacks=[PlotLosses(plot_interval=10, evaluate_interval=None)]\n",
    ")"
   ]
  },
  {
   "cell_type": "markdown",
   "metadata": {},
   "source": [
    "Por que no llega al 100%? Que es lo que no puede predecir?\n",
    "\n",
    "**Re**: Creo que tiene que ver con que hay letras que tiene mas de un resultado posible y eso hace que no se llegue al 100% del accuracy."
   ]
  },
  {
   "cell_type": "markdown",
   "metadata": {},
   "source": [
    "### Predicción usando argmax (Greedy Search)"
   ]
  },
  {
   "cell_type": "code",
   "execution_count": 52,
   "metadata": {},
   "outputs": [
    {
     "name": "stdout",
     "output_type": "stream",
     "text": [
      "Input: M\n",
      "Predicted Char: A  (Probability: 99.59898591041565 %)\n"
     ]
    }
   ],
   "source": [
    "first_char = text[0]\n",
    "print('Input:' , first_char)\n",
    "\n",
    "one_hot_vector = to_one_hot_vector(\n",
    "    char_to_predict, \n",
    "    chars, \n",
    "    chars_to_indices,\n",
    "    window_size\n",
    ")\n",
    "prediction = model.predict(one_hot_vector)\n",
    "\n",
    "print(\n",
    "    'Predicted Char:',\n",
    "    indices_to_chars[np.argmax(predicted)], \n",
    "    ' (Probability:', np.max(predicted) * 100, '%)'\n",
    ")"
   ]
  },
  {
   "cell_type": "code",
   "execution_count": 61,
   "metadata": {
    "collapsed": true
   },
   "outputs": [
    {
     "name": "stdout",
     "output_type": "stream",
     "text": [
      "MACHINE LEARNING\n",
      "[[[0 0 0 0 0 0 0 0 1 0 0]\n",
      "  [0 1 0 0 0 0 0 0 0 0 0]\n",
      "  [0 0 1 0 0 0 0 0 0 0 0]\n",
      "  [0 0 0 0 0 1 0 0 0 0 0]\n",
      "  [0 0 0 0 0 0 1 0 0 0 0]\n",
      "  [0 0 0 0 0 0 0 0 0 1 0]\n",
      "  [0 0 0 1 0 0 0 0 0 0 0]\n",
      "  [1 0 0 0 0 0 0 0 0 0 0]\n",
      "  [0 0 0 0 0 0 0 1 0 0 0]\n",
      "  [0 0 0 1 0 0 0 0 0 0 0]\n",
      "  [0 1 0 0 0 0 0 0 0 0 0]\n",
      "  [0 0 0 0 0 0 0 0 0 0 1]\n",
      "  [0 0 0 0 0 0 0 0 0 1 0]\n",
      "  [0 0 0 0 0 0 1 0 0 0 0]\n",
      "  [0 0 0 0 0 0 0 0 0 1 0]\n",
      "  [0 0 0 0 1 0 0 0 0 0 0]]]\n",
      "(1, 16, 11)\n"
     ]
    }
   ],
   "source": [
    "chars_to_predict = text\n",
    "print(chars_to_predict)\n",
    "\n",
    "# Los paso a one hot\n",
    "to_predict = to_one_hot_vector(\n",
    "    chars_to_predict, \n",
    "    possible_elements=chars, \n",
    "    element_to_indices=chars_to_indices, \n",
    "    window_size=window_size\n",
    ")\n",
    "\n",
    "print(to_predict)\n",
    "print(to_predict.shape)"
   ]
  },
  {
   "cell_type": "code",
   "execution_count": 62,
   "metadata": {},
   "outputs": [
    {
     "name": "stdout",
     "output_type": "stream",
     "text": [
      "[[[0 0 0 0 0 0 0 0 1 0 0]]\n",
      "\n",
      " [[0 1 0 0 0 0 0 0 0 0 0]]\n",
      "\n",
      " [[0 0 1 0 0 0 0 0 0 0 0]]\n",
      "\n",
      " [[0 0 0 0 0 1 0 0 0 0 0]]\n",
      "\n",
      " [[0 0 0 0 0 0 1 0 0 0 0]]\n",
      "\n",
      " [[0 0 0 0 0 0 0 0 0 1 0]]\n",
      "\n",
      " [[0 0 0 1 0 0 0 0 0 0 0]]\n",
      "\n",
      " [[1 0 0 0 0 0 0 0 0 0 0]]\n",
      "\n",
      " [[0 0 0 0 0 0 0 1 0 0 0]]\n",
      "\n",
      " [[0 0 0 1 0 0 0 0 0 0 0]]\n",
      "\n",
      " [[0 1 0 0 0 0 0 0 0 0 0]]\n",
      "\n",
      " [[0 0 0 0 0 0 0 0 0 0 1]]\n",
      "\n",
      " [[0 0 0 0 0 0 0 0 0 1 0]]\n",
      "\n",
      " [[0 0 0 0 0 0 1 0 0 0 0]]\n",
      "\n",
      " [[0 0 0 0 0 0 0 0 0 1 0]]\n",
      "\n",
      " [[0 0 0 0 1 0 0 0 0 0 0]]]\n",
      "(16, 1, 11)\n"
     ]
    }
   ],
   "source": [
    "# Tengo que hacer reshape para darselo a la red\n",
    "to_predict_reshaped = to_predict.reshape(\n",
    "    to_predict.shape[1],\n",
    "    to_predict.shape[0],\n",
    "    to_predict.shape[2]\n",
    ")\n",
    "\n",
    "print(to_predict_reshaped)\n",
    "print(to_predict_reshaped.shape)"
   ]
  },
  {
   "cell_type": "markdown",
   "metadata": {},
   "source": [
    "### Matriz de transición"
   ]
  },
  {
   "cell_type": "code",
   "execution_count": 114,
   "metadata": {
    "collapsed": true
   },
   "outputs": [
    {
     "name": "stdout",
     "output_type": "stream",
     "text": [
      "(16, 11)\n",
      "\n",
      "   _    A    C    E    G    H    I    L    M    N    R    \n",
      "M [0.   0.99 0.   0.   0.   0.   0.   0.   0.   0.   0.  ] A\n",
      "A [0.   0.   0.49 0.   0.   0.   0.   0.   0.   0.   0.5 ] R\n",
      "C [0.   0.   0.   0.   0.   0.99 0.   0.   0.   0.   0.  ] H\n",
      "H [0.   0.   0.   0.   0.   0.   0.99 0.   0.   0.   0.  ] I\n",
      "I [0.   0.   0.   0.   0.   0.   0.   0.   0.   0.99 0.  ] N\n",
      "N [0.   0.   0.   0.33 0.32 0.   0.33 0.   0.   0.   0.  ] I\n",
      "E [0.5  0.49 0.   0.   0.   0.   0.   0.   0.   0.   0.  ]  \n",
      "  [0.   0.   0.   0.   0.   0.   0.   0.99 0.   0.   0.  ] L\n",
      "L [0.   0.   0.   0.99 0.   0.   0.   0.   0.   0.   0.  ] E\n",
      "E [0.5  0.49 0.   0.   0.   0.   0.   0.   0.   0.   0.  ]  \n",
      "A [0.   0.   0.49 0.   0.   0.   0.   0.   0.   0.   0.5 ] R\n",
      "R [0.   0.   0.   0.   0.   0.   0.   0.   0.   0.99 0.  ] N\n",
      "N [0.   0.   0.   0.33 0.32 0.   0.33 0.   0.   0.   0.  ] I\n",
      "I [0.   0.   0.   0.   0.   0.   0.   0.   0.   0.99 0.  ] N\n",
      "N [0.   0.   0.   0.33 0.32 0.   0.33 0.   0.   0.   0.  ] I\n",
      "G [0.03 0.15 0.16 0.03 0.03 0.   0.34 0.   0.   0.03 0.19] I\n"
     ]
    }
   ],
   "source": [
    "predicted = model.predict(to_predict_reshaped)\n",
    "\n",
    "show_results(input, predicted, chars_to_indices, indices_to_chars)"
   ]
  },
  {
   "cell_type": "markdown",
   "metadata": {},
   "source": [
    "¿Que pasa con la A, la E y la N cuando el texto es MACHINE LEARNING?"
   ]
  },
  {
   "cell_type": "markdown",
   "metadata": {},
   "source": [
    "* La 'A' tiene la misma probabilidad de preceder a la 'C' que a la 'R'\n",
    "* Con la 'E' sucede lo mismo que con la 'A' pero con los caracteres ' ' y 'A'\n",
    "* Con la  'N' idem.\n",
    "\n",
    "=> **Se puede apreciar que en los casos en que un character tiene mas de un resultado \n",
    "posible, estos ultimso son equiprobables**.\n",
    "\n",
    "Por otro lado, las probabilidades de la 'G' no tiene mucho sentido ya que es el ultimo caracter del texto y por eso tiene cualquier valor.\n"
   ]
  },
  {
   "cell_type": "markdown",
   "metadata": {},
   "source": [
    "## Ejemplo 2: T = 2"
   ]
  },
  {
   "cell_type": "markdown",
   "metadata": {},
   "source": [
    "### Preparo entrada/salida"
   ]
  },
  {
   "cell_type": "code",
   "execution_count": 22,
   "metadata": {
    "collapsed": true
   },
   "outputs": [
    {
     "name": "stdout",
     "output_type": "stream",
     "text": [
      "MA -> C\n",
      "AC -> H\n",
      "CH -> I\n",
      "HI -> N\n",
      "IN -> E\n",
      "NE ->  \n",
      "E  -> L\n",
      " L -> E\n",
      "LE -> A\n",
      "EA -> R\n",
      "AR -> N\n",
      "RN -> I\n",
      "NI -> N\n",
      "IN -> G\n"
     ]
    }
   ],
   "source": [
    "window_size = 2\n",
    "x_2_t, y_2_t = window_transform_text(text, window_size, step_size)\n",
    "for i, te in enumerate(x_2_t):\n",
    "    print(te, '->' ,y_2_t[i])\n",
    "#print(x_2_t, y_2_t)\n",
    "X_2, y_2 = encode_io_pairs(text, chars, window_size, step_size)"
   ]
  },
  {
   "cell_type": "code",
   "execution_count": 23,
   "metadata": {},
   "outputs": [
    {
     "name": "stdout",
     "output_type": "stream",
     "text": [
      "(14, 2, 11) [[[0 0 0 0 0 0 0 0 1 0 0]\n",
      "  [0 1 0 0 0 0 0 0 0 0 0]]\n",
      "\n",
      " [[0 1 0 0 0 0 0 0 0 0 0]\n",
      "  [0 0 1 0 0 0 0 0 0 0 0]]\n",
      "\n",
      " [[0 0 1 0 0 0 0 0 0 0 0]\n",
      "  [0 0 0 0 0 1 0 0 0 0 0]]\n",
      "\n",
      " [[0 0 0 0 0 1 0 0 0 0 0]\n",
      "  [0 0 0 0 0 0 1 0 0 0 0]]\n",
      "\n",
      " [[0 0 0 0 0 0 1 0 0 0 0]\n",
      "  [0 0 0 0 0 0 0 0 0 1 0]]\n",
      "\n",
      " [[0 0 0 0 0 0 0 0 0 1 0]\n",
      "  [0 0 0 1 0 0 0 0 0 0 0]]\n",
      "\n",
      " [[0 0 0 1 0 0 0 0 0 0 0]\n",
      "  [1 0 0 0 0 0 0 0 0 0 0]]\n",
      "\n",
      " [[1 0 0 0 0 0 0 0 0 0 0]\n",
      "  [0 0 0 0 0 0 0 1 0 0 0]]\n",
      "\n",
      " [[0 0 0 0 0 0 0 1 0 0 0]\n",
      "  [0 0 0 1 0 0 0 0 0 0 0]]\n",
      "\n",
      " [[0 0 0 1 0 0 0 0 0 0 0]\n",
      "  [0 1 0 0 0 0 0 0 0 0 0]]\n",
      "\n",
      " [[0 1 0 0 0 0 0 0 0 0 0]\n",
      "  [0 0 0 0 0 0 0 0 0 0 1]]\n",
      "\n",
      " [[0 0 0 0 0 0 0 0 0 0 1]\n",
      "  [0 0 0 0 0 0 0 0 0 1 0]]\n",
      "\n",
      " [[0 0 0 0 0 0 0 0 0 1 0]\n",
      "  [0 0 0 0 0 0 1 0 0 0 0]]\n",
      "\n",
      " [[0 0 0 0 0 0 1 0 0 0 0]\n",
      "  [0 0 0 0 0 0 0 0 0 1 0]]]\n"
     ]
    }
   ],
   "source": [
    "print(X_2.shape, X_2*1)"
   ]
  },
  {
   "cell_type": "code",
   "execution_count": 24,
   "metadata": {},
   "outputs": [
    {
     "name": "stdout",
     "output_type": "stream",
     "text": [
      "[[0 0 1 0 0 0 0 0 0 0 0]\n",
      " [0 0 0 0 0 1 0 0 0 0 0]\n",
      " [0 0 0 0 0 0 1 0 0 0 0]\n",
      " [0 0 0 0 0 0 0 0 0 1 0]\n",
      " [0 0 0 1 0 0 0 0 0 0 0]\n",
      " [1 0 0 0 0 0 0 0 0 0 0]\n",
      " [0 0 0 0 0 0 0 1 0 0 0]\n",
      " [0 0 0 1 0 0 0 0 0 0 0]\n",
      " [0 1 0 0 0 0 0 0 0 0 0]\n",
      " [0 0 0 0 0 0 0 0 0 0 1]\n",
      " [0 0 0 0 0 0 0 0 0 1 0]\n",
      " [0 0 0 0 0 0 1 0 0 0 0]\n",
      " [0 0 0 0 0 0 0 0 0 1 0]\n",
      " [0 0 0 0 1 0 0 0 0 0 0]]\n"
     ]
    }
   ],
   "source": [
    "print(y_2*1)"
   ]
  },
  {
   "cell_type": "markdown",
   "metadata": {},
   "source": [
    "### Armo modelo"
   ]
  },
  {
   "cell_type": "code",
   "execution_count": 25,
   "metadata": {},
   "outputs": [
    {
     "name": "stdout",
     "output_type": "stream",
     "text": [
      "_________________________________________________________________\n",
      "Layer (type)                 Output Shape              Param #   \n",
      "=================================================================\n",
      "simple_rnn_2 (SimpleRNN)     (None, 10)                220       \n",
      "_________________________________________________________________\n",
      "dense_2 (Dense)              (None, 11)                121       \n",
      "=================================================================\n",
      "Total params: 341\n",
      "Trainable params: 341\n",
      "Non-trainable params: 0\n",
      "_________________________________________________________________\n"
     ]
    }
   ],
   "source": [
    "model_2 = Sequential()\n",
    "model_2.add(SimpleRNN(10, input_shape=(window_size,len(chars))))\n",
    "model_2.add(Dense(len(chars), activation=\"softmax\"))\n",
    "model_2.summary()"
   ]
  },
  {
   "cell_type": "markdown",
   "metadata": {},
   "source": [
    "### Entreno modelo"
   ]
  },
  {
   "cell_type": "code",
   "execution_count": 26,
   "metadata": {},
   "outputs": [
    {
     "data": {
      "image/png": "[encoded data removed]",
      "text/plain": [
       "<Figure size 1440x360 with 2 Axes>"
      ]
     },
     "metadata": {
      "needs_background": "light"
     },
     "output_type": "display_data"
    },
    {
     "name": "stdout",
     "output_type": "stream",
     "text": [
      "Epoch 492/500\n",
      "14/14 [==============================] - 0s 3ms/step - loss: 0.1100 - acc: 0.9286\n",
      "Epoch 493/500\n",
      "14/14 [==============================] - 0s 4ms/step - loss: 0.1108 - acc: 0.8571\n",
      "Epoch 494/500\n",
      "14/14 [==============================] - 0s 4ms/step - loss: 0.1103 - acc: 0.9286\n",
      "Epoch 495/500\n",
      "14/14 [==============================] - 0s 3ms/step - loss: 0.1083 - acc: 0.9286\n",
      "Epoch 496/500\n",
      "14/14 [==============================] - 0s 3ms/step - loss: 0.1100 - acc: 0.9286\n",
      "Epoch 497/500\n",
      "14/14 [==============================] - 0s 4ms/step - loss: 0.1102 - acc: 0.8571\n",
      "Epoch 498/500\n",
      "14/14 [==============================] - 0s 4ms/step - loss: 0.1104 - acc: 0.8571\n",
      "Epoch 499/500\n",
      "14/14 [==============================] - 0s 4ms/step - loss: 0.1084 - acc: 0.9286\n",
      "Epoch 500/500\n",
      "14/14 [==============================] - 0s 4ms/step - loss: 0.1084 - acc: 0.9286\n"
     ]
    },
    {
     "data": {
      "text/plain": [
       "<keras.callbacks.History at 0x7f22601b6780>"
      ]
     },
     "execution_count": 26,
     "metadata": {},
     "output_type": "execute_result"
    }
   ],
   "source": [
    "model_2.compile(optimizer='adam', loss='categorical_crossentropy', metrics=['accuracy'])\n",
    "plot_losses = PlotLosses(plot_interval=10, evaluate_interval=None)\n",
    "model_2.fit(X_2,y_2, epochs=500, batch_size=1, verbose=1, callbacks=[plot_losses])"
   ]
  },
  {
   "cell_type": "markdown",
   "metadata": {},
   "source": [
    "### Matriz de transición"
   ]
  },
  {
   "cell_type": "code",
   "execution_count": 27,
   "metadata": {},
   "outputs": [
    {
     "name": "stdout",
     "output_type": "stream",
     "text": [
      "(14, 11)\n",
      "         A    C    E    G    H    I    L    M    N    R    \n",
      "MA [0.   0.   0.99 0.   0.   0.   0.   0.   0.   0.   0.  ] C\n",
      "AC [0.   0.   0.   0.   0.   0.98 0.   0.   0.   0.   0.  ] H\n",
      "CH [0.   0.   0.   0.   0.   0.   0.99 0.   0.   0.   0.  ] I\n",
      "HI [0.   0.   0.   0.   0.   0.   0.   0.   0.   0.99 0.  ] N\n",
      "IN [0.   0.   0.   0.5  0.48 0.   0.   0.   0.   0.   0.  ] E\n",
      "NE [0.99 0.   0.   0.   0.   0.   0.   0.   0.   0.   0.  ]  \n",
      "E  [0.   0.   0.   0.   0.   0.   0.   0.99 0.   0.   0.  ] L\n",
      " L [0.   0.   0.   0.97 0.01 0.   0.   0.   0.   0.   0.  ] E\n",
      "LE [0.   0.99 0.   0.   0.   0.   0.   0.   0.   0.   0.  ] A\n",
      "EA [0.   0.   0.   0.   0.   0.   0.   0.   0.   0.   0.98] R\n",
      "AR [0.   0.   0.   0.   0.   0.   0.   0.   0.   0.99 0.  ] N\n",
      "RN [0.   0.   0.   0.   0.   0.   0.99 0.   0.   0.   0.  ] I\n",
      "NI [0.   0.   0.   0.   0.   0.   0.   0.   0.   0.99 0.  ] N\n",
      "IN [0.   0.   0.   0.5  0.48 0.   0.   0.   0.   0.   0.  ] E\n"
     ]
    }
   ],
   "source": [
    "predicted = model_2.predict(X_2)\n",
    "print(predicted.shape)\n",
    "print('    ', end='')\n",
    "for c in chars_to_indices.keys():\n",
    "    print(c, end='    ')\n",
    "print()\n",
    "for i, row in enumerate(predicted):\n",
    "    print(indices_to_chars[np.argmax(X_2[i, :][0])]+indices_to_chars[np.argmax(X_2[i, :][1])], (row*100).astype(int)/100, indices_to_chars[np.argmax(row)])"
   ]
  },
  {
   "cell_type": "markdown",
   "metadata": {},
   "source": [
    "Notar que luego de IN no se puede tener certeza debido a la ambiguedad"
   ]
  },
  {
   "cell_type": "markdown",
   "metadata": {},
   "source": [
    "- Como es de esperar la predicción mejora notablemente\n",
    "- La cantidad de parametros de la red no cambia respecto a la anterior\n",
    "- Que pasa si lo implemento con MLP con la cantidad de parámetros?"
   ]
  },
  {
   "cell_type": "markdown",
   "metadata": {},
   "source": [
    "## Ejemplo 3: T = 3"
   ]
  },
  {
   "cell_type": "markdown",
   "metadata": {},
   "source": [
    "### Preparo entrada/salida"
   ]
  },
  {
   "cell_type": "code",
   "execution_count": 28,
   "metadata": {},
   "outputs": [
    {
     "name": "stdout",
     "output_type": "stream",
     "text": [
      "MAC -> H\n",
      "ACH -> I\n",
      "CHI -> N\n",
      "HIN -> E\n",
      "INE ->  \n",
      "NE  -> L\n",
      "E L -> E\n",
      " LE -> A\n",
      "LEA -> R\n",
      "EAR -> N\n",
      "ARN -> I\n",
      "RNI -> N\n",
      "NIN -> G\n"
     ]
    }
   ],
   "source": [
    "window_size = 3\n",
    "x_3_t, y_3_t = window_transform_text(text, window_size, step_size)\n",
    "for i, te in enumerate(x_3_t):\n",
    "    print(te, '->' ,y_3_t[i])\n",
    "#print(x_2_t, y_2_t)\n",
    "X_3, y_3 = encode_io_pairs(text, chars, window_size, step_size)"
   ]
  },
  {
   "cell_type": "markdown",
   "metadata": {},
   "source": [
    "### Armo modelo"
   ]
  },
  {
   "cell_type": "code",
   "execution_count": 29,
   "metadata": {},
   "outputs": [
    {
     "name": "stdout",
     "output_type": "stream",
     "text": [
      "_________________________________________________________________\n",
      "Layer (type)                 Output Shape              Param #   \n",
      "=================================================================\n",
      "simple_rnn_3 (SimpleRNN)     (None, 10)                220       \n",
      "_________________________________________________________________\n",
      "dense_3 (Dense)              (None, 11)                121       \n",
      "=================================================================\n",
      "Total params: 341\n",
      "Trainable params: 341\n",
      "Non-trainable params: 0\n",
      "_________________________________________________________________\n"
     ]
    }
   ],
   "source": [
    "model_3 = Sequential()\n",
    "model_3.add(SimpleRNN(10, input_shape=(window_size,len(chars))))\n",
    "model_3.add(Dense(len(chars), activation=\"softmax\"))\n",
    "model_3.summary()"
   ]
  },
  {
   "cell_type": "markdown",
   "metadata": {},
   "source": [
    "### Entreno modelo"
   ]
  },
  {
   "cell_type": "markdown",
   "metadata": {},
   "source": [
    "Cambiar batch_size y verificar que converge de la misma manera"
   ]
  },
  {
   "cell_type": "code",
   "execution_count": 30,
   "metadata": {},
   "outputs": [
    {
     "data": {
      "image/png": "[encoded data removed]",
      "text/plain": [
       "<Figure size 1440x360 with 2 Axes>"
      ]
     },
     "metadata": {
      "needs_background": "light"
     },
     "output_type": "display_data"
    },
    {
     "name": "stdout",
     "output_type": "stream",
     "text": [
      "Epoch 492/500\n",
      "13/13 [==============================] - 0s 1ms/step - loss: 0.0662 - acc: 1.0000\n",
      "Epoch 493/500\n",
      "13/13 [==============================] - 0s 1ms/step - loss: 0.0659 - acc: 1.0000\n",
      "Epoch 494/500\n",
      "13/13 [==============================] - 0s 1ms/step - loss: 0.0656 - acc: 1.0000\n",
      "Epoch 495/500\n",
      "13/13 [==============================] - 0s 1ms/step - loss: 0.0652 - acc: 1.0000\n",
      "Epoch 496/500\n",
      "13/13 [==============================] - 0s 1ms/step - loss: 0.0649 - acc: 1.0000\n",
      "Epoch 497/500\n",
      "13/13 [==============================] - 0s 1ms/step - loss: 0.0646 - acc: 1.0000\n",
      "Epoch 498/500\n",
      "13/13 [==============================] - 0s 1ms/step - loss: 0.0643 - acc: 1.0000\n",
      "Epoch 499/500\n",
      "13/13 [==============================] - 0s 1ms/step - loss: 0.0640 - acc: 1.0000\n",
      "Epoch 500/500\n",
      "13/13 [==============================] - 0s 1ms/step - loss: 0.0637 - acc: 1.0000\n"
     ]
    },
    {
     "data": {
      "text/plain": [
       "<keras.callbacks.History at 0x7f223818cf98>"
      ]
     },
     "execution_count": 30,
     "metadata": {},
     "output_type": "execute_result"
    }
   ],
   "source": [
    "model_3.compile(optimizer='adam', loss='categorical_crossentropy', metrics=['accuracy'])\n",
    "plot_losses = PlotLosses(plot_interval=10, evaluate_interval=None)\n",
    "model_3.fit(X_3,y_3, epochs=500, batch_size=4, verbose=1, callbacks=[plot_losses])"
   ]
  },
  {
   "cell_type": "markdown",
   "metadata": {},
   "source": [
    "- Como funciona la RNN con un batch size mayor que 1?\n",
    "- En que momento se resetea el estado?\n",
    "- Que dimensión tendrá el vector de estados durante el entrenamiento?"
   ]
  },
  {
   "cell_type": "markdown",
   "metadata": {},
   "source": [
    "### Matriz de transición"
   ]
  },
  {
   "cell_type": "code",
   "execution_count": 31,
   "metadata": {},
   "outputs": [
    {
     "name": "stdout",
     "output_type": "stream",
     "text": [
      "(13, 11)\n",
      "          A    C    E    G    H    I    L    M    N    R    \n",
      "MAC [0.   0.01 0.   0.03 0.   0.92 0.   0.   0.   0.   0.01] H\n",
      "ACH [0.   0.   0.   0.   0.   0.   0.98 0.   0.   0.   0.  ] I\n",
      "CHI [0.   0.   0.   0.01 0.   0.   0.   0.   0.   0.97 0.  ] N\n",
      "HIN [0.01 0.   0.   0.92 0.01 0.   0.   0.   0.   0.03 0.  ] E\n",
      "INE [0.89 0.01 0.   0.02 0.02 0.   0.   0.01 0.   0.01 0.  ]  \n",
      "NE  [0.01 0.   0.   0.   0.01 0.   0.   0.93 0.   0.   0.  ] L\n",
      "E L [0.01 0.   0.   0.95 0.   0.   0.   0.   0.   0.02 0.  ] E\n",
      " LE [0.01 0.93 0.   0.   0.01 0.02 0.   0.   0.   0.   0.  ] A\n",
      "LEA [0.   0.   0.   0.   0.   0.01 0.01 0.   0.   0.02 0.92] R\n",
      "EAR [0.   0.   0.   0.02 0.   0.   0.   0.   0.   0.95 0.  ] N\n",
      "ARN [0.   0.   0.   0.   0.01 0.   0.97 0.   0.   0.   0.  ] I\n",
      "RNI [0.   0.   0.   0.01 0.   0.   0.   0.   0.   0.97 0.  ] N\n",
      "NIN [0.03 0.02 0.   0.02 0.86 0.   0.01 0.01 0.   0.   0.  ] G\n"
     ]
    }
   ],
   "source": [
    "predicted = model_3.predict(X_3)\n",
    "print(predicted.shape)\n",
    "print('     ', end='')\n",
    "for c in chars_to_indices.keys():\n",
    "    print(c, end='    ')\n",
    "print()\n",
    "for i, row in enumerate(predicted):\n",
    "    print(indices_to_chars[np.argmax(X_3[i, :][0])]+\n",
    "          indices_to_chars[np.argmax(X_3[i, :][1])]+\n",
    "          indices_to_chars[np.argmax(X_3[i, :][2])], \n",
    "          (row*100).astype(int)/100, indices_to_chars[np.argmax(row)])"
   ]
  },
  {
   "cell_type": "markdown",
   "metadata": {},
   "source": [
    "- Las probabilidades son practicamente 1\n",
    "- La cantidad de parametros de la red no cambia respecto a la anterior\n",
    "- Que pasa si lo implemento con MLP con la cantidad de parámetros?"
   ]
  },
  {
   "cell_type": "markdown",
   "metadata": {},
   "source": [
    "### Redefino Modelo con pesos aprendidos pero statefull\n",
    "Cargo los pesos aprendidos y la evaluo en modo statefull"
   ]
  },
  {
   "cell_type": "code",
   "execution_count": 32,
   "metadata": {},
   "outputs": [
    {
     "name": "stdout",
     "output_type": "stream",
     "text": [
      "_________________________________________________________________\n",
      "Layer (type)                 Output Shape              Param #   \n",
      "=================================================================\n",
      "simple_rnn_4 (SimpleRNN)     (1, 10)                   220       \n",
      "_________________________________________________________________\n",
      "dense_4 (Dense)              (1, 11)                   121       \n",
      "=================================================================\n",
      "Total params: 341\n",
      "Trainable params: 341\n",
      "Non-trainable params: 0\n",
      "_________________________________________________________________\n"
     ]
    }
   ],
   "source": [
    "batch_size=1\n",
    "model_3s = Sequential()\n",
    "model_3s.add(SimpleRNN(10, batch_input_shape=(batch_size,1,len(chars)), stateful=True))\n",
    "model_3s.add(Dense(len(chars), activation=\"softmax\"))\n",
    "model_3s.summary()\n",
    "model_3s.set_weights(model_3.get_weights())"
   ]
  },
  {
   "cell_type": "code",
   "execution_count": 33,
   "metadata": {},
   "outputs": [
    {
     "name": "stdout",
     "output_type": "stream",
     "text": [
      "char de entrada: M\n",
      "        A    C    E    G    H    I    L    M    N    R    \n",
      "[[0.03 0.01 0.01 0.35 0.03 0.26 0.03 0.05 0.01 0.12 0.06]]\n",
      "char predicted: E\n"
     ]
    }
   ],
   "source": [
    "window_size=1\n",
    "model_3s.reset_states()\n",
    "input_char = text[0]\n",
    "print('char de entrada:',input_char)\n",
    "to_predict = chars_to_one_hot(input_char, chars, chars_to_indices, window_size)*1\n",
    "predicted = model_3s.predict(to_predict)\n",
    "print('   ', end='')\n",
    "for c in chars_to_indices.keys():\n",
    "    print(c, end='    ')\n",
    "print()\n",
    "print((predicted*100).astype(int)/100)\n",
    "print('char predicted:', indices_to_chars[np.argmax(predicted[0])])"
   ]
  },
  {
   "cell_type": "markdown",
   "metadata": {},
   "source": [
    "Notar que con un solo caracter ingresado, no tiene suficiente data para predecir (Ningun caracter tiene alta probabilidad)"
   ]
  },
  {
   "cell_type": "code",
   "execution_count": 34,
   "metadata": {},
   "outputs": [
    {
     "name": "stdout",
     "output_type": "stream",
     "text": [
      "char de entrada: A\n",
      "       A    C    E    G    H    I    L    M    N    R    \n",
      "[[0.01 0.01 0.   0.24 0.   0.66 0.   0.01 0.01 0.01 0.02]]\n",
      "char predicted: H\n"
     ]
    }
   ],
   "source": [
    "input_char = text[1]\n",
    "print('char de entrada:',input_char)\n",
    "to_predict = chars_to_one_hot(input_char, chars, chars_to_indices, window_size)*1\n",
    "predicted = model_3s.predict(to_predict)\n",
    "print('  ', end='')\n",
    "for c in chars_to_indices.keys():\n",
    "    print(c, end='    ')\n",
    "print()\n",
    "print((predicted*100).astype(int)/100)\n",
    "print('char predicted:', indices_to_chars[np.argmax(predicted[0])])"
   ]
  },
  {
   "cell_type": "markdown",
   "metadata": {},
   "source": [
    "la predicción no tiene por que ser correcta a esta altura debido a que el modelo nunca fue entrenado con la secuencia ingresada"
   ]
  },
  {
   "cell_type": "code",
   "execution_count": 35,
   "metadata": {},
   "outputs": [
    {
     "name": "stdout",
     "output_type": "stream",
     "text": [
      "char de entrada: C\n",
      "        A    C    E    G    H    I    L    M    N    R    \n",
      "[[0.   0.01 0.   0.03 0.   0.92 0.   0.   0.   0.   0.01]]\n",
      "char predicted: H\n"
     ]
    }
   ],
   "source": [
    "input_char = text[2]\n",
    "print('char de entrada:',input_char)\n",
    "to_predict = chars_to_one_hot(input_char, chars, chars_to_indices, window_size)*1\n",
    "predicted = model_3s.predict(to_predict)\n",
    "print('   ', end='')\n",
    "for c in chars_to_indices.keys():\n",
    "    print(c, end='    ')\n",
    "print()\n",
    "print((predicted*100).astype(int)/100)\n",
    "print('char predicted:', indices_to_chars[np.argmax(predicted[0])])"
   ]
  },
  {
   "cell_type": "markdown",
   "metadata": {},
   "source": [
    "Notar que luego de la tercer predicción el modelo predice casi perfectamente"
   ]
  },
  {
   "cell_type": "code",
   "execution_count": 36,
   "metadata": {},
   "outputs": [
    {
     "name": "stdout",
     "output_type": "stream",
     "text": [
      "char de entrada: H\n",
      "        A    C    E    G    H    I    L    M    N    R    \n",
      "[[0.   0.01 0.   0.03 0.   0.81 0.03 0.   0.   0.01 0.07]]\n",
      "char predicted: H\n"
     ]
    }
   ],
   "source": [
    "input_char = text[3]\n",
    "print('char de entrada:',input_char)\n",
    "to_predict = chars_to_one_hot(input_char, chars, chars_to_indices, window_size)*1\n",
    "predicted = model_3s.predict(to_predict)\n",
    "print('   ', end='')\n",
    "for c in chars_to_indices.keys():\n",
    "    print(c, end='    ')\n",
    "print()\n",
    "print((predicted*100).astype(int)/100)\n",
    "print('char predicted:', indices_to_chars[np.argmax(predicted[0])])"
   ]
  },
  {
   "cell_type": "markdown",
   "metadata": {},
   "source": [
    "Notar como suele bajar la probabilidad de la predicción debido a que el modelo no tiene por que predecir secuencias mayores a la longitud entrenada (Aunque en ciertas circunstancias podría generalizar)"
   ]
  },
  {
   "cell_type": "code",
   "execution_count": 37,
   "metadata": {},
   "outputs": [
    {
     "name": "stdout",
     "output_type": "stream",
     "text": [
      "char de entrada: I\n",
      "         A     C     E     G     H     I     L     M     N     R     \n",
      "[[0.   0.   0.   0.49 0.   0.4  0.   0.   0.   0.05 0.02]]\n",
      "char predicted: E\n"
     ]
    }
   ],
   "source": [
    "input_char = text[4]\n",
    "print('char de entrada:',input_char)\n",
    "to_predict = chars_to_one_hot(input_char, chars, chars_to_indices, window_size)*1\n",
    "predicted = model_3s.predict(to_predict)\n",
    "print('   ', end='')\n",
    "for c in chars_to_indices.keys():\n",
    "    print(c, end='     ')\n",
    "print()\n",
    "print((predicted*100).astype(int)/100)\n",
    "print('char predicted:', indices_to_chars[np.argmax(predicted[0])])"
   ]
  },
  {
   "cell_type": "code",
   "execution_count": 38,
   "metadata": {},
   "outputs": [
    {
     "name": "stdout",
     "output_type": "stream",
     "text": [
      "char de entrada: N\n",
      "         A     C     E     G     H     I     L     M     N     R     \n",
      "[[0.02 0.   0.   0.62 0.01 0.27 0.   0.   0.   0.01 0.02]]\n",
      "char predicted: E\n"
     ]
    }
   ],
   "source": [
    "input_char = text[5]\n",
    "print('char de entrada:',input_char)\n",
    "to_predict = chars_to_one_hot(input_char, chars, chars_to_indices, window_size)*1\n",
    "predicted = model_3s.predict(to_predict)\n",
    "print('   ', end='')\n",
    "for c in chars_to_indices.keys():\n",
    "    print(c, end='     ')\n",
    "print()\n",
    "print((predicted*100).astype(int)/100)\n",
    "print('char predicted:', indices_to_chars[np.argmax(predicted[0])])"
   ]
  },
  {
   "cell_type": "markdown",
   "metadata": {},
   "source": [
    "Ya a esta altura estoy tratando de predecir algo probablemente demasiado lejano y no lo puede predecir correctamente"
   ]
  },
  {
   "cell_type": "markdown",
   "metadata": {},
   "source": [
    "Por eso, si quiero predecir una nueva secuencia de tres, tengo que resetear el estado y luego  mandar de a un caracter"
   ]
  },
  {
   "cell_type": "markdown",
   "metadata": {},
   "source": [
    "### Reseteo estado y aranco una nueva secuencia"
   ]
  },
  {
   "cell_type": "code",
   "execution_count": 39,
   "metadata": {},
   "outputs": [
    {
     "name": "stdout",
     "output_type": "stream",
     "text": [
      "char de entrada: H\n",
      "         A     C     E     G     H     I     L     M     N     R     \n",
      "[[0.02 0.03 0.01 0.01 0.03 0.04 0.65 0.02 0.02 0.09 0.03]]\n",
      "char predicted: I\n"
     ]
    }
   ],
   "source": [
    "model_3s.reset_states()\n",
    "input_char = text[3]\n",
    "print('char de entrada:',input_char)\n",
    "to_predict = chars_to_one_hot(input_char, chars, chars_to_indices, window_size)*1\n",
    "predicted = model_3s.predict(to_predict)\n",
    "print('   ', end='')\n",
    "for c in chars_to_indices.keys():\n",
    "    print(c, end='     ')\n",
    "print()\n",
    "print((predicted*100).astype(int)/100)\n",
    "print('char predicted:', indices_to_chars[np.argmax(predicted[0])])"
   ]
  },
  {
   "cell_type": "code",
   "execution_count": 40,
   "metadata": {},
   "outputs": [
    {
     "name": "stdout",
     "output_type": "stream",
     "text": [
      "char de entrada: I\n",
      "         A     C     E     G     H     I     L     M     N     R     \n",
      "[[0.   0.   0.01 0.08 0.01 0.09 0.32 0.02 0.   0.32 0.1 ]]\n",
      "char predicted: I\n"
     ]
    }
   ],
   "source": [
    "input_char = text[4]\n",
    "print('char de entrada:',input_char)\n",
    "to_predict = chars_to_one_hot(input_char, chars, chars_to_indices, window_size)*1\n",
    "predicted = model_3s.predict(to_predict)\n",
    "print('   ', end='')\n",
    "for c in chars_to_indices.keys():\n",
    "    print(c, end='     ')\n",
    "print()\n",
    "print((predicted*100).astype(int)/100)\n",
    "print('char predicted:', indices_to_chars[np.argmax(predicted[0])])"
   ]
  },
  {
   "cell_type": "code",
   "execution_count": 41,
   "metadata": {},
   "outputs": [
    {
     "name": "stdout",
     "output_type": "stream",
     "text": [
      "char de entrada: N\n",
      "         A     C     E     G     H     I     L     M     N     R     \n",
      "[[0.01 0.   0.   0.92 0.01 0.   0.   0.   0.   0.03 0.  ]]\n",
      "char predicted: E\n"
     ]
    }
   ],
   "source": [
    "input_char = text[5]\n",
    "print('char de entrada:',input_char)\n",
    "to_predict = chars_to_one_hot(input_char, chars, chars_to_indices, window_size)*1\n",
    "predicted = model_3s.predict(to_predict)\n",
    "print('   ', end='')\n",
    "for c in chars_to_indices.keys():\n",
    "    print(c, end='     ')\n",
    "print()\n",
    "print((predicted*100).astype(int)/100)\n",
    "print('char predicted:', indices_to_chars[np.argmax(predicted[0])])"
   ]
  },
  {
   "cell_type": "markdown",
   "metadata": {},
   "source": [
    "Notar que aca tiene una predicción muy alta debido a que esta secuencia fue vista por el modelo"
   ]
  },
  {
   "cell_type": "markdown",
   "metadata": {},
   "source": [
    "Conclusión importante:  \n",
    "Si puede usar la statefull para predecir, pero hay que alimentar con el largo orignal de la secuencia para que la salida empiece a tener sentido"
   ]
  },
  {
   "cell_type": "markdown",
   "metadata": {},
   "source": [
    "## Ejemplo 4: Stateful RNN\n",
    "Entreno en modo stateful"
   ]
  },
  {
   "cell_type": "code",
   "execution_count": 42,
   "metadata": {},
   "outputs": [
    {
     "data": {
      "text/plain": [
       "(['M', 'A', 'C', 'H', 'I', 'N', 'E', ' ', 'L', 'E', 'A', 'R', 'N', 'I', 'N'],\n",
       " ['A', 'C', 'H', 'I', 'N', 'E', ' ', 'L', 'E', 'A', 'R', 'N', 'I', 'N', 'G'])"
      ]
     },
     "execution_count": 42,
     "metadata": {},
     "output_type": "execute_result"
    }
   ],
   "source": [
    "window_transform_text(text, 1, 1)"
   ]
  },
  {
   "cell_type": "code",
   "execution_count": 43,
   "metadata": {},
   "outputs": [
    {
     "name": "stdout",
     "output_type": "stream",
     "text": [
      "_________________________________________________________________\n",
      "Layer (type)                 Output Shape              Param #   \n",
      "=================================================================\n",
      "simple_rnn_5 (SimpleRNN)     (1, 10)                   220       \n",
      "_________________________________________________________________\n",
      "dense_5 (Dense)              (1, 11)                   121       \n",
      "=================================================================\n",
      "Total params: 341\n",
      "Trainable params: 341\n",
      "Non-trainable params: 0\n",
      "_________________________________________________________________\n"
     ]
    }
   ],
   "source": [
    "batch_size=1\n",
    "model_4 = Sequential()\n",
    "model_4.add(SimpleRNN(10, batch_input_shape=(batch_size,1,len(chars)), stateful=True))\n",
    "model_4.add(Dense(len(chars), activation=\"softmax\"))\n",
    "model_4.summary()"
   ]
  },
  {
   "cell_type": "markdown",
   "metadata": {},
   "source": [
    "- Notar que X e y son los mismos que en el caso T = 1"
   ]
  },
  {
   "cell_type": "code",
   "execution_count": 44,
   "metadata": {},
   "outputs": [
    {
     "data": {
      "text/plain": [
       "((15, 1, 11), (15, 11))"
      ]
     },
     "execution_count": 44,
     "metadata": {},
     "output_type": "execute_result"
    }
   ],
   "source": [
    "X.shape, y.shape"
   ]
  },
  {
   "cell_type": "code",
   "execution_count": 45,
   "metadata": {},
   "outputs": [],
   "source": [
    "batch_size = 1"
   ]
  },
  {
   "cell_type": "markdown",
   "metadata": {},
   "source": [
    "### Observar: shuffle=False y stateful=True\n",
    "- Puedo usar otro batch size en este caso?\n",
    "- Por que suffle tiene que estar en false?"
   ]
  },
  {
   "cell_type": "code",
   "execution_count": 46,
   "metadata": {},
   "outputs": [
    {
     "name": "stdout",
     "output_type": "stream",
     "text": [
      "Epoch 1/1\n",
      "15/15 [==============================] - 0s 24ms/step - loss: 2.5623 - acc: 0.0000e+00\n",
      "Epoch 1/1\n",
      "15/15 [==============================] - 0s 3ms/step - loss: 2.5386 - acc: 0.0000e+00\n",
      "Epoch 1/1\n",
      "15/15 [==============================] - 0s 3ms/step - loss: 2.5195 - acc: 0.0000e+00\n",
      "Epoch 1/1\n",
      "15/15 [==============================] - 0s 3ms/step - loss: 2.5012 - acc: 0.0000e+00\n",
      "Epoch 1/1\n",
      "15/15 [==============================] - 0s 3ms/step - loss: 2.4833 - acc: 0.0667\n",
      "Epoch 1/1\n",
      "15/15 [==============================] - 0s 3ms/step - loss: 2.4657 - acc: 0.1333\n",
      "Epoch 1/1\n",
      "15/15 [==============================] - 0s 3ms/step - loss: 2.4485 - acc: 0.1333\n",
      "Epoch 1/1\n",
      "15/15 [==============================] - 0s 3ms/step - loss: 2.4316 - acc: 0.1333\n",
      "Epoch 1/1\n",
      "15/15 [==============================] - 0s 3ms/step - loss: 2.4149 - acc: 0.1333\n",
      "Epoch 1/1\n",
      "15/15 [==============================] - 0s 3ms/step - loss: 2.3985 - acc: 0.1333\n",
      "Epoch 1/1\n",
      "15/15 [==============================] - 0s 3ms/step - loss: 2.3823 - acc: 0.1333\n",
      "Epoch 1/1\n",
      "15/15 [==============================] - 0s 3ms/step - loss: 2.3663 - acc: 0.1333\n",
      "Epoch 1/1\n",
      "15/15 [==============================] - 0s 3ms/step - loss: 2.3504 - acc: 0.1333\n",
      "Epoch 1/1\n",
      "15/15 [==============================] - 0s 3ms/step - loss: 2.3347 - acc: 0.1333\n",
      "Epoch 1/1\n",
      "15/15 [==============================] - 0s 3ms/step - loss: 2.3191 - acc: 0.1333\n",
      "Epoch 1/1\n",
      "15/15 [==============================] - 0s 3ms/step - loss: 2.3037 - acc: 0.1333\n",
      "Epoch 1/1\n",
      "15/15 [==============================] - 0s 3ms/step - loss: 2.2885 - acc: 0.1333\n",
      "Epoch 1/1\n",
      "15/15 [==============================] - 0s 3ms/step - loss: 2.2733 - acc: 0.1333\n",
      "Epoch 1/1\n",
      "15/15 [==============================] - 0s 3ms/step - loss: 2.2583 - acc: 0.1333\n",
      "Epoch 1/1\n",
      "15/15 [==============================] - 0s 3ms/step - loss: 2.2435 - acc: 0.1333\n",
      "Epoch 1/1\n",
      "15/15 [==============================] - 0s 3ms/step - loss: 2.2288 - acc: 0.2000\n",
      "Epoch 1/1\n",
      "15/15 [==============================] - 0s 3ms/step - loss: 2.2142 - acc: 0.2000\n",
      "Epoch 1/1\n",
      "15/15 [==============================] - 0s 3ms/step - loss: 2.1997 - acc: 0.2000\n",
      "Epoch 1/1\n",
      "15/15 [==============================] - 0s 3ms/step - loss: 2.1854 - acc: 0.2667\n",
      "Epoch 1/1\n",
      "15/15 [==============================] - 0s 3ms/step - loss: 2.1713 - acc: 0.2667\n",
      "Epoch 1/1\n",
      "15/15 [==============================] - 0s 3ms/step - loss: 2.1572 - acc: 0.2667\n",
      "Epoch 1/1\n",
      "15/15 [==============================] - 0s 3ms/step - loss: 2.1434 - acc: 0.2667\n",
      "Epoch 1/1\n",
      "15/15 [==============================] - 0s 3ms/step - loss: 2.1296 - acc: 0.2667\n",
      "Epoch 1/1\n",
      "15/15 [==============================] - 0s 3ms/step - loss: 2.1161 - acc: 0.2667\n",
      "Epoch 1/1\n",
      "15/15 [==============================] - 0s 3ms/step - loss: 2.1027 - acc: 0.2667\n",
      "Epoch 1/1\n",
      "15/15 [==============================] - 0s 3ms/step - loss: 2.0894 - acc: 0.2667\n",
      "Epoch 1/1\n",
      "15/15 [==============================] - 0s 3ms/step - loss: 2.0763 - acc: 0.2667\n",
      "Epoch 1/1\n",
      "15/15 [==============================] - 0s 3ms/step - loss: 2.0634 - acc: 0.2667\n",
      "Epoch 1/1\n",
      "15/15 [==============================] - 0s 3ms/step - loss: 2.0507 - acc: 0.2667\n",
      "Epoch 1/1\n",
      "15/15 [==============================] - 0s 3ms/step - loss: 2.0381 - acc: 0.2667\n",
      "Epoch 1/1\n",
      "15/15 [==============================] - 0s 3ms/step - loss: 2.0257 - acc: 0.2667\n",
      "Epoch 1/1\n",
      "15/15 [==============================] - 0s 3ms/step - loss: 2.0135 - acc: 0.2667\n",
      "Epoch 1/1\n",
      "15/15 [==============================] - 0s 3ms/step - loss: 2.0014 - acc: 0.2667\n",
      "Epoch 1/1\n",
      "15/15 [==============================] - 0s 3ms/step - loss: 1.9895 - acc: 0.2667\n",
      "Epoch 1/1\n",
      "15/15 [==============================] - 0s 3ms/step - loss: 1.9777 - acc: 0.2667\n",
      "Epoch 1/1\n",
      "15/15 [==============================] - 0s 3ms/step - loss: 1.9661 - acc: 0.2667\n",
      "Epoch 1/1\n",
      "15/15 [==============================] - 0s 3ms/step - loss: 1.9547 - acc: 0.2667\n",
      "Epoch 1/1\n",
      "15/15 [==============================] - 0s 3ms/step - loss: 1.9435 - acc: 0.2667\n",
      "Epoch 1/1\n",
      "15/15 [==============================] - 0s 3ms/step - loss: 1.9324 - acc: 0.2667\n",
      "Epoch 1/1\n",
      "15/15 [==============================] - 0s 3ms/step - loss: 1.9214 - acc: 0.2667\n",
      "Epoch 1/1\n",
      "15/15 [==============================] - 0s 3ms/step - loss: 1.9106 - acc: 0.2667\n",
      "Epoch 1/1\n",
      "15/15 [==============================] - 0s 3ms/step - loss: 1.9000 - acc: 0.2667\n",
      "Epoch 1/1\n",
      "15/15 [==============================] - 0s 3ms/step - loss: 1.8895 - acc: 0.2667\n",
      "Epoch 1/1\n",
      "15/15 [==============================] - 0s 4ms/step - loss: 1.8791 - acc: 0.3333\n",
      "Epoch 1/1\n",
      "15/15 [==============================] - 0s 3ms/step - loss: 1.8689 - acc: 0.4000\n",
      "Epoch 1/1\n",
      "15/15 [==============================] - 0s 3ms/step - loss: 1.8588 - acc: 0.4000\n",
      "Epoch 1/1\n",
      "15/15 [==============================] - 0s 3ms/step - loss: 1.8488 - acc: 0.4000\n",
      "Epoch 1/1\n",
      "15/15 [==============================] - 0s 3ms/step - loss: 1.8390 - acc: 0.4000\n",
      "Epoch 1/1\n",
      "15/15 [==============================] - 0s 3ms/step - loss: 1.8292 - acc: 0.4000\n",
      "Epoch 1/1\n",
      "15/15 [==============================] - 0s 3ms/step - loss: 1.8195 - acc: 0.4000\n",
      "Epoch 1/1\n",
      "15/15 [==============================] - 0s 3ms/step - loss: 1.8099 - acc: 0.4000\n",
      "Epoch 1/1\n",
      "15/15 [==============================] - 0s 3ms/step - loss: 1.8003 - acc: 0.4000\n",
      "Epoch 1/1\n",
      "15/15 [==============================] - 0s 3ms/step - loss: 1.7909 - acc: 0.4000\n",
      "Epoch 1/1\n",
      "15/15 [==============================] - 0s 3ms/step - loss: 1.7814 - acc: 0.4000\n",
      "Epoch 1/1\n",
      "15/15 [==============================] - 0s 3ms/step - loss: 1.7720 - acc: 0.4000\n",
      "Epoch 1/1\n",
      "15/15 [==============================] - 0s 3ms/step - loss: 1.7627 - acc: 0.4000\n",
      "Epoch 1/1\n",
      "15/15 [==============================] - 0s 3ms/step - loss: 1.7533 - acc: 0.4000\n",
      "Epoch 1/1\n",
      "15/15 [==============================] - 0s 4ms/step - loss: 1.7439 - acc: 0.4000\n",
      "Epoch 1/1\n",
      "15/15 [==============================] - 0s 3ms/step - loss: 1.7345 - acc: 0.4000\n",
      "Epoch 1/1\n",
      "15/15 [==============================] - 0s 3ms/step - loss: 1.7250 - acc: 0.3333\n",
      "Epoch 1/1\n",
      "15/15 [==============================] - 0s 3ms/step - loss: 1.7155 - acc: 0.3333\n",
      "Epoch 1/1\n",
      "15/15 [==============================] - 0s 3ms/step - loss: 1.7059 - acc: 0.3333\n",
      "Epoch 1/1\n",
      "15/15 [==============================] - 0s 3ms/step - loss: 1.6962 - acc: 0.3333\n",
      "Epoch 1/1\n",
      "15/15 [==============================] - 0s 3ms/step - loss: 1.6864 - acc: 0.3333\n",
      "Epoch 1/1\n",
      "15/15 [==============================] - 0s 3ms/step - loss: 1.6764 - acc: 0.3333\n",
      "Epoch 1/1\n",
      "15/15 [==============================] - 0s 3ms/step - loss: 1.6663 - acc: 0.4000\n",
      "Epoch 1/1\n",
      "15/15 [==============================] - 0s 3ms/step - loss: 1.6560 - acc: 0.4000\n",
      "Epoch 1/1\n",
      "15/15 [==============================] - 0s 3ms/step - loss: 1.6456 - acc: 0.4000\n",
      "Epoch 1/1\n",
      "15/15 [==============================] - 0s 3ms/step - loss: 1.6350 - acc: 0.4000\n",
      "Epoch 1/1\n",
      "15/15 [==============================] - 0s 3ms/step - loss: 1.6243 - acc: 0.3333\n",
      "Epoch 1/1\n",
      "15/15 [==============================] - 0s 3ms/step - loss: 1.6134 - acc: 0.3333\n",
      "Epoch 1/1\n",
      "15/15 [==============================] - 0s 3ms/step - loss: 1.6023 - acc: 0.3333\n",
      "Epoch 1/1\n",
      "15/15 [==============================] - 0s 3ms/step - loss: 1.5912 - acc: 0.3333\n",
      "Epoch 1/1\n",
      "15/15 [==============================] - 0s 3ms/step - loss: 1.5799 - acc: 0.4000\n",
      "Epoch 1/1\n",
      "15/15 [==============================] - 0s 3ms/step - loss: 1.5685 - acc: 0.4000\n",
      "Epoch 1/1\n",
      "15/15 [==============================] - 0s 3ms/step - loss: 1.5570 - acc: 0.4000\n",
      "Epoch 1/1\n",
      "15/15 [==============================] - 0s 3ms/step - loss: 1.5454 - acc: 0.4000\n",
      "Epoch 1/1\n",
      "15/15 [==============================] - 0s 3ms/step - loss: 1.5337 - acc: 0.4667\n",
      "Epoch 1/1\n",
      "15/15 [==============================] - 0s 3ms/step - loss: 1.5219 - acc: 0.4667\n",
      "Epoch 1/1\n",
      "15/15 [==============================] - 0s 3ms/step - loss: 1.5100 - acc: 0.4667\n",
      "Epoch 1/1\n",
      "15/15 [==============================] - 0s 3ms/step - loss: 1.4981 - acc: 0.4667\n",
      "Epoch 1/1\n",
      "15/15 [==============================] - 0s 3ms/step - loss: 1.4861 - acc: 0.4667\n",
      "Epoch 1/1\n",
      "15/15 [==============================] - 0s 3ms/step - loss: 1.4741 - acc: 0.4667\n",
      "Epoch 1/1\n",
      "15/15 [==============================] - 0s 3ms/step - loss: 1.4620 - acc: 0.4667\n",
      "Epoch 1/1\n",
      "15/15 [==============================] - 0s 3ms/step - loss: 1.4498 - acc: 0.4667\n",
      "Epoch 1/1\n",
      "15/15 [==============================] - 0s 3ms/step - loss: 1.4377 - acc: 0.4667\n",
      "Epoch 1/1\n",
      "15/15 [==============================] - 0s 3ms/step - loss: 1.4254 - acc: 0.4667\n",
      "Epoch 1/1\n",
      "15/15 [==============================] - 0s 3ms/step - loss: 1.4132 - acc: 0.4667\n",
      "Epoch 1/1\n",
      "15/15 [==============================] - 0s 3ms/step - loss: 1.4009 - acc: 0.4667\n",
      "Epoch 1/1\n",
      "15/15 [==============================] - 0s 3ms/step - loss: 1.3885 - acc: 0.4667\n",
      "Epoch 1/1\n",
      "15/15 [==============================] - 0s 3ms/step - loss: 1.3761 - acc: 0.4667\n",
      "Epoch 1/1\n",
      "15/15 [==============================] - 0s 3ms/step - loss: 1.3637 - acc: 0.4667\n",
      "Epoch 1/1\n",
      "15/15 [==============================] - 0s 3ms/step - loss: 1.3512 - acc: 0.4667\n",
      "Epoch 1/1\n",
      "15/15 [==============================] - 0s 3ms/step - loss: 1.3386 - acc: 0.5333\n",
      "Epoch 1/1\n",
      "15/15 [==============================] - 0s 3ms/step - loss: 1.3260 - acc: 0.5333\n",
      "Epoch 1/1\n",
      "15/15 [==============================] - 0s 3ms/step - loss: 1.3134 - acc: 0.5333\n",
      "Epoch 1/1\n",
      "15/15 [==============================] - 0s 3ms/step - loss: 1.3008 - acc: 0.5333\n",
      "Epoch 1/1\n",
      "15/15 [==============================] - 0s 3ms/step - loss: 1.2881 - acc: 0.6000\n",
      "Epoch 1/1\n",
      "15/15 [==============================] - 0s 3ms/step - loss: 1.2755 - acc: 0.6000\n",
      "Epoch 1/1\n",
      "15/15 [==============================] - 0s 3ms/step - loss: 1.2629 - acc: 0.6000\n",
      "Epoch 1/1\n",
      "15/15 [==============================] - 0s 3ms/step - loss: 1.2503 - acc: 0.6000\n",
      "Epoch 1/1\n",
      "15/15 [==============================] - 0s 3ms/step - loss: 1.2377 - acc: 0.6000\n",
      "Epoch 1/1\n",
      "15/15 [==============================] - 0s 3ms/step - loss: 1.2253 - acc: 0.6000\n",
      "Epoch 1/1\n",
      "15/15 [==============================] - 0s 3ms/step - loss: 1.2129 - acc: 0.6000\n",
      "Epoch 1/1\n",
      "15/15 [==============================] - 0s 3ms/step - loss: 1.2007 - acc: 0.6000\n",
      "Epoch 1/1\n",
      "15/15 [==============================] - 0s 3ms/step - loss: 1.1886 - acc: 0.6000\n",
      "Epoch 1/1\n",
      "15/15 [==============================] - 0s 3ms/step - loss: 1.1766 - acc: 0.6667\n",
      "Epoch 1/1\n",
      "15/15 [==============================] - 0s 3ms/step - loss: 1.1648 - acc: 0.6667\n",
      "Epoch 1/1\n",
      "15/15 [==============================] - 0s 3ms/step - loss: 1.1531 - acc: 0.6667\n",
      "Epoch 1/1\n",
      "15/15 [==============================] - 0s 3ms/step - loss: 1.1416 - acc: 0.6667\n",
      "Epoch 1/1\n",
      "15/15 [==============================] - 0s 3ms/step - loss: 1.1302 - acc: 0.6667\n",
      "Epoch 1/1\n",
      "15/15 [==============================] - 0s 3ms/step - loss: 1.1191 - acc: 0.6667\n",
      "Epoch 1/1\n",
      "15/15 [==============================] - 0s 3ms/step - loss: 1.1081 - acc: 0.6667\n",
      "Epoch 1/1\n",
      "15/15 [==============================] - 0s 3ms/step - loss: 1.0973 - acc: 0.6667\n",
      "Epoch 1/1\n",
      "15/15 [==============================] - 0s 3ms/step - loss: 1.0866 - acc: 0.6667\n",
      "Epoch 1/1\n",
      "15/15 [==============================] - 0s 3ms/step - loss: 1.0762 - acc: 0.6667\n",
      "Epoch 1/1\n",
      "15/15 [==============================] - 0s 3ms/step - loss: 1.0659 - acc: 0.6667\n",
      "Epoch 1/1\n",
      "15/15 [==============================] - 0s 3ms/step - loss: 1.0559 - acc: 0.6667\n",
      "Epoch 1/1\n",
      "15/15 [==============================] - 0s 3ms/step - loss: 1.0460 - acc: 0.6667\n",
      "Epoch 1/1\n",
      "15/15 [==============================] - 0s 3ms/step - loss: 1.0364 - acc: 0.7333\n",
      "Epoch 1/1\n",
      "15/15 [==============================] - 0s 3ms/step - loss: 1.0269 - acc: 0.7333\n",
      "Epoch 1/1\n",
      "15/15 [==============================] - 0s 4ms/step - loss: 1.0176 - acc: 0.7333\n",
      "Epoch 1/1\n",
      "15/15 [==============================] - 0s 3ms/step - loss: 1.0086 - acc: 0.7333\n",
      "Epoch 1/1\n",
      "15/15 [==============================] - 0s 3ms/step - loss: 0.9998 - acc: 0.7333\n",
      "Epoch 1/1\n",
      "15/15 [==============================] - 0s 3ms/step - loss: 0.9912 - acc: 0.7333\n",
      "Epoch 1/1\n",
      "15/15 [==============================] - 0s 3ms/step - loss: 0.9828 - acc: 0.7333\n",
      "Epoch 1/1\n",
      "15/15 [==============================] - 0s 3ms/step - loss: 0.9747 - acc: 0.7333\n",
      "Epoch 1/1\n",
      "15/15 [==============================] - 0s 3ms/step - loss: 0.9668 - acc: 0.7333\n",
      "Epoch 1/1\n",
      "15/15 [==============================] - 0s 3ms/step - loss: 0.9591 - acc: 0.7333\n",
      "Epoch 1/1\n",
      "15/15 [==============================] - 0s 3ms/step - loss: 0.9517 - acc: 0.7333\n",
      "Epoch 1/1\n",
      "15/15 [==============================] - 0s 3ms/step - loss: 0.9445 - acc: 0.7333\n",
      "Epoch 1/1\n",
      "15/15 [==============================] - 0s 3ms/step - loss: 0.9376 - acc: 0.7333\n",
      "Epoch 1/1\n",
      "15/15 [==============================] - 0s 3ms/step - loss: 0.9309 - acc: 0.7333\n",
      "Epoch 1/1\n",
      "15/15 [==============================] - 0s 3ms/step - loss: 0.9244 - acc: 0.7333\n",
      "Epoch 1/1\n",
      "15/15 [==============================] - 0s 3ms/step - loss: 0.9182 - acc: 0.7333\n",
      "Epoch 1/1\n",
      "15/15 [==============================] - 0s 3ms/step - loss: 0.9121 - acc: 0.7333\n",
      "Epoch 1/1\n",
      "15/15 [==============================] - 0s 3ms/step - loss: 0.9063 - acc: 0.8000\n",
      "Epoch 1/1\n",
      "15/15 [==============================] - 0s 3ms/step - loss: 0.9007 - acc: 0.8000\n",
      "Epoch 1/1\n",
      "15/15 [==============================] - 0s 3ms/step - loss: 0.8952 - acc: 0.8000\n",
      "Epoch 1/1\n",
      "15/15 [==============================] - 0s 3ms/step - loss: 0.8900 - acc: 0.8000\n",
      "Epoch 1/1\n",
      "15/15 [==============================] - 0s 3ms/step - loss: 0.8849 - acc: 0.8000\n",
      "Epoch 1/1\n",
      "15/15 [==============================] - 0s 3ms/step - loss: 0.8800 - acc: 0.8000\n",
      "Epoch 1/1\n",
      "15/15 [==============================] - 0s 3ms/step - loss: 0.8752 - acc: 0.8000\n",
      "Epoch 1/1\n",
      "15/15 [==============================] - 0s 3ms/step - loss: 0.8705 - acc: 0.8000\n",
      "Epoch 1/1\n",
      "15/15 [==============================] - 0s 3ms/step - loss: 0.8660 - acc: 0.8000\n",
      "Epoch 1/1\n",
      "15/15 [==============================] - 0s 3ms/step - loss: 0.8615 - acc: 0.8000\n",
      "Epoch 1/1\n",
      "15/15 [==============================] - 0s 3ms/step - loss: 0.8572 - acc: 0.8000\n",
      "Epoch 1/1\n",
      "15/15 [==============================] - 0s 3ms/step - loss: 0.8530 - acc: 0.8000\n",
      "Epoch 1/1\n",
      "15/15 [==============================] - 0s 3ms/step - loss: 0.8488 - acc: 0.8000\n",
      "Epoch 1/1\n",
      "15/15 [==============================] - 0s 3ms/step - loss: 0.8448 - acc: 0.8000\n",
      "Epoch 1/1\n",
      "15/15 [==============================] - 0s 3ms/step - loss: 0.8408 - acc: 0.8000\n",
      "Epoch 1/1\n",
      "15/15 [==============================] - 0s 3ms/step - loss: 0.8369 - acc: 0.8000\n",
      "Epoch 1/1\n",
      "15/15 [==============================] - 0s 3ms/step - loss: 0.8330 - acc: 0.8000\n",
      "Epoch 1/1\n",
      "15/15 [==============================] - 0s 3ms/step - loss: 0.8292 - acc: 0.8000\n",
      "Epoch 1/1\n",
      "15/15 [==============================] - 0s 3ms/step - loss: 0.8255 - acc: 0.8000\n",
      "Epoch 1/1\n",
      "15/15 [==============================] - 0s 3ms/step - loss: 0.8218 - acc: 0.8000\n",
      "Epoch 1/1\n",
      "15/15 [==============================] - 0s 3ms/step - loss: 0.8182 - acc: 0.8000\n",
      "Epoch 1/1\n",
      "15/15 [==============================] - 0s 3ms/step - loss: 0.8146 - acc: 0.8667\n",
      "Epoch 1/1\n",
      "15/15 [==============================] - 0s 3ms/step - loss: 0.8110 - acc: 0.8667\n",
      "Epoch 1/1\n",
      "15/15 [==============================] - 0s 3ms/step - loss: 0.8075 - acc: 0.8667\n",
      "Epoch 1/1\n",
      "15/15 [==============================] - 0s 3ms/step - loss: 0.8040 - acc: 0.8667\n",
      "Epoch 1/1\n",
      "15/15 [==============================] - 0s 3ms/step - loss: 0.8006 - acc: 0.8667\n",
      "Epoch 1/1\n",
      "15/15 [==============================] - 0s 3ms/step - loss: 0.7972 - acc: 0.8667\n",
      "Epoch 1/1\n",
      "15/15 [==============================] - 0s 3ms/step - loss: 0.7939 - acc: 0.8667\n",
      "Epoch 1/1\n",
      "15/15 [==============================] - 0s 3ms/step - loss: 0.7905 - acc: 0.8667\n",
      "Epoch 1/1\n",
      "15/15 [==============================] - 0s 3ms/step - loss: 0.7872 - acc: 0.8667\n",
      "Epoch 1/1\n",
      "15/15 [==============================] - 0s 3ms/step - loss: 0.7840 - acc: 0.8667\n",
      "Epoch 1/1\n",
      "15/15 [==============================] - 0s 3ms/step - loss: 0.7808 - acc: 0.8667\n",
      "Epoch 1/1\n",
      "15/15 [==============================] - 0s 3ms/step - loss: 0.7776 - acc: 0.8667\n",
      "Epoch 1/1\n",
      "15/15 [==============================] - 0s 3ms/step - loss: 0.7744 - acc: 0.8667\n",
      "Epoch 1/1\n",
      "15/15 [==============================] - 0s 3ms/step - loss: 0.7713 - acc: 0.8667\n",
      "Epoch 1/1\n",
      "15/15 [==============================] - 0s 3ms/step - loss: 0.7682 - acc: 0.8667\n",
      "Epoch 1/1\n",
      "15/15 [==============================] - 0s 3ms/step - loss: 0.7651 - acc: 0.8667\n",
      "Epoch 1/1\n",
      "15/15 [==============================] - 0s 3ms/step - loss: 0.7620 - acc: 0.8667\n",
      "Epoch 1/1\n",
      "15/15 [==============================] - 0s 3ms/step - loss: 0.7590 - acc: 0.8667\n",
      "Epoch 1/1\n",
      "15/15 [==============================] - 0s 3ms/step - loss: 0.7560 - acc: 0.8667\n",
      "Epoch 1/1\n",
      "15/15 [==============================] - 0s 3ms/step - loss: 0.7530 - acc: 0.8667\n",
      "Epoch 1/1\n",
      "15/15 [==============================] - 0s 3ms/step - loss: 0.7501 - acc: 0.8667\n",
      "Epoch 1/1\n",
      "15/15 [==============================] - 0s 3ms/step - loss: 0.7472 - acc: 0.8667\n",
      "Epoch 1/1\n",
      "15/15 [==============================] - 0s 3ms/step - loss: 0.7443 - acc: 0.8667\n",
      "Epoch 1/1\n",
      "15/15 [==============================] - 0s 3ms/step - loss: 0.7414 - acc: 0.8667\n",
      "Epoch 1/1\n",
      "15/15 [==============================] - 0s 3ms/step - loss: 0.7386 - acc: 0.8667\n",
      "Epoch 1/1\n",
      "15/15 [==============================] - 0s 3ms/step - loss: 0.7358 - acc: 0.8667\n",
      "Epoch 1/1\n",
      "15/15 [==============================] - 0s 3ms/step - loss: 0.7330 - acc: 0.8667\n",
      "Epoch 1/1\n",
      "15/15 [==============================] - 0s 3ms/step - loss: 0.7302 - acc: 0.8667\n",
      "Epoch 1/1\n",
      "15/15 [==============================] - 0s 3ms/step - loss: 0.7274 - acc: 0.8667\n",
      "Epoch 1/1\n",
      "15/15 [==============================] - 0s 4ms/step - loss: 0.7247 - acc: 0.8667\n",
      "Epoch 1/1\n",
      "15/15 [==============================] - 0s 3ms/step - loss: 0.7219 - acc: 0.8667\n",
      "Epoch 1/1\n",
      "15/15 [==============================] - 0s 3ms/step - loss: 0.7191 - acc: 0.8667\n",
      "Epoch 1/1\n",
      "15/15 [==============================] - 0s 3ms/step - loss: 0.7164 - acc: 0.8667\n",
      "Epoch 1/1\n",
      "15/15 [==============================] - 0s 3ms/step - loss: 0.7136 - acc: 0.8667\n",
      "Epoch 1/1\n",
      "15/15 [==============================] - 0s 3ms/step - loss: 0.7107 - acc: 0.9333\n",
      "Epoch 1/1\n",
      "15/15 [==============================] - 0s 3ms/step - loss: 0.7079 - acc: 0.9333\n",
      "Epoch 1/1\n",
      "15/15 [==============================] - 0s 3ms/step - loss: 0.7050 - acc: 0.9333\n",
      "Epoch 1/1\n",
      "15/15 [==============================] - 0s 3ms/step - loss: 0.7020 - acc: 0.9333\n",
      "Epoch 1/1\n",
      "15/15 [==============================] - 0s 3ms/step - loss: 0.6990 - acc: 0.9333\n",
      "Epoch 1/1\n",
      "15/15 [==============================] - 0s 3ms/step - loss: 0.6960 - acc: 0.9333\n",
      "Epoch 1/1\n",
      "15/15 [==============================] - 0s 3ms/step - loss: 0.6928 - acc: 0.9333\n",
      "Epoch 1/1\n",
      "15/15 [==============================] - 0s 3ms/step - loss: 0.6896 - acc: 0.9333\n",
      "Epoch 1/1\n",
      "15/15 [==============================] - 0s 3ms/step - loss: 0.6864 - acc: 0.9333\n",
      "Epoch 1/1\n",
      "15/15 [==============================] - 0s 3ms/step - loss: 0.6831 - acc: 0.9333\n",
      "Epoch 1/1\n",
      "15/15 [==============================] - 0s 3ms/step - loss: 0.6798 - acc: 0.9333\n",
      "Epoch 1/1\n",
      "15/15 [==============================] - 0s 3ms/step - loss: 0.6764 - acc: 0.9333\n",
      "Epoch 1/1\n",
      "15/15 [==============================] - 0s 3ms/step - loss: 0.6731 - acc: 0.9333\n",
      "Epoch 1/1\n",
      "15/15 [==============================] - 0s 3ms/step - loss: 0.6697 - acc: 0.9333\n",
      "Epoch 1/1\n",
      "15/15 [==============================] - 0s 3ms/step - loss: 0.6663 - acc: 0.9333\n",
      "Epoch 1/1\n",
      "15/15 [==============================] - 0s 3ms/step - loss: 0.6629 - acc: 0.9333\n",
      "Epoch 1/1\n",
      "15/15 [==============================] - 0s 3ms/step - loss: 0.6595 - acc: 0.9333\n",
      "Epoch 1/1\n",
      "15/15 [==============================] - 0s 3ms/step - loss: 0.6559 - acc: 0.9333\n",
      "Epoch 1/1\n",
      "15/15 [==============================] - 0s 3ms/step - loss: 0.6523 - acc: 0.9333\n",
      "Epoch 1/1\n",
      "15/15 [==============================] - 0s 3ms/step - loss: 0.6485 - acc: 0.9333\n",
      "Epoch 1/1\n",
      "15/15 [==============================] - 0s 3ms/step - loss: 0.6446 - acc: 0.9333\n",
      "Epoch 1/1\n",
      "15/15 [==============================] - 0s 3ms/step - loss: 0.6405 - acc: 0.9333\n",
      "Epoch 1/1\n",
      "15/15 [==============================] - 0s 3ms/step - loss: 0.6362 - acc: 0.8667\n",
      "Epoch 1/1\n",
      "15/15 [==============================] - 0s 3ms/step - loss: 0.6318 - acc: 0.8667\n",
      "Epoch 1/1\n",
      "15/15 [==============================] - 0s 3ms/step - loss: 0.6273 - acc: 0.8667\n",
      "Epoch 1/1\n",
      "15/15 [==============================] - 0s 3ms/step - loss: 0.6227 - acc: 0.8667\n",
      "Epoch 1/1\n",
      "15/15 [==============================] - 0s 3ms/step - loss: 0.6181 - acc: 0.8667\n",
      "Epoch 1/1\n",
      "15/15 [==============================] - 0s 3ms/step - loss: 0.6133 - acc: 0.8667\n",
      "Epoch 1/1\n",
      "15/15 [==============================] - 0s 3ms/step - loss: 0.6084 - acc: 0.8667\n",
      "Epoch 1/1\n",
      "15/15 [==============================] - 0s 3ms/step - loss: 0.6033 - acc: 0.8667\n",
      "Epoch 1/1\n",
      "15/15 [==============================] - 0s 3ms/step - loss: 0.5979 - acc: 0.8667\n",
      "Epoch 1/1\n",
      "15/15 [==============================] - 0s 3ms/step - loss: 0.5920 - acc: 0.8667\n",
      "Epoch 1/1\n",
      "15/15 [==============================] - 0s 3ms/step - loss: 0.5857 - acc: 0.8667\n",
      "Epoch 1/1\n",
      "15/15 [==============================] - 0s 3ms/step - loss: 0.5790 - acc: 0.8667\n",
      "Epoch 1/1\n",
      "15/15 [==============================] - 0s 3ms/step - loss: 0.5719 - acc: 0.8667\n",
      "Epoch 1/1\n",
      "15/15 [==============================] - 0s 3ms/step - loss: 0.5646 - acc: 0.8667\n",
      "Epoch 1/1\n",
      "15/15 [==============================] - 0s 3ms/step - loss: 0.5573 - acc: 0.8667\n",
      "Epoch 1/1\n",
      "15/15 [==============================] - 0s 3ms/step - loss: 0.5500 - acc: 0.8667\n",
      "Epoch 1/1\n",
      "15/15 [==============================] - 0s 3ms/step - loss: 0.5430 - acc: 0.8667\n",
      "Epoch 1/1\n",
      "15/15 [==============================] - 0s 3ms/step - loss: 0.5364 - acc: 0.8667\n",
      "Epoch 1/1\n",
      "15/15 [==============================] - 0s 3ms/step - loss: 0.5303 - acc: 0.8667\n",
      "Epoch 1/1\n",
      "15/15 [==============================] - 0s 3ms/step - loss: 0.5246 - acc: 0.8667\n",
      "Epoch 1/1\n",
      "15/15 [==============================] - 0s 3ms/step - loss: 0.5194 - acc: 0.8667\n",
      "Epoch 1/1\n",
      "15/15 [==============================] - 0s 3ms/step - loss: 0.5147 - acc: 0.8667\n",
      "Epoch 1/1\n",
      "15/15 [==============================] - 0s 3ms/step - loss: 0.5106 - acc: 0.8667\n",
      "Epoch 1/1\n",
      "15/15 [==============================] - 0s 3ms/step - loss: 0.5071 - acc: 0.8667\n",
      "Epoch 1/1\n",
      "15/15 [==============================] - 0s 3ms/step - loss: 0.5043 - acc: 0.8667\n",
      "Epoch 1/1\n",
      "15/15 [==============================] - 0s 3ms/step - loss: 0.5019 - acc: 0.8667\n",
      "Epoch 1/1\n",
      "15/15 [==============================] - 0s 3ms/step - loss: 0.5002 - acc: 0.8667\n",
      "Epoch 1/1\n",
      "15/15 [==============================] - 0s 3ms/step - loss: 0.4988 - acc: 0.8667\n",
      "Epoch 1/1\n",
      "15/15 [==============================] - 0s 3ms/step - loss: 0.4979 - acc: 0.8667\n",
      "Epoch 1/1\n",
      "15/15 [==============================] - 0s 3ms/step - loss: 0.4972 - acc: 0.8667\n",
      "Epoch 1/1\n",
      "15/15 [==============================] - 0s 3ms/step - loss: 0.4966 - acc: 0.8667\n",
      "Epoch 1/1\n",
      "15/15 [==============================] - 0s 3ms/step - loss: 0.4959 - acc: 0.8667\n",
      "Epoch 1/1\n",
      "15/15 [==============================] - 0s 3ms/step - loss: 0.4950 - acc: 0.8667\n",
      "Epoch 1/1\n",
      "15/15 [==============================] - 0s 3ms/step - loss: 0.4936 - acc: 0.8667\n",
      "Epoch 1/1\n",
      "15/15 [==============================] - 0s 3ms/step - loss: 0.4917 - acc: 0.8667\n",
      "Epoch 1/1\n",
      "15/15 [==============================] - 0s 3ms/step - loss: 0.4890 - acc: 0.8667\n",
      "Epoch 1/1\n",
      "15/15 [==============================] - 0s 3ms/step - loss: 0.4857 - acc: 0.8667\n",
      "Epoch 1/1\n",
      "15/15 [==============================] - 0s 3ms/step - loss: 0.4821 - acc: 0.8667\n",
      "Epoch 1/1\n",
      "15/15 [==============================] - 0s 3ms/step - loss: 0.4784 - acc: 0.8667\n",
      "Epoch 1/1\n",
      "15/15 [==============================] - 0s 3ms/step - loss: 0.4748 - acc: 0.8667\n",
      "Epoch 1/1\n",
      "15/15 [==============================] - 0s 4ms/step - loss: 0.4710 - acc: 0.8667\n",
      "Epoch 1/1\n",
      "15/15 [==============================] - 0s 3ms/step - loss: 0.4665 - acc: 0.8667\n",
      "Epoch 1/1\n",
      "15/15 [==============================] - 0s 3ms/step - loss: 0.4609 - acc: 0.8667\n",
      "Epoch 1/1\n",
      "15/15 [==============================] - 0s 3ms/step - loss: 0.4542 - acc: 0.8667\n",
      "Epoch 1/1\n",
      "15/15 [==============================] - 0s 3ms/step - loss: 0.4467 - acc: 0.8667\n",
      "Epoch 1/1\n",
      "15/15 [==============================] - 0s 3ms/step - loss: 0.4388 - acc: 0.8667\n",
      "Epoch 1/1\n",
      "15/15 [==============================] - 0s 3ms/step - loss: 0.4310 - acc: 0.9333\n",
      "Epoch 1/1\n",
      "15/15 [==============================] - 0s 3ms/step - loss: 0.4234 - acc: 0.9333\n",
      "Epoch 1/1\n",
      "15/15 [==============================] - 0s 3ms/step - loss: 0.4163 - acc: 1.0000\n",
      "Epoch 1/1\n",
      "15/15 [==============================] - 0s 3ms/step - loss: 0.4096 - acc: 1.0000\n",
      "Epoch 1/1\n",
      "15/15 [==============================] - 0s 3ms/step - loss: 0.4036 - acc: 1.0000\n",
      "Epoch 1/1\n",
      "15/15 [==============================] - 0s 3ms/step - loss: 0.3981 - acc: 1.0000\n",
      "Epoch 1/1\n",
      "15/15 [==============================] - 0s 3ms/step - loss: 0.3932 - acc: 1.0000\n",
      "Epoch 1/1\n",
      "15/15 [==============================] - 0s 3ms/step - loss: 0.3887 - acc: 1.0000\n",
      "Epoch 1/1\n",
      "15/15 [==============================] - 0s 3ms/step - loss: 0.3847 - acc: 1.0000\n",
      "Epoch 1/1\n",
      "15/15 [==============================] - 0s 3ms/step - loss: 0.3811 - acc: 1.0000\n",
      "Epoch 1/1\n",
      "15/15 [==============================] - 0s 3ms/step - loss: 0.3778 - acc: 1.0000\n",
      "Epoch 1/1\n",
      "15/15 [==============================] - 0s 3ms/step - loss: 0.3748 - acc: 1.0000\n",
      "Epoch 1/1\n",
      "15/15 [==============================] - 0s 3ms/step - loss: 0.3720 - acc: 1.0000\n",
      "Epoch 1/1\n",
      "15/15 [==============================] - 0s 3ms/step - loss: 0.3693 - acc: 1.0000\n",
      "Epoch 1/1\n",
      "15/15 [==============================] - 0s 3ms/step - loss: 0.3667 - acc: 1.0000\n",
      "Epoch 1/1\n",
      "15/15 [==============================] - 0s 3ms/step - loss: 0.3642 - acc: 1.0000\n",
      "Epoch 1/1\n",
      "15/15 [==============================] - 0s 3ms/step - loss: 0.3617 - acc: 1.0000\n",
      "Epoch 1/1\n",
      "15/15 [==============================] - 0s 3ms/step - loss: 0.3593 - acc: 1.0000\n",
      "Epoch 1/1\n",
      "15/15 [==============================] - 0s 3ms/step - loss: 0.3570 - acc: 1.0000\n",
      "Epoch 1/1\n",
      "15/15 [==============================] - 0s 3ms/step - loss: 0.3547 - acc: 1.0000\n",
      "Epoch 1/1\n",
      "15/15 [==============================] - 0s 3ms/step - loss: 0.3525 - acc: 1.0000\n",
      "Epoch 1/1\n",
      "15/15 [==============================] - 0s 3ms/step - loss: 0.3506 - acc: 1.0000\n",
      "Epoch 1/1\n",
      "15/15 [==============================] - 0s 3ms/step - loss: 0.3488 - acc: 1.0000\n",
      "Epoch 1/1\n",
      "15/15 [==============================] - 0s 3ms/step - loss: 0.3474 - acc: 1.0000\n",
      "Epoch 1/1\n",
      "15/15 [==============================] - 0s 3ms/step - loss: 0.3464 - acc: 1.0000\n",
      "Epoch 1/1\n",
      "15/15 [==============================] - 0s 3ms/step - loss: 0.3459 - acc: 1.0000\n",
      "Epoch 1/1\n",
      "15/15 [==============================] - 0s 3ms/step - loss: 0.3463 - acc: 1.0000\n",
      "Epoch 1/1\n",
      "15/15 [==============================] - 0s 3ms/step - loss: 0.3478 - acc: 1.0000\n",
      "Epoch 1/1\n",
      "15/15 [==============================] - 0s 3ms/step - loss: 0.3509 - acc: 1.0000\n",
      "Epoch 1/1\n",
      "15/15 [==============================] - 0s 3ms/step - loss: 0.3567 - acc: 1.0000\n",
      "Epoch 1/1\n",
      "15/15 [==============================] - 0s 3ms/step - loss: 0.3671 - acc: 1.0000\n",
      "Epoch 1/1\n",
      "15/15 [==============================] - 0s 3ms/step - loss: 0.3868 - acc: 0.9333\n",
      "Epoch 1/1\n",
      "15/15 [==============================] - 0s 3ms/step - loss: 0.4289 - acc: 0.9333\n",
      "Epoch 1/1\n",
      "15/15 [==============================] - 0s 3ms/step - loss: 0.5343 - acc: 0.8000\n",
      "Epoch 1/1\n",
      "15/15 [==============================] - 0s 3ms/step - loss: 0.7515 - acc: 0.8000\n",
      "Epoch 1/1\n",
      "15/15 [==============================] - 0s 3ms/step - loss: 0.8882 - acc: 0.7333\n"
     ]
    }
   ],
   "source": [
    "model_4.compile(optimizer='adam', loss='categorical_crossentropy', metrics=['accuracy'])\n",
    "for i in range(300):\n",
    "    model_4.fit(X, y, epochs=1, batch_size=batch_size, verbose=1, shuffle=False)\n",
    "    model_4.reset_states()"
   ]
  },
  {
   "cell_type": "markdown",
   "metadata": {},
   "source": [
    "### Voy ingresando de a uno la frase original"
   ]
  },
  {
   "cell_type": "code",
   "execution_count": 47,
   "metadata": {},
   "outputs": [
    {
     "name": "stdout",
     "output_type": "stream",
     "text": [
      "M -> A 0.89\n",
      "A -> C 0.8\n",
      "C -> H 0.84\n",
      "H -> I 0.87\n",
      "I -> N 0.47\n",
      "N -> G 0.4\n",
      "E ->   0.82\n",
      "  -> L 0.46\n",
      "L -> E 0.39\n",
      "E -> A 0.73\n",
      "A -> R 0.39\n",
      "R -> R 0.49\n",
      "N -> C 0.62\n",
      "I -> N 0.95\n",
      "N -> I 0.38\n",
      "G -> E 0.43\n"
     ]
    }
   ],
   "source": [
    "# Probar con 0, 3, 4, 7 y 1\n",
    "starting = 0\n",
    "model_4.reset_states()\n",
    "for c in text[starting:]:\n",
    "    to_predict = chars_to_one_hot(c, chars, chars_to_indices, window_size)*1\n",
    "    predicted = model_4.predict(to_predict)\n",
    "    print(c, '->', indices_to_chars[np.argmax(predicted[0])], int(max(predicted[0])*100)/100)"
   ]
  },
  {
   "cell_type": "markdown",
   "metadata": {},
   "source": [
    "Con starting en (text es MACHINE LEARNING):\n",
    "- 0 Predice todo correctamente\n",
    "- 6 Al arrancar en E puede ser tanto la de L**E**AR.. o la de CHIN**E** .. por lo que no tiene demasiada certeza\n",
    "- 4 La I da alta probabilidad para la N"
   ]
  },
  {
   "cell_type": "markdown",
   "metadata": {},
   "source": [
    "### Realimentando salida"
   ]
  },
  {
   "cell_type": "code",
   "execution_count": 48,
   "metadata": {},
   "outputs": [
    {
     "name": "stdout",
     "output_type": "stream",
     "text": [
      "M -> A 0.89\n",
      "A -> C 0.8\n",
      "C -> H 0.84\n",
      "H -> I 0.87\n",
      "I -> N 0.47\n",
      "N -> G 0.4\n",
      "G -> E 0.84\n",
      "E ->   0.46\n",
      "  -> L 0.76\n",
      "L -> E 0.81\n",
      "E -> A 0.88\n",
      "A -> R 0.69\n",
      "R -> N 0.96\n",
      "N -> I 0.73\n",
      "I -> N 0.6\n",
      "N -> G 0.6\n",
      "G -> E 0.66\n",
      "E -> R 0.67\n",
      "R -> N 0.9\n",
      "N -> I 0.37\n",
      "I -> E 0.34\n",
      "E ->   0.44\n",
      "  -> A 0.61\n",
      "A -> R 0.67\n",
      "R -> H 0.46\n"
     ]
    }
   ],
   "source": [
    "starting = 0\n",
    "model_4.reset_states()\n",
    "c = text[starting]\n",
    "for i in range(25):\n",
    "    to_predict = chars_to_one_hot(c, chars, chars_to_indices, window_size)*1\n",
    "    predicted = model_4.predict(to_predict)\n",
    "    pred_char = indices_to_chars[np.argmax(predicted[0])]\n",
    "    print(c, '->', pred_char, int(max(predicted[0])*100)/100)\n",
    "    c = pred_char"
   ]
  },
  {
   "cell_type": "markdown",
   "metadata": {},
   "source": [
    "## Ejemplo 5: Padding\n",
    "\"The model will learn the zero values carry no information so indeed the sequences are not the same length in terms of content, but same length vectors is required to perform the computation in Keras.\" https://machinelearningmastery.com/sequence-classification-lstm-recurrent-neural-networks-python-keras/\n",
    "https://machinelearningmastery.com/understanding-stateful-lstm-recurrent-neural-networks-python-keras/\n",
    "\n",
    "Como entreno no-statefull pero que de resultados similares a la statefull?"
   ]
  },
  {
   "cell_type": "code",
   "execution_count": 49,
   "metadata": {},
   "outputs": [],
   "source": [
    "def window_transform_text_padding_mode(text):\n",
    "    len_out = len(text)\n",
    "    \n",
    "    #output_start[-1] = text[:1]\n",
    "    #output_start[len_out-1:len_out-2] = text[0:1]\n",
    "    text = text\n",
    "    X = []\n",
    "    y = []\n",
    "    for i in range(len_out):\n",
    "        #X.append()\n",
    "        output_start = ['']*(len_out-1)\n",
    "        output_start[len_out-i-1:len_out] = text[0:i]\n",
    "        X.append(output_start)\n",
    "        y.append(text[i])\n",
    "    return X, y"
   ]
  },
  {
   "cell_type": "markdown",
   "metadata": {},
   "source": [
    "### Armo entradas con padding"
   ]
  },
  {
   "cell_type": "code",
   "execution_count": 50,
   "metadata": {},
   "outputs": [],
   "source": [
    "X_5, y_5 = window_transform_text_padding_mode(text)"
   ]
  },
  {
   "cell_type": "code",
   "execution_count": 51,
   "metadata": {},
   "outputs": [
    {
     "data": {
      "text/plain": [
       "[['', '', '', '', '', '', '', '', '', '', '', '', '', '', ''],\n",
       " ['', '', '', '', '', '', '', '', '', '', '', '', '', '', 'M'],\n",
       " ['', '', '', '', '', '', '', '', '', '', '', '', '', 'M', 'A'],\n",
       " ['', '', '', '', '', '', '', '', '', '', '', '', 'M', 'A', 'C'],\n",
       " ['', '', '', '', '', '', '', '', '', '', '', 'M', 'A', 'C', 'H'],\n",
       " ['', '', '', '', '', '', '', '', '', '', 'M', 'A', 'C', 'H', 'I'],\n",
       " ['', '', '', '', '', '', '', '', '', 'M', 'A', 'C', 'H', 'I', 'N'],\n",
       " ['', '', '', '', '', '', '', '', 'M', 'A', 'C', 'H', 'I', 'N', 'E'],\n",
       " ['', '', '', '', '', '', '', 'M', 'A', 'C', 'H', 'I', 'N', 'E', ' '],\n",
       " ['', '', '', '', '', '', 'M', 'A', 'C', 'H', 'I', 'N', 'E', ' ', 'L'],\n",
       " ['', '', '', '', '', 'M', 'A', 'C', 'H', 'I', 'N', 'E', ' ', 'L', 'E'],\n",
       " ['', '', '', '', 'M', 'A', 'C', 'H', 'I', 'N', 'E', ' ', 'L', 'E', 'A'],\n",
       " ['', '', '', 'M', 'A', 'C', 'H', 'I', 'N', 'E', ' ', 'L', 'E', 'A', 'R'],\n",
       " ['', '', 'M', 'A', 'C', 'H', 'I', 'N', 'E', ' ', 'L', 'E', 'A', 'R', 'N'],\n",
       " ['', 'M', 'A', 'C', 'H', 'I', 'N', 'E', ' ', 'L', 'E', 'A', 'R', 'N', 'I'],\n",
       " ['M', 'A', 'C', 'H', 'I', 'N', 'E', ' ', 'L', 'E', 'A', 'R', 'N', 'I', 'N']]"
      ]
     },
     "execution_count": 51,
     "metadata": {},
     "output_type": "execute_result"
    }
   ],
   "source": [
    "X_5"
   ]
  },
  {
   "cell_type": "code",
   "execution_count": 52,
   "metadata": {},
   "outputs": [
    {
     "name": "stdout",
     "output_type": "stream",
     "text": [
      "['M', 'A', 'C', 'H', 'I', 'N', 'E', ' ', 'L', 'E', 'A', 'R', 'N', 'I', 'N', 'G']\n"
     ]
    }
   ],
   "source": [
    "print(y_5)"
   ]
  },
  {
   "cell_type": "code",
   "execution_count": 108,
   "metadata": {},
   "outputs": [
    {
     "name": "stdout",
     "output_type": "stream",
     "text": [
      "Chars:  [' ', 'A', 'C', 'E', 'G', 'H', 'I', 'L', 'M', 'N', 'R']\n"
     ]
    },
    {
     "data": {
      "text/plain": [
       "{' ': 0,\n",
       " 'A': 1,\n",
       " 'C': 2,\n",
       " 'E': 3,\n",
       " 'G': 4,\n",
       " 'H': 5,\n",
       " 'I': 6,\n",
       " 'L': 7,\n",
       " 'M': 8,\n",
       " 'N': 9,\n",
       " 'R': 10,\n",
       " '': -1}"
      ]
     },
     "execution_count": 108,
     "metadata": {},
     "output_type": "execute_result"
    }
   ],
   "source": [
    "chars = sorted(set(\"MACHINE LEARNING\"))\n",
    "print('Chars: ', chars)\n",
    "\n",
    "chars_to_indices = dict((c, i) for i, c in enumerate(chars))\n",
    "chars_to_indices[''] = -1\n",
    "chars_to_indices"
   ]
  },
  {
   "cell_type": "code",
   "execution_count": 54,
   "metadata": {},
   "outputs": [],
   "source": [
    "def code_chars(X, y, chars_to_indices):\n",
    "    X_coded = []\n",
    "    y_coded = []\n",
    "    for i, xi in enumerate(X):\n",
    "        one_h_y = [0]*(len(chars_to_indices) - 1) # Menos 1 por el '' agregado\n",
    "        vect = []\n",
    "        for c in xi:\n",
    "            one_h = [0]*(len(chars_to_indices) - 1)\n",
    "            if c == '':\n",
    "                vect.append(one_h)\n",
    "            else:\n",
    "                one_h[chars_to_indices[c]] = 1\n",
    "                vect.append(one_h)\n",
    "        X_coded.append(vect)\n",
    "        one_h_y[chars_to_indices[y[i]]] = 1\n",
    "        y_coded.append(one_h_y)\n",
    "    return np.array(X_coded), np.array(y_coded)"
   ]
  },
  {
   "cell_type": "code",
   "execution_count": 55,
   "metadata": {},
   "outputs": [],
   "source": [
    "X_coded, y_coded = code_chars(X_5, y_5, chars_to_indices)"
   ]
  },
  {
   "cell_type": "code",
   "execution_count": 56,
   "metadata": {},
   "outputs": [
    {
     "data": {
      "text/plain": [
       "((16, 15, 11), (16, 11))"
      ]
     },
     "execution_count": 56,
     "metadata": {},
     "output_type": "execute_result"
    }
   ],
   "source": [
    "X_coded.shape, y_coded.shape"
   ]
  },
  {
   "cell_type": "code",
   "execution_count": 57,
   "metadata": {},
   "outputs": [
    {
     "data": {
      "text/plain": [
       "array([[0, 0, 0, 0, 0, 0, 0, 0, 0, 0, 0],\n",
       "       [0, 0, 0, 0, 0, 0, 0, 0, 0, 0, 0],\n",
       "       [0, 0, 0, 0, 0, 0, 0, 0, 0, 0, 0],\n",
       "       [0, 0, 0, 0, 0, 0, 0, 0, 0, 0, 0],\n",
       "       [0, 0, 0, 0, 0, 0, 0, 0, 0, 0, 0],\n",
       "       [0, 0, 0, 0, 0, 0, 0, 0, 0, 0, 0],\n",
       "       [0, 0, 0, 0, 0, 0, 0, 0, 0, 0, 0],\n",
       "       [0, 0, 0, 0, 0, 0, 0, 0, 0, 0, 0],\n",
       "       [0, 0, 0, 0, 0, 0, 0, 0, 0, 0, 0],\n",
       "       [0, 0, 0, 0, 0, 0, 0, 0, 0, 0, 0],\n",
       "       [0, 0, 0, 0, 0, 0, 0, 0, 0, 0, 0],\n",
       "       [0, 0, 0, 0, 0, 0, 0, 0, 0, 0, 0],\n",
       "       [0, 0, 0, 0, 0, 0, 0, 0, 0, 0, 0],\n",
       "       [0, 0, 0, 0, 0, 0, 0, 0, 0, 0, 0],\n",
       "       [0, 0, 0, 0, 0, 0, 0, 0, 0, 0, 0]])"
      ]
     },
     "execution_count": 57,
     "metadata": {},
     "output_type": "execute_result"
    }
   ],
   "source": [
    "# Primer entrada todos ceros\n",
    "#[['', '', '', '', '', '', '', '', '', '', '', '', '', '', '']\n",
    "X_coded[0]"
   ]
  },
  {
   "cell_type": "code",
   "execution_count": 100,
   "metadata": {},
   "outputs": [
    {
     "data": {
      "text/plain": [
       "array([[0, 0, 0, 0, 0, 0, 0, 0, 0, 0, 0],\n",
       "       [0, 0, 0, 0, 0, 0, 0, 0, 0, 0, 0],\n",
       "       [0, 0, 0, 0, 0, 0, 0, 0, 0, 0, 0],\n",
       "       [0, 0, 0, 0, 0, 0, 0, 0, 0, 0, 0],\n",
       "       [0, 0, 0, 0, 0, 0, 0, 0, 0, 0, 0],\n",
       "       [0, 0, 0, 0, 0, 0, 0, 0, 0, 0, 0],\n",
       "       [0, 0, 0, 0, 0, 0, 0, 0, 0, 0, 0],\n",
       "       [0, 0, 0, 0, 0, 0, 0, 0, 0, 0, 0],\n",
       "       [0, 0, 0, 0, 0, 0, 0, 0, 0, 0, 0],\n",
       "       [0, 0, 0, 0, 0, 0, 0, 0, 0, 0, 0],\n",
       "       [0, 0, 0, 0, 0, 0, 0, 0, 0, 0, 0],\n",
       "       [0, 0, 0, 0, 0, 0, 0, 0, 0, 0, 0],\n",
       "       [0, 0, 0, 0, 0, 0, 0, 0, 0, 0, 0],\n",
       "       [0, 0, 0, 0, 0, 0, 0, 0, 0, 0, 0],\n",
       "       [0, 0, 0, 0, 0, 0, 0, 0, 1, 0, 0]])"
      ]
     },
     "execution_count": 100,
     "metadata": {},
     "output_type": "execute_result"
    }
   ],
   "source": [
    "# ['', '', '', '', '', '', '', '', '', '', '', '', '', '', 'M'],\n",
    "X_coded[1]"
   ]
  },
  {
   "cell_type": "code",
   "execution_count": 102,
   "metadata": {},
   "outputs": [
    {
     "data": {
      "text/plain": [
       "array([0, 0, 0, 0, 0, 0, 0, 0, 1, 0, 0])"
      ]
     },
     "execution_count": 102,
     "metadata": {},
     "output_type": "execute_result"
    }
   ],
   "source": [
    "y_coded[0]"
   ]
  },
  {
   "cell_type": "markdown",
   "metadata": {},
   "source": [
    "### Entreno modelo"
   ]
  },
  {
   "cell_type": "code",
   "execution_count": 59,
   "metadata": {},
   "outputs": [
    {
     "name": "stdout",
     "output_type": "stream",
     "text": [
      "_________________________________________________________________\n",
      "Layer (type)                 Output Shape              Param #   \n",
      "=================================================================\n",
      "simple_rnn_6 (SimpleRNN)     (None, 10)                220       \n",
      "_________________________________________________________________\n",
      "dense_6 (Dense)              (None, 11)                121       \n",
      "=================================================================\n",
      "Total params: 341\n",
      "Trainable params: 341\n",
      "Non-trainable params: 0\n",
      "_________________________________________________________________\n"
     ]
    }
   ],
   "source": [
    "model_5 = Sequential()\n",
    "model_5.add(SimpleRNN(10, input_shape=(X_coded.shape[1],X_coded.shape[2])))\n",
    "model_5.add(Dense(len(chars), activation=\"softmax\"))\n",
    "model_5.summary()"
   ]
  },
  {
   "cell_type": "code",
   "execution_count": 60,
   "metadata": {},
   "outputs": [
    {
     "data": {
      "image/png": "[encoded data removed]",
      "text/plain": [
       "<Figure size 1440x360 with 2 Axes>"
      ]
     },
     "metadata": {
      "needs_background": "light"
     },
     "output_type": "display_data"
    },
    {
     "name": "stdout",
     "output_type": "stream",
     "text": [
      "Epoch 492/500\n",
      "16/16 [==============================] - 0s 8ms/step - loss: 0.0098 - acc: 1.0000\n",
      "Epoch 493/500\n",
      "16/16 [==============================] - 0s 8ms/step - loss: 0.0098 - acc: 1.0000\n",
      "Epoch 494/500\n",
      "16/16 [==============================] - 0s 8ms/step - loss: 0.0097 - acc: 1.0000\n",
      "Epoch 495/500\n",
      "16/16 [==============================] - 0s 8ms/step - loss: 0.0096 - acc: 1.0000\n",
      "Epoch 496/500\n",
      "16/16 [==============================] - 0s 7ms/step - loss: 0.0097 - acc: 1.0000\n",
      "Epoch 497/500\n",
      "16/16 [==============================] - 0s 7ms/step - loss: 0.0097 - acc: 1.0000\n",
      "Epoch 498/500\n",
      "16/16 [==============================] - 0s 7ms/step - loss: 0.0094 - acc: 1.0000\n",
      "Epoch 499/500\n",
      "16/16 [==============================] - 0s 8ms/step - loss: 0.0096 - acc: 1.0000\n",
      "Epoch 500/500\n",
      "16/16 [==============================] - 0s 7ms/step - loss: 0.0098 - acc: 1.0000\n"
     ]
    },
    {
     "data": {
      "text/plain": [
       "<keras.callbacks.History at 0x7f2268239a90>"
      ]
     },
     "execution_count": 60,
     "metadata": {},
     "output_type": "execute_result"
    }
   ],
   "source": [
    "model_5.compile(optimizer='adam', loss='categorical_crossentropy', metrics=['accuracy'])\n",
    "plot_losses = PlotLosses(plot_interval=10, evaluate_interval=None)\n",
    "model_5.fit(X_coded,y_coded, epochs=500, batch_size=1, verbose=1, callbacks=[plot_losses])"
   ]
  },
  {
   "cell_type": "code",
   "execution_count": 61,
   "metadata": {},
   "outputs": [
    {
     "name": "stdout",
     "output_type": "stream",
     "text": [
      "(16, 15, 11)\n",
      "['', '', '', '', '', '', '', '', '', '', '', '', '', '', ''] -> M 0.98\n",
      "['', '', '', '', '', '', '', '', '', '', '', '', '', '', 'M'] -> A 0.98\n",
      "['', '', '', '', '', '', '', '', '', '', '', '', '', 'M', 'A'] -> C 0.98\n",
      "['', '', '', '', '', '', '', '', '', '', '', '', 'M', 'A', 'C'] -> H 0.98\n",
      "['', '', '', '', '', '', '', '', '', '', '', 'M', 'A', 'C', 'H'] -> I 0.99\n",
      "['', '', '', '', '', '', '', '', '', '', 'M', 'A', 'C', 'H', 'I'] -> N 0.99\n",
      "['', '', '', '', '', '', '', '', '', 'M', 'A', 'C', 'H', 'I', 'N'] -> E 0.99\n",
      "['', '', '', '', '', '', '', '', 'M', 'A', 'C', 'H', 'I', 'N', 'E'] ->   0.99\n",
      "['', '', '', '', '', '', '', 'M', 'A', 'C', 'H', 'I', 'N', 'E', ' '] -> L 0.99\n",
      "['', '', '', '', '', '', 'M', 'A', 'C', 'H', 'I', 'N', 'E', ' ', 'L'] -> E 0.99\n",
      "['', '', '', '', '', 'M', 'A', 'C', 'H', 'I', 'N', 'E', ' ', 'L', 'E'] -> A 0.99\n",
      "['', '', '', '', 'M', 'A', 'C', 'H', 'I', 'N', 'E', ' ', 'L', 'E', 'A'] -> R 0.99\n",
      "['', '', '', 'M', 'A', 'C', 'H', 'I', 'N', 'E', ' ', 'L', 'E', 'A', 'R'] -> N 0.99\n",
      "['', '', 'M', 'A', 'C', 'H', 'I', 'N', 'E', ' ', 'L', 'E', 'A', 'R', 'N'] -> I 0.99\n",
      "['', 'M', 'A', 'C', 'H', 'I', 'N', 'E', ' ', 'L', 'E', 'A', 'R', 'N', 'I'] -> N 0.99\n",
      "['M', 'A', 'C', 'H', 'I', 'N', 'E', ' ', 'L', 'E', 'A', 'R', 'N', 'I', 'N'] -> G 0.98\n"
     ]
    }
   ],
   "source": [
    "to_predict = X_coded\n",
    "print(to_predict.shape)\n",
    "predicted = model_5.predict(to_predict)\n",
    "for i, row in enumerate(predicted):\n",
    "    idx = np.argmax(row)\n",
    "    print(X_5[i], '->', indices_to_chars[idx], int(row[idx]*100)/100)"
   ]
  },
  {
   "cell_type": "markdown",
   "metadata": {},
   "source": [
    "### Ahora redefino modelo como stateful y cargo los pesos del anterior"
   ]
  },
  {
   "cell_type": "code",
   "execution_count": 62,
   "metadata": {},
   "outputs": [
    {
     "name": "stdout",
     "output_type": "stream",
     "text": [
      "_________________________________________________________________\n",
      "Layer (type)                 Output Shape              Param #   \n",
      "=================================================================\n",
      "simple_rnn_7 (SimpleRNN)     (1, 10)                   220       \n",
      "_________________________________________________________________\n",
      "dense_7 (Dense)              (1, 11)                   121       \n",
      "=================================================================\n",
      "Total params: 341\n",
      "Trainable params: 341\n",
      "Non-trainable params: 0\n",
      "_________________________________________________________________\n"
     ]
    }
   ],
   "source": [
    "batch_size=1\n",
    "model_5s = Sequential()\n",
    "model_5s.add(SimpleRNN(10, batch_input_shape=(batch_size,1,len(chars)), stateful=True))\n",
    "model_5s.add(Dense(len(chars), activation=\"softmax\"))\n",
    "model_5s.summary()"
   ]
  },
  {
   "cell_type": "code",
   "execution_count": 63,
   "metadata": {},
   "outputs": [],
   "source": [
    "model_5s.set_weights(model_5.get_weights())"
   ]
  },
  {
   "cell_type": "markdown",
   "metadata": {},
   "source": [
    "### Donde esta el maximo si ingreso ceros?"
   ]
  },
  {
   "cell_type": "code",
   "execution_count": 64,
   "metadata": {},
   "outputs": [
    {
     "name": "stdout",
     "output_type": "stream",
     "text": [
      "1 [[[0. 0. 0. 0. 0. 0. 0. 0. 0. 0. 0.]]] -> I 0.16\n",
      "2 [[[0. 0. 0. 0. 0. 0. 0. 0. 0. 0. 0.]]] -> E 0.29\n",
      "3 [[[0. 0. 0. 0. 0. 0. 0. 0. 0. 0. 0.]]] -> M 0.18\n",
      "4 [[[0. 0. 0. 0. 0. 0. 0. 0. 0. 0. 0.]]] -> E 0.32\n",
      "5 [[[0. 0. 0. 0. 0. 0. 0. 0. 0. 0. 0.]]] -> E 0.42\n",
      "6 [[[0. 0. 0. 0. 0. 0. 0. 0. 0. 0. 0.]]] -> E 0.48\n",
      "7 [[[0. 0. 0. 0. 0. 0. 0. 0. 0. 0. 0.]]] -> M 0.57\n",
      "8 [[[0. 0. 0. 0. 0. 0. 0. 0. 0. 0. 0.]]] -> M 0.71\n",
      "9 [[[0. 0. 0. 0. 0. 0. 0. 0. 0. 0. 0.]]] -> M 0.74\n",
      "10 [[[0. 0. 0. 0. 0. 0. 0. 0. 0. 0. 0.]]] -> M 0.81\n",
      "11 [[[0. 0. 0. 0. 0. 0. 0. 0. 0. 0. 0.]]] -> M 0.57\n",
      "12 [[[0. 0. 0. 0. 0. 0. 0. 0. 0. 0. 0.]]] -> M 0.94\n",
      "13 [[[0. 0. 0. 0. 0. 0. 0. 0. 0. 0. 0.]]] -> M 0.97\n",
      "14 [[[0. 0. 0. 0. 0. 0. 0. 0. 0. 0. 0.]]] -> M 0.89\n",
      "15 [[[0. 0. 0. 0. 0. 0. 0. 0. 0. 0. 0.]]] -> M 0.98\n",
      "16 [[[0. 0. 0. 0. 0. 0. 0. 0. 0. 0. 0.]]] -> M 0.94\n",
      "17 [[[0. 0. 0. 0. 0. 0. 0. 0. 0. 0. 0.]]] -> M 0.97\n",
      "18 [[[0. 0. 0. 0. 0. 0. 0. 0. 0. 0. 0.]]] -> M 0.98\n",
      "19 [[[0. 0. 0. 0. 0. 0. 0. 0. 0. 0. 0.]]] -> M 0.94\n",
      "20 [[[0. 0. 0. 0. 0. 0. 0. 0. 0. 0. 0.]]] -> M 0.98\n"
     ]
    }
   ],
   "source": [
    "model_5s.reset_states()\n",
    "to_predict = np.zeros((1,1,y_coded.shape[1]))\n",
    "for i in range(20):\n",
    "    predicted = model_5s.predict(to_predict)\n",
    "    idx = np.argmax(predicted[0])\n",
    "    print(i+1, to_predict, '->', indices_to_chars[idx], int(predicted[0][idx]*100)/100)"
   ]
  },
  {
   "cell_type": "markdown",
   "metadata": {},
   "source": [
    "Notar que el máximo esta en la posición 16 y es M (Luego de ingresar con 16 ceros)"
   ]
  },
  {
   "cell_type": "code",
   "execution_count": 65,
   "metadata": {},
   "outputs": [
    {
     "name": "stdout",
     "output_type": "stream",
     "text": [
      "1 [[[0. 0. 0. 0. 0. 0. 0. 0. 0. 0. 0.]]] -> I 0.16\n",
      "2 [[[0. 0. 0. 0. 0. 0. 0. 0. 0. 0. 0.]]] -> E 0.29\n",
      "3 [[[0. 0. 0. 0. 0. 0. 0. 0. 0. 0. 0.]]] -> M 0.18\n",
      "4 [[[0. 0. 0. 0. 0. 0. 0. 0. 0. 0. 0.]]] -> E 0.32\n",
      "5 [[[0. 0. 0. 0. 0. 0. 0. 0. 0. 0. 0.]]] -> E 0.42\n",
      "6 [[[0. 0. 0. 0. 0. 0. 0. 0. 0. 0. 0.]]] -> E 0.48\n",
      "7 [[[0. 0. 0. 0. 0. 0. 0. 0. 0. 0. 0.]]] -> M 0.57\n",
      "8 [[[0. 0. 0. 0. 0. 0. 0. 0. 0. 0. 0.]]] -> M 0.71\n",
      "9 [[[0. 0. 0. 0. 0. 0. 0. 0. 0. 0. 0.]]] -> M 0.74\n",
      "10 [[[0. 0. 0. 0. 0. 0. 0. 0. 0. 0. 0.]]] -> M 0.81\n",
      "11 [[[0. 0. 0. 0. 0. 0. 0. 0. 0. 0. 0.]]] -> M 0.57\n",
      "12 [[[0. 0. 0. 0. 0. 0. 0. 0. 0. 0. 0.]]] -> M 0.94\n",
      "13 [[[0. 0. 0. 0. 0. 0. 0. 0. 0. 0. 0.]]] -> M 0.97\n",
      "14 [[[0. 0. 0. 0. 0. 0. 0. 0. 0. 0. 0.]]] -> M 0.89\n",
      "15 [[[0. 0. 0. 0. 0. 0. 0. 0. 0. 0. 0.]]] -> M 0.98\n"
     ]
    }
   ],
   "source": [
    "model_5s.reset_states()\n",
    "to_predict = np.zeros((1,1,y_coded.shape[1]))\n",
    "for i in range(15):\n",
    "    predicted = model_5s.predict(to_predict)\n",
    "    idx = np.argmax(predicted[0])\n",
    "    print(i+1, to_predict, '->', indices_to_chars[idx], int(predicted[0][idx]*100)/100)"
   ]
  },
  {
   "cell_type": "code",
   "execution_count": 66,
   "metadata": {},
   "outputs": [
    {
     "name": "stdout",
     "output_type": "stream",
     "text": [
      "[[[0 0 0 0 0 0 0 0 1 0 0]]] -> A 0.74\n",
      "[[[0 1 0 0 0 0 0 0 0 0 0]]] -> C 0.91\n",
      "[[[0 0 1 0 0 0 0 0 0 0 0]]] -> H 0.96\n",
      "[[[0 0 0 0 0 1 0 0 0 0 0]]] -> I 0.99\n",
      "[[[0 0 0 0 0 0 1 0 0 0 0]]] -> N 0.99\n",
      "[[[0 0 0 0 0 0 0 0 0 1 0]]] -> E 0.5\n",
      "[[[0 0 0 1 0 0 0 0 0 0 0]]] ->   0.9\n",
      "[[[1 0 0 0 0 0 0 0 0 0 0]]] -> L 0.7\n",
      "[[[0 0 0 0 0 0 0 1 0 0 0]]] -> E 0.65\n",
      "[[[0 0 0 1 0 0 0 0 0 0 0]]] -> A 0.96\n",
      "[[[0 1 0 0 0 0 0 0 0 0 0]]] -> R 0.94\n",
      "[[[0 0 0 0 0 0 0 0 0 0 1]]] -> N 0.8\n",
      "[[[0 0 0 0 0 0 0 0 0 1 0]]] -> I 0.98\n",
      "[[[0 0 0 0 0 0 1 0 0 0 0]]] -> N 0.99\n",
      "[[[0 0 0 0 0 0 0 0 0 1 0]]] -> G 0.94\n",
      "[[[0 0 0 0 1 0 0 0 0 0 0]]] -> N 0.64\n"
     ]
    }
   ],
   "source": [
    "for i in range(16):\n",
    "    to_predict = y_coded[i:i+1].reshape(1, 1, len(chars))\n",
    "    predicted = model_5s.predict(to_predict)\n",
    "    idx = np.argmax(predicted[0])\n",
    "    print(to_predict, '->', indices_to_chars[idx], int(predicted[0][idx]*100)/100)"
   ]
  },
  {
   "cell_type": "markdown",
   "metadata": {},
   "source": [
    "Notar que esto no funciona del todo bien ya que aprende que despues de 16 ceros viene la M y que despues de 15 ceros mas una M viene una A"
   ]
  },
  {
   "cell_type": "markdown",
   "metadata": {},
   "source": [
    "### Realimento salida\n",
    "Pero no ingreso con one-hot sino con las predicciones"
   ]
  },
  {
   "cell_type": "code",
   "execution_count": 67,
   "metadata": {},
   "outputs": [
    {
     "name": "stdout",
     "output_type": "stream",
     "text": [
      "[[[0.   0.   0.   0.   0.   0.   0.   0.   0.98 0.   0.  ]]] -> A 0.72\n",
      "[[[0.   0.72 0.   0.01 0.   0.12 0.   0.01 0.09 0.   0.02]]] -> C 0.9\n",
      "[[[0.   0.   0.9  0.   0.   0.04 0.   0.   0.   0.   0.03]]] -> H 0.96\n",
      "[[[0.   0.   0.   0.   0.   0.96 0.   0.   0.   0.   0.  ]]] -> I 0.99\n",
      "[[[0.   0.   0.   0.   0.   0.   0.99 0.   0.   0.   0.  ]]] -> N 0.99\n",
      "[[[0.   0.   0.   0.   0.   0.   0.   0.   0.   0.99 0.  ]]] -> E 0.56\n",
      "[[[0.   0.   0.03 0.56 0.24 0.   0.13 0.01 0.   0.   0.  ]]] ->   0.94\n",
      "[[[0.94 0.   0.   0.   0.   0.   0.   0.   0.   0.05 0.  ]]] -> L 0.79\n",
      "[[[0.   0.01 0.   0.   0.14 0.   0.03 0.79 0.   0.   0.  ]]] -> E 0.79\n",
      "[[[0.09 0.   0.   0.79 0.   0.   0.   0.   0.   0.05 0.04]]] -> A 0.97\n",
      "[[[0.   0.97 0.   0.   0.02 0.   0.   0.   0.   0.   0.  ]]] -> R 0.96\n",
      "[[[0.   0.   0.01 0.   0.   0.   0.01 0.   0.   0.   0.96]]] -> N 0.71\n",
      "[[[0.   0.   0.   0.   0.   0.26 0.   0.   0.   0.71 0.  ]]] -> I 0.99\n",
      "[[[0.   0.   0.   0.   0.   0.   0.99 0.   0.   0.   0.  ]]] -> N 0.99\n",
      "[[[0.   0.   0.   0.   0.   0.   0.   0.   0.   0.99 0.  ]]] -> G 0.82\n",
      "[[[0.   0.   0.   0.1  0.82 0.   0.03 0.01 0.   0.   0.  ]]] ->   0.7\n"
     ]
    }
   ],
   "source": [
    "window_size=1\n",
    "model_5s.reset_states()\n",
    "to_predict = np.zeros((1,1,y_coded.shape[1]))\n",
    "for i in range(15):\n",
    "    predicted = model_5s.predict(to_predict)\n",
    "    idx = np.argmax(predicted[0])\n",
    "    #print(i+1, to_predict, '->', indices_to_chars[idx], int(predicted[0][idx]*100)/100)\n",
    "#print(predicted.shape)\n",
    "for i in range(16):\n",
    "    to_predict = predicted.reshape(1, 1, len(chars))\n",
    "    predicted = model_5s.predict(to_predict)\n",
    "    idx = np.argmax(predicted[0])\n",
    "    print((to_predict*100).astype(int)/100, '->', indices_to_chars[idx], int(predicted[0][idx]*100)/100)"
   ]
  },
  {
   "cell_type": "markdown",
   "metadata": {},
   "source": [
    "## Ejemplo 6: Masking"
   ]
  },
  {
   "cell_type": "code",
   "execution_count": 68,
   "metadata": {},
   "outputs": [],
   "source": [
    "from keras.layers import Masking"
   ]
  },
  {
   "cell_type": "markdown",
   "metadata": {},
   "source": [
    "### Armo modelo"
   ]
  },
  {
   "cell_type": "code",
   "execution_count": 69,
   "metadata": {},
   "outputs": [
    {
     "name": "stdout",
     "output_type": "stream",
     "text": [
      "_________________________________________________________________\n",
      "Layer (type)                 Output Shape              Param #   \n",
      "=================================================================\n",
      "masking_1 (Masking)          (None, 15, 11)            0         \n",
      "_________________________________________________________________\n",
      "simple_rnn_8 (SimpleRNN)     (None, 10)                220       \n",
      "_________________________________________________________________\n",
      "dense_8 (Dense)              (None, 11)                121       \n",
      "=================================================================\n",
      "Total params: 341\n",
      "Trainable params: 341\n",
      "Non-trainable params: 0\n",
      "_________________________________________________________________\n"
     ]
    }
   ],
   "source": [
    "model_6 = Sequential()\n",
    "model_6.add(Masking(mask_value=0., input_shape=(X_coded.shape[1],X_coded.shape[2])))\n",
    "model_6.add(SimpleRNN(10))\n",
    "model_6.add(Dense(len(chars), activation=\"softmax\"))\n",
    "model_6.summary()"
   ]
  },
  {
   "cell_type": "markdown",
   "metadata": {},
   "source": [
    "### Lo entreno"
   ]
  },
  {
   "cell_type": "code",
   "execution_count": 70,
   "metadata": {},
   "outputs": [
    {
     "data": {
      "image/png": "[encoded data removed]",
      "text/plain": [
       "<Figure size 1440x360 with 2 Axes>"
      ]
     },
     "metadata": {
      "needs_background": "light"
     },
     "output_type": "display_data"
    },
    {
     "name": "stdout",
     "output_type": "stream",
     "text": [
      "Epoch 192/200\n",
      "16/16 [==============================] - 0s 9ms/step - loss: 0.2659 - acc: 1.0000\n",
      "Epoch 193/200\n",
      "16/16 [==============================] - 0s 9ms/step - loss: 0.2641 - acc: 1.0000\n",
      "Epoch 194/200\n",
      "16/16 [==============================] - 0s 8ms/step - loss: 0.2624 - acc: 1.0000\n",
      "Epoch 195/200\n",
      "16/16 [==============================] - 0s 8ms/step - loss: 0.2605 - acc: 1.0000\n",
      "Epoch 196/200\n",
      "16/16 [==============================] - 0s 8ms/step - loss: 0.2587 - acc: 1.0000\n",
      "Epoch 197/200\n",
      "16/16 [==============================] - 0s 9ms/step - loss: 0.2576 - acc: 1.0000\n",
      "Epoch 198/200\n",
      "16/16 [==============================] - 0s 9ms/step - loss: 0.2556 - acc: 1.0000\n",
      "Epoch 199/200\n",
      "16/16 [==============================] - 0s 8ms/step - loss: 0.2537 - acc: 1.0000\n",
      "Epoch 200/200\n",
      "16/16 [==============================] - 0s 8ms/step - loss: 0.2521 - acc: 1.0000\n"
     ]
    },
    {
     "data": {
      "text/plain": [
       "<keras.callbacks.History at 0x7f20cbc76da0>"
      ]
     },
     "execution_count": 70,
     "metadata": {},
     "output_type": "execute_result"
    }
   ],
   "source": [
    "model_6.compile(optimizer='adam', loss='categorical_crossentropy', metrics=['accuracy'])\n",
    "plot_losses = PlotLosses(plot_interval=10, evaluate_interval=None)\n",
    "model_6.fit(X_coded,y_coded, epochs=200, batch_size=1, verbose=1, callbacks=[plot_losses])"
   ]
  },
  {
   "cell_type": "markdown",
   "metadata": {},
   "source": [
    "### Resultados"
   ]
  },
  {
   "cell_type": "code",
   "execution_count": 71,
   "metadata": {},
   "outputs": [
    {
     "name": "stdout",
     "output_type": "stream",
     "text": [
      "['', '', '', '', '', '', '', '', '', '', '', '', '', '', ''] -> M 0.12\n",
      "['', '', '', '', '', '', '', '', '', '', '', '', '', '', 'M'] -> A 0.8\n",
      "['', '', '', '', '', '', '', '', '', '', '', '', '', 'M', 'A'] -> C 0.8\n",
      "['', '', '', '', '', '', '', '', '', '', '', '', 'M', 'A', 'C'] -> H 0.86\n",
      "['', '', '', '', '', '', '', '', '', '', '', 'M', 'A', 'C', 'H'] -> I 0.92\n",
      "['', '', '', '', '', '', '', '', '', '', 'M', 'A', 'C', 'H', 'I'] -> N 0.93\n",
      "['', '', '', '', '', '', '', '', '', 'M', 'A', 'C', 'H', 'I', 'N'] -> E 0.82\n",
      "['', '', '', '', '', '', '', '', 'M', 'A', 'C', 'H', 'I', 'N', 'E'] ->   0.87\n",
      "['', '', '', '', '', '', '', 'M', 'A', 'C', 'H', 'I', 'N', 'E', ' '] -> L 0.87\n",
      "['', '', '', '', '', '', 'M', 'A', 'C', 'H', 'I', 'N', 'E', ' ', 'L'] -> E 0.88\n",
      "['', '', '', '', '', 'M', 'A', 'C', 'H', 'I', 'N', 'E', ' ', 'L', 'E'] -> A 0.95\n",
      "['', '', '', '', 'M', 'A', 'C', 'H', 'I', 'N', 'E', ' ', 'L', 'E', 'A'] -> R 0.88\n",
      "['', '', '', 'M', 'A', 'C', 'H', 'I', 'N', 'E', ' ', 'L', 'E', 'A', 'R'] -> N 0.91\n",
      "['', '', 'M', 'A', 'C', 'H', 'I', 'N', 'E', ' ', 'L', 'E', 'A', 'R', 'N'] -> I 0.91\n",
      "['', 'M', 'A', 'C', 'H', 'I', 'N', 'E', ' ', 'L', 'E', 'A', 'R', 'N', 'I'] -> N 0.98\n",
      "['M', 'A', 'C', 'H', 'I', 'N', 'E', ' ', 'L', 'E', 'A', 'R', 'N', 'I', 'N'] -> G 0.75\n"
     ]
    }
   ],
   "source": [
    "to_predict = X_coded\n",
    "predicted = model_6.predict(to_predict)\n",
    "for i, row in enumerate(predicted):\n",
    "    idx = np.argmax(row)\n",
    "    print(X_5[i], '->', indices_to_chars[idx], int(row[idx]*100)/100)"
   ]
  },
  {
   "cell_type": "markdown",
   "metadata": {},
   "source": [
    "### Armo modelo stateful y cargo pesos de modelo anterior entrenado"
   ]
  },
  {
   "cell_type": "code",
   "execution_count": 72,
   "metadata": {},
   "outputs": [
    {
     "name": "stdout",
     "output_type": "stream",
     "text": [
      "_________________________________________________________________\n",
      "Layer (type)                 Output Shape              Param #   \n",
      "=================================================================\n",
      "masking_2 (Masking)          (1, 1, 11)                0         \n",
      "_________________________________________________________________\n",
      "simple_rnn_9 (SimpleRNN)     (1, 10)                   220       \n",
      "_________________________________________________________________\n",
      "dense_9 (Dense)              (1, 11)                   121       \n",
      "=================================================================\n",
      "Total params: 341\n",
      "Trainable params: 341\n",
      "Non-trainable params: 0\n",
      "_________________________________________________________________\n"
     ]
    }
   ],
   "source": [
    "model_6s = Sequential()\n",
    "model_6s.add(Masking(mask_value=0., batch_input_shape=(batch_size,1,len(chars))))\n",
    "model_6s.add(SimpleRNN(10, batch_input_shape=(batch_size,1,len(chars)), stateful=True))\n",
    "model_6s.add(Dense(len(chars), activation=\"softmax\"))\n",
    "model_6s.summary()"
   ]
  },
  {
   "cell_type": "code",
   "execution_count": 73,
   "metadata": {},
   "outputs": [],
   "source": [
    "model_6s.set_weights(model_6.get_weights())"
   ]
  },
  {
   "cell_type": "code",
   "execution_count": 74,
   "metadata": {},
   "outputs": [
    {
     "name": "stdout",
     "output_type": "stream",
     "text": [
      "[[[0 0 0 0 0 0 0 0 1 0 0]]] M -> A 0.8\n",
      "[[[0 1 0 0 0 0 0 0 0 0 0]]] A -> C 0.8\n",
      "[[[0 0 1 0 0 0 0 0 0 0 0]]] C -> H 0.86\n",
      "[[[0 0 0 0 0 1 0 0 0 0 0]]] H -> I 0.92\n",
      "[[[0 0 0 0 0 0 1 0 0 0 0]]] I -> N 0.93\n",
      "[[[0 0 0 0 0 0 0 0 0 1 0]]] N -> E 0.82\n",
      "[[[0 0 0 1 0 0 0 0 0 0 0]]] E ->   0.87\n",
      "[[[1 0 0 0 0 0 0 0 0 0 0]]]   -> L 0.87\n",
      "[[[0 0 0 0 0 0 0 1 0 0 0]]] L -> E 0.88\n",
      "[[[0 0 0 1 0 0 0 0 0 0 0]]] E -> A 0.95\n",
      "[[[0 1 0 0 0 0 0 0 0 0 0]]] A -> R 0.88\n",
      "[[[0 0 0 0 0 0 0 0 0 0 1]]] R -> N 0.91\n",
      "[[[0 0 0 0 0 0 0 0 0 1 0]]] N -> I 0.91\n",
      "[[[0 0 0 0 0 0 1 0 0 0 0]]] I -> N 0.98\n",
      "[[[0 0 0 0 0 0 0 0 0 1 0]]] N -> G 0.75\n",
      "[[[0 0 0 0 1 0 0 0 0 0 0]]] G -> N 0.63\n"
     ]
    }
   ],
   "source": [
    "# Comentar el reset_states y ver que pasa\n",
    "# Entrenar 2 de 500 epochs\n",
    "\n",
    "model_6s.reset_states()\n",
    "\n",
    "for i in range(16):\n",
    "    to_predict = y_coded[i:i+1].reshape(1, 1, len(chars))\n",
    "    predicted = model_6s.predict(to_predict)\n",
    "    idx = np.argmax(predicted[0])\n",
    "    print(str(to_predict)+' '+text[i], '->', indices_to_chars[idx], int(predicted[0][idx]*100)/100)"
   ]
  },
  {
   "cell_type": "markdown",
   "metadata": {},
   "source": [
    "### Arrancando del medio"
   ]
  },
  {
   "cell_type": "code",
   "execution_count": 75,
   "metadata": {},
   "outputs": [
    {
     "name": "stdout",
     "output_type": "stream",
     "text": [
      "[[[0 0 0 0 0 0 0 1 0 0 0]]] L -> E 0.4\n",
      "[[[0 0 0 1 0 0 0 0 0 0 0]]] E ->   0.56\n",
      "[[[0 1 0 0 0 0 0 0 0 0 0]]] A -> C 0.41\n",
      "[[[0 0 0 0 0 0 0 0 0 0 1]]] R -> H 0.44\n",
      "[[[0 0 0 0 0 0 0 0 0 1 0]]] N -> I 0.86\n"
     ]
    }
   ],
   "source": [
    "model_6s.reset_states()\n",
    "st = 8\n",
    "for i in range(5):\n",
    "    to_predict = y_coded[i+st:i+st+1].reshape(1, 1, len(chars))\n",
    "    predicted = model_6s.predict(to_predict)\n",
    "    idx = np.argmax(predicted[0])\n",
    "    print(str(to_predict)+' '+text[i+st], '->', indices_to_chars[idx], int(predicted[0][idx]*100)/100)"
   ]
  },
  {
   "cell_type": "markdown",
   "metadata": {},
   "source": [
    "\n",
    "### Ventajas/Desventajas entre este método y stateful\n",
    "- Ventajas: Este metodo permite el entrenamiento de a batches de manera mas simple\n",
    "- Desventajas: Si la secuencia es muy larga el unfolding termina siendo demasiado largo y requiere mas memoria y procesamiento\n",
    "\n",
    "Nota: En stateful, dependiendo del problema, se puede entrenar con batch size mayor a uno pero hay que pensar bien el armado de las secuencias de entrenamiento.\n",
    "\n",
    "Un ejemplo podría ser: Tengo que generar frases cortas de longitud variable y quiero que aprenda un modelo de lenguage para generar una frase corta"
   ]
  },
  {
   "cell_type": "markdown",
   "metadata": {},
   "source": [
    "# 7 - Many to Many"
   ]
  },
  {
   "cell_type": "code",
   "execution_count": 76,
   "metadata": {},
   "outputs": [],
   "source": [
    "inp = chars_to_one_hot(' MACHINE LEARNING', chars, chars_to_indices, window_size)*1\n",
    "out = chars_to_one_hot('MACHINE LEARNING ', chars, chars_to_indices, window_size)*1"
   ]
  },
  {
   "cell_type": "code",
   "execution_count": 77,
   "metadata": {},
   "outputs": [
    {
     "name": "stdout",
     "output_type": "stream",
     "text": [
      "_________________________________________________________________\n",
      "Layer (type)                 Output Shape              Param #   \n",
      "=================================================================\n",
      "simple_rnn_10 (SimpleRNN)    (None, 17, 10)            220       \n",
      "_________________________________________________________________\n",
      "dense_10 (Dense)             (None, 17, 11)            121       \n",
      "=================================================================\n",
      "Total params: 341\n",
      "Trainable params: 341\n",
      "Non-trainable params: 0\n",
      "_________________________________________________________________\n"
     ]
    }
   ],
   "source": [
    "model_7 = Sequential()\n",
    "model_7.add(SimpleRNN(10, input_shape=(inp.shape[1],inp.shape[2]), return_sequences=True))\n",
    "model_7.add(Dense(len(chars), activation=\"softmax\"))\n",
    "model_7.summary()"
   ]
  },
  {
   "cell_type": "code",
   "execution_count": 78,
   "metadata": {},
   "outputs": [
    {
     "data": {
      "image/png": "[encoded data removed]",
      "text/plain": [
       "<Figure size 1440x360 with 2 Axes>"
      ]
     },
     "metadata": {
      "needs_background": "light"
     },
     "output_type": "display_data"
    },
    {
     "name": "stdout",
     "output_type": "stream",
     "text": [
      "Epoch 992/1000\n",
      "1/1 [==============================] - 0s 8ms/step - loss: 0.0760 - acc: 1.0000\n",
      "Epoch 993/1000\n",
      "1/1 [==============================] - 0s 8ms/step - loss: 0.0759 - acc: 1.0000\n",
      "Epoch 994/1000\n",
      "1/1 [==============================] - 0s 9ms/step - loss: 0.0757 - acc: 1.0000\n",
      "Epoch 995/1000\n",
      "1/1 [==============================] - 0s 12ms/step - loss: 0.0755 - acc: 1.0000\n",
      "Epoch 996/1000\n",
      "1/1 [==============================] - 0s 8ms/step - loss: 0.0753 - acc: 1.0000\n",
      "Epoch 997/1000\n",
      "1/1 [==============================] - 0s 8ms/step - loss: 0.0752 - acc: 1.0000\n",
      "Epoch 998/1000\n",
      "1/1 [==============================] - 0s 8ms/step - loss: 0.0750 - acc: 1.0000\n",
      "Epoch 999/1000\n",
      "1/1 [==============================] - 0s 11ms/step - loss: 0.0748 - acc: 1.0000\n",
      "Epoch 1000/1000\n",
      "1/1 [==============================] - 0s 10ms/step - loss: 0.0747 - acc: 1.0000\n"
     ]
    },
    {
     "data": {
      "text/plain": [
       "<keras.callbacks.History at 0x7f20cb765438>"
      ]
     },
     "execution_count": 78,
     "metadata": {},
     "output_type": "execute_result"
    }
   ],
   "source": [
    "model_7.compile(optimizer='adam', loss='categorical_crossentropy', metrics=['accuracy'])\n",
    "plot_losses = PlotLosses(plot_interval=10, evaluate_interval=None)\n",
    "model_7.fit(inp,out, epochs=1000, batch_size=1, verbose=1, callbacks=[plot_losses])"
   ]
  },
  {
   "cell_type": "code",
   "execution_count": 79,
   "metadata": {},
   "outputs": [
    {
     "name": "stdout",
     "output_type": "stream",
     "text": [
      "_________________________________________________________________\n",
      "Layer (type)                 Output Shape              Param #   \n",
      "=================================================================\n",
      "simple_rnn_11 (SimpleRNN)    (1, 1, 10)                220       \n",
      "_________________________________________________________________\n",
      "dense_11 (Dense)             (1, 1, 11)                121       \n",
      "=================================================================\n",
      "Total params: 341\n",
      "Trainable params: 341\n",
      "Non-trainable params: 0\n",
      "_________________________________________________________________\n"
     ]
    }
   ],
   "source": [
    "# batch_size=1\n",
    "model_7s = Sequential()\n",
    "model_7s.add(SimpleRNN(10, batch_input_shape=(1,1,inp.shape[2]), stateful=True, return_sequences=True))\n",
    "model_7s.add(Dense(len(chars), activation=\"softmax\"))\n",
    "model_7s.summary()"
   ]
  },
  {
   "cell_type": "code",
   "execution_count": 80,
   "metadata": {},
   "outputs": [],
   "source": [
    "model_7s.set_weights(model_7.get_weights())"
   ]
  },
  {
   "cell_type": "code",
   "execution_count": 81,
   "metadata": {},
   "outputs": [
    {
     "name": "stdout",
     "output_type": "stream",
     "text": [
      "I -> N 0.61\n",
      "N -> E 0.83\n",
      "E ->   0.74\n",
      "  -> L 0.79\n",
      "L -> E 0.92\n",
      "E -> A 0.94\n",
      "A -> R 0.89\n",
      "R -> N 0.92\n",
      "N -> I 0.97\n",
      "I -> N 0.93\n",
      "N -> G 0.81\n",
      "G ->   0.96\n"
     ]
    }
   ],
   "source": [
    "# Probar con 0, 3, 4, 7 y 1\n",
    "starting = 4\n",
    "model_7s.reset_states()\n",
    "for c in text[starting:]:\n",
    "    to_predict = chars_to_one_hot(c, chars, chars_to_indices, window_size)*1\n",
    "    predicted = model_7s.predict(to_predict)\n",
    "    print(c, '->', indices_to_chars[np.argmax(predicted[0])], int(np.max(predicted[0])*100)/100)"
   ]
  },
  {
   "cell_type": "markdown",
   "metadata": {},
   "source": [
    "## Ejemplo 7: Return sequence"
   ]
  },
  {
   "cell_type": "code",
   "execution_count": 82,
   "metadata": {},
   "outputs": [
    {
     "name": "stdout",
     "output_type": "stream",
     "text": [
      "Caracteres distintos:\n",
      "[' ', '#', '$', 'A', 'C', 'E', 'G', 'H', 'I', 'L', 'M', 'N', 'R']\n",
      "[[[0 1 0 0 0 0 0 0 0 0 0 0 0]\n",
      "  [0 0 0 0 0 0 0 0 0 0 1 0 0]\n",
      "  [0 0 0 1 0 0 0 0 0 0 0 0 0]\n",
      "  [0 0 0 0 1 0 0 0 0 0 0 0 0]\n",
      "  [0 0 0 0 0 0 0 1 0 0 0 0 0]\n",
      "  [0 0 0 0 0 0 0 0 1 0 0 0 0]\n",
      "  [0 0 0 0 0 0 0 0 0 0 0 1 0]\n",
      "  [0 0 0 0 0 1 0 0 0 0 0 0 0]\n",
      "  [1 0 0 0 0 0 0 0 0 0 0 0 0]\n",
      "  [0 0 0 0 0 0 0 0 0 1 0 0 0]\n",
      "  [0 0 0 0 0 1 0 0 0 0 0 0 0]\n",
      "  [0 0 0 1 0 0 0 0 0 0 0 0 0]\n",
      "  [0 0 0 0 0 0 0 0 0 0 0 0 1]\n",
      "  [0 0 0 0 0 0 0 0 0 0 0 1 0]\n",
      "  [0 0 0 0 0 0 0 0 1 0 0 0 0]\n",
      "  [0 0 0 0 0 0 0 0 0 0 0 1 0]\n",
      "  [0 0 0 0 0 0 1 0 0 0 0 0 0]\n",
      "  [0 0 1 0 0 0 0 0 0 0 0 0 0]]]\n",
      "(1, 18, 13)\n"
     ]
    }
   ],
   "source": [
    "text=\"#MACHINE LEARNING$\"\n",
    "chars = sorted(set(text))\n",
    "print('Caracteres distintos:')\n",
    "print(chars)\n",
    "window_size=1\n",
    "chars_to_indices = dict((c, i) for i, c in enumerate(chars))  # map each unique character to unique integer\n",
    "indices_to_chars = dict((i, c) for i, c in enumerate(chars))\n",
    "one_hot_text = chars_to_one_hot(text, chars, chars_to_indices, window_size)*1\n",
    "print(one_hot_text)\n",
    "print(one_hot_text.shape)"
   ]
  },
  {
   "cell_type": "code",
   "execution_count": 83,
   "metadata": {},
   "outputs": [],
   "source": [
    "X_train = one_hot_text[:, :-1, :]\n",
    "y_train = one_hot_text[:, 1:, :]"
   ]
  },
  {
   "cell_type": "code",
   "execution_count": 84,
   "metadata": {},
   "outputs": [
    {
     "data": {
      "text/plain": [
       "((1, 17, 13), (1, 17, 13))"
      ]
     },
     "execution_count": 84,
     "metadata": {},
     "output_type": "execute_result"
    }
   ],
   "source": [
    "X_train.shape, y_train.shape"
   ]
  },
  {
   "cell_type": "code",
   "execution_count": 85,
   "metadata": {},
   "outputs": [
    {
     "ename": "NameError",
     "evalue": "name 'LSTM' is not defined",
     "output_type": "error",
     "traceback": [
      "\u001b[0;31m---------------------------------------------------------------------------\u001b[0m",
      "\u001b[0;31mNameError\u001b[0m                                 Traceback (most recent call last)",
      "\u001b[0;32m<ipython-input-85-c1f9b74f53f6>\u001b[0m in \u001b[0;36m<module>\u001b[0;34m\u001b[0m\n\u001b[1;32m      2\u001b[0m \u001b[0;32mfrom\u001b[0m \u001b[0mkeras\u001b[0m\u001b[0;34m.\u001b[0m\u001b[0mmodels\u001b[0m \u001b[0;32mimport\u001b[0m \u001b[0mSequential\u001b[0m\u001b[0;34m\u001b[0m\u001b[0m\n\u001b[1;32m      3\u001b[0m \u001b[0mmodel_7\u001b[0m \u001b[0;34m=\u001b[0m \u001b[0mSequential\u001b[0m\u001b[0;34m(\u001b[0m\u001b[0;34m)\u001b[0m\u001b[0;34m\u001b[0m\u001b[0m\n\u001b[0;32m----> 4\u001b[0;31m \u001b[0mmodel_7\u001b[0m\u001b[0;34m.\u001b[0m\u001b[0madd\u001b[0m\u001b[0;34m(\u001b[0m\u001b[0mLSTM\u001b[0m\u001b[0;34m(\u001b[0m\u001b[0;36m10\u001b[0m\u001b[0;34m,\u001b[0m \u001b[0mreturn_sequences\u001b[0m\u001b[0;34m=\u001b[0m\u001b[0;32mTrue\u001b[0m\u001b[0;34m,\u001b[0m \u001b[0minput_shape\u001b[0m\u001b[0;34m=\u001b[0m\u001b[0;34m(\u001b[0m\u001b[0mX_train\u001b[0m\u001b[0;34m.\u001b[0m\u001b[0mshape\u001b[0m\u001b[0;34m[\u001b[0m\u001b[0;36m1\u001b[0m\u001b[0;34m]\u001b[0m\u001b[0;34m,\u001b[0m\u001b[0mlen\u001b[0m\u001b[0;34m(\u001b[0m\u001b[0mchars\u001b[0m\u001b[0;34m)\u001b[0m\u001b[0;34m)\u001b[0m\u001b[0;34m)\u001b[0m\u001b[0;34m)\u001b[0m\u001b[0;34m\u001b[0m\u001b[0m\n\u001b[0m\u001b[1;32m      5\u001b[0m \u001b[0mmodel_7\u001b[0m\u001b[0;34m.\u001b[0m\u001b[0madd\u001b[0m\u001b[0;34m(\u001b[0m\u001b[0mDense\u001b[0m\u001b[0;34m(\u001b[0m\u001b[0mlen\u001b[0m\u001b[0;34m(\u001b[0m\u001b[0mchars\u001b[0m\u001b[0;34m)\u001b[0m\u001b[0;34m,\u001b[0m \u001b[0mactivation\u001b[0m\u001b[0;34m=\u001b[0m\u001b[0;34m\"softmax\"\u001b[0m\u001b[0;34m)\u001b[0m\u001b[0;34m)\u001b[0m\u001b[0;34m\u001b[0m\u001b[0m\n\u001b[1;32m      6\u001b[0m \u001b[0mmodel_7\u001b[0m\u001b[0;34m.\u001b[0m\u001b[0msummary\u001b[0m\u001b[0;34m(\u001b[0m\u001b[0;34m)\u001b[0m\u001b[0;34m\u001b[0m\u001b[0m\n",
      "\u001b[0;31mNameError\u001b[0m: name 'LSTM' is not defined"
     ]
    }
   ],
   "source": [
    "from keras.layers import SimpleRNN, Dense\n",
    "from keras.models import Sequential\n",
    "model_7 = Sequential()\n",
    "model_7.add(LSTM(10, return_sequences=True, input_shape=(X_train.shape[1],len(chars))))\n",
    "model_7.add(Dense(len(chars), activation=\"softmax\"))\n",
    "model_7.summary()"
   ]
  },
  {
   "cell_type": "code",
   "execution_count": null,
   "metadata": {},
   "outputs": [],
   "source": [
    "model_7.compile(optimizer='adam', loss='categorical_crossentropy', metrics=['accuracy'])\n",
    "plot_losses = PlotLosses(plot_interval=10, evaluate_interval=None)\n",
    "model_7.fit(X_train,y_train, epochs=500, batch_size=1, verbose=1, callbacks=[plot_losses])"
   ]
  },
  {
   "cell_type": "code",
   "execution_count": null,
   "metadata": {},
   "outputs": [],
   "source": [
    "X_train.shape"
   ]
  },
  {
   "cell_type": "code",
   "execution_count": null,
   "metadata": {},
   "outputs": [],
   "source": [
    "model_7.predict(X_train).shape"
   ]
  },
  {
   "cell_type": "code",
   "execution_count": null,
   "metadata": {},
   "outputs": [],
   "source": [
    "model_7.predict_classes(X_train)"
   ]
  },
  {
   "cell_type": "code",
   "execution_count": null,
   "metadata": {},
   "outputs": [],
   "source": [
    "indices_to_chars"
   ]
  },
  {
   "cell_type": "markdown",
   "metadata": {},
   "source": [
    "# Encoder decoder\n",
    "https://machinelearningmastery.com/encoder-decoder-long-short-term-memory-networks/"
   ]
  },
  {
   "cell_type": "markdown",
   "metadata": {},
   "source": [
    "# Sentiment analysis con CNN y LSTM\n",
    "https://machinelearningmastery.com/sequence-classification-lstm-recurrent-neural-networks-python-keras/"
   ]
  },
  {
   "cell_type": "markdown",
   "metadata": {},
   "source": [
    "# Word-level language model"
   ]
  },
  {
   "cell_type": "markdown",
   "metadata": {},
   "source": [
    "https://machinelearningmastery.com/how-to-develop-a-word-level-neural-language-model-in-keras/"
   ]
  },
  {
   "cell_type": "markdown",
   "metadata": {},
   "source": [
    "# return_sequence vs return_state\n",
    "https://www.quora.com/What-is-the-difference-between-states-and-outputs-in-LSTM\n",
    "\n",
    "https://machinelearningmastery.com/return-sequences-and-return-states-for-lstms-in-keras/"
   ]
  },
  {
   "cell_type": "markdown",
   "metadata": {},
   "source": [
    "# Truncated BPTT \n",
    "https://machinelearningmastery.com/truncated-backpropagation-through-time-in-keras/"
   ]
  }
 ],
 "metadata": {
  "kernelspec": {
   "display_name": "Python 3",
   "language": "python",
   "name": "python3"
  },
  "language_info": {
   "codemirror_mode": {
    "name": "ipython",
    "version": 3
   },
   "file_extension": ".py",
   "mimetype": "text/x-python",
   "name": "python",
   "nbconvert_exporter": "python",
   "pygments_lexer": "ipython3",
   "version": "3.6.6"
  },
  "toc": {
   "nav_menu": {},
   "number_sections": true,
   "sideBar": true,
   "skip_h1_title": true,
   "toc_cell": false,
   "toc_position": {},
   "toc_section_display": "block",
   "toc_window_display": false
  }
 },
 "nbformat": 4,
 "nbformat_minor": 2
}
