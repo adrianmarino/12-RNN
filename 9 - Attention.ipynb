{
 "cells": [
  {
   "cell_type": "markdown",
   "metadata": {},
   "source": [
    "# NMT con attention\n",
    "\n",
    "- Vimos una forma de implementar many to one, pero hay otra:\n",
    "\n",
    "<img src=\"many2one.png\">\n",
    "\n",
    "- La LSTM no es capaz de guardar un estado para secuencias muy largas, si bien tiene mas memoria que la SimpleRNN.\n",
    "_ La segunda topología mira todos los estados intermedios y elige el feature mas importante (como el max pooling de la CNN).\n",
    "- Otra opción es usar una softmax (coamo alternativa a hard max).\n",
    "\n",
    "Esta es la idea prinipal de attention: si bien uno tiene acceso a todos los features, en vez de darle la misma importancia a todos, se los pesa con algún criterio (próximo a definir).\n",
    "Ese criterio está definido por una mini-red neuronal dentro de la red neuronal total. (Como la LSTM o la GRU).\n",
    "\n",
    "Para el traductor, dejaremos de usar la primera estructura y pasaremos a la segunda:\n",
    "\n",
    "<img src=\"NMT-attention.png\">\n",
    "\n",
    "El diagrama completo con attention queda:\n",
    "\n",
    "<img src=\"NMT-conetxt.png\">"
   ]
  },
  {
   "cell_type": "markdown",
   "metadata": {},
   "source": [
    "Es importante distinguir la variable tiempo a la entrada de la variable tiempo a la salida, por eso a la variable tiempo a la entrada (que va de 1 hasta Tx) la llamaremos t'. A la variable tiempo de salida (que va de 1 hasta Ty la llamaremos t).\n",
    "\n",
    "A cada una de las celdas LSTM del decoder le llega un vector de contexto, que es un promedio ponderado de cada uno de los estados de la LSTM. A los factores de ponderamiento los llamaremos $\\alpha(t')$.  \n",
    "Los $\\alpha$ definirán cuanta atención se pondrá a cada estado del encoder.\n",
    "\n",
    "Los $\\alpha$ son obtenidos con la mini-nn mencionada anteriormente. Esa mini-nn estima estos parámetros en función del estado en t-1 del decoder (ya que da información de dónde estoy en la oración de salida) y de los estados del enconder (que contienen la información de la oración que estoy traduciendo).\n",
    "\n",
    "Discusión:\n",
    "\n",
    "How are you today? ¿Cómo estás hoy?\n",
    "\n",
    "Como se calcula attention:\n",
    "\n",
    "$ z_1(t,t')=concat[ s(t-1), h(t') ] $ -> $dim= \\#decoStates + 2 \\#encoStates$  \n",
    "\n",
    "$ z_2(t) = [z_1(t,1)...,...z1(t,T_x) ] $ -> $dim= (T_x, \\#decoStates + 2 \\#encoStates)$   \n",
    "\n",
    "$ z_3(t) = f(W_1*z_2(t)+b_1) $ -> $dim=(T_x,Attention_dim)$, $f$ podría ser una tanh o una función lineal.  \n",
    "\n",
    "$ alphas(t,t')=softmax(W_2*z3+b_2)$ $dim=(T_x,1)$ -> **Pero esto tiene un problema, ya que la softmax de Keras realiza la operación en el eje incorrecto!. Todas las salidas valdrían 1!.**  \n",
    "\n",
    "$ alphas(t,t')=softmaxOverTime(W_2*z3+b_2)$ -> Se implementa la softmax_over_time de forma tal que aplique la softmax en el axis=1 y no en el axis=2.  \n"
   ]
  },
  {
   "cell_type": "code",
   "execution_count": 57,
   "metadata": {},
   "outputs": [],
   "source": [
    "import os, sys\n",
    "\n",
    "from keras.models import Model\n",
    "from keras.layers import Input, LSTM, GRU, Dense, Embedding, \\\n",
    "  Bidirectional, RepeatVector, Concatenate, Activation, Dot, Lambda\n",
    "from keras.preprocessing.text import Tokenizer\n",
    "from keras.preprocessing.sequence import pad_sequences\n",
    "import keras.backend as K\n",
    "\n",
    "import numpy as np\n",
    "import matplotlib.pyplot as plt"
   ]
  },
  {
   "cell_type": "code",
   "execution_count": 58,
   "metadata": {},
   "outputs": [],
   "source": [
    "# config\n",
    "BATCH_SIZE = 256\n",
    "EPOCHS = 100\n",
    "LATENT_DIM = 256\n",
    "LATENT_DIM_DECODER = 256 # idea: make it different to ensure things all fit together properly!\n",
    "NUM_SAMPLES = 10000\n",
    "MAX_SEQUENCE_LENGTH = 100\n",
    "MAX_NUM_WORDS = 20000\n",
    "EMBEDDING_DIM = 100\n",
    "START_SAMPLE=100000"
   ]
  },
  {
   "cell_type": "code",
   "execution_count": 59,
   "metadata": {},
   "outputs": [],
   "source": [
    "def softmax_over_time(x):\n",
    "    #assert(K.ndim(x) > 2)\n",
    "    #e = K.exp(x - K.max(x, axis=1, keepdims=True))\n",
    "    #s = K.sum(e, axis=1, keepdims=True)\n",
    "    #return e / s\n",
    "    return K.softmax(x,axis=1)"
   ]
  },
  {
   "cell_type": "code",
   "execution_count": 60,
   "metadata": {},
   "outputs": [],
   "source": [
    "# Where we will store the data\n",
    "input_texts = [] # sentence in original language\n",
    "target_texts = [] # sentence in target language\n",
    "target_texts_inputs = [] # sentence in target language offset by 1\n"
   ]
  },
  {
   "cell_type": "code",
   "execution_count": 61,
   "metadata": {},
   "outputs": [
    {
     "name": "stdout",
     "output_type": "stream",
     "text": [
      "num samples: 10000\n"
     ]
    }
   ],
   "source": [
    "t = 0\n",
    "k=0\n",
    "for line in open('fra-eng/fra.txt'):\n",
    "    # only keep a limited number of samples\n",
    "    k +=1\n",
    "    if k>START_SAMPLE:\n",
    "        t += 1\n",
    "        if t > NUM_SAMPLES:\n",
    "            break\n",
    "\n",
    "        # input and target are separated by tab\n",
    "        if '\\t' not in line:\n",
    "            continue\n",
    "\n",
    "        # split up the input and translation\n",
    "        input_text, translation = line.rstrip().split('\\t')\n",
    "\n",
    "        # make the target input and output\n",
    "        # recall we'll be using teacher forcing\n",
    "        target_text = translation + ' <eos>'\n",
    "        target_text_input = '<sos> ' + translation\n",
    "        input_texts.append(input_text)\n",
    "        target_texts.append(target_text)\n",
    "        target_texts_inputs.append(target_text_input)\n",
    "    if t > NUM_SAMPLES:\n",
    "            break\n",
    "print(\"num samples:\", len(input_texts))"
   ]
  },
  {
   "cell_type": "code",
   "execution_count": 62,
   "metadata": {},
   "outputs": [
    {
     "data": {
      "text/plain": [
       "\"<sos> Je pense que vous êtes celui qui l'a cassée.\""
      ]
     },
     "execution_count": 62,
     "metadata": {},
     "output_type": "execute_result"
    }
   ],
   "source": [
    "target_text_input"
   ]
  },
  {
   "cell_type": "code",
   "execution_count": 63,
   "metadata": {},
   "outputs": [
    {
     "data": {
      "text/plain": [
       "'My best friend stole my boyfriend.'"
      ]
     },
     "execution_count": 63,
     "metadata": {},
     "output_type": "execute_result"
    }
   ],
   "source": [
    "input_texts[0]"
   ]
  },
  {
   "cell_type": "code",
   "execution_count": 64,
   "metadata": {},
   "outputs": [
    {
     "data": {
      "text/plain": [
       "\"Ma meilleure amie m'a piqué mon petit copain. <eos>\""
      ]
     },
     "execution_count": 64,
     "metadata": {},
     "output_type": "execute_result"
    }
   ],
   "source": [
    "target_texts[0]"
   ]
  },
  {
   "cell_type": "code",
   "execution_count": 65,
   "metadata": {},
   "outputs": [
    {
     "data": {
      "text/plain": [
       "\"<sos> Ma meilleure amie m'a piqué mon petit copain.\""
      ]
     },
     "execution_count": 65,
     "metadata": {},
     "output_type": "execute_result"
    }
   ],
   "source": [
    "target_texts_inputs[0]"
   ]
  },
  {
   "cell_type": "code",
   "execution_count": 66,
   "metadata": {},
   "outputs": [],
   "source": [
    "# tokenize the inputs\n",
    "tokenizer_inputs = Tokenizer(num_words=MAX_NUM_WORDS)\n",
    "tokenizer_inputs.fit_on_texts(input_texts)\n",
    "input_sequences = tokenizer_inputs.texts_to_sequences(input_texts)"
   ]
  },
  {
   "cell_type": "code",
   "execution_count": 67,
   "metadata": {},
   "outputs": [
    {
     "name": "stdout",
     "output_type": "stream",
     "text": [
      "La oración My uncle lives next to the school. se codifica como [20, 688, 381, 172, 2, 4, 124]\n"
     ]
    }
   ],
   "source": [
    "idx=50\n",
    "print(\"La oración {} se codifica como {}\".format(input_texts[idx],input_sequences[idx]))\n"
   ]
  },
  {
   "cell_type": "code",
   "execution_count": 68,
   "metadata": {},
   "outputs": [
    {
     "name": "stdout",
     "output_type": "stream",
     "text": [
      "El vocabulario origen tiene 4358 palabras.\n"
     ]
    }
   ],
   "source": [
    "# get the word to index mapping for input language\n",
    "word2idx_inputs = tokenizer_inputs.word_index\n",
    "print('El vocabulario origen tiene %s palabras.' % len(word2idx_inputs))"
   ]
  },
  {
   "cell_type": "code",
   "execution_count": 69,
   "metadata": {},
   "outputs": [
    {
     "data": {
      "text/plain": [
       "688"
      ]
     },
     "execution_count": 69,
     "metadata": {},
     "output_type": "execute_result"
    }
   ],
   "source": [
    "word2idx_inputs[\"uncle\"]"
   ]
  },
  {
   "cell_type": "code",
   "execution_count": 70,
   "metadata": {},
   "outputs": [
    {
     "name": "stdout",
     "output_type": "stream",
     "text": [
      "11\n"
     ]
    }
   ],
   "source": [
    "# determine maximum length input sequence\n",
    "max_len_input = max(len(s) for s in input_sequences)\n",
    "print(max_len_input)\n",
    "# recordar que ahora son palabras, no letras"
   ]
  },
  {
   "cell_type": "code",
   "execution_count": 71,
   "metadata": {},
   "outputs": [],
   "source": [
    "# tokenize the outputs\n",
    "# don't filter out special characters\n",
    "# otherwise <sos> and <eos> won't appear\n",
    "tokenizer_outputs = Tokenizer(num_words=MAX_NUM_WORDS, filters='')\n",
    "tokenizer_outputs.fit_on_texts(target_texts + target_texts_inputs) # inefficient, oh well\n",
    "target_sequences = tokenizer_outputs.texts_to_sequences(target_texts)\n",
    "target_sequences_inputs = tokenizer_outputs.texts_to_sequences(target_texts_inputs)\n"
   ]
  },
  {
   "cell_type": "code",
   "execution_count": 72,
   "metadata": {},
   "outputs": [
    {
     "name": "stdout",
     "output_type": "stream",
     "text": [
      "En el decoder, la oración en francés Mon père avait déjà été en Grèce. <eos> se codifica como [37, 202, 176, 177, 53, 23, 4487, 1]\n",
      "En el decoder, la oración en francés <sos> Mon père avait déjà été en Grèce. se codifica como [2, 37, 202, 176, 177, 53, 23, 4487]\n"
     ]
    }
   ],
   "source": [
    "idx=15\n",
    "print(\"En el decoder, la oración en francés {} se codifica como {}\".format(target_texts[idx],target_sequences[idx]))\n",
    "print(\"En el decoder, la oración en francés {} se codifica como {}\".format(target_texts_inputs[idx],target_sequences_inputs[idx]))"
   ]
  },
  {
   "cell_type": "code",
   "execution_count": 73,
   "metadata": {},
   "outputs": [
    {
     "name": "stdout",
     "output_type": "stream",
     "text": [
      "El vocabulario destino tiene 9268 palabras.\n"
     ]
    }
   ],
   "source": [
    "# get the word to index mapping for output language\n",
    "word2idx_outputs = tokenizer_outputs.word_index\n",
    "print('El vocabulario destino tiene %s palabras.' % len(word2idx_outputs))"
   ]
  },
  {
   "cell_type": "code",
   "execution_count": 74,
   "metadata": {},
   "outputs": [],
   "source": [
    "# store number of output words for later\n",
    "# remember to add 1 since indexing starts at 1\n",
    "num_words_output = len(word2idx_outputs) + 1"
   ]
  },
  {
   "cell_type": "code",
   "execution_count": 75,
   "metadata": {},
   "outputs": [
    {
     "name": "stdout",
     "output_type": "stream",
     "text": [
      "La cantidad máxima de palabras de la secuencia para el decoder es 17.\n"
     ]
    }
   ],
   "source": [
    "# determine maximum length output sequence\n",
    "max_len_target = max(len(s) for s in target_sequences)\n",
    "print(\"La cantidad máxima de palabras de la secuencia para el decoder es {}.\".format(max_len_target))"
   ]
  },
  {
   "cell_type": "code",
   "execution_count": 76,
   "metadata": {},
   "outputs": [
    {
     "name": "stdout",
     "output_type": "stream",
     "text": [
      "encoder_data.shape: (10000, 11)\n",
      "encoder_data[0]: [  0   0   0   0  20 688 381 172   2   4 124]\n"
     ]
    }
   ],
   "source": [
    "# pad the sequences\n",
    "encoder_inputs = pad_sequences(input_sequences, maxlen=max_len_input)\n",
    "print(\"encoder_data.shape:\", encoder_inputs.shape)\n",
    "print(\"encoder_data[0]:\", encoder_inputs[50])"
   ]
  },
  {
   "cell_type": "code",
   "execution_count": 77,
   "metadata": {},
   "outputs": [
    {
     "name": "stdout",
     "output_type": "stream",
     "text": [
      "decoder_data[0]: [   2   51  920 1019   97 4481   37  264 4482    0    0    0    0    0\n",
      "    0    0    0]\n",
      "decoder_data.shape: (10000, 17)\n"
     ]
    }
   ],
   "source": [
    "# Recordar que el 2 es <sos>\n",
    "decoder_inputs = pad_sequences(target_sequences_inputs, maxlen=max_len_target, padding='post')\n",
    "print(\"decoder_data[0]:\", decoder_inputs[0])\n",
    "print(\"decoder_data.shape:\", decoder_inputs.shape)\n"
   ]
  },
  {
   "cell_type": "code",
   "execution_count": 78,
   "metadata": {},
   "outputs": [],
   "source": [
    "decoder_targets = pad_sequences(target_sequences, maxlen=max_len_target, padding='post')"
   ]
  },
  {
   "cell_type": "code",
   "execution_count": 79,
   "metadata": {},
   "outputs": [
    {
     "data": {
      "text/plain": [
       "array([  51,  920, 1019,   97, 4481,   37,  264, 4482,    1,    0,    0,\n",
       "          0,    0,    0,    0,    0,    0], dtype=int32)"
      ]
     },
     "execution_count": 79,
     "metadata": {},
     "output_type": "execute_result"
    }
   ],
   "source": [
    "# Recordar que el 1 es <eos>\n",
    "decoder_targets[0]"
   ]
  },
  {
   "cell_type": "code",
   "execution_count": 80,
   "metadata": {},
   "outputs": [
    {
     "name": "stdout",
     "output_type": "stream",
     "text": [
      "Loading word vectors...\n",
      "Found 400000 word vectors.\n"
     ]
    }
   ],
   "source": [
    "# store all the pre-trained word vectors\n",
    "print('Loading word vectors...')\n",
    "word2vec = {}\n",
    "with open(os.path.join('glove/glove.6B.%sd.txt' % EMBEDDING_DIM)) as f:\n",
    "  # is just a space-separated text file in the format:\n",
    "  # word vec[0] vec[1] vec[2] ...\n",
    "    for line in f:\n",
    "        values = line.split()\n",
    "        word = values[0]\n",
    "        vec = np.asarray(values[1:], dtype='float32')\n",
    "        word2vec[word] = vec\n",
    "print('Found %s word vectors.' % len(word2vec))\n"
   ]
  },
  {
   "cell_type": "code",
   "execution_count": 81,
   "metadata": {},
   "outputs": [
    {
     "name": "stdout",
     "output_type": "stream",
     "text": [
      "Filling pre-trained embeddings...\n"
     ]
    }
   ],
   "source": [
    "# prepare embedding matrix\n",
    "print('Filling pre-trained embeddings...')\n",
    "num_words = min(MAX_NUM_WORDS, len(word2idx_inputs) + 1)\n",
    "embedding_matrix = np.zeros((num_words, EMBEDDING_DIM))\n",
    "for word, i in word2idx_inputs.items():\n",
    "    if i < MAX_NUM_WORDS:\n",
    "        embedding_vector = word2vec.get(word)\n",
    "        if embedding_vector is not None:\n",
    "            # words not found in embedding index will be all zeros.\n",
    "            embedding_matrix[i] = embedding_vector"
   ]
  },
  {
   "cell_type": "code",
   "execution_count": 82,
   "metadata": {},
   "outputs": [],
   "source": [
    "# create embedding layer\n",
    "embedding_layer = Embedding(\n",
    "  num_words,\n",
    "  EMBEDDING_DIM,\n",
    "  weights=[embedding_matrix],\n",
    "  input_length=max_len_input,\n",
    "  #trainable=True\n",
    ")"
   ]
  },
  {
   "cell_type": "code",
   "execution_count": 83,
   "metadata": {},
   "outputs": [
    {
     "data": {
      "text/plain": [
       "(100,)"
      ]
     },
     "execution_count": 83,
     "metadata": {},
     "output_type": "execute_result"
    }
   ],
   "source": [
    "word2vec[\"the\"].shape"
   ]
  },
  {
   "cell_type": "code",
   "execution_count": 84,
   "metadata": {},
   "outputs": [],
   "source": [
    "# create targets, since we cannot use sparse\n",
    "# categorical cross entropy when we have sequences\n",
    "decoder_targets_one_hot = np.zeros(\n",
    "  (\n",
    "    len(input_texts),\n",
    "    max_len_target,\n",
    "    num_words_output\n",
    "  ),\n",
    "  dtype='float32'\n",
    ")"
   ]
  },
  {
   "cell_type": "code",
   "execution_count": 85,
   "metadata": {},
   "outputs": [],
   "source": [
    "# assign the values\n",
    "for i, d in enumerate(decoder_targets):\n",
    "    for t, word in enumerate(d):\n",
    "        decoder_targets_one_hot[i, t, word] = 1"
   ]
  },
  {
   "cell_type": "code",
   "execution_count": 86,
   "metadata": {},
   "outputs": [],
   "source": [
    "##### build the model #####\n",
    "\n",
    "# Set up the encoder - simple!\n",
    "encoder_inputs_placeholder = Input(shape=(max_len_input,))\n",
    "x = embedding_layer(encoder_inputs_placeholder)\n",
    "encoder = Bidirectional(LSTM(LATENT_DIM, return_sequences=True, dropout=0.5))\n",
    "encoder_outputs = encoder(x)"
   ]
  },
  {
   "cell_type": "code",
   "execution_count": 87,
   "metadata": {},
   "outputs": [],
   "source": [
    "# Set up the decoder - not so simple\n",
    "decoder_inputs_placeholder = Input(shape=(max_len_target,))\n",
    "\n",
    "# this word embedding will not use pre-trained vectors\n",
    "# although you could\n",
    "decoder_embedding = Embedding(num_words_output, EMBEDDING_DIM)\n",
    "decoder_inputs_x = decoder_embedding(decoder_inputs_placeholder)"
   ]
  },
  {
   "cell_type": "code",
   "execution_count": 89,
   "metadata": {},
   "outputs": [],
   "source": [
    "######### Attention #########\n",
    "# Attention layers need to be global because\n",
    "# they will be repeated Ty times at the decoder\n",
    "attn_repeat_layer = RepeatVector(max_len_input)\n",
    "attn_concat_layer = Concatenate(axis=-1)\n",
    "attn_dense1 = Dense(10, activation='tanh')\n",
    "attn_dense2 = Dense(1, activation=softmax_over_time)\n",
    "attn_dot = Dot(axes=1) # to perform the weighted sum of alpha[t] * h[t]\n"
   ]
  },
  {
   "cell_type": "code",
   "execution_count": null,
   "metadata": {},
   "outputs": [],
   "source": []
  },
  {
   "cell_type": "markdown",
   "metadata": {},
   "source": [
    "## Implementación de attention para una celda de salida.\n",
    "\n",
    "Se implementará una función que a partir de una lista de las salidas del encoder y el estado en el instante de tiempo anterior del decoder, devuelve el vector de contexto y los alphas que se usaron para poderar a los h para calcular el vector de contexto.\n",
    "\n",
    "A continuación se muestra el diagrama implementado por la función:\n",
    "\n",
    "<img src=\"attention.png\">\n",
    "\n",
    "1) La función recibe una lista con las salidas (h) del encoder y el estado anterior del decoder s(t-1).  \n",
    "2) Se repite s(t-1) Tx veces, de manera tal que se pueda concatenar a cada h con una repetición de s(t-1).  \n",
    "3) Se realiza la concatenación de la lista de h y s(t-1).  \n",
    "4) Se lo pasa por una capa densa de Att_dim neuronas. Es muy importante recordar que cuando uno procesa un vector de dimensiones (Tx, N=latent_encoder_dim+2\\*latent_decoder_dim) con una capa densa, la capa densa multiplica por la matriz de pesos cada uno de los TX vectores de tamaño N y aplica la función de activación independientemente a cada una de las salidas de estas multiplicaciones, según se muestra en (b).  \n",
    "5) A cada uno de los Tx vectores de tamaño Att_dim que salen de la capa anterior, se los multiplica por el mismo vector de pesos de tamaño Att_dim. Esto se logra fácilmente aplicando una capa densa con una sola neurona.  \n",
    "6) A cada uno de los valores obtenidos en el punto anterior, se los procesa con una softmax para obtener los alpha. Tipicamente en una red neuronal tendría Tx vectores de salida y cada uno de estos vectores se procesarían con una softmax. Si hiciera esto en este caso, con vectores de salida de tamaño 1, tendria Tx salidas cuyo valor es 1, ya que una softmax aplicada a un solo valor, vale 1. Lo que se necesita es una softmax que tenga en cuenta a cada una de las Tx salidas en conjunto, y eso se logra aplicando la softmax en el axis 1 en vez del axis 2 (el cual sería el default en este caso).  \n",
    "\n",
    "En el diagrama se muestran las dos posibles configuraciones de softmax para mayor claridad.  \n",
    "\n",
    "En (c) se muestra una red neuronal de una sola salida, con softmax.  "
   ]
  },
  {
   "cell_type": "code",
   "execution_count": 90,
   "metadata": {},
   "outputs": [],
   "source": [
    "def one_step_attention(h, st_1):\n",
    "    # h = h(1), ..., h(Tx), shape = (Tx, LATENT_DIM * 2)\n",
    "    # st_1 = s(t-1), shape = (LATENT_DIM_DECODER,)\n",
    "\n",
    "    #Paso 1: se repite s(t-1) Tx veces para poder concatenarlo con los h\n",
    "    st_1 = attn_repeat_layer(st_1)\n",
    "\n",
    "    # Se concatena la lista de s(t-1) repetido con la lista de los h\n",
    "    # Now of shape (Tx, LATENT_DIM_DECODER + LATENT_DIM * 2)\n",
    "    x = attn_concat_layer([h, st_1])\n",
    "\n",
    "    # Se pasa la lista de vectores concatenados por la primera capa densa\n",
    "    x = attn_dense1(x)\n",
    "    \n",
    "    # Neural net second layer with special softmax over time\n",
    "    alphas = attn_dense2(x)\n",
    "    print(alphas)\n",
    "    # \"Dot\" the alphas and the h's\n",
    "    # Remember a.dot(b) = sum over a[t] * b[t]\n",
    "    context = attn_dot([alphas, h])\n",
    "    return [context,alphas]\n"
   ]
  },
  {
   "cell_type": "code",
   "execution_count": 91,
   "metadata": {},
   "outputs": [],
   "source": [
    "# define the rest of the decoder (after attention)\n",
    "decoder_lstm = LSTM(LATENT_DIM_DECODER, return_state=True)\n",
    "decoder_dense = Dense(num_words_output, activation='softmax')\n",
    "\n",
    "initial_s = Input(shape=(LATENT_DIM_DECODER,), name='s0')\n",
    "initial_c = Input(shape=(LATENT_DIM_DECODER,), name='c0')\n",
    "context_last_word_concat_layer = Concatenate(axis=2)"
   ]
  },
  {
   "cell_type": "code",
   "execution_count": 92,
   "metadata": {},
   "outputs": [],
   "source": [
    "# s, c will be re-assigned in each iteration of the loop\n",
    "s = initial_s\n",
    "c = initial_c"
   ]
  },
  {
   "cell_type": "code",
   "execution_count": 93,
   "metadata": {},
   "outputs": [
    {
     "name": "stdout",
     "output_type": "stream",
     "text": [
      "Tensor(\"dense_9/transpose_2:0\", shape=(?, 11, 1), dtype=float32)\n",
      "Tensor(\"dense_9_1/transpose_2:0\", shape=(?, 11, 1), dtype=float32)\n",
      "Tensor(\"dense_9_2/transpose_2:0\", shape=(?, 11, 1), dtype=float32)\n",
      "Tensor(\"dense_9_3/transpose_2:0\", shape=(?, 11, 1), dtype=float32)\n",
      "Tensor(\"dense_9_4/transpose_2:0\", shape=(?, 11, 1), dtype=float32)\n",
      "Tensor(\"dense_9_5/transpose_2:0\", shape=(?, 11, 1), dtype=float32)\n",
      "Tensor(\"dense_9_6/transpose_2:0\", shape=(?, 11, 1), dtype=float32)\n",
      "Tensor(\"dense_9_7/transpose_2:0\", shape=(?, 11, 1), dtype=float32)\n",
      "Tensor(\"dense_9_8/transpose_2:0\", shape=(?, 11, 1), dtype=float32)\n",
      "Tensor(\"dense_9_9/transpose_2:0\", shape=(?, 11, 1), dtype=float32)\n",
      "Tensor(\"dense_9_10/transpose_2:0\", shape=(?, 11, 1), dtype=float32)\n",
      "Tensor(\"dense_9_11/transpose_2:0\", shape=(?, 11, 1), dtype=float32)\n",
      "Tensor(\"dense_9_12/transpose_2:0\", shape=(?, 11, 1), dtype=float32)\n",
      "Tensor(\"dense_9_13/transpose_2:0\", shape=(?, 11, 1), dtype=float32)\n",
      "Tensor(\"dense_9_14/transpose_2:0\", shape=(?, 11, 1), dtype=float32)\n",
      "Tensor(\"dense_9_15/transpose_2:0\", shape=(?, 11, 1), dtype=float32)\n",
      "Tensor(\"dense_9_16/transpose_2:0\", shape=(?, 11, 1), dtype=float32)\n"
     ]
    }
   ],
   "source": [
    "# collect outputs in a list at first\n",
    "outputs = []\n",
    "for t in range(max_len_target): # Ty times\n",
    "    # get the context using attention\n",
    "    context,alphas = one_step_attention(encoder_outputs, s)\n",
    "\n",
    "    # we need a different layer for each time step\n",
    "    selector = Lambda(lambda x: x[:, t:t+1])\n",
    "    xt = selector(decoder_inputs_x)\n",
    "\n",
    "    # combine \n",
    "    decoder_lstm_input = context_last_word_concat_layer([context, xt])\n",
    "\n",
    "    # pass the combined [context, last word] into the LSTM\n",
    "    # along with [s, c]\n",
    "    # get the new [s, c] and output\n",
    "    o, s, c = decoder_lstm(decoder_lstm_input, initial_state=[s, c])\n",
    "\n",
    "    # final dense layer to get next word prediction\n",
    "    decoder_outputs = decoder_dense(o)\n",
    "    outputs.append(decoder_outputs)\n"
   ]
  },
  {
   "cell_type": "code",
   "execution_count": 94,
   "metadata": {},
   "outputs": [],
   "source": [
    "# 'outputs' is now a list of length Ty\n",
    "# each element is of shape (batch size, output vocab size)\n",
    "# therefore if we simply stack all the outputs into 1 tensor\n",
    "# it would be of shape T x N x D\n",
    "# we would like it to be of shape N x T x D\n",
    "\n",
    "def stack_and_transpose(x):\n",
    "  # x is a list of length T, each element is a batch_size x output_vocab_size tensor\n",
    "  x = K.stack(x) # is now T x batch_size x output_vocab_size tensor\n",
    "  x = K.permute_dimensions(x, pattern=(1, 0, 2)) # is now batch_size x T x output_vocab_size\n",
    "  return x\n",
    "\n",
    "# make it a layer\n",
    "stacker = Lambda(stack_and_transpose)\n",
    "outputs = stacker(outputs)\n",
    "\n",
    "# create the model\n",
    "model = Model(\n",
    "  inputs=[\n",
    "    encoder_inputs_placeholder,\n",
    "    decoder_inputs_placeholder,\n",
    "    initial_s, \n",
    "    initial_c,\n",
    "  ],\n",
    "  outputs=outputs\n",
    ")"
   ]
  },
  {
   "cell_type": "code",
   "execution_count": 38,
   "metadata": {},
   "outputs": [
    {
     "name": "stdout",
     "output_type": "stream",
     "text": [
      "Train on 8000 samples, validate on 2000 samples\n",
      "Epoch 1/100\n",
      "8000/8000 [==============================] - 13s 2ms/step - loss: 4.4239 - acc: 0.4873 - val_loss: 3.6753 - val_acc: 0.4844\n",
      "Epoch 2/100\n",
      "8000/8000 [==============================] - 5s 637us/step - loss: 3.3835 - acc: 0.5130 - val_loss: 3.5030 - val_acc: 0.4981\n",
      "Epoch 3/100\n",
      "8000/8000 [==============================] - 5s 638us/step - loss: 3.1061 - acc: 0.5383 - val_loss: 3.3120 - val_acc: 0.5107\n",
      "Epoch 4/100\n",
      "8000/8000 [==============================] - 5s 641us/step - loss: 2.9383 - acc: 0.5699 - val_loss: 3.1662 - val_acc: 0.5660\n",
      "Epoch 5/100\n",
      "8000/8000 [==============================] - 5s 636us/step - loss: 2.7942 - acc: 0.5894 - val_loss: 3.0767 - val_acc: 0.5737\n",
      "Epoch 6/100\n",
      "8000/8000 [==============================] - 5s 638us/step - loss: 2.6727 - acc: 0.5963 - val_loss: 3.0000 - val_acc: 0.5856\n",
      "Epoch 7/100\n",
      "8000/8000 [==============================] - 5s 638us/step - loss: 2.5680 - acc: 0.6034 - val_loss: 2.9402 - val_acc: 0.5912\n",
      "Epoch 8/100\n",
      "8000/8000 [==============================] - 5s 640us/step - loss: 2.4701 - acc: 0.6097 - val_loss: 2.8789 - val_acc: 0.5940\n",
      "Epoch 9/100\n",
      "8000/8000 [==============================] - 5s 638us/step - loss: 2.3758 - acc: 0.6164 - val_loss: 2.8142 - val_acc: 0.5986\n",
      "Epoch 10/100\n",
      "8000/8000 [==============================] - 5s 641us/step - loss: 2.2939 - acc: 0.6223 - val_loss: 2.8154 - val_acc: 0.5961\n",
      "Epoch 11/100\n",
      "8000/8000 [==============================] - 5s 639us/step - loss: 2.2198 - acc: 0.6283 - val_loss: 2.7524 - val_acc: 0.6045\n",
      "Epoch 12/100\n",
      "8000/8000 [==============================] - 5s 641us/step - loss: 2.1454 - acc: 0.6340 - val_loss: 2.7130 - val_acc: 0.6119\n",
      "Epoch 13/100\n",
      "8000/8000 [==============================] - 5s 639us/step - loss: 2.0727 - acc: 0.6406 - val_loss: 2.6766 - val_acc: 0.6137\n",
      "Epoch 14/100\n",
      "8000/8000 [==============================] - 5s 639us/step - loss: 2.0023 - acc: 0.6474 - val_loss: 2.6295 - val_acc: 0.6225\n",
      "Epoch 15/100\n",
      "8000/8000 [==============================] - 5s 639us/step - loss: 1.9364 - acc: 0.6537 - val_loss: 2.6159 - val_acc: 0.6245\n",
      "Epoch 16/100\n",
      "8000/8000 [==============================] - 5s 638us/step - loss: 1.8697 - acc: 0.6599 - val_loss: 2.5799 - val_acc: 0.6273\n",
      "Epoch 17/100\n",
      "8000/8000 [==============================] - 5s 639us/step - loss: 1.8060 - acc: 0.6664 - val_loss: 2.5762 - val_acc: 0.6256\n",
      "Epoch 18/100\n",
      "8000/8000 [==============================] - 5s 640us/step - loss: 1.7454 - acc: 0.6719 - val_loss: 2.5510 - val_acc: 0.6319\n",
      "Epoch 19/100\n",
      "8000/8000 [==============================] - 5s 639us/step - loss: 1.6844 - acc: 0.6782 - val_loss: 2.5295 - val_acc: 0.6339\n",
      "Epoch 20/100\n",
      "8000/8000 [==============================] - 5s 639us/step - loss: 1.6235 - acc: 0.6855 - val_loss: 2.5220 - val_acc: 0.6342\n",
      "Epoch 21/100\n",
      "8000/8000 [==============================] - 5s 639us/step - loss: 1.5684 - acc: 0.6918 - val_loss: 2.4970 - val_acc: 0.6378\n",
      "Epoch 22/100\n",
      "8000/8000 [==============================] - 5s 642us/step - loss: 1.5117 - acc: 0.6990 - val_loss: 2.5104 - val_acc: 0.6401\n",
      "Epoch 23/100\n",
      "8000/8000 [==============================] - 5s 640us/step - loss: 1.4583 - acc: 0.7056 - val_loss: 2.4879 - val_acc: 0.6402\n",
      "Epoch 24/100\n",
      "8000/8000 [==============================] - 5s 641us/step - loss: 1.4055 - acc: 0.7122 - val_loss: 2.4650 - val_acc: 0.6464\n",
      "Epoch 25/100\n",
      "8000/8000 [==============================] - 5s 639us/step - loss: 1.3545 - acc: 0.7192 - val_loss: 2.4591 - val_acc: 0.6466\n",
      "Epoch 26/100\n",
      "8000/8000 [==============================] - 5s 639us/step - loss: 1.3069 - acc: 0.7262 - val_loss: 2.4616 - val_acc: 0.6470\n",
      "Epoch 27/100\n",
      "8000/8000 [==============================] - 5s 641us/step - loss: 1.2592 - acc: 0.7342 - val_loss: 2.4575 - val_acc: 0.6499\n",
      "Epoch 28/100\n",
      "8000/8000 [==============================] - 5s 641us/step - loss: 1.2134 - acc: 0.7410 - val_loss: 2.4459 - val_acc: 0.6521\n",
      "Epoch 29/100\n",
      "8000/8000 [==============================] - 5s 640us/step - loss: 1.1688 - acc: 0.7486 - val_loss: 2.4464 - val_acc: 0.6518\n",
      "Epoch 30/100\n",
      "8000/8000 [==============================] - 5s 642us/step - loss: 1.1244 - acc: 0.7566 - val_loss: 2.4370 - val_acc: 0.6529\n",
      "Epoch 31/100\n",
      "8000/8000 [==============================] - 5s 640us/step - loss: 1.0848 - acc: 0.7637 - val_loss: 2.4363 - val_acc: 0.6556\n",
      "Epoch 32/100\n",
      "8000/8000 [==============================] - 5s 639us/step - loss: 1.0436 - acc: 0.7713 - val_loss: 2.4171 - val_acc: 0.6579\n",
      "Epoch 33/100\n",
      "8000/8000 [==============================] - 5s 640us/step - loss: 1.0067 - acc: 0.7798 - val_loss: 2.4145 - val_acc: 0.6568\n",
      "Epoch 34/100\n",
      "8000/8000 [==============================] - 5s 641us/step - loss: 0.9683 - acc: 0.7868 - val_loss: 2.4258 - val_acc: 0.6588\n",
      "Epoch 35/100\n",
      "8000/8000 [==============================] - 5s 643us/step - loss: 0.9319 - acc: 0.7943 - val_loss: 2.4272 - val_acc: 0.6587\n",
      "Epoch 36/100\n",
      "8000/8000 [==============================] - 5s 643us/step - loss: 0.8961 - acc: 0.8025 - val_loss: 2.4245 - val_acc: 0.6597\n",
      "Epoch 37/100\n",
      "8000/8000 [==============================] - 5s 641us/step - loss: 0.8619 - acc: 0.8100 - val_loss: 2.4108 - val_acc: 0.6619\n",
      "Epoch 38/100\n",
      "8000/8000 [==============================] - 5s 640us/step - loss: 0.8306 - acc: 0.8159 - val_loss: 2.4065 - val_acc: 0.6640\n",
      "Epoch 39/100\n",
      "8000/8000 [==============================] - 5s 640us/step - loss: 0.8000 - acc: 0.8231 - val_loss: 2.4087 - val_acc: 0.6636\n",
      "Epoch 40/100\n",
      "8000/8000 [==============================] - 5s 640us/step - loss: 0.7678 - acc: 0.8297 - val_loss: 2.4161 - val_acc: 0.6640\n",
      "Epoch 41/100\n",
      "8000/8000 [==============================] - 5s 642us/step - loss: 0.7391 - acc: 0.8348 - val_loss: 2.4215 - val_acc: 0.6651\n",
      "Epoch 42/100\n",
      "8000/8000 [==============================] - 5s 643us/step - loss: 0.7111 - acc: 0.8418 - val_loss: 2.4230 - val_acc: 0.6656\n",
      "Epoch 43/100\n",
      "8000/8000 [==============================] - 5s 646us/step - loss: 0.6858 - acc: 0.8467 - val_loss: 2.4204 - val_acc: 0.6666\n",
      "Epoch 44/100\n",
      "8000/8000 [==============================] - 5s 642us/step - loss: 0.6585 - acc: 0.8529 - val_loss: 2.4149 - val_acc: 0.6666\n",
      "Epoch 45/100\n",
      "8000/8000 [==============================] - 5s 641us/step - loss: 0.6355 - acc: 0.8582 - val_loss: 2.4178 - val_acc: 0.6683\n",
      "Epoch 46/100\n",
      "8000/8000 [==============================] - 5s 641us/step - loss: 0.6097 - acc: 0.8633 - val_loss: 2.4315 - val_acc: 0.6659\n",
      "Epoch 47/100\n",
      "8000/8000 [==============================] - 5s 644us/step - loss: 0.5884 - acc: 0.8679 - val_loss: 2.4202 - val_acc: 0.6701\n",
      "Epoch 48/100\n",
      "8000/8000 [==============================] - 5s 645us/step - loss: 0.5647 - acc: 0.8732 - val_loss: 2.4122 - val_acc: 0.6673\n",
      "Epoch 49/100\n",
      "8000/8000 [==============================] - 5s 642us/step - loss: 0.5435 - acc: 0.8773 - val_loss: 2.4187 - val_acc: 0.6687\n",
      "Epoch 50/100\n",
      "8000/8000 [==============================] - 5s 641us/step - loss: 0.5232 - acc: 0.8826 - val_loss: 2.4224 - val_acc: 0.6700\n",
      "Epoch 51/100\n",
      "8000/8000 [==============================] - 5s 640us/step - loss: 0.5032 - acc: 0.8865 - val_loss: 2.4337 - val_acc: 0.6713\n",
      "Epoch 52/100\n",
      "8000/8000 [==============================] - 5s 642us/step - loss: 0.4844 - acc: 0.8906 - val_loss: 2.4424 - val_acc: 0.6706\n",
      "Epoch 53/100\n",
      "8000/8000 [==============================] - 5s 643us/step - loss: 0.4648 - acc: 0.8948 - val_loss: 2.4419 - val_acc: 0.6713\n",
      "Epoch 54/100\n",
      "8000/8000 [==============================] - 5s 642us/step - loss: 0.4487 - acc: 0.8983 - val_loss: 2.4537 - val_acc: 0.6719\n",
      "Epoch 55/100\n",
      "8000/8000 [==============================] - 5s 643us/step - loss: 0.4303 - acc: 0.9027 - val_loss: 2.4524 - val_acc: 0.6720\n",
      "Epoch 56/100\n",
      "8000/8000 [==============================] - 5s 642us/step - loss: 0.4143 - acc: 0.9064 - val_loss: 2.4566 - val_acc: 0.6711\n",
      "Epoch 57/100\n",
      "8000/8000 [==============================] - 5s 641us/step - loss: 0.3976 - acc: 0.9091 - val_loss: 2.4453 - val_acc: 0.6723\n",
      "Epoch 58/100\n",
      "8000/8000 [==============================] - 5s 642us/step - loss: 0.3823 - acc: 0.9134 - val_loss: 2.4818 - val_acc: 0.6709\n",
      "Epoch 59/100\n",
      "8000/8000 [==============================] - 5s 643us/step - loss: 0.3672 - acc: 0.9168 - val_loss: 2.4748 - val_acc: 0.6713\n",
      "Epoch 60/100\n",
      "8000/8000 [==============================] - 5s 644us/step - loss: 0.3530 - acc: 0.9200 - val_loss: 2.4730 - val_acc: 0.6729\n",
      "Epoch 61/100\n",
      "8000/8000 [==============================] - 5s 643us/step - loss: 0.3380 - acc: 0.9233 - val_loss: 2.4711 - val_acc: 0.6736\n",
      "Epoch 62/100\n",
      "8000/8000 [==============================] - 5s 643us/step - loss: 0.3273 - acc: 0.9249 - val_loss: 2.4843 - val_acc: 0.6729\n",
      "Epoch 63/100\n",
      "8000/8000 [==============================] - 5s 642us/step - loss: 0.3130 - acc: 0.9281 - val_loss: 2.4936 - val_acc: 0.6742\n",
      "Epoch 64/100\n",
      "8000/8000 [==============================] - 5s 646us/step - loss: 0.2994 - acc: 0.9319 - val_loss: 2.5036 - val_acc: 0.6728\n",
      "Epoch 65/100\n",
      "8000/8000 [==============================] - 5s 642us/step - loss: 0.2897 - acc: 0.9334 - val_loss: 2.5007 - val_acc: 0.6741\n",
      "Epoch 66/100\n",
      "8000/8000 [==============================] - 5s 643us/step - loss: 0.2778 - acc: 0.9369 - val_loss: 2.5136 - val_acc: 0.6743\n",
      "Epoch 67/100\n",
      "8000/8000 [==============================] - 5s 640us/step - loss: 0.2665 - acc: 0.9382 - val_loss: 2.5212 - val_acc: 0.6743\n",
      "Epoch 68/100\n",
      "8000/8000 [==============================] - 5s 643us/step - loss: 0.2556 - acc: 0.9409 - val_loss: 2.5408 - val_acc: 0.6725\n",
      "Epoch 69/100\n",
      "8000/8000 [==============================] - 5s 643us/step - loss: 0.2463 - acc: 0.9432 - val_loss: 2.5230 - val_acc: 0.6739\n",
      "Epoch 70/100\n",
      "8000/8000 [==============================] - 5s 643us/step - loss: 0.2352 - acc: 0.9459 - val_loss: 2.5361 - val_acc: 0.6742\n",
      "Epoch 71/100\n",
      "8000/8000 [==============================] - 5s 643us/step - loss: 0.2263 - acc: 0.9477 - val_loss: 2.5451 - val_acc: 0.6731\n",
      "Epoch 72/100\n",
      "8000/8000 [==============================] - 5s 642us/step - loss: 0.2178 - acc: 0.9496 - val_loss: 2.5387 - val_acc: 0.6729\n",
      "Epoch 73/100\n",
      "8000/8000 [==============================] - 5s 643us/step - loss: 0.2083 - acc: 0.9511 - val_loss: 2.5548 - val_acc: 0.6738\n",
      "Epoch 74/100\n",
      "8000/8000 [==============================] - 5s 643us/step - loss: 0.2009 - acc: 0.9532 - val_loss: 2.5554 - val_acc: 0.6748\n",
      "Epoch 75/100\n",
      "8000/8000 [==============================] - 5s 642us/step - loss: 0.1918 - acc: 0.9551 - val_loss: 2.5682 - val_acc: 0.6735\n",
      "Epoch 76/100\n",
      "8000/8000 [==============================] - 5s 644us/step - loss: 0.1849 - acc: 0.9564 - val_loss: 2.5723 - val_acc: 0.6753\n",
      "Epoch 77/100\n",
      "8000/8000 [==============================] - 5s 644us/step - loss: 0.1787 - acc: 0.9577 - val_loss: 2.5758 - val_acc: 0.6760\n",
      "Epoch 78/100\n",
      "8000/8000 [==============================] - 5s 646us/step - loss: 0.1707 - acc: 0.9590 - val_loss: 2.5745 - val_acc: 0.6752\n",
      "Epoch 79/100\n",
      "8000/8000 [==============================] - 5s 645us/step - loss: 0.1650 - acc: 0.9605 - val_loss: 2.6063 - val_acc: 0.6740\n",
      "Epoch 80/100\n",
      "8000/8000 [==============================] - 5s 641us/step - loss: 0.1580 - acc: 0.9613 - val_loss: 2.6057 - val_acc: 0.6758\n",
      "Epoch 81/100\n",
      "8000/8000 [==============================] - 5s 644us/step - loss: 0.1522 - acc: 0.9623 - val_loss: 2.6108 - val_acc: 0.6752\n",
      "Epoch 82/100\n",
      "8000/8000 [==============================] - 5s 642us/step - loss: 0.1467 - acc: 0.9634 - val_loss: 2.6011 - val_acc: 0.6753\n",
      "Epoch 83/100\n",
      "8000/8000 [==============================] - 5s 643us/step - loss: 0.1416 - acc: 0.9642 - val_loss: 2.6233 - val_acc: 0.6750\n",
      "Epoch 84/100\n",
      "8000/8000 [==============================] - 5s 644us/step - loss: 0.1362 - acc: 0.9654 - val_loss: 2.6285 - val_acc: 0.6754\n",
      "Epoch 85/100\n",
      "8000/8000 [==============================] - 5s 641us/step - loss: 0.1315 - acc: 0.9659 - val_loss: 2.6464 - val_acc: 0.6738\n",
      "Epoch 86/100\n",
      "8000/8000 [==============================] - 5s 643us/step - loss: 0.1271 - acc: 0.9672 - val_loss: 2.6391 - val_acc: 0.6741\n",
      "Epoch 87/100\n",
      "8000/8000 [==============================] - 5s 644us/step - loss: 0.1220 - acc: 0.9677 - val_loss: 2.6603 - val_acc: 0.6745\n",
      "Epoch 88/100\n",
      "8000/8000 [==============================] - 5s 646us/step - loss: 0.1183 - acc: 0.9684 - val_loss: 2.6668 - val_acc: 0.6743\n",
      "Epoch 89/100\n",
      "8000/8000 [==============================] - 5s 645us/step - loss: 0.1149 - acc: 0.9686 - val_loss: 2.6537 - val_acc: 0.6742\n",
      "Epoch 90/100\n",
      "8000/8000 [==============================] - 5s 642us/step - loss: 0.1116 - acc: 0.9691 - val_loss: 2.6727 - val_acc: 0.6737\n",
      "Epoch 91/100\n",
      "8000/8000 [==============================] - 5s 648us/step - loss: 0.1068 - acc: 0.9699 - val_loss: 2.6752 - val_acc: 0.6742\n",
      "Epoch 92/100\n",
      "8000/8000 [==============================] - 5s 644us/step - loss: 0.1042 - acc: 0.9700 - val_loss: 2.6848 - val_acc: 0.6745\n",
      "Epoch 93/100\n",
      "8000/8000 [==============================] - 5s 642us/step - loss: 0.1009 - acc: 0.9706 - val_loss: 2.6983 - val_acc: 0.6742\n",
      "Epoch 94/100\n",
      "8000/8000 [==============================] - 5s 645us/step - loss: 0.0967 - acc: 0.9716 - val_loss: 2.7084 - val_acc: 0.6755\n",
      "Epoch 95/100\n",
      "8000/8000 [==============================] - 5s 649us/step - loss: 0.0949 - acc: 0.9718 - val_loss: 2.7096 - val_acc: 0.6748\n",
      "Epoch 96/100\n",
      "8000/8000 [==============================] - 5s 644us/step - loss: 0.0923 - acc: 0.9718 - val_loss: 2.7245 - val_acc: 0.6743\n",
      "Epoch 97/100\n",
      "8000/8000 [==============================] - 5s 643us/step - loss: 0.0900 - acc: 0.9722 - val_loss: 2.7129 - val_acc: 0.6743\n",
      "Epoch 98/100\n",
      "8000/8000 [==============================] - 5s 644us/step - loss: 0.0875 - acc: 0.9727 - val_loss: 2.7233 - val_acc: 0.6745\n",
      "Epoch 99/100\n",
      "8000/8000 [==============================] - 5s 648us/step - loss: 0.0849 - acc: 0.9733 - val_loss: 2.7314 - val_acc: 0.6749\n",
      "Epoch 100/100\n",
      "8000/8000 [==============================] - 5s 644us/step - loss: 0.0828 - acc: 0.9736 - val_loss: 2.7401 - val_acc: 0.6733\n"
     ]
    },
    {
     "data": {
      "image/png": "[encoded data removed]",
      "text/plain": [
       "<Figure size 432x288 with 1 Axes>"
      ]
     },
     "metadata": {},
     "output_type": "display_data"
    },
    {
     "data": {
      "image/png": "[encoded data removed]",
      "text/plain": [
       "<Figure size 432x288 with 1 Axes>"
      ]
     },
     "metadata": {},
     "output_type": "display_data"
    }
   ],
   "source": [
    "# compile the model\n",
    "model.compile(optimizer='rmsprop', loss='categorical_crossentropy', metrics=['accuracy'])\n",
    "\n",
    "# train the model\n",
    "z = np.zeros((NUM_SAMPLES, LATENT_DIM_DECODER)) # initial [s, c]\n",
    "r = model.fit(\n",
    "  [encoder_inputs, decoder_inputs, z, z], decoder_targets_one_hot,\n",
    "  batch_size=BATCH_SIZE,\n",
    "  epochs=EPOCHS,\n",
    "  validation_split=0.2\n",
    ")\n",
    "\n",
    "# plot some data\n",
    "plt.plot(r.history['loss'], label='loss')\n",
    "plt.plot(r.history['val_loss'], label='val_loss')\n",
    "plt.legend()\n",
    "plt.show()\n",
    "\n",
    "# accuracies\n",
    "plt.plot(r.history['acc'], label='acc')\n",
    "plt.plot(r.history['val_acc'], label='val_acc')\n",
    "plt.legend()\n",
    "plt.show()\n"
   ]
  },
  {
   "cell_type": "code",
   "execution_count": null,
   "metadata": {},
   "outputs": [],
   "source": [
    "model.summary()"
   ]
  },
  {
   "cell_type": "code",
   "execution_count": 39,
   "metadata": {},
   "outputs": [],
   "source": [
    "##### Make predictions #####\n",
    "# As with the poetry example, we need to create another model\n",
    "# that can take in the RNN state and previous word as input\n",
    "# and accept a T=1 sequence.\n",
    "\n",
    "# The encoder will be stand-alone\n",
    "# From this we will get our initial decoder hidden state\n",
    "# i.e. h(1), ..., h(Tx)\n",
    "encoder_model = Model(encoder_inputs_placeholder, encoder_outputs)\n",
    "\n",
    "# next we define a T=1 decoder model\n",
    "encoder_outputs_as_input = Input(shape=(max_len_input, LATENT_DIM * 2,))\n",
    "decoder_inputs_single = Input(shape=(1,))\n",
    "decoder_inputs_single_x = decoder_embedding(decoder_inputs_single)\n",
    "\n",
    "# no need to loop over attention steps this time because there is only one step\n",
    "context,alphas = one_step_attention(encoder_outputs_as_input, initial_s)\n",
    "\n",
    "# combine context with last word\n",
    "decoder_lstm_input = context_last_word_concat_layer([context, decoder_inputs_single_x])\n",
    "\n",
    "# lstm and final dense\n",
    "o, s, c = decoder_lstm(decoder_lstm_input, initial_state=[initial_s, initial_c])\n",
    "decoder_outputs = decoder_dense(o)"
   ]
  },
  {
   "cell_type": "code",
   "execution_count": 40,
   "metadata": {},
   "outputs": [],
   "source": [
    "# create the model object\n",
    "decoder_model = Model(\n",
    "  inputs=[\n",
    "    decoder_inputs_single,\n",
    "    encoder_outputs_as_input,\n",
    "    initial_s, \n",
    "    initial_c\n",
    "  ],\n",
    "  outputs=[decoder_outputs, s, c,alphas]\n",
    ")\n",
    "\n",
    "\n",
    "\n",
    "# map indexes back into real words\n",
    "# so we can view the results\n",
    "idx2word_eng = {v:k for k, v in word2idx_inputs.items()}\n",
    "idx2word_trans = {v:k for k, v in word2idx_outputs.items()}"
   ]
  },
  {
   "cell_type": "code",
   "execution_count": 41,
   "metadata": {},
   "outputs": [],
   "source": [
    "def decode_sequence(input_seq):\n",
    "  # Encode the input as state vectors.\n",
    "  enc_out = encoder_model.predict(input_seq)\n",
    "\n",
    "  # Generate empty target sequence of length 1.\n",
    "  target_seq = np.zeros((1, 1))\n",
    "  \n",
    "  # Populate the first character of target sequence with the start character.\n",
    "  # NOTE: tokenizer lower-cases all words\n",
    "  target_seq[0, 0] = word2idx_outputs['<sos>']\n",
    "\n",
    "  # if we get this we break\n",
    "  eos = word2idx_outputs['<eos>']\n",
    "\n",
    "\n",
    "  # [s, c] will be updated in each loop iteration\n",
    "  s = np.zeros((1, LATENT_DIM_DECODER))\n",
    "  c = np.zeros((1, LATENT_DIM_DECODER))\n",
    "\n",
    "\n",
    "  # Create the translation\n",
    "  output_sentence = []\n",
    "  attention=list()\n",
    "  for _ in range(max_len_target):\n",
    "    o, s, c,att = decoder_model.predict([target_seq, enc_out, s, c])\n",
    "\n",
    "    # Get next word\n",
    "    idx = np.argmax(o.flatten())\n",
    "\n",
    "    # End sentence of EOS\n",
    "    if eos == idx:\n",
    "      break\n",
    "\n",
    "    word = ''\n",
    "    if idx > 0:\n",
    "      attention.append(att)\n",
    "      word = idx2word_trans[idx]\n",
    "      output_sentence.append(word)\n",
    "    # Update the decoder input\n",
    "    # which is just the word just generated\n",
    "    target_seq[0, 0] = idx\n",
    "\n",
    "  return [' '.join(output_sentence),attention]\n"
   ]
  },
  {
   "cell_type": "code",
   "execution_count": 42,
   "metadata": {},
   "outputs": [
    {
     "name": "stdout",
     "output_type": "stream",
     "text": [
      "-\n",
      "[array([[[6.6730136e-04],\n",
      "        [3.6986501e-04],\n",
      "        [1.7219868e-04],\n",
      "        [9.4769857e-05],\n",
      "        [5.7208370e-05],\n",
      "        [3.9496274e-05],\n",
      "        [2.7851793e-05],\n",
      "        [1.1806949e-04],\n",
      "        [9.8977610e-04],\n",
      "        [1.0196244e-02],\n",
      "        [9.8726720e-01]]], dtype=float32), array([[[0.11568973],\n",
      "        [0.11481178],\n",
      "        [0.10910194],\n",
      "        [0.10217658],\n",
      "        [0.0934867 ],\n",
      "        [0.08753157],\n",
      "        [0.08102379],\n",
      "        [0.07526647],\n",
      "        [0.07308529],\n",
      "        [0.07198075],\n",
      "        [0.07584539]]], dtype=float32), array([[[0.10440028],\n",
      "        [0.10089081],\n",
      "        [0.09191166],\n",
      "        [0.08045451],\n",
      "        [0.07137188],\n",
      "        [0.06930311],\n",
      "        [0.06776162],\n",
      "        [0.0976239 ],\n",
      "        [0.10233378],\n",
      "        [0.10291257],\n",
      "        [0.11103582]]], dtype=float32), array([[[0.12688115],\n",
      "        [0.09279593],\n",
      "        [0.06283483],\n",
      "        [0.04574872],\n",
      "        [0.03630753],\n",
      "        [0.03348854],\n",
      "        [0.02882419],\n",
      "        [0.08309868],\n",
      "        [0.15745641],\n",
      "        [0.1641817 ],\n",
      "        [0.16838235]]], dtype=float32), array([[[0.08567971],\n",
      "        [0.04750949],\n",
      "        [0.03165241],\n",
      "        [0.02400335],\n",
      "        [0.01711826],\n",
      "        [0.01164192],\n",
      "        [0.00693571],\n",
      "        [0.01192932],\n",
      "        [0.11582364],\n",
      "        [0.20470303],\n",
      "        [0.44300312]]], dtype=float32)]\n",
      "Input sentence: It's important that you understand.\n",
      "Predicted translation: c'est important que vous compreniez.\n",
      "Actual translation: C'est important que vous compreniez. <eos>\n"
     ]
    },
    {
     "ename": "KeyboardInterrupt",
     "evalue": "",
     "output_type": "error",
     "traceback": [
      "\u001b[0;31m---------------------------------------------------------------------------\u001b[0m",
      "\u001b[0;31mKeyboardInterrupt\u001b[0m                         Traceback (most recent call last)",
      "\u001b[0;32m~/.conda/envs/doctorado-gpu/lib/python3.6/site-packages/ipykernel/kernelbase.py\u001b[0m in \u001b[0;36m_input_request\u001b[0;34m(self, prompt, ident, parent, password)\u001b[0m\n\u001b[1;32m    728\u001b[0m             \u001b[0;32mtry\u001b[0m\u001b[0;34m:\u001b[0m\u001b[0;34m\u001b[0m\u001b[0m\n\u001b[0;32m--> 729\u001b[0;31m                 \u001b[0mident\u001b[0m\u001b[0;34m,\u001b[0m \u001b[0mreply\u001b[0m \u001b[0;34m=\u001b[0m \u001b[0mself\u001b[0m\u001b[0;34m.\u001b[0m\u001b[0msession\u001b[0m\u001b[0;34m.\u001b[0m\u001b[0mrecv\u001b[0m\u001b[0;34m(\u001b[0m\u001b[0mself\u001b[0m\u001b[0;34m.\u001b[0m\u001b[0mstdin_socket\u001b[0m\u001b[0;34m,\u001b[0m \u001b[0;36m0\u001b[0m\u001b[0;34m)\u001b[0m\u001b[0;34m\u001b[0m\u001b[0m\n\u001b[0m\u001b[1;32m    730\u001b[0m             \u001b[0;32mexcept\u001b[0m \u001b[0mException\u001b[0m\u001b[0;34m:\u001b[0m\u001b[0;34m\u001b[0m\u001b[0m\n",
      "\u001b[0;32m~/.conda/envs/doctorado-gpu/lib/python3.6/site-packages/jupyter_client/session.py\u001b[0m in \u001b[0;36mrecv\u001b[0;34m(self, socket, mode, content, copy)\u001b[0m\n\u001b[1;32m    802\u001b[0m         \u001b[0;32mtry\u001b[0m\u001b[0;34m:\u001b[0m\u001b[0;34m\u001b[0m\u001b[0m\n\u001b[0;32m--> 803\u001b[0;31m             \u001b[0mmsg_list\u001b[0m \u001b[0;34m=\u001b[0m \u001b[0msocket\u001b[0m\u001b[0;34m.\u001b[0m\u001b[0mrecv_multipart\u001b[0m\u001b[0;34m(\u001b[0m\u001b[0mmode\u001b[0m\u001b[0;34m,\u001b[0m \u001b[0mcopy\u001b[0m\u001b[0;34m=\u001b[0m\u001b[0mcopy\u001b[0m\u001b[0;34m)\u001b[0m\u001b[0;34m\u001b[0m\u001b[0m\n\u001b[0m\u001b[1;32m    804\u001b[0m         \u001b[0;32mexcept\u001b[0m \u001b[0mzmq\u001b[0m\u001b[0;34m.\u001b[0m\u001b[0mZMQError\u001b[0m \u001b[0;32mas\u001b[0m \u001b[0me\u001b[0m\u001b[0;34m:\u001b[0m\u001b[0;34m\u001b[0m\u001b[0m\n",
      "\u001b[0;32m~/.conda/envs/doctorado-gpu/lib/python3.6/site-packages/zmq/sugar/socket.py\u001b[0m in \u001b[0;36mrecv_multipart\u001b[0;34m(self, flags, copy, track)\u001b[0m\n\u001b[1;32m    465\u001b[0m         \"\"\"\n\u001b[0;32m--> 466\u001b[0;31m         \u001b[0mparts\u001b[0m \u001b[0;34m=\u001b[0m \u001b[0;34m[\u001b[0m\u001b[0mself\u001b[0m\u001b[0;34m.\u001b[0m\u001b[0mrecv\u001b[0m\u001b[0;34m(\u001b[0m\u001b[0mflags\u001b[0m\u001b[0;34m,\u001b[0m \u001b[0mcopy\u001b[0m\u001b[0;34m=\u001b[0m\u001b[0mcopy\u001b[0m\u001b[0;34m,\u001b[0m \u001b[0mtrack\u001b[0m\u001b[0;34m=\u001b[0m\u001b[0mtrack\u001b[0m\u001b[0;34m)\u001b[0m\u001b[0;34m]\u001b[0m\u001b[0;34m\u001b[0m\u001b[0m\n\u001b[0m\u001b[1;32m    467\u001b[0m         \u001b[0;31m# have first part already, only loop while more to receive\u001b[0m\u001b[0;34m\u001b[0m\u001b[0;34m\u001b[0m\u001b[0m\n",
      "\u001b[0;32mzmq/backend/cython/socket.pyx\u001b[0m in \u001b[0;36mzmq.backend.cython.socket.Socket.recv\u001b[0;34m()\u001b[0m\n",
      "\u001b[0;32mzmq/backend/cython/socket.pyx\u001b[0m in \u001b[0;36mzmq.backend.cython.socket.Socket.recv\u001b[0;34m()\u001b[0m\n",
      "\u001b[0;32mzmq/backend/cython/socket.pyx\u001b[0m in \u001b[0;36mzmq.backend.cython.socket._recv_copy\u001b[0;34m()\u001b[0m\n",
      "\u001b[0;32m~/.conda/envs/doctorado-gpu/lib/python3.6/site-packages/zmq/backend/cython/checkrc.pxd\u001b[0m in \u001b[0;36mzmq.backend.cython.checkrc._check_rc\u001b[0;34m()\u001b[0m\n",
      "\u001b[0;31mKeyboardInterrupt\u001b[0m: ",
      "\nDuring handling of the above exception, another exception occurred:\n",
      "\u001b[0;31mKeyboardInterrupt\u001b[0m                         Traceback (most recent call last)",
      "\u001b[0;32m<ipython-input-42-406d5bc27a56>\u001b[0m in \u001b[0;36m<module>\u001b[0;34m()\u001b[0m\n\u001b[1;32m     10\u001b[0m   \u001b[0mprint\u001b[0m\u001b[0;34m(\u001b[0m\u001b[0;34m'Actual translation:'\u001b[0m\u001b[0;34m,\u001b[0m \u001b[0mtarget_texts\u001b[0m\u001b[0;34m[\u001b[0m\u001b[0mi\u001b[0m\u001b[0;34m]\u001b[0m\u001b[0;34m)\u001b[0m\u001b[0;34m\u001b[0m\u001b[0m\n\u001b[1;32m     11\u001b[0m \u001b[0;34m\u001b[0m\u001b[0m\n\u001b[0;32m---> 12\u001b[0;31m   \u001b[0mans\u001b[0m \u001b[0;34m=\u001b[0m \u001b[0minput\u001b[0m\u001b[0;34m(\u001b[0m\u001b[0;34m\"Continue? [Y/n]\"\u001b[0m\u001b[0;34m)\u001b[0m\u001b[0;34m\u001b[0m\u001b[0m\n\u001b[0m\u001b[1;32m     13\u001b[0m   \u001b[0;32mif\u001b[0m \u001b[0mans\u001b[0m \u001b[0;32mand\u001b[0m \u001b[0mans\u001b[0m\u001b[0;34m.\u001b[0m\u001b[0mlower\u001b[0m\u001b[0;34m(\u001b[0m\u001b[0;34m)\u001b[0m\u001b[0;34m.\u001b[0m\u001b[0mstartswith\u001b[0m\u001b[0;34m(\u001b[0m\u001b[0;34m'n'\u001b[0m\u001b[0;34m)\u001b[0m\u001b[0;34m:\u001b[0m\u001b[0;34m\u001b[0m\u001b[0m\n\u001b[1;32m     14\u001b[0m     \u001b[0;32mbreak\u001b[0m\u001b[0;34m\u001b[0m\u001b[0m\n",
      "\u001b[0;32m~/.conda/envs/doctorado-gpu/lib/python3.6/site-packages/ipykernel/kernelbase.py\u001b[0m in \u001b[0;36mraw_input\u001b[0;34m(self, prompt)\u001b[0m\n\u001b[1;32m    702\u001b[0m             \u001b[0mself\u001b[0m\u001b[0;34m.\u001b[0m\u001b[0m_parent_ident\u001b[0m\u001b[0;34m,\u001b[0m\u001b[0;34m\u001b[0m\u001b[0m\n\u001b[1;32m    703\u001b[0m             \u001b[0mself\u001b[0m\u001b[0;34m.\u001b[0m\u001b[0m_parent_header\u001b[0m\u001b[0;34m,\u001b[0m\u001b[0;34m\u001b[0m\u001b[0m\n\u001b[0;32m--> 704\u001b[0;31m             \u001b[0mpassword\u001b[0m\u001b[0;34m=\u001b[0m\u001b[0;32mFalse\u001b[0m\u001b[0;34m,\u001b[0m\u001b[0;34m\u001b[0m\u001b[0m\n\u001b[0m\u001b[1;32m    705\u001b[0m         )\n\u001b[1;32m    706\u001b[0m \u001b[0;34m\u001b[0m\u001b[0m\n",
      "\u001b[0;32m~/.conda/envs/doctorado-gpu/lib/python3.6/site-packages/ipykernel/kernelbase.py\u001b[0m in \u001b[0;36m_input_request\u001b[0;34m(self, prompt, ident, parent, password)\u001b[0m\n\u001b[1;32m    732\u001b[0m             \u001b[0;32mexcept\u001b[0m \u001b[0mKeyboardInterrupt\u001b[0m\u001b[0;34m:\u001b[0m\u001b[0;34m\u001b[0m\u001b[0m\n\u001b[1;32m    733\u001b[0m                 \u001b[0;31m# re-raise KeyboardInterrupt, to truncate traceback\u001b[0m\u001b[0;34m\u001b[0m\u001b[0;34m\u001b[0m\u001b[0m\n\u001b[0;32m--> 734\u001b[0;31m                 \u001b[0;32mraise\u001b[0m \u001b[0mKeyboardInterrupt\u001b[0m\u001b[0;34m\u001b[0m\u001b[0m\n\u001b[0m\u001b[1;32m    735\u001b[0m             \u001b[0;32melse\u001b[0m\u001b[0;34m:\u001b[0m\u001b[0;34m\u001b[0m\u001b[0m\n\u001b[1;32m    736\u001b[0m                 \u001b[0;32mbreak\u001b[0m\u001b[0;34m\u001b[0m\u001b[0m\n",
      "\u001b[0;31mKeyboardInterrupt\u001b[0m: "
     ]
    }
   ],
   "source": [
    "while True:\n",
    "  # Do some test translations\n",
    "  i = np.random.choice(len(input_texts))\n",
    "  input_seq = encoder_inputs[i:i+1]\n",
    "  translation,attention = decode_sequence(input_seq)\n",
    "  print('-')\n",
    "  print(attention)\n",
    "  print('Input sentence:', input_texts[i])\n",
    "  print('Predicted translation:', translation)\n",
    "  print('Actual translation:', target_texts[i])\n",
    "\n",
    "  ans = input(\"Continue? [Y/n]\")\n",
    "  if ans and ans.lower().startswith('n'):\n",
    "    break\n"
   ]
  },
  {
   "cell_type": "code",
   "execution_count": null,
   "metadata": {},
   "outputs": [],
   "source": []
  }
 ],
 "metadata": {
  "kernelspec": {
   "display_name": "Python 3",
   "language": "python",
   "name": "python3"
  },
  "language_info": {
   "codemirror_mode": {
    "name": "ipython",
    "version": 3
   },
   "file_extension": ".py",
   "mimetype": "text/x-python",
   "name": "python",
   "nbconvert_exporter": "python",
   "pygments_lexer": "ipython3",
   "version": "3.6.0"
  }
 },
 "nbformat": 4,
 "nbformat_minor": 2
}
