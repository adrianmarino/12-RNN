{
 "cells": [
  {
   "cell_type": "code",
   "execution_count": 1,
   "metadata": {},
   "outputs": [],
   "source": [
    "%load_ext autoreload\n",
    "%autoreload 2"
   ]
  },
  {
   "cell_type": "code",
   "execution_count": 4,
   "metadata": {},
   "outputs": [],
   "source": [
    "import sys \n",
    "sys.path.append(\"../\")"
   ]
  },
  {
   "cell_type": "code",
   "execution_count": 5,
   "metadata": {},
   "outputs": [
    {
     "name": "stderr",
     "output_type": "stream",
     "text": [
      "Using TensorFlow backend.\n"
     ]
    }
   ],
   "source": [
    "from RNN_utils import get_deep_rnn, chars_to_one_hot, sample\n",
    "import numpy as np"
   ]
  },
  {
   "cell_type": "code",
   "execution_count": 6,
   "metadata": {},
   "outputs": [
    {
     "name": "stdout",
     "output_type": "stream",
     "text": [
      "input shape =  (100, 69)\n",
      "_________________________________________________________________\n",
      "Layer (type)                 Output Shape              Param #   \n",
      "=================================================================\n",
      "lstm_1 (LSTM)                (1, 100, 200)             216000    \n",
      "_________________________________________________________________\n",
      "lstm_2 (LSTM)                (1, 200)                  320800    \n",
      "_________________________________________________________________\n",
      "dense_1 (Dense)              (1, 69)                   13869     \n",
      "=================================================================\n",
      "Total params: 550,669\n",
      "Trainable params: 550,669\n",
      "Non-trainable params: 0\n",
      "_________________________________________________________________\n"
     ]
    }
   ],
   "source": [
    "model=get_deep_rnn((100, 69), dense_units=69, stateful=True)"
   ]
  },
  {
   "cell_type": "markdown",
   "metadata": {},
   "source": [
    "## Cuanto vale T y cuanto vale D?"
   ]
  },
  {
   "cell_type": "code",
   "execution_count": 7,
   "metadata": {},
   "outputs": [
    {
     "data": {
      "text/plain": [
       "(1, 100, 69)"
      ]
     },
     "execution_count": 7,
     "metadata": {},
     "output_type": "execute_result"
    }
   ],
   "source": [
    "layer1 = model.get_layer('lstm_1')\n",
    "layer1.get_config()['batch_input_shape']"
   ]
  },
  {
   "cell_type": "code",
   "execution_count": 8,
   "metadata": {},
   "outputs": [],
   "source": [
    "chars = np.load('training_chars.npy')\n",
    "chars_to_indices = dict((c, i) for i, c in enumerate(chars))\n",
    "indices_to_chars = dict((i, c) for i, c in enumerate(chars))"
   ]
  },
  {
   "cell_type": "code",
   "execution_count": 9,
   "metadata": {},
   "outputs": [],
   "source": [
    "window = 100"
   ]
  },
  {
   "cell_type": "code",
   "execution_count": 87,
   "metadata": {},
   "outputs": [],
   "source": [
    "# model.load_weights('bodes_sangre_LSTM_deep_dropout_04.hdf5')\n",
    "model.load_weights('bodes_sangre_LSTM_deep_dropout_05.hdf5')"
   ]
  },
  {
   "cell_type": "code",
   "execution_count": 88,
   "metadata": {},
   "outputs": [],
   "source": [
    "def predict_phrase(model, initial_seed, window = 100, verbose=True, sample_type = 'greedy'):\n",
    "    # El numeral no esta en el diccionario por lo que lo pasa a todos ceros en el one-hot\n",
    "    initial_seed=initial_seed[-window:]\n",
    "    initial_text = '#'*(window-len(initial_seed))+initial_seed # Padding\n",
    "    X_test = chars_to_one_hot(initial_seed, chars, chars_to_indices, 100)\n",
    "    probs = model.predict(X_test)\n",
    "    probs_sorted_indexes = np.argsort(probs)[0][::-1]\n",
    "    if verbose:\n",
    "        print([(indices_to_chars[i], probs[0][i]) for i in probs_sorted_indexes[:5]])\n",
    "    return probs[0]"
   ]
  },
  {
   "cell_type": "code",
   "execution_count": 89,
   "metadata": {},
   "outputs": [],
   "source": [
    "def sample_probs(probs, sample_type='greedy', temp=1):\n",
    "    if (sample_type=='greedy'):\n",
    "        return np.argmax(probs)\n",
    "    if (sample_type=='simple'):\n",
    "        return sample(probs, temp, verbose=False, return_dist=True)"
   ]
  },
  {
   "cell_type": "markdown",
   "metadata": {},
   "source": [
    "## Distribución de probabilidades para:\n",
    "#### \"Estaba el novi\""
   ]
  },
  {
   "cell_type": "code",
   "execution_count": 90,
   "metadata": {},
   "outputs": [
    {
     "name": "stdout",
     "output_type": "stream",
     "text": [
      "[('o', 0.96835536), ('a', 0.025064146), ('e', 0.0026970813), ('l', 0.0011617033), ('t', 0.0008459071)]\n"
     ]
    }
   ],
   "source": [
    "probs = predict_phrase(model, \"Estaba el novi\")"
   ]
  },
  {
   "cell_type": "code",
   "execution_count": 91,
   "metadata": {},
   "outputs": [
    {
     "data": {
      "text/plain": [
       "'o'"
      ]
     },
     "execution_count": 91,
     "metadata": {},
     "output_type": "execute_result"
    }
   ],
   "source": [
    "indices_to_chars[sample_probs(probs, sample_type='greedy')]"
   ]
  },
  {
   "cell_type": "code",
   "execution_count": 92,
   "metadata": {},
   "outputs": [
    {
     "name": "stdout",
     "output_type": "stream",
     "text": [
      "[0.9683554  0.02506415 0.00269708]\n",
      "['o', 'o', 'o', 'o', 'o', 'o', 'o', 'a', 'o', 'o', 'o', 'o', 'o', 'o', 'o', 'o', 'o', 'o', 'o', 'o']\n"
     ]
    }
   ],
   "source": [
    "temp = 1\n",
    "index, dist = sample(probs, temp, verbose=False, return_dist=True)\n",
    "sorted_idxs = np.argsort(dist)[::-1]\n",
    "print(dist[sorted_idxs][:3])\n",
    "samples = []\n",
    "for i in range(20):\n",
    "    index, dist = sample_probs(probs, sample_type='simple', temp=temp)\n",
    "    samples.append(indices_to_chars[index])\n",
    "print(samples)"
   ]
  },
  {
   "cell_type": "markdown",
   "metadata": {},
   "source": [
    "## Distribución de probabilidades para:\n",
    "#### \"Estaba la novi\""
   ]
  },
  {
   "cell_type": "code",
   "execution_count": 93,
   "metadata": {},
   "outputs": [
    {
     "name": "stdout",
     "output_type": "stream",
     "text": [
      "[('a', 0.9924321), ('o', 0.0061247447), ('e', 0.00093063264), ('l', 0.0001637402), ('i', 6.682282e-05)]\n"
     ]
    },
    {
     "data": {
      "text/plain": [
       "'a'"
      ]
     },
     "execution_count": 93,
     "metadata": {},
     "output_type": "execute_result"
    }
   ],
   "source": [
    "probs = predict_phrase(model, \"Estaba la novi\")\n",
    "indices_to_chars[sample_probs(probs, sample_type='greedy')]"
   ]
  },
  {
   "cell_type": "markdown",
   "metadata": {},
   "source": [
    "### Mismo ejemplo pero cambiar temperatura de ruido\n",
    "Notar que muestramos (Cambiar temperatura)"
   ]
  },
  {
   "cell_type": "code",
   "execution_count": 94,
   "metadata": {},
   "outputs": [
    {
     "name": "stdout",
     "output_type": "stream",
     "text": [
      "[9.9243212e-01 6.1247447e-03 9.3063264e-04]\n",
      "['a', 'a', 'a', 'a', 'a', 'a', 'a', 'a', 'a', 'a', 'a', 'a', 'a', 'a', 'a', 'a', 'a', 'a', 'a', 'a']\n"
     ]
    }
   ],
   "source": [
    "temp = 1\n",
    "index, dist = sample(probs, temp, verbose=False, return_dist=True)\n",
    "sorted_idxs = np.argsort(dist)[::-1]\n",
    "print(dist[sorted_idxs][:3])\n",
    "samples = []\n",
    "for i in range(20):\n",
    "    index, dist = sample_probs(probs, sample_type='simple', temp=temp)\n",
    "    samples.append(indices_to_chars[index])\n",
    "print(samples)"
   ]
  },
  {
   "cell_type": "markdown",
   "metadata": {},
   "source": [
    "## Distribución de probabilidades para:\n",
    "#### \"Estaba la novia\""
   ]
  },
  {
   "cell_type": "code",
   "execution_count": 95,
   "metadata": {},
   "outputs": [
    {
     "name": "stdout",
     "output_type": "stream",
     "text": [
      "[('.', 0.6997879), (' ', 0.20880213), (',', 0.037900005), ('\\n', 0.029043293), ('!', 0.011357076)]\n"
     ]
    },
    {
     "data": {
      "text/plain": [
       "'.'"
      ]
     },
     "execution_count": 95,
     "metadata": {},
     "output_type": "execute_result"
    }
   ],
   "source": [
    "probs = predict_phrase(model, \"Estaba la novia\")\n",
    "indices_to_chars[sample_probs(probs, sample_type='greedy')]"
   ]
  },
  {
   "cell_type": "markdown",
   "metadata": {},
   "source": [
    "### Mismo ejemplo pero cambiar temperatura de ruido\n",
    "Notar que muestramos"
   ]
  },
  {
   "cell_type": "code",
   "execution_count": 98,
   "metadata": {},
   "outputs": [
    {
     "name": "stdout",
     "output_type": "stream",
     "text": [
      "[0.69978786 0.2088021  0.0379    ]\n",
      "['.', '.', '.', ' ', '.', '.', '.', '.', '.', '.', '.', '.', ' ', '.', '.', '.', ' ', ' ', ',', ' ']\n"
     ]
    }
   ],
   "source": [
    "temp = 1\n",
    "index, dist = sample(probs, temp, verbose=False, return_dist=True)\n",
    "sorted_idxs = np.argsort(dist)[::-1]\n",
    "print(dist[sorted_idxs][:3])\n",
    "samples = []\n",
    "for i in range(20):\n",
    "    index, dist = sample_probs(probs, sample_type='simple', temp=temp)\n",
    "    samples.append(indices_to_chars[index])\n",
    "print(samples)"
   ]
  },
  {
   "cell_type": "markdown",
   "metadata": {},
   "source": [
    "## Generamos texto\n",
    "### Greedy Search"
   ]
  },
  {
   "cell_type": "code",
   "execution_count": 51,
   "metadata": {},
   "outputs": [],
   "source": [
    "def greedy_search(model, phrase, N=200, window=100):\n",
    "    print(phrase, end='')\n",
    "    for i in range(N):\n",
    "        probs = predict_phrase(model, phrase, verbose=False)\n",
    "        next_char = indices_to_chars[sample_probs(probs, sample_type='greedy')]\n",
    "        phrase=phrase + next_char\n",
    "        print(next_char, end='')"
   ]
  },
  {
   "cell_type": "code",
   "execution_count": 58,
   "metadata": {},
   "outputs": [],
   "source": [
    "text = open('bodas_de_sangre.txt').read()"
   ]
  },
  {
   "cell_type": "code",
   "execution_count": 59,
   "metadata": {},
   "outputs": [
    {
     "name": "stdout",
     "output_type": "stream",
     "text": [
      "BODAS DE SANGRE(1933)\n",
      "\n",
      "Poema trágico en tres actos y siete cuadros\n",
      "\n",
      "Personajes\n",
      " \n",
      "Madre\n",
      "Criada\n",
      "Leonar\n"
     ]
    }
   ],
   "source": [
    "print(text[:100])"
   ]
  },
  {
   "cell_type": "code",
   "execution_count": 60,
   "metadata": {},
   "outputs": [
    {
     "name": "stdout",
     "output_type": "stream",
     "text": [
      "BODAS DE SANGRE(1933)\n",
      "\n",
      "Poema trágico en tres actos y siete cuadros\n",
      "\n",
      "Personajes\n",
      " \n",
      "Madre\n",
      "Criada\n",
      "Leonardo de caballo se pone a la boda.\n",
      "MUJER: (Llorando)\n",
      "Duérmete, clavel,\n",
      "que el caballo se pane a la boda.\n",
      "MUJER: (Llorando)\n",
      "Duérmete, clavel,\n",
      "que el caballo se pane a la boda.\n",
      "MUJER: (Llorando)\n",
      "Duérmete,"
     ]
    }
   ],
   "source": [
    "greedy_search(model, text[:100])"
   ]
  },
  {
   "cell_type": "code",
   "execution_count": 61,
   "metadata": {},
   "outputs": [
    {
     "name": "stdout",
     "output_type": "stream",
     "text": [
      "NOVIA: (Seria) Ahora de casaria. (Se siente de la caballo de la caballo de la caballo de la caballo de la caballo de la caballo de azahar.)\n",
      "\n",
      "NOVIA: (Alegre) ¡Qué te puede a la carrel?\n",
      "\n",
      "MADRE: Sí. (Se siente"
     ]
    }
   ],
   "source": [
    "greedy_search(model, 'NOVIA:')"
   ]
  },
  {
   "cell_type": "code",
   "execution_count": 62,
   "metadata": {},
   "outputs": [
    {
     "name": "stdout",
     "output_type": "stream",
     "text": [
      "LEONARDO: (Levantándose) ¡Qué casa?\n",
      "\n",
      "MADRE: (Al novio) No te puede a me puede a la carre. Pero no se puede a me puede a la carre. Pero no se puede a me puede a la carre. Pero no se puede a me puede a la carre. Pero no se puede a me puede a la carre. Pero no se puede a me puede a la carre. Pero no se puede a "
     ]
    }
   ],
   "source": [
    "greedy_search(model, 'LEONARDO:', 300)"
   ]
  },
  {
   "cell_type": "code",
   "execution_count": 63,
   "metadata": {},
   "outputs": [
    {
     "name": "stdout",
     "output_type": "stream",
     "text": [
      "JULIAN:\n",
      "Mujer de la novia.\n",
      "MUJER: (Llorando)\n",
      "Duérmete, clavel,\n",
      "que el caballo se pala de la boda.\n",
      "MUJER: (Llorando)\n",
      "Duérmete, clavel,\n",
      "que el caballo se pane a la boda.\n",
      "MUJER: (Llorando)\n",
      "Duérmete, clavel,\n",
      "que el caballo se pane a la boda.\n",
      "MUJER: (Llorando)\n",
      "Duérmete, clavel,\n",
      "que el caballo se pane a la boda."
     ]
    }
   ],
   "source": [
    "greedy_search(model, 'JULIAN:', 300)"
   ]
  },
  {
   "cell_type": "code",
   "execution_count": 64,
   "metadata": {},
   "outputs": [
    {
     "name": "stdout",
     "output_type": "stream",
     "text": [
      "MOZO 1: (Entrando) ¡Tienes que beber con nosotros!\n",
      "\n",
      "NOVIO: Estoy esperando a la novia.\n",
      "\n",
      "MOZO 2: ¡Ya \n"
     ]
    }
   ],
   "source": [
    "# Con texto de la obra\n",
    "initial_text = 'MOZO 1: (Entrando) ¡Tienes que beber con nosotros!\\n\\nNOVIO: Estoy esperando a la novia.\\n\\nMOZO 2: ¡Ya '\n",
    "print(initial_text)"
   ]
  },
  {
   "cell_type": "code",
   "execution_count": 27,
   "metadata": {},
   "outputs": [
    {
     "name": "stdout",
     "output_type": "stream",
     "text": [
      "MOZO 1: (Entrando) ¡Tienes que beber con nosotros!\n",
      "\n",
      "NOVIO: Estoy esperando a la novia.\n",
      "\n",
      "MOZO 2: ¡Ya vinte a la cara con el caballo de azahar.)\n",
      "\n",
      "NOVIA: (Alegre) ¡Qué te puede a la carrel?\n",
      "\n",
      "MADRE: Sí. (Se siente en la cabeza) ¿Qué te puede a la carre?\n",
      "\n",
      "MADRE: Sí. (Se siente en la cabeza) ¿Qué te puede a la carre?\n",
      "\n",
      "MADRE: Sí. (Se siente en la cabeza) ¿Qué te puede a la carre?\n",
      "\n",
      "MADRE: Sí. (Se siente e"
     ]
    }
   ],
   "source": [
    "greedy_search(model, initial_text, N=300)"
   ]
  },
  {
   "cell_type": "code",
   "execution_count": 28,
   "metadata": {},
   "outputs": [
    {
     "name": "stdout",
     "output_type": "stream",
     "text": [
      "MADRE: (Seria) Ahora está con la cabeza de la caballo de la caballo de la caballo de la caballo de la caballo de la caballo de la caballo de la caballo de la caballo de la caballo de la caballo de la caballo de la caballo de la caballo de la caballo de la caballo de la caballo de la caballo de la caballo "
     ]
    }
   ],
   "source": [
    "greedy_search(model, 'MADRE:', 300)"
   ]
  },
  {
   "cell_type": "markdown",
   "metadata": {},
   "source": [
    "## Random Sample"
   ]
  },
  {
   "cell_type": "code",
   "execution_count": 71,
   "metadata": {},
   "outputs": [],
   "source": [
    "def simple_sample(model, phrase, temp=1, N=200):\n",
    "    print(phrase, end='')\n",
    "    for i in range(N):\n",
    "        probs = predict_phrase(model, phrase, verbose=False)\n",
    "        index, dist = sample_probs(probs, sample_type='simple', temp=temp)\n",
    "        next_char = indices_to_chars[index]\n",
    "        phrase=phrase + next_char\n",
    "        print(next_char, end='')"
   ]
  },
  {
   "cell_type": "code",
   "execution_count": 75,
   "metadata": {},
   "outputs": [
    {
     "name": "stdout",
     "output_type": "stream",
     "text": [
      "NOVIA: Dempierte de tierma.\n",
      "\n",
      "PADRE: Vamos niño pero una des las rabaendose.\n",
      "\n",
      "MADRE: ¿Pastá samarre ton casa?\n",
      "\n",
      "NOVIA: Trencos de aharron telor fanga por la sosa. Pardo simo mu mija?\n",
      "\n",
      "MADRE: Los poces nos de bien. Hablo, tragos me compro que solupo lo mare quié sé momido el hucho, lo una de caso de abrador "
     ]
    }
   ],
   "source": [
    "simple_sample(model, 'NOVIA:', temp=1, N=300)"
   ]
  },
  {
   "cell_type": "code",
   "execution_count": 76,
   "metadata": {},
   "outputs": [
    {
     "name": "stdout",
     "output_type": "stream",
     "text": [
      "NOVIA:jO pero noche lo vablira, (al faliciandete la novia. se coronflemos a la boda en estermente, y lo culperta, que tu padres que un dírmisas di hijo noda estarmo las mantos, poro puede romprescido de ducho está delor de la grien... (Pausa)\n",
      "\n",
      "CRIADA: ¿y tras más?\n",
      "\n",
      "MADRE: ruo que me suegre. Vamos.\n",
      "\n",
      "MADRE:"
     ]
    }
   ],
   "source": [
    "# Cada pasada escribe algo diferente\n",
    "simple_sample(model, 'NOVIA:', temp=1, N=300)"
   ]
  },
  {
   "cell_type": "code",
   "execution_count": 77,
   "metadata": {},
   "outputs": [
    {
     "name": "stdout",
     "output_type": "stream",
     "text": [
      "NOVIA: (Seria) Ahora está con la cabeza de la caballo de la caballo de la caballo de la caballo de la caballo de la caballo de la caballo de la caballo de la caballo de la caballo se mu hijo es una con la cabeza. Es estar tras de casa.\n",
      "\n",
      "NOVIA: (Seria) ¿Qué te puede a la carrel?\n",
      "\n",
      "MADRE: Sí. (Se siente en l"
     ]
    }
   ],
   "source": [
    "# Cambiando temperatura\n",
    "simple_sample(model, 'NOVIA:', 0.1, 300)"
   ]
  },
  {
   "cell_type": "code",
   "execution_count": 78,
   "metadata": {},
   "outputs": [
    {
     "name": "stdout",
     "output_type": "stream",
     "text": [
      "NOVIA: (Seria) ¿Qué te puede a la carrel?\n",
      "\n",
      "MADRE: Sí. (Se siente de la caballo de azahar.)\n",
      "\n",
      "NOVIA: (Al novio) No te puede este mujer.\n",
      "\n",
      "MADRE: Sí. (Se siente de azahar.)\n",
      "\n",
      "NOVIA: (Al niña) ¡Qué está que me puede a la cara?\n",
      "\n",
      "NOVIA: (Alegre) ¡Y está con las mantes de azahar?\n",
      "\n",
      "NOVIA: (Alegre) ¿Y tú?\n",
      "\n",
      "NOVIO: (E"
     ]
    }
   ],
   "source": [
    "simple_sample(model, 'NOVIA:', 0.1, 300)"
   ]
  },
  {
   "cell_type": "code",
   "execution_count": 33,
   "metadata": {},
   "outputs": [
    {
     "name": "stdout",
     "output_type": "stream",
     "text": [
      "NOVIA:fdéécano;yoqui miñan.\n",
      "¡racá fEltade\n",
      "la llegazóMañagiadde.)\n",
      "PADRE:nfrefoco.\n",
      "\n",
      "lajay\n",
      "do me oprebhelcis;suñoudedojie.\n",
      "Méagente llesól que Us compojelovia.Que monsel,\n",
      "(uputa\n",
      "¿visconte?\n",
      "CUiER: Esfdí quesegá"
     ]
    }
   ],
   "source": [
    "simple_sample(model, 'NOVIA:', 2)"
   ]
  },
  {
   "cell_type": "code",
   "execution_count": 34,
   "metadata": {},
   "outputs": [
    {
     "name": "stdout",
     "output_type": "stream",
     "text": [
      "MOZO 1: (Entrando) ¡Tienes que beber con nosotros!\n",
      "\n",
      "NOVIO: Estoy esperando a la novia.\n",
      "\n",
      "MOZO 2: ¡Ya te puede con la cuerte de buena de viste a la orecha de despierte.)\n",
      "\n",
      "MADRE: Pero la muchacha con la guente.\n",
      "\n",
      "NOVIA: ¿Cuándo está a tu mujer?\n",
      "\n",
      "CRIADA: No. La novia se mus hombre y a verta al mine.\n",
      "\n",
      "MADRE: Sí, pero vendo el alunto de tierma y puede miento y la mejer.\n",
      "\n",
      "MADRE: Ya no está espara.\n",
      "\n",
      "NOVIA:"
     ]
    }
   ],
   "source": [
    "simple_sample(model, initial_text, 0.5, 300)"
   ]
  },
  {
   "cell_type": "markdown",
   "metadata": {},
   "source": [
    "# Stochastic Beam search"
   ]
  },
  {
   "cell_type": "markdown",
   "metadata": {},
   "source": [
    "https://www.youtube.com/watch?v=zPv7nWB4_ts"
   ]
  },
  {
   "cell_type": "code",
   "execution_count": 79,
   "metadata": {},
   "outputs": [],
   "source": [
    "def init_models(beam_width):\n",
    "    models = []\n",
    "    for i in range(beam_width):\n",
    "        model = get_deep_rnn((100, 69), dense_units=69, stateful=False, verbose=False)\n",
    "        model.load_weights('bodes_sangre_LSTM_deep_dropout_04.hdf5')\n",
    "        models.append(model)\n",
    "    return models"
   ]
  },
  {
   "cell_type": "code",
   "execution_count": 80,
   "metadata": {},
   "outputs": [],
   "source": [
    "def predict_beams(phrases, log_probs, beam_width, temp=1):\n",
    "    samples = []\n",
    "    log_probs_out = []\n",
    "    for j, phrase in enumerate(phrases):\n",
    "        for i in range(beam_width):\n",
    "            probs = predict_phrase(models[i], phrase, verbose=False)\n",
    "            index, dist = sample_probs(probs, sample_type='simple', temp=temp)\n",
    "            samples.append(phrase + indices_to_chars[index])\n",
    "            log_probs_out.append(log_probs[j] + np.log(dist[index]))\n",
    "    return np.array(samples), np.array(log_probs_out)"
   ]
  },
  {
   "cell_type": "code",
   "execution_count": 81,
   "metadata": {},
   "outputs": [],
   "source": [
    "beam_width = 5\n",
    "models = init_models(beam_width)"
   ]
  },
  {
   "cell_type": "code",
   "execution_count": 86,
   "metadata": {},
   "outputs": [
    {
     "name": "stdout",
     "output_type": "stream",
     "text": [
      "['NOVIA:'] Genero 5 posibles y me quedo con los 5 mas probables\n",
      "---------------------------------------------\n",
      "['NOVIA:\\n' 'NOVIA:¿' 'NOVIA:q' 'NOVIA:d' 'NOVIA:B'] Genero 25 posibles y me quedo con los 5 mas probables\n",
      "---------------------------------------------\n",
      "['NOVIA:\\n¡' 'NOVIA:\\n¡' 'NOVIA:\\nD' 'NOVIA:\\nN' 'NOVIA:qu'] Genero 25 posibles y me quedo con los 5 mas probables\n",
      "---------------------------------------------\n",
      "['NOVIA:\\nDe' 'NOVIA:\\nDu' 'NOVIA:que' 'NOVIA:que' 'NOVIA:\\nNo'] Genero 25 posibles y me quedo con los 5 mas probables\n",
      "---------------------------------------------\n",
      "['NOVIA:\\nDes' 'NOVIA:\\nDué' 'NOVIA:que ' 'NOVIA:que ' 'NOVIA:que '] Genero 25 posibles y me quedo con los 5 mas probables\n",
      "---------------------------------------------\n",
      "['NOVIA:\\nDesp' 'NOVIA:\\nDesp' 'NOVIA:\\nDuér' 'NOVIA:\\nDuér'\n",
      " 'NOVIA:\\nDuém'] Genero 25 posibles y me quedo con los 5 mas probables\n",
      "---------------------------------------------\n",
      "['NOVIA:\\nDespi' 'NOVIA:\\nDespi' 'NOVIA:\\nDespi' 'NOVIA:\\nDespi'\n",
      " 'NOVIA:\\nDespi'] Genero 25 posibles y me quedo con los 5 mas probables\n",
      "---------------------------------------------\n",
      "['NOVIA:\\nDespie' 'NOVIA:\\nDespie' 'NOVIA:\\nDespie' 'NOVIA:\\nDespie'\n",
      " 'NOVIA:\\nDespie'] Genero 25 posibles y me quedo con los 5 mas probables\n",
      "---------------------------------------------\n",
      "['NOVIA:\\nDespier' 'NOVIA:\\nDespier' 'NOVIA:\\nDespier' 'NOVIA:\\nDespier'\n",
      " 'NOVIA:\\nDespier'] Genero 25 posibles y me quedo con los 5 mas probables\n",
      "---------------------------------------------\n",
      "['NOVIA:\\nDespiert' 'NOVIA:\\nDespiert' 'NOVIA:\\nDespiert'\n",
      " 'NOVIA:\\nDespiert' 'NOVIA:\\nDespiert'] Genero 25 posibles y me quedo con los 5 mas probables\n",
      "---------------------------------------------\n",
      "['NOVIA:\\nDespierte' 'NOVIA:\\nDespierte' 'NOVIA:\\nDespierte'\n",
      " 'NOVIA:\\nDespierte' 'NOVIA:\\nDespierte'] Genero 25 posibles y me quedo con los 5 mas probables\n",
      "---------------------------------------------\n",
      "['NOVIA:\\nDespierte ' 'NOVIA:\\nDespierte ' 'NOVIA:\\nDespierte '\n",
      " 'NOVIA:\\nDespierte ' 'NOVIA:\\nDespierte '] Genero 25 posibles y me quedo con los 5 mas probables\n",
      "---------------------------------------------\n",
      "['NOVIA:\\nDespierte l' 'NOVIA:\\nDespierte l' 'NOVIA:\\nDespierte l'\n",
      " 'NOVIA:\\nDespierte l' 'NOVIA:\\nDespierte l'] Genero 25 posibles y me quedo con los 5 mas probables\n",
      "---------------------------------------------\n",
      "['NOVIA:\\nDespierte la' 'NOVIA:\\nDespierte la' 'NOVIA:\\nDespierte la'\n",
      " 'NOVIA:\\nDespierte la' 'NOVIA:\\nDespierte la'] Genero 25 posibles y me quedo con los 5 mas probables\n",
      "---------------------------------------------\n",
      "['NOVIA:\\nDespierte la ' 'NOVIA:\\nDespierte la ' 'NOVIA:\\nDespierte la '\n",
      " 'NOVIA:\\nDespierte la ' 'NOVIA:\\nDespierte la '] Genero 25 posibles y me quedo con los 5 mas probables\n",
      "---------------------------------------------\n",
      "['NOVIA:\\nDespierte la n' 'NOVIA:\\nDespierte la n'\n",
      " 'NOVIA:\\nDespierte la n' 'NOVIA:\\nDespierte la n'\n",
      " 'NOVIA:\\nDespierte la n'] Genero 25 posibles y me quedo con los 5 mas probables\n",
      "---------------------------------------------\n",
      "['NOVIA:\\nDespierte la no' 'NOVIA:\\nDespierte la no'\n",
      " 'NOVIA:\\nDespierte la no' 'NOVIA:\\nDespierte la no'\n",
      " 'NOVIA:\\nDespierte la no'] Genero 25 posibles y me quedo con los 5 mas probables\n",
      "---------------------------------------------\n",
      "['NOVIA:\\nDespierte la nov' 'NOVIA:\\nDespierte la nov'\n",
      " 'NOVIA:\\nDespierte la nov' 'NOVIA:\\nDespierte la nov'\n",
      " 'NOVIA:\\nDespierte la nov'] Genero 25 posibles y me quedo con los 5 mas probables\n",
      "---------------------------------------------\n",
      "['NOVIA:\\nDespierte la novi' 'NOVIA:\\nDespierte la novi'\n",
      " 'NOVIA:\\nDespierte la novi' 'NOVIA:\\nDespierte la novi'\n",
      " 'NOVIA:\\nDespierte la novi'] Genero 25 posibles y me quedo con los 5 mas probables\n",
      "---------------------------------------------\n",
      "['NOVIA:\\nDespierte la novia' 'NOVIA:\\nDespierte la novia'\n",
      " 'NOVIA:\\nDespierte la novia' 'NOVIA:\\nDespierte la novia'\n",
      " 'NOVIA:\\nDespierte la novia'] Genero 25 posibles y me quedo con los 5 mas probables\n",
      "---------------------------------------------\n",
      "['NOVIA:\\nDespierte la novia.' 'NOVIA:\\nDespierte la novia.'\n",
      " 'NOVIA:\\nDespierte la novia.' 'NOVIA:\\nDespierte la novia.'\n",
      " 'NOVIA:\\nDespierte la novia.'] Genero 25 posibles y me quedo con los 5 mas probables\n",
      "---------------------------------------------\n",
      "['NOVIA:\\nDespierte la novia.\\n' 'NOVIA:\\nDespierte la novia.\\n'\n",
      " 'NOVIA:\\nDespierte la novia.\\n' 'NOVIA:\\nDespierte la novia.\\n'\n",
      " 'NOVIA:\\nDespierte la novia.\\n'] Genero 25 posibles y me quedo con los 5 mas probables\n",
      "---------------------------------------------\n",
      "['NOVIA:\\nDespierte la novia.\\nM' 'NOVIA:\\nDespierte la novia.\\nC'\n",
      " 'NOVIA:\\nDespierte la novia.\\nC' 'NOVIA:\\nDespierte la novia.\\nC'\n",
      " 'NOVIA:\\nDespierte la novia.\\nS'] Genero 25 posibles y me quedo con los 5 mas probables\n",
      "---------------------------------------------\n",
      "['NOVIA:\\nDespierte la novia.\\nMU' 'NOVIA:\\nDespierte la novia.\\nMU'\n",
      " 'NOVIA:\\nDespierte la novia.\\nSU' 'NOVIA:\\nDespierte la novia.\\nSU'\n",
      " 'NOVIA:\\nDespierte la novia.\\nCR'] Genero 25 posibles y me quedo con los 5 mas probables\n",
      "---------------------------------------------\n",
      "['NOVIA:\\nDespierte la novia.\\nMUJ' 'NOVIA:\\nDespierte la novia.\\nMUJ'\n",
      " 'NOVIA:\\nDespierte la novia.\\nMUJ' 'NOVIA:\\nDespierte la novia.\\nMUJ'\n",
      " 'NOVIA:\\nDespierte la novia.\\nCRI'] Genero 25 posibles y me quedo con los 5 mas probables\n",
      "---------------------------------------------\n",
      "['NOVIA:\\nDespierte la novia.\\nMUJE' 'NOVIA:\\nDespierte la novia.\\nMUJE'\n",
      " 'NOVIA:\\nDespierte la novia.\\nMUJE' 'NOVIA:\\nDespierte la novia.\\nMUJE'\n",
      " 'NOVIA:\\nDespierte la novia.\\nMUJE'] Genero 25 posibles y me quedo con los 5 mas probables\n",
      "---------------------------------------------\n",
      "['NOVIA:\\nDespierte la novia.\\nMUJER' 'NOVIA:\\nDespierte la novia.\\nMUJER'\n",
      " 'NOVIA:\\nDespierte la novia.\\nMUJER' 'NOVIA:\\nDespierte la novia.\\nMUJER'\n",
      " 'NOVIA:\\nDespierte la novia.\\nMUJER'] Genero 25 posibles y me quedo con los 5 mas probables\n",
      "---------------------------------------------\n",
      "['NOVIA:\\nDespierte la novia.\\nMUJER:'\n",
      " 'NOVIA:\\nDespierte la novia.\\nMUJER:'\n",
      " 'NOVIA:\\nDespierte la novia.\\nMUJER:'\n",
      " 'NOVIA:\\nDespierte la novia.\\nMUJER:'\n",
      " 'NOVIA:\\nDespierte la novia.\\nMUJER:'] Genero 25 posibles y me quedo con los 5 mas probables\n",
      "---------------------------------------------\n",
      "['NOVIA:\\nDespierte la novia.\\nMUJER: '\n",
      " 'NOVIA:\\nDespierte la novia.\\nMUJER: '\n",
      " 'NOVIA:\\nDespierte la novia.\\nMUJER: '\n",
      " 'NOVIA:\\nDespierte la novia.\\nMUJER: '\n",
      " 'NOVIA:\\nDespierte la novia.\\nMUJER: '] Genero 25 posibles y me quedo con los 5 mas probables\n",
      "---------------------------------------------\n",
      "['NOVIA:\\nDespierte la novia.\\nMUJER: ('\n",
      " 'NOVIA:\\nDespierte la novia.\\nMUJER: ('\n",
      " 'NOVIA:\\nDespierte la novia.\\nMUJER: ('\n",
      " 'NOVIA:\\nDespierte la novia.\\nMUJER: ('\n",
      " 'NOVIA:\\nDespierte la novia.\\nMUJER: ('] Genero 25 posibles y me quedo con los 5 mas probables\n",
      "---------------------------------------------\n",
      "['NOVIA:\\nDespierte la novia.\\nMUJER: (L'\n",
      " 'NOVIA:\\nDespierte la novia.\\nMUJER: (L'\n",
      " 'NOVIA:\\nDespierte la novia.\\nMUJER: (L'\n",
      " 'NOVIA:\\nDespierte la novia.\\nMUJER: (L'\n",
      " 'NOVIA:\\nDespierte la novia.\\nMUJER: (M'] Genero 25 posibles y me quedo con los 5 mas probables\n",
      "---------------------------------------------\n",
      "['NOVIA:\\nDespierte la novia.\\nMUJER: (Ll'\n",
      " 'NOVIA:\\nDespierte la novia.\\nMUJER: (Ll'\n",
      " 'NOVIA:\\nDespierte la novia.\\nMUJER: (Ll'\n",
      " 'NOVIA:\\nDespierte la novia.\\nMUJER: (Ll'\n",
      " 'NOVIA:\\nDespierte la novia.\\nMUJER: (Ll'] Genero 25 posibles y me quedo con los 5 mas probables\n",
      "---------------------------------------------\n",
      "['NOVIA:\\nDespierte la novia.\\nMUJER: (Llo'\n",
      " 'NOVIA:\\nDespierte la novia.\\nMUJER: (Llo'\n",
      " 'NOVIA:\\nDespierte la novia.\\nMUJER: (Llo'\n",
      " 'NOVIA:\\nDespierte la novia.\\nMUJER: (Llo'\n",
      " 'NOVIA:\\nDespierte la novia.\\nMUJER: (Llo'] Genero 25 posibles y me quedo con los 5 mas probables\n",
      "---------------------------------------------\n",
      "['NOVIA:\\nDespierte la novia.\\nMUJER: (Llor'\n",
      " 'NOVIA:\\nDespierte la novia.\\nMUJER: (Llor'\n",
      " 'NOVIA:\\nDespierte la novia.\\nMUJER: (Llor'\n",
      " 'NOVIA:\\nDespierte la novia.\\nMUJER: (Llor'\n",
      " 'NOVIA:\\nDespierte la novia.\\nMUJER: (Llor'] Genero 25 posibles y me quedo con los 5 mas probables\n",
      "---------------------------------------------\n",
      "['NOVIA:\\nDespierte la novia.\\nMUJER: (Llora'\n",
      " 'NOVIA:\\nDespierte la novia.\\nMUJER: (Llora'\n",
      " 'NOVIA:\\nDespierte la novia.\\nMUJER: (Llora'\n",
      " 'NOVIA:\\nDespierte la novia.\\nMUJER: (Llora'\n",
      " 'NOVIA:\\nDespierte la novia.\\nMUJER: (Llora'] Genero 25 posibles y me quedo con los 5 mas probables\n",
      "---------------------------------------------\n",
      "['NOVIA:\\nDespierte la novia.\\nMUJER: (Lloran'\n",
      " 'NOVIA:\\nDespierte la novia.\\nMUJER: (Lloran'\n",
      " 'NOVIA:\\nDespierte la novia.\\nMUJER: (Lloran'\n",
      " 'NOVIA:\\nDespierte la novia.\\nMUJER: (Lloran'\n",
      " 'NOVIA:\\nDespierte la novia.\\nMUJER: (Lloran'] Genero 25 posibles y me quedo con los 5 mas probables\n",
      "---------------------------------------------\n",
      "['NOVIA:\\nDespierte la novia.\\nMUJER: (Llorand'\n",
      " 'NOVIA:\\nDespierte la novia.\\nMUJER: (Llorand'\n",
      " 'NOVIA:\\nDespierte la novia.\\nMUJER: (Llorand'\n",
      " 'NOVIA:\\nDespierte la novia.\\nMUJER: (Llorand'\n",
      " 'NOVIA:\\nDespierte la novia.\\nMUJER: (Llorand'] Genero 25 posibles y me quedo con los 5 mas probables\n",
      "---------------------------------------------\n",
      "['NOVIA:\\nDespierte la novia.\\nMUJER: (Llorando'\n",
      " 'NOVIA:\\nDespierte la novia.\\nMUJER: (Llorando'\n",
      " 'NOVIA:\\nDespierte la novia.\\nMUJER: (Llorando'\n",
      " 'NOVIA:\\nDespierte la novia.\\nMUJER: (Llorando'\n",
      " 'NOVIA:\\nDespierte la novia.\\nMUJER: (Llorando'] Genero 25 posibles y me quedo con los 5 mas probables\n",
      "---------------------------------------------\n",
      "['NOVIA:\\nDespierte la novia.\\nMUJER: (Llorando)'\n",
      " 'NOVIA:\\nDespierte la novia.\\nMUJER: (Llorando)'\n",
      " 'NOVIA:\\nDespierte la novia.\\nMUJER: (Llorando)'\n",
      " 'NOVIA:\\nDespierte la novia.\\nMUJER: (Llorando)'\n",
      " 'NOVIA:\\nDespierte la novia.\\nMUJER: (Llorando)'] Genero 25 posibles y me quedo con los 5 mas probables\n",
      "---------------------------------------------\n",
      "['NOVIA:\\nDespierte la novia.\\nMUJER: (Llorando)\\n'\n",
      " 'NOVIA:\\nDespierte la novia.\\nMUJER: (Llorando)\\n'\n",
      " 'NOVIA:\\nDespierte la novia.\\nMUJER: (Llorando)\\n'\n",
      " 'NOVIA:\\nDespierte la novia.\\nMUJER: (Llorando)\\n'\n",
      " 'NOVIA:\\nDespierte la novia.\\nMUJER: (Llorando)\\n'] Genero 25 posibles y me quedo con los 5 mas probables\n",
      "---------------------------------------------\n",
      "['NOVIA:\\nDespierte la novia.\\nMUJER: (Llorando)\\nD'\n",
      " 'NOVIA:\\nDespierte la novia.\\nMUJER: (Llorando)\\nD'\n",
      " 'NOVIA:\\nDespierte la novia.\\nMUJER: (Llorando)\\nD'\n",
      " 'NOVIA:\\nDespierte la novia.\\nMUJER: (Llorando)\\nD'\n",
      " 'NOVIA:\\nDespierte la novia.\\nMUJER: (Llorando)\\n¡'] Genero 25 posibles y me quedo con los 5 mas probables\n",
      "---------------------------------------------\n",
      "['NOVIA:\\nDespierte la novia.\\nMUJER: (Llorando)\\nDu'\n",
      " 'NOVIA:\\nDespierte la novia.\\nMUJER: (Llorando)\\nDu'\n",
      " 'NOVIA:\\nDespierte la novia.\\nMUJER: (Llorando)\\nDu'\n",
      " 'NOVIA:\\nDespierte la novia.\\nMUJER: (Llorando)\\nDu'\n",
      " 'NOVIA:\\nDespierte la novia.\\nMUJER: (Llorando)\\nDu'] Genero 25 posibles y me quedo con los 5 mas probables\n",
      "---------------------------------------------\n",
      "['NOVIA:\\nDespierte la novia.\\nMUJER: (Llorando)\\nDué'\n",
      " 'NOVIA:\\nDespierte la novia.\\nMUJER: (Llorando)\\nDué'\n",
      " 'NOVIA:\\nDespierte la novia.\\nMUJER: (Llorando)\\nDué'\n",
      " 'NOVIA:\\nDespierte la novia.\\nMUJER: (Llorando)\\nDué'\n",
      " 'NOVIA:\\nDespierte la novia.\\nMUJER: (Llorando)\\nDué'] Genero 25 posibles y me quedo con los 5 mas probables\n",
      "---------------------------------------------\n",
      "['NOVIA:\\nDespierte la novia.\\nMUJER: (Llorando)\\nDuér'\n",
      " 'NOVIA:\\nDespierte la novia.\\nMUJER: (Llorando)\\nDuér'\n",
      " 'NOVIA:\\nDespierte la novia.\\nMUJER: (Llorando)\\nDuér'\n",
      " 'NOVIA:\\nDespierte la novia.\\nMUJER: (Llorando)\\nDuér'\n",
      " 'NOVIA:\\nDespierte la novia.\\nMUJER: (Llorando)\\nDuér'] Genero 25 posibles y me quedo con los 5 mas probables\n",
      "---------------------------------------------\n",
      "['NOVIA:\\nDespierte la novia.\\nMUJER: (Llorando)\\nDuérm'\n",
      " 'NOVIA:\\nDespierte la novia.\\nMUJER: (Llorando)\\nDuérm'\n",
      " 'NOVIA:\\nDespierte la novia.\\nMUJER: (Llorando)\\nDuérm'\n",
      " 'NOVIA:\\nDespierte la novia.\\nMUJER: (Llorando)\\nDuérm'\n",
      " 'NOVIA:\\nDespierte la novia.\\nMUJER: (Llorando)\\nDuérm'] Genero 25 posibles y me quedo con los 5 mas probables\n",
      "---------------------------------------------\n",
      "['NOVIA:\\nDespierte la novia.\\nMUJER: (Llorando)\\nDuérme'\n",
      " 'NOVIA:\\nDespierte la novia.\\nMUJER: (Llorando)\\nDuérme'\n",
      " 'NOVIA:\\nDespierte la novia.\\nMUJER: (Llorando)\\nDuérme'\n",
      " 'NOVIA:\\nDespierte la novia.\\nMUJER: (Llorando)\\nDuérme'\n",
      " 'NOVIA:\\nDespierte la novia.\\nMUJER: (Llorando)\\nDuérme'] Genero 25 posibles y me quedo con los 5 mas probables\n",
      "---------------------------------------------\n",
      "['NOVIA:\\nDespierte la novia.\\nMUJER: (Llorando)\\nDuérmet'\n",
      " 'NOVIA:\\nDespierte la novia.\\nMUJER: (Llorando)\\nDuérmet'\n",
      " 'NOVIA:\\nDespierte la novia.\\nMUJER: (Llorando)\\nDuérmet'\n",
      " 'NOVIA:\\nDespierte la novia.\\nMUJER: (Llorando)\\nDuérmet'\n",
      " 'NOVIA:\\nDespierte la novia.\\nMUJER: (Llorando)\\nDuérmet'] Genero 25 posibles y me quedo con los 5 mas probables\n",
      "---------------------------------------------\n",
      "['NOVIA:\\nDespierte la novia.\\nMUJER: (Llorando)\\nDuérmete'\n",
      " 'NOVIA:\\nDespierte la novia.\\nMUJER: (Llorando)\\nDuérmete'\n",
      " 'NOVIA:\\nDespierte la novia.\\nMUJER: (Llorando)\\nDuérmete'\n",
      " 'NOVIA:\\nDespierte la novia.\\nMUJER: (Llorando)\\nDuérmete'\n",
      " 'NOVIA:\\nDespierte la novia.\\nMUJER: (Llorando)\\nDuérmete'] Genero 25 posibles y me quedo con los 5 mas probables\n",
      "---------------------------------------------\n",
      "['NOVIA:\\nDespierte la novia.\\nMUJER: (Llorando)\\nDuérmete,'\n",
      " 'NOVIA:\\nDespierte la novia.\\nMUJER: (Llorando)\\nDuérmete,'\n",
      " 'NOVIA:\\nDespierte la novia.\\nMUJER: (Llorando)\\nDuérmete,'\n",
      " 'NOVIA:\\nDespierte la novia.\\nMUJER: (Llorando)\\nDuérmete,'\n",
      " 'NOVIA:\\nDespierte la novia.\\nMUJER: (Llorando)\\nDuérmete,'] Genero 25 posibles y me quedo con los 5 mas probables\n",
      "---------------------------------------------\n",
      "['NOVIA:\\nDespierte la novia.\\nMUJER: (Llorando)\\nDuérmete, '\n",
      " 'NOVIA:\\nDespierte la novia.\\nMUJER: (Llorando)\\nDuérmete, '\n",
      " 'NOVIA:\\nDespierte la novia.\\nMUJER: (Llorando)\\nDuérmete, '\n",
      " 'NOVIA:\\nDespierte la novia.\\nMUJER: (Llorando)\\nDuérmete, '\n",
      " 'NOVIA:\\nDespierte la novia.\\nMUJER: (Llorando)\\nDuérmete, '] Genero 25 posibles y me quedo con los 5 mas probables\n",
      "---------------------------------------------\n",
      "['NOVIA:\\nDespierte la novia.\\nMUJER: (Llorando)\\nDuérmete, c'\n",
      " 'NOVIA:\\nDespierte la novia.\\nMUJER: (Llorando)\\nDuérmete, c'\n",
      " 'NOVIA:\\nDespierte la novia.\\nMUJER: (Llorando)\\nDuérmete, c'\n",
      " 'NOVIA:\\nDespierte la novia.\\nMUJER: (Llorando)\\nDuérmete, c'\n",
      " 'NOVIA:\\nDespierte la novia.\\nMUJER: (Llorando)\\nDuérmete, c'] Genero 25 posibles y me quedo con los 5 mas probables\n",
      "---------------------------------------------\n",
      "['NOVIA:\\nDespierte la novia.\\nMUJER: (Llorando)\\nDuérmete, cl'\n",
      " 'NOVIA:\\nDespierte la novia.\\nMUJER: (Llorando)\\nDuérmete, cl'\n",
      " 'NOVIA:\\nDespierte la novia.\\nMUJER: (Llorando)\\nDuérmete, cl'\n",
      " 'NOVIA:\\nDespierte la novia.\\nMUJER: (Llorando)\\nDuérmete, cl'\n",
      " 'NOVIA:\\nDespierte la novia.\\nMUJER: (Llorando)\\nDuérmete, cl'] Genero 25 posibles y me quedo con los 5 mas probables\n",
      "---------------------------------------------\n",
      "['NOVIA:\\nDespierte la novia.\\nMUJER: (Llorando)\\nDuérmete, cla'\n",
      " 'NOVIA:\\nDespierte la novia.\\nMUJER: (Llorando)\\nDuérmete, cla'\n",
      " 'NOVIA:\\nDespierte la novia.\\nMUJER: (Llorando)\\nDuérmete, cla'\n",
      " 'NOVIA:\\nDespierte la novia.\\nMUJER: (Llorando)\\nDuérmete, cla'\n",
      " 'NOVIA:\\nDespierte la novia.\\nMUJER: (Llorando)\\nDuérmete, cla'] Genero 25 posibles y me quedo con los 5 mas probables\n",
      "---------------------------------------------\n",
      "['NOVIA:\\nDespierte la novia.\\nMUJER: (Llorando)\\nDuérmete, clav'\n",
      " 'NOVIA:\\nDespierte la novia.\\nMUJER: (Llorando)\\nDuérmete, clav'\n",
      " 'NOVIA:\\nDespierte la novia.\\nMUJER: (Llorando)\\nDuérmete, clav'\n",
      " 'NOVIA:\\nDespierte la novia.\\nMUJER: (Llorando)\\nDuérmete, clav'\n",
      " 'NOVIA:\\nDespierte la novia.\\nMUJER: (Llorando)\\nDuérmete, clav'] Genero 25 posibles y me quedo con los 5 mas probables\n",
      "---------------------------------------------\n",
      "['NOVIA:\\nDespierte la novia.\\nMUJER: (Llorando)\\nDuérmete, clave'\n",
      " 'NOVIA:\\nDespierte la novia.\\nMUJER: (Llorando)\\nDuérmete, clave'\n",
      " 'NOVIA:\\nDespierte la novia.\\nMUJER: (Llorando)\\nDuérmete, clave'\n",
      " 'NOVIA:\\nDespierte la novia.\\nMUJER: (Llorando)\\nDuérmete, clave'\n",
      " 'NOVIA:\\nDespierte la novia.\\nMUJER: (Llorando)\\nDuérmete, clave'] Genero 25 posibles y me quedo con los 5 mas probables\n",
      "---------------------------------------------\n",
      "['NOVIA:\\nDespierte la novia.\\nMUJER: (Llorando)\\nDuérmete, clavel'\n",
      " 'NOVIA:\\nDespierte la novia.\\nMUJER: (Llorando)\\nDuérmete, clavel'\n",
      " 'NOVIA:\\nDespierte la novia.\\nMUJER: (Llorando)\\nDuérmete, clavel'\n",
      " 'NOVIA:\\nDespierte la novia.\\nMUJER: (Llorando)\\nDuérmete, clavel'\n",
      " 'NOVIA:\\nDespierte la novia.\\nMUJER: (Llorando)\\nDuérmete, clavel'] Genero 25 posibles y me quedo con los 5 mas probables\n",
      "---------------------------------------------\n",
      "['NOVIA:\\nDespierte la novia.\\nMUJER: (Llorando)\\nDuérmete, clavel,'\n",
      " 'NOVIA:\\nDespierte la novia.\\nMUJER: (Llorando)\\nDuérmete, clavel,'\n",
      " 'NOVIA:\\nDespierte la novia.\\nMUJER: (Llorando)\\nDuérmete, clavel,'\n",
      " 'NOVIA:\\nDespierte la novia.\\nMUJER: (Llorando)\\nDuérmete, clavell'\n",
      " 'NOVIA:\\nDespierte la novia.\\nMUJER: (Llorando)\\nDuérmete, clavell'] Genero 25 posibles y me quedo con los 5 mas probables\n",
      "---------------------------------------------\n",
      "['NOVIA:\\nDespierte la novia.\\nMUJER: (Llorando)\\nDuérmete, clavel,\\n'\n",
      " 'NOVIA:\\nDespierte la novia.\\nMUJER: (Llorando)\\nDuérmete, clavel,\\n'\n",
      " 'NOVIA:\\nDespierte la novia.\\nMUJER: (Llorando)\\nDuérmete, clavel,\\n'\n",
      " 'NOVIA:\\nDespierte la novia.\\nMUJER: (Llorando)\\nDuérmete, clavel,\\n'\n",
      " 'NOVIA:\\nDespierte la novia.\\nMUJER: (Llorando)\\nDuérmete, clavel,\\n'] Genero 25 posibles y me quedo con los 5 mas probables\n",
      "---------------------------------------------\n",
      "['NOVIA:\\nDespierte la novia.\\nMUJER: (Llorando)\\nDuérmete, clavel,\\nq'\n",
      " 'NOVIA:\\nDespierte la novia.\\nMUJER: (Llorando)\\nDuérmete, clavel,\\nq'\n",
      " 'NOVIA:\\nDespierte la novia.\\nMUJER: (Llorando)\\nDuérmete, clavel,\\nq'\n",
      " 'NOVIA:\\nDespierte la novia.\\nMUJER: (Llorando)\\nDuérmete, clavel,\\nq'\n",
      " 'NOVIA:\\nDespierte la novia.\\nMUJER: (Llorando)\\nDuérmete, clavel,\\nq'] Genero 25 posibles y me quedo con los 5 mas probables\n",
      "---------------------------------------------\n",
      "['NOVIA:\\nDespierte la novia.\\nMUJER: (Llorando)\\nDuérmete, clavel,\\nqu'\n",
      " 'NOVIA:\\nDespierte la novia.\\nMUJER: (Llorando)\\nDuérmete, clavel,\\nqu'\n",
      " 'NOVIA:\\nDespierte la novia.\\nMUJER: (Llorando)\\nDuérmete, clavel,\\nqu'\n",
      " 'NOVIA:\\nDespierte la novia.\\nMUJER: (Llorando)\\nDuérmete, clavel,\\nqu'\n",
      " 'NOVIA:\\nDespierte la novia.\\nMUJER: (Llorando)\\nDuérmete, clavel,\\nqu'] Genero 25 posibles y me quedo con los 5 mas probables\n",
      "---------------------------------------------\n",
      "['NOVIA:\\nDespierte la novia.\\nMUJER: (Llorando)\\nDuérmete, clavel,\\nque'\n",
      " 'NOVIA:\\nDespierte la novia.\\nMUJER: (Llorando)\\nDuérmete, clavel,\\nque'\n",
      " 'NOVIA:\\nDespierte la novia.\\nMUJER: (Llorando)\\nDuérmete, clavel,\\nque'\n",
      " 'NOVIA:\\nDespierte la novia.\\nMUJER: (Llorando)\\nDuérmete, clavel,\\nque'\n",
      " 'NOVIA:\\nDespierte la novia.\\nMUJER: (Llorando)\\nDuérmete, clavel,\\nque'] Genero 25 posibles y me quedo con los 5 mas probables\n",
      "---------------------------------------------\n",
      "['NOVIA:\\nDespierte la novia.\\nMUJER: (Llorando)\\nDuérmete, clavel,\\nque '\n",
      " 'NOVIA:\\nDespierte la novia.\\nMUJER: (Llorando)\\nDuérmete, clavel,\\nque '\n",
      " 'NOVIA:\\nDespierte la novia.\\nMUJER: (Llorando)\\nDuérmete, clavel,\\nque '\n",
      " 'NOVIA:\\nDespierte la novia.\\nMUJER: (Llorando)\\nDuérmete, clavel,\\nque '\n",
      " 'NOVIA:\\nDespierte la novia.\\nMUJER: (Llorando)\\nDuérmete, clavel,\\nque '] Genero 25 posibles y me quedo con los 5 mas probables\n",
      "---------------------------------------------\n",
      "['NOVIA:\\nDespierte la novia.\\nMUJER: (Llorando)\\nDuérmete, clavel,\\nque e'\n",
      " 'NOVIA:\\nDespierte la novia.\\nMUJER: (Llorando)\\nDuérmete, clavel,\\nque e'\n",
      " 'NOVIA:\\nDespierte la novia.\\nMUJER: (Llorando)\\nDuérmete, clavel,\\nque e'\n",
      " 'NOVIA:\\nDespierte la novia.\\nMUJER: (Llorando)\\nDuérmete, clavel,\\nque e'\n",
      " 'NOVIA:\\nDespierte la novia.\\nMUJER: (Llorando)\\nDuérmete, clavel,\\nque e'] Genero 25 posibles y me quedo con los 5 mas probables\n",
      "---------------------------------------------\n",
      "['NOVIA:\\nDespierte la novia.\\nMUJER: (Llorando)\\nDuérmete, clavel,\\nque el'\n",
      " 'NOVIA:\\nDespierte la novia.\\nMUJER: (Llorando)\\nDuérmete, clavel,\\nque el'\n",
      " 'NOVIA:\\nDespierte la novia.\\nMUJER: (Llorando)\\nDuérmete, clavel,\\nque el'\n",
      " 'NOVIA:\\nDespierte la novia.\\nMUJER: (Llorando)\\nDuérmete, clavel,\\nque el'\n",
      " 'NOVIA:\\nDespierte la novia.\\nMUJER: (Llorando)\\nDuérmete, clavel,\\nque el'] Genero 25 posibles y me quedo con los 5 mas probables\n",
      "---------------------------------------------\n",
      "['NOVIA:\\nDespierte la novia.\\nMUJER: (Llorando)\\nDuérmete, clavel,\\nque el '\n",
      " 'NOVIA:\\nDespierte la novia.\\nMUJER: (Llorando)\\nDuérmete, clavel,\\nque el '\n",
      " 'NOVIA:\\nDespierte la novia.\\nMUJER: (Llorando)\\nDuérmete, clavel,\\nque el '\n",
      " 'NOVIA:\\nDespierte la novia.\\nMUJER: (Llorando)\\nDuérmete, clavel,\\nque el '\n",
      " 'NOVIA:\\nDespierte la novia.\\nMUJER: (Llorando)\\nDuérmete, clavel,\\nque el '] Genero 25 posibles y me quedo con los 5 mas probables\n",
      "---------------------------------------------\n",
      "['NOVIA:\\nDespierte la novia.\\nMUJER: (Llorando)\\nDuérmete, clavel,\\nque el c'\n",
      " 'NOVIA:\\nDespierte la novia.\\nMUJER: (Llorando)\\nDuérmete, clavel,\\nque el c'\n",
      " 'NOVIA:\\nDespierte la novia.\\nMUJER: (Llorando)\\nDuérmete, clavel,\\nque el c'\n",
      " 'NOVIA:\\nDespierte la novia.\\nMUJER: (Llorando)\\nDuérmete, clavel,\\nque el c'\n",
      " 'NOVIA:\\nDespierte la novia.\\nMUJER: (Llorando)\\nDuérmete, clavel,\\nque el a'] Genero 25 posibles y me quedo con los 5 mas probables\n",
      "---------------------------------------------\n",
      "['NOVIA:\\nDespierte la novia.\\nMUJER: (Llorando)\\nDuérmete, clavel,\\nque el ca'\n",
      " 'NOVIA:\\nDespierte la novia.\\nMUJER: (Llorando)\\nDuérmete, clavel,\\nque el ca'\n",
      " 'NOVIA:\\nDespierte la novia.\\nMUJER: (Llorando)\\nDuérmete, clavel,\\nque el ca'\n",
      " 'NOVIA:\\nDespierte la novia.\\nMUJER: (Llorando)\\nDuérmete, clavel,\\nque el ca'\n",
      " 'NOVIA:\\nDespierte la novia.\\nMUJER: (Llorando)\\nDuérmete, clavel,\\nque el ca'] Genero 25 posibles y me quedo con los 5 mas probables\n",
      "---------------------------------------------\n",
      "['NOVIA:\\nDespierte la novia.\\nMUJER: (Llorando)\\nDuérmete, clavel,\\nque el cab'\n",
      " 'NOVIA:\\nDespierte la novia.\\nMUJER: (Llorando)\\nDuérmete, clavel,\\nque el cab'\n",
      " 'NOVIA:\\nDespierte la novia.\\nMUJER: (Llorando)\\nDuérmete, clavel,\\nque el cab'\n",
      " 'NOVIA:\\nDespierte la novia.\\nMUJER: (Llorando)\\nDuérmete, clavel,\\nque el cab'\n",
      " 'NOVIA:\\nDespierte la novia.\\nMUJER: (Llorando)\\nDuérmete, clavel,\\nque el cab'] Genero 25 posibles y me quedo con los 5 mas probables\n",
      "---------------------------------------------\n",
      "['NOVIA:\\nDespierte la novia.\\nMUJER: (Llorando)\\nDuérmete, clavel,\\nque el caba'\n",
      " 'NOVIA:\\nDespierte la novia.\\nMUJER: (Llorando)\\nDuérmete, clavel,\\nque el caba'\n",
      " 'NOVIA:\\nDespierte la novia.\\nMUJER: (Llorando)\\nDuérmete, clavel,\\nque el caba'\n",
      " 'NOVIA:\\nDespierte la novia.\\nMUJER: (Llorando)\\nDuérmete, clavel,\\nque el caba'\n",
      " 'NOVIA:\\nDespierte la novia.\\nMUJER: (Llorando)\\nDuérmete, clavel,\\nque el caba'] Genero 25 posibles y me quedo con los 5 mas probables\n",
      "---------------------------------------------\n",
      "['NOVIA:\\nDespierte la novia.\\nMUJER: (Llorando)\\nDuérmete, clavel,\\nque el cabal'\n",
      " 'NOVIA:\\nDespierte la novia.\\nMUJER: (Llorando)\\nDuérmete, clavel,\\nque el cabal'\n",
      " 'NOVIA:\\nDespierte la novia.\\nMUJER: (Llorando)\\nDuérmete, clavel,\\nque el cabal'\n",
      " 'NOVIA:\\nDespierte la novia.\\nMUJER: (Llorando)\\nDuérmete, clavel,\\nque el cabal'\n",
      " 'NOVIA:\\nDespierte la novia.\\nMUJER: (Llorando)\\nDuérmete, clavel,\\nque el cabal'] Genero 25 posibles y me quedo con los 5 mas probables\n",
      "---------------------------------------------\n",
      "['NOVIA:\\nDespierte la novia.\\nMUJER: (Llorando)\\nDuérmete, clavel,\\nque el caball'\n",
      " 'NOVIA:\\nDespierte la novia.\\nMUJER: (Llorando)\\nDuérmete, clavel,\\nque el caball'\n",
      " 'NOVIA:\\nDespierte la novia.\\nMUJER: (Llorando)\\nDuérmete, clavel,\\nque el caball'\n",
      " 'NOVIA:\\nDespierte la novia.\\nMUJER: (Llorando)\\nDuérmete, clavel,\\nque el caball'\n",
      " 'NOVIA:\\nDespierte la novia.\\nMUJER: (Llorando)\\nDuérmete, clavel,\\nque el caball'] Genero 25 posibles y me quedo con los 5 mas probables\n",
      "---------------------------------------------\n",
      "['NOVIA:\\nDespierte la novia.\\nMUJER: (Llorando)\\nDuérmete, clavel,\\nque el caballo'\n",
      " 'NOVIA:\\nDespierte la novia.\\nMUJER: (Llorando)\\nDuérmete, clavel,\\nque el caballo'\n",
      " 'NOVIA:\\nDespierte la novia.\\nMUJER: (Llorando)\\nDuérmete, clavel,\\nque el caballo'\n",
      " 'NOVIA:\\nDespierte la novia.\\nMUJER: (Llorando)\\nDuérmete, clavel,\\nque el caballo'\n",
      " 'NOVIA:\\nDespierte la novia.\\nMUJER: (Llorando)\\nDuérmete, clavel,\\nque el caballo'] Genero 25 posibles y me quedo con los 5 mas probables\n",
      "---------------------------------------------\n",
      "['NOVIA:\\nDespierte la novia.\\nMUJER: (Llorando)\\nDuérmete, clavel,\\nque el caballo '\n",
      " 'NOVIA:\\nDespierte la novia.\\nMUJER: (Llorando)\\nDuérmete, clavel,\\nque el caballo '\n",
      " 'NOVIA:\\nDespierte la novia.\\nMUJER: (Llorando)\\nDuérmete, clavel,\\nque el caballo '\n",
      " 'NOVIA:\\nDespierte la novia.\\nMUJER: (Llorando)\\nDuérmete, clavel,\\nque el caballo '\n",
      " 'NOVIA:\\nDespierte la novia.\\nMUJER: (Llorando)\\nDuérmete, clavel,\\nque el caballo '] Genero 25 posibles y me quedo con los 5 mas probables\n",
      "---------------------------------------------\n",
      "['NOVIA:\\nDespierte la novia.\\nMUJER: (Llorando)\\nDuérmete, clavel,\\nque el caballo s'\n",
      " 'NOVIA:\\nDespierte la novia.\\nMUJER: (Llorando)\\nDuérmete, clavel,\\nque el caballo n'\n",
      " 'NOVIA:\\nDespierte la novia.\\nMUJER: (Llorando)\\nDuérmete, clavel,\\nque el caballo n'\n",
      " 'NOVIA:\\nDespierte la novia.\\nMUJER: (Llorando)\\nDuérmete, clavel,\\nque el caballo n'\n",
      " 'NOVIA:\\nDespierte la novia.\\nMUJER: (Llorando)\\nDuérmete, clavel,\\nque el caballo n'] Genero 25 posibles y me quedo con los 5 mas probables\n",
      "---------------------------------------------\n",
      "['NOVIA:\\nDespierte la novia.\\nMUJER: (Llorando)\\nDuérmete, clavel,\\nque el caballo no'\n",
      " 'NOVIA:\\nDespierte la novia.\\nMUJER: (Llorando)\\nDuérmete, clavel,\\nque el caballo no'\n",
      " 'NOVIA:\\nDespierte la novia.\\nMUJER: (Llorando)\\nDuérmete, clavel,\\nque el caballo no'\n",
      " 'NOVIA:\\nDespierte la novia.\\nMUJER: (Llorando)\\nDuérmete, clavel,\\nque el caballo no'\n",
      " 'NOVIA:\\nDespierte la novia.\\nMUJER: (Llorando)\\nDuérmete, clavel,\\nque el caballo no'] Genero 25 posibles y me quedo con los 5 mas probables\n",
      "---------------------------------------------\n",
      "['NOVIA:\\nDespierte la novia.\\nMUJER: (Llorando)\\nDuérmete, clavel,\\nque el caballo no '\n",
      " 'NOVIA:\\nDespierte la novia.\\nMUJER: (Llorando)\\nDuérmete, clavel,\\nque el caballo no '\n",
      " 'NOVIA:\\nDespierte la novia.\\nMUJER: (Llorando)\\nDuérmete, clavel,\\nque el caballo no '\n",
      " 'NOVIA:\\nDespierte la novia.\\nMUJER: (Llorando)\\nDuérmete, clavel,\\nque el caballo no '\n",
      " 'NOVIA:\\nDespierte la novia.\\nMUJER: (Llorando)\\nDuérmete, clavel,\\nque el caballo no '] Genero 25 posibles y me quedo con los 5 mas probables\n",
      "---------------------------------------------\n",
      "['NOVIA:\\nDespierte la novia.\\nMUJER: (Llorando)\\nDuérmete, clavel,\\nque el caballo no q'\n",
      " 'NOVIA:\\nDespierte la novia.\\nMUJER: (Llorando)\\nDuérmete, clavel,\\nque el caballo no q'\n",
      " 'NOVIA:\\nDespierte la novia.\\nMUJER: (Llorando)\\nDuérmete, clavel,\\nque el caballo no q'\n",
      " 'NOVIA:\\nDespierte la novia.\\nMUJER: (Llorando)\\nDuérmete, clavel,\\nque el caballo no q'\n",
      " 'NOVIA:\\nDespierte la novia.\\nMUJER: (Llorando)\\nDuérmete, clavel,\\nque el caballo no q'] Genero 25 posibles y me quedo con los 5 mas probables\n",
      "---------------------------------------------\n",
      "['NOVIA:\\nDespierte la novia.\\nMUJER: (Llorando)\\nDuérmete, clavel,\\nque el caballo no qu'\n",
      " 'NOVIA:\\nDespierte la novia.\\nMUJER: (Llorando)\\nDuérmete, clavel,\\nque el caballo no qu'\n",
      " 'NOVIA:\\nDespierte la novia.\\nMUJER: (Llorando)\\nDuérmete, clavel,\\nque el caballo no qu'\n",
      " 'NOVIA:\\nDespierte la novia.\\nMUJER: (Llorando)\\nDuérmete, clavel,\\nque el caballo no qu'\n",
      " 'NOVIA:\\nDespierte la novia.\\nMUJER: (Llorando)\\nDuérmete, clavel,\\nque el caballo no qu'] Genero 25 posibles y me quedo con los 5 mas probables\n",
      "---------------------------------------------\n",
      "['NOVIA:\\nDespierte la novia.\\nMUJER: (Llorando)\\nDuérmete, clavel,\\nque el caballo no qui'\n",
      " 'NOVIA:\\nDespierte la novia.\\nMUJER: (Llorando)\\nDuérmete, clavel,\\nque el caballo no qui'\n",
      " 'NOVIA:\\nDespierte la novia.\\nMUJER: (Llorando)\\nDuérmete, clavel,\\nque el caballo no qui'\n",
      " 'NOVIA:\\nDespierte la novia.\\nMUJER: (Llorando)\\nDuérmete, clavel,\\nque el caballo no qui'\n",
      " 'NOVIA:\\nDespierte la novia.\\nMUJER: (Llorando)\\nDuérmete, clavel,\\nque el caballo no qui'] Genero 25 posibles y me quedo con los 5 mas probables\n",
      "---------------------------------------------\n",
      "['NOVIA:\\nDespierte la novia.\\nMUJER: (Llorando)\\nDuérmete, clavel,\\nque el caballo no quie'\n",
      " 'NOVIA:\\nDespierte la novia.\\nMUJER: (Llorando)\\nDuérmete, clavel,\\nque el caballo no quie'\n",
      " 'NOVIA:\\nDespierte la novia.\\nMUJER: (Llorando)\\nDuérmete, clavel,\\nque el caballo no quie'\n",
      " 'NOVIA:\\nDespierte la novia.\\nMUJER: (Llorando)\\nDuérmete, clavel,\\nque el caballo no quie'\n",
      " 'NOVIA:\\nDespierte la novia.\\nMUJER: (Llorando)\\nDuérmete, clavel,\\nque el caballo no quie'] Genero 25 posibles y me quedo con los 5 mas probables\n",
      "---------------------------------------------\n",
      "['NOVIA:\\nDespierte la novia.\\nMUJER: (Llorando)\\nDuérmete, clavel,\\nque el caballo no quier'\n",
      " 'NOVIA:\\nDespierte la novia.\\nMUJER: (Llorando)\\nDuérmete, clavel,\\nque el caballo no quier'\n",
      " 'NOVIA:\\nDespierte la novia.\\nMUJER: (Llorando)\\nDuérmete, clavel,\\nque el caballo no quier'\n",
      " 'NOVIA:\\nDespierte la novia.\\nMUJER: (Llorando)\\nDuérmete, clavel,\\nque el caballo no quier'\n",
      " 'NOVIA:\\nDespierte la novia.\\nMUJER: (Llorando)\\nDuérmete, clavel,\\nque el caballo no quier'] Genero 25 posibles y me quedo con los 5 mas probables\n",
      "---------------------------------------------\n",
      "['NOVIA:\\nDespierte la novia.\\nMUJER: (Llorando)\\nDuérmete, clavel,\\nque el caballo no quiere'\n",
      " 'NOVIA:\\nDespierte la novia.\\nMUJER: (Llorando)\\nDuérmete, clavel,\\nque el caballo no quiere'\n",
      " 'NOVIA:\\nDespierte la novia.\\nMUJER: (Llorando)\\nDuérmete, clavel,\\nque el caballo no quiere'\n",
      " 'NOVIA:\\nDespierte la novia.\\nMUJER: (Llorando)\\nDuérmete, clavel,\\nque el caballo no quiere'\n",
      " 'NOVIA:\\nDespierte la novia.\\nMUJER: (Llorando)\\nDuérmete, clavel,\\nque el caballo no quiere'] Genero 25 posibles y me quedo con los 5 mas probables\n",
      "---------------------------------------------\n",
      "['NOVIA:\\nDespierte la novia.\\nMUJER: (Llorando)\\nDuérmete, clavel,\\nque el caballo no quiere '\n",
      " 'NOVIA:\\nDespierte la novia.\\nMUJER: (Llorando)\\nDuérmete, clavel,\\nque el caballo no quiere '\n",
      " 'NOVIA:\\nDespierte la novia.\\nMUJER: (Llorando)\\nDuérmete, clavel,\\nque el caballo no quiere '\n",
      " 'NOVIA:\\nDespierte la novia.\\nMUJER: (Llorando)\\nDuérmete, clavel,\\nque el caballo no quiere '\n",
      " 'NOVIA:\\nDespierte la novia.\\nMUJER: (Llorando)\\nDuérmete, clavel,\\nque el caballo no quiere '] Genero 25 posibles y me quedo con los 5 mas probables\n",
      "---------------------------------------------\n",
      "['NOVIA:\\nDespierte la novia.\\nMUJER: (Llorando)\\nDuérmete, clavel,\\nque el caballo no quiere b'\n",
      " 'NOVIA:\\nDespierte la novia.\\nMUJER: (Llorando)\\nDuérmete, clavel,\\nque el caballo no quiere b'\n",
      " 'NOVIA:\\nDespierte la novia.\\nMUJER: (Llorando)\\nDuérmete, clavel,\\nque el caballo no quiere b'\n",
      " 'NOVIA:\\nDespierte la novia.\\nMUJER: (Llorando)\\nDuérmete, clavel,\\nque el caballo no quiere b'\n",
      " 'NOVIA:\\nDespierte la novia.\\nMUJER: (Llorando)\\nDuérmete, clavel,\\nque el caballo no quiere b'] Genero 25 posibles y me quedo con los 5 mas probables\n",
      "---------------------------------------------\n",
      "['NOVIA:\\nDespierte la novia.\\nMUJER: (Llorando)\\nDuérmete, clavel,\\nque el caballo no quiere be'\n",
      " 'NOVIA:\\nDespierte la novia.\\nMUJER: (Llorando)\\nDuérmete, clavel,\\nque el caballo no quiere be'\n",
      " 'NOVIA:\\nDespierte la novia.\\nMUJER: (Llorando)\\nDuérmete, clavel,\\nque el caballo no quiere be'\n",
      " 'NOVIA:\\nDespierte la novia.\\nMUJER: (Llorando)\\nDuérmete, clavel,\\nque el caballo no quiere be'\n",
      " 'NOVIA:\\nDespierte la novia.\\nMUJER: (Llorando)\\nDuérmete, clavel,\\nque el caballo no quiere be'] Genero 25 posibles y me quedo con los 5 mas probables\n",
      "---------------------------------------------\n",
      "['NOVIA:\\nDespierte la novia.\\nMUJER: (Llorando)\\nDuérmete, clavel,\\nque el caballo no quiere beb'\n",
      " 'NOVIA:\\nDespierte la novia.\\nMUJER: (Llorando)\\nDuérmete, clavel,\\nque el caballo no quiere beb'\n",
      " 'NOVIA:\\nDespierte la novia.\\nMUJER: (Llorando)\\nDuérmete, clavel,\\nque el caballo no quiere beb'\n",
      " 'NOVIA:\\nDespierte la novia.\\nMUJER: (Llorando)\\nDuérmete, clavel,\\nque el caballo no quiere beb'\n",
      " 'NOVIA:\\nDespierte la novia.\\nMUJER: (Llorando)\\nDuérmete, clavel,\\nque el caballo no quiere beb'] Genero 25 posibles y me quedo con los 5 mas probables\n",
      "---------------------------------------------\n",
      "['NOVIA:\\nDespierte la novia.\\nMUJER: (Llorando)\\nDuérmete, clavel,\\nque el caballo no quiere bebe'\n",
      " 'NOVIA:\\nDespierte la novia.\\nMUJER: (Llorando)\\nDuérmete, clavel,\\nque el caballo no quiere bebe'\n",
      " 'NOVIA:\\nDespierte la novia.\\nMUJER: (Llorando)\\nDuérmete, clavel,\\nque el caballo no quiere bebe'\n",
      " 'NOVIA:\\nDespierte la novia.\\nMUJER: (Llorando)\\nDuérmete, clavel,\\nque el caballo no quiere bebe'\n",
      " 'NOVIA:\\nDespierte la novia.\\nMUJER: (Llorando)\\nDuérmete, clavel,\\nque el caballo no quiere bebe'] Genero 25 posibles y me quedo con los 5 mas probables\n",
      "---------------------------------------------\n",
      "['NOVIA:\\nDespierte la novia.\\nMUJER: (Llorando)\\nDuérmete, clavel,\\nque el caballo no quiere beber'\n",
      " 'NOVIA:\\nDespierte la novia.\\nMUJER: (Llorando)\\nDuérmete, clavel,\\nque el caballo no quiere beber'\n",
      " 'NOVIA:\\nDespierte la novia.\\nMUJER: (Llorando)\\nDuérmete, clavel,\\nque el caballo no quiere beber'\n",
      " 'NOVIA:\\nDespierte la novia.\\nMUJER: (Llorando)\\nDuérmete, clavel,\\nque el caballo no quiere beber'\n",
      " 'NOVIA:\\nDespierte la novia.\\nMUJER: (Llorando)\\nDuérmete, clavel,\\nque el caballo no quiere beber'] Genero 25 posibles y me quedo con los 5 mas probables\n",
      "---------------------------------------------\n",
      "['NOVIA:\\nDespierte la novia.\\nMUJER: (Llorando)\\nDuérmete, clavel,\\nque el caballo no quiere beber.'\n",
      " 'NOVIA:\\nDespierte la novia.\\nMUJER: (Llorando)\\nDuérmete, clavel,\\nque el caballo no quiere beber.'\n",
      " 'NOVIA:\\nDespierte la novia.\\nMUJER: (Llorando)\\nDuérmete, clavel,\\nque el caballo no quiere beber.'\n",
      " 'NOVIA:\\nDespierte la novia.\\nMUJER: (Llorando)\\nDuérmete, clavel,\\nque el caballo no quiere beber.'\n",
      " 'NOVIA:\\nDespierte la novia.\\nMUJER: (Llorando)\\nDuérmete, clavel,\\nque el caballo no quiere beber.'] Genero 25 posibles y me quedo con los 5 mas probables\n",
      "---------------------------------------------\n",
      "['NOVIA:\\nDespierte la novia.\\nMUJER: (Llorando)\\nDuérmete, clavel,\\nque el caballo no quiere beber.\\n'\n",
      " 'NOVIA:\\nDespierte la novia.\\nMUJER: (Llorando)\\nDuérmete, clavel,\\nque el caballo no quiere beber.\\n'\n",
      " 'NOVIA:\\nDespierte la novia.\\nMUJER: (Llorando)\\nDuérmete, clavel,\\nque el caballo no quiere beber.\\n'\n",
      " 'NOVIA:\\nDespierte la novia.\\nMUJER: (Llorando)\\nDuérmete, clavel,\\nque el caballo no quiere beber.\\n'\n",
      " 'NOVIA:\\nDespierte la novia.\\nMUJER: (Llorando)\\nDuérmete, clavel,\\nque el caballo no quiere beber.\\n'] Genero 25 posibles y me quedo con los 5 mas probables\n",
      "---------------------------------------------\n",
      "['NOVIA:\\nDespierte la novia.\\nMUJER: (Llorando)\\nDuérmete, clavel,\\nque el caballo no quiere beber.\\nM'\n",
      " 'NOVIA:\\nDespierte la novia.\\nMUJER: (Llorando)\\nDuérmete, clavel,\\nque el caballo no quiere beber.\\nM'\n",
      " 'NOVIA:\\nDespierte la novia.\\nMUJER: (Llorando)\\nDuérmete, clavel,\\nque el caballo no quiere beber.\\nM'\n",
      " 'NOVIA:\\nDespierte la novia.\\nMUJER: (Llorando)\\nDuérmete, clavel,\\nque el caballo no quiere beber.\\nS'\n",
      " 'NOVIA:\\nDespierte la novia.\\nMUJER: (Llorando)\\nDuérmete, clavel,\\nque el caballo no quiere beber.\\nS'] Genero 25 posibles y me quedo con los 5 mas probables\n",
      "---------------------------------------------\n",
      "['NOVIA:\\nDespierte la novia.\\nMUJER: (Llorando)\\nDuérmete, clavel,\\nque el caballo no quiere beber.\\nMU'\n",
      " 'NOVIA:\\nDespierte la novia.\\nMUJER: (Llorando)\\nDuérmete, clavel,\\nque el caballo no quiere beber.\\nMU'\n",
      " 'NOVIA:\\nDespierte la novia.\\nMUJER: (Llorando)\\nDuérmete, clavel,\\nque el caballo no quiere beber.\\nMU'\n",
      " 'NOVIA:\\nDespierte la novia.\\nMUJER: (Llorando)\\nDuérmete, clavel,\\nque el caballo no quiere beber.\\nMU'\n",
      " 'NOVIA:\\nDespierte la novia.\\nMUJER: (Llorando)\\nDuérmete, clavel,\\nque el caballo no quiere beber.\\nMU'] Genero 25 posibles y me quedo con los 5 mas probables\n",
      "---------------------------------------------\n",
      "['NOVIA:\\nDespierte la novia.\\nMUJER: (Llorando)\\nDuérmete, clavel,\\nque el caballo no quiere beber.\\nMUJ'\n",
      " 'NOVIA:\\nDespierte la novia.\\nMUJER: (Llorando)\\nDuérmete, clavel,\\nque el caballo no quiere beber.\\nMUJ'\n",
      " 'NOVIA:\\nDespierte la novia.\\nMUJER: (Llorando)\\nDuérmete, clavel,\\nque el caballo no quiere beber.\\nMUJ'\n",
      " 'NOVIA:\\nDespierte la novia.\\nMUJER: (Llorando)\\nDuérmete, clavel,\\nque el caballo no quiere beber.\\nMUJ'\n",
      " 'NOVIA:\\nDespierte la novia.\\nMUJER: (Llorando)\\nDuérmete, clavel,\\nque el caballo no quiere beber.\\nMUJ'] Genero 25 posibles y me quedo con los 5 mas probables\n",
      "---------------------------------------------\n",
      "['NOVIA:\\nDespierte la novia.\\nMUJER: (Llorando)\\nDuérmete, clavel,\\nque el caballo no quiere beber.\\nMUJE'\n",
      " 'NOVIA:\\nDespierte la novia.\\nMUJER: (Llorando)\\nDuérmete, clavel,\\nque el caballo no quiere beber.\\nMUJE'\n",
      " 'NOVIA:\\nDespierte la novia.\\nMUJER: (Llorando)\\nDuérmete, clavel,\\nque el caballo no quiere beber.\\nMUJE'\n",
      " 'NOVIA:\\nDespierte la novia.\\nMUJER: (Llorando)\\nDuérmete, clavel,\\nque el caballo no quiere beber.\\nMUJE'\n",
      " 'NOVIA:\\nDespierte la novia.\\nMUJER: (Llorando)\\nDuérmete, clavel,\\nque el caballo no quiere beber.\\nMUJE'] Genero 25 posibles y me quedo con los 5 mas probables\n",
      "---------------------------------------------\n",
      "['NOVIA:\\nDespierte la novia.\\nMUJER: (Llorando)\\nDuérmete, clavel,\\nque el caballo no quiere beber.\\nMUJER'\n",
      " 'NOVIA:\\nDespierte la novia.\\nMUJER: (Llorando)\\nDuérmete, clavel,\\nque el caballo no quiere beber.\\nMUJER'\n",
      " 'NOVIA:\\nDespierte la novia.\\nMUJER: (Llorando)\\nDuérmete, clavel,\\nque el caballo no quiere beber.\\nMUJER'\n",
      " 'NOVIA:\\nDespierte la novia.\\nMUJER: (Llorando)\\nDuérmete, clavel,\\nque el caballo no quiere beber.\\nMUJER'\n",
      " 'NOVIA:\\nDespierte la novia.\\nMUJER: (Llorando)\\nDuérmete, clavel,\\nque el caballo no quiere beber.\\nMUJER'] Genero 25 posibles y me quedo con los 5 mas probables\n",
      "---------------------------------------------\n",
      "['NOVIA:\\nDespierte la novia.\\nMUJER: (Llorando)\\nDuérmete, clavel,\\nque el caballo no quiere beber.\\nMUJER:'\n",
      " 'NOVIA:\\nDespierte la novia.\\nMUJER: (Llorando)\\nDuérmete, clavel,\\nque el caballo no quiere beber.\\nMUJER:'\n",
      " 'NOVIA:\\nDespierte la novia.\\nMUJER: (Llorando)\\nDuérmete, clavel,\\nque el caballo no quiere beber.\\nMUJER:'\n",
      " 'NOVIA:\\nDespierte la novia.\\nMUJER: (Llorando)\\nDuérmete, clavel,\\nque el caballo no quiere beber.\\nMUJER:'\n",
      " 'NOVIA:\\nDespierte la novia.\\nMUJER: (Llorando)\\nDuérmete, clavel,\\nque el caballo no quiere beber.\\nMUJER:'] Genero 25 posibles y me quedo con los 5 mas probables\n",
      "---------------------------------------------\n",
      "['NOVIA:\\nDespierte la novia.\\nMUJER: (Llorando)\\nDuérmete, clavel,\\nque el caballo no quiere beber.\\nMUJER: '\n",
      " 'NOVIA:\\nDespierte la novia.\\nMUJER: (Llorando)\\nDuérmete, clavel,\\nque el caballo no quiere beber.\\nMUJER: '\n",
      " 'NOVIA:\\nDespierte la novia.\\nMUJER: (Llorando)\\nDuérmete, clavel,\\nque el caballo no quiere beber.\\nMUJER: '\n",
      " 'NOVIA:\\nDespierte la novia.\\nMUJER: (Llorando)\\nDuérmete, clavel,\\nque el caballo no quiere beber.\\nMUJER: '\n",
      " 'NOVIA:\\nDespierte la novia.\\nMUJER: (Llorando)\\nDuérmete, clavel,\\nque el caballo no quiere beber.\\nMUJER: '] Genero 25 posibles y me quedo con los 5 mas probables\n",
      "---------------------------------------------\n",
      "['NOVIA:\\nDespierte la novia.\\nMUJER: (Llorando)\\nDuérmete, clavel,\\nque el caballo no quiere beber.\\nMUJER: ('\n",
      " 'NOVIA:\\nDespierte la novia.\\nMUJER: (Llorando)\\nDuérmete, clavel,\\nque el caballo no quiere beber.\\nMUJER: ('\n",
      " 'NOVIA:\\nDespierte la novia.\\nMUJER: (Llorando)\\nDuérmete, clavel,\\nque el caballo no quiere beber.\\nMUJER: ('\n",
      " 'NOVIA:\\nDespierte la novia.\\nMUJER: (Llorando)\\nDuérmete, clavel,\\nque el caballo no quiere beber.\\nMUJER: ('\n",
      " 'NOVIA:\\nDespierte la novia.\\nMUJER: (Llorando)\\nDuérmete, clavel,\\nque el caballo no quiere beber.\\nMUJER: ('] Genero 25 posibles y me quedo con los 5 mas probables\n",
      "---------------------------------------------\n",
      "['NOVIA:\\nDespierte la novia.\\nMUJER: (Llorando)\\nDuérmete, clavel,\\nque el caballo no quiere beber.\\nMUJER: (L'\n",
      " 'NOVIA:\\nDespierte la novia.\\nMUJER: (Llorando)\\nDuérmete, clavel,\\nque el caballo no quiere beber.\\nMUJER: (L'\n",
      " 'NOVIA:\\nDespierte la novia.\\nMUJER: (Llorando)\\nDuérmete, clavel,\\nque el caballo no quiere beber.\\nMUJER: (L'\n",
      " 'NOVIA:\\nDespierte la novia.\\nMUJER: (Llorando)\\nDuérmete, clavel,\\nque el caballo no quiere beber.\\nMUJER: (L'\n",
      " 'NOVIA:\\nDespierte la novia.\\nMUJER: (Llorando)\\nDuérmete, clavel,\\nque el caballo no quiere beber.\\nMUJER: (E'] Genero 25 posibles y me quedo con los 5 mas probables\n",
      "---------------------------------------------\n",
      "['NOVIA:\\nDespierte la novia.\\nMUJER: (Llorando)\\nDuérmete, clavel,\\nque el caballo no quiere beber.\\nMUJER: (Ll'\n",
      " 'NOVIA:\\nDespierte la novia.\\nMUJER: (Llorando)\\nDuérmete, clavel,\\nque el caballo no quiere beber.\\nMUJER: (Ll'\n",
      " 'NOVIA:\\nDespierte la novia.\\nMUJER: (Llorando)\\nDuérmete, clavel,\\nque el caballo no quiere beber.\\nMUJER: (Ll'\n",
      " 'NOVIA:\\nDespierte la novia.\\nMUJER: (Llorando)\\nDuérmete, clavel,\\nque el caballo no quiere beber.\\nMUJER: (Ll'\n",
      " 'NOVIA:\\nDespierte la novia.\\nMUJER: (Llorando)\\nDuérmete, clavel,\\nque el caballo no quiere beber.\\nMUJER: (Ll'] Genero 25 posibles y me quedo con los 5 mas probables\n",
      "---------------------------------------------\n",
      "NOVIA:\n",
      "Despierte la novia.\n",
      "MUJER: (Llorando)\n",
      "Duérmete, clavel,\n",
      "que el caballo no quiere beber.\n",
      "MUJER: (Llo\n"
     ]
    }
   ],
   "source": [
    "initial_phrase = 'NOVIA:'\n",
    "phrases = [initial_phrase]\n",
    "log_probs = np.zeros(len(phrases)*beam_width)\n",
    "for i in range(100):\n",
    "    print(phrases, end=' ')\n",
    "    phrases, log_probs = predict_beams(phrases, log_probs, beam_width, temp=2)\n",
    "    print('Genero '+str(len(phrases))+' posibles y me quedo con los {} mas probables'.format(beam_width))\n",
    "    #print(phrases)\n",
    "    #print(log_probs)\n",
    "    sorted_indexes = np.argsort(log_probs)[::-1][:beam_width]\n",
    "    log_probs = log_probs[sorted_indexes]\n",
    "    phrases = phrases[sorted_indexes]\n",
    "    print('---------------------------------------------')\n",
    "print(phrases[0])"
   ]
  },
  {
   "cell_type": "code",
   "execution_count": 41,
   "metadata": {},
   "outputs": [
    {
     "name": "stdout",
     "output_type": "stream",
     "text": [
      "NOVIA: Vamos a la madre. Pero como una mujer.\n",
      "\n",
      "MADRE: (Al novio) No tengo es un hombre. Pero es un caballo\n"
     ]
    }
   ],
   "source": [
    "print(phrases[0])"
   ]
  },
  {
   "cell_type": "markdown",
   "metadata": {},
   "source": [
    "## Algunas frases con Beam Search\n",
    "Temp = 1"
   ]
  },
  {
   "cell_type": "raw",
   "metadata": {},
   "source": [
    "NOVIA: (Seria) Ahora de casaria. (Se siente de la caballo de la caballo de la caballo de la casa.)\n",
    "\n",
    "NOVIA:"
   ]
  },
  {
   "cell_type": "markdown",
   "metadata": {},
   "source": [
    "Temp = 2\n",
    "\n",
    "NOVIA: Vamos a la madre. Pero como una mujer.\n",
    "\n",
    "MADRE: (Al novio) No tengo es un hombre. Pero es un caballo"
   ]
  },
  {
   "cell_type": "markdown",
   "metadata": {},
   "source": [
    "# Verificación Beam search"
   ]
  },
  {
   "cell_type": "code",
   "execution_count": 1101,
   "metadata": {},
   "outputs": [
    {
     "name": "stdout",
     "output_type": "stream",
     "text": [
      " (Ser\n",
      "0.525927\n",
      "0.296634\n",
      "0.278172\n",
      "0.86822\n",
      "0.606687\n"
     ]
    },
    {
     "data": {
      "text/plain": [
       "-3.7784151881933212"
      ]
     },
     "execution_count": 1101,
     "metadata": {},
     "output_type": "execute_result"
    }
   ],
   "source": [
    "selected_pred = 0 # Cual de las predicciones verifico. Deberia quedarme con la de mayor prob\n",
    "predicted_chars = phrases[selected_pred][len(initial_phrase):]\n",
    "print(predicted_chars)\n",
    "log_sum = 0\n",
    "predicted_phrase_parc = initial_phrase\n",
    "for c in predicted_chars:\n",
    "    pred_prob = predict_phrase(model, predicted_phrase_parc, verbose=False)[chars_to_indices[c]]\n",
    "    print(pred_prob)\n",
    "    predicted_phrase_parc = predicted_phrase_parc + c\n",
    "    log_sum = log_sum + np.log(pred_prob)\n",
    "log_sum"
   ]
  }
 ],
 "metadata": {
  "kernelspec": {
   "display_name": "Python 3",
   "language": "python",
   "name": "python3"
  },
  "language_info": {
   "codemirror_mode": {
    "name": "ipython",
    "version": 3
   },
   "file_extension": ".py",
   "mimetype": "text/x-python",
   "name": "python",
   "nbconvert_exporter": "python",
   "pygments_lexer": "ipython3",
   "version": "3.6.6"
  }
 },
 "nbformat": 4,
 "nbformat_minor": 2
}
