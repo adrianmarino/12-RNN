{
 "cells": [
  {
   "cell_type": "code",
   "execution_count": 1,
   "metadata": {},
   "outputs": [
    {
     "name": "stderr",
     "output_type": "stream",
     "text": [
      "Using TensorFlow backend.\n"
     ]
    }
   ],
   "source": [
    "from keras.layers import LSTM, Dense, Masking\n",
    "from keras.models import Sequential\n",
    "from keras.callbacks import ModelCheckpoint "
   ]
  },
  {
   "cell_type": "code",
   "execution_count": 2,
   "metadata": {},
   "outputs": [],
   "source": [
    "all_chars = ['\\n', ' ', '!', '$', '(', ')', ',', '.', '1', '2', '3', '9', ':', ';', '?', 'A', 'B', 'C', 'D', 'E', 'F', 'G', 'H', 'I', 'J', 'L', 'M', 'N', 'O', 'P', 'Q', 'R', 'S', 'T', 'U', 'V', 'Y', 'Z', 'a', 'b', 'c', 'd', 'e', 'f', 'g', 'h', 'i', 'j', 'l', 'm', 'n', 'o', 'p', 'q', 'r', 's', 't', 'u', 'v', 'x', 'y', 'z', '¡', '¿', 'É', 'Ñ', 'á', 'é', 'í', 'ñ', 'ó', 'ú']"
   ]
  },
  {
   "cell_type": "code",
   "execution_count": 3,
   "metadata": {},
   "outputs": [
    {
     "name": "stdout",
     "output_type": "stream",
     "text": [
      "{'\\n': 0, ' ': 1, '!': 2, '$': 3, '(': 4, ')': 5, ',': 6, '.': 7, '1': 8, '2': 9, '3': 10, '9': 11, ':': 12, ';': 13, '?': 14, 'A': 15, 'B': 16, 'C': 17, 'D': 18, 'E': 19, 'F': 20, 'G': 21, 'H': 22, 'I': 23, 'J': 24, 'L': 25, 'M': 26, 'N': 27, 'O': 28, 'P': 29, 'Q': 30, 'R': 31, 'S': 32, 'T': 33, 'U': 34, 'V': 35, 'Y': 36, 'Z': 37, 'a': 38, 'b': 39, 'c': 40, 'd': 41, 'e': 42, 'f': 43, 'g': 44, 'h': 45, 'i': 46, 'j': 47, 'l': 48, 'm': 49, 'n': 50, 'o': 51, 'p': 52, 'q': 53, 'r': 54, 's': 55, 't': 56, 'u': 57, 'v': 58, 'x': 59, 'y': 60, 'z': 61, '¡': 62, '¿': 63, 'É': 64, 'Ñ': 65, 'á': 66, 'é': 67, 'í': 68, 'ñ': 69, 'ó': 70, 'ú': 71}\n"
     ]
    }
   ],
   "source": [
    "chars_to_indices = dict((c, i) for i, c in enumerate(all_chars))\n",
    "indices_to_chars = dict((i, c) for i, c in enumerate(all_chars))\n",
    "print(chars_to_indices)"
   ]
  },
  {
   "cell_type": "code",
   "execution_count": 4,
   "metadata": {},
   "outputs": [
    {
     "data": {
      "text/plain": [
       "72"
      ]
     },
     "execution_count": 4,
     "metadata": {},
     "output_type": "execute_result"
    }
   ],
   "source": [
    "len(all_chars)"
   ]
  },
  {
   "cell_type": "code",
   "execution_count": 5,
   "metadata": {},
   "outputs": [
    {
     "name": "stdout",
     "output_type": "stream",
     "text": [
      "_________________________________________________________________\n",
      "Layer (type)                 Output Shape              Param #   \n",
      "=================================================================\n",
      "lstm_1 (LSTM)                (1, 1, 200)               218400    \n",
      "_________________________________________________________________\n",
      "lstm_2 (LSTM)                (1, 1, 200)               320800    \n",
      "_________________________________________________________________\n",
      "dense_1 (Dense)              (1, 1, 72)                14472     \n",
      "=================================================================\n",
      "Total params: 553,672\n",
      "Trainable params: 553,672\n",
      "Non-trainable params: 0\n",
      "_________________________________________________________________\n"
     ]
    }
   ],
   "source": [
    "dropout_p = 0.5\n",
    "model = Sequential()\n",
    "model.add(LSTM(200, batch_input_shape=(1, 1, len(all_chars)),\n",
    "               return_sequences=True, name='lstm_1',\n",
    "               dropout=dropout_p, \n",
    "               recurrent_dropout=dropout_p, stateful=True))\n",
    "model.add(LSTM(200, \n",
    "               dropout=dropout_p, \n",
    "               recurrent_dropout=dropout_p, name='lstm_2', \n",
    "               return_sequences=True, stateful=True))\n",
    "model.add(Dense(len(all_chars), activation='softmax'))\n",
    "model.compile(loss='categorical_crossentropy', optimizer='adam')\n",
    "model.summary()"
   ]
  },
  {
   "cell_type": "code",
   "execution_count": 10,
   "metadata": {},
   "outputs": [],
   "source": [
    "model.load_weights('many_2_many_3.hdf5')"
   ]
  },
  {
   "cell_type": "code",
   "execution_count": 11,
   "metadata": {},
   "outputs": [],
   "source": [
    "import numpy as np\n",
    "def one_hot_phrase(phrase):\n",
    "    one_hot = np.zeros([len(phrase), 1, len(all_chars)])\n",
    "    for i, ch in enumerate(phrase):\n",
    "        one_hot[i, 0, chars_to_indices[ch]] = 1\n",
    "    return one_hot"
   ]
  },
  {
   "cell_type": "markdown",
   "metadata": {},
   "source": [
    "# Ir ingresando de a un caracter"
   ]
  },
  {
   "cell_type": "code",
   "execution_count": 12,
   "metadata": {},
   "outputs": [
    {
     "name": "stdout",
     "output_type": "stream",
     "text": [
      "N N O 0.9788068\n",
      "O NO V 0.99869734\n",
      "V NOV I 0.99446684\n",
      "I NOVI O 0.6734117\n",
      "O NOVIO : 0.9983255\n",
      ": NOVIO:   0.9697636\n",
      "  NOVIO:  ¿ 0.20366669\n"
     ]
    }
   ],
   "source": [
    "char_data = 'NOVIO: '\n",
    "model.reset_states()\n",
    "for i, ch in enumerate(char_data):\n",
    "    input_data = one_hot_phrase(ch)\n",
    "    prediction = model.predict(input_data)\n",
    "    char_index = np.argmax(prediction)\n",
    "    char_predicted = indices_to_chars[char_index]\n",
    "    prob = prediction[0, 0, char_index]\n",
    "    print(ch, char_data[0:i+1], char_predicted, prob)"
   ]
  },
  {
   "cell_type": "markdown",
   "metadata": {},
   "source": [
    "# Realimentando resultado"
   ]
  },
  {
   "cell_type": "code",
   "execution_count": 15,
   "metadata": {},
   "outputs": [
    {
     "name": "stdout",
     "output_type": "stream",
     "text": [
      "LEONARDO: Es la cunta. \n",
      "MUJER: (La deja) Hay es calloro! (Se le venta.) ¿Qué mistas alí? (Se estando.)\n",
      "\n",
      "PADRE: ¡Ay es el campre!\n",
      "\n",
      "NOVIO: (Alerga) ¡Ay!\n",
      "\n",
      "MOZO 1: ¿A la las?\n",
      "\n",
      "Perlo te vamos a te pedre\n",
      "de delgra el amorarame a la mañodad,\n",
      "y el fuerte corra,\n",
      "como si me carazlo me espera\n",
      "de en el azmolo de la cabeza,\n",
      "delos de carallos de las prescas del arroyas y las carados.\n",
      "NOVIA:\n",
      "¡Ay que la carana del ana,\n",
      "como siento de la lovia.\n",
      "MUJER: (Llorando)\n",
      "Mi niño sol muerta\n",
      "del agua de luega\n",
      "la tuerta la monda a la criada.\n",
      "\n",
      "NOVIA: (Al mirado) No lo saber a la ienta.\n",
      "MADRE:\n",
      "Cula diente la lova.\n",
      "MUJER: (Llorando)\n",
      "LEsada, llera, en la como una mana.\n",
      "MUCHACHA 1:\n",
      "No de carro\n",
      "los mundos suegules deligar en moliendo.\n",
      "\n",
      "NOVIO: ¿Qué más da?\n",
      "\n",
      "MADRE: (Al rico) Diere a la cuerpa en la mando en un espero de los horas del como do los tros llega.\n",
      "\n",
      "NOVIO: ¿Es que te unaces?\n",
      "\n",
      "MADRE: ¡Vamos! ¡Que sigun ton la cabeza!\n",
      "\n",
      "NOVIA: (Seria) Apora la muno sienta.\n",
      "\n",
      "MADRE: Tu puerto de mucho mu mido espera de matar entra malido. Al si mentro, no esto muerto den estidos. Ahora los manos de la calla.\n",
      "\n",
      "NOVIO: (Entrando) ¡Y estos a las manas! ¡alada!\n",
      "\n",
      "CRIADA: ¡Al laria!\n",
      "\n",
      "NOVIO: ¿Van en esas coseca?\n",
      "\n",
      "MADRE: No. No vemos a acabar.\n",
      "\n",
      "MADRE: Cualdo yo se luego que esterran. ¿Qué derías el azahar?\n",
      "MUCHACHA 2:\n",
      "¡Ay sales de casambres\n",
      "y alla es la crenta,\n",
      "a mi tuda tras alos de vames!\n",
      "MADRE:\n",
      "¡Valo, esta que está!\n",
      "MUCHACHA 1:\n",
      "¡Deja, coran llega!\n",
      "MUCHACHA 1:\n",
      "¡Ay masara! ¿qué no tabe las caride?\n",
      "MADRE: (Al rica) ¡Esta! ¡Nada! (Selen al criz.) ¿Vamo a mí estás delorado?\n",
      "\n",
      "NOVIO: Sí. Y quiero que la cuerta. ¿Qué me icho?\n",
      "\n",
      "NOVIO: Estas conosas. \n",
      "MUCHACHA 1: Erosa dose llegor ll parto de la arracila.\n",
      "\n",
      "LEONARDO: (Entrandos) ¡Ya mi hamara! (Entrando la criada.) \n",
      "MADRE: No le puido.\n",
      "\n",
      "PADRE: ¿Sora?\n",
      "\n",
      "MADRE: ¿Qué dijo?\n",
      "\n",
      "NOVIO: No. Yo lo tiene.\n",
      "\n",
      "MADRE: Tu hujo.\n",
      "\n",
      "PADRE: Descora entres entror del armoso. ¡Que estás con el camino llera!\n",
      "MUCHACHA 1:\n",
      "¡Ay la calla noca cona tambre con al armoso?\n",
      "\n",
      "NOVIO: (Intrartecila) ¡Achara!\n",
      "\n",
      "MADRE: ¿A qué? ¿Qué es sido?\n",
      "\n",
      "NOVIA: No. ¡Mirmo!\n",
      "\n",
      "NOVIO A la que no lo segas que es allar y la tucha, perdada todo lo cala allí.\n",
      "\n",
      "CRIADA:\n",
      "Y como un todo la vecina.. Llos vanas de casa.\n",
      "LEÑADOR 1:\n",
      "¡Ay luerte cula!\n",
      "MADRE: (A la madre la ascaballara) ¡Qué tres al camino? ¿Está que está como una compreñosía que tiene conargo la manda, y la salen de la salen aste las dos hombres de los oscos.\n",
      "\n",
      "NOVIO: ¿Adó la cona?\n",
      "\n",
      "MADRE: ¡Ay! (Era a la senga. (Se sienta.) ¿Tras a llerte vientes dentro si mira que uel cabillo de la call ala muchacha con los camas de la callara dela de mi casa!\n",
      "\n",
      "NOVIO: (Entrando) ¡Y la novia de aquí!\n",
      "\n",
      "NOVIO: (Entrando) ¡Y estan tran! (Se la crian.)\n",
      "\n",
      "NOVIA: (Al novio) ¿Y está con el novio?\n",
      "\n",
      "NOVIO: Sí. Esto que no quiero y yo si la como el novia. Estan tiendo de callar.\n",
      "\n",
      "MADRE: Cuando se la cuerta.\n",
      "\n",
      "NOVIA: (Al grido) Noda, piente a baare.\n",
      "\n",
      "MADRE: Tu padre símbre tu madre. Pero no muchas como esta para misto y la cabeza de la mada y la novia.\n",
      "\n",
      "NOVIO: ¿Está conter?\n",
      "\n",
      "NOVIO: Sí. (Lo mujer y "
     ]
    }
   ],
   "source": [
    "char_data = 'L'\n",
    "model.reset_states()\n",
    "print(char_data, end='')\n",
    "for i in range(3000):\n",
    "    input_data = one_hot_phrase(char_data)\n",
    "    prediction = model.predict(input_data)\n",
    "    char_index = np.argmax(prediction)\n",
    "    char_predicted = indices_to_chars[char_index]\n",
    "    prob = prediction[0, 0, char_index]\n",
    "    # print(ch, char_data[0:i+1], char_predicted, prob)\n",
    "    print(char_predicted, end='')\n",
    "    if char_predicted=='$':\n",
    "        break\n",
    "    char_data = char_predicted"
   ]
  },
  {
   "cell_type": "code",
   "execution_count": null,
   "metadata": {},
   "outputs": [],
   "source": []
  }
 ],
 "metadata": {
  "kernelspec": {
   "display_name": "Python 3",
   "language": "python",
   "name": "python3"
  },
  "language_info": {
   "codemirror_mode": {
    "name": "ipython",
    "version": 3
   },
   "file_extension": ".py",
   "mimetype": "text/x-python",
   "name": "python",
   "nbconvert_exporter": "python",
   "pygments_lexer": "ipython3",
   "version": "3.6.6"
  }
 },
 "nbformat": 4,
 "nbformat_minor": 2
}
