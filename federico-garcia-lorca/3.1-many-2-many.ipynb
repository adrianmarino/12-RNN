{
 "cells": [
  {
   "cell_type": "code",
   "execution_count": 1,
   "metadata": {},
   "outputs": [],
   "source": [
    "%load_ext autoreload\n",
    "%autoreload 2"
   ]
  },
  {
   "cell_type": "code",
   "execution_count": 2,
   "metadata": {},
   "outputs": [],
   "source": [
    "import sys \n",
    "import numpy as np\n",
    "sys.path.append(\"../\")"
   ]
  },
  {
   "cell_type": "code",
   "execution_count": 3,
   "metadata": {},
   "outputs": [
    {
     "name": "stderr",
     "output_type": "stream",
     "text": [
      "Using TensorFlow backend.\n"
     ]
    }
   ],
   "source": [
    "from RNN_utils import window_transform_text, encode_io_pairs, get_deep_rnn\n",
    "from fnn_helper import PlotLosses"
   ]
  },
  {
   "cell_type": "code",
   "execution_count": 4,
   "metadata": {},
   "outputs": [
    {
     "name": "stdout",
     "output_type": "stream",
     "text": [
      "Cantidad de caracteres: 67561\n",
      "Cantidad de caracteres unicos: 72\n",
      "['\\n', ' ', '!', '$', '(', ')', ',', '.', '1', '2', '3', '9', ':', ';', '?', 'A', 'B', 'C', 'D', 'E', 'F', 'G', 'H', 'I', 'J', 'L', 'M', 'N', 'O', 'P', 'Q', 'R', 'S', 'T', 'U', 'V', 'Y', 'Z', 'a', 'b', 'c', 'd', 'e', 'f', 'g', 'h', 'i', 'j', 'l', 'm', 'n', 'o', 'p', 'q', 'r', 's', 't', 'u', 'v', 'x', 'y', 'z', '¡', '¿', 'É', 'Ñ', 'á', 'é', 'í', 'ñ', 'ó', 'ú']\n",
      "------------------------------------------------------\n",
      "BODAS DE SANGRE(1933)\n",
      "\n",
      "Poema trágico en tres actos y siete cuadros\n",
      "\n",
      "Personajes\n",
      " \n",
      "Madre\n",
      "Criada\n",
      "Leonardo\n",
      "Mozos\n",
      "Novia\n",
      "Vecina\n",
      "Novio\n",
      "Leñadores\n",
      "Suegra\n",
      "Muchachas\n",
      "Padre de la novia\n",
      "Mozos\n",
      "Mujer de Leonardo\n",
      "Luna\n",
      "Muerte (como mendiga)\n",
      "\n",
      "Acto primero\n",
      "\n",
      "CUADRO PRIMERO\n",
      "\n",
      "Habitación pintada de amarillo.\n",
      "\n",
      "NOVIO: (Entrando) Madre.\n",
      "\n",
      "MADRE: ¿Que?\n",
      "\n",
      "NOVIO:Me voy.\n",
      "\n",
      "MADRE: ¿Adónde?\n",
      "\n",
      "NOVIO:A la viña. (Va a salir)\n",
      "\n",
      "MADRE: Espera.\n",
      "\n",
      "NOVIO:¿Quieres algo?\n",
      "\n",
      "MADRE: Hijo, el almuerzo.\n",
      "\n",
      "NOVIO: Déjalo. Comeré uvas. Dame la navaja.\n",
      "\n",
      "MADRE: ¿Para qué?\n",
      "\n",
      "NOVIO: (Riendo) Para cortarlas.\n",
      "\n",
      "MADRE: (Entre dientes y buscándola) La navaja, la navaja... Malditas sean todas y el bribón que las inventó.\n",
      "\n",
      "NOVIO: Vamos a otro asunto.\n",
      "\n",
      "MADRE: Y las escopetas, y las pistolas, y el cuchillo más pequeño, y hasta las azadas y los bieldos de la era.\n",
      "\n",
      "NOVIO: Bueno.\n",
      "\n",
      "MADRE: Todo lo que puede cortar el cuerpo de un hombre. Un hombre hermoso, con su flor en la boca, que sale a las viñas o va a sus olivos propios, porque son de él, heredados...\n",
      "\n",
      "NO\n"
     ]
    }
   ],
   "source": [
    "input_text = open('bodas_de_sangre.txt').read()\n",
    "number_of_chars = len(input_text)\n",
    "# Sumo el $ que es el end of sentence\n",
    "all_chars = sorted(set(input_text + '$'))\n",
    "print('Cantidad de caracteres: ' + str(number_of_chars))\n",
    "print('Cantidad de caracteres unicos: ' + str(len(all_chars)))\n",
    "print(all_chars)\n",
    "print('------------------------------------------------------')\n",
    "print(input_text[:1000])"
   ]
  },
  {
   "cell_type": "code",
   "execution_count": 5,
   "metadata": {},
   "outputs": [],
   "source": [
    "input_as_array = np.array(input_text.split('\\n\\n'))"
   ]
  },
  {
   "cell_type": "code",
   "execution_count": 6,
   "metadata": {},
   "outputs": [],
   "source": [
    "input_data = []\n",
    "output_data = []\n",
    "for i, to_join in enumerate(input_as_array[::10]):\n",
    "    joined = '\\n\\n'.join(input_as_array[i*10: i*10+10])\n",
    "    input_data.append(joined)\n",
    "    output_data.append(joined[1:] + '$')"
   ]
  },
  {
   "cell_type": "code",
   "execution_count": 7,
   "metadata": {},
   "outputs": [
    {
     "data": {
      "text/plain": [
       "'NOVIO:A la viña. (Va a salir)\\n\\nMADRE: Espera.\\n\\nNOVIO:¿Quieres algo?\\n\\nMADRE: Hijo, el almuerzo.\\n\\nNOVIO: Déjalo. Comeré uvas. Dame la navaja.\\n\\nMADRE: ¿Para qué?\\n\\nNOVIO: (Riendo) Para cortarlas.\\n\\nMADRE: (Entre dientes y buscándola) La navaja, la navaja... Malditas sean todas y el bribón que las inventó.\\n\\nNOVIO: Vamos a otro asunto.\\n\\nMADRE: Y las escopetas, y las pistolas, y el cuchillo más pequeño, y hasta las azadas y los bieldos de la era.'"
      ]
     },
     "execution_count": 7,
     "metadata": {},
     "output_type": "execute_result"
    }
   ],
   "source": [
    "input_data[1]"
   ]
  },
  {
   "cell_type": "code",
   "execution_count": 8,
   "metadata": {},
   "outputs": [
    {
     "data": {
      "text/plain": [
       "'OVIO:A la viña. (Va a salir)\\n\\nMADRE: Espera.\\n\\nNOVIO:¿Quieres algo?\\n\\nMADRE: Hijo, el almuerzo.\\n\\nNOVIO: Déjalo. Comeré uvas. Dame la navaja.\\n\\nMADRE: ¿Para qué?\\n\\nNOVIO: (Riendo) Para cortarlas.\\n\\nMADRE: (Entre dientes y buscándola) La navaja, la navaja... Malditas sean todas y el bribón que las inventó.\\n\\nNOVIO: Vamos a otro asunto.\\n\\nMADRE: Y las escopetas, y las pistolas, y el cuchillo más pequeño, y hasta las azadas y los bieldos de la era.$'"
      ]
     },
     "execution_count": 8,
     "metadata": {},
     "output_type": "execute_result"
    }
   ],
   "source": [
    "output_data[1]"
   ]
  },
  {
   "cell_type": "code",
   "execution_count": 9,
   "metadata": {},
   "outputs": [],
   "source": [
    "lens = []\n",
    "for in_dat in input_data:\n",
    "    lens.append(len(in_dat))"
   ]
  },
  {
   "cell_type": "code",
   "execution_count": 10,
   "metadata": {},
   "outputs": [
    {
     "name": "stdout",
     "output_type": "stream",
     "text": [
      "3728\n"
     ]
    }
   ],
   "source": [
    "max_len = np.max(lens)\n",
    "print(max_len)"
   ]
  },
  {
   "cell_type": "code",
   "execution_count": 11,
   "metadata": {},
   "outputs": [
    {
     "name": "stdout",
     "output_type": "stream",
     "text": [
      "{'\\n': 0, ' ': 1, '!': 2, '$': 3, '(': 4, ')': 5, ',': 6, '.': 7, '1': 8, '2': 9, '3': 10, '9': 11, ':': 12, ';': 13, '?': 14, 'A': 15, 'B': 16, 'C': 17, 'D': 18, 'E': 19, 'F': 20, 'G': 21, 'H': 22, 'I': 23, 'J': 24, 'L': 25, 'M': 26, 'N': 27, 'O': 28, 'P': 29, 'Q': 30, 'R': 31, 'S': 32, 'T': 33, 'U': 34, 'V': 35, 'Y': 36, 'Z': 37, 'a': 38, 'b': 39, 'c': 40, 'd': 41, 'e': 42, 'f': 43, 'g': 44, 'h': 45, 'i': 46, 'j': 47, 'l': 48, 'm': 49, 'n': 50, 'o': 51, 'p': 52, 'q': 53, 'r': 54, 's': 55, 't': 56, 'u': 57, 'v': 58, 'x': 59, 'y': 60, 'z': 61, '¡': 62, '¿': 63, 'É': 64, 'Ñ': 65, 'á': 66, 'é': 67, 'í': 68, 'ñ': 69, 'ó': 70, 'ú': 71}\n"
     ]
    }
   ],
   "source": [
    "chars_to_indices = dict((c, i) for i, c in enumerate(all_chars))\n",
    "indices_to_chars = dict((i, c) for i, c in enumerate(all_chars))\n",
    "print(chars_to_indices)"
   ]
  },
  {
   "cell_type": "code",
   "execution_count": 12,
   "metadata": {},
   "outputs": [],
   "source": [
    "def one_hot_phrase(phrase):\n",
    "    one_hot = np.zeros([max_len, len(all_chars)])\n",
    "    for i, ch in enumerate(phrase):\n",
    "        one_hot[i, chars_to_indices[ch]] = 1\n",
    "    return one_hot"
   ]
  },
  {
   "cell_type": "code",
   "execution_count": 13,
   "metadata": {},
   "outputs": [],
   "source": [
    "all_data_input = np.zeros([len(input_data), max_len, len(all_chars)])\n",
    "all_data_output = np.zeros([len(input_data), max_len, len(all_chars)])"
   ]
  },
  {
   "cell_type": "code",
   "execution_count": 14,
   "metadata": {},
   "outputs": [],
   "source": [
    "for i, phrase in enumerate(input_data):\n",
    "    all_data_input[i] = one_hot_phrase(phrase)\n",
    "    all_data_output[i] = one_hot_phrase(output_data[i])"
   ]
  },
  {
   "cell_type": "code",
   "execution_count": 15,
   "metadata": {},
   "outputs": [
    {
     "data": {
      "text/plain": [
       "(82, 3728, 72)"
      ]
     },
     "execution_count": 15,
     "metadata": {},
     "output_type": "execute_result"
    }
   ],
   "source": [
    "all_data_input.shape"
   ]
  },
  {
   "cell_type": "code",
   "execution_count": 19,
   "metadata": {},
   "outputs": [],
   "source": [
    "from keras.layers import LSTM, Dense, Masking\n",
    "from keras.models import Sequential\n",
    "from keras.callbacks import ModelCheckpoint \n",
    "from keras.optimizers import Adam, rmsprop"
   ]
  },
  {
   "cell_type": "code",
   "execution_count": 20,
   "metadata": {},
   "outputs": [],
   "source": [
    "opt = rmsprop(lr=0.0001)"
   ]
  },
  {
   "cell_type": "code",
   "execution_count": 21,
   "metadata": {},
   "outputs": [
    {
     "name": "stdout",
     "output_type": "stream",
     "text": [
      "_________________________________________________________________\n",
      "Layer (type)                 Output Shape              Param #   \n",
      "=================================================================\n",
      "masking_2 (Masking)          (None, 3728, 72)          0         \n",
      "_________________________________________________________________\n",
      "lstm_1 (LSTM)                (None, 3728, 200)         218400    \n",
      "_________________________________________________________________\n",
      "lstm_2 (LSTM)                (None, 3728, 200)         320800    \n",
      "_________________________________________________________________\n",
      "dense_2 (Dense)              (None, 3728, 72)          14472     \n",
      "=================================================================\n",
      "Total params: 553,672\n",
      "Trainable params: 553,672\n",
      "Non-trainable params: 0\n",
      "_________________________________________________________________\n"
     ]
    }
   ],
   "source": [
    "dropout_p = 0.\n",
    "model = Sequential()\n",
    "model.add(Masking(mask_value=0., input_shape=(max_len, len(all_chars))))\n",
    "model.add(LSTM(200,  \n",
    "               return_sequences=True, name='lstm_1',\n",
    "               dropout=dropout_p, \n",
    "               recurrent_dropout=dropout_p))\n",
    "model.add(LSTM(200, \n",
    "               dropout=dropout_p, \n",
    "               recurrent_dropout=dropout_p, name='lstm_2', \n",
    "               return_sequences=True))\n",
    "model.add(Dense(len(all_chars), activation='softmax'))\n",
    "model.compile(loss='categorical_crossentropy', optimizer=opt)\n",
    "model.summary()"
   ]
  },
  {
   "cell_type": "code",
   "execution_count": 22,
   "metadata": {},
   "outputs": [],
   "source": [
    "model.load_weights('many_2_many_3.hdf5')"
   ]
  },
  {
   "cell_type": "code",
   "execution_count": null,
   "metadata": {},
   "outputs": [
    {
     "data": {
      "image/png": "[encoded data removed]",
      "text/plain": [
       "<Figure size 1440x360 with 2 Axes>"
      ]
     },
     "metadata": {},
     "output_type": "display_data"
    },
    {
     "name": "stdout",
     "output_type": "stream",
     "text": [
      "Epoch 14/500\n",
      "80/82 [============================>.] - ETA: 0s - loss: 0.5838"
     ]
    }
   ],
   "source": [
    "batch_size = 40\n",
    "plot_losses = PlotLosses(plot_interval=1, evaluate_interval=None)\n",
    "checkpointer = ModelCheckpoint(filepath='many_2_many_garcia_lorca.hdf5', verbose=1, save_best_only=True)\n",
    "model.fit(all_data_input, all_data_output, batch_size=batch_size, epochs=500, verbose = 1,\n",
    "                    callbacks=[checkpointer, plot_losses])"
   ]
  },
  {
   "cell_type": "code",
   "execution_count": 24,
   "metadata": {},
   "outputs": [],
   "source": [
    "model.save_weights('many_2_many_4.hdf5')"
   ]
  },
  {
   "cell_type": "code",
   "execution_count": null,
   "metadata": {},
   "outputs": [],
   "source": []
  }
 ],
 "metadata": {
  "kernelspec": {
   "display_name": "Python 3",
   "language": "python",
   "name": "python3"
  },
  "language_info": {
   "codemirror_mode": {
    "name": "ipython",
    "version": 3
   },
   "file_extension": ".py",
   "mimetype": "text/x-python",
   "name": "python",
   "nbconvert_exporter": "python",
   "pygments_lexer": "ipython3",
   "version": "3.6.6"
  }
 },
 "nbformat": 4,
 "nbformat_minor": 2
}
