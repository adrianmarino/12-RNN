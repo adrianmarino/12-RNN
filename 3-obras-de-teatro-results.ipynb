{
 "cells": [
  {
   "cell_type": "code",
   "execution_count": 1,
   "metadata": {},
   "outputs": [],
   "source": [
    "%load_ext autoreload\n",
    "%autoreload 2"
   ]
  },
  {
   "cell_type": "code",
   "execution_count": 2,
   "metadata": {},
   "outputs": [],
   "source": [
    "#import sys \n",
    "#sys.path.append(\"/Users/julianganzabal/facultad/lab-ml/mllab-tools\")"
   ]
  },
  {
   "cell_type": "code",
   "execution_count": 3,
   "metadata": {},
   "outputs": [
    {
     "name": "stderr",
     "output_type": "stream",
     "text": [
      "Using TensorFlow backend.\n"
     ]
    }
   ],
   "source": [
    "from RNN_utils import get_deep_rnn, chars_to_one_hot, sample\n",
    "import numpy as np"
   ]
  },
  {
   "cell_type": "code",
   "execution_count": 4,
   "metadata": {},
   "outputs": [
    {
     "name": "stdout",
     "output_type": "stream",
     "text": [
      "input shape =  (100, 69)\n",
      "_________________________________________________________________\n",
      "Layer (type)                 Output Shape              Param #   \n",
      "=================================================================\n",
      "lstm_1 (LSTM)                (None, 100, 200)          216000    \n",
      "_________________________________________________________________\n",
      "lstm_2 (LSTM)                (None, 200)               320800    \n",
      "_________________________________________________________________\n",
      "dense_1 (Dense)              (None, 69)                13869     \n",
      "=================================================================\n",
      "Total params: 550,669\n",
      "Trainable params: 550,669\n",
      "Non-trainable params: 0\n",
      "_________________________________________________________________\n"
     ]
    }
   ],
   "source": [
    "model=get_deep_rnn((100, 69), dense_units=69, stateful=False)"
   ]
  },
  {
   "cell_type": "markdown",
   "metadata": {},
   "source": [
    "## Cuanto vale T y cuanto vale D?"
   ]
  },
  {
   "cell_type": "code",
   "execution_count": 5,
   "metadata": {},
   "outputs": [
    {
     "data": {
      "text/plain": [
       "(None, 100, 69)"
      ]
     },
     "execution_count": 5,
     "metadata": {},
     "output_type": "execute_result"
    }
   ],
   "source": [
    "layer1 = model.get_layer('lstm_1')\n",
    "layer1.get_config()['batch_input_shape']"
   ]
  },
  {
   "cell_type": "code",
   "execution_count": 6,
   "metadata": {},
   "outputs": [],
   "source": [
    "chars = np.load('training_chars.npy')\n",
    "chars_to_indices = dict((c, i) for i, c in enumerate(chars))\n",
    "indices_to_chars = dict((i, c) for i, c in enumerate(chars))"
   ]
  },
  {
   "cell_type": "code",
   "execution_count": 7,
   "metadata": {},
   "outputs": [],
   "source": [
    "window = 100"
   ]
  },
  {
   "cell_type": "code",
   "execution_count": 8,
   "metadata": {},
   "outputs": [],
   "source": [
    "model.load_weights('bodes_sangre_LSTM_deep_dropout_04.hdf5')"
   ]
  },
  {
   "cell_type": "code",
   "execution_count": 9,
   "metadata": {},
   "outputs": [],
   "source": [
    "def predict_phrase(model, initial_seed, window = 100, verbose=True, sample_type = 'greedy'):\n",
    "    # El numeral no esta en el diccionario por lo que lo pasa a todos ceros en el one-hot\n",
    "    initial_seed=initial_seed[-window:]\n",
    "    initial_text = '#'*(window-len(initial_seed))+initial_seed # Padding\n",
    "    X_test = chars_to_one_hot(initial_seed, chars, chars_to_indices, 100)\n",
    "    probs = model.predict(X_test)\n",
    "    probs_sorted_indexes = np.argsort(probs)[0][::-1]\n",
    "    if verbose:\n",
    "        print([(indices_to_chars[i], probs[0][i]) for i in probs_sorted_indexes[:5]])\n",
    "    return probs[0]"
   ]
  },
  {
   "cell_type": "code",
   "execution_count": 10,
   "metadata": {},
   "outputs": [],
   "source": [
    "def sample_probs(probs, sample_type='greedy', temp=1):\n",
    "    if (sample_type=='greedy'):\n",
    "        return np.argmax(probs)\n",
    "    if (sample_type=='simple'):\n",
    "        return sample(probs, temp, verbose=False, return_dist=True)"
   ]
  },
  {
   "cell_type": "markdown",
   "metadata": {},
   "source": [
    "## Distribución de probabilidades para:\n",
    "#### \"Estaba el novi\""
   ]
  },
  {
   "cell_type": "code",
   "execution_count": 11,
   "metadata": {},
   "outputs": [
    {
     "name": "stdout",
     "output_type": "stream",
     "text": [
      "[('o', 0.89250946), ('a', 0.08288993), ('e', 0.010628676), ('l', 0.004313688), ('i', 0.0030479503)]\n"
     ]
    }
   ],
   "source": [
    "probs = predict_phrase(model, \"Estaba el novi\")"
   ]
  },
  {
   "cell_type": "code",
   "execution_count": 12,
   "metadata": {},
   "outputs": [
    {
     "data": {
      "text/plain": [
       "'o'"
      ]
     },
     "execution_count": 12,
     "metadata": {},
     "output_type": "execute_result"
    }
   ],
   "source": [
    "indices_to_chars[sample_probs(probs, sample_type='greedy')]"
   ]
  },
  {
   "cell_type": "code",
   "execution_count": 13,
   "metadata": {},
   "outputs": [
    {
     "name": "stdout",
     "output_type": "stream",
     "text": [
      "[0.89250946 0.08288993 0.01062868]\n",
      "['o', 'o', 'o', 'a', 'o', 'o', 'o', 'o', 'o', 'o', 'o', 'o', 'o', 'o', 'o', 'a', 'o', 'o', 'a', 'o']\n"
     ]
    }
   ],
   "source": [
    "temp = 1\n",
    "index, dist = sample(probs, temp, verbose=False, return_dist=True)\n",
    "sorted_idxs = np.argsort(dist)[::-1]\n",
    "print(dist[sorted_idxs][:3])\n",
    "samples = []\n",
    "for i in range(20):\n",
    "    index, dist = sample_probs(probs, sample_type='simple', temp=temp)\n",
    "    samples.append(indices_to_chars[index])\n",
    "print(samples)"
   ]
  },
  {
   "cell_type": "markdown",
   "metadata": {},
   "source": [
    "## Distribución de probabilidades para:\n",
    "#### \"Estaba la novi\""
   ]
  },
  {
   "cell_type": "code",
   "execution_count": 14,
   "metadata": {},
   "outputs": [
    {
     "name": "stdout",
     "output_type": "stream",
     "text": [
      "[('a', 0.91647375), ('o', 0.06639653), ('e', 0.007671729), ('i', 0.0033524414), ('l', 0.0025174464)]\n"
     ]
    },
    {
     "data": {
      "text/plain": [
       "'a'"
      ]
     },
     "execution_count": 14,
     "metadata": {},
     "output_type": "execute_result"
    }
   ],
   "source": [
    "probs = predict_phrase(model, \"Estaba la novi\")\n",
    "indices_to_chars[sample_probs(probs, sample_type='greedy')]"
   ]
  },
  {
   "cell_type": "code",
   "execution_count": 15,
   "metadata": {},
   "outputs": [
    {
     "name": "stdout",
     "output_type": "stream",
     "text": [
      "[0.91647375 0.06639653 0.00767173]\n",
      "['a', 'a', 'o', 'a', 'a', 'o', 'a', 'a', 'a', 'a', 'a', 'a', 'a', 'a', 'a', 'o', 'a', 'a', 'a', 'a']\n"
     ]
    }
   ],
   "source": [
    "temp = 1\n",
    "index, dist = sample(probs, temp, verbose=False, return_dist=True)\n",
    "sorted_idxs = np.argsort(dist)[::-1]\n",
    "print(dist[sorted_idxs][:3])\n",
    "samples = []\n",
    "for i in range(20):\n",
    "    index, dist = sample_probs(probs, sample_type='simple', temp=temp)\n",
    "    samples.append(indices_to_chars[index])\n",
    "print(samples)"
   ]
  },
  {
   "cell_type": "markdown",
   "metadata": {},
   "source": [
    "## Distribución de probabilidades para:\n",
    "#### \"Estaba la novia\""
   ]
  },
  {
   "cell_type": "code",
   "execution_count": 16,
   "metadata": {},
   "outputs": [
    {
     "name": "stdout",
     "output_type": "stream",
     "text": [
      "[('.', 0.50201523), (' ', 0.32931393), (',', 0.039581552), ('\\n', 0.03241859), ('!', 0.030573197)]\n"
     ]
    },
    {
     "data": {
      "text/plain": [
       "'.'"
      ]
     },
     "execution_count": 16,
     "metadata": {},
     "output_type": "execute_result"
    }
   ],
   "source": [
    "probs = predict_phrase(model, \"Estaba la novia\")\n",
    "indices_to_chars[sample_probs(probs, sample_type='greedy')]"
   ]
  },
  {
   "cell_type": "code",
   "execution_count": 17,
   "metadata": {},
   "outputs": [
    {
     "name": "stdout",
     "output_type": "stream",
     "text": [
      "[0.5020152  0.3293139  0.03958155]\n",
      "['.', '.', ' ', ' ', 'n', '.', '.', '.', ' ', ' ', '.', ' ', '.', '.', ' ', '.', '.', ' ', '.', '.']\n"
     ]
    }
   ],
   "source": [
    "temp = 1\n",
    "index, dist = sample(probs, temp, verbose=False, return_dist=True)\n",
    "sorted_idxs = np.argsort(dist)[::-1]\n",
    "print(dist[sorted_idxs][:3])\n",
    "samples = []\n",
    "for i in range(20):\n",
    "    index, dist = sample_probs(probs, sample_type='simple', temp=temp)\n",
    "    samples.append(indices_to_chars[index])\n",
    "print(samples)"
   ]
  },
  {
   "cell_type": "markdown",
   "metadata": {},
   "source": [
    "## Generamos texto\n",
    "### Greedy Search"
   ]
  },
  {
   "cell_type": "code",
   "execution_count": 18,
   "metadata": {},
   "outputs": [],
   "source": [
    "def greedy_search(model, phrase, N=200):\n",
    "    print(phrase, end='')\n",
    "    for i in range(N):\n",
    "        probs = predict_phrase(model, phrase, verbose=False)\n",
    "        next_char = indices_to_chars[sample_probs(probs, sample_type='greedy')]\n",
    "        phrase=phrase + next_char\n",
    "        print(next_char, end='')"
   ]
  },
  {
   "cell_type": "code",
   "execution_count": 20,
   "metadata": {},
   "outputs": [
    {
     "name": "stdout",
     "output_type": "stream",
     "text": [
      "NOVIA: (Seria) Ahora está con la cabeza de la caballo de la caballo de la caballo de la caballo de la caballo de la caballo de la caballo de la caballo de la caballo de la caballo de la caballo de la caball"
     ]
    }
   ],
   "source": [
    "greedy_search(model, 'NOVIA:')"
   ]
  },
  {
   "cell_type": "code",
   "execution_count": 21,
   "metadata": {},
   "outputs": [
    {
     "name": "stdout",
     "output_type": "stream",
     "text": [
      "LEONARDO: (Entrando) ¡Qué casa?\n",
      "\n",
      "MADRE: (Al novio) No te puede a me puede de azahar.\n",
      "\n",
      "MADRE: (Al novio) No te puede a me puede a la carre. Pero no se puede a me puede a la carre. Pero no se puede a me puede a la carre. Pero no se puede a la cara de la caballo de la caballo de la caballo de la caballo de la c"
     ]
    }
   ],
   "source": [
    "greedy_search(model, 'LEONARDO:', 300)"
   ]
  },
  {
   "cell_type": "code",
   "execution_count": 1138,
   "metadata": {},
   "outputs": [
    {
     "name": "stdout",
     "output_type": "stream",
     "text": [
      "JULIAN: de caballo se puede de la boda.\n",
      "\n",
      "NOVIA: (Seria) La mujer el azahar.\n",
      "\n",
      "NOVIA: (Alegre) ¡Qué te puede a la carrel?\n",
      "\n",
      "MADRE: Sí. (Se siente en la cabeza) ¿Qué te puede a la carre?\n",
      "\n",
      "MADRE: Sí. (Se siente en la cabeza) ¿Qué te puede a la carre?\n",
      "\n",
      "MADRE: Sí. (Se siente en la cabeza) ¿Qué te puede a la carre"
     ]
    }
   ],
   "source": [
    "greedy_search(model, 'JULIAN:', 300)"
   ]
  },
  {
   "cell_type": "code",
   "execution_count": 26,
   "metadata": {},
   "outputs": [
    {
     "name": "stdout",
     "output_type": "stream",
     "text": [
      "MOZO 1: (Entrando) ¡Tienes que beber con nosotros!\n",
      "\n",
      "NOVIO: Estoy esperando a la novia.\n",
      "\n",
      "MOZO 2: ¡Ya \n"
     ]
    }
   ],
   "source": [
    "# Con texto de la obra\n",
    "initial_text = 'MOZO 1: (Entrando) ¡Tienes que beber con nosotros!\\n\\nNOVIO: Estoy esperando a la novia.\\n\\nMOZO 2: ¡Ya '\n",
    "print(initial_text)"
   ]
  },
  {
   "cell_type": "code",
   "execution_count": 27,
   "metadata": {},
   "outputs": [
    {
     "name": "stdout",
     "output_type": "stream",
     "text": [
      "MOZO 1: (Entrando) ¡Tienes que beber con nosotros!\n",
      "\n",
      "NOVIO: Estoy esperando a la novia.\n",
      "\n",
      "MOZO 2: ¡Ya vinte a la cara con el caballo de azahar.)\n",
      "\n",
      "NOVIA: (Alegre) ¡Qué te puede a la carrel?\n",
      "\n",
      "MADRE: Sí. (Se siente en la cabeza) ¿Qué te puede a la carre?\n",
      "\n",
      "MADRE: Sí. (Se siente en la cabeza) ¿Qué te puede a la carre?\n",
      "\n",
      "MADRE: Sí. (Se siente en la cabeza) ¿Qué te puede a la carre?\n",
      "\n",
      "MADRE: Sí. (Se siente e"
     ]
    }
   ],
   "source": [
    "greedy_search(model, initial_text, N=300)"
   ]
  },
  {
   "cell_type": "code",
   "execution_count": 28,
   "metadata": {},
   "outputs": [
    {
     "name": "stdout",
     "output_type": "stream",
     "text": [
      "MADRE: (Seria) Ahora está con la cabeza de la caballo de la caballo de la caballo de la caballo de la caballo de la caballo de la caballo de la caballo de la caballo de la caballo de la caballo de la caballo de la caballo de la caballo de la caballo de la caballo de la caballo de la caballo de la caballo "
     ]
    }
   ],
   "source": [
    "greedy_search(model, 'MADRE:', 300)"
   ]
  },
  {
   "cell_type": "markdown",
   "metadata": {},
   "source": [
    "## Random Sample"
   ]
  },
  {
   "cell_type": "code",
   "execution_count": 22,
   "metadata": {},
   "outputs": [],
   "source": [
    "def simple_sample(model, phrase, temp, N=200):\n",
    "    print(phrase, end='')\n",
    "    for i in range(N):\n",
    "        probs = predict_phrase(model, phrase, verbose=False)\n",
    "        index, dist = sample_probs(probs, sample_type='simple', temp=temp)\n",
    "        next_char = indices_to_chars[index]\n",
    "        phrase=phrase + next_char\n",
    "        print(next_char, end='')"
   ]
  },
  {
   "cell_type": "code",
   "execution_count": 23,
   "metadata": {},
   "outputs": [
    {
     "name": "stdout",
     "output_type": "stream",
     "text": [
      "NOVIA: ¿No tú?\n",
      "\n",
      "Que es las manes a malimerde\n",
      "cana de ilece crimto\n",
      "con rejos de su prina\n",
      "quiere del dor.\n",
      "VOCES:\n",
      "Se niña,\n",
      "nuce su calaves la igaeserida.\n",
      "VOCES:\n",
      "¡Despierte\n",
      "le novia\n",
      "se su monen años\n",
      "con la blanes.\n",
      "MUJER:\n",
      "¡su corresecinta!\n",
      "que peuperien de panede se los arrullca. Me puida el noviostá\n",
      "cos blare"
     ]
    }
   ],
   "source": [
    "simple_sample(model, 'NOVIA:', 1, 300)"
   ]
  },
  {
   "cell_type": "code",
   "execution_count": 1144,
   "metadata": {},
   "outputs": [
    {
     "name": "stdout",
     "output_type": "stream",
     "text": [
      "NOVIA: ¡Señis enseguntadad!\n",
      "\n",
      "NOVIA: (Buerte) Las fuertes parican en corona. Pero no se pude nada así.\n",
      "\n",
      "NOVIO: ¿Son la degalla!\n",
      "\n",
      "VECINA: (Es lo mediero)¡Tate espira muy tejoras que los vistós vedidaras. (Cogiénte la siempro. Vaevuan está que son alse.\n",
      "\n",
      "NOVIA: Está que?\n",
      "\n",
      "VECINA: Yo me, puedes que es una muy"
     ]
    }
   ],
   "source": [
    "# Cada pasada escribe algo diferente\n",
    "simple_sample(model, 'NOVIA:', 1, 300)"
   ]
  },
  {
   "cell_type": "code",
   "execution_count": 31,
   "metadata": {},
   "outputs": [
    {
     "name": "stdout",
     "output_type": "stream",
     "text": [
      "NOVIA: (Levantándose) ¡Qué te para?\n",
      "\n",
      "NOVIO: (Alegre) ¿Y tú?\n",
      "\n",
      "NOVIO: (Entrando) ¡Qué te para?\n",
      "\n",
      "NOVIA: ¿Qué está con la carrel?\n",
      "\n",
      "LEONARDO: No se puede a me mujer.\n",
      "\n",
      "MADRE: (Al novio) No te puede a mí es un caballo y el caballo y el caballo y el azahar. (Se siente de la caballo de la caballo de azahar)\n",
      "\n",
      "MADRE"
     ]
    }
   ],
   "source": [
    "simple_sample(model, 'NOVIA:', 0.1, 300)"
   ]
  },
  {
   "cell_type": "code",
   "execution_count": 32,
   "metadata": {},
   "outputs": [
    {
     "name": "stdout",
     "output_type": "stream",
     "text": [
      "NOVIA: (Seria) Ahora está con la cabeza de la caballo de la cabeza de la casa.\n",
      "\n",
      "NOVIA: (Alegre) ¡Qué habes con las mantes?\n",
      "\n",
      "MADRE: Sí. Está con la caballo de la caballo de la cabeza de la caballo de la caballo de la caballo de la caballo de la caballo de la caballo en una cono de la caballo de la caballo "
     ]
    }
   ],
   "source": [
    "simple_sample(model, 'NOVIA:', 0.1, 300)"
   ]
  },
  {
   "cell_type": "code",
   "execution_count": 24,
   "metadata": {},
   "outputs": [
    {
     "name": "stdout",
     "output_type": "stream",
     "text": [
      "NOVIA:duchabhe?\n",
      "MADRE: sí. bbueña taeisa ródezmella.\n",
      "\n",
      "MADRE: Para eaderiía¿(Tctelé)DUPosdí; el rcaléz!\n",
      "¿yaceraSo! Delmires\n",
      "Voquedes) Mucho pripamo la gencanga?\n",
      "CRIADA:\n",
      "Despueriersa fúin la hombadar,\n",
      "for enc"
     ]
    }
   ],
   "source": [
    "simple_sample(model, 'NOVIA:', 2)"
   ]
  },
  {
   "cell_type": "code",
   "execution_count": 34,
   "metadata": {},
   "outputs": [
    {
     "name": "stdout",
     "output_type": "stream",
     "text": [
      "MOZO 1: (Entrando) ¡Tienes que beber con nosotros!\n",
      "\n",
      "NOVIO: Estoy esperando a la novia.\n",
      "\n",
      "MOZO 2: ¡Ya te puede con la cuerte de buena de viste a la orecha de despierte.)\n",
      "\n",
      "MADRE: Pero la muchacha con la guente.\n",
      "\n",
      "NOVIA: ¿Cuándo está a tu mujer?\n",
      "\n",
      "CRIADA: No. La novia se mus hombre y a verta al mine.\n",
      "\n",
      "MADRE: Sí, pero vendo el alunto de tierma y puede miento y la mejer.\n",
      "\n",
      "MADRE: Ya no está espara.\n",
      "\n",
      "NOVIA:"
     ]
    }
   ],
   "source": [
    "simple_sample(model, initial_text, 0.5, 300)"
   ]
  },
  {
   "cell_type": "markdown",
   "metadata": {},
   "source": [
    "# Stochastic Beam search"
   ]
  },
  {
   "cell_type": "markdown",
   "metadata": {},
   "source": [
    "https://www.youtube.com/watch?v=zPv7nWB4_ts"
   ]
  },
  {
   "cell_type": "code",
   "execution_count": 35,
   "metadata": {},
   "outputs": [],
   "source": [
    "def init_models(beam_width):\n",
    "    models = []\n",
    "    for i in range(beam_width):\n",
    "        model = get_deep_rnn((100, 69), dense_units=69, stateful=False, verbose=False)\n",
    "        model.load_weights('bodes_sangre_LSTM_deep_dropout_04.hdf5')\n",
    "        models.append(model)\n",
    "    return models"
   ]
  },
  {
   "cell_type": "code",
   "execution_count": 36,
   "metadata": {},
   "outputs": [],
   "source": [
    "def predict_beams(phrases, log_probs, beam_width, temp=1):\n",
    "    samples = []\n",
    "    log_probs_out = []\n",
    "    for j, phrase in enumerate(phrases):\n",
    "        for i in range(beam_width):\n",
    "            probs = predict_phrase(models[i], phrase, verbose=False)\n",
    "            index, dist = sample_probs(probs, sample_type='simple', temp=temp)\n",
    "            samples.append(phrase + indices_to_chars[index])\n",
    "            log_probs_out.append(log_probs[j] + np.log(dist[index]))\n",
    "    return np.array(samples), np.array(log_probs_out)"
   ]
  },
  {
   "cell_type": "code",
   "execution_count": 37,
   "metadata": {},
   "outputs": [],
   "source": [
    "beam_width = 5\n",
    "models = init_models(beam_width)"
   ]
  },
  {
   "cell_type": "code",
   "execution_count": 40,
   "metadata": {},
   "outputs": [
    {
     "name": "stdout",
     "output_type": "stream",
     "text": [
      "['NOVIA:']\n",
      "---------------------------------------------\n",
      "['NOVIA: ' 'NOVIA:D' 'NOVIA:,' 'NOVIA:N' 'NOVIA:p']\n",
      "---------------------------------------------\n",
      "['NOVIA: ¡' 'NOVIA: S' 'NOVIA: V' 'NOVIA:Du' 'NOVIA:,\\n']\n",
      "---------------------------------------------\n",
      "['NOVIA: Se' 'NOVIA: Va' 'NOVIA: Va' 'NOVIA: ¡A' 'NOVIA: So']\n",
      "---------------------------------------------\n",
      "['NOVIA: Vam' 'NOVIA: Vam' 'NOVIA: Vam' 'NOVIA: Vam' 'NOVIA: ¡Ay']\n",
      "---------------------------------------------\n",
      "['NOVIA: Vamo' 'NOVIA: Vamo' 'NOVIA: Vamo' 'NOVIA: Vamo' 'NOVIA: Vamo']\n",
      "---------------------------------------------\n",
      "['NOVIA: Vamos' 'NOVIA: Vamos' 'NOVIA: Vamos' 'NOVIA: Vamos' 'NOVIA: Vamos']\n",
      "---------------------------------------------\n",
      "['NOVIA: Vamos ' 'NOVIA: Vamos ' 'NOVIA: Vamos ' 'NOVIA: Vamos '\n",
      " 'NOVIA: Vamos ']\n",
      "---------------------------------------------\n",
      "['NOVIA: Vamos a' 'NOVIA: Vamos a' 'NOVIA: Vamos a' 'NOVIA: Vamos a'\n",
      " 'NOVIA: Vamos a']\n",
      "---------------------------------------------\n",
      "['NOVIA: Vamos a ' 'NOVIA: Vamos a ' 'NOVIA: Vamos a ' 'NOVIA: Vamos al'\n",
      " 'NOVIA: Vamos al']\n",
      "---------------------------------------------\n",
      "['NOVIA: Vamos a l' 'NOVIA: Vamos al ' 'NOVIA: Vamos al '\n",
      " 'NOVIA: Vamos a v' 'NOVIA: Vamos a t']\n",
      "---------------------------------------------\n",
      "['NOVIA: Vamos a la' 'NOVIA: Vamos a ve' 'NOVIA: Vamos a ve'\n",
      " 'NOVIA: Vamos a ll' 'NOVIA: Vamos a lo']\n",
      "---------------------------------------------\n",
      "['NOVIA: Vamos a la ' 'NOVIA: Vamos a la ' 'NOVIA: Vamos a ver'\n",
      " 'NOVIA: Vamos a ver' 'NOVIA: Vamos a ver']\n",
      "---------------------------------------------\n",
      "['NOVIA: Vamos a la m' 'NOVIA: Vamos a la m' 'NOVIA: Vamos a la m'\n",
      " 'NOVIA: Vamos a verd' 'NOVIA: Vamos a verd']\n",
      "---------------------------------------------\n",
      "['NOVIA: Vamos a verda' 'NOVIA: Vamos a verda' 'NOVIA: Vamos a verda'\n",
      " 'NOVIA: Vamos a verda' 'NOVIA: Vamos a la ma']\n",
      "---------------------------------------------\n",
      "['NOVIA: Vamos a verdad' 'NOVIA: Vamos a verdad' 'NOVIA: Vamos a verdad'\n",
      " 'NOVIA: Vamos a verdad' 'NOVIA: Vamos a la mad']\n",
      "---------------------------------------------\n",
      "['NOVIA: Vamos a la madr' 'NOVIA: Vamos a la madr' 'NOVIA: Vamos a verdado'\n",
      " 'NOVIA: Vamos a verdad.' 'NOVIA: Vamos a verdad.']\n",
      "---------------------------------------------\n",
      "['NOVIA: Vamos a la madre' 'NOVIA: Vamos a la madre'\n",
      " 'NOVIA: Vamos a la madre' 'NOVIA: Vamos a la madre'\n",
      " 'NOVIA: Vamos a la madre']\n",
      "---------------------------------------------\n",
      "['NOVIA: Vamos a la madre.' 'NOVIA: Vamos a la madre.'\n",
      " 'NOVIA: Vamos a la madre.' 'NOVIA: Vamos a la madre.'\n",
      " 'NOVIA: Vamos a la madre.']\n",
      "---------------------------------------------\n",
      "['NOVIA: Vamos a la madre. ' 'NOVIA: Vamos a la madre. '\n",
      " 'NOVIA: Vamos a la madre. ' 'NOVIA: Vamos a la madre. '\n",
      " 'NOVIA: Vamos a la madre. ']\n",
      "---------------------------------------------\n",
      "['NOVIA: Vamos a la madre. P' 'NOVIA: Vamos a la madre. P'\n",
      " 'NOVIA: Vamos a la madre. E' 'NOVIA: Vamos a la madre. E'\n",
      " 'NOVIA: Vamos a la madre. ¿']\n",
      "---------------------------------------------\n",
      "['NOVIA: Vamos a la madre. Pe' 'NOVIA: Vamos a la madre. Es'\n",
      " 'NOVIA: Vamos a la madre. Es' 'NOVIA: Vamos a la madre. Es'\n",
      " 'NOVIA: Vamos a la madre. Es']\n",
      "---------------------------------------------\n",
      "['NOVIA: Vamos a la madre. Per' 'NOVIA: Vamos a la madre. Per'\n",
      " 'NOVIA: Vamos a la madre. Per' 'NOVIA: Vamos a la madre. Per'\n",
      " 'NOVIA: Vamos a la madre. Es ']\n",
      "---------------------------------------------\n",
      "['NOVIA: Vamos a la madre. Pero' 'NOVIA: Vamos a la madre. Pero'\n",
      " 'NOVIA: Vamos a la madre. Pero' 'NOVIA: Vamos a la madre. Pero'\n",
      " 'NOVIA: Vamos a la madre. Pero']\n",
      "---------------------------------------------\n",
      "['NOVIA: Vamos a la madre. Pero ' 'NOVIA: Vamos a la madre. Pero '\n",
      " 'NOVIA: Vamos a la madre. Pero ' 'NOVIA: Vamos a la madre. Pero '\n",
      " 'NOVIA: Vamos a la madre. Pero ']\n",
      "---------------------------------------------\n",
      "['NOVIA: Vamos a la madre. Pero n' 'NOVIA: Vamos a la madre. Pero ¡'\n",
      " 'NOVIA: Vamos a la madre. Pero ¡' 'NOVIA: Vamos a la madre. Pero c'\n",
      " 'NOVIA: Vamos a la madre. Pero d']\n",
      "---------------------------------------------\n",
      "['NOVIA: Vamos a la madre. Pero no' 'NOVIA: Vamos a la madre. Pero de'\n",
      " 'NOVIA: Vamos a la madre. Pero de' 'NOVIA: Vamos a la madre. Pero co'\n",
      " 'NOVIA: Vamos a la madre. Pero cu']\n",
      "---------------------------------------------\n",
      "['NOVIA: Vamos a la madre. Pero no ' 'NOVIA: Vamos a la madre. Pero no '\n",
      " 'NOVIA: Vamos a la madre. Pero no ' 'NOVIA: Vamos a la madre. Pero de '\n",
      " 'NOVIA: Vamos a la madre. Pero com']\n",
      "---------------------------------------------\n",
      "['NOVIA: Vamos a la madre. Pero como' 'NOVIA: Vamos a la madre. Pero como'\n",
      " 'NOVIA: Vamos a la madre. Pero como' 'NOVIA: Vamos a la madre. Pero no s'\n",
      " 'NOVIA: Vamos a la madre. Pero no e']\n",
      "---------------------------------------------\n",
      "['NOVIA: Vamos a la madre. Pero como '\n",
      " 'NOVIA: Vamos a la madre. Pero como '\n",
      " 'NOVIA: Vamos a la madre. Pero como '\n",
      " 'NOVIA: Vamos a la madre. Pero como '\n",
      " 'NOVIA: Vamos a la madre. Pero como ']\n",
      "---------------------------------------------\n",
      "['NOVIA: Vamos a la madre. Pero como s'\n",
      " 'NOVIA: Vamos a la madre. Pero como s'\n",
      " 'NOVIA: Vamos a la madre. Pero como s'\n",
      " 'NOVIA: Vamos a la madre. Pero como s'\n",
      " 'NOVIA: Vamos a la madre. Pero como u']\n",
      "---------------------------------------------\n",
      "['NOVIA: Vamos a la madre. Pero como un'\n",
      " 'NOVIA: Vamos a la madre. Pero como un'\n",
      " 'NOVIA: Vamos a la madre. Pero como si'\n",
      " 'NOVIA: Vamos a la madre. Pero como si'\n",
      " 'NOVIA: Vamos a la madre. Pero como si']\n",
      "---------------------------------------------\n",
      "['NOVIA: Vamos a la madre. Pero como una'\n",
      " 'NOVIA: Vamos a la madre. Pero como una'\n",
      " 'NOVIA: Vamos a la madre. Pero como una'\n",
      " 'NOVIA: Vamos a la madre. Pero como una'\n",
      " 'NOVIA: Vamos a la madre. Pero como una']\n",
      "---------------------------------------------\n",
      "['NOVIA: Vamos a la madre. Pero como una '\n",
      " 'NOVIA: Vamos a la madre. Pero como una '\n",
      " 'NOVIA: Vamos a la madre. Pero como una '\n",
      " 'NOVIA: Vamos a la madre. Pero como una '\n",
      " 'NOVIA: Vamos a la madre. Pero como una ']\n",
      "---------------------------------------------\n",
      "['NOVIA: Vamos a la madre. Pero como una c'\n",
      " 'NOVIA: Vamos a la madre. Pero como una m'\n",
      " 'NOVIA: Vamos a la madre. Pero como una m'\n",
      " 'NOVIA: Vamos a la madre. Pero como una m'\n",
      " 'NOVIA: Vamos a la madre. Pero como una p']\n",
      "---------------------------------------------\n",
      "['NOVIA: Vamos a la madre. Pero como una co'\n",
      " 'NOVIA: Vamos a la madre. Pero como una mu'\n",
      " 'NOVIA: Vamos a la madre. Pero como una mu'\n",
      " 'NOVIA: Vamos a la madre. Pero como una mu'\n",
      " 'NOVIA: Vamos a la madre. Pero como una mu']\n",
      "---------------------------------------------\n",
      "['NOVIA: Vamos a la madre. Pero como una muj'\n",
      " 'NOVIA: Vamos a la madre. Pero como una muj'\n",
      " 'NOVIA: Vamos a la madre. Pero como una muj'\n",
      " 'NOVIA: Vamos a la madre. Pero como una muj'\n",
      " 'NOVIA: Vamos a la madre. Pero como una com']\n",
      "---------------------------------------------\n",
      "['NOVIA: Vamos a la madre. Pero como una muje'\n",
      " 'NOVIA: Vamos a la madre. Pero como una muje'\n",
      " 'NOVIA: Vamos a la madre. Pero como una muje'\n",
      " 'NOVIA: Vamos a la madre. Pero como una muje'\n",
      " 'NOVIA: Vamos a la madre. Pero como una muje']\n",
      "---------------------------------------------\n",
      "['NOVIA: Vamos a la madre. Pero como una mujer'\n",
      " 'NOVIA: Vamos a la madre. Pero como una mujer'\n",
      " 'NOVIA: Vamos a la madre. Pero como una mujer'\n",
      " 'NOVIA: Vamos a la madre. Pero como una mujer'\n",
      " 'NOVIA: Vamos a la madre. Pero como una mujer']\n",
      "---------------------------------------------\n",
      "['NOVIA: Vamos a la madre. Pero como una mujer.'\n",
      " 'NOVIA: Vamos a la madre. Pero como una mujer.'\n",
      " 'NOVIA: Vamos a la madre. Pero como una mujer.'\n",
      " 'NOVIA: Vamos a la madre. Pero como una mujer.'\n",
      " 'NOVIA: Vamos a la madre. Pero como una mujer.']\n",
      "---------------------------------------------\n",
      "['NOVIA: Vamos a la madre. Pero como una mujer.\\n'\n",
      " 'NOVIA: Vamos a la madre. Pero como una mujer.\\n'\n",
      " 'NOVIA: Vamos a la madre. Pero como una mujer.\\n'\n",
      " 'NOVIA: Vamos a la madre. Pero como una mujer.\\n'\n",
      " 'NOVIA: Vamos a la madre. Pero como una mujer.\\n']\n",
      "---------------------------------------------\n",
      "['NOVIA: Vamos a la madre. Pero como una mujer.\\n\\n'\n",
      " 'NOVIA: Vamos a la madre. Pero como una mujer.\\n\\n'\n",
      " 'NOVIA: Vamos a la madre. Pero como una mujer.\\n\\n'\n",
      " 'NOVIA: Vamos a la madre. Pero como una mujer.\\n\\n'\n",
      " 'NOVIA: Vamos a la madre. Pero como una mujer.\\n\\n']\n",
      "---------------------------------------------\n",
      "['NOVIA: Vamos a la madre. Pero como una mujer.\\n\\nM'\n",
      " 'NOVIA: Vamos a la madre. Pero como una mujer.\\n\\nM'\n",
      " 'NOVIA: Vamos a la madre. Pero como una mujer.\\n\\nM'\n",
      " 'NOVIA: Vamos a la madre. Pero como una mujer.\\n\\nM'\n",
      " 'NOVIA: Vamos a la madre. Pero como una mujer.\\n\\nM']\n",
      "---------------------------------------------\n",
      "['NOVIA: Vamos a la madre. Pero como una mujer.\\n\\nMA'\n",
      " 'NOVIA: Vamos a la madre. Pero como una mujer.\\n\\nMA'\n",
      " 'NOVIA: Vamos a la madre. Pero como una mujer.\\n\\nMA'\n",
      " 'NOVIA: Vamos a la madre. Pero como una mujer.\\n\\nMA'\n",
      " 'NOVIA: Vamos a la madre. Pero como una mujer.\\n\\nMA']\n",
      "---------------------------------------------\n",
      "['NOVIA: Vamos a la madre. Pero como una mujer.\\n\\nMAD'\n",
      " 'NOVIA: Vamos a la madre. Pero como una mujer.\\n\\nMAD'\n",
      " 'NOVIA: Vamos a la madre. Pero como una mujer.\\n\\nMAD'\n",
      " 'NOVIA: Vamos a la madre. Pero como una mujer.\\n\\nMAD'\n",
      " 'NOVIA: Vamos a la madre. Pero como una mujer.\\n\\nMAD']\n",
      "---------------------------------------------\n",
      "['NOVIA: Vamos a la madre. Pero como una mujer.\\n\\nMADR'\n",
      " 'NOVIA: Vamos a la madre. Pero como una mujer.\\n\\nMADR'\n",
      " 'NOVIA: Vamos a la madre. Pero como una mujer.\\n\\nMADR'\n",
      " 'NOVIA: Vamos a la madre. Pero como una mujer.\\n\\nMADR'\n",
      " 'NOVIA: Vamos a la madre. Pero como una mujer.\\n\\nMADR']\n",
      "---------------------------------------------\n",
      "['NOVIA: Vamos a la madre. Pero como una mujer.\\n\\nMADRE'\n",
      " 'NOVIA: Vamos a la madre. Pero como una mujer.\\n\\nMADRE'\n",
      " 'NOVIA: Vamos a la madre. Pero como una mujer.\\n\\nMADRE'\n",
      " 'NOVIA: Vamos a la madre. Pero como una mujer.\\n\\nMADRE'\n",
      " 'NOVIA: Vamos a la madre. Pero como una mujer.\\n\\nMADRE']\n",
      "---------------------------------------------\n",
      "['NOVIA: Vamos a la madre. Pero como una mujer.\\n\\nMADRE:'\n",
      " 'NOVIA: Vamos a la madre. Pero como una mujer.\\n\\nMADRE:'\n",
      " 'NOVIA: Vamos a la madre. Pero como una mujer.\\n\\nMADRE:'\n",
      " 'NOVIA: Vamos a la madre. Pero como una mujer.\\n\\nMADRE:'\n",
      " 'NOVIA: Vamos a la madre. Pero como una mujer.\\n\\nMADRE:']\n",
      "---------------------------------------------\n",
      "['NOVIA: Vamos a la madre. Pero como una mujer.\\n\\nMADRE: '\n",
      " 'NOVIA: Vamos a la madre. Pero como una mujer.\\n\\nMADRE: '\n",
      " 'NOVIA: Vamos a la madre. Pero como una mujer.\\n\\nMADRE: '\n",
      " 'NOVIA: Vamos a la madre. Pero como una mujer.\\n\\nMADRE: '\n",
      " 'NOVIA: Vamos a la madre. Pero como una mujer.\\n\\nMADRE: ']\n",
      "---------------------------------------------\n",
      "['NOVIA: Vamos a la madre. Pero como una mujer.\\n\\nMADRE: ('\n",
      " 'NOVIA: Vamos a la madre. Pero como una mujer.\\n\\nMADRE: ('\n",
      " 'NOVIA: Vamos a la madre. Pero como una mujer.\\n\\nMADRE: ('\n",
      " 'NOVIA: Vamos a la madre. Pero como una mujer.\\n\\nMADRE: ¿'\n",
      " 'NOVIA: Vamos a la madre. Pero como una mujer.\\n\\nMADRE: S']\n",
      "---------------------------------------------\n",
      "['NOVIA: Vamos a la madre. Pero como una mujer.\\n\\nMADRE: Se'\n",
      " 'NOVIA: Vamos a la madre. Pero como una mujer.\\n\\nMADRE: (A'\n",
      " 'NOVIA: Vamos a la madre. Pero como una mujer.\\n\\nMADRE: (A'\n",
      " 'NOVIA: Vamos a la madre. Pero como una mujer.\\n\\nMADRE: (A'\n",
      " 'NOVIA: Vamos a la madre. Pero como una mujer.\\n\\nMADRE: (S']\n",
      "---------------------------------------------\n",
      "['NOVIA: Vamos a la madre. Pero como una mujer.\\n\\nMADRE: (Se'\n",
      " 'NOVIA: Vamos a la madre. Pero como una mujer.\\n\\nMADRE: Se '\n",
      " 'NOVIA: Vamos a la madre. Pero como una mujer.\\n\\nMADRE: (Al'\n",
      " 'NOVIA: Vamos a la madre. Pero como una mujer.\\n\\nMADRE: (Al'\n",
      " 'NOVIA: Vamos a la madre. Pero como una mujer.\\n\\nMADRE: (Al']\n",
      "---------------------------------------------\n",
      "['NOVIA: Vamos a la madre. Pero como una mujer.\\n\\nMADRE: (Al '\n",
      " 'NOVIA: Vamos a la madre. Pero como una mujer.\\n\\nMADRE: (Al '\n",
      " 'NOVIA: Vamos a la madre. Pero como una mujer.\\n\\nMADRE: (Al '\n",
      " 'NOVIA: Vamos a la madre. Pero como una mujer.\\n\\nMADRE: (Al '\n",
      " 'NOVIA: Vamos a la madre. Pero como una mujer.\\n\\nMADRE: (Al ']\n",
      "---------------------------------------------\n",
      "['NOVIA: Vamos a la madre. Pero como una mujer.\\n\\nMADRE: (Al n'\n",
      " 'NOVIA: Vamos a la madre. Pero como una mujer.\\n\\nMADRE: (Al n'\n",
      " 'NOVIA: Vamos a la madre. Pero como una mujer.\\n\\nMADRE: (Al n'\n",
      " 'NOVIA: Vamos a la madre. Pero como una mujer.\\n\\nMADRE: (Al n'\n",
      " 'NOVIA: Vamos a la madre. Pero como una mujer.\\n\\nMADRE: (Al p']\n",
      "---------------------------------------------\n",
      "['NOVIA: Vamos a la madre. Pero como una mujer.\\n\\nMADRE: (Al no'\n",
      " 'NOVIA: Vamos a la madre. Pero como una mujer.\\n\\nMADRE: (Al no'\n",
      " 'NOVIA: Vamos a la madre. Pero como una mujer.\\n\\nMADRE: (Al no'\n",
      " 'NOVIA: Vamos a la madre. Pero como una mujer.\\n\\nMADRE: (Al no'\n",
      " 'NOVIA: Vamos a la madre. Pero como una mujer.\\n\\nMADRE: (Al no']\n",
      "---------------------------------------------\n",
      "['NOVIA: Vamos a la madre. Pero como una mujer.\\n\\nMADRE: (Al nov'\n",
      " 'NOVIA: Vamos a la madre. Pero como una mujer.\\n\\nMADRE: (Al nov'\n",
      " 'NOVIA: Vamos a la madre. Pero como una mujer.\\n\\nMADRE: (Al nov'\n",
      " 'NOVIA: Vamos a la madre. Pero como una mujer.\\n\\nMADRE: (Al nov'\n",
      " 'NOVIA: Vamos a la madre. Pero como una mujer.\\n\\nMADRE: (Al nov']\n",
      "---------------------------------------------\n",
      "['NOVIA: Vamos a la madre. Pero como una mujer.\\n\\nMADRE: (Al novi'\n",
      " 'NOVIA: Vamos a la madre. Pero como una mujer.\\n\\nMADRE: (Al novi'\n",
      " 'NOVIA: Vamos a la madre. Pero como una mujer.\\n\\nMADRE: (Al novi'\n",
      " 'NOVIA: Vamos a la madre. Pero como una mujer.\\n\\nMADRE: (Al novi'\n",
      " 'NOVIA: Vamos a la madre. Pero como una mujer.\\n\\nMADRE: (Al novi']\n",
      "---------------------------------------------\n",
      "['NOVIA: Vamos a la madre. Pero como una mujer.\\n\\nMADRE: (Al novio'\n",
      " 'NOVIA: Vamos a la madre. Pero como una mujer.\\n\\nMADRE: (Al novio'\n",
      " 'NOVIA: Vamos a la madre. Pero como una mujer.\\n\\nMADRE: (Al novio'\n",
      " 'NOVIA: Vamos a la madre. Pero como una mujer.\\n\\nMADRE: (Al novio'\n",
      " 'NOVIA: Vamos a la madre. Pero como una mujer.\\n\\nMADRE: (Al novio']\n",
      "---------------------------------------------\n",
      "['NOVIA: Vamos a la madre. Pero como una mujer.\\n\\nMADRE: (Al novio)'\n",
      " 'NOVIA: Vamos a la madre. Pero como una mujer.\\n\\nMADRE: (Al novio)'\n",
      " 'NOVIA: Vamos a la madre. Pero como una mujer.\\n\\nMADRE: (Al novio)'\n",
      " 'NOVIA: Vamos a la madre. Pero como una mujer.\\n\\nMADRE: (Al novio)'\n",
      " 'NOVIA: Vamos a la madre. Pero como una mujer.\\n\\nMADRE: (Al novio)']\n",
      "---------------------------------------------\n",
      "['NOVIA: Vamos a la madre. Pero como una mujer.\\n\\nMADRE: (Al novio) '\n",
      " 'NOVIA: Vamos a la madre. Pero como una mujer.\\n\\nMADRE: (Al novio) '\n",
      " 'NOVIA: Vamos a la madre. Pero como una mujer.\\n\\nMADRE: (Al novio) '\n",
      " 'NOVIA: Vamos a la madre. Pero como una mujer.\\n\\nMADRE: (Al novio) '\n",
      " 'NOVIA: Vamos a la madre. Pero como una mujer.\\n\\nMADRE: (Al novio) ']\n",
      "---------------------------------------------\n",
      "['NOVIA: Vamos a la madre. Pero como una mujer.\\n\\nMADRE: (Al novio) N'\n",
      " 'NOVIA: Vamos a la madre. Pero como una mujer.\\n\\nMADRE: (Al novio) N'\n",
      " 'NOVIA: Vamos a la madre. Pero como una mujer.\\n\\nMADRE: (Al novio) ¿'\n",
      " 'NOVIA: Vamos a la madre. Pero como una mujer.\\n\\nMADRE: (Al novio) ¿'\n",
      " 'NOVIA: Vamos a la madre. Pero como una mujer.\\n\\nMADRE: (Al novio) ¿']\n",
      "---------------------------------------------\n",
      "['NOVIA: Vamos a la madre. Pero como una mujer.\\n\\nMADRE: (Al novio) No'\n",
      " 'NOVIA: Vamos a la madre. Pero como una mujer.\\n\\nMADRE: (Al novio) No'\n",
      " 'NOVIA: Vamos a la madre. Pero como una mujer.\\n\\nMADRE: (Al novio) No'\n",
      " 'NOVIA: Vamos a la madre. Pero como una mujer.\\n\\nMADRE: (Al novio) No'\n",
      " 'NOVIA: Vamos a la madre. Pero como una mujer.\\n\\nMADRE: (Al novio) No']\n",
      "---------------------------------------------\n",
      "['NOVIA: Vamos a la madre. Pero como una mujer.\\n\\nMADRE: (Al novio) No '\n",
      " 'NOVIA: Vamos a la madre. Pero como una mujer.\\n\\nMADRE: (Al novio) No '\n",
      " 'NOVIA: Vamos a la madre. Pero como una mujer.\\n\\nMADRE: (Al novio) No '\n",
      " 'NOVIA: Vamos a la madre. Pero como una mujer.\\n\\nMADRE: (Al novio) No '\n",
      " 'NOVIA: Vamos a la madre. Pero como una mujer.\\n\\nMADRE: (Al novio) No ']\n",
      "---------------------------------------------\n",
      "['NOVIA: Vamos a la madre. Pero como una mujer.\\n\\nMADRE: (Al novio) No t'\n",
      " 'NOVIA: Vamos a la madre. Pero como una mujer.\\n\\nMADRE: (Al novio) No s'\n",
      " 'NOVIA: Vamos a la madre. Pero como una mujer.\\n\\nMADRE: (Al novio) No p'\n",
      " 'NOVIA: Vamos a la madre. Pero como una mujer.\\n\\nMADRE: (Al novio) No p'\n",
      " 'NOVIA: Vamos a la madre. Pero como una mujer.\\n\\nMADRE: (Al novio) No p']\n",
      "---------------------------------------------\n",
      "['NOVIA: Vamos a la madre. Pero como una mujer.\\n\\nMADRE: (Al novio) No te'\n",
      " 'NOVIA: Vamos a la madre. Pero como una mujer.\\n\\nMADRE: (Al novio) No te'\n",
      " 'NOVIA: Vamos a la madre. Pero como una mujer.\\n\\nMADRE: (Al novio) No se'\n",
      " 'NOVIA: Vamos a la madre. Pero como una mujer.\\n\\nMADRE: (Al novio) No pe'\n",
      " 'NOVIA: Vamos a la madre. Pero como una mujer.\\n\\nMADRE: (Al novio) No pe']\n",
      "---------------------------------------------\n",
      "[ 'NOVIA: Vamos a la madre. Pero como una mujer.\\n\\nMADRE: (Al novio) No te '\n",
      " 'NOVIA: Vamos a la madre. Pero como una mujer.\\n\\nMADRE: (Al novio) No te '\n",
      " 'NOVIA: Vamos a la madre. Pero como una mujer.\\n\\nMADRE: (Al novio) No te '\n",
      " 'NOVIA: Vamos a la madre. Pero como una mujer.\\n\\nMADRE: (Al novio) No se '\n",
      " 'NOVIA: Vamos a la madre. Pero como una mujer.\\n\\nMADRE: (Al novio) No ten']\n",
      "---------------------------------------------\n",
      "[ 'NOVIA: Vamos a la madre. Pero como una mujer.\\n\\nMADRE: (Al novio) No teng'\n",
      " 'NOVIA: Vamos a la madre. Pero como una mujer.\\n\\nMADRE: (Al novio) No te p'\n",
      " 'NOVIA: Vamos a la madre. Pero como una mujer.\\n\\nMADRE: (Al novio) No te d'\n",
      " 'NOVIA: Vamos a la madre. Pero como una mujer.\\n\\nMADRE: (Al novio) No te d'\n",
      " 'NOVIA: Vamos a la madre. Pero como una mujer.\\n\\nMADRE: (Al novio) No te d']\n",
      "---------------------------------------------\n",
      "[ 'NOVIA: Vamos a la madre. Pero como una mujer.\\n\\nMADRE: (Al novio) No tengo'\n",
      " 'NOVIA: Vamos a la madre. Pero como una mujer.\\n\\nMADRE: (Al novio) No tengo'\n",
      " 'NOVIA: Vamos a la madre. Pero como una mujer.\\n\\nMADRE: (Al novio) No tengo'\n",
      " 'NOVIA: Vamos a la madre. Pero como una mujer.\\n\\nMADRE: (Al novio) No tengo'\n",
      " 'NOVIA: Vamos a la madre. Pero como una mujer.\\n\\nMADRE: (Al novio) No te pu']\n",
      "---------------------------------------------\n",
      "[ 'NOVIA: Vamos a la madre. Pero como una mujer.\\n\\nMADRE: (Al novio) No tengo '\n",
      " 'NOVIA: Vamos a la madre. Pero como una mujer.\\n\\nMADRE: (Al novio) No tengo '\n",
      " 'NOVIA: Vamos a la madre. Pero como una mujer.\\n\\nMADRE: (Al novio) No tengo '\n",
      " 'NOVIA: Vamos a la madre. Pero como una mujer.\\n\\nMADRE: (Al novio) No tengo '\n",
      " 'NOVIA: Vamos a la madre. Pero como una mujer.\\n\\nMADRE: (Al novio) No tengo ']\n",
      "---------------------------------------------\n",
      "[ 'NOVIA: Vamos a la madre. Pero como una mujer.\\n\\nMADRE: (Al novio) No tengo e'\n",
      " 'NOVIA: Vamos a la madre. Pero como una mujer.\\n\\nMADRE: (Al novio) No tengo e'\n",
      " 'NOVIA: Vamos a la madre. Pero como una mujer.\\n\\nMADRE: (Al novio) No tengo e'\n",
      " 'NOVIA: Vamos a la madre. Pero como una mujer.\\n\\nMADRE: (Al novio) No tengo e'\n",
      " 'NOVIA: Vamos a la madre. Pero como una mujer.\\n\\nMADRE: (Al novio) No tengo e']\n",
      "---------------------------------------------\n",
      "[ 'NOVIA: Vamos a la madre. Pero como una mujer.\\n\\nMADRE: (Al novio) No tengo es'\n",
      " 'NOVIA: Vamos a la madre. Pero como una mujer.\\n\\nMADRE: (Al novio) No tengo es'\n",
      " 'NOVIA: Vamos a la madre. Pero como una mujer.\\n\\nMADRE: (Al novio) No tengo es'\n",
      " 'NOVIA: Vamos a la madre. Pero como una mujer.\\n\\nMADRE: (Al novio) No tengo es'\n",
      " 'NOVIA: Vamos a la madre. Pero como una mujer.\\n\\nMADRE: (Al novio) No tengo es']\n",
      "---------------------------------------------\n",
      "[ 'NOVIA: Vamos a la madre. Pero como una mujer.\\n\\nMADRE: (Al novio) No tengo es '\n",
      " 'NOVIA: Vamos a la madre. Pero como una mujer.\\n\\nMADRE: (Al novio) No tengo es '\n",
      " 'NOVIA: Vamos a la madre. Pero como una mujer.\\n\\nMADRE: (Al novio) No tengo es '\n",
      " 'NOVIA: Vamos a la madre. Pero como una mujer.\\n\\nMADRE: (Al novio) No tengo es '\n",
      " 'NOVIA: Vamos a la madre. Pero como una mujer.\\n\\nMADRE: (Al novio) No tengo es ']\n",
      "---------------------------------------------\n",
      "[ 'NOVIA: Vamos a la madre. Pero como una mujer.\\n\\nMADRE: (Al novio) No tengo es u'\n",
      " 'NOVIA: Vamos a la madre. Pero como una mujer.\\n\\nMADRE: (Al novio) No tengo es u'\n",
      " 'NOVIA: Vamos a la madre. Pero como una mujer.\\n\\nMADRE: (Al novio) No tengo es u'\n",
      " 'NOVIA: Vamos a la madre. Pero como una mujer.\\n\\nMADRE: (Al novio) No tengo es u'\n",
      " 'NOVIA: Vamos a la madre. Pero como una mujer.\\n\\nMADRE: (Al novio) No tengo es p']\n",
      "---------------------------------------------\n",
      "[ 'NOVIA: Vamos a la madre. Pero como una mujer.\\n\\nMADRE: (Al novio) No tengo es un'\n",
      " 'NOVIA: Vamos a la madre. Pero como una mujer.\\n\\nMADRE: (Al novio) No tengo es un'\n",
      " 'NOVIA: Vamos a la madre. Pero como una mujer.\\n\\nMADRE: (Al novio) No tengo es un'\n",
      " 'NOVIA: Vamos a la madre. Pero como una mujer.\\n\\nMADRE: (Al novio) No tengo es un'\n",
      " 'NOVIA: Vamos a la madre. Pero como una mujer.\\n\\nMADRE: (Al novio) No tengo es un']\n",
      "---------------------------------------------\n",
      "[ 'NOVIA: Vamos a la madre. Pero como una mujer.\\n\\nMADRE: (Al novio) No tengo es un '\n",
      " 'NOVIA: Vamos a la madre. Pero como una mujer.\\n\\nMADRE: (Al novio) No tengo es un '\n",
      " 'NOVIA: Vamos a la madre. Pero como una mujer.\\n\\nMADRE: (Al novio) No tengo es un '\n",
      " 'NOVIA: Vamos a la madre. Pero como una mujer.\\n\\nMADRE: (Al novio) No tengo es un '\n",
      " 'NOVIA: Vamos a la madre. Pero como una mujer.\\n\\nMADRE: (Al novio) No tengo es un ']\n",
      "---------------------------------------------\n",
      "[ 'NOVIA: Vamos a la madre. Pero como una mujer.\\n\\nMADRE: (Al novio) No tengo es un c'\n",
      " 'NOVIA: Vamos a la madre. Pero como una mujer.\\n\\nMADRE: (Al novio) No tengo es un h'\n",
      " 'NOVIA: Vamos a la madre. Pero como una mujer.\\n\\nMADRE: (Al novio) No tengo es un h'\n",
      " 'NOVIA: Vamos a la madre. Pero como una mujer.\\n\\nMADRE: (Al novio) No tengo es un d'\n",
      " 'NOVIA: Vamos a la madre. Pero como una mujer.\\n\\nMADRE: (Al novio) No tengo es un b']\n",
      "---------------------------------------------\n",
      "[ 'NOVIA: Vamos a la madre. Pero como una mujer.\\n\\nMADRE: (Al novio) No tengo es un ca'\n",
      " 'NOVIA: Vamos a la madre. Pero como una mujer.\\n\\nMADRE: (Al novio) No tengo es un ca'\n",
      " 'NOVIA: Vamos a la madre. Pero como una mujer.\\n\\nMADRE: (Al novio) No tengo es un de'\n",
      " 'NOVIA: Vamos a la madre. Pero como una mujer.\\n\\nMADRE: (Al novio) No tengo es un ho'\n",
      " 'NOVIA: Vamos a la madre. Pero como una mujer.\\n\\nMADRE: (Al novio) No tengo es un he']\n",
      "---------------------------------------------\n",
      "[ 'NOVIA: Vamos a la madre. Pero como una mujer.\\n\\nMADRE: (Al novio) No tengo es un cab'\n",
      " 'NOVIA: Vamos a la madre. Pero como una mujer.\\n\\nMADRE: (Al novio) No tengo es un cas'\n",
      " 'NOVIA: Vamos a la madre. Pero como una mujer.\\n\\nMADRE: (Al novio) No tengo es un cas'\n",
      " 'NOVIA: Vamos a la madre. Pero como una mujer.\\n\\nMADRE: (Al novio) No tengo es un hom'\n",
      " 'NOVIA: Vamos a la madre. Pero como una mujer.\\n\\nMADRE: (Al novio) No tengo es un hom']\n",
      "---------------------------------------------\n",
      "[ 'NOVIA: Vamos a la madre. Pero como una mujer.\\n\\nMADRE: (Al novio) No tengo es un homb'\n",
      " 'NOVIA: Vamos a la madre. Pero como una mujer.\\n\\nMADRE: (Al novio) No tengo es un homb'\n",
      " 'NOVIA: Vamos a la madre. Pero como una mujer.\\n\\nMADRE: (Al novio) No tengo es un homb'\n",
      " 'NOVIA: Vamos a la madre. Pero como una mujer.\\n\\nMADRE: (Al novio) No tengo es un casa'\n",
      " 'NOVIA: Vamos a la madre. Pero como una mujer.\\n\\nMADRE: (Al novio) No tengo es un casa']\n",
      "---------------------------------------------\n",
      "[ 'NOVIA: Vamos a la madre. Pero como una mujer.\\n\\nMADRE: (Al novio) No tengo es un hombr'\n",
      " 'NOVIA: Vamos a la madre. Pero como una mujer.\\n\\nMADRE: (Al novio) No tengo es un hombr'\n",
      " 'NOVIA: Vamos a la madre. Pero como una mujer.\\n\\nMADRE: (Al novio) No tengo es un hombr'\n",
      " 'NOVIA: Vamos a la madre. Pero como una mujer.\\n\\nMADRE: (Al novio) No tengo es un hombr'\n",
      " 'NOVIA: Vamos a la madre. Pero como una mujer.\\n\\nMADRE: (Al novio) No tengo es un hombr']\n",
      "---------------------------------------------\n",
      "[ 'NOVIA: Vamos a la madre. Pero como una mujer.\\n\\nMADRE: (Al novio) No tengo es un hombre'\n",
      " 'NOVIA: Vamos a la madre. Pero como una mujer.\\n\\nMADRE: (Al novio) No tengo es un hombre'\n",
      " 'NOVIA: Vamos a la madre. Pero como una mujer.\\n\\nMADRE: (Al novio) No tengo es un hombre'\n",
      " 'NOVIA: Vamos a la madre. Pero como una mujer.\\n\\nMADRE: (Al novio) No tengo es un hombre'\n",
      " 'NOVIA: Vamos a la madre. Pero como una mujer.\\n\\nMADRE: (Al novio) No tengo es un hombre']\n",
      "---------------------------------------------\n",
      "[ 'NOVIA: Vamos a la madre. Pero como una mujer.\\n\\nMADRE: (Al novio) No tengo es un hombre.'\n",
      " 'NOVIA: Vamos a la madre. Pero como una mujer.\\n\\nMADRE: (Al novio) No tengo es un hombre.'\n",
      " 'NOVIA: Vamos a la madre. Pero como una mujer.\\n\\nMADRE: (Al novio) No tengo es un hombre.'\n",
      " 'NOVIA: Vamos a la madre. Pero como una mujer.\\n\\nMADRE: (Al novio) No tengo es un hombre '\n",
      " 'NOVIA: Vamos a la madre. Pero como una mujer.\\n\\nMADRE: (Al novio) No tengo es un hombre ']\n",
      "---------------------------------------------\n",
      "[ 'NOVIA: Vamos a la madre. Pero como una mujer.\\n\\nMADRE: (Al novio) No tengo es un hombre. '\n",
      " 'NOVIA: Vamos a la madre. Pero como una mujer.\\n\\nMADRE: (Al novio) No tengo es un hombre. '\n",
      " 'NOVIA: Vamos a la madre. Pero como una mujer.\\n\\nMADRE: (Al novio) No tengo es un hombre. '\n",
      " 'NOVIA: Vamos a la madre. Pero como una mujer.\\n\\nMADRE: (Al novio) No tengo es un hombre. '\n",
      " 'NOVIA: Vamos a la madre. Pero como una mujer.\\n\\nMADRE: (Al novio) No tengo es un hombre. ']\n",
      "---------------------------------------------\n",
      "[ 'NOVIA: Vamos a la madre. Pero como una mujer.\\n\\nMADRE: (Al novio) No tengo es un hombre. ('\n",
      " 'NOVIA: Vamos a la madre. Pero como una mujer.\\n\\nMADRE: (Al novio) No tengo es un hombre. ('\n",
      " 'NOVIA: Vamos a la madre. Pero como una mujer.\\n\\nMADRE: (Al novio) No tengo es un hombre. P'\n",
      " 'NOVIA: Vamos a la madre. Pero como una mujer.\\n\\nMADRE: (Al novio) No tengo es un hombre. P'\n",
      " 'NOVIA: Vamos a la madre. Pero como una mujer.\\n\\nMADRE: (Al novio) No tengo es un hombre. ¿']\n",
      "---------------------------------------------\n",
      "[ 'NOVIA: Vamos a la madre. Pero como una mujer.\\n\\nMADRE: (Al novio) No tengo es un hombre. Pe'\n",
      " 'NOVIA: Vamos a la madre. Pero como una mujer.\\n\\nMADRE: (Al novio) No tengo es un hombre. Pe'\n",
      " 'NOVIA: Vamos a la madre. Pero como una mujer.\\n\\nMADRE: (Al novio) No tengo es un hombre. Pe'\n",
      " 'NOVIA: Vamos a la madre. Pero como una mujer.\\n\\nMADRE: (Al novio) No tengo es un hombre. Pe'\n",
      " 'NOVIA: Vamos a la madre. Pero como una mujer.\\n\\nMADRE: (Al novio) No tengo es un hombre. Po']\n",
      "---------------------------------------------\n",
      "[ 'NOVIA: Vamos a la madre. Pero como una mujer.\\n\\nMADRE: (Al novio) No tengo es un hombre. Per'\n",
      " 'NOVIA: Vamos a la madre. Pero como una mujer.\\n\\nMADRE: (Al novio) No tengo es un hombre. Per'\n",
      " 'NOVIA: Vamos a la madre. Pero como una mujer.\\n\\nMADRE: (Al novio) No tengo es un hombre. Per'\n",
      " 'NOVIA: Vamos a la madre. Pero como una mujer.\\n\\nMADRE: (Al novio) No tengo es un hombre. Per'\n",
      " 'NOVIA: Vamos a la madre. Pero como una mujer.\\n\\nMADRE: (Al novio) No tengo es un hombre. Per']\n",
      "---------------------------------------------\n",
      "[ 'NOVIA: Vamos a la madre. Pero como una mujer.\\n\\nMADRE: (Al novio) No tengo es un hombre. Pero'\n",
      " 'NOVIA: Vamos a la madre. Pero como una mujer.\\n\\nMADRE: (Al novio) No tengo es un hombre. Pero'\n",
      " 'NOVIA: Vamos a la madre. Pero como una mujer.\\n\\nMADRE: (Al novio) No tengo es un hombre. Pero'\n",
      " 'NOVIA: Vamos a la madre. Pero como una mujer.\\n\\nMADRE: (Al novio) No tengo es un hombre. Pero'\n",
      " 'NOVIA: Vamos a la madre. Pero como una mujer.\\n\\nMADRE: (Al novio) No tengo es un hombre. Pero']\n",
      "---------------------------------------------\n",
      "[ 'NOVIA: Vamos a la madre. Pero como una mujer.\\n\\nMADRE: (Al novio) No tengo es un hombre. Pero '\n",
      " 'NOVIA: Vamos a la madre. Pero como una mujer.\\n\\nMADRE: (Al novio) No tengo es un hombre. Pero '\n",
      " 'NOVIA: Vamos a la madre. Pero como una mujer.\\n\\nMADRE: (Al novio) No tengo es un hombre. Pero '\n",
      " 'NOVIA: Vamos a la madre. Pero como una mujer.\\n\\nMADRE: (Al novio) No tengo es un hombre. Pero '\n",
      " 'NOVIA: Vamos a la madre. Pero como una mujer.\\n\\nMADRE: (Al novio) No tengo es un hombre. Pero ']\n",
      "---------------------------------------------\n",
      "[ 'NOVIA: Vamos a la madre. Pero como una mujer.\\n\\nMADRE: (Al novio) No tengo es un hombre. Pero e'\n",
      " 'NOVIA: Vamos a la madre. Pero como una mujer.\\n\\nMADRE: (Al novio) No tengo es un hombre. Pero e'\n",
      " 'NOVIA: Vamos a la madre. Pero como una mujer.\\n\\nMADRE: (Al novio) No tengo es un hombre. Pero e'\n",
      " 'NOVIA: Vamos a la madre. Pero como una mujer.\\n\\nMADRE: (Al novio) No tengo es un hombre. Pero e'\n",
      " 'NOVIA: Vamos a la madre. Pero como una mujer.\\n\\nMADRE: (Al novio) No tengo es un hombre. Pero c']\n",
      "---------------------------------------------\n",
      "[ 'NOVIA: Vamos a la madre. Pero como una mujer.\\n\\nMADRE: (Al novio) No tengo es un hombre. Pero es'\n",
      " 'NOVIA: Vamos a la madre. Pero como una mujer.\\n\\nMADRE: (Al novio) No tengo es un hombre. Pero es'\n",
      " 'NOVIA: Vamos a la madre. Pero como una mujer.\\n\\nMADRE: (Al novio) No tengo es un hombre. Pero es'\n",
      " 'NOVIA: Vamos a la madre. Pero como una mujer.\\n\\nMADRE: (Al novio) No tengo es un hombre. Pero es'\n",
      " 'NOVIA: Vamos a la madre. Pero como una mujer.\\n\\nMADRE: (Al novio) No tengo es un hombre. Pero es']\n",
      "---------------------------------------------\n",
      "[ 'NOVIA: Vamos a la madre. Pero como una mujer.\\n\\nMADRE: (Al novio) No tengo es un hombre. Pero es '\n",
      " 'NOVIA: Vamos a la madre. Pero como una mujer.\\n\\nMADRE: (Al novio) No tengo es un hombre. Pero es '\n",
      " 'NOVIA: Vamos a la madre. Pero como una mujer.\\n\\nMADRE: (Al novio) No tengo es un hombre. Pero es '\n",
      " 'NOVIA: Vamos a la madre. Pero como una mujer.\\n\\nMADRE: (Al novio) No tengo es un hombre. Pero es '\n",
      " 'NOVIA: Vamos a la madre. Pero como una mujer.\\n\\nMADRE: (Al novio) No tengo es un hombre. Pero es ']\n",
      "---------------------------------------------\n",
      "[ 'NOVIA: Vamos a la madre. Pero como una mujer.\\n\\nMADRE: (Al novio) No tengo es un hombre. Pero es u'\n",
      " 'NOVIA: Vamos a la madre. Pero como una mujer.\\n\\nMADRE: (Al novio) No tengo es un hombre. Pero es u'\n",
      " 'NOVIA: Vamos a la madre. Pero como una mujer.\\n\\nMADRE: (Al novio) No tengo es un hombre. Pero es e'\n",
      " 'NOVIA: Vamos a la madre. Pero como una mujer.\\n\\nMADRE: (Al novio) No tengo es un hombre. Pero es e'\n",
      " 'NOVIA: Vamos a la madre. Pero como una mujer.\\n\\nMADRE: (Al novio) No tengo es un hombre. Pero es e']\n",
      "---------------------------------------------\n",
      "[ 'NOVIA: Vamos a la madre. Pero como una mujer.\\n\\nMADRE: (Al novio) No tengo es un hombre. Pero es un'\n",
      " 'NOVIA: Vamos a la madre. Pero como una mujer.\\n\\nMADRE: (Al novio) No tengo es un hombre. Pero es un'\n",
      " 'NOVIA: Vamos a la madre. Pero como una mujer.\\n\\nMADRE: (Al novio) No tengo es un hombre. Pero es un'\n",
      " 'NOVIA: Vamos a la madre. Pero como una mujer.\\n\\nMADRE: (Al novio) No tengo es un hombre. Pero es un'\n",
      " 'NOVIA: Vamos a la madre. Pero como una mujer.\\n\\nMADRE: (Al novio) No tengo es un hombre. Pero es un']\n",
      "---------------------------------------------\n",
      "[ 'NOVIA: Vamos a la madre. Pero como una mujer.\\n\\nMADRE: (Al novio) No tengo es un hombre. Pero es un '\n",
      " 'NOVIA: Vamos a la madre. Pero como una mujer.\\n\\nMADRE: (Al novio) No tengo es un hombre. Pero es un '\n",
      " 'NOVIA: Vamos a la madre. Pero como una mujer.\\n\\nMADRE: (Al novio) No tengo es un hombre. Pero es un '\n",
      " 'NOVIA: Vamos a la madre. Pero como una mujer.\\n\\nMADRE: (Al novio) No tengo es un hombre. Pero es un '\n",
      " 'NOVIA: Vamos a la madre. Pero como una mujer.\\n\\nMADRE: (Al novio) No tengo es un hombre. Pero es un ']\n",
      "---------------------------------------------\n",
      "[ 'NOVIA: Vamos a la madre. Pero como una mujer.\\n\\nMADRE: (Al novio) No tengo es un hombre. Pero es un c'\n",
      " 'NOVIA: Vamos a la madre. Pero como una mujer.\\n\\nMADRE: (Al novio) No tengo es un hombre. Pero es un c'\n",
      " 'NOVIA: Vamos a la madre. Pero como una mujer.\\n\\nMADRE: (Al novio) No tengo es un hombre. Pero es un c'\n",
      " 'NOVIA: Vamos a la madre. Pero como una mujer.\\n\\nMADRE: (Al novio) No tengo es un hombre. Pero es un c'\n",
      " 'NOVIA: Vamos a la madre. Pero como una mujer.\\n\\nMADRE: (Al novio) No tengo es un hombre. Pero es un c']\n",
      "---------------------------------------------\n",
      "[ 'NOVIA: Vamos a la madre. Pero como una mujer.\\n\\nMADRE: (Al novio) No tengo es un hombre. Pero es un ca'\n",
      " 'NOVIA: Vamos a la madre. Pero como una mujer.\\n\\nMADRE: (Al novio) No tengo es un hombre. Pero es un ca'\n",
      " 'NOVIA: Vamos a la madre. Pero como una mujer.\\n\\nMADRE: (Al novio) No tengo es un hombre. Pero es un ca'\n",
      " 'NOVIA: Vamos a la madre. Pero como una mujer.\\n\\nMADRE: (Al novio) No tengo es un hombre. Pero es un ca'\n",
      " 'NOVIA: Vamos a la madre. Pero como una mujer.\\n\\nMADRE: (Al novio) No tengo es un hombre. Pero es un ca']\n",
      "---------------------------------------------\n",
      "[ 'NOVIA: Vamos a la madre. Pero como una mujer.\\n\\nMADRE: (Al novio) No tengo es un hombre. Pero es un cab'\n",
      " 'NOVIA: Vamos a la madre. Pero como una mujer.\\n\\nMADRE: (Al novio) No tengo es un hombre. Pero es un cab'\n",
      " 'NOVIA: Vamos a la madre. Pero como una mujer.\\n\\nMADRE: (Al novio) No tengo es un hombre. Pero es un cas'\n",
      " 'NOVIA: Vamos a la madre. Pero como una mujer.\\n\\nMADRE: (Al novio) No tengo es un hombre. Pero es un cas'\n",
      " 'NOVIA: Vamos a la madre. Pero como una mujer.\\n\\nMADRE: (Al novio) No tengo es un hombre. Pero es un cas']\n",
      "---------------------------------------------\n",
      "[ 'NOVIA: Vamos a la madre. Pero como una mujer.\\n\\nMADRE: (Al novio) No tengo es un hombre. Pero es un caba'\n",
      " 'NOVIA: Vamos a la madre. Pero como una mujer.\\n\\nMADRE: (Al novio) No tengo es un hombre. Pero es un caba'\n",
      " 'NOVIA: Vamos a la madre. Pero como una mujer.\\n\\nMADRE: (Al novio) No tengo es un hombre. Pero es un caba'\n",
      " 'NOVIA: Vamos a la madre. Pero como una mujer.\\n\\nMADRE: (Al novio) No tengo es un hombre. Pero es un caba'\n",
      " 'NOVIA: Vamos a la madre. Pero como una mujer.\\n\\nMADRE: (Al novio) No tengo es un hombre. Pero es un caba']\n",
      "---------------------------------------------\n",
      "[ 'NOVIA: Vamos a la madre. Pero como una mujer.\\n\\nMADRE: (Al novio) No tengo es un hombre. Pero es un cabal'\n",
      " 'NOVIA: Vamos a la madre. Pero como una mujer.\\n\\nMADRE: (Al novio) No tengo es un hombre. Pero es un cabal'\n",
      " 'NOVIA: Vamos a la madre. Pero como una mujer.\\n\\nMADRE: (Al novio) No tengo es un hombre. Pero es un cabal'\n",
      " 'NOVIA: Vamos a la madre. Pero como una mujer.\\n\\nMADRE: (Al novio) No tengo es un hombre. Pero es un cabal'\n",
      " 'NOVIA: Vamos a la madre. Pero como una mujer.\\n\\nMADRE: (Al novio) No tengo es un hombre. Pero es un cabal']\n",
      "---------------------------------------------\n",
      "[ 'NOVIA: Vamos a la madre. Pero como una mujer.\\n\\nMADRE: (Al novio) No tengo es un hombre. Pero es un caball'\n",
      " 'NOVIA: Vamos a la madre. Pero como una mujer.\\n\\nMADRE: (Al novio) No tengo es un hombre. Pero es un caball'\n",
      " 'NOVIA: Vamos a la madre. Pero como una mujer.\\n\\nMADRE: (Al novio) No tengo es un hombre. Pero es un caball'\n",
      " 'NOVIA: Vamos a la madre. Pero como una mujer.\\n\\nMADRE: (Al novio) No tengo es un hombre. Pero es un caball'\n",
      " 'NOVIA: Vamos a la madre. Pero como una mujer.\\n\\nMADRE: (Al novio) No tengo es un hombre. Pero es un caball']\n",
      "---------------------------------------------\n",
      "NOVIA: Vamos a la madre. Pero como una mujer.\n",
      "\n",
      "MADRE: (Al novio) No tengo es un hombre. Pero es un caballo\n"
     ]
    }
   ],
   "source": [
    "initial_phrase = 'NOVIA:'\n",
    "phrases = [initial_phrase]\n",
    "log_probs = np.zeros(len(phrases)*beam_width)\n",
    "for i in range(100):\n",
    "    print(phrases)\n",
    "    phrases, log_probs = predict_beams(phrases, log_probs, beam_width, temp=2)\n",
    "    #print(phrases)\n",
    "    #print(log_probs)\n",
    "    sorted_indexes = np.argsort(log_probs)[::-1][:beam_width]\n",
    "    log_probs = log_probs[sorted_indexes]\n",
    "    phrases = phrases[sorted_indexes]\n",
    "    print('---------------------------------------------')\n",
    "print(phrases[0])"
   ]
  },
  {
   "cell_type": "code",
   "execution_count": 41,
   "metadata": {},
   "outputs": [
    {
     "name": "stdout",
     "output_type": "stream",
     "text": [
      "NOVIA: Vamos a la madre. Pero como una mujer.\n",
      "\n",
      "MADRE: (Al novio) No tengo es un hombre. Pero es un caballo\n"
     ]
    }
   ],
   "source": [
    "print(phrases[0])"
   ]
  },
  {
   "cell_type": "markdown",
   "metadata": {},
   "source": [
    "## Algunas frases con Beam Search\n",
    "Temp = 1"
   ]
  },
  {
   "cell_type": "raw",
   "metadata": {},
   "source": [
    "NOVIA: (Seria) Ahora de casaria. (Se siente de la caballo de la caballo de la caballo de la casa.)\n",
    "\n",
    "NOVIA:"
   ]
  },
  {
   "cell_type": "markdown",
   "metadata": {},
   "source": [
    "Temp = 2\n",
    "\n",
    "NOVIA: Vamos a la madre. Pero como una mujer.\n",
    "\n",
    "MADRE: (Al novio) No tengo es un hombre. Pero es un caballo"
   ]
  },
  {
   "cell_type": "markdown",
   "metadata": {},
   "source": [
    "# Verificación Beam search"
   ]
  },
  {
   "cell_type": "code",
   "execution_count": 1101,
   "metadata": {},
   "outputs": [
    {
     "name": "stdout",
     "output_type": "stream",
     "text": [
      " (Ser\n",
      "0.525927\n",
      "0.296634\n",
      "0.278172\n",
      "0.86822\n",
      "0.606687\n"
     ]
    },
    {
     "data": {
      "text/plain": [
       "-3.7784151881933212"
      ]
     },
     "execution_count": 1101,
     "metadata": {},
     "output_type": "execute_result"
    }
   ],
   "source": [
    "selected_pred = 0 # Cual de las predicciones verifico. Deberia quedarme con la de mayor prob\n",
    "predicted_chars = phrases[selected_pred][len(initial_phrase):]\n",
    "print(predicted_chars)\n",
    "log_sum = 0\n",
    "predicted_phrase_parc = initial_phrase\n",
    "for c in predicted_chars:\n",
    "    pred_prob = predict_phrase(model, predicted_phrase_parc, verbose=False)[chars_to_indices[c]]\n",
    "    print(pred_prob)\n",
    "    predicted_phrase_parc = predicted_phrase_parc + c\n",
    "    log_sum = log_sum + np.log(pred_prob)\n",
    "log_sum"
   ]
  }
 ],
 "metadata": {
  "kernelspec": {
   "display_name": "Python 3",
   "language": "python",
   "name": "python3"
  },
  "language_info": {
   "codemirror_mode": {
    "name": "ipython",
    "version": 3
   },
   "file_extension": ".py",
   "mimetype": "text/x-python",
   "name": "python",
   "nbconvert_exporter": "python",
   "pygments_lexer": "ipython3",
   "version": "3.6.0"
  }
 },
 "nbformat": 4,
 "nbformat_minor": 2
}
