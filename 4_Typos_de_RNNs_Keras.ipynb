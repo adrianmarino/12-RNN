{
 "cells": [
  {
   "cell_type": "markdown",
   "metadata": {},
   "source": [
    "# Typos de RNNs en Keras"
   ]
  },
  {
   "cell_type": "markdown",
   "metadata": {},
   "source": [
    "https://machinelearningmastery.com/timedistributed-layer-for-long-short-term-memory-networks-in-python/"
   ]
  },
  {
   "cell_type": "markdown",
   "metadata": {},
   "source": [
    "![alt text](rnn_types.jpeg \"Title\")"
   ]
  },
  {
   "cell_type": "code",
   "execution_count": 60,
   "metadata": {},
   "outputs": [],
   "source": [
    "from numpy import array\n",
    "import numpy as np\n",
    "from keras.models import Sequential\n",
    "from keras.layers import Dense, RepeatVector, LSTM, SimpleRNN, Input, Masking, TimeDistributed\n",
    "from keras.utils.vis_utils import model_to_dot\n",
    "from IPython.display import SVG, display\n",
    "from pprint import pprint"
   ]
  },
  {
   "cell_type": "code",
   "execution_count": 61,
   "metadata": {},
   "outputs": [],
   "source": [
    "def graph_model(model):\n",
    "    converter = model_to_dot(model, show_shapes=True, show_layer_names=True)\n",
    "    image = converter.create(prog='dot', format='svg')\n",
    "    display(SVG(image))\n",
    "\n",
    "def show_model(model):\n",
    "    print(model.summary())\n",
    "    show_input_shape(model)\n",
    "    graph_model(model)\n",
    "\n",
    "def show_value(name, value): \n",
    "    print(f'\\n{name}:')\n",
    "    print(f'  - Shape: {value.shape}')\n",
    "    print(f'  - Samples: {value.shape[0]}')\n",
    "    str = np.array2string(value).replace('\\n','\\n\\t   ')\n",
    "    print(f'  - Value: {str}')\n",
    "\n",
    "def show_input_shape(model):\n",
    "    print('\\nLayers input shape:')\n",
    "    for layer in model.layers: print(f'- {layer.name}: {layer.input_shape}')\n",
    "    print()\n",
    "\n",
    "def show_output(X, y, prediction):\n",
    "    show_value('X', X)\n",
    "    show_value('y', y)\n",
    "    show_value('Prediction', prediction)"
   ]
  },
  {
   "cell_type": "markdown",
   "metadata": {},
   "source": [
    "## One-to-One\n",
    "- No se usa el tiempo.\n",
    "- Es equivalente a usar MLP."
   ]
  },
  {
   "cell_type": "code",
   "execution_count": 62,
   "metadata": {},
   "outputs": [
    {
     "name": "stdout",
     "output_type": "stream",
     "text": [
      "_________________________________________________________________\n",
      "Layer (type)                 Output Shape              Param #   \n",
      "=================================================================\n",
      "simple_rnn_18 (SimpleRNN)    (None, 2)                 8         \n",
      "_________________________________________________________________\n",
      "dense_32 (Dense)             (None, 1)                 3         \n",
      "=================================================================\n",
      "Total params: 11\n",
      "Trainable params: 11\n",
      "Non-trainable params: 0\n",
      "_________________________________________________________________\n",
      "None\n",
      "\n",
      "Layers input shape:\n",
      "- simple_rnn_18: (None, 1, 1)\n",
      "- dense_32: (None, 2)\n",
      "\n"
     ]
    },
    {
     "data": {
      "image/svg+xml": [
       "<svg height=\"211pt\" viewBox=\"0.00 0.00 392.00 211.00\" width=\"392pt\" xmlns=\"http://www.w3.org/2000/svg\" xmlns:xlink=\"http://www.w3.org/1999/xlink\">\n",
       "<g class=\"graph\" id=\"graph0\" transform=\"scale(1 1) rotate(0) translate(4 207)\">\n",
       "<title>G</title>\n",
       "<polygon fill=\"white\" points=\"-4,4 -4,-207 388,-207 388,4 -4,4\" stroke=\"none\"/>\n",
       "<!-- 140604661812528 -->\n",
       "<g class=\"node\" id=\"node1\"><title>140604661812528</title>\n",
       "<polygon fill=\"none\" points=\"0,-83.5 0,-129.5 384,-129.5 384,-83.5 0,-83.5\" stroke=\"black\"/>\n",
       "<text font-family=\"Times,serif\" font-size=\"14.00\" text-anchor=\"middle\" x=\"107.5\" y=\"-102.8\">simple_rnn_18: SimpleRNN</text>\n",
       "<polyline fill=\"none\" points=\"215,-83.5 215,-129.5 \" stroke=\"black\"/>\n",
       "<text font-family=\"Times,serif\" font-size=\"14.00\" text-anchor=\"middle\" x=\"249\" y=\"-114.3\">input:</text>\n",
       "<polyline fill=\"none\" points=\"215,-106.5 283,-106.5 \" stroke=\"black\"/>\n",
       "<text font-family=\"Times,serif\" font-size=\"14.00\" text-anchor=\"middle\" x=\"249\" y=\"-91.3\">output:</text>\n",
       "<polyline fill=\"none\" points=\"283,-83.5 283,-129.5 \" stroke=\"black\"/>\n",
       "<text font-family=\"Times,serif\" font-size=\"14.00\" text-anchor=\"middle\" x=\"333.5\" y=\"-114.3\">(None, 1, 1)</text>\n",
       "<polyline fill=\"none\" points=\"283,-106.5 384,-106.5 \" stroke=\"black\"/>\n",
       "<text font-family=\"Times,serif\" font-size=\"14.00\" text-anchor=\"middle\" x=\"333.5\" y=\"-91.3\">(None, 2)</text>\n",
       "</g>\n",
       "<!-- 140604958719840 -->\n",
       "<g class=\"node\" id=\"node2\"><title>140604958719840</title>\n",
       "<polygon fill=\"none\" points=\"48,-0.5 48,-46.5 336,-46.5 336,-0.5 48,-0.5\" stroke=\"black\"/>\n",
       "<text font-family=\"Times,serif\" font-size=\"14.00\" text-anchor=\"middle\" x=\"116.5\" y=\"-19.8\">dense_32: Dense</text>\n",
       "<polyline fill=\"none\" points=\"185,-0.5 185,-46.5 \" stroke=\"black\"/>\n",
       "<text font-family=\"Times,serif\" font-size=\"14.00\" text-anchor=\"middle\" x=\"219\" y=\"-31.3\">input:</text>\n",
       "<polyline fill=\"none\" points=\"185,-23.5 253,-23.5 \" stroke=\"black\"/>\n",
       "<text font-family=\"Times,serif\" font-size=\"14.00\" text-anchor=\"middle\" x=\"219\" y=\"-8.3\">output:</text>\n",
       "<polyline fill=\"none\" points=\"253,-0.5 253,-46.5 \" stroke=\"black\"/>\n",
       "<text font-family=\"Times,serif\" font-size=\"14.00\" text-anchor=\"middle\" x=\"294.5\" y=\"-31.3\">(None, 2)</text>\n",
       "<polyline fill=\"none\" points=\"253,-23.5 336,-23.5 \" stroke=\"black\"/>\n",
       "<text font-family=\"Times,serif\" font-size=\"14.00\" text-anchor=\"middle\" x=\"294.5\" y=\"-8.3\">(None, 1)</text>\n",
       "</g>\n",
       "<!-- 140604661812528&#45;&gt;140604958719840 -->\n",
       "<g class=\"edge\" id=\"edge2\"><title>140604661812528-&gt;140604958719840</title>\n",
       "<path d=\"M192,-83.3664C192,-75.1516 192,-65.6579 192,-56.7252\" fill=\"none\" stroke=\"black\"/>\n",
       "<polygon fill=\"black\" points=\"195.5,-56.6068 192,-46.6068 188.5,-56.6069 195.5,-56.6068\" stroke=\"black\"/>\n",
       "</g>\n",
       "<!-- 140604679631816 -->\n",
       "<g class=\"node\" id=\"node3\"><title>140604679631816</title>\n",
       "<polygon fill=\"none\" points=\"116,-166.5 116,-202.5 268,-202.5 268,-166.5 116,-166.5\" stroke=\"black\"/>\n",
       "<text font-family=\"Times,serif\" font-size=\"14.00\" text-anchor=\"middle\" x=\"192\" y=\"-180.8\">140604679631816</text>\n",
       "</g>\n",
       "<!-- 140604679631816&#45;&gt;140604661812528 -->\n",
       "<g class=\"edge\" id=\"edge1\"><title>140604679631816-&gt;140604661812528</title>\n",
       "<path d=\"M192,-166.254C192,-158.363 192,-148.749 192,-139.602\" fill=\"none\" stroke=\"black\"/>\n",
       "<polygon fill=\"black\" points=\"195.5,-139.591 192,-129.591 188.5,-139.591 195.5,-139.591\" stroke=\"black\"/>\n",
       "</g>\n",
       "</g>\n",
       "</svg>"
      ],
      "text/plain": [
       "<IPython.core.display.SVG object>"
      ]
     },
     "metadata": {},
     "output_type": "display_data"
    }
   ],
   "source": [
    "# prepare sequence\n",
    "length = 5\n",
    "\n",
    "seq = array([i/float(length) for i in range(length)])\n",
    "\n",
    "X = seq.reshape(len(seq), 1, 1)\n",
    "y = seq.reshape(len(seq), 1)\n",
    "\n",
    "n_neurons = 2\n",
    "\n",
    "# create LSTM\n",
    "model = Sequential()\n",
    "model.add(SimpleRNN(n_neurons, input_shape=(1, 1)))\n",
    "model.add(Dense(1))\n",
    "model.compile(loss='mean_squared_error', optimizer='adam')\n",
    "\n",
    "show_model(model)"
   ]
  },
  {
   "cell_type": "markdown",
   "metadata": {},
   "source": [
    "### Calculo de nº de parametros en una capa oculta de la RNN\n",
    "\n",
    "* M = Nº de neuronas.\n",
    "* N = Nº de features.\n",
    "\n",
    "**Nº Parametros = M^2 + M + (N*M)**\n",
    "\n",
    "\n",
    "=> Si M=2 y N=1 => Cantitdad de parametros = 2^2 + 2 + 1*2 = 4 + 2 + 2 = 8\n",
    "\n",
    "### Calculo de nº de parametros en una capa Densa\n",
    "\n",
    "* A = Nº de entradas a la capa densa.\n",
    "* B = Nº de neuronas de la capa densa.\n",
    "\n",
    "**Nº Parametros = B*A + B** (Se suma B por que hay un bias por cada neurona).\n",
    "\n",
    "=> Si A=2 y B=1 => Cantitdad de parametros = 1*2 + 1 = 3"
   ]
  },
  {
   "cell_type": "code",
   "execution_count": 63,
   "metadata": {},
   "outputs": [
    {
     "data": {
      "text/plain": [
       "<keras.callbacks.History at 0x7fe11329ed30>"
      ]
     },
     "execution_count": 63,
     "metadata": {},
     "output_type": "execute_result"
    }
   ],
   "source": [
    "# train LSTM\n",
    "\n",
    "n_batch = length\n",
    "n_epoch = 2000\n",
    "\n",
    "model.fit(X, y, epochs=n_epoch, batch_size=n_batch, verbose=0)"
   ]
  },
  {
   "cell_type": "code",
   "execution_count": 64,
   "metadata": {},
   "outputs": [
    {
     "name": "stdout",
     "output_type": "stream",
     "text": [
      "\n",
      "X:\n",
      "  - Shape: (5, 1, 1)\n",
      "  - Samples: 5\n",
      "  - Value: [[[0. ]]\n",
      "\t   \n",
      "\t    [[0.2]]\n",
      "\t   \n",
      "\t    [[0.4]]\n",
      "\t   \n",
      "\t    [[0.6]]\n",
      "\t   \n",
      "\t    [[0.8]]]\n",
      "\n",
      "y:\n",
      "  - Shape: (5, 1)\n",
      "  - Samples: 5\n",
      "  - Value: [[0. ]\n",
      "\t    [0.2]\n",
      "\t    [0.4]\n",
      "\t    [0.6]\n",
      "\t    [0.8]]\n",
      "\n",
      "Prediction:\n",
      "  - Shape: (5, 1)\n",
      "  - Samples: 5\n",
      "  - Value: [[-0.01447999]\n",
      "\t    [ 0.2056413 ]\n",
      "\t    [ 0.41680524]\n",
      "\t    [ 0.6102489 ]\n",
      "\t    [ 0.78012145]]\n"
     ]
    }
   ],
   "source": [
    "result = model.predict(X, batch_size=n_batch, verbose=0)\n",
    "\n",
    "show_output(X, y, result)"
   ]
  },
  {
   "cell_type": "markdown",
   "metadata": {},
   "source": [
    "**Nota**\n",
    "* Son 5 muestras.\n",
    "* No es una secuencia ya que T=1.\n",
    "* Cada muestra de 1 feature."
   ]
  },
  {
   "cell_type": "markdown",
   "metadata": {},
   "source": [
    "## Many-to-one"
   ]
  },
  {
   "cell_type": "markdown",
   "metadata": {},
   "source": [
    "- Otro ejemplo sería el de generación de texto como el de \"Bodas de Sangre\"\n",
    "- Sentiment analisys\n",
    "- Detección de SPAM\n",
    "- Interesante utilizar Global Max pooling en vez de return_sequences en false. Para secuencias largas esto puede ser mas eficiente debido a la naturaleza de las RNN de quizas olvidar el largo plazo. (Ejemplo: Mail largo en detección de SPAM donde al principio hay algo que determina muy claramente que es SPAM)"
   ]
  },
  {
   "cell_type": "code",
   "execution_count": 65,
   "metadata": {},
   "outputs": [
    {
     "name": "stdout",
     "output_type": "stream",
     "text": [
      "_________________________________________________________________\n",
      "Layer (type)                 Output Shape              Param #   \n",
      "=================================================================\n",
      "simple_rnn_19 (SimpleRNN)    (None, 2)                 8         \n",
      "_________________________________________________________________\n",
      "dense_33 (Dense)             (None, 5)                 15        \n",
      "=================================================================\n",
      "Total params: 23\n",
      "Trainable params: 23\n",
      "Non-trainable params: 0\n",
      "_________________________________________________________________\n",
      "None\n",
      "\n",
      "Layers input shape:\n",
      "- simple_rnn_19: (None, 5, 1)\n",
      "- dense_33: (None, 2)\n",
      "\n"
     ]
    },
    {
     "data": {
      "image/svg+xml": [
       "<svg height=\"211pt\" viewBox=\"0.00 0.00 392.00 211.00\" width=\"392pt\" xmlns=\"http://www.w3.org/2000/svg\" xmlns:xlink=\"http://www.w3.org/1999/xlink\">\n",
       "<g class=\"graph\" id=\"graph0\" transform=\"scale(1 1) rotate(0) translate(4 207)\">\n",
       "<title>G</title>\n",
       "<polygon fill=\"white\" points=\"-4,4 -4,-207 388,-207 388,4 -4,4\" stroke=\"none\"/>\n",
       "<!-- 140604652784384 -->\n",
       "<g class=\"node\" id=\"node1\"><title>140604652784384</title>\n",
       "<polygon fill=\"none\" points=\"0,-83.5 0,-129.5 384,-129.5 384,-83.5 0,-83.5\" stroke=\"black\"/>\n",
       "<text font-family=\"Times,serif\" font-size=\"14.00\" text-anchor=\"middle\" x=\"107.5\" y=\"-102.8\">simple_rnn_19: SimpleRNN</text>\n",
       "<polyline fill=\"none\" points=\"215,-83.5 215,-129.5 \" stroke=\"black\"/>\n",
       "<text font-family=\"Times,serif\" font-size=\"14.00\" text-anchor=\"middle\" x=\"249\" y=\"-114.3\">input:</text>\n",
       "<polyline fill=\"none\" points=\"215,-106.5 283,-106.5 \" stroke=\"black\"/>\n",
       "<text font-family=\"Times,serif\" font-size=\"14.00\" text-anchor=\"middle\" x=\"249\" y=\"-91.3\">output:</text>\n",
       "<polyline fill=\"none\" points=\"283,-83.5 283,-129.5 \" stroke=\"black\"/>\n",
       "<text font-family=\"Times,serif\" font-size=\"14.00\" text-anchor=\"middle\" x=\"333.5\" y=\"-114.3\">(None, 5, 1)</text>\n",
       "<polyline fill=\"none\" points=\"283,-106.5 384,-106.5 \" stroke=\"black\"/>\n",
       "<text font-family=\"Times,serif\" font-size=\"14.00\" text-anchor=\"middle\" x=\"333.5\" y=\"-91.3\">(None, 2)</text>\n",
       "</g>\n",
       "<!-- 140604652784328 -->\n",
       "<g class=\"node\" id=\"node2\"><title>140604652784328</title>\n",
       "<polygon fill=\"none\" points=\"48,-0.5 48,-46.5 336,-46.5 336,-0.5 48,-0.5\" stroke=\"black\"/>\n",
       "<text font-family=\"Times,serif\" font-size=\"14.00\" text-anchor=\"middle\" x=\"116.5\" y=\"-19.8\">dense_33: Dense</text>\n",
       "<polyline fill=\"none\" points=\"185,-0.5 185,-46.5 \" stroke=\"black\"/>\n",
       "<text font-family=\"Times,serif\" font-size=\"14.00\" text-anchor=\"middle\" x=\"219\" y=\"-31.3\">input:</text>\n",
       "<polyline fill=\"none\" points=\"185,-23.5 253,-23.5 \" stroke=\"black\"/>\n",
       "<text font-family=\"Times,serif\" font-size=\"14.00\" text-anchor=\"middle\" x=\"219\" y=\"-8.3\">output:</text>\n",
       "<polyline fill=\"none\" points=\"253,-0.5 253,-46.5 \" stroke=\"black\"/>\n",
       "<text font-family=\"Times,serif\" font-size=\"14.00\" text-anchor=\"middle\" x=\"294.5\" y=\"-31.3\">(None, 2)</text>\n",
       "<polyline fill=\"none\" points=\"253,-23.5 336,-23.5 \" stroke=\"black\"/>\n",
       "<text font-family=\"Times,serif\" font-size=\"14.00\" text-anchor=\"middle\" x=\"294.5\" y=\"-8.3\">(None, 5)</text>\n",
       "</g>\n",
       "<!-- 140604652784384&#45;&gt;140604652784328 -->\n",
       "<g class=\"edge\" id=\"edge2\"><title>140604652784384-&gt;140604652784328</title>\n",
       "<path d=\"M192,-83.3664C192,-75.1516 192,-65.6579 192,-56.7252\" fill=\"none\" stroke=\"black\"/>\n",
       "<polygon fill=\"black\" points=\"195.5,-56.6068 192,-46.6068 188.5,-56.6069 195.5,-56.6068\" stroke=\"black\"/>\n",
       "</g>\n",
       "<!-- 140604652784216 -->\n",
       "<g class=\"node\" id=\"node3\"><title>140604652784216</title>\n",
       "<polygon fill=\"none\" points=\"116,-166.5 116,-202.5 268,-202.5 268,-166.5 116,-166.5\" stroke=\"black\"/>\n",
       "<text font-family=\"Times,serif\" font-size=\"14.00\" text-anchor=\"middle\" x=\"192\" y=\"-180.8\">140604652784216</text>\n",
       "</g>\n",
       "<!-- 140604652784216&#45;&gt;140604652784384 -->\n",
       "<g class=\"edge\" id=\"edge1\"><title>140604652784216-&gt;140604652784384</title>\n",
       "<path d=\"M192,-166.254C192,-158.363 192,-148.749 192,-139.602\" fill=\"none\" stroke=\"black\"/>\n",
       "<polygon fill=\"black\" points=\"195.5,-139.591 192,-129.591 188.5,-139.591 195.5,-139.591\" stroke=\"black\"/>\n",
       "</g>\n",
       "</g>\n",
       "</svg>"
      ],
      "text/plain": [
       "<IPython.core.display.SVG object>"
      ]
     },
     "metadata": {},
     "output_type": "display_data"
    }
   ],
   "source": [
    "# Prepare sequence\n",
    "length = 5\n",
    "\n",
    "seq = array([i/float(length) for i in range(length)])\n",
    "\n",
    "X = seq.reshape(1, length, 1)\n",
    "y = seq.reshape(1, length)\n",
    "\n",
    "n_neurons = 2\n",
    "\n",
    "# Create LSTM\n",
    "model = Sequential()\n",
    "model.add(SimpleRNN(n_neurons, input_shape=(length, 1)))\n",
    "model.add(Dense(length))\n",
    "model.compile(loss='mean_squared_error', optimizer='adam')\n",
    "\n",
    "show_model(model)"
   ]
  },
  {
   "cell_type": "code",
   "execution_count": 66,
   "metadata": {},
   "outputs": [
    {
     "data": {
      "text/plain": [
       "<keras.callbacks.History at 0x7fe1267179e8>"
      ]
     },
     "execution_count": 66,
     "metadata": {},
     "output_type": "execute_result"
    }
   ],
   "source": [
    "# train LSTM\n",
    "n_batch = 1\n",
    "n_epoch = 1000\n",
    "\n",
    "model.fit(X, y, epochs=n_epoch, batch_size=n_batch, verbose=0)"
   ]
  },
  {
   "cell_type": "code",
   "execution_count": 67,
   "metadata": {
    "scrolled": true
   },
   "outputs": [
    {
     "name": "stdout",
     "output_type": "stream",
     "text": [
      "\n",
      "X:\n",
      "  - Shape: (1, 5, 1)\n",
      "  - Samples: 1\n",
      "  - Value: [[[0. ]\n",
      "\t     [0.2]\n",
      "\t     [0.4]\n",
      "\t     [0.6]\n",
      "\t     [0.8]]]\n",
      "\n",
      "y:\n",
      "  - Shape: (1, 5)\n",
      "  - Samples: 1\n",
      "  - Value: [[0.  0.2 0.4 0.6 0.8]]\n",
      "\n",
      "Prediction:\n",
      "  - Shape: (1, 5)\n",
      "  - Samples: 1\n",
      "  - Value: [[-3.2782555e-07  1.9999032e-01  3.9990950e-01  6.0004365e-01\n",
      "\t      8.0000210e-01]]\n"
     ]
    }
   ],
   "source": [
    "result = model.predict(X, batch_size=n_batch, verbose=0)\n",
    "\n",
    "show_output(X, y, result)"
   ]
  },
  {
   "cell_type": "markdown",
   "metadata": {},
   "source": [
    "**Nota**\n",
    "* En la entrada una sola muestra con una secuencia de T=5 y 1 feature.\n",
    "* A la salida de la RNN, solo toma las 2 neuronas de la **ultima etapa temporal** y las combina hacia una capa densa de 5 neuronas. \n",
    "\n",
    "**Nº parametros de capa densa** = 2x5 + 5(bias de cada neurona de la densa) = 15"
   ]
  },
  {
   "cell_type": "markdown",
   "metadata": {},
   "source": [
    "## Many-to-Many\n",
    "- POS es un buen ejemplo\n",
    "- Igual que tramas de video"
   ]
  },
  {
   "cell_type": "code",
   "execution_count": 68,
   "metadata": {},
   "outputs": [
    {
     "name": "stdout",
     "output_type": "stream",
     "text": [
      "_________________________________________________________________\n",
      "Layer (type)                 Output Shape              Param #   \n",
      "=================================================================\n",
      "simple_rnn_20 (SimpleRNN)    (None, 5, 2)              8         \n",
      "_________________________________________________________________\n",
      "time_distributed_5 (TimeDist (None, 5, 1)              3         \n",
      "=================================================================\n",
      "Total params: 11\n",
      "Trainable params: 11\n",
      "Non-trainable params: 0\n",
      "_________________________________________________________________\n",
      "None\n",
      "\n",
      "Layers input shape:\n",
      "- simple_rnn_20: (None, 5, 1)\n",
      "- time_distributed_5: (None, 5, 2)\n",
      "\n"
     ]
    },
    {
     "data": {
      "image/svg+xml": [
       "<svg height=\"211pt\" viewBox=\"0.00 0.00 588.00 211.00\" width=\"588pt\" xmlns=\"http://www.w3.org/2000/svg\" xmlns:xlink=\"http://www.w3.org/1999/xlink\">\n",
       "<g class=\"graph\" id=\"graph0\" transform=\"scale(1 1) rotate(0) translate(4 207)\">\n",
       "<title>G</title>\n",
       "<polygon fill=\"white\" points=\"-4,4 -4,-207 584,-207 584,4 -4,4\" stroke=\"none\"/>\n",
       "<!-- 140604645874824 -->\n",
       "<g class=\"node\" id=\"node1\"><title>140604645874824</title>\n",
       "<polygon fill=\"none\" points=\"98,-83.5 98,-129.5 482,-129.5 482,-83.5 98,-83.5\" stroke=\"black\"/>\n",
       "<text font-family=\"Times,serif\" font-size=\"14.00\" text-anchor=\"middle\" x=\"205.5\" y=\"-102.8\">simple_rnn_20: SimpleRNN</text>\n",
       "<polyline fill=\"none\" points=\"313,-83.5 313,-129.5 \" stroke=\"black\"/>\n",
       "<text font-family=\"Times,serif\" font-size=\"14.00\" text-anchor=\"middle\" x=\"347\" y=\"-114.3\">input:</text>\n",
       "<polyline fill=\"none\" points=\"313,-106.5 381,-106.5 \" stroke=\"black\"/>\n",
       "<text font-family=\"Times,serif\" font-size=\"14.00\" text-anchor=\"middle\" x=\"347\" y=\"-91.3\">output:</text>\n",
       "<polyline fill=\"none\" points=\"381,-83.5 381,-129.5 \" stroke=\"black\"/>\n",
       "<text font-family=\"Times,serif\" font-size=\"14.00\" text-anchor=\"middle\" x=\"431.5\" y=\"-114.3\">(None, 5, 1)</text>\n",
       "<polyline fill=\"none\" points=\"381,-106.5 482,-106.5 \" stroke=\"black\"/>\n",
       "<text font-family=\"Times,serif\" font-size=\"14.00\" text-anchor=\"middle\" x=\"431.5\" y=\"-91.3\">(None, 5, 2)</text>\n",
       "</g>\n",
       "<!-- 140604645672608 -->\n",
       "<g class=\"node\" id=\"node2\"><title>140604645672608</title>\n",
       "<polygon fill=\"none\" points=\"0,-0.5 0,-46.5 580,-46.5 580,-0.5 0,-0.5\" stroke=\"black\"/>\n",
       "<text font-family=\"Times,serif\" font-size=\"14.00\" text-anchor=\"middle\" x=\"205.5\" y=\"-19.8\">time_distributed_5(dense_34): TimeDistributed(Dense)</text>\n",
       "<polyline fill=\"none\" points=\"411,-0.5 411,-46.5 \" stroke=\"black\"/>\n",
       "<text font-family=\"Times,serif\" font-size=\"14.00\" text-anchor=\"middle\" x=\"445\" y=\"-31.3\">input:</text>\n",
       "<polyline fill=\"none\" points=\"411,-23.5 479,-23.5 \" stroke=\"black\"/>\n",
       "<text font-family=\"Times,serif\" font-size=\"14.00\" text-anchor=\"middle\" x=\"445\" y=\"-8.3\">output:</text>\n",
       "<polyline fill=\"none\" points=\"479,-0.5 479,-46.5 \" stroke=\"black\"/>\n",
       "<text font-family=\"Times,serif\" font-size=\"14.00\" text-anchor=\"middle\" x=\"529.5\" y=\"-31.3\">(None, 5, 2)</text>\n",
       "<polyline fill=\"none\" points=\"479,-23.5 580,-23.5 \" stroke=\"black\"/>\n",
       "<text font-family=\"Times,serif\" font-size=\"14.00\" text-anchor=\"middle\" x=\"529.5\" y=\"-8.3\">(None, 5, 1)</text>\n",
       "</g>\n",
       "<!-- 140604645874824&#45;&gt;140604645672608 -->\n",
       "<g class=\"edge\" id=\"edge2\"><title>140604645874824-&gt;140604645672608</title>\n",
       "<path d=\"M290,-83.3664C290,-75.1516 290,-65.6579 290,-56.7252\" fill=\"none\" stroke=\"black\"/>\n",
       "<polygon fill=\"black\" points=\"293.5,-56.6068 290,-46.6068 286.5,-56.6069 293.5,-56.6068\" stroke=\"black\"/>\n",
       "</g>\n",
       "<!-- 140604645875216 -->\n",
       "<g class=\"node\" id=\"node3\"><title>140604645875216</title>\n",
       "<polygon fill=\"none\" points=\"214,-166.5 214,-202.5 366,-202.5 366,-166.5 214,-166.5\" stroke=\"black\"/>\n",
       "<text font-family=\"Times,serif\" font-size=\"14.00\" text-anchor=\"middle\" x=\"290\" y=\"-180.8\">140604645875216</text>\n",
       "</g>\n",
       "<!-- 140604645875216&#45;&gt;140604645874824 -->\n",
       "<g class=\"edge\" id=\"edge1\"><title>140604645875216-&gt;140604645874824</title>\n",
       "<path d=\"M290,-166.254C290,-158.363 290,-148.749 290,-139.602\" fill=\"none\" stroke=\"black\"/>\n",
       "<polygon fill=\"black\" points=\"293.5,-139.591 290,-129.591 286.5,-139.591 293.5,-139.591\" stroke=\"black\"/>\n",
       "</g>\n",
       "</g>\n",
       "</svg>"
      ],
      "text/plain": [
       "<IPython.core.display.SVG object>"
      ]
     },
     "metadata": {},
     "output_type": "display_data"
    }
   ],
   "source": [
    "# Prepare sequence\n",
    "length = 5\n",
    "\n",
    "seq = array([i/float(length) for i in range(length)])\n",
    "\n",
    "X = seq.reshape(1, length, 1)\n",
    "y = seq.reshape(1, length, 1)\n",
    "\n",
    "# Define LSTM configuration\n",
    "n_neurons = 2\n",
    "\n",
    "# Create LSTM\n",
    "model = Sequential()\n",
    "model.add(SimpleRNN(n_neurons, input_shape=(length, 1), return_sequences=True))\n",
    "\n",
    "# Probar de cambiar Dense(2), etc\n",
    "model.add(TimeDistributed(Dense(1)))\n",
    "\n",
    "# model.add(Dense(1))\n",
    "\n",
    "model.compile(loss='mean_squared_error', optimizer='adam')\n",
    "\n",
    "show_model(model)"
   ]
  },
  {
   "cell_type": "code",
   "execution_count": 69,
   "metadata": {},
   "outputs": [
    {
     "data": {
      "text/plain": [
       "<keras.callbacks.History at 0x7fe111f89128>"
      ]
     },
     "execution_count": 69,
     "metadata": {},
     "output_type": "execute_result"
    }
   ],
   "source": [
    "# Train LSTM\n",
    "n_batch = 1\n",
    "n_epoch = 2000\n",
    "\n",
    "model.fit(X, y, epochs=n_epoch, batch_size=n_batch, verbose=0)"
   ]
  },
  {
   "cell_type": "code",
   "execution_count": 70,
   "metadata": {},
   "outputs": [
    {
     "name": "stdout",
     "output_type": "stream",
     "text": [
      "\n",
      "X:\n",
      "  - Shape: (1, 5, 1)\n",
      "  - Samples: 1\n",
      "  - Value: [[[0. ]\n",
      "\t     [0.2]\n",
      "\t     [0.4]\n",
      "\t     [0.6]\n",
      "\t     [0.8]]]\n",
      "\n",
      "y:\n",
      "  - Shape: (1, 5, 1)\n",
      "  - Samples: 1\n",
      "  - Value: [[[0. ]\n",
      "\t     [0.2]\n",
      "\t     [0.4]\n",
      "\t     [0.6]\n",
      "\t     [0.8]]]\n",
      "\n",
      "Prediction:\n",
      "  - Shape: (1, 5, 1)\n",
      "  - Samples: 1\n",
      "  - Value: [[[0.00383428]\n",
      "\t     [0.19948396]\n",
      "\t     [0.3903849 ]\n",
      "\t     [0.61046374]\n",
      "\t     [0.7966172 ]]]\n"
     ]
    }
   ],
   "source": [
    "result = model.predict(X, batch_size=n_batch, verbose=0)\n",
    "\n",
    "show_output(X, y, result)"
   ]
  },
  {
   "cell_type": "markdown",
   "metadata": {},
   "source": [
    "**Nota**\n",
    "* La salida toma las 5 salidas temporales.\n",
    "* Una neurona por cada T: Cada salida de la RNN va hacia una densa de una neurona.\n",
    "* Los pesos se comparten.\n",
    "    * Si lo pensamos bien hay solo 3 parametros en la capa densa.\n",
    "    * Por que? Bueno si tenemos en cuenta que en una RNN los pessos de cada salida temporal hacia la densa se comparten (entre todas la salidas temporales), el número de parametros de la densa no cambia para N salidas temporales, siempre va a ser 3. "
   ]
  },
  {
   "cell_type": "markdown",
   "metadata": {},
   "source": [
    "## One-to-Many"
   ]
  },
  {
   "cell_type": "code",
   "execution_count": 79,
   "metadata": {},
   "outputs": [
    {
     "name": "stdout",
     "output_type": "stream",
     "text": [
      "_________________________________________________________________\n",
      "Layer (type)                 Output Shape              Param #   \n",
      "=================================================================\n",
      "dense_43 (Dense)             (None, 1)                 2         \n",
      "_________________________________________________________________\n",
      "repeat_vector_23 (RepeatVect (None, 10, 1)             0         \n",
      "_________________________________________________________________\n",
      "lstm_22 (LSTM)               (None, 10, 1)             12        \n",
      "=================================================================\n",
      "Total params: 14\n",
      "Trainable params: 14\n",
      "Non-trainable params: 0\n",
      "_________________________________________________________________\n",
      "None\n",
      "\n",
      "Layers input shape:\n",
      "- dense_43: (None, 1)\n",
      "- repeat_vector_23: (None, 1)\n",
      "- lstm_22: (None, 10, 1)\n",
      "\n"
     ]
    },
    {
     "data": {
      "image/svg+xml": [
       "<svg height=\"294pt\" viewBox=\"0.00 0.00 435.00 294.00\" width=\"435pt\" xmlns=\"http://www.w3.org/2000/svg\" xmlns:xlink=\"http://www.w3.org/1999/xlink\">\n",
       "<g class=\"graph\" id=\"graph0\" transform=\"scale(1 1) rotate(0) translate(4 290)\">\n",
       "<title>G</title>\n",
       "<polygon fill=\"white\" points=\"-4,4 -4,-290 431,-290 431,4 -4,4\" stroke=\"none\"/>\n",
       "<!-- 140604674126008 -->\n",
       "<g class=\"node\" id=\"node1\"><title>140604674126008</title>\n",
       "<polygon fill=\"none\" points=\"69.5,-166.5 69.5,-212.5 357.5,-212.5 357.5,-166.5 69.5,-166.5\" stroke=\"black\"/>\n",
       "<text font-family=\"Times,serif\" font-size=\"14.00\" text-anchor=\"middle\" x=\"138\" y=\"-185.8\">dense_43: Dense</text>\n",
       "<polyline fill=\"none\" points=\"206.5,-166.5 206.5,-212.5 \" stroke=\"black\"/>\n",
       "<text font-family=\"Times,serif\" font-size=\"14.00\" text-anchor=\"middle\" x=\"240.5\" y=\"-197.3\">input:</text>\n",
       "<polyline fill=\"none\" points=\"206.5,-189.5 274.5,-189.5 \" stroke=\"black\"/>\n",
       "<text font-family=\"Times,serif\" font-size=\"14.00\" text-anchor=\"middle\" x=\"240.5\" y=\"-174.3\">output:</text>\n",
       "<polyline fill=\"none\" points=\"274.5,-166.5 274.5,-212.5 \" stroke=\"black\"/>\n",
       "<text font-family=\"Times,serif\" font-size=\"14.00\" text-anchor=\"middle\" x=\"316\" y=\"-197.3\">(None, 1)</text>\n",
       "<polyline fill=\"none\" points=\"274.5,-189.5 357.5,-189.5 \" stroke=\"black\"/>\n",
       "<text font-family=\"Times,serif\" font-size=\"14.00\" text-anchor=\"middle\" x=\"316\" y=\"-174.3\">(None, 1)</text>\n",
       "</g>\n",
       "<!-- 140604646340200 -->\n",
       "<g class=\"node\" id=\"node2\"><title>140604646340200</title>\n",
       "<polygon fill=\"none\" points=\"0,-83.5 0,-129.5 427,-129.5 427,-83.5 0,-83.5\" stroke=\"black\"/>\n",
       "<text font-family=\"Times,serif\" font-size=\"14.00\" text-anchor=\"middle\" x=\"124.5\" y=\"-102.8\">repeat_vector_23: RepeatVector</text>\n",
       "<polyline fill=\"none\" points=\"249,-83.5 249,-129.5 \" stroke=\"black\"/>\n",
       "<text font-family=\"Times,serif\" font-size=\"14.00\" text-anchor=\"middle\" x=\"283\" y=\"-114.3\">input:</text>\n",
       "<polyline fill=\"none\" points=\"249,-106.5 317,-106.5 \" stroke=\"black\"/>\n",
       "<text font-family=\"Times,serif\" font-size=\"14.00\" text-anchor=\"middle\" x=\"283\" y=\"-91.3\">output:</text>\n",
       "<polyline fill=\"none\" points=\"317,-83.5 317,-129.5 \" stroke=\"black\"/>\n",
       "<text font-family=\"Times,serif\" font-size=\"14.00\" text-anchor=\"middle\" x=\"372\" y=\"-114.3\">(None, 1)</text>\n",
       "<polyline fill=\"none\" points=\"317,-106.5 427,-106.5 \" stroke=\"black\"/>\n",
       "<text font-family=\"Times,serif\" font-size=\"14.00\" text-anchor=\"middle\" x=\"372\" y=\"-91.3\">(None, 10, 1)</text>\n",
       "</g>\n",
       "<!-- 140604674126008&#45;&gt;140604646340200 -->\n",
       "<g class=\"edge\" id=\"edge2\"><title>140604674126008-&gt;140604646340200</title>\n",
       "<path d=\"M213.5,-166.366C213.5,-158.152 213.5,-148.658 213.5,-139.725\" fill=\"none\" stroke=\"black\"/>\n",
       "<polygon fill=\"black\" points=\"217,-139.607 213.5,-129.607 210,-139.607 217,-139.607\" stroke=\"black\"/>\n",
       "</g>\n",
       "<!-- 140604674127856 -->\n",
       "<g class=\"node\" id=\"node3\"><title>140604674127856</title>\n",
       "<polygon fill=\"none\" points=\"62,-0.5 62,-46.5 365,-46.5 365,-0.5 62,-0.5\" stroke=\"black\"/>\n",
       "<text font-family=\"Times,serif\" font-size=\"14.00\" text-anchor=\"middle\" x=\"124.5\" y=\"-19.8\">lstm_22: LSTM</text>\n",
       "<polyline fill=\"none\" points=\"187,-0.5 187,-46.5 \" stroke=\"black\"/>\n",
       "<text font-family=\"Times,serif\" font-size=\"14.00\" text-anchor=\"middle\" x=\"221\" y=\"-31.3\">input:</text>\n",
       "<polyline fill=\"none\" points=\"187,-23.5 255,-23.5 \" stroke=\"black\"/>\n",
       "<text font-family=\"Times,serif\" font-size=\"14.00\" text-anchor=\"middle\" x=\"221\" y=\"-8.3\">output:</text>\n",
       "<polyline fill=\"none\" points=\"255,-0.5 255,-46.5 \" stroke=\"black\"/>\n",
       "<text font-family=\"Times,serif\" font-size=\"14.00\" text-anchor=\"middle\" x=\"310\" y=\"-31.3\">(None, 10, 1)</text>\n",
       "<polyline fill=\"none\" points=\"255,-23.5 365,-23.5 \" stroke=\"black\"/>\n",
       "<text font-family=\"Times,serif\" font-size=\"14.00\" text-anchor=\"middle\" x=\"310\" y=\"-8.3\">(None, 10, 1)</text>\n",
       "</g>\n",
       "<!-- 140604646340200&#45;&gt;140604674127856 -->\n",
       "<g class=\"edge\" id=\"edge3\"><title>140604646340200-&gt;140604674127856</title>\n",
       "<path d=\"M213.5,-83.3664C213.5,-75.1516 213.5,-65.6579 213.5,-56.7252\" fill=\"none\" stroke=\"black\"/>\n",
       "<polygon fill=\"black\" points=\"217,-56.6068 213.5,-46.6068 210,-56.6069 217,-56.6068\" stroke=\"black\"/>\n",
       "</g>\n",
       "<!-- 140604674128248 -->\n",
       "<g class=\"node\" id=\"node4\"><title>140604674128248</title>\n",
       "<polygon fill=\"none\" points=\"137.5,-249.5 137.5,-285.5 289.5,-285.5 289.5,-249.5 137.5,-249.5\" stroke=\"black\"/>\n",
       "<text font-family=\"Times,serif\" font-size=\"14.00\" text-anchor=\"middle\" x=\"213.5\" y=\"-263.8\">140604674128248</text>\n",
       "</g>\n",
       "<!-- 140604674128248&#45;&gt;140604674126008 -->\n",
       "<g class=\"edge\" id=\"edge1\"><title>140604674128248-&gt;140604674126008</title>\n",
       "<path d=\"M213.5,-249.254C213.5,-241.363 213.5,-231.749 213.5,-222.602\" fill=\"none\" stroke=\"black\"/>\n",
       "<polygon fill=\"black\" points=\"217,-222.591 213.5,-212.591 210,-222.591 217,-222.591\" stroke=\"black\"/>\n",
       "</g>\n",
       "</g>\n",
       "</svg>"
      ],
      "text/plain": [
       "<IPython.core.display.SVG object>"
      ]
     },
     "metadata": {},
     "output_type": "display_data"
    }
   ],
   "source": [
    "model = Sequential()\n",
    "\n",
    "model.add(Dense(1, input_shape=(1,)))\n",
    "\n",
    "# Repite el vector temporalmente.\n",
    "model.add(RepeatVector(10))\n",
    "\n",
    "# Define LSTM configuration\n",
    "n_neurons = 1\n",
    "\n",
    "model.add(LSTM(n_neurons, return_sequences=True))\n",
    "# model.add(SimpleRNN(n_neurons, return_sequences=True))\n",
    "\n",
    "show_model(model)"
   ]
  },
  {
   "cell_type": "markdown",
   "metadata": {},
   "source": [
    "### Calculo de nº de parametros en una capa Densa\n",
    "\n",
    "=> Si A=1 y B=1 => Nº de parametros = 1*1 + 1 = 2\n",
    "\n",
    "### Calculo de nº de parametros en una capa oculta de la RNN\n",
    "\n",
    "=> Si M=1 y N=1 => Nº de parametros = 1^1 + 1 + 1*1 = 3\n",
    "\n",
    "¿Pero por que no me da la cuneta si son 12?\n",
    "\n",
    "las arquitecturas de SimpleRNN y LSTM no son iguales, asi que los parametros no van a ser los mismos.\n",
    "\n",
    "\n",
    "\n",
    "\n",
    "### [Calculo de nº de parametros en una capa LSTM](https://stackoverflow.com/questions/38080035/how-to-calculate-the-number-of-parameters-of-an-lstm-network)\n",
    "\n",
    "<p align=\"left\">\n",
    "<img src=\"LSTM.png\" style=\"align: left;\" width=\"400\">\n",
    "</p>\n",
    "\n",
    "* N = nº de neuronas.\n",
    "* D = dimensión de la entrada.\n",
    "\n",
    "**Nº de parametros = [(N + D + 1) * N] * 4**\n",
    "\n",
    "**Nota**: \n",
    "* 1 es el bias de cada Gate.\n",
    "* 4: se repite todo Por cada red. {W_forget, W_input, W_output, W_cell}\n",
    "\n",
    "Si N = 1 y I = 1\n",
    "\n",
    "Nº de parametros = [(1 + 1 + 1) * 1] * 4 = 3 * 4 = 12\n"
   ]
  },
  {
   "cell_type": "markdown",
   "metadata": {},
   "source": [
    "# Preguntas:"
   ]
  },
  {
   "cell_type": "markdown",
   "metadata": {},
   "source": [
    "1) En una RNN que aprendió un modelo de lenguaje. Donde esta la información aprendida:  \n",
    "- En los pesos?\n",
    "- En el estado?\n",
    "\n",
    "Re: Para mi son dos cosas distintas y depende de si se usa statefull cunado se entrena o no. Si no lo usa, la red aprendio igual que una MLP, no hay correlacion entre evaluacion de ejemplos. De esta manera el aprendizaje esta en los pesos, pero si usas esos pesos ahora para evaluar con statefull, calculo que el aprendizaje tambien esta en tiempo de evalucion, por que la red aprende a correlacionar entre evaluciones."
   ]
  },
  {
   "cell_type": "markdown",
   "metadata": {},
   "source": [
    "2) Como puedo condicionar la secuencia generada por un modelo de lenguaje?\n",
    "\n",
    "Re: Usando stafeful para guardas el estado entre evaluciones."
   ]
  },
  {
   "cell_type": "markdown",
   "metadata": {},
   "source": [
    "## Otra opción de one to many (O None to Many?)"
   ]
  },
  {
   "cell_type": "markdown",
   "metadata": {},
   "source": [
    "Otra opción es image captioning:\n",
    "https://www.analyticsvidhya.com/blog/2018/04/solving-an-image-captioning-task-using-deep-learning/\n",
    "\n",
    "![dogs_image_captioning.png](dogs_image_captioning.png)\n",
    "\n",
    "![image_captioning.png](image_captioning.png)"
   ]
  },
  {
   "cell_type": "code",
   "execution_count": null,
   "metadata": {},
   "outputs": [],
   "source": []
  }
 ],
 "metadata": {
  "kernelspec": {
   "display_name": "Python 3",
   "language": "python",
   "name": "python3"
  },
  "language_info": {
   "codemirror_mode": {
    "name": "ipython",
    "version": 3
   },
   "file_extension": ".py",
   "mimetype": "text/x-python",
   "name": "python",
   "nbconvert_exporter": "python",
   "pygments_lexer": "ipython3",
   "version": "3.6.0"
  },
  "toc": {
   "nav_menu": {},
   "number_sections": true,
   "sideBar": true,
   "skip_h1_title": true,
   "toc_cell": false,
   "toc_position": {},
   "toc_section_display": "block",
   "toc_window_display": false
  }
 },
 "nbformat": 4,
 "nbformat_minor": 2
}
