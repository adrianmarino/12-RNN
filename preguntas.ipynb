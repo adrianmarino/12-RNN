{
 "cells": [
  {
   "cell_type": "markdown",
   "metadata": {},
   "source": [
    "# Ejercicios RNN"
   ]
  },
  {
   "cell_type": "markdown",
   "metadata": {},
   "source": [
    "1) Asociar cada una de las opciones con la/las figuras que mas se ajusten:  \n",
    "a) Seq2Seq  \n",
    "b) return_sequences = true  \n",
    "c) return_sequences = false  \n",
    "d) MLP  \n",
    "e) return_states = true  \n",
    "f) Teacher forcing\n",
    "\n",
    "![rnn_types.jpeg](rnn_types.jpeg)"
   ]
  },
  {
   "cell_type": "markdown",
   "metadata": {},
   "source": [
    "2) Asociar cada una de las opciones con la/las figuras que mas se ajusten:  \n",
    "a) Analisis de sentimiento, clasificación de articulos periodísticos  \n",
    "b) Traducción  \n",
    "c) Image Captioning  \n",
    "d) Clasifición de tramas de video  \n",
    "e) MNIST\n",
    "f) POS (Part-of-Speech) - Analisis sintactico -\n",
    "g) NER (Named Entity Recognition) \n",
    "\n",
    "![rnn_types.jpeg](rnn_types.jpeg)"
   ]
  },
  {
   "cell_type": "markdown",
   "metadata": {},
   "source": [
    "3) ¿En que momento del entrenamiento Keras hace el reset_states por default?  \n",
    "a) Al final de cada epoch  \n",
    "b) Muestra a muestra  \n",
    "c) Al final de cada batch  \n",
    "d) Cada vez que se reentrena la red  \n",
    "e) Nunca"
   ]
  },
  {
   "cell_type": "markdown",
   "metadata": {},
   "source": [
    "4) Verdadero o Faslo  \n",
    "a) A diferencia de las CNNs, las RNNs no pueden entrenarse con un tamaño de batch mayor que 1 debido al caracter recursivo de las mismas.  \n",
    "b) Una RNN puede pensarse como un MLP, donde la profundidad depende de la cantidad de \"time-steps\"  \n",
    "c) Es mas simple entrenar una RNN que una CNN  \n",
    "d) Al igual que las CNNs, las RNNs tienen pesos compartidos  \n",
    "e) Al momento del reseteo del estado interno de la RNN, también se resetean los pesos $W_h$"
   ]
  },
  {
   "cell_type": "markdown",
   "metadata": {},
   "source": [
    "5) En cuales de las siguientes aplicaciones tendria sentido teoricamente usar una RNN con time-steps infinitos (de ser posible tecnicamente)  \n",
    "(En todos los casos suponga que tiene un dataset infinito)  \n",
    "a) Modelo de lenguaje entrenando caracter a caracter  \n",
    "b) Predicción de valores futuros de una función real  \n",
    "c) Traducción de texto de un idioma a otro  \n",
    "d) Ejemplo de paridad con longitud de mensaje de 5 bits  \n",
    "e) Clasificación de articulos periodisticos  \n",
    "f) Analisis de sentimiento  \n",
    "g) Clasificación de tramas de video"
   ]
  },
  {
   "cell_type": "markdown",
   "metadata": {},
   "source": [
    "6) En keras existe una opción llamada statefull. Si la configuramos en True, keras nunca reseteará el estado interno de la RNN. Supongamos que queremos entrenar una RNN para predecir el valor futuro de una acción usando todas los valores anteriores. Cual/es de los siguientes métodos es/son correcto/s."
   ]
  },
  {
   "cell_type": "markdown",
   "metadata": {},
   "source": [
    "a) statefull = True, time-steps=1, reset manual del estado al final de cada epoch  \n",
    "b) statefull = True, time-steps=10, avance = 10, reset manual del estado al final de cada epoch  \n",
    "c) statefull = True, time-steps=10, avance = 1, reset manual del estado al final de cada epoch  \n",
    "d) statefull = True, time-steps=10, avance = 1, reset manual del estado al final de cada batch  \n",
    "e) statefull = True, time-steps=10, avance = 10, reset manual del estado al final de cada batch  "
   ]
  },
  {
   "cell_type": "markdown",
   "metadata": {},
   "source": [
    "7) Verdadero o Falso  \n",
    "a) Las LSTM se introducen entre otras cosas para solucionar el problema de la memoria al largo plazo en las RNN simples.  \n",
    "b) Las LSTM son mucho mas efectivas que las GRUs para resolver la mayoría de los problemas.  \n",
    "c) Las GRUs poseen mayor cantidad de parametros entrenables que las LSTM  \n",
    "d) Para stackear LSTMs hay que colocar el flag de return_state en True  "
   ]
  }
 ],
 "metadata": {
  "kernelspec": {
   "display_name": "Python 3",
   "language": "python",
   "name": "python3"
  },
  "language_info": {
   "codemirror_mode": {
    "name": "ipython",
    "version": 3
   },
   "file_extension": ".py",
   "mimetype": "text/x-python",
   "name": "python",
   "nbconvert_exporter": "python",
   "pygments_lexer": "ipython3",
   "version": "3.6.0"
  }
 },
 "nbformat": 4,
 "nbformat_minor": 2
}
